{
  "cells": [
    {
      "cell_type": "markdown",
      "metadata": {
        "id": "LBSYoWbi-45k"
      },
      "source": [
        "# **Fine-tuning Wav2Vec2 for English ASR with 🤗 Transformers**"
      ]
    },
    {
      "cell_type": "markdown",
      "metadata": {
        "id": "V7YOT2mnUiea"
      },
      "source": [
        "\n",
        "[Fine-tuning Wav2Vec2 for English ASR with Transformers](https://colab.research.google.com/github/patrickvonplaten/notebooks/blob/master/Fine_tuning_Wav2Vec2_for_English_ASR.ipynb) 를 한국어로 번역하고 공부한 notebook 입니다.\n",
        "\n",
        "\n",
        "Wav2Vec2는 자동 음성 인식(ASR)을 위해 사전 훈련된 모델입니다.\n",
        "\n",
        "[September 2020](https://ai.facebook.com/blog/wav2vec-20-learning-the-structure-of-speech-from-raw-audio/) 에 Alexei Baevski, Michael Auli, and Alex Conneau  이 공개했습니다.\n",
        "\n",
        "Wav2Vec2는 Using a novel contrastive pretraining objective를 사용하여 레이블이 없는 50,000 시간 이상의 음성에서 강력한 음성 표현을 학습합니다\n",
        "\n",
        " [BERT's masked language modeling](http://jalammar.github.io/illustrated-bert/) 과 유사하게 이 모델은 feature vector를 transformer network에 전달하기 전에 무작위로 마스킹하여 상황에 맞는 speech representation을 학습합니다.\n",
        "\n",
        "![wav2vec2_structure](https://raw.githubusercontent.com/patrickvonplaten/scientific_images/master/wav2vec2.png)\n",
        "\n",
        "처음으로 사전 훈련 후 매우 적은 레이블이 지정된 음성 데이터에 대한 미세 조정이 최첨단 ASR 시스템의 state-of-the-art 달성하는 것으로 나타났습니다.\n",
        "\n",
        "레이블이 지정된 10분 정도의 데이터를  사용하여 Wav2Vec2 는 LibriSpeech 의 clean test set 에서 5% 미만의 단어 오류율(WER)을 산출합니다. \n",
        "\n",
        "[LibriSpeech](https://huggingface.co/datasets/librispeech_asr) - *cf.* with Table 9 of the [paper](https://arxiv.org/pdf/2006.11477.pdf)."
      ]
    },
    {
      "cell_type": "markdown",
      "metadata": {
        "id": "nT_QrfWtsxIz"
      },
      "source": [
        "이 notebook에서는 Wav2Vec2의 사전 훈련된 체크포인트가 모든 영어 ASR 데이터 세트에서 미세 조정되는 방법에 대해 자세히 설명합니다. \n",
        "\n",
        "이 노트북에서는 언어 모델을 사용하지 않고 Wav2Vec2를 미세 조정할 것입니다.\n",
        "\n",
        "종단 간 ASR 시스템으로 언어 모델 없이 Wav2Vec2를 사용하는 것이 훨씬 간단하며 독립형 Wav2Vec2 음향 모델이 인상적인 결과를 달성하는 것으로 나타났습니다. 데모 목적으로 5h의 훈련 데이터를 포함 하는 다소 작은 [Timit](https://huggingface.co/datasets/timit_asr)  데이터 세트 에서 \"base\" 크기의 [pretrained checkpoint](https://huggingface.co/facebook/wav2vec2-base) 를 미세 조정합니다 .\n",
        "\n"
      ]
    },
    {
      "cell_type": "markdown",
      "metadata": {
        "id": "Gx9OdDYrCtQ1"
      },
      "source": [
        "Wav2Vec2 은 Connectionist Temporal Classification (CTC)를 사용하여 fine tuned 됩니다.\n",
        "CTC는  sequence-to-sequence 문제와 주로Automatic Speech Recognition 및 handwriting recognition 에 대해 신경망을 훈련하는 데 사용되는 알고리즘입니다.\n",
        "\n",
        "CTC 설명이 잘되어 있는 blog post :  [Sequence Modeling with CTC (2017)](https://distill.pub/2017/ctc/) "
      ]
    },
    {
      "cell_type": "markdown",
      "metadata": {
        "id": "qW3J3rBizeds"
      },
      "source": [
        "colab에서 GPU 엑세스 하기 \n",
        "\n",
        "Google Colab Pro를 사용하면 V100 또는 P100 GPU  사용 가능 "
      ]
    },
    {
      "cell_type": "code",
      "execution_count": null,
      "metadata": {
        "colab": {
          "base_uri": "https://localhost:8080/"
        },
        "id": "SLAufgh_xxj7",
        "outputId": "9c5c7afe-529f-40bb-9650-f091f22d889c"
      },
      "outputs": [
        {
          "name": "stdout",
          "output_type": "stream",
          "text": [
            "Fri Apr 22 02:56:09 2022       \n",
            "+-----------------------------------------------------------------------------+\n",
            "| NVIDIA-SMI 460.32.03    Driver Version: 460.32.03    CUDA Version: 11.2     |\n",
            "|-------------------------------+----------------------+----------------------+\n",
            "| GPU  Name        Persistence-M| Bus-Id        Disp.A | Volatile Uncorr. ECC |\n",
            "| Fan  Temp  Perf  Pwr:Usage/Cap|         Memory-Usage | GPU-Util  Compute M. |\n",
            "|                               |                      |               MIG M. |\n",
            "|===============================+======================+======================|\n",
            "|   0  Tesla P100-PCIE...  Off  | 00000000:00:04.0 Off |                    0 |\n",
            "| N/A   35C    P0    28W / 250W |      0MiB / 16280MiB |      0%      Default |\n",
            "|                               |                      |                  N/A |\n",
            "+-------------------------------+----------------------+----------------------+\n",
            "                                                                               \n",
            "+-----------------------------------------------------------------------------+\n",
            "| Processes:                                                                  |\n",
            "|  GPU   GI   CI        PID   Type   Process name                  GPU Memory |\n",
            "|        ID   ID                                                   Usage      |\n",
            "|=============================================================================|\n",
            "|  No running processes found                                                 |\n",
            "+-----------------------------------------------------------------------------+\n"
          ]
        }
      ],
      "source": [
        "gpu_info = !nvidia-smi\n",
        "gpu_info = '\\n'.join(gpu_info)\n",
        "if gpu_info.find('failed') >= 0:\n",
        "  print('Not connected to a GPU')\n",
        "else:\n",
        "  print(gpu_info)"
      ]
    },
    {
      "cell_type": "markdown",
      "metadata": {
        "id": "e335hPmdtASZ"
      },
      "source": [
        "패키지 설치하기\n",
        "\n",
        "`datasets` \n",
        "\n",
        "`transformers`\n",
        "\n",
        "`librosa` : audio files load\n",
        "\n",
        "`jiwer` : fine-tuned 된 모델을 [word error rate (WER)](https://huggingface.co/metrics/wer) 로 평가"
      ]
    },
    {
      "cell_type": "code",
      "execution_count": null,
      "metadata": {
        "id": "c8eh87Hoee5d"
      },
      "outputs": [],
      "source": [
        "%%capture\n",
        "!pip install datasets==1.18.3\n",
        "!pip install transformers==4.11.3\n",
        "!pip install librosa\n",
        "!pip install jiwer"
      ]
    },
    {
      "cell_type": "markdown",
      "metadata": {
        "id": "8_6kYmDMH9lR"
      },
      "source": [
        "훈련 중에 훈련 체크포인트를 Hugging Face [🤗 Hub](https://huggingface.co/) 에 직접 업로드하는 것이 좋음\n",
        "\n",
        "Hub에는 버전 제어가 통합되어 있으므로 학습 중에 모델 체크포인트가 손실되지 않도록 할 수 있음\n",
        "\n",
        "이를 위해 Hugging Face 웹사이트에서 인증 토큰을 저장\n",
        "\n",
        "아직 없다면  sign up [here](https://huggingface.co/join) \n"
      ]
    },
    {
      "cell_type": "code",
      "execution_count": null,
      "metadata": {
        "colab": {
          "base_uri": "https://localhost:8080/",
          "height": 498
        },
        "id": "zFLBDyzQIA3R",
        "outputId": "53688d95-d6f7-407d-e8b8-a00d9c3cf0d9"
      },
      "outputs": [
        {
          "name": "stdout",
          "output_type": "stream",
          "text": [
            "Login successful\n",
            "Your token has been saved to /root/.huggingface/token\n",
            "\u001b[1m\u001b[31mAuthenticated through git-credential store but this isn't the helper defined on your machine.\n",
            "You might have to re-authenticate when pushing to the Hugging Face Hub. Run the following command in your terminal in case you want to set this credential helper as the default\n",
            "\n",
            "git config --global credential.helper store\u001b[0m\n"
          ]
        }
      ],
      "source": [
        "from huggingface_hub import notebook_login\n",
        "\n",
        "notebook_login()"
      ]
    },
    {
      "cell_type": "markdown",
      "metadata": {
        "id": "zCyw5D23IQ1F"
      },
      "source": [
        "Git-LFS 설치 :  model checkpoints 업로드"
      ]
    },
    {
      "cell_type": "code",
      "execution_count": null,
      "metadata": {
        "id": "Q9BnQDhOITBC"
      },
      "outputs": [],
      "source": [
        "%%capture\n",
        "!apt install git-lfs"
      ]
    },
    {
      "cell_type": "markdown",
      "metadata": {
        "id": "Mn9swf6EQ9Vd"
      },
      "source": [
        "Timit는 일반적으로 PER(phoneme error rate 음소 오류율)을 사용하여 평가\n",
        "\n",
        "but ASR에서 가장 일반적인 측정 기준은 WER(word error rate 단어 오류율)\n",
        "\n",
        " 일반적으로 WER을 많이 사용하기 때문에 여기서는 WER을 사용하여 모델을 평가\n",
        "\n"
      ]
    },
    {
      "cell_type": "markdown",
      "metadata": {
        "id": "0mW-C1Nt-j7k"
      },
      "source": [
        "## Prepare Data, Tokenizer, Feature Extractor"
      ]
    },
    {
      "cell_type": "markdown",
      "metadata": {
        "id": "BeBosnY9BH3e"
      },
      "source": [
        "ASR 모델은 음성을 텍스트로 변환하기 때문에  feature extractor, tokenizer 둘 다 필요\n",
        "\n",
        "\n",
        "feature extractor는 speech signal를 모델의 입력 형식( 예: feature vector)으로 처리하는데 필요하고\n",
        "\n",
        " tokenizer는 모델의 출력 형식을 텍스트로 처리하는데 필요함\n",
        "\n",
        "\n",
        "\n",
        "🤗 Transformers에서  Wav2Vec2 model은 tokenizer와 feature extractor를 제공\n",
        "\n",
        " Tokenizer-[Wav2Vec2CTCTokenizer](https://huggingface.co/transformers/master/model_doc/wav2vec2.html#wav2vec2ctctokenizer)\n",
        "\n",
        " Feature extractor - [Wav2Vec2FeatureExtractor](https://huggingface.co/transformers/master/model_doc/wav2vec2.html#wav2vec2featureextractor).\n",
        "\n",
        "\n",
        "먼저 모델의 예측 디코딩을 담당하는 토크나이저 Wav2Vec2CTCTokenizer 생성 "
      ]
    },
    {
      "cell_type": "markdown",
      "metadata": {
        "id": "sEXEWEJGQPqD"
      },
      "source": [
        "### Create Wav2Vec2CTCTokenizer"
      ]
    },
    {
      "cell_type": "markdown",
      "metadata": {
        "id": "tWmMikuNEKl_"
      },
      "source": [
        "[pretrained Wav2Vec2 checkpoint]( ) 는 speech signal을  sequence of context representations에 매핑합니다.(위의 Fig)\n",
        "\n",
        "fine-tuned Wav2Vec2 checkpoint는 이 sequence of context representations 와 대응하는 *transcription가 매핑되고 선형 레이어가 transformer block (노란색으로 표시) 위에 추가 되어야합니다.\n",
        "\n",
        "( *transcription(전사)란? 구어(spoken language)와 관련된 연구에서 녹음된 음성 데이터를 문자로 표현하는 작업)\n",
        "\n",
        "\n",
        "\n",
        "\n",
        " 이 선형 계층은 각 context representations 을  token class로 분류하는 데 사용됩니다. \n",
        " \n",
        "이는 사전 훈련 후 선형 계층이 추가 분류를 위해 BERT의 임베딩 위에 추가되는 방식과 유사합니다. \n",
        " \n",
        " 참조 . [blog post](https://huggingface.co/blog/warm-starting-encoder-decoder). 의 \"BERT\" 섹션.\n",
        "\n",
        "이 레이어의 출력 크기는 Wav2Vec2의 사전 훈련 작업에 의존 하지 않고 미세 조정에 사용되는 레이블이 지정된 데이터 세트에만 의존하는 어휘의 토큰 수에 해당합니다.\n",
        "\n",
        "따라서 첫 번째 단계에서 Timit를 살펴보고 데이터 세트의 전사를 기반으로 어휘를 정의합니다.\n",
        "\n",
        "먼저 데이터세트를 로드하고 구조를 살펴보겠습니다.\n"
      ]
    },
    {
      "cell_type": "markdown",
      "metadata": {
        "id": "bee4g9rpLxll"
      },
      "source": [
        "데이터세트를 로드하고 구조를 살펴보기"
      ]
    },
    {
      "cell_type": "code",
      "execution_count": null,
      "metadata": {
        "colab": {
          "base_uri": "https://localhost:8080/",
          "height": 202,
          "referenced_widgets": [
            "c3acec27d4994feeb92501f7f4be3fd5",
            "f01282c4cc5b459e925bd7d64e36e4d4",
            "f44d6bfb7a1845a4a2baff0751e47aed",
            "6b79423c18ea49aeae61013c75cd9cd5",
            "95224971c21d472782b558d16b97fe62",
            "b1f8282f2561442fa51938ca1151b847",
            "1db5bb4f3ebb4e66b4598e770c62d4fc",
            "e4f70dfb2e6347c1bb9fc44caa9a67fb",
            "a044c1a46fc04657a8737a330eca034c",
            "05bb6a8273394a7dbc42532e6578e806",
            "e86b64f6ce93448c84fb7adf1bad781f",
            "bbd6ad49bef547cba71b6a3c8fd11810",
            "c9fbbc38facc4debb61759a42eb2ff8b",
            "dd240f8b59994a659abaab6ba84cc864",
            "f3173b5418e540509fb7874f32b34339",
            "b657f81fa0a7479bb054adcd294a7559",
            "97c0aa533c614b5b8c4cc7b800fcfb23",
            "e84d5dc0215443149fd2d818fe50b822",
            "6c9bb5a52d794f74a8310e269dfc4221",
            "5bfbc70ce26b4fe381457eea072c9109",
            "b99c8030459444339250ea183c6abff2",
            "d5dbf9e46de04880bb803d8194ec4008",
            "a66c0f2c79a84962b9305f8804338b53",
            "9a8b97fe319946d081825eff285b27ea",
            "057ec9fb42ee4ea3a383ad1d441e633d",
            "046dfcc9bf644510961293d0df19f1d3",
            "cf3e16f83b6841e3834f1713bc69313e",
            "c300e43d5adc4f9490760172099de244",
            "c656561418894fb683e255bd5ab8f945",
            "70586f0c818c435aa22c6acab870a4c1",
            "f0c29c8412f340b3ba1ca5f6d1b0d74a",
            "9a7070142057491890f8e95dbe89ee09",
            "c79ab1e74ade4f1fbedb47722535fa2f",
            "777aa1c88f06493789b66ba8c07fd446",
            "37bdf345b44a4ad09322bb1218a63d45",
            "8e933253401844ed81281df83d5241bd",
            "931c80f43bac48bbaf91387156f3240a",
            "2fa32f9534204258a68790c1cca59fb9",
            "13d8fbf209fb4a039422e6072ca186ae",
            "56ecdcfc797846de95a4e247f47dd4f3",
            "98c0aee9209e49889734013b7bdde230",
            "eeb7defcf34e4c4cab6e864c92b153f4",
            "5cfa9628ded9411d8dc9a1c13698649b",
            "3415e867ca5f49a78c01030c08bad148",
            "6b0b3729f3914157b6b245aed074fb6c",
            "6839ab0bb19648778119dece48bccd92",
            "3ef71c3e8f4649a780ee7253fc35d5c5",
            "c30d1fb8eb5f44d19e8fa7ac86b0040f",
            "64445549a7c24b7e966afabf561b2580",
            "a7b42f4af86c49f88e69d0ad4201a031",
            "945d4e5c413f40809ff7c6df0d1914e3",
            "2cc07a25d5524daa85e28ea9ec794aca",
            "e1b0b67a9aa64a7487599d07d4335d51",
            "9699ae10688f442791552475f666e4b6",
            "a0803d936e854ff89ba4bd9f72ef4d5e",
            "bc155a38ce8d40fab0565e4264c77d26",
            "e51873a525fa4b96a594c7700ec95009",
            "a0b34eff703c48608f5068443fe0ddcc",
            "d97e0d687ed94aafa7846a6b5f355072",
            "059094a1063b4e048684b099c253a94a",
            "1bbf0962c1424e2cb1c89034a96a21c0",
            "5793abfacd2345288d4800baa708e960",
            "1dfdad44b9c5483d8842ccbfd9bb108c",
            "e5b8e13bcf7d40e0ad3c4187de8b198e",
            "15cb36a1e4b04c68b4a669133b075428",
            "b0d0ceec2814409c80839181dca59a4c"
          ]
        },
        "id": "2MMXcWFFgCXU",
        "outputId": "445841c5-0075-4758-b88f-9b0adc7f90e8"
      },
      "outputs": [
        {
          "data": {
            "application/vnd.jupyter.widget-view+json": {
              "model_id": "c3acec27d4994feeb92501f7f4be3fd5",
              "version_major": 2,
              "version_minor": 0
            },
            "text/plain": [
              "Downloading:   0%|          | 0.00/2.40k [00:00<?, ?B/s]"
            ]
          },
          "metadata": {},
          "output_type": "display_data"
        },
        {
          "data": {
            "application/vnd.jupyter.widget-view+json": {
              "model_id": "bbd6ad49bef547cba71b6a3c8fd11810",
              "version_major": 2,
              "version_minor": 0
            },
            "text/plain": [
              "Downloading:   0%|          | 0.00/1.06k [00:00<?, ?B/s]"
            ]
          },
          "metadata": {},
          "output_type": "display_data"
        },
        {
          "name": "stdout",
          "output_type": "stream",
          "text": [
            "Downloading and preparing dataset timit_asr/clean (download: 828.75 MiB, generated: 7.90 MiB, post-processed: Unknown size, total: 836.65 MiB) to /root/.cache/huggingface/datasets/timit_asr/clean/2.0.1/b11b576ddcccbcefa7c9f0c4e6c2a43756f3033adffe0fb686aa61043d0450ad...\n"
          ]
        },
        {
          "data": {
            "application/vnd.jupyter.widget-view+json": {
              "model_id": "a66c0f2c79a84962b9305f8804338b53",
              "version_major": 2,
              "version_minor": 0
            },
            "text/plain": [
              "Downloading:   0%|          | 0.00/869M [00:00<?, ?B/s]"
            ]
          },
          "metadata": {},
          "output_type": "display_data"
        },
        {
          "data": {
            "application/vnd.jupyter.widget-view+json": {
              "model_id": "777aa1c88f06493789b66ba8c07fd446",
              "version_major": 2,
              "version_minor": 0
            },
            "text/plain": [
              "0 examples [00:00, ? examples/s]"
            ]
          },
          "metadata": {},
          "output_type": "display_data"
        },
        {
          "data": {
            "application/vnd.jupyter.widget-view+json": {
              "model_id": "6b0b3729f3914157b6b245aed074fb6c",
              "version_major": 2,
              "version_minor": 0
            },
            "text/plain": [
              "0 examples [00:00, ? examples/s]"
            ]
          },
          "metadata": {},
          "output_type": "display_data"
        },
        {
          "name": "stdout",
          "output_type": "stream",
          "text": [
            "Dataset timit_asr downloaded and prepared to /root/.cache/huggingface/datasets/timit_asr/clean/2.0.1/b11b576ddcccbcefa7c9f0c4e6c2a43756f3033adffe0fb686aa61043d0450ad. Subsequent calls will reuse this data.\n"
          ]
        },
        {
          "data": {
            "application/vnd.jupyter.widget-view+json": {
              "model_id": "bc155a38ce8d40fab0565e4264c77d26",
              "version_major": 2,
              "version_minor": 0
            },
            "text/plain": [
              "  0%|          | 0/2 [00:00<?, ?it/s]"
            ]
          },
          "metadata": {},
          "output_type": "display_data"
        }
      ],
      "source": [
        "from datasets import load_dataset, load_metric\n",
        "\n",
        "timit = load_dataset(\"timit_asr\")"
      ]
    },
    {
      "cell_type": "code",
      "execution_count": null,
      "metadata": {
        "colab": {
          "base_uri": "https://localhost:8080/"
        },
        "id": "QbIM-L0xdvf4",
        "outputId": "7b02750c-2f41-4fb6-85af-1feed487833f"
      },
      "outputs": [
        {
          "data": {
            "text/plain": [
              "DatasetDict({\n",
              "    train: Dataset({\n",
              "        features: ['file', 'audio', 'text', 'phonetic_detail', 'word_detail', 'dialect_region', 'sentence_type', 'speaker_id', 'id'],\n",
              "        num_rows: 4620\n",
              "    })\n",
              "    test: Dataset({\n",
              "        features: ['file', 'audio', 'text', 'phonetic_detail', 'word_detail', 'dialect_region', 'sentence_type', 'speaker_id', 'id'],\n",
              "        num_rows: 1680\n",
              "    })\n",
              "})"
            ]
          },
          "execution_count": 7,
          "metadata": {},
          "output_type": "execute_result"
        }
      ],
      "source": [
        "timit"
      ]
    },
    {
      "cell_type": "markdown",
      "metadata": {
        "id": "ri5y5N_HMANq"
      },
      "source": [
        "많은 ASR 데이터 세트 는 각 오디오 파일에 대해 대상 텍스트만 제공\n",
        "\n",
        "Timit은 'phonetic_detail' 등과 같은 각 오디오 파일에 대해 훨씬 더 많은 정보를 제공\n",
        "\n",
        "여기서는 전사된 텍스트 데이터만 미세 조정을 위해 사용 "
      ]
    },
    {
      "cell_type": "code",
      "execution_count": null,
      "metadata": {
        "id": "kbyq6lDgQc2a"
      },
      "outputs": [],
      "source": [
        "#file', 'audio', 'text'를 제외하고 제거\n",
        "timit = timit.remove_columns([\"phonetic_detail\", \"word_detail\", \"dialect_region\", \"id\", \"sentence_type\", \"speaker_id\"])"
      ]
    },
    {
      "cell_type": "markdown",
      "metadata": {
        "id": "Go9Hq4e4NDT9"
      },
      "source": [
        "데이터 세트의 일부 랜덤 샘플을 출력하는 함수\n",
        "\n",
        "전사가 어떤 문장인지 확인"
      ]
    },
    {
      "cell_type": "code",
      "execution_count": null,
      "metadata": {
        "id": "72737oog2F6U"
      },
      "outputs": [],
      "source": [
        "from datasets import ClassLabel\n",
        "import random\n",
        "import pandas as pd\n",
        "from IPython.display import display, HTML\n",
        "\n",
        "def show_random_elements(dataset, num_examples=10):\n",
        "    assert num_examples <= len(dataset), \"Can't pick more elements than there are in the dataset.\"\n",
        "    picks = []\n",
        "    for _ in range(num_examples):\n",
        "        pick = random.randint(0, len(dataset)-1)\n",
        "        while pick in picks:\n",
        "            pick = random.randint(0, len(dataset)-1)\n",
        "        picks.append(pick)\n",
        "    \n",
        "    df = pd.DataFrame(dataset[picks])\n",
        "    display(HTML(df.to_html()))"
      ]
    },
    {
      "cell_type": "code",
      "execution_count": null,
      "metadata": {
        "colab": {
          "base_uri": "https://localhost:8080/",
          "height": 363
        },
        "id": "K_JUmf3G3b9S",
        "outputId": "c510386b-92ba-48bb-cf2b-e1c8ee0fb875"
      },
      "outputs": [
        {
          "data": {
            "text/html": [
              "<table border=\"1\" class=\"dataframe\">\n",
              "  <thead>\n",
              "    <tr style=\"text-align: right;\">\n",
              "      <th></th>\n",
              "      <th>text</th>\n",
              "    </tr>\n",
              "  </thead>\n",
              "  <tbody>\n",
              "    <tr>\n",
              "      <th>0</th>\n",
              "      <td>She had your dark suit in greasy wash water all year.</td>\n",
              "    </tr>\n",
              "    <tr>\n",
              "      <th>1</th>\n",
              "      <td>Don't ask me to carry an oily rag like that.</td>\n",
              "    </tr>\n",
              "    <tr>\n",
              "      <th>2</th>\n",
              "      <td>We welcome many new students each year.</td>\n",
              "    </tr>\n",
              "    <tr>\n",
              "      <th>3</th>\n",
              "      <td>Don't ask me to carry an oily rag like that.</td>\n",
              "    </tr>\n",
              "    <tr>\n",
              "      <th>4</th>\n",
              "      <td>Some observers speculated that this might be his revenge on his home town.</td>\n",
              "    </tr>\n",
              "    <tr>\n",
              "      <th>5</th>\n",
              "      <td>She had your dark suit in greasy wash water all year.</td>\n",
              "    </tr>\n",
              "    <tr>\n",
              "      <th>6</th>\n",
              "      <td>Where can we get this cereal he likes so much?</td>\n",
              "    </tr>\n",
              "    <tr>\n",
              "      <th>7</th>\n",
              "      <td>The toddler found a clamshell near the camp site.</td>\n",
              "    </tr>\n",
              "    <tr>\n",
              "      <th>8</th>\n",
              "      <td>Challenge each general's intelligence.</td>\n",
              "    </tr>\n",
              "    <tr>\n",
              "      <th>9</th>\n",
              "      <td>Count the number of teaspoons of soysauce that you add.</td>\n",
              "    </tr>\n",
              "  </tbody>\n",
              "</table>"
            ],
            "text/plain": [
              "<IPython.core.display.HTML object>"
            ]
          },
          "metadata": {},
          "output_type": "display_data"
        }
      ],
      "source": [
        "show_random_elements(timit[\"train\"].remove_columns([\"audio\", \"file\"]), num_examples=10)"
      ]
    },
    {
      "cell_type": "markdown",
      "metadata": {
        "id": "fowcOllGNNju"
      },
      "source": [
        "전사는 깨끗해 보임\n",
        "\n",
        "내용이 대화보다는 서면 텍스트처럼 보이는데 [Timit](https://huggingface.co/datasets/timit_asr) 이 read speech corpus이기 때문 \n",
        "\n",
        "\n",
        "전사에 ,.?!;:. 와 같은 특수 문자가 포함되어 있음\n",
        "\n",
        "언어 모델이 없으면 음성 청크를 이러한 특수 문자로 분류하는 것이 더 어려움.\n",
        "\n",
        "왜냐하면 특수 문자들은 특징적인 사운드 단위에 실제로 해당하지 않기 때문\n",
        "\n",
        "ex) 문자 \"s\"는 다소 명확한 소리가 나는 반면 특수 문자 \".\"는 그렇지 않음\n",
        "\n",
        "또한 음성 신호의 의미를 이해하기 위해 일반적으로 전사에 특수 문자를 포함할 필요가 없음.\n",
        "\n",
        "--> 따라서 텍스트 특수문자를 제거하고 소문자로 정규화"
      ]
    },
    {
      "cell_type": "code",
      "execution_count": null,
      "metadata": {
        "id": "svKzVJ_hQGK6"
      },
      "outputs": [],
      "source": [
        "import re\n",
        "chars_to_ignore_regex = '[\\,\\?\\.\\!\\-\\;\\:\\\"]'\n",
        "#전사를 특수문자를 제거하고 소문자로 제거하는 함수\n",
        "def remove_special_characters(batch):\n",
        "    batch[\"text\"] = re.sub(chars_to_ignore_regex, '', batch[\"text\"]).lower() + \" \"\n",
        "    return batch"
      ]
    },
    {
      "cell_type": "code",
      "execution_count": null,
      "metadata": {
        "colab": {
          "base_uri": "https://localhost:8080/",
          "height": 81,
          "referenced_widgets": [
            "8289705f3fc24e6694774a73c5534da9",
            "48578f6bccbc4eff991630478bedddc5",
            "7875a66d4849441e91ee3ebd56e00671",
            "e7c3d9147cc14d27a97426812eaa750e",
            "aa19e352695b45c09349db2a2f1b3c34",
            "d4db2218d8ed4ea1b6de4a4ee3bf7397",
            "0548c6a531e44b43b2ddb92d0dd284b8",
            "31297c5ed702415d9b969da0d9e33538",
            "a997425f41b84cb580f04a11d447db3e",
            "3cdabb7eba01438db62c217731cc1e47",
            "968b1921ae2a42bc826c709d737bdefb",
            "fcd3db1683414efd9fec86d3b65c0606",
            "93392ee5467a43ff937dc34785528472",
            "cd0cc19b98bf4eeeb079d2673f4456a7",
            "aa359bce9c75442e978b7f70605d2338",
            "49214d801dc944ed919027ef68f2c617",
            "3ab8c1f4389a404997148f991d1693ba",
            "a4c6ed8fd59947ad874427db20add89d",
            "7bb8fd0ab9914b0d8c10b8013e4e8bf3",
            "65c3767f147a4f0189d8268d7b4acb0a",
            "d005a9303184495795df11fade62a79b",
            "be05580d016e4990a83cf4fb4698fc24"
          ]
        },
        "id": "XIHocAuTQbBR",
        "outputId": "b251c288-6474-4eac-b19f-4fbe7d438d7a"
      },
      "outputs": [
        {
          "data": {
            "application/vnd.jupyter.widget-view+json": {
              "model_id": "8289705f3fc24e6694774a73c5534da9",
              "version_major": 2,
              "version_minor": 0
            },
            "text/plain": [
              "0ex [00:00, ?ex/s]"
            ]
          },
          "metadata": {},
          "output_type": "display_data"
        },
        {
          "data": {
            "application/vnd.jupyter.widget-view+json": {
              "model_id": "fcd3db1683414efd9fec86d3b65c0606",
              "version_major": 2,
              "version_minor": 0
            },
            "text/plain": [
              "0ex [00:00, ?ex/s]"
            ]
          },
          "metadata": {},
          "output_type": "display_data"
        }
      ],
      "source": [
        "timit = timit.map(remove_special_characters)"
      ]
    },
    {
      "cell_type": "code",
      "execution_count": null,
      "metadata": {
        "colab": {
          "base_uri": "https://localhost:8080/",
          "height": 363
        },
        "id": "RBDRAAYxRE6n",
        "outputId": "e76ee1ea-71b8-4cc7-8b37-6c1aed2d5205"
      },
      "outputs": [
        {
          "data": {
            "text/html": [
              "<table border=\"1\" class=\"dataframe\">\n",
              "  <thead>\n",
              "    <tr style=\"text-align: right;\">\n",
              "      <th></th>\n",
              "      <th>text</th>\n",
              "    </tr>\n",
              "  </thead>\n",
              "  <tbody>\n",
              "    <tr>\n",
              "      <th>0</th>\n",
              "      <td>as such it acts as an anchor for the people</td>\n",
              "    </tr>\n",
              "    <tr>\n",
              "      <th>1</th>\n",
              "      <td>the lifeboats were stuck fast</td>\n",
              "    </tr>\n",
              "    <tr>\n",
              "      <th>2</th>\n",
              "      <td>do this exercise six times each class period</td>\n",
              "    </tr>\n",
              "    <tr>\n",
              "      <th>3</th>\n",
              "      <td>biologists use radioactive isotopes to study microorganisms</td>\n",
              "    </tr>\n",
              "    <tr>\n",
              "      <th>4</th>\n",
              "      <td>another stock vaudeville gag ran mother is home sick in bed with the doctor</td>\n",
              "    </tr>\n",
              "    <tr>\n",
              "      <th>5</th>\n",
              "      <td>then he heard the outer door closing</td>\n",
              "    </tr>\n",
              "    <tr>\n",
              "      <th>6</th>\n",
              "      <td>rob made hungarian goulash for dinner and gooseberry pie for dessert</td>\n",
              "    </tr>\n",
              "    <tr>\n",
              "      <th>7</th>\n",
              "      <td>please shorten this skirt for joyce</td>\n",
              "    </tr>\n",
              "    <tr>\n",
              "      <th>8</th>\n",
              "      <td>marksmanship example</td>\n",
              "    </tr>\n",
              "    <tr>\n",
              "      <th>9</th>\n",
              "      <td>i gave them several choices and let them set the priorities</td>\n",
              "    </tr>\n",
              "  </tbody>\n",
              "</table>"
            ],
            "text/plain": [
              "<IPython.core.display.HTML object>"
            ]
          },
          "metadata": {},
          "output_type": "display_data"
        }
      ],
      "source": [
        "#전처리된 전사 살펴보기\n",
        "show_random_elements(timit[\"train\"].remove_columns([\"audio\", \"file\"]))"
      ]
    },
    {
      "cell_type": "markdown",
      "metadata": {
        "id": "jwfaptH5RJwA"
      },
      "source": [
        "CTC에서는 speech chunks를 문자로 분류하는 것이 일반적이므로 여기에서도 동일한 작업을 수행\n",
        "\n",
        "훈련 및 테스트 데이터의 모든 고유한 문자를 추출하고 이 문자 집합에서 vocabulary 를 구축\n",
        "\n",
        "모든 전사를 하나의 긴 전사로 연결한 다음 문자열을 문자 집합으로 변환하는 매핑 함수를 사용\n",
        "\n",
        "매핑 함수가 모든 전사에 한 번에 액세스할 수 있도록 map(...)함수에 인수 batched=True를 전달"
      ]
    },
    {
      "cell_type": "code",
      "execution_count": null,
      "metadata": {
        "id": "LwCshNbbeRZR"
      },
      "outputs": [],
      "source": [
        "def extract_all_chars(batch):\n",
        "  all_text = \" \".join(batch[\"text\"])\n",
        "  vocab = list(set(all_text))\n",
        "  return {\"vocab\": [vocab], \"all_text\": [all_text]}"
      ]
    },
    {
      "cell_type": "code",
      "execution_count": null,
      "metadata": {
        "colab": {
          "base_uri": "https://localhost:8080/",
          "height": 81,
          "referenced_widgets": [
            "33624fb243714cf5ae01cbc50e27346c",
            "f8d7b55784e34142bb842d3b1de8b0bd",
            "2290c1324766465ba4a107a76f06fe9b",
            "1945701923cb4f7f85c5388cbb2a889f",
            "fe676765ed434b52ac2e9bf75993c9bf",
            "4afe8632fc544090a2954e782e3b5949",
            "9134cf6b3c214dbbba4ad0ece0d425e2",
            "3fbf4cc9641b4e73bfa14f099cb3325a",
            "ca4371b89ea848afa9803a8ed8a2923f",
            "7b50a98fd541491d8a248176eedeaf17",
            "bf18eb6221b94c53982aaf6f98a7005d",
            "7f1b2b6749f74593bb0670617544dee8",
            "e4c1934f7dff426bbd81afcb27882d66",
            "579d41d99fbe4b20a35258e8ea0f940a",
            "472f903d35f143c99e72a65d84422e5b",
            "50d9d2852f124f09b5fa2eb3fc4ef2a0",
            "ec429d69aa0d4251b381c1e03f574900",
            "f9a36ecb7131471c962eca0ede0bad58",
            "b2192e6792824923b1f67e3fa7fd7019",
            "3ffab2b968034af782390ba7098a50e3",
            "299012e640774e60a0155e58435bd365",
            "ad0047a5034a4dfa9e6e8df374e31693"
          ]
        },
        "id": "_m6uUjjcfbjH",
        "outputId": "9c34871c-f2d7-41db-9d9d-ccc06072206f"
      },
      "outputs": [
        {
          "data": {
            "application/vnd.jupyter.widget-view+json": {
              "model_id": "33624fb243714cf5ae01cbc50e27346c",
              "version_major": 2,
              "version_minor": 0
            },
            "text/plain": [
              "  0%|          | 0/1 [00:00<?, ?ba/s]"
            ]
          },
          "metadata": {},
          "output_type": "display_data"
        },
        {
          "data": {
            "application/vnd.jupyter.widget-view+json": {
              "model_id": "7f1b2b6749f74593bb0670617544dee8",
              "version_major": 2,
              "version_minor": 0
            },
            "text/plain": [
              "  0%|          | 0/1 [00:00<?, ?ba/s]"
            ]
          },
          "metadata": {},
          "output_type": "display_data"
        }
      ],
      "source": [
        "vocabs = timit.map(extract_all_chars, batched=True, batch_size=-1, keep_in_memory=True, remove_columns=timit.column_names[\"train\"])"
      ]
    },
    {
      "cell_type": "markdown",
      "metadata": {
        "id": "7oVgE8RZSJNP"
      },
      "source": [
        "이제 훈련 데이터 세트와 테스트 데이터 세트에 있는 모든 고유한 문자의 합집합으로 만듦 \n",
        "\n",
        "결과 리스트를 열거된 사전으로 변환"
      ]
    },
    {
      "cell_type": "code",
      "execution_count": null,
      "metadata": {
        "id": "aQfneNsmlJI0"
      },
      "outputs": [],
      "source": [
        "vocab_list = list(set(vocabs[\"train\"][\"vocab\"][0]) | set(vocabs[\"test\"][\"vocab\"][0]))"
      ]
    },
    {
      "cell_type": "code",
      "execution_count": null,
      "metadata": {
        "colab": {
          "base_uri": "https://localhost:8080/"
        },
        "id": "_0kRndSvqaKk",
        "outputId": "9fc5240d-c5c4-4d85-ec2e-920d4a870bf0"
      },
      "outputs": [
        {
          "data": {
            "text/plain": [
              "{' ': 14,\n",
              " \"'\": 20,\n",
              " 'a': 1,\n",
              " 'b': 0,\n",
              " 'c': 15,\n",
              " 'd': 27,\n",
              " 'e': 11,\n",
              " 'f': 19,\n",
              " 'g': 2,\n",
              " 'h': 17,\n",
              " 'i': 21,\n",
              " 'j': 25,\n",
              " 'k': 12,\n",
              " 'l': 22,\n",
              " 'm': 10,\n",
              " 'n': 3,\n",
              " 'o': 9,\n",
              " 'p': 5,\n",
              " 'q': 18,\n",
              " 'r': 6,\n",
              " 's': 4,\n",
              " 't': 8,\n",
              " 'u': 13,\n",
              " 'v': 7,\n",
              " 'w': 24,\n",
              " 'x': 26,\n",
              " 'y': 16,\n",
              " 'z': 23}"
            ]
          },
          "execution_count": 17,
          "metadata": {},
          "output_type": "execute_result"
        }
      ],
      "source": [
        "vocab_dict = {v: k for k, v in enumerate(vocab_list)}\n",
        "vocab_dict"
      ]
    },
    {
      "cell_type": "markdown",
      "metadata": {
        "id": "JOSzbvs9SXT1"
      },
      "source": [
        "알파벳의 모든 문자가 데이터 세트에서 발생한다는 것을 알수 있음\n",
        "\n",
        "그리고 \" \"(띄어쓰기) 와 특수 문자  와 '도 추출 됨\n",
        "\n",
        "두 가지 이유로 이 특수문자는 제외하지 않음\n",
        "\n",
        "-  모델은 단어가 끝나는 시점을 예측하는 방법을 학습해야함. 그렇지 않으면 모델 예측은 항상 하나의 시퀀스 문자가 되어 단어를 서로 분리 하는 것이 불가능\n",
        "- 영어에서는 ' 와 같이 매우 다른 의미를 가진 단어를 구별하기 위해 문자 를 유지해야 합니다.ex ) \"it's\"\"its\"\n",
        "\n",
        "\n",
        "띄어쓰기 \" \"자체 토큰 클래스가 있음을 더 명확하게 하기 위해 더 눈에 띄는 문자인 \"|\" 로 치환 합니다.\n",
        "\n",
        "또한 모델이 나중에 Timit의 훈련 세트에서 만나지 못한 문자를 처리할 수 있도록 \"unknown\" 토큰도 추가합니다\n",
        "\n",
        "\n",
        "---\n",
        "마지막으로 CTC의 *blank token*\" 에 해당하는 패딩 토큰도 추가합니다 . \n",
        "\n",
        "blank token 은 CTC 알고리즘의 핵심 구성 요소입니다. \n",
        "\n",
        "자세한 내용 \"Alignment\" section [here](https://distill.pub/2017/ctc/). .\n",
        "\n"
      ]
    },
    {
      "cell_type": "code",
      "execution_count": null,
      "metadata": {
        "id": "npbIbBoLgaFX"
      },
      "outputs": [],
      "source": [
        "vocab_dict[\"|\"] = vocab_dict[\" \"]\n",
        "del vocab_dict[\" \"]"
      ]
    },
    {
      "cell_type": "code",
      "execution_count": null,
      "metadata": {
        "colab": {
          "base_uri": "https://localhost:8080/"
        },
        "id": "znF0bNunsjbl",
        "outputId": "b0006769-e198-449f-f54d-e60acfab1990"
      },
      "outputs": [
        {
          "data": {
            "text/plain": [
              "30"
            ]
          },
          "execution_count": 19,
          "metadata": {},
          "output_type": "execute_result"
        }
      ],
      "source": [
        "vocab_dict[\"[UNK]\"] = len(vocab_dict)\n",
        "vocab_dict[\"[PAD]\"] = len(vocab_dict)\n",
        "len(vocab_dict)"
      ]
    },
    {
      "cell_type": "markdown",
      "metadata": {
        "id": "SFPGfet8U5sL"
      },
      "source": [
        "\n",
        "이 vacabulary는 30개의 토큰으로 구성됩니다. \n",
        "\n",
        "즉, 사전 훈련된 Wav2Vec2 체크포인트 위에 추가할 선형 레이어의 출력 차원은 30입니다.\n"
      ]
    },
    {
      "cell_type": "markdown",
      "metadata": {
        "id": "1CujRgBNVRaD"
      },
      "source": [
        "vacabulary를 json 파일로 저장"
      ]
    },
    {
      "cell_type": "code",
      "execution_count": null,
      "metadata": {
        "id": "ehyUoh9vk191"
      },
      "outputs": [],
      "source": [
        "import json\n",
        "with open('vocab.json', 'w') as vocab_file:\n",
        "    json.dump(vocab_dict, vocab_file)"
      ]
    },
    {
      "cell_type": "markdown",
      "metadata": {
        "id": "SHJDaKlIVVim"
      },
      "source": [
        "json 파일을 사용하여 Wav2Vec2CTCTokenizer클래스의 개체를 인스턴스화"
      ]
    },
    {
      "cell_type": "code",
      "execution_count": null,
      "metadata": {
        "id": "xriFGEWQkO4M"
      },
      "outputs": [],
      "source": [
        "from transformers import Wav2Vec2CTCTokenizer\n",
        "\n",
        "tokenizer = Wav2Vec2CTCTokenizer(\"./vocab.json\", unk_token=\"[UNK]\", pad_token=\"[PAD]\", word_delimiter_token=\"|\")"
      ]
    },
    {
      "cell_type": "markdown",
      "metadata": {
        "id": "P6L2EVWwIazG"
      },
      "source": [
        "만든 토크나이저를 이 notebook의 미세 조정된 모델로 다시 사용하려면 tokenizer[🤗 Hub](https://huggingface.co/) 에 업로드하는 것이 좋습니다. \n",
        "\n",
        "파일을 업로드할 저장소를 호출하기 ex) \"wav2vec2-large-xlsr-turkish-demo-colab\"."
      ]
    },
    {
      "cell_type": "code",
      "execution_count": null,
      "metadata": {
        "id": "1mbffBdxIl0M"
      },
      "outputs": [],
      "source": [
        "repo_name = \"wav2vec2-base-960h-timit-demo-colab\""
      ]
    },
    {
      "cell_type": "markdown",
      "metadata": {
        "id": "pmpG2ftFIu3B"
      },
      "source": [
        "tokenizer를  [🤗 Hub](https://huggingface.co/)에 업로드"
      ]
    },
    {
      "cell_type": "code",
      "execution_count": null,
      "metadata": {
        "colab": {
          "base_uri": "https://localhost:8080/",
          "height": 202
        },
        "id": "ScBMUz8jIxJi",
        "outputId": "365018b4-5cc0-4e58-9269-a09696e5a9a0"
      },
      "outputs": [
        {
          "name": "stderr",
          "output_type": "stream",
          "text": [
            "/usr/local/lib/python3.7/dist-packages/huggingface_hub/utils/_deprecation.py:43: FutureWarning: Pass token='wav2vec2-base-960h-timit-demo-colab' as keyword args. From version 0.7 passing these as positional arguments will result in an error\n",
            "  FutureWarning,\n",
            "/usr/local/lib/python3.7/dist-packages/huggingface_hub/hf_api.py:599: FutureWarning: `create_repo` now takes `token` as an optional positional argument. Be sure to adapt your code!\n",
            "  FutureWarning,\n",
            "Cloning https://huggingface.co/obokkkk/wav2vec2-base-960h-timit-demo-colab into local empty directory.\n",
            "To https://huggingface.co/obokkkk/wav2vec2-base-960h-timit-demo-colab\n",
            "   e676126..bfe8e21  main -> main\n",
            "\n"
          ]
        },
        {
          "data": {
            "application/vnd.google.colaboratory.intrinsic+json": {
              "type": "string"
            },
            "text/plain": [
              "'https://huggingface.co/obokkkk/wav2vec2-base-960h-timit-demo-colab/commit/bfe8e21ad5c26f291220cd7d1cb454d72726ca1b'"
            ]
          },
          "execution_count": 23,
          "metadata": {},
          "output_type": "execute_result"
        }
      ],
      "source": [
        "tokenizer.push_to_hub(repo_name)"
      ]
    },
    {
      "cell_type": "markdown",
      "metadata": {
        "id": "KvL12DrNV4cx"
      },
      "source": [
        "아래에서 방금 생성한 레포지토리를 볼 수 있음\n",
        "\n",
        " `https://huggingface.co/<your-username>/wav2vec2-base-timit-demo-colab`"
      ]
    },
    {
      "cell_type": "markdown",
      "metadata": {
        "id": "mYcIiR2FQ96i"
      },
      "source": [
        "### Create Wav2Vec2 Feature Extractor"
      ]
    },
    {
      "cell_type": "markdown",
      "metadata": {
        "id": "Y6mDEyW719rx"
      },
      "source": [
        "음성은 연속적인 신호이며 컴퓨터에서 처리하려면 먼저 이산화되어야 하며 일반적으로 **sampling**. 이라고 합니다. \n",
        "\n",
        "sampling rate는 초당 측정되는 음성 신호의 데이터 포인트 수를 정의한다는 점에서 중요한 역할을 합니다. \n",
        "\n",
        "따라서 더 높은 sampling rate로 샘플링하면 실제 음성 신호에 대한 근사치가 향상되지만 초당 더 많은 값이 필요합니다.\n",
        "\n",
        "사전 훈련된 체크포인트는 입력 데이터가 훈련된 데이터와 동일한 분포에서 어느 정도 sampling될 것으로 예상합니다. \n",
        "\n",
        "\n",
        "2개의 상이한 rate로 sampling된 동일한 음성 신호는 매우 상이한 분포를 가집니다\n",
        "예를 들어 sampling rate를 2배로 하면 데이터 포인트의 길이가 2배가 됩니다.\n",
        "\n",
        "따라서 ASR 모델의 사전 학습된 체크포인트를 미세 조정하기 전에 \n",
        "\n",
        "모델을 사전 학습하는데 사용된 데이터의 샘플링 속도가 모델을 미세 조정하는데 사용되는 데이터 세트의 샘플링 속도와 일치하는지 확인하는 것이 중요합니다.\n",
        "\n",
        "\n",
        "Wav2Vec2는 16kHz로 샘플링된  [LibriSpeech](https://huggingface.co/datasets/librispeech_asr) 및 LibriVox의 오디오 데이터에 대해 사전 학습되었습니다. '\n",
        "\n",
        "미세 조정 데이터 세트인  [Timit](https://huggingface.co/datasets/timit_asr) 도 운 좋게도 16kHz로 샘플링되었습니다\n",
        "\n",
        "미세 조정 데이터 세트가 16kHz보다 낮거나 높은 속도로 샘플링된 경우 먼저 사전 훈련에 사용된 데이터의 샘플링 속도와 일치하도록 음성 신호를 업 또는 다운샘플링해야 했습니다. \n",
        "\n"
      ]
    },
    {
      "cell_type": "markdown",
      "metadata": {
        "id": "KuUbPW7oV-B5"
      },
      "source": [
        "Wav2Vec2 feature extractor 개체를 인스턴스화하려면 다음 매개변수가 필요합니다.\n",
        "\n",
        "- `feature_size`: 음성 모델은 일련의  feature vectors를 입력으로 사용합니다. 이 시퀀스의 길이는 분명히 다양하지만  feature vectors 크기는 그렇지 않아야 합니다. Wav2Vec2의 경우 모델이 raw speech signal에 대해 학습되었기 때문에  feature 크기는 1 입니다.\n",
        "\n",
        "- `sampling_rate`: 모델이 학습되는 샘플링 속도\n",
        "- `padding_value`: batched inference에서 더 짧은 입력은 특정 값으로 채워야함 \n",
        "- `do_normalize`: input이 *zero-mean-unit-variance*  정규화 되어야하지 여부 \n",
        "일반적으로 speech model은 입력을 정규화할때 더 잘 수행됨\n",
        "- `return_attention_mask`: 모델이 일괄 추론을 사용해야 하는지 여부 . 일반적으로 모델은 패딩된 토큰을 마스크 하는 데 항상 사용해야 합니다 . 그러나 '기본' 체크포인트의 attention_mask매우 구체적인 설계 선택으로 인해 no 를 사용할 때 더 나은 결과를 얻을 수 있습니다. 다른 음성 모델에는 권장 하지 않습니다 . 자세한 내용은 이 문제를 참조하세요. 중요 이 노트북을 사용하여 large-lv60 을 미세 조정하려면 이 매개변수를 로 설정해야 합니다 .Wav2Vec2attention_maskTrue\n",
        "- `return_attention_mask`: 모델이 batched inference 할 때 `attention_mask`를 사용할지 여부. 일반적으로 모델은 패딩된 토큰을 마스크하기 위해 항상 Attention_mask를 사용해야 합니다. 그러나 Wav2Vec2의 \"base\" 체크포인트의 매우 구체적인 디자인 선택으로 인해 Attention_mask를 사용하지 않을 때 더 나은 결과를 얻을 수 있습니다. 다른 음성 모델에는 **권장하지 않습니다** . 자세한 내용은 이 문제를 참조하세요. 중요 이 노트북을 사용하여 [large-lv60](https://huggingface.co/facebook/wav2vec2-large-lv60) 을 미세 조정하려면 이 매개변수를 True로 설정해야 합니다."
      ]
    },
    {
      "cell_type": "code",
      "execution_count": null,
      "metadata": {
        "id": "kAR0-2KLkopp"
      },
      "outputs": [],
      "source": [
        "from transformers import Wav2Vec2FeatureExtractor\n",
        "\n",
        "feature_extractor = Wav2Vec2FeatureExtractor(feature_size=1, sampling_rate=16000, padding_value=0.0, do_normalize=True, return_attention_mask=False)"
      ]
    },
    {
      "cell_type": "markdown",
      "metadata": {
        "id": "qUETetgqYC3W"
      },
      "source": [
        "Wav2Vec2의  Wav2Vec2's feature extraction pipeline 정의 완료\n",
        "\n",
        "Wav2Vec2를 최대한 사용자 친화적으로 사용하기 위해 feature extractor and tokenizer 는 하나의 Wav2Vec2Processor 클래스로 래핑되어 `model` 과 `processor` 객체만 필요합니다."
      ]
    },
    {
      "cell_type": "code",
      "execution_count": null,
      "metadata": {
        "id": "KYZtoW-tlZgl"
      },
      "outputs": [],
      "source": [
        "from transformers import Wav2Vec2Processor\n",
        "\n",
        "processor = Wav2Vec2Processor(feature_extractor=feature_extractor, tokenizer=tokenizer)"
      ]
    },
    {
      "cell_type": "markdown",
      "metadata": {
        "id": "YFmShnl7RE35"
      },
      "source": [
        "### Preprocess Data\n",
        "\n",
        "데이터셋 준비하기 \n",
        "지금까지 우리는 음성 신호의 실제 값을 보지 않고 전사만 보았습니다.\n",
        "\n",
        "`'text'` 외에도 데이터 세트에는 두 개의 열 `'file'`과`'audio'`가 더 포함됩니다. \n",
        "`'file'` 는 오디오 파일의 절대 경로를 나타냅니다."
      ]
    },
    {
      "cell_type": "code",
      "execution_count": null,
      "metadata": {
        "colab": {
          "base_uri": "https://localhost:8080/",
          "height": 53
        },
        "id": "TTCS7W6XJ9BG",
        "outputId": "b672b5c3-12cd-4543-9f76-5ef78bb795a0"
      },
      "outputs": [
        {
          "data": {
            "application/vnd.google.colaboratory.intrinsic+json": {
              "type": "string"
            },
            "text/plain": [
              "'/root/.cache/huggingface/datasets/downloads/extracted/404950a46da14eac65eb4e2a8317b1372fb3971d980d91d5d5b221275b1fd7e0/data/TRAIN/DR4/MMDM0/SI681.WAV'"
            ]
          },
          "execution_count": 26,
          "metadata": {},
          "output_type": "execute_result"
        }
      ],
      "source": [
        "timit[\"train\"][0][\"file\"]"
      ]
    },
    {
      "cell_type": "markdown",
      "metadata": {
        "id": "BwxprOw4Nzrl"
      },
      "source": [
        "`Wav2Vec2`은 16kHz의 1차원 배열 형식의 입력을 예상합니다. \n",
        "\n",
        "즉, 오디오 파일을 로드하고 다시 샘플링해야 합니다.\n",
        "\n",
        "`datasets` 다른 열`audio` 를 호출하여 이를 자동으로 수행합니다.\n",
        "\n"
      ]
    },
    {
      "cell_type": "code",
      "execution_count": null,
      "metadata": {
        "colab": {
          "base_uri": "https://localhost:8080/"
        },
        "id": "mk9QHuSsN7lf",
        "outputId": "0b809b42-363e-40af-c886-a17fc17a4fc3"
      },
      "outputs": [
        {
          "data": {
            "text/plain": [
              "{'array': array([-2.1362305e-04,  6.1035156e-05,  3.0517578e-05, ...,\n",
              "        -3.0517578e-05, -9.1552734e-05, -6.1035156e-05], dtype=float32),\n",
              " 'path': '/root/.cache/huggingface/datasets/downloads/extracted/404950a46da14eac65eb4e2a8317b1372fb3971d980d91d5d5b221275b1fd7e0/data/TRAIN/DR4/MMDM0/SI681.WAV',\n",
              " 'sampling_rate': 16000}"
            ]
          },
          "execution_count": 27,
          "metadata": {},
          "output_type": "execute_result"
        }
      ],
      "source": [
        "timit[\"train\"][0][\"audio\"]"
      ]
    },
    {
      "cell_type": "markdown",
      "metadata": {
        "id": "wSBIGEiaKHMn"
      },
      "source": [
        "오디오 파일이 자동으로 로드되었음을 알 수 있습니다.\n",
        "이 기능은 호출 시 즉석에서 오디오 파일을 로드하고 리샘플링합니다.\n",
        "\n",
        "샘플링 속도는 Wav2Vec2입력으로 예상되는 16kHz로 설정됩니다.\n",
        "\n",
        "데이터 세트를 더 잘 이해하고 오디오가 올바르게 로드되었는지 확인하기 위해 몇 가지 오디오 파일을 들어보겠습니다.\n",
        "\n"
      ]
    },
    {
      "cell_type": "code",
      "execution_count": null,
      "metadata": {
        "colab": {
          "base_uri": "https://localhost:8080/",
          "height": 92
        },
        "id": "dueM6U7Ev0OA",
        "outputId": "eae55252-5919-4af4-8274-85c8d14722e7"
      },
      "outputs": [
        {
          "name": "stdout",
          "output_type": "stream",
          "text": [
            "his talk turns to what he calls the mess or sometimes this buzzing confusion \n"
          ]
        },
        {
          "data": {
            "text/html": [
              "\n",
              "                <audio controls=\"controls\" autoplay=\"autoplay\">\n",
              "                    <source src=\"data:audio/wav;base64,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\" type=\"audio/wav\" />\n",
              "                    Your browser does not support the audio element.\n",
              "                </audio>\n",
              "              "
            ],
            "text/plain": [
              "<IPython.lib.display.Audio object>"
            ]
          },
          "execution_count": 28,
          "metadata": {},
          "output_type": "execute_result"
        }
      ],
      "source": [
        "import IPython.display as ipd\n",
        "import numpy as np\n",
        "import random\n",
        "\n",
        "rand_int = random.randint(0, len(timit[\"train\"]))\n",
        "\n",
        "print(timit[\"train\"][rand_int][\"text\"])\n",
        "ipd.Audio(data=np.asarray(timit[\"train\"][rand_int][\"audio\"][\"array\"]), autoplay=True, rate=16000)"
      ]
    },
    {
      "cell_type": "markdown",
      "metadata": {
        "id": "1MaL9J2dNVtG"
      },
      "source": [
        "화자가 말하는 속도, 억양 등이 다른 것을 들을 수 있습니다. \n",
        "\n",
        "전반적으로 녹음은 비교적 명확하게 들립니다. 이는 읽기 말뭉치에서 기대할 수 있는 것입니다.\n",
        "\n",
        "음성 입력의 모양, 전사 및 해당 샘플링 속도를 인쇄하여 데이터가 올바르게 준비되었는지 최종 확인합시다.\n"
      ]
    },
    {
      "cell_type": "code",
      "execution_count": null,
      "metadata": {
        "colab": {
          "base_uri": "https://localhost:8080/"
        },
        "id": "1Po2g7YPuRTx",
        "outputId": "275168e4-95f7-4313-824a-f50b2c59f914"
      },
      "outputs": [
        {
          "name": "stdout",
          "output_type": "stream",
          "text": [
            "Target text: reading in poor light gives you eyestrain \n",
            "Input array shape: (42189,)\n",
            "Sampling rate: 16000\n"
          ]
        }
      ],
      "source": [
        "rand_int = random.randint(0, len(timit[\"train\"]))\n",
        "\n",
        "print(\"Target text:\", timit[\"train\"][rand_int][\"text\"])\n",
        "print(\"Input array shape:\", np.asarray(timit[\"train\"][rand_int][\"audio\"][\"array\"]).shape)\n",
        "print(\"Sampling rate:\", timit[\"train\"][rand_int][\"audio\"][\"sampling_rate\"])"
      ]
    },
    {
      "cell_type": "markdown",
      "metadata": {
        "id": "M9teZcSwOBJ4"
      },
      "source": [
        "데이터는 1차원 배열이고 샘플링 속도는 항상 16kHz에 해당하며 대상 텍스트는 정규화됩니다."
      ]
    },
    {
      "cell_type": "markdown",
      "metadata": {
        "id": "k3Pbn5WvOYZF"
      },
      "source": [
        "마지막으로 훈련을 위해 모델이 예상하는 형식으로 데이터 세트를 처리할 수 있습니다. \n",
        "위의 코드과 우리는 map(...)기능을 사용할 것입니다.\n",
        "\n",
        "\n",
        "\n",
        "1.   `batch[\"audio\"]`를 호출하여 오디오 데이터를 로드하고 resample \n",
        "2.   로드된 오디오 파일에서 `input_values` 추출. 여기서 `Wav2Vec2Processor`는 정규화를 하지만 다른 음성 모델의 경우 이 단계에서  Log-Mel 특징 추출 과 같은 더 복잡한 특징 추출이 포함될 수 있음\n",
        "3. label ids 을 지정하기 위해 전사를 인코딩\n",
        "\n",
        "(공부 필요)\n",
        "**Note**: 이 mapping function는 `Wav2Vec2Processor`클래스를 사용하는 방법의 좋은 예입니다. \"normal\" 컨텍스트에서`processor(...)` 호출 은 의 호출 메서드 Wav2Vec2FeatureExtractor` 로 리디렉션됩니다 .\n",
        "그러나 프로세서를  `as_target_processor` contex로 래핑할 때 동일한 메서드가 Wav2Vec2CTCTokenizer`의 호출 메서드로 리디렉션됩니다. 자세한 내용은 문서 를 확인하십시오 \n",
        "\n",
        "자세한 내용 :[docs](https://huggingface.co/transformers/master/model_doc/wav2vec2.html#transformers.Wav2Vec2Processor.__call__).\n"
      ]
    },
    {
      "cell_type": "code",
      "execution_count": null,
      "metadata": {
        "id": "eJY7I0XAwe9p"
      },
      "outputs": [],
      "source": [
        "def prepare_dataset(batch):\n",
        "    audio = batch[\"audio\"]\n",
        "\n",
        "    # batched output is \"un-batched\" to ensure mapping is correct\n",
        "    batch[\"input_values\"] = processor(audio[\"array\"], sampling_rate=audio[\"sampling_rate\"]).input_values[0]\n",
        "    batch[\"input_length\"] = len(batch[\"input_values\"])\n",
        "    \n",
        "    with processor.as_target_processor():\n",
        "        batch[\"labels\"] = processor(batch[\"text\"]).input_ids\n",
        "    return batch"
      ]
    },
    {
      "cell_type": "markdown",
      "metadata": {
        "id": "hVMZhH4-nP8-"
      },
      "source": [
        "모든 데이터 sample에 데이터셋 준비 함수 적용"
      ]
    },
    {
      "cell_type": "code",
      "execution_count": null,
      "metadata": {
        "id": "-np9xYK-wl8q"
      },
      "outputs": [],
      "source": [
        "timit = timit.map(prepare_dataset, remove_columns=timit.column_names[\"train\"], num_proc=4)"
      ]
    },
    {
      "cell_type": "markdown",
      "metadata": {
        "id": "p_MuJSH8nTuQ"
      },
      "source": [
        "**Note**: 현재 `데이터 세트`는 [`torchaudio`](https://pytorch.org/audio/stable/index.html) 및 [`librosa`](https://librosa.org/ doc/latest/index.html) 오디오 로딩 및 리샘플링. 사용자 고유의 맞춤 데이터 로드/샘플링을 구현하려면 `\"path\"` 열을 대신 사용하고 `\"audio\"` 열은 무시해도 됩니다."
      ]
    },
    {
      "cell_type": "markdown",
      "metadata": {
        "id": "M4J0bU1WsvAg"
      },
      "source": [
        "긴 입력 시퀀스에는 많은 메모리가 필요합니다. 'Wav2Vec2'는 `self-attention`를 기반으로 하기 때문에 긴 입력 시퀀스에 대한 입력 길이에 따라 메모리 요구 사항이 2차적으로 확장됩니다*cf.* with [this](https://www.reddit.com/r/MachineLearning/comments/genjvb/d_why_is_the_maximum_input_sequence_length_of/)  \n",
        "\n",
        "이 데모에서는 훈련 데이터 세트에서 4초보다 긴 모든 시퀀스를 필터링해 보겠습니다."
      ]
    },
    {
      "cell_type": "code",
      "execution_count": null,
      "metadata": {
        "colab": {
          "base_uri": "https://localhost:8080/",
          "height": 49,
          "referenced_widgets": [
            "c835c239973e437c91a304420fc9f186",
            "9d3d3bb1eb3743cf8f9bb53dd680657f",
            "47102d4f7c894c2ea1e167449a1d702a",
            "a4ec4702be574891b7d1aac30af60f2b",
            "0f57ea32e2f243ef80daaf2fb7e360d8",
            "eed024cb548b492896b2229371300de5",
            "1a0d6110d3d342c9bd6a02f615e56eaf",
            "00e6878981b6423cb40622a1da6d04a2",
            "22fa392b531d4ae2bbfc2bc5955e3bc6",
            "70619e1dc37e4bd7a8c0dc40a58242ff",
            "4e47cd837e074c4983c758bc60568479"
          ]
        },
        "id": "nqGobEPUvG3v",
        "outputId": "77d292d6-5822-4b63-8425-c5a6d850de7a"
      },
      "outputs": [
        {
          "data": {
            "application/vnd.jupyter.widget-view+json": {
              "model_id": "c835c239973e437c91a304420fc9f186",
              "version_major": 2,
              "version_minor": 0
            },
            "text/plain": [
              "  0%|          | 0/5 [00:00<?, ?ba/s]"
            ]
          },
          "metadata": {},
          "output_type": "display_data"
        }
      ],
      "source": [
        "max_input_length_in_sec = 4.0\n",
        "timit[\"train\"] = timit[\"train\"].filter(lambda x: x < max_input_length_in_sec * processor.feature_extractor.sampling_rate, input_columns=[\"input_length\"])"
      ]
    },
    {
      "cell_type": "markdown",
      "metadata": {
        "id": "25Genil2v_Br"
      },
      "source": [
        "학습할 준비 끝"
      ]
    },
    {
      "cell_type": "markdown",
      "metadata": {
        "id": "gYlQkKVoRUos"
      },
      "source": [
        "## Training & Evaluation\n",
        "데이터가 처리 되었고 훈련 파이프라인 setting 합니다. \n",
        " 🤗의 [Trainer](https://huggingface.co/transformers/master/main_classes/trainer.html?highlight=trainer)를 사용할 것입니다.\n",
        "\n",
        "- Data collator를 정의합니다. 대부분의 NLP 모델과 달리 Wav2Vec2는 출력 길이보다 입력 길이가 훨씬 더 큽니다. *예:* 입력 길이가 50000인 샘플의 출력 길이는 100 이하입니다. 큰 입력 크기가 주어지면 훈련 배치를 동적으로 채우는 것이 훨씬 더 효율적입니다. 즉, 모든 훈련 샘플은 전체 가장 긴 샘플이 아니라 배치에서 가장 긴 샘플에만 채워져야 합니다.  따라서 Wav2Vec2를 미세 조정하려면 아래에서 정의할 특별한  padding data collator가 필요합니다.\n",
        "\n",
        "- Evaluation metric 정의. 훈련하는 동안 모델은 단어 오류율로 평가되어야 합니다. 그에 따라 `compute_metrics` 함수를 정의해야 합니다.\n",
        "\n",
        "- 사전 훈련된 체크포인트를 로드합니다. 사전 훈련된 체크포인트를 로드하고 훈련을 위해 올바르게 구성해야 합니다.\n",
        "\n",
        "- training configuration을 정의합니다.\n",
        "\n",
        "모델을 미세 조정한 후 테스트 데이터에서 모델을 올바르게 평가하고 실제로 음성을 올바르게 전사하는 방법을 학습했는지 확인합니다.\n"
      ]
    },
    {
      "cell_type": "markdown",
      "metadata": {
        "id": "Slk403unUS91"
      },
      "source": [
        "### Set-up Trainer\n",
        "data collator를 정의하는 것부터 시작하겠습니다. \n",
        "\n",
        "data collator의 코드는[this example](https://github.com/huggingface/transformers/blob/9a06b6b11bdfc42eea08fa91d0c737d1863c99e3/examples/research_projects/wav2vec2/run_asr.py#L81)에서 복사\n",
        "\n",
        "너무 많은 세부 사항에 들어가지 않고 일반적인 데이터 수집기와 달리 이 데이터 수집기는 `input_values`와 `labels`를 다르게 처리하므로 별도의 패딩 기능에 적용됩니다(다시 Wav2Vec2의context manager 사용). 이것은 음성에서 입력과 출력이 동일한 패딩 기능으로 처리되어서는 안 되는 서로 다른 양식이기 때문에 필요합니다.\n",
        "일반적인 데이터 수집기와 유사하게 레이블의 패딩 토큰은 '-100'이므로 손실을 계산할 때 해당 토큰이 고려되지 **않습니다**."
      ]
    },
    {
      "cell_type": "code",
      "execution_count": null,
      "metadata": {
        "id": "tborvC9hx88e"
      },
      "outputs": [],
      "source": [
        "import torch\n",
        "\n",
        "from dataclasses import dataclass, field\n",
        "from typing import Any, Dict, List, Optional, Union\n",
        "\n",
        "@dataclass\n",
        "class DataCollatorCTCWithPadding:\n",
        "    \"\"\"\n",
        "    Data collator that will dynamically pad the inputs received.\n",
        "    Args:\n",
        "        processor (:class:`~transformers.Wav2Vec2Processor`)\n",
        "            The processor used for proccessing the data.\n",
        "        padding (:obj:`bool`, :obj:`str` or :class:`~transformers.tokenization_utils_base.PaddingStrategy`, `optional`, defaults to :obj:`True`):\n",
        "            Select a strategy to pad the returned sequences (according to the model's padding side and padding index)\n",
        "            among:\n",
        "            * :obj:`True` or :obj:`'longest'`: Pad to the longest sequence in the batch (or no padding if only a single\n",
        "              sequence if provided).\n",
        "            * :obj:`'max_length'`: Pad to a maximum length specified with the argument :obj:`max_length` or to the\n",
        "              maximum acceptable input length for the model if that argument is not provided.\n",
        "            * :obj:`False` or :obj:`'do_not_pad'` (default): No padding (i.e., can output a batch with sequences of\n",
        "              different lengths).\n",
        "        max_length (:obj:`int`, `optional`):\n",
        "            Maximum length of the ``input_values`` of the returned list and optionally padding length (see above).\n",
        "        max_length_labels (:obj:`int`, `optional`):\n",
        "            Maximum length of the ``labels`` returned list and optionally padding length (see above).\n",
        "        pad_to_multiple_of (:obj:`int`, `optional`):\n",
        "            If set will pad the sequence to a multiple of the provided value.\n",
        "            This is especially useful to enable the use of Tensor Cores on NVIDIA hardware with compute capability >=\n",
        "            7.5 (Volta).\n",
        "    \"\"\"\n",
        "\n",
        "    processor: Wav2Vec2Processor\n",
        "    padding: Union[bool, str] = True\n",
        "    max_length: Optional[int] = None\n",
        "    max_length_labels: Optional[int] = None\n",
        "    pad_to_multiple_of: Optional[int] = None\n",
        "    pad_to_multiple_of_labels: Optional[int] = None\n",
        "\n",
        "    def __call__(self, features: List[Dict[str, Union[List[int], torch.Tensor]]]) -> Dict[str, torch.Tensor]:\n",
        "        # split inputs and labels since they have to be of different lenghts and need\n",
        "        # different padding methods\n",
        "        input_features = [{\"input_values\": feature[\"input_values\"]} for feature in features]\n",
        "        label_features = [{\"input_ids\": feature[\"labels\"]} for feature in features]\n",
        "\n",
        "        batch = self.processor.pad(\n",
        "            input_features,\n",
        "            padding=self.padding,\n",
        "            max_length=self.max_length,\n",
        "            pad_to_multiple_of=self.pad_to_multiple_of,\n",
        "            return_tensors=\"pt\",\n",
        "        )\n",
        "        with self.processor.as_target_processor():\n",
        "            labels_batch = self.processor.pad(\n",
        "                label_features,\n",
        "                padding=self.padding,\n",
        "                max_length=self.max_length_labels,\n",
        "                pad_to_multiple_of=self.pad_to_multiple_of_labels,\n",
        "                return_tensors=\"pt\",\n",
        "            )\n",
        "\n",
        "        # replace padding with -100 to ignore loss correctly\n",
        "        labels = labels_batch[\"input_ids\"].masked_fill(labels_batch.attention_mask.ne(1), -100)\n",
        "\n",
        "        batch[\"labels\"] = labels\n",
        "\n",
        "        return batch"
      ]
    },
    {
      "cell_type": "code",
      "execution_count": null,
      "metadata": {
        "id": "lbQf5GuZyQ4_"
      },
      "outputs": [],
      "source": [
        "data_collator = DataCollatorCTCWithPadding(processor=processor, padding=True)"
      ]
    },
    {
      "cell_type": "markdown",
      "metadata": {
        "id": "xO-Zdj-5cxXp"
      },
      "source": [
        "다음으로 평가 메트릭이 정의됩니다. 앞서 언급했듯이,\n",
        "ASR에서 가장 많이 사용되는 메트릭은 WER(오류율)이라는 단어이므로 이 노트북에서도 사용할 것입니다."
      ]
    },
    {
      "cell_type": "code",
      "execution_count": null,
      "metadata": {
        "colab": {
          "base_uri": "https://localhost:8080/",
          "height": 49,
          "referenced_widgets": [
            "ad958193579748859417f4d2c7c214c3",
            "7aabae231bb241f887693324510ea361",
            "ea1c356a2eca4c2cba7ce08be7eb8c40",
            "32351bf045ed4c35ba133f5f31193d17",
            "0b81b5e619c44dcc886a447c9a2a0cb7",
            "ec6f504186ea46ba84fc9582a70e6fd1",
            "cd3109243d564bf58ccd64a77aa992d8",
            "e5d93441c3d1443d87121424efe13220",
            "0c205b2015a04b1baebb0b507c28c1cf",
            "dc0f4c3ed51d44c891439ceb48f0c98a",
            "40a2b23f590b44a09834f0678459c24a"
          ]
        },
        "id": "9Xsux2gmyXso",
        "outputId": "f8cf25e8-e128-4277-f316-8d8315599b63"
      },
      "outputs": [
        {
          "data": {
            "application/vnd.jupyter.widget-view+json": {
              "model_id": "ad958193579748859417f4d2c7c214c3",
              "version_major": 2,
              "version_minor": 0
            },
            "text/plain": [
              "Downloading:   0%|          | 0.00/1.90k [00:00<?, ?B/s]"
            ]
          },
          "metadata": {},
          "output_type": "display_data"
        }
      ],
      "source": [
        "wer_metric = load_metric(\"wer\")"
      ]
    },
    {
      "cell_type": "markdown",
      "metadata": {
        "id": "E1qZU5p-deqB"
      },
      "source": [
        "모델은 sequence of logit vectors를 반환 합니다:\n",
        "\n",
        "$\\mathbf{y}_1, \\ldots, \\mathbf{y}_m$ with $\\mathbf{y}_1 = f_{\\theta}(x_1, \\ldots, x_n)[0]$ and $n >> m$.\n",
        "\n",
        "logit vector $\\mathbf{y}_1$ 는   앞서 정의한 어휘의 각 단어에 대한 로그 확률을 포함하므로 $\\text{len}(\\mathbf{y}_i) =$ `config.vocab_size`입니다.\n",
        "\n",
        "\n",
        "우리는 모델의 가장 가능성 있는 예측에 관심이 있으므로 로짓의 `argmax(...)`를 취합니다. 또한 `-100` 을 `pad_token_id`로 바꾸고 ID를 디코딩하여 인코딩된 레이블을 원래 문자열로 다시 변환하는 동시에 연속적인 토큰이 CTC 스타일에서 동일한 토큰으로 그룹화되지 않도록 합니다.\n",
        "\n"
      ]
    },
    {
      "cell_type": "code",
      "execution_count": null,
      "metadata": {
        "id": "1XZ-kjweyTy_"
      },
      "outputs": [],
      "source": [
        "def compute_metrics(pred):\n",
        "    pred_logits = pred.predictions\n",
        "    pred_ids = np.argmax(pred_logits, axis=-1)\n",
        "\n",
        "    pred.label_ids[pred.label_ids == -100] = processor.tokenizer.pad_token_id\n",
        "\n",
        "    pred_str = processor.batch_decode(pred_ids)\n",
        "    # we do not want to group tokens when computing the metrics\n",
        "    label_str = processor.batch_decode(pred.label_ids, group_tokens=False)\n",
        "\n",
        "    wer = wer_metric.compute(predictions=pred_str, references=label_str)\n",
        "\n",
        "    return {\"wer\": wer}"
      ]
    },
    {
      "cell_type": "markdown",
      "metadata": {
        "id": "Xmgrx4bRwLIH"
      },
      "source": [
        "이제 사전 훈련된 `Wav2Vec2` 체크포인트를 로드할 수 있습니다. \n",
        "\n",
        "토크나이저의 `pad_token_id`는 모델의 `pad_token_id` 를 정의하거나 Wav2Vec2ForCTC의 경우 CTC의 *blank token*  도 정의해야 합니다.\n",
        "\n",
        " GPU 메모리를 절약하기 위해 PyTorch의  [gradient checkpointing](https://pytorch.org/docs/stable/checkpoint.html)를 활성화하고 손실 감소를 \"*mean*\"으로 설정합니다.\n"
      ]
    },
    {
      "cell_type": "code",
      "execution_count": null,
      "metadata": {
        "colab": {
          "base_uri": "https://localhost:8080/",
          "height": 137,
          "referenced_widgets": [
            "ed0bcf9e79024d7081c9791355ff02a9",
            "e750abf0833a4e8d936538821a23ebc9",
            "657ada001c3a424090e52adf71f76407",
            "06c04fab14ad49ab8aec5849100658cc",
            "455235e864834a1da39e397af45a6789",
            "cdda5930ad0640959cec41141fff27c1",
            "d23866864d8f4d3398d0a157a864ea27",
            "939bf772ba124312a26b795e29874d7d",
            "e47e43f3da3445c680289fd9949de9ec",
            "04a56ceaa56e4f239785c06af875a2a6",
            "1f468237d13e4f35acb0d57cffc078e6",
            "0539172adc5c401199c1a5c662eab0dc",
            "67465c0e949b4853ba0bce3fa79f8156",
            "e18dc9d631ab4d3fa9d6e0764ae21d9d",
            "014fe6cb084a4cec8ead33f0f73e7892",
            "a655071684ba499e84c4c14abcdb27e3",
            "201fc889a91a45198b0268f0da4f3e1f",
            "2118083651f143da8895b871f40d4836",
            "428ee5487c404de08a710ade9f3a3f22",
            "ac611db9476d44d6af77d676dc6dde2f",
            "b90c507607824b869a926758a96d04c1",
            "c750ec6d6b1149cf8cedc06597c98b58"
          ]
        },
        "id": "e7cqAWIayn6w",
        "outputId": "14a8f61c-9890-4ba8-d307-37f7b514343a"
      },
      "outputs": [
        {
          "data": {
            "application/vnd.jupyter.widget-view+json": {
              "model_id": "ed0bcf9e79024d7081c9791355ff02a9",
              "version_major": 2,
              "version_minor": 0
            },
            "text/plain": [
              "Downloading:   0%|          | 0.00/1.56k [00:00<?, ?B/s]"
            ]
          },
          "metadata": {},
          "output_type": "display_data"
        },
        {
          "data": {
            "application/vnd.jupyter.widget-view+json": {
              "model_id": "0539172adc5c401199c1a5c662eab0dc",
              "version_major": 2,
              "version_minor": 0
            },
            "text/plain": [
              "Downloading:   0%|          | 0.00/360M [00:00<?, ?B/s]"
            ]
          },
          "metadata": {},
          "output_type": "display_data"
        },
        {
          "name": "stderr",
          "output_type": "stream",
          "text": [
            "Some weights of Wav2Vec2ForCTC were not initialized from the model checkpoint at facebook/wav2vec2-base-960h and are newly initialized: ['wav2vec2.masked_spec_embed']\n",
            "You should probably TRAIN this model on a down-stream task to be able to use it for predictions and inference.\n"
          ]
        }
      ],
      "source": [
        "from transformers import Wav2Vec2ForCTC\n",
        "\n",
        "model = Wav2Vec2ForCTC.from_pretrained(\n",
        "    \"facebook/wav2vec2-base-960h\", \n",
        "    ctc_loss_reduction=\"mean\", \n",
        "    pad_token_id=processor.tokenizer.pad_token_id,\n",
        ")"
      ]
    },
    {
      "cell_type": "markdown",
      "metadata": {
        "id": "1DwR3XLSzGDD"
      },
      "source": [
        "\n",
        "Wav2Vec2의 첫 번째 구성 요소는 원시 음성 신호에서 음향적으로 의미 있지만 맥락적으로는 독립적인 특징을 추출하는 데 사용되는 CNN 레이어 스택으로 구성됩니다. 모델의 이 부분은 사전 훈련 중에 이미 충분히 훈련되었으며 [paper](https://arxiv.org/abs/2006.11477)에 명시된 바와 같이 더 이상 미세 조정할 필요가 없습니다.\n",
        "따라서 *feature 추출* 부분의 모든 매개변수에 대해 `requires_grad`를 `False`로 설정할 수 있습니다."
      ]
    },
    {
      "cell_type": "markdown",
      "metadata": {
        "id": "lD4aGhQM0K-D"
      },
      "source": [
        "마지막 단계에서 훈련과 관련된 모든 매개변수를 정의합니다.\n",
        "일부 매개변수에 대한 자세한 설명은 다음과 같습니다.\n",
        "- `group_by_length`는 입력 길이가 유사한 훈련 샘플을 하나의 배치로 그룹화하여 훈련을 보다 효율적으로 만듭니다. 이것은 모델을 통해 전달되는 쓸모없는 패딩 토큰의 전체 수를 크게 줄여 학습 시간을 크게 단축할 수 있습니다.\n",
        "- `learning_rate` 및 `weight_decay`는 미세 조정이 안정될 때까지 경험적으로 조정되었습니다. 이러한 매개변수는 Timit 데이터 세트에 크게 의존하며 다른 음성 데이터 세트에는 차선책일 수 있습니다.\n",
        "\n",
        "다른 매개변수에 대한 자세한 설명은 [문서](https://huggingface.co/transformers/master/main_classes/trainer.html?highlight=trainer#trainingarguments)를 참조하세요.\n",
        "\n",
        "훈련 중에 체크포인트는 400개의 훈련 단계마다 허브에 비동기식으로 업로드됩니다. 모델이 아직 훈련 중인 동안에도 데모 위젯을 가지고 놀 수 있습니다.\n",
        "\n",
        "**참고**: 모델 체크포인트를 허브에 업로드하지 않으려면 `push_to_hub=False`로 설정하기만 하면 됩니다."
      ]
    },
    {
      "cell_type": "code",
      "execution_count": null,
      "metadata": {
        "id": "KbeKSV7uzGPP"
      },
      "outputs": [],
      "source": [
        "from transformers import TrainingArguments\n",
        "\n",
        "training_args = TrainingArguments(\n",
        "  output_dir=repo_name,\n",
        "  group_by_length=True,\n",
        "  per_device_train_batch_size=32,\n",
        "  evaluation_strategy=\"steps\",\n",
        "  num_train_epochs=30,\n",
        "  fp16=True,\n",
        "  gradient_checkpointing=True,\n",
        "  save_steps=500,\n",
        "  eval_steps=500,\n",
        "  logging_steps=500,\n",
        "  learning_rate=1e-4,\n",
        "  weight_decay=0.005,\n",
        "  warmup_steps=1000,\n",
        "  save_total_limit=2,\n",
        "  push_to_hub=True,\n",
        ")"
      ]
    },
    {
      "cell_type": "markdown",
      "metadata": {
        "id": "OsW-WZcL1ZtN"
      },
      "source": [
        "이제 모든 인스턴스를 Trainer로 전달할 수 있으며 학습을 시작할 준비가 되었습니다!"
      ]
    },
    {
      "cell_type": "code",
      "execution_count": null,
      "metadata": {
        "colab": {
          "base_uri": "https://localhost:8080/"
        },
        "id": "rY7vBmFCPFgC",
        "outputId": "0efbb459-0980-4a7f-8c18-1e147dcf8b27"
      },
      "outputs": [
        {
          "name": "stderr",
          "output_type": "stream",
          "text": [
            "/content/wav2vec2-base-960h-timit-demo-colab is already a clone of https://huggingface.co/obokkkk/wav2vec2-base-960h-timit-demo-colab. Make sure you pull the latest changes with `repo.git_pull()`.\n",
            "Using amp fp16 backend\n"
          ]
        }
      ],
      "source": [
        "from transformers import Trainer\n",
        "\n",
        "trainer = Trainer(\n",
        "    model=model,\n",
        "    data_collator=data_collator,\n",
        "    args=training_args,\n",
        "    compute_metrics=compute_metrics,\n",
        "    train_dataset=timit[\"train\"],\n",
        "    eval_dataset=timit[\"test\"],\n",
        "    tokenizer=processor.feature_extractor,\n",
        ")"
      ]
    },
    {
      "cell_type": "markdown",
      "metadata": {
        "id": "UoXBx1JAA0DX"
      },
      "source": [
        "\n",
        "모델이 스피커 비율과 독립적이 되도록 하기 위해 CTC에서는 동일한 연속 토큰을 단일 토큰으로 그룹화합니다. 그러나 인코딩된 레이블은 모델의 예측 토큰과 일치하지 않으므로 디코딩할 때 그룹화하지 않아야 합니다. 이것이 group_tokens=False 매개변수를 전달해야 하는 이유입니다. 이 매개변수를 전달하지 않으면 \"hello\"와 같은 단어가 잘못 인코딩되고 \"helo\"로 디코딩됩니다.\n",
        "\n",
        "blank token 사용하면 모델이 두 개의 l 사이에 빈 토큰을 삽입하도록 강제하여 `\"hello\"`와 같은 단어를 예측할 수 있습니다. 우리 모델의 `\"hello\"`에 대한 CTC 준수 예측은 `[PAD] [PAD] \"h\" \"e\" \"e\" \"l\" \"l\" [PAD] \"l\" \"o\" \"o\" [PAD]`."
      ]
    },
    {
      "cell_type": "markdown",
      "metadata": {
        "id": "rpvZHM1xReIW"
      },
      "source": [
        "\n",
        "### Training"
      ]
    },
    {
      "cell_type": "markdown",
      "metadata": {
        "id": "j-3oKSzZ1hGq"
      },
      "source": [
        "교육은 이 노트북에 할당된 GPU에 따라 90~270분 정도 소요됩니다. \n",
        "\n",
        "훈련된 모델은 *Timit*의 테스트 데이터에서 만족스러운 결과를 산출하지만 최적으로 미세 조정된 모델은 결코 아닙니다. 이 노트북의 목적은 Wav2Vec2 [base](https://huggingface.co/facebook/wav2vec2-base),  [large](https://huggingface.co/facebook/wav2vec2-large), [large-lv60](https://huggingface.co/facebook/wav2vec2-large-lv60)에서  체크포인트를 미세 조정할 수 있는 방법을 보여주는 것입니다.\n",
        "\n",
        "\n",
        "이 google colab을 사용하여 모델을 미세 조정하려는 경우 비활성으로 인해 학습이 중지되지 않는지 확인해야 합니다. 이를 방지하기 위한 간단한 해킹은 이 탭의 콘솔에 다음 코드를 붙여넣는 것입니다(*right mouse click -> inspect -> Console tab and insert code*)"
      ]
    },
    {
      "cell_type": "markdown",
      "metadata": {
        "id": "VYYAvgkW4P0m"
      },
      "source": [
        "```javascript\n",
        "function ConnectButton(){\n",
        "    console.log(\"Connect pushed\"); \n",
        "    document.querySelector(\"#top-toolbar > colab-connect-button\").shadowRoot.querySelector(\"#connect\").click() \n",
        "}\n",
        "setInterval(ConnectButton,60000);\n",
        "```"
      ]
    },
    {
      "cell_type": "markdown",
      "metadata": {
        "id": "PmY6yqd1zvzU"
      },
      "source": [
        "Google colab에 할당된 GPU에 따라 여기에서 `\"메모리 부족\"` 오류가 표시될 수 있습니다. 이 경우 `per_device_train_batch_size`를 16 이하로 줄이고 결국 [`gradient_accumulation`](https://huggingface.co/transformers/master/main_classes/trainer.html#trainingarguments)을 사용하는 것이 가장 좋습니다."
      ]
    },
    {
      "cell_type": "code",
      "execution_count": null,
      "metadata": {
        "colab": {
          "background_save": true,
          "base_uri": "https://localhost:8080/",
          "height": 1000
        },
        "id": "_UEjJqGsQw24",
        "outputId": "b6f85500-1ddc-46b3-e66f-e03b2c50b5ac"
      },
      "outputs": [
        {
          "name": "stderr",
          "output_type": "stream",
          "text": [
            "The following columns in the training set  don't have a corresponding argument in `Wav2Vec2ForCTC.forward` and have been ignored: input_length.\n",
            "***** Running training *****\n",
            "  Num examples = 3978\n",
            "  Num Epochs = 30\n",
            "  Instantaneous batch size per device = 32\n",
            "  Total train batch size (w. parallel, distributed & accumulation) = 32\n",
            "  Gradient Accumulation steps = 1\n",
            "  Total optimization steps = 3750\n",
            "/usr/local/lib/python3.7/dist-packages/transformers/feature_extraction_utils.py:158: UserWarning: Creating a tensor from a list of numpy.ndarrays is extremely slow. Please consider converting the list to a single numpy.ndarray with numpy.array() before converting to a tensor. (Triggered internally at  ../torch/csrc/utils/tensor_new.cpp:201.)\n",
            "  tensor = as_tensor(value)\n",
            "/usr/local/lib/python3.7/dist-packages/transformers/models/wav2vec2/modeling_wav2vec2.py:882: UserWarning: __floordiv__ is deprecated, and its behavior will change in a future version of pytorch. It currently rounds toward 0 (like the 'trunc' function NOT 'floor'). This results in incorrect rounding for negative values. To keep the current behavior, use torch.div(a, b, rounding_mode='trunc'), or for actual floor division, use torch.div(a, b, rounding_mode='floor').\n",
            "  return (input_length - kernel_size) // stride + 1\n"
          ]
        },
        {
          "data": {
            "text/html": [
              "\n",
              "    <div>\n",
              "      \n",
              "      <progress value='3750' max='3750' style='width:300px; height:20px; vertical-align: middle;'></progress>\n",
              "      [3750/3750 1:40:12, Epoch 30/30]\n",
              "    </div>\n",
              "    <table border=\"1\" class=\"dataframe\">\n",
              "  <thead>\n",
              "    <tr style=\"text-align: left;\">\n",
              "      <th>Step</th>\n",
              "      <th>Training Loss</th>\n",
              "      <th>Validation Loss</th>\n",
              "      <th>Wer</th>\n",
              "    </tr>\n",
              "  </thead>\n",
              "  <tbody>\n",
              "    <tr>\n",
              "      <td>500</td>\n",
              "      <td>5.780500</td>\n",
              "      <td>3.055758</td>\n",
              "      <td>1.000000</td>\n",
              "    </tr>\n",
              "    <tr>\n",
              "      <td>1000</td>\n",
              "      <td>2.293600</td>\n",
              "      <td>0.293702</td>\n",
              "      <td>0.347874</td>\n",
              "    </tr>\n",
              "    <tr>\n",
              "      <td>1500</td>\n",
              "      <td>0.415500</td>\n",
              "      <td>0.210846</td>\n",
              "      <td>0.247330</td>\n",
              "    </tr>\n",
              "    <tr>\n",
              "      <td>2000</td>\n",
              "      <td>0.243900</td>\n",
              "      <td>0.231263</td>\n",
              "      <td>0.239129</td>\n",
              "    </tr>\n",
              "    <tr>\n",
              "      <td>2500</td>\n",
              "      <td>0.161700</td>\n",
              "      <td>0.200327</td>\n",
              "      <td>0.225484</td>\n",
              "    </tr>\n",
              "    <tr>\n",
              "      <td>3000</td>\n",
              "      <td>0.144300</td>\n",
              "      <td>0.217505</td>\n",
              "      <td>0.220729</td>\n",
              "    </tr>\n",
              "    <tr>\n",
              "      <td>3500</td>\n",
              "      <td>0.119000</td>\n",
              "      <td>0.200250</td>\n",
              "      <td>0.216043</td>\n",
              "    </tr>\n",
              "  </tbody>\n",
              "</table><p>"
            ],
            "text/plain": [
              "<IPython.core.display.HTML object>"
            ]
          },
          "metadata": {},
          "output_type": "display_data"
        },
        {
          "name": "stderr",
          "output_type": "stream",
          "text": [
            "The following columns in the evaluation set  don't have a corresponding argument in `Wav2Vec2ForCTC.forward` and have been ignored: input_length.\n",
            "***** Running Evaluation *****\n",
            "  Num examples = 1680\n",
            "  Batch size = 8\n",
            "Saving model checkpoint to wav2vec2-base-960h-timit-demo-colab/checkpoint-500\n",
            "Configuration saved in wav2vec2-base-960h-timit-demo-colab/checkpoint-500/config.json\n",
            "Model weights saved in wav2vec2-base-960h-timit-demo-colab/checkpoint-500/pytorch_model.bin\n",
            "Configuration saved in wav2vec2-base-960h-timit-demo-colab/checkpoint-500/preprocessor_config.json\n",
            "Configuration saved in wav2vec2-base-960h-timit-demo-colab/preprocessor_config.json\n",
            "/usr/local/lib/python3.7/dist-packages/transformers/models/wav2vec2/modeling_wav2vec2.py:882: UserWarning: __floordiv__ is deprecated, and its behavior will change in a future version of pytorch. It currently rounds toward 0 (like the 'trunc' function NOT 'floor'). This results in incorrect rounding for negative values. To keep the current behavior, use torch.div(a, b, rounding_mode='trunc'), or for actual floor division, use torch.div(a, b, rounding_mode='floor').\n",
            "  return (input_length - kernel_size) // stride + 1\n",
            "The following columns in the evaluation set  don't have a corresponding argument in `Wav2Vec2ForCTC.forward` and have been ignored: input_length.\n",
            "***** Running Evaluation *****\n",
            "  Num examples = 1680\n",
            "  Batch size = 8\n",
            "Saving model checkpoint to wav2vec2-base-960h-timit-demo-colab/checkpoint-1000\n",
            "Configuration saved in wav2vec2-base-960h-timit-demo-colab/checkpoint-1000/config.json\n",
            "Model weights saved in wav2vec2-base-960h-timit-demo-colab/checkpoint-1000/pytorch_model.bin\n",
            "Configuration saved in wav2vec2-base-960h-timit-demo-colab/checkpoint-1000/preprocessor_config.json\n",
            "/usr/local/lib/python3.7/dist-packages/transformers/models/wav2vec2/modeling_wav2vec2.py:882: UserWarning: __floordiv__ is deprecated, and its behavior will change in a future version of pytorch. It currently rounds toward 0 (like the 'trunc' function NOT 'floor'). This results in incorrect rounding for negative values. To keep the current behavior, use torch.div(a, b, rounding_mode='trunc'), or for actual floor division, use torch.div(a, b, rounding_mode='floor').\n",
            "  return (input_length - kernel_size) // stride + 1\n",
            "The following columns in the evaluation set  don't have a corresponding argument in `Wav2Vec2ForCTC.forward` and have been ignored: input_length.\n",
            "***** Running Evaluation *****\n",
            "  Num examples = 1680\n",
            "  Batch size = 8\n",
            "Saving model checkpoint to wav2vec2-base-960h-timit-demo-colab/checkpoint-1500\n",
            "Configuration saved in wav2vec2-base-960h-timit-demo-colab/checkpoint-1500/config.json\n",
            "Model weights saved in wav2vec2-base-960h-timit-demo-colab/checkpoint-1500/pytorch_model.bin\n",
            "Configuration saved in wav2vec2-base-960h-timit-demo-colab/checkpoint-1500/preprocessor_config.json\n",
            "Deleting older checkpoint [wav2vec2-base-960h-timit-demo-colab/checkpoint-500] due to args.save_total_limit\n",
            "/usr/local/lib/python3.7/dist-packages/transformers/models/wav2vec2/modeling_wav2vec2.py:882: UserWarning: __floordiv__ is deprecated, and its behavior will change in a future version of pytorch. It currently rounds toward 0 (like the 'trunc' function NOT 'floor'). This results in incorrect rounding for negative values. To keep the current behavior, use torch.div(a, b, rounding_mode='trunc'), or for actual floor division, use torch.div(a, b, rounding_mode='floor').\n",
            "  return (input_length - kernel_size) // stride + 1\n",
            "The following columns in the evaluation set  don't have a corresponding argument in `Wav2Vec2ForCTC.forward` and have been ignored: input_length.\n",
            "***** Running Evaluation *****\n",
            "  Num examples = 1680\n",
            "  Batch size = 8\n",
            "Saving model checkpoint to wav2vec2-base-960h-timit-demo-colab/checkpoint-2000\n",
            "Configuration saved in wav2vec2-base-960h-timit-demo-colab/checkpoint-2000/config.json\n",
            "Model weights saved in wav2vec2-base-960h-timit-demo-colab/checkpoint-2000/pytorch_model.bin\n",
            "Configuration saved in wav2vec2-base-960h-timit-demo-colab/checkpoint-2000/preprocessor_config.json\n",
            "Deleting older checkpoint [wav2vec2-base-960h-timit-demo-colab/checkpoint-1000] due to args.save_total_limit\n",
            "/usr/local/lib/python3.7/dist-packages/transformers/models/wav2vec2/modeling_wav2vec2.py:882: UserWarning: __floordiv__ is deprecated, and its behavior will change in a future version of pytorch. It currently rounds toward 0 (like the 'trunc' function NOT 'floor'). This results in incorrect rounding for negative values. To keep the current behavior, use torch.div(a, b, rounding_mode='trunc'), or for actual floor division, use torch.div(a, b, rounding_mode='floor').\n",
            "  return (input_length - kernel_size) // stride + 1\n",
            "The following columns in the evaluation set  don't have a corresponding argument in `Wav2Vec2ForCTC.forward` and have been ignored: input_length.\n",
            "***** Running Evaluation *****\n",
            "  Num examples = 1680\n",
            "  Batch size = 8\n",
            "Saving model checkpoint to wav2vec2-base-960h-timit-demo-colab/checkpoint-2500\n",
            "Configuration saved in wav2vec2-base-960h-timit-demo-colab/checkpoint-2500/config.json\n",
            "Model weights saved in wav2vec2-base-960h-timit-demo-colab/checkpoint-2500/pytorch_model.bin\n",
            "Configuration saved in wav2vec2-base-960h-timit-demo-colab/checkpoint-2500/preprocessor_config.json\n",
            "Deleting older checkpoint [wav2vec2-base-960h-timit-demo-colab/checkpoint-1500] due to args.save_total_limit\n",
            "/usr/local/lib/python3.7/dist-packages/transformers/models/wav2vec2/modeling_wav2vec2.py:882: UserWarning: __floordiv__ is deprecated, and its behavior will change in a future version of pytorch. It currently rounds toward 0 (like the 'trunc' function NOT 'floor'). This results in incorrect rounding for negative values. To keep the current behavior, use torch.div(a, b, rounding_mode='trunc'), or for actual floor division, use torch.div(a, b, rounding_mode='floor').\n",
            "  return (input_length - kernel_size) // stride + 1\n",
            "The following columns in the evaluation set  don't have a corresponding argument in `Wav2Vec2ForCTC.forward` and have been ignored: input_length.\n",
            "***** Running Evaluation *****\n",
            "  Num examples = 1680\n",
            "  Batch size = 8\n",
            "Saving model checkpoint to wav2vec2-base-960h-timit-demo-colab/checkpoint-3000\n",
            "Configuration saved in wav2vec2-base-960h-timit-demo-colab/checkpoint-3000/config.json\n",
            "Model weights saved in wav2vec2-base-960h-timit-demo-colab/checkpoint-3000/pytorch_model.bin\n",
            "Configuration saved in wav2vec2-base-960h-timit-demo-colab/checkpoint-3000/preprocessor_config.json\n",
            "Deleting older checkpoint [wav2vec2-base-960h-timit-demo-colab/checkpoint-2000] due to args.save_total_limit\n",
            "/usr/local/lib/python3.7/dist-packages/transformers/models/wav2vec2/modeling_wav2vec2.py:882: UserWarning: __floordiv__ is deprecated, and its behavior will change in a future version of pytorch. It currently rounds toward 0 (like the 'trunc' function NOT 'floor'). This results in incorrect rounding for negative values. To keep the current behavior, use torch.div(a, b, rounding_mode='trunc'), or for actual floor division, use torch.div(a, b, rounding_mode='floor').\n",
            "  return (input_length - kernel_size) // stride + 1\n",
            "The following columns in the evaluation set  don't have a corresponding argument in `Wav2Vec2ForCTC.forward` and have been ignored: input_length.\n",
            "***** Running Evaluation *****\n",
            "  Num examples = 1680\n",
            "  Batch size = 8\n",
            "Saving model checkpoint to wav2vec2-base-960h-timit-demo-colab/checkpoint-3500\n",
            "Configuration saved in wav2vec2-base-960h-timit-demo-colab/checkpoint-3500/config.json\n",
            "Model weights saved in wav2vec2-base-960h-timit-demo-colab/checkpoint-3500/pytorch_model.bin\n",
            "Configuration saved in wav2vec2-base-960h-timit-demo-colab/checkpoint-3500/preprocessor_config.json\n",
            "Deleting older checkpoint [wav2vec2-base-960h-timit-demo-colab/checkpoint-2500] due to args.save_total_limit\n",
            "/usr/local/lib/python3.7/dist-packages/transformers/models/wav2vec2/modeling_wav2vec2.py:882: UserWarning: __floordiv__ is deprecated, and its behavior will change in a future version of pytorch. It currently rounds toward 0 (like the 'trunc' function NOT 'floor'). This results in incorrect rounding for negative values. To keep the current behavior, use torch.div(a, b, rounding_mode='trunc'), or for actual floor division, use torch.div(a, b, rounding_mode='floor').\n",
            "  return (input_length - kernel_size) // stride + 1\n",
            "\n",
            "\n",
            "Training completed. Do not forget to share your model on huggingface.co/models =)\n",
            "\n",
            "\n"
          ]
        },
        {
          "data": {
            "text/plain": [
              "TrainOutput(global_step=3750, training_loss=1.2284276260375977, metrics={'train_runtime': 6014.7616, 'train_samples_per_second': 19.841, 'train_steps_per_second': 0.623, 'total_flos': 3.098741829539622e+18, 'train_loss': 1.2284276260375977, 'epoch': 30.0})"
            ]
          },
          "execution_count": null,
          "metadata": {},
          "output_type": "execute_result"
        }
      ],
      "source": [
        "trainer.train()"
      ]
    },
    {
      "cell_type": "markdown",
      "metadata": {
        "id": "UCyp-v3n4Zlt"
      },
      "source": [
        "최종 WER은 약 0.3이어야 하며, 이는 최첨단 음소 오류율(PER)이 0.1 미만이라는 점을 감안할 때 합리적입니다([leaderboard](https://paperswithcode.com/sota/speech-recognition-on). -timit) WER은 일반적으로 PER보다 나쁩니다.\n",
        "\n",
        "이제 교육 결과를 Hub에 업로드할 수 있습니다. 다음 명령을 실행하기만 하면 됩니다."
      ]
    },
    {
      "cell_type": "code",
      "execution_count": null,
      "metadata": {
        "colab": {
          "background_save": true,
          "referenced_widgets": [
            "2ca53dcb661b4169be30e1ae607f780f",
            "bfdb4e24dae94eb7bc411ecfdfaa9214"
          ]
        },
        "id": "JYGQYBhHNsvj",
        "outputId": "9a5368f3-b7a2-481b-d3f7-3e8dea6f7368"
      },
      "outputs": [
        {
          "name": "stderr",
          "output_type": "stream",
          "text": [
            "Saving model checkpoint to wav2vec2-base-960h-timit-demo-colab\n",
            "Configuration saved in wav2vec2-base-960h-timit-demo-colab/config.json\n",
            "Model weights saved in wav2vec2-base-960h-timit-demo-colab/pytorch_model.bin\n",
            "Configuration saved in wav2vec2-base-960h-timit-demo-colab/preprocessor_config.json\n",
            "Several commits (2) will be pushed upstream.\n",
            "The progress bars may be unreliable.\n"
          ]
        },
        {
          "data": {
            "application/vnd.jupyter.widget-view+json": {
              "model_id": "2ca53dcb661b4169be30e1ae607f780f",
              "version_major": 2,
              "version_minor": 0
            },
            "text/plain": [
              "Upload file pytorch_model.bin:   0%|          | 3.34k/360M [00:00<?, ?B/s]"
            ]
          },
          "metadata": {},
          "output_type": "display_data"
        },
        {
          "data": {
            "application/vnd.jupyter.widget-view+json": {
              "model_id": "bfdb4e24dae94eb7bc411ecfdfaa9214",
              "version_major": 2,
              "version_minor": 0
            },
            "text/plain": [
              "Upload file runs/Apr22_02-59-42_f98a3df4d1d0/events.out.tfevents.1650596453.f98a3df4d1d0.97.0:  43%|####3     …"
            ]
          },
          "metadata": {},
          "output_type": "display_data"
        },
        {
          "name": "stderr",
          "output_type": "stream",
          "text": [
            "To https://huggingface.co/obokkkk/wav2vec2-base-960h-timit-demo-colab\n",
            "   bfe8e21..3c0040f  main -> main\n",
            "\n",
            "Dropping the following result as it does not have all the necessary field:\n",
            "{}\n",
            "To https://huggingface.co/obokkkk/wav2vec2-base-960h-timit-demo-colab\n",
            "   3c0040f..e0d91c4  main -> main\n",
            "\n"
          ]
        },
        {
          "data": {
            "application/vnd.google.colaboratory.intrinsic+json": {
              "type": "string"
            },
            "text/plain": [
              "'https://huggingface.co/obokkkk/wav2vec2-base-960h-timit-demo-colab/commit/3c0040fe94779a0e4c6c7b8b4e0522511ca84937'"
            ]
          },
          "execution_count": null,
          "metadata": {},
          "output_type": "execute_result"
        }
      ],
      "source": [
        "trainer.push_to_hub()"
      ]
    },
    {
      "cell_type": "markdown",
      "metadata": {
        "id": "djzwS5WeNu16"
      },
      "source": [
        "이제 이 모델을 모든 친구, 가족, 좋아하는 애완동물과 공유할 수 있습니다. 그들은 모두 \"your-username/the-name-you-picked\" 식별자로 로드할 수 있습니다. 예를 들면 다음과 같습니다."
      ]
    },
    {
      "cell_type": "markdown",
      "metadata": {
        "id": "Adm0LngNNxq7"
      },
      "source": [
        "```python\n",
        "from transformers import AutoModelForCTC, Wav2Vec2Processor\n",
        "\n",
        "model = AutoModelForCTC.from_pretrained(\"patrickvonplaten/wav2vec2-base-timit-demo-colab\")\n",
        "processor = Wav2Vec2Processor.from_pretrained(\"patrickvonplaten/wav2vec2-base-timit-demo-colab\")\n",
        "```"
      ]
    },
    {
      "cell_type": "markdown",
      "metadata": {
        "id": "eWiUwz_BI0MG"
      },
      "source": [
        "### Plot Learning Cureve"
      ]
    },
    {
      "cell_type": "code",
      "execution_count": null,
      "metadata": {
        "colab": {
          "background_save": true
        },
        "id": "A6G-h8MwIuVf"
      },
      "outputs": [],
      "source": [
        "#https://github.com/gmihaila/ml_things/blob/master/src/ml_things/plot_functions.py\n",
        "import matplotlib.pyplot as plt\n",
        "def plot_dict(dict_arrays, start_step=0, step_size=1, use_title=None, points_values=False, points_round=3,\n",
        "              use_xlabel=None, use_xticks=True, use_rotation_xticks=0, xticks_labels=None, use_ylabel=None,\n",
        "              style_sheet='ggplot', use_grid=True,  font_size=None, width=3, height=2,  magnify=1.2,\n",
        "              use_dpi=50, path=None, show_plot=True):\n",
        "    # Check if `dict_arrays` is the correct format.\n",
        "    if not isinstance(dict_arrays, dict):\n",
        "        # Raise value error.\n",
        "        raise ValueError(\"`dict_arrays` needs to be a dictionary of values!\")\n",
        "\n",
        "    # Check each label\n",
        "    for label, array in dict_arrays.items():\n",
        "        # Check if format is correct.\n",
        "        if not isinstance(label, str):\n",
        "            # Raise value error.\n",
        "            raise ValueError(\"`dict_arrays` needs string keys!\")\n",
        "        if not isinstance(array, list) or isinstance(array, np.ndarray):\n",
        "            # Raise value error.\n",
        "            raise ValueError(\"`dict_arrays` needs lists values!\")\n",
        "\n",
        "    # Make sure style sheet is correct.\n",
        "    if style_sheet in plt.style.available:\n",
        "        # Set style of plot\n",
        "        plt.style.use(style_sheet)\n",
        "    else:\n",
        "        # Style is not correct.\n",
        "        raise ValueError(\"`style_sheet=%s` is not in the supported styles: %s\" % (str(style_sheet),\n",
        "                                                                                  str(plt.style.available)))\n",
        "\n",
        "\n",
        "\n",
        "    # all linestyles.\n",
        "    linestyles = ['-', '--', '-.', ':']\n",
        "\n",
        "    # Make sure `font_size` is set right.\n",
        "    if (font_size is not None) and (font_size <= 0):\n",
        "        # Raise value error -  is not correct.\n",
        "        raise ValueError(f'`font_size` needs to be positive number! Invalid value {font_size}')\n",
        "\n",
        "\n",
        "\n",
        "    # Font variables dictionary. Keep it in this format for future updates.\n",
        "    font_dict = dict(\n",
        "        family='DejaVu Sans',\n",
        "        color='black',\n",
        "        weight='normal',\n",
        "        size=font_size,\n",
        "    )\n",
        "\n",
        "\n",
        "\n",
        "    # Single plot figure.\n",
        "    plt.subplot(1, 2, 1)\n",
        "\n",
        "    # Use maximum length of steps. In case each arrya has different lengths.\n",
        "    max_steps = []\n",
        "\n",
        "    # Plot each array.\n",
        "    for index, (use_label, array) in enumerate(dict_arrays.items()):\n",
        "        # Set steps plotted on x-axis - we can use step if 1 unit has different value.\n",
        "        if start_step > 0:\n",
        "            # Offset all steps by start_step.\n",
        "            steps = np.array(range(0, len(array))) * step_size + start_step\n",
        "            max_steps = steps if len(max_steps) < len(steps) else max_steps\n",
        "        else:\n",
        "            steps = np.array(range(1, len(array) + 1)) * step_size\n",
        "            max_steps = steps if len(max_steps) < len(steps) else max_steps\n",
        "  \n",
        "\n",
        "        # Plot array as a single line.\n",
        "        plt.plot(steps, array,  label=use_label)\n",
        "\n",
        "\n",
        "\n",
        "    # Set horizontal axis name.\n",
        "    plt.xlabel(use_xlabel, fontdict=font_dict)\n",
        "\n",
        "    # Use x ticks with steps or labels.\n",
        "    plt.xticks(max_steps, xticks_labels, rotation=use_rotation_xticks) if use_xticks else None\n",
        "\n",
        "    # Set vertical axis name.\n",
        "    plt.ylabel(use_ylabel, fontdict=font_dict)\n",
        "\n",
        "    # Adjust both axis labels font size at same time.\n",
        "    plt.tick_params(labelsize=font_dict['size'])\n",
        "\n",
        "    # Place legend best position.\n",
        "    plt.legend(loc='best', fontsize=font_dict['size'])\n",
        "\n",
        "\n",
        "    # Set title of figure.\n",
        "    plt.title(use_title, fontdict=font_dict)\n",
        "\n",
        "\n",
        "    # Display grid depending on `use_grid`.\n",
        "    plt.grid(use_grid)\n",
        "\n",
        "    # Make figure nice.\n",
        "    plt.tight_layout()\n",
        "\n",
        "    # Get figure object from plot.\n",
        "    fig = plt.gcf()\n",
        "\n",
        "    # Get size of figure.\n",
        "    figsize = fig.get_size_inches()\n",
        "\n",
        "    # Change size depending on height and width variables.\n",
        "    figsize = [figsize[0] * width * magnify, figsize[1] * height * magnify]\n",
        "\n",
        "\n",
        "    # Set the new figure size with magnify.\n",
        "    fig.set_size_inches(figsize)\n",
        "\n",
        "\n",
        "\n",
        "    # Show plot.\n",
        "    plt.show() if show_plot is True else None\n",
        "\n",
        "    return"
      ]
    },
    {
      "cell_type": "code",
      "execution_count": null,
      "metadata": {
        "colab": {
          "background_save": true
        },
        "id": "QMoqrhC3I4u5",
        "outputId": "bfd3e48a-cbc2-4531-8d9a-e87f4181eeab"
      },
      "outputs": [
        {
          "data": {
            "image/png": "[encoded data removed]",
            "text/plain": [
              "<Figure size 1555.2x691.2 with 1 Axes>"
            ]
          },
          "metadata": {},
          "output_type": "display_data"
        }
      ],
      "source": [
        "#https://www.topbots.com/pretrain-transformers-models-in-pytorch/\n",
        "import math\n",
        "import numpy as np\n",
        "import warnings\n",
        "# Keep track of train and evaluate loss.\n",
        "loss_history = {'train_loss':[], 'eval_loss':[]}\n",
        "\n",
        "# Loop through each log history.\n",
        "for log_history in trainer.state.log_history:\n",
        " \n",
        "  if 'loss' in log_history.keys():\n",
        "    # Deal with trianing loss.\n",
        "    loss_history['train_loss'].append(log_history['loss'])\n",
        "\n",
        "     \n",
        "  elif 'eval_loss' in log_history.keys():\n",
        "    # Deal with eval loss.\n",
        "    loss_history['eval_loss'].append(log_history['eval_loss'])\n",
        " \n",
        " \n",
        "# Plot Losses.\n",
        "plot_dict(loss_history, start_step=1, \n",
        "          step_size=1, use_title='Loss', \n",
        "          use_xlabel='Train Steps', use_ylabel='Values')"
      ]
    },
    {
      "cell_type": "markdown",
      "metadata": {
        "id": "nD4XP5IHncsY"
      },
      "source": [
        "### Evaluate\n",
        "\n",
        "마지막 부분에서는 모델이 얼마나 잘 작동하는지 확인하기 위해 일부  validation data에 대해 모델을 실행합니다.\n",
        "\n",
        "`processor` 와 `model`을 로드해 보겠습니다.\n"
      ]
    },
    {
      "cell_type": "code",
      "execution_count": null,
      "metadata": {
        "colab": {
          "background_save": true,
          "referenced_widgets": [
            "3ce66999243942f482527857a2e716f1",
            "3ea3be99e0454b7c8cadf783d0a7f50e",
            "018d4ebbf201419ebed7933f5ce49fe9",
            "7df63bcad1af498fa8a89c7031b95820"
          ]
        },
        "id": "-rg0USDCnbo6",
        "outputId": "56923f26-6649-4e85-a151-bd9f1840c4ef"
      },
      "outputs": [
        {
          "name": "stderr",
          "output_type": "stream",
          "text": [
            "https://huggingface.co/obokkkk/wav2vec2-base-960h-timit-demo-colab/resolve/main/preprocessor_config.json not found in cache or force_download set to True, downloading to /root/.cache/huggingface/transformers/tmpf_tdw75s\n"
          ]
        },
        {
          "data": {
            "application/vnd.jupyter.widget-view+json": {
              "model_id": "3ce66999243942f482527857a2e716f1",
              "version_major": 2,
              "version_minor": 0
            },
            "text/plain": [
              "Downloading:   0%|          | 0.00/215 [00:00<?, ?B/s]"
            ]
          },
          "metadata": {},
          "output_type": "display_data"
        },
        {
          "name": "stderr",
          "output_type": "stream",
          "text": [
            "storing https://huggingface.co/obokkkk/wav2vec2-base-960h-timit-demo-colab/resolve/main/preprocessor_config.json in cache at /root/.cache/huggingface/transformers/f226f46987277226f1e8abc6950560be2514a4c833e4cb593df05fccc2adbe2a.0e3e6656f99a6f7b9eddd943463eb7f34363640fce9e87b047ebd50d4b112b50\n",
            "creating metadata file for /root/.cache/huggingface/transformers/f226f46987277226f1e8abc6950560be2514a4c833e4cb593df05fccc2adbe2a.0e3e6656f99a6f7b9eddd943463eb7f34363640fce9e87b047ebd50d4b112b50\n",
            "loading feature extractor configuration file https://huggingface.co/obokkkk/wav2vec2-base-960h-timit-demo-colab/resolve/main/preprocessor_config.json from cache at /root/.cache/huggingface/transformers/f226f46987277226f1e8abc6950560be2514a4c833e4cb593df05fccc2adbe2a.0e3e6656f99a6f7b9eddd943463eb7f34363640fce9e87b047ebd50d4b112b50\n",
            "Feature extractor Wav2Vec2FeatureExtractor {\n",
            "  \"do_normalize\": true,\n",
            "  \"feature_extractor_type\": \"Wav2Vec2FeatureExtractor\",\n",
            "  \"feature_size\": 1,\n",
            "  \"padding_side\": \"right\",\n",
            "  \"padding_value\": 0.0,\n",
            "  \"return_attention_mask\": false,\n",
            "  \"sampling_rate\": 16000\n",
            "}\n",
            "\n",
            "https://huggingface.co/obokkkk/wav2vec2-base-960h-timit-demo-colab/resolve/main/vocab.json not found in cache or force_download set to True, downloading to /root/.cache/huggingface/transformers/tmpaz245h48\n"
          ]
        },
        {
          "data": {
            "application/vnd.jupyter.widget-view+json": {
              "model_id": "3ea3be99e0454b7c8cadf783d0a7f50e",
              "version_major": 2,
              "version_minor": 0
            },
            "text/plain": [
              "Downloading:   0%|          | 0.00/268 [00:00<?, ?B/s]"
            ]
          },
          "metadata": {},
          "output_type": "display_data"
        },
        {
          "name": "stderr",
          "output_type": "stream",
          "text": [
            "storing https://huggingface.co/obokkkk/wav2vec2-base-960h-timit-demo-colab/resolve/main/vocab.json in cache at /root/.cache/huggingface/transformers/3fa3f1268a416448ff8831ab46dcbfe56199e116f367bd9dbe8dc1a0e5b2d1f2.d7785e7aa8996c51449fed5e33657b573fcf612446169d75a8607247b9da5e19\n",
            "creating metadata file for /root/.cache/huggingface/transformers/3fa3f1268a416448ff8831ab46dcbfe56199e116f367bd9dbe8dc1a0e5b2d1f2.d7785e7aa8996c51449fed5e33657b573fcf612446169d75a8607247b9da5e19\n",
            "https://huggingface.co/obokkkk/wav2vec2-base-960h-timit-demo-colab/resolve/main/tokenizer_config.json not found in cache or force_download set to True, downloading to /root/.cache/huggingface/transformers/tmplkqrmijq\n"
          ]
        },
        {
          "data": {
            "application/vnd.jupyter.widget-view+json": {
              "model_id": "018d4ebbf201419ebed7933f5ce49fe9",
              "version_major": 2,
              "version_minor": 0
            },
            "text/plain": [
              "Downloading:   0%|          | 0.00/181 [00:00<?, ?B/s]"
            ]
          },
          "metadata": {},
          "output_type": "display_data"
        },
        {
          "name": "stderr",
          "output_type": "stream",
          "text": [
            "storing https://huggingface.co/obokkkk/wav2vec2-base-960h-timit-demo-colab/resolve/main/tokenizer_config.json in cache at /root/.cache/huggingface/transformers/f75636c5ad61cff660277e3153a17d0c7c79085f791c16b2efd9201ebea72e95.9a832b91e3d317e7bec01bab5134265b75f2d6b05a270d0140d8a116c51b8591\n",
            "creating metadata file for /root/.cache/huggingface/transformers/f75636c5ad61cff660277e3153a17d0c7c79085f791c16b2efd9201ebea72e95.9a832b91e3d317e7bec01bab5134265b75f2d6b05a270d0140d8a116c51b8591\n",
            "https://huggingface.co/obokkkk/wav2vec2-base-960h-timit-demo-colab/resolve/main/special_tokens_map.json not found in cache or force_download set to True, downloading to /root/.cache/huggingface/transformers/tmp4395w1nx\n"
          ]
        },
        {
          "data": {
            "application/vnd.jupyter.widget-view+json": {
              "model_id": "7df63bcad1af498fa8a89c7031b95820",
              "version_major": 2,
              "version_minor": 0
            },
            "text/plain": [
              "Downloading:   0%|          | 0.00/85.0 [00:00<?, ?B/s]"
            ]
          },
          "metadata": {},
          "output_type": "display_data"
        },
        {
          "name": "stderr",
          "output_type": "stream",
          "text": [
            "storing https://huggingface.co/obokkkk/wav2vec2-base-960h-timit-demo-colab/resolve/main/special_tokens_map.json in cache at /root/.cache/huggingface/transformers/3a46a3966298b3843643a0a4edc74f973d30b5790e17087045ceda1b7604f653.a21d51735cf8667bcd610f057e88548d5d6a381401f6b4501a8bc6c1a9dc8498\n",
            "creating metadata file for /root/.cache/huggingface/transformers/3a46a3966298b3843643a0a4edc74f973d30b5790e17087045ceda1b7604f653.a21d51735cf8667bcd610f057e88548d5d6a381401f6b4501a8bc6c1a9dc8498\n",
            "loading file https://huggingface.co/obokkkk/wav2vec2-base-960h-timit-demo-colab/resolve/main/vocab.json from cache at /root/.cache/huggingface/transformers/3fa3f1268a416448ff8831ab46dcbfe56199e116f367bd9dbe8dc1a0e5b2d1f2.d7785e7aa8996c51449fed5e33657b573fcf612446169d75a8607247b9da5e19\n",
            "loading file https://huggingface.co/obokkkk/wav2vec2-base-960h-timit-demo-colab/resolve/main/tokenizer_config.json from cache at /root/.cache/huggingface/transformers/f75636c5ad61cff660277e3153a17d0c7c79085f791c16b2efd9201ebea72e95.9a832b91e3d317e7bec01bab5134265b75f2d6b05a270d0140d8a116c51b8591\n",
            "loading file https://huggingface.co/obokkkk/wav2vec2-base-960h-timit-demo-colab/resolve/main/added_tokens.json from cache at None\n",
            "loading file https://huggingface.co/obokkkk/wav2vec2-base-960h-timit-demo-colab/resolve/main/special_tokens_map.json from cache at /root/.cache/huggingface/transformers/3a46a3966298b3843643a0a4edc74f973d30b5790e17087045ceda1b7604f653.a21d51735cf8667bcd610f057e88548d5d6a381401f6b4501a8bc6c1a9dc8498\n",
            "loading file https://huggingface.co/obokkkk/wav2vec2-base-960h-timit-demo-colab/resolve/main/tokenizer.json from cache at None\n",
            "Adding <s> to the vocabulary\n",
            "Adding </s> to the vocabulary\n",
            "Special tokens have been added in the vocabulary, make sure the associated word embeddings are fine-tuned or trained.\n"
          ]
        }
      ],
      "source": [
        "processor = Wav2Vec2Processor.from_pretrained(\"obokkkk/wav2vec2-base-960h-timit-demo-colab\")"
      ]
    },
    {
      "cell_type": "code",
      "execution_count": null,
      "metadata": {
        "colab": {
          "background_save": true,
          "referenced_widgets": [
            "96e20fcde024488aa04da1b4b3da72b0",
            "8b0a1f269fd24ae599104e4c80828373"
          ]
        },
        "id": "sSpFW3pDn23P",
        "outputId": "e3cf04ce-56ae-4b4f-b16b-710ed975969a"
      },
      "outputs": [
        {
          "name": "stderr",
          "output_type": "stream",
          "text": [
            "https://huggingface.co/obokkkk/wav2vec2-base-960h-timit-demo-colab/resolve/main/config.json not found in cache or force_download set to True, downloading to /root/.cache/huggingface/transformers/tmp95dy2myf\n"
          ]
        },
        {
          "data": {
            "application/vnd.jupyter.widget-view+json": {
              "model_id": "96e20fcde024488aa04da1b4b3da72b0",
              "version_major": 2,
              "version_minor": 0
            },
            "text/plain": [
              "Downloading:   0%|          | 0.00/1.65k [00:00<?, ?B/s]"
            ]
          },
          "metadata": {},
          "output_type": "display_data"
        },
        {
          "name": "stderr",
          "output_type": "stream",
          "text": [
            "storing https://huggingface.co/obokkkk/wav2vec2-base-960h-timit-demo-colab/resolve/main/config.json in cache at /root/.cache/huggingface/transformers/79d55b50e7e573f533f0d714ed1c4b68bd8c0969ce85779398fbdc00802854a8.711396f9e432c0c049604e12d9b184cdb5a477eec87329f972ecf14090a9721e\n",
            "creating metadata file for /root/.cache/huggingface/transformers/79d55b50e7e573f533f0d714ed1c4b68bd8c0969ce85779398fbdc00802854a8.711396f9e432c0c049604e12d9b184cdb5a477eec87329f972ecf14090a9721e\n",
            "loading configuration file https://huggingface.co/obokkkk/wav2vec2-base-960h-timit-demo-colab/resolve/main/config.json from cache at /root/.cache/huggingface/transformers/79d55b50e7e573f533f0d714ed1c4b68bd8c0969ce85779398fbdc00802854a8.711396f9e432c0c049604e12d9b184cdb5a477eec87329f972ecf14090a9721e\n",
            "Model config Wav2Vec2Config {\n",
            "  \"_name_or_path\": \"facebook/wav2vec2-base-960h\",\n",
            "  \"activation_dropout\": 0.1,\n",
            "  \"apply_spec_augment\": true,\n",
            "  \"architectures\": [\n",
            "    \"Wav2Vec2ForCTC\"\n",
            "  ],\n",
            "  \"attention_dropout\": 0.1,\n",
            "  \"bos_token_id\": 1,\n",
            "  \"classifier_proj_size\": 256,\n",
            "  \"codevector_dim\": 256,\n",
            "  \"contrastive_logits_temperature\": 0.1,\n",
            "  \"conv_bias\": false,\n",
            "  \"conv_dim\": [\n",
            "    512,\n",
            "    512,\n",
            "    512,\n",
            "    512,\n",
            "    512,\n",
            "    512,\n",
            "    512\n",
            "  ],\n",
            "  \"conv_kernel\": [\n",
            "    10,\n",
            "    3,\n",
            "    3,\n",
            "    3,\n",
            "    3,\n",
            "    2,\n",
            "    2\n",
            "  ],\n",
            "  \"conv_stride\": [\n",
            "    5,\n",
            "    2,\n",
            "    2,\n",
            "    2,\n",
            "    2,\n",
            "    2,\n",
            "    2\n",
            "  ],\n",
            "  \"ctc_loss_reduction\": \"mean\",\n",
            "  \"ctc_zero_infinity\": false,\n",
            "  \"diversity_loss_weight\": 0.1,\n",
            "  \"do_stable_layer_norm\": false,\n",
            "  \"eos_token_id\": 2,\n",
            "  \"feat_extract_activation\": \"gelu\",\n",
            "  \"feat_extract_dropout\": 0.0,\n",
            "  \"feat_extract_norm\": \"group\",\n",
            "  \"feat_proj_dropout\": 0.1,\n",
            "  \"feat_quantizer_dropout\": 0.0,\n",
            "  \"final_dropout\": 0.1,\n",
            "  \"gradient_checkpointing\": false,\n",
            "  \"hidden_act\": \"gelu\",\n",
            "  \"hidden_dropout\": 0.1,\n",
            "  \"hidden_dropout_prob\": 0.1,\n",
            "  \"hidden_size\": 768,\n",
            "  \"initializer_range\": 0.02,\n",
            "  \"intermediate_size\": 3072,\n",
            "  \"layer_norm_eps\": 1e-05,\n",
            "  \"layerdrop\": 0.1,\n",
            "  \"mask_feature_length\": 10,\n",
            "  \"mask_feature_prob\": 0.0,\n",
            "  \"mask_time_length\": 10,\n",
            "  \"mask_time_prob\": 0.05,\n",
            "  \"model_type\": \"wav2vec2\",\n",
            "  \"num_attention_heads\": 12,\n",
            "  \"num_codevector_groups\": 2,\n",
            "  \"num_codevectors_per_group\": 320,\n",
            "  \"num_conv_pos_embedding_groups\": 16,\n",
            "  \"num_conv_pos_embeddings\": 128,\n",
            "  \"num_feat_extract_layers\": 7,\n",
            "  \"num_hidden_layers\": 12,\n",
            "  \"num_negatives\": 100,\n",
            "  \"pad_token_id\": 29,\n",
            "  \"proj_codevector_dim\": 256,\n",
            "  \"torch_dtype\": \"float32\",\n",
            "  \"transformers_version\": \"4.11.3\",\n",
            "  \"use_weighted_layer_sum\": false,\n",
            "  \"vocab_size\": 32\n",
            "}\n",
            "\n",
            "https://huggingface.co/obokkkk/wav2vec2-base-960h-timit-demo-colab/resolve/main/pytorch_model.bin not found in cache or force_download set to True, downloading to /root/.cache/huggingface/transformers/tmpb01jnx7i\n"
          ]
        },
        {
          "data": {
            "application/vnd.jupyter.widget-view+json": {
              "model_id": "8b0a1f269fd24ae599104e4c80828373",
              "version_major": 2,
              "version_minor": 0
            },
            "text/plain": [
              "Downloading:   0%|          | 0.00/360M [00:00<?, ?B/s]"
            ]
          },
          "metadata": {},
          "output_type": "display_data"
        },
        {
          "name": "stderr",
          "output_type": "stream",
          "text": [
            "storing https://huggingface.co/obokkkk/wav2vec2-base-960h-timit-demo-colab/resolve/main/pytorch_model.bin in cache at /root/.cache/huggingface/transformers/b34f705bcf46c8ba66d6afbf971830276e175ce1f316131a60127585cbe9d49a.17512fbc62e6e1a196e7760932f6c649caeb151d9a5b2882a20f003b18611195\n",
            "creating metadata file for /root/.cache/huggingface/transformers/b34f705bcf46c8ba66d6afbf971830276e175ce1f316131a60127585cbe9d49a.17512fbc62e6e1a196e7760932f6c649caeb151d9a5b2882a20f003b18611195\n",
            "loading weights file https://huggingface.co/obokkkk/wav2vec2-base-960h-timit-demo-colab/resolve/main/pytorch_model.bin from cache at /root/.cache/huggingface/transformers/b34f705bcf46c8ba66d6afbf971830276e175ce1f316131a60127585cbe9d49a.17512fbc62e6e1a196e7760932f6c649caeb151d9a5b2882a20f003b18611195\n",
            "All model checkpoint weights were used when initializing Wav2Vec2ForCTC.\n",
            "\n",
            "All the weights of Wav2Vec2ForCTC were initialized from the model checkpoint at obokkkk/wav2vec2-base-960h-timit-demo-colab.\n",
            "If your task is similar to the task the model of the checkpoint was trained on, you can already use Wav2Vec2ForCTC for predictions without further training.\n"
          ]
        }
      ],
      "source": [
        "model = Wav2Vec2ForCTC.from_pretrained(\"obokkkk/wav2vec2-base-960h-timit-demo-colab\")"
      ]
    },
    {
      "cell_type": "markdown",
      "metadata": {
        "id": "TUuZpB0v5jn_"
      },
      "source": [
        "이제 'map(...)' 함수를 사용하여 모든 테스트 샘플의 전사를 예측하고 데이터 세트 자체에 예측을 저장합니다. 결과 사전을 `\"results\"`라고 부를 것입니다.\n",
        "\n",
        "**참고**: 이 [issue](https://github.com/pytorch/fairseq/issues/3227)로 인해 의도적으로 `batch_size=1`로 테스트 데이터 세트를 평가합니다. 패딩된 입력은 패딩되지 않은 입력과 정확히 동일한 출력을 생성하지 않으므로 입력을 전혀 패딩하지 않음으로써 더 나은 WER을 얻을 수 있습니다.\n"
      ]
    },
    {
      "cell_type": "code",
      "execution_count": null,
      "metadata": {
        "colab": {
          "background_save": true
        },
        "id": "40naJl53n7jT"
      },
      "outputs": [],
      "source": [
        "def map_to_result(batch):\n",
        "  with torch.no_grad():\n",
        "    input_values = torch.tensor(batch[\"input_values\"]).unsqueeze(0)\n",
        "    logits = model(input_values).logits\n",
        "\n",
        "  pred_ids = torch.argmax(logits, dim=-1)\n",
        "  batch[\"pred_str\"] = processor.batch_decode(pred_ids)[0]\n",
        "  batch[\"text\"] = processor.decode(batch[\"labels\"], group_tokens=False)\n",
        "  \n",
        "  return batch"
      ]
    },
    {
      "cell_type": "code",
      "execution_count": null,
      "metadata": {
        "colab": {
          "background_save": true,
          "referenced_widgets": [
            "60fd8aa394844027a836f327383855a5"
          ]
        },
        "id": "uPqH7gZqrGPi",
        "outputId": "db080e29-0ccd-49ea-a29c-2f1aec53b436"
      },
      "outputs": [
        {
          "data": {
            "application/vnd.jupyter.widget-view+json": {
              "model_id": "60fd8aa394844027a836f327383855a5",
              "version_major": 2,
              "version_minor": 0
            },
            "text/plain": [
              "0ex [00:00, ?ex/s]"
            ]
          },
          "metadata": {},
          "output_type": "display_data"
        }
      ],
      "source": [
        "results = timit[\"test\"].map(map_to_result, remove_columns=timit[\"test\"].column_names)"
      ]
    },
    {
      "cell_type": "markdown",
      "metadata": {
        "id": "-mqpdB8R6rty"
      },
      "source": [
        "Let's compute the overall WER now."
      ]
    },
    {
      "cell_type": "code",
      "execution_count": null,
      "metadata": {
        "id": "PmqAb4Isx8OK"
      },
      "outputs": [],
      "source": [
        "print(\"Test WER: {:.3f}\".format(wer_metric.compute(predictions=results[\"pred_str\"], references=results[\"text\"])))"
      ]
    },
    {
      "cell_type": "markdown",
      "metadata": {
        "id": "6Va94d8Y7Q98"
      },
      "source": [
        "22.1% WER -  우리의 데모 모델은 아마도 공식  [leaderboard](https://paperswithcode.com/sota/speech-recognition-on-timit)에 올랐을 것입니다.\n",
        "\n",
        "모델에서 어떤 오류가 발생하는지 보기 위해 몇 가지 예측을 살펴보겠습니다."
      ]
    },
    {
      "cell_type": "code",
      "execution_count": null,
      "metadata": {
        "colab": {
          "background_save": true
        },
        "id": "odNDiFVRy53w",
        "outputId": "f06fcd91-c22b-4681-be6f-13c6240ed83e"
      },
      "outputs": [
        {
          "data": {
            "text/html": [
              "<table border=\"1\" class=\"dataframe\">\n",
              "  <thead>\n",
              "    <tr style=\"text-align: right;\">\n",
              "      <th></th>\n",
              "      <th>pred_str</th>\n",
              "      <th>text</th>\n",
              "    </tr>\n",
              "  </thead>\n",
              "  <tbody>\n",
              "    <tr>\n",
              "      <th>0</th>\n",
              "      <td>aim to balance your employ you benefit package</td>\n",
              "      <td>aim to balance your employee benefit package</td>\n",
              "    </tr>\n",
              "    <tr>\n",
              "      <th>1</th>\n",
              "      <td>the fog prevented them from arriving on tom</td>\n",
              "      <td>the fog prevented them from arriving on time</td>\n",
              "    </tr>\n",
              "    <tr>\n",
              "      <th>2</th>\n",
              "      <td>young children should avoid exposure to contageous diseases</td>\n",
              "      <td>young children should avoid exposure to contagious diseases</td>\n",
              "    </tr>\n",
              "    <tr>\n",
              "      <th>3</th>\n",
              "      <td>artificial intelligence is for real</td>\n",
              "      <td>artificial intelligence is for real</td>\n",
              "    </tr>\n",
              "    <tr>\n",
              "      <th>4</th>\n",
              "      <td>their props were two step ladders a chair and a palm fan</td>\n",
              "      <td>their props were two stepladders a chair and a palm fan</td>\n",
              "    </tr>\n",
              "    <tr>\n",
              "      <th>5</th>\n",
              "      <td>if people were more generous there would be no need for welfare</td>\n",
              "      <td>if people were more generous there would be no need for welfare</td>\n",
              "    </tr>\n",
              "    <tr>\n",
              "      <th>6</th>\n",
              "      <td>the fish began to leap frantically on the surface of the small eakhe</td>\n",
              "      <td>the fish began to leap frantically on the surface of the small lake</td>\n",
              "    </tr>\n",
              "    <tr>\n",
              "      <th>7</th>\n",
              "      <td>her right hand eagches whenever the barametric pressure changes</td>\n",
              "      <td>her right hand aches whenever the barometric pressure changes</td>\n",
              "    </tr>\n",
              "    <tr>\n",
              "      <th>8</th>\n",
              "      <td>only lawyers love millionaires</td>\n",
              "      <td>only lawyers love millionaires</td>\n",
              "    </tr>\n",
              "    <tr>\n",
              "      <th>9</th>\n",
              "      <td>the nearest cenegade may not be within walkon distance</td>\n",
              "      <td>the nearest synagogue may not be within walking distance</td>\n",
              "    </tr>\n",
              "  </tbody>\n",
              "</table>"
            ],
            "text/plain": [
              "<IPython.core.display.HTML object>"
            ]
          },
          "metadata": {},
          "output_type": "display_data"
        }
      ],
      "source": [
        "show_random_elements(results)"
      ]
    },
    {
      "cell_type": "markdown",
      "metadata": {
        "id": "5HFCujhd9n4N"
      },
      "source": [
        "예측된 전사가 정답 전사와 음향적으로 매우 유사하지만 종종 철자나 문법 오류가 포함되어 있음이 분명해집니다. \n",
        "\n",
        "우리가 언어 모델을 사용하지 않고 순수하게 Wav2Vec2에 의존한다는 점을 감안할 때 적절한 결과"
      ]
    },
    {
      "cell_type": "markdown",
      "metadata": {
        "id": "a3ydKvUl9FTK"
      },
      "source": [
        "Finally, to better understand how CTC works, it is worth taking a deeper look at the exact output of the model. Let's run the first test sample through the model, take the predicted ids and convert them to their corresponding tokens."
      ]
    },
    {
      "cell_type": "code",
      "execution_count": null,
      "metadata": {
        "id": "AqaM45t87uM4"
      },
      "outputs": [],
      "source": [
        "model.to(\"cuda\")\n",
        "\n",
        "with torch.no_grad():\n",
        "  logits = model(torch.tensor(timit[\"test\"][:1][\"input_values\"], device=\"cuda\")).logits\n",
        "\n",
        "pred_ids = torch.argmax(logits, dim=-1)\n",
        "\n",
        "# convert ids to tokens\n",
        "\" \".join(processor.tokenizer.convert_ids_to_tokens(pred_ids[0].tolist()))"
      ]
    },
    {
      "cell_type": "markdown",
      "metadata": {
        "id": "tdO8E28g-n5C"
      },
      "source": [
        "출력은 CTC가 실제로 어떻게 작동하는지 좀 더 명확하게 해야 합니다. 모델은 분류할 음성 청크가 여전히 동일한 토큰에 해당하는 경우 동일한 토큰을 반복하는 방법을 배웠기 때문에 말하기 속도에 어느 정도 불변합니다. 이는 음성 파일의 전사가 길이와 거의 무관한 경우가 많기 때문에 CTC를 음성 인식을 위한 매우 강력한 알고리즘으로 만듭니다.\n",
        "\n",
        "독자들에게 CTC를 더 잘 이해하기 위해 [this](https://distill.pub/2017/ctc) 아주 멋진 블로그 게시물을 살펴보기를 다시 권합니다."
      ]
    },
    {
      "cell_type": "code",
      "execution_count": null,
      "metadata": {
        "id": "FqGgxPBpIpbS"
      },
      "outputs": [],
      "source": [
        ""
      ]
    }
  ],
  "metadata": {
    "accelerator": "GPU",
    "colab": {
      "collapsed_sections": [],
      "machine_shape": "hm",
      "name": "wav2vec2-base-960h_finetuned_TIMIT",
      "provenance": []
    },
    "kernelspec": {
      "display_name": "Python 3",
      "name": "python3"
    },
    "widgets": {
      "application/vnd.jupyter.widget-state+json": {
        "00e6878981b6423cb40622a1da6d04a2": {
          "model_module": "@jupyter-widgets/base",
          "model_module_version": "1.2.0",
          "model_name": "LayoutModel",
          "state": {
            "_model_module": "@jupyter-widgets/base",
            "_model_module_version": "1.2.0",
            "_model_name": "LayoutModel",
            "_view_count": null,
            "_view_module": "@jupyter-widgets/base",
            "_view_module_version": "1.2.0",
            "_view_name": "LayoutView",
            "align_content": null,
            "align_items": null,
            "align_self": null,
            "border": null,
            "bottom": null,
            "display": null,
            "flex": null,
            "flex_flow": null,
            "grid_area": null,
            "grid_auto_columns": null,
            "grid_auto_flow": null,
            "grid_auto_rows": null,
            "grid_column": null,
            "grid_gap": null,
            "grid_row": null,
            "grid_template_areas": null,
            "grid_template_columns": null,
            "grid_template_rows": null,
            "height": null,
            "justify_content": null,
            "justify_items": null,
            "left": null,
            "margin": null,
            "max_height": null,
            "max_width": null,
            "min_height": null,
            "min_width": null,
            "object_fit": null,
            "object_position": null,
            "order": null,
            "overflow": null,
            "overflow_x": null,
            "overflow_y": null,
            "padding": null,
            "right": null,
            "top": null,
            "visibility": null,
            "width": null
          }
        },
        "014fe6cb084a4cec8ead33f0f73e7892": {
          "model_module": "@jupyter-widgets/controls",
          "model_module_version": "1.5.0",
          "model_name": "HTMLModel",
          "state": {
            "_dom_classes": [],
            "_model_module": "@jupyter-widgets/controls",
            "_model_module_version": "1.5.0",
            "_model_name": "HTMLModel",
            "_view_count": null,
            "_view_module": "@jupyter-widgets/controls",
            "_view_module_version": "1.5.0",
            "_view_name": "HTMLView",
            "description": "",
            "description_tooltip": null,
            "layout": "IPY_MODEL_b90c507607824b869a926758a96d04c1",
            "placeholder": "​",
            "style": "IPY_MODEL_c750ec6d6b1149cf8cedc06597c98b58",
            "value": " 360M/360M [00:05&lt;00:00, 64.6MB/s]"
          }
        },
        "046dfcc9bf644510961293d0df19f1d3": {
          "model_module": "@jupyter-widgets/controls",
          "model_module_version": "1.5.0",
          "model_name": "HTMLModel",
          "state": {
            "_dom_classes": [],
            "_model_module": "@jupyter-widgets/controls",
            "_model_module_version": "1.5.0",
            "_model_name": "HTMLModel",
            "_view_count": null,
            "_view_module": "@jupyter-widgets/controls",
            "_view_module_version": "1.5.0",
            "_view_name": "HTMLView",
            "description": "",
            "description_tooltip": null,
            "layout": "IPY_MODEL_9a7070142057491890f8e95dbe89ee09",
            "placeholder": "​",
            "style": "IPY_MODEL_c79ab1e74ade4f1fbedb47722535fa2f",
            "value": " 869M/869M [00:16&lt;00:00, 61.5MB/s]"
          }
        },
        "04a56ceaa56e4f239785c06af875a2a6": {
          "model_module": "@jupyter-widgets/base",
          "model_module_version": "1.2.0",
          "model_name": "LayoutModel",
          "state": {
            "_model_module": "@jupyter-widgets/base",
            "_model_module_version": "1.2.0",
            "_model_name": "LayoutModel",
            "_view_count": null,
            "_view_module": "@jupyter-widgets/base",
            "_view_module_version": "1.2.0",
            "_view_name": "LayoutView",
            "align_content": null,
            "align_items": null,
            "align_self": null,
            "border": null,
            "bottom": null,
            "display": null,
            "flex": null,
            "flex_flow": null,
            "grid_area": null,
            "grid_auto_columns": null,
            "grid_auto_flow": null,
            "grid_auto_rows": null,
            "grid_column": null,
            "grid_gap": null,
            "grid_row": null,
            "grid_template_areas": null,
            "grid_template_columns": null,
            "grid_template_rows": null,
            "height": null,
            "justify_content": null,
            "justify_items": null,
            "left": null,
            "margin": null,
            "max_height": null,
            "max_width": null,
            "min_height": null,
            "min_width": null,
            "object_fit": null,
            "object_position": null,
            "order": null,
            "overflow": null,
            "overflow_x": null,
            "overflow_y": null,
            "padding": null,
            "right": null,
            "top": null,
            "visibility": null,
            "width": null
          }
        },
        "0539172adc5c401199c1a5c662eab0dc": {
          "model_module": "@jupyter-widgets/controls",
          "model_module_version": "1.5.0",
          "model_name": "HBoxModel",
          "state": {
            "_dom_classes": [],
            "_model_module": "@jupyter-widgets/controls",
            "_model_module_version": "1.5.0",
            "_model_name": "HBoxModel",
            "_view_count": null,
            "_view_module": "@jupyter-widgets/controls",
            "_view_module_version": "1.5.0",
            "_view_name": "HBoxView",
            "box_style": "",
            "children": [
              "IPY_MODEL_67465c0e949b4853ba0bce3fa79f8156",
              "IPY_MODEL_e18dc9d631ab4d3fa9d6e0764ae21d9d",
              "IPY_MODEL_014fe6cb084a4cec8ead33f0f73e7892"
            ],
            "layout": "IPY_MODEL_a655071684ba499e84c4c14abcdb27e3"
          }
        },
        "0548c6a531e44b43b2ddb92d0dd284b8": {
          "model_module": "@jupyter-widgets/controls",
          "model_module_version": "1.5.0",
          "model_name": "DescriptionStyleModel",
          "state": {
            "_model_module": "@jupyter-widgets/controls",
            "_model_module_version": "1.5.0",
            "_model_name": "DescriptionStyleModel",
            "_view_count": null,
            "_view_module": "@jupyter-widgets/base",
            "_view_module_version": "1.2.0",
            "_view_name": "StyleView",
            "description_width": ""
          }
        },
        "057ec9fb42ee4ea3a383ad1d441e633d": {
          "model_module": "@jupyter-widgets/controls",
          "model_module_version": "1.5.0",
          "model_name": "FloatProgressModel",
          "state": {
            "_dom_classes": [],
            "_model_module": "@jupyter-widgets/controls",
            "_model_module_version": "1.5.0",
            "_model_name": "FloatProgressModel",
            "_view_count": null,
            "_view_module": "@jupyter-widgets/controls",
            "_view_module_version": "1.5.0",
            "_view_name": "ProgressView",
            "bar_style": "success",
            "description": "",
            "description_tooltip": null,
            "layout": "IPY_MODEL_70586f0c818c435aa22c6acab870a4c1",
            "max": 869007403,
            "min": 0,
            "orientation": "horizontal",
            "style": "IPY_MODEL_f0c29c8412f340b3ba1ca5f6d1b0d74a",
            "value": 869007403
          }
        },
        "059094a1063b4e048684b099c253a94a": {
          "model_module": "@jupyter-widgets/base",
          "model_module_version": "1.2.0",
          "model_name": "LayoutModel",
          "state": {
            "_model_module": "@jupyter-widgets/base",
            "_model_module_version": "1.2.0",
            "_model_name": "LayoutModel",
            "_view_count": null,
            "_view_module": "@jupyter-widgets/base",
            "_view_module_version": "1.2.0",
            "_view_name": "LayoutView",
            "align_content": null,
            "align_items": null,
            "align_self": null,
            "border": null,
            "bottom": null,
            "display": null,
            "flex": null,
            "flex_flow": null,
            "grid_area": null,
            "grid_auto_columns": null,
            "grid_auto_flow": null,
            "grid_auto_rows": null,
            "grid_column": null,
            "grid_gap": null,
            "grid_row": null,
            "grid_template_areas": null,
            "grid_template_columns": null,
            "grid_template_rows": null,
            "height": null,
            "justify_content": null,
            "justify_items": null,
            "left": null,
            "margin": null,
            "max_height": null,
            "max_width": null,
            "min_height": null,
            "min_width": null,
            "object_fit": null,
            "object_position": null,
            "order": null,
            "overflow": null,
            "overflow_x": null,
            "overflow_y": null,
            "padding": null,
            "right": null,
            "top": null,
            "visibility": null,
            "width": null
          }
        },
        "05bb6a8273394a7dbc42532e6578e806": {
          "model_module": "@jupyter-widgets/base",
          "model_module_version": "1.2.0",
          "model_name": "LayoutModel",
          "state": {
            "_model_module": "@jupyter-widgets/base",
            "_model_module_version": "1.2.0",
            "_model_name": "LayoutModel",
            "_view_count": null,
            "_view_module": "@jupyter-widgets/base",
            "_view_module_version": "1.2.0",
            "_view_name": "LayoutView",
            "align_content": null,
            "align_items": null,
            "align_self": null,
            "border": null,
            "bottom": null,
            "display": null,
            "flex": null,
            "flex_flow": null,
            "grid_area": null,
            "grid_auto_columns": null,
            "grid_auto_flow": null,
            "grid_auto_rows": null,
            "grid_column": null,
            "grid_gap": null,
            "grid_row": null,
            "grid_template_areas": null,
            "grid_template_columns": null,
            "grid_template_rows": null,
            "height": null,
            "justify_content": null,
            "justify_items": null,
            "left": null,
            "margin": null,
            "max_height": null,
            "max_width": null,
            "min_height": null,
            "min_width": null,
            "object_fit": null,
            "object_position": null,
            "order": null,
            "overflow": null,
            "overflow_x": null,
            "overflow_y": null,
            "padding": null,
            "right": null,
            "top": null,
            "visibility": null,
            "width": null
          }
        },
        "06c04fab14ad49ab8aec5849100658cc": {
          "model_module": "@jupyter-widgets/controls",
          "model_module_version": "1.5.0",
          "model_name": "HTMLModel",
          "state": {
            "_dom_classes": [],
            "_model_module": "@jupyter-widgets/controls",
            "_model_module_version": "1.5.0",
            "_model_name": "HTMLModel",
            "_view_count": null,
            "_view_module": "@jupyter-widgets/controls",
            "_view_module_version": "1.5.0",
            "_view_name": "HTMLView",
            "description": "",
            "description_tooltip": null,
            "layout": "IPY_MODEL_04a56ceaa56e4f239785c06af875a2a6",
            "placeholder": "​",
            "style": "IPY_MODEL_1f468237d13e4f35acb0d57cffc078e6",
            "value": " 1.56k/1.56k [00:00&lt;00:00, 69.7kB/s]"
          }
        },
        "0b81b5e619c44dcc886a447c9a2a0cb7": {
          "model_module": "@jupyter-widgets/base",
          "model_module_version": "1.2.0",
          "model_name": "LayoutModel",
          "state": {
            "_model_module": "@jupyter-widgets/base",
            "_model_module_version": "1.2.0",
            "_model_name": "LayoutModel",
            "_view_count": null,
            "_view_module": "@jupyter-widgets/base",
            "_view_module_version": "1.2.0",
            "_view_name": "LayoutView",
            "align_content": null,
            "align_items": null,
            "align_self": null,
            "border": null,
            "bottom": null,
            "display": null,
            "flex": null,
            "flex_flow": null,
            "grid_area": null,
            "grid_auto_columns": null,
            "grid_auto_flow": null,
            "grid_auto_rows": null,
            "grid_column": null,
            "grid_gap": null,
            "grid_row": null,
            "grid_template_areas": null,
            "grid_template_columns": null,
            "grid_template_rows": null,
            "height": null,
            "justify_content": null,
            "justify_items": null,
            "left": null,
            "margin": null,
            "max_height": null,
            "max_width": null,
            "min_height": null,
            "min_width": null,
            "object_fit": null,
            "object_position": null,
            "order": null,
            "overflow": null,
            "overflow_x": null,
            "overflow_y": null,
            "padding": null,
            "right": null,
            "top": null,
            "visibility": null,
            "width": null
          }
        },
        "0c205b2015a04b1baebb0b507c28c1cf": {
          "model_module": "@jupyter-widgets/controls",
          "model_module_version": "1.5.0",
          "model_name": "ProgressStyleModel",
          "state": {
            "_model_module": "@jupyter-widgets/controls",
            "_model_module_version": "1.5.0",
            "_model_name": "ProgressStyleModel",
            "_view_count": null,
            "_view_module": "@jupyter-widgets/base",
            "_view_module_version": "1.2.0",
            "_view_name": "StyleView",
            "bar_color": null,
            "description_width": ""
          }
        },
        "0f57ea32e2f243ef80daaf2fb7e360d8": {
          "model_module": "@jupyter-widgets/base",
          "model_module_version": "1.2.0",
          "model_name": "LayoutModel",
          "state": {
            "_model_module": "@jupyter-widgets/base",
            "_model_module_version": "1.2.0",
            "_model_name": "LayoutModel",
            "_view_count": null,
            "_view_module": "@jupyter-widgets/base",
            "_view_module_version": "1.2.0",
            "_view_name": "LayoutView",
            "align_content": null,
            "align_items": null,
            "align_self": null,
            "border": null,
            "bottom": null,
            "display": null,
            "flex": null,
            "flex_flow": null,
            "grid_area": null,
            "grid_auto_columns": null,
            "grid_auto_flow": null,
            "grid_auto_rows": null,
            "grid_column": null,
            "grid_gap": null,
            "grid_row": null,
            "grid_template_areas": null,
            "grid_template_columns": null,
            "grid_template_rows": null,
            "height": null,
            "justify_content": null,
            "justify_items": null,
            "left": null,
            "margin": null,
            "max_height": null,
            "max_width": null,
            "min_height": null,
            "min_width": null,
            "object_fit": null,
            "object_position": null,
            "order": null,
            "overflow": null,
            "overflow_x": null,
            "overflow_y": null,
            "padding": null,
            "right": null,
            "top": null,
            "visibility": null,
            "width": null
          }
        },
        "13d8fbf209fb4a039422e6072ca186ae": {
          "model_module": "@jupyter-widgets/base",
          "model_module_version": "1.2.0",
          "model_name": "LayoutModel",
          "state": {
            "_model_module": "@jupyter-widgets/base",
            "_model_module_version": "1.2.0",
            "_model_name": "LayoutModel",
            "_view_count": null,
            "_view_module": "@jupyter-widgets/base",
            "_view_module_version": "1.2.0",
            "_view_name": "LayoutView",
            "align_content": null,
            "align_items": null,
            "align_self": null,
            "border": null,
            "bottom": null,
            "display": null,
            "flex": null,
            "flex_flow": null,
            "grid_area": null,
            "grid_auto_columns": null,
            "grid_auto_flow": null,
            "grid_auto_rows": null,
            "grid_column": null,
            "grid_gap": null,
            "grid_row": null,
            "grid_template_areas": null,
            "grid_template_columns": null,
            "grid_template_rows": null,
            "height": null,
            "justify_content": null,
            "justify_items": null,
            "left": null,
            "margin": null,
            "max_height": null,
            "max_width": null,
            "min_height": null,
            "min_width": null,
            "object_fit": null,
            "object_position": null,
            "order": null,
            "overflow": null,
            "overflow_x": null,
            "overflow_y": null,
            "padding": null,
            "right": null,
            "top": null,
            "visibility": null,
            "width": null
          }
        },
        "15cb36a1e4b04c68b4a669133b075428": {
          "model_module": "@jupyter-widgets/base",
          "model_module_version": "1.2.0",
          "model_name": "LayoutModel",
          "state": {
            "_model_module": "@jupyter-widgets/base",
            "_model_module_version": "1.2.0",
            "_model_name": "LayoutModel",
            "_view_count": null,
            "_view_module": "@jupyter-widgets/base",
            "_view_module_version": "1.2.0",
            "_view_name": "LayoutView",
            "align_content": null,
            "align_items": null,
            "align_self": null,
            "border": null,
            "bottom": null,
            "display": null,
            "flex": null,
            "flex_flow": null,
            "grid_area": null,
            "grid_auto_columns": null,
            "grid_auto_flow": null,
            "grid_auto_rows": null,
            "grid_column": null,
            "grid_gap": null,
            "grid_row": null,
            "grid_template_areas": null,
            "grid_template_columns": null,
            "grid_template_rows": null,
            "height": null,
            "justify_content": null,
            "justify_items": null,
            "left": null,
            "margin": null,
            "max_height": null,
            "max_width": null,
            "min_height": null,
            "min_width": null,
            "object_fit": null,
            "object_position": null,
            "order": null,
            "overflow": null,
            "overflow_x": null,
            "overflow_y": null,
            "padding": null,
            "right": null,
            "top": null,
            "visibility": null,
            "width": null
          }
        },
        "1945701923cb4f7f85c5388cbb2a889f": {
          "model_module": "@jupyter-widgets/controls",
          "model_module_version": "1.5.0",
          "model_name": "HTMLModel",
          "state": {
            "_dom_classes": [],
            "_model_module": "@jupyter-widgets/controls",
            "_model_module_version": "1.5.0",
            "_model_name": "HTMLModel",
            "_view_count": null,
            "_view_module": "@jupyter-widgets/controls",
            "_view_module_version": "1.5.0",
            "_view_name": "HTMLView",
            "description": "",
            "description_tooltip": null,
            "layout": "IPY_MODEL_7b50a98fd541491d8a248176eedeaf17",
            "placeholder": "​",
            "style": "IPY_MODEL_bf18eb6221b94c53982aaf6f98a7005d",
            "value": " 1/1 [00:00&lt;00:00, 16.57ba/s]"
          }
        },
        "1a0d6110d3d342c9bd6a02f615e56eaf": {
          "model_module": "@jupyter-widgets/controls",
          "model_module_version": "1.5.0",
          "model_name": "DescriptionStyleModel",
          "state": {
            "_model_module": "@jupyter-widgets/controls",
            "_model_module_version": "1.5.0",
            "_model_name": "DescriptionStyleModel",
            "_view_count": null,
            "_view_module": "@jupyter-widgets/base",
            "_view_module_version": "1.2.0",
            "_view_name": "StyleView",
            "description_width": ""
          }
        },
        "1bbf0962c1424e2cb1c89034a96a21c0": {
          "model_module": "@jupyter-widgets/base",
          "model_module_version": "1.2.0",
          "model_name": "LayoutModel",
          "state": {
            "_model_module": "@jupyter-widgets/base",
            "_model_module_version": "1.2.0",
            "_model_name": "LayoutModel",
            "_view_count": null,
            "_view_module": "@jupyter-widgets/base",
            "_view_module_version": "1.2.0",
            "_view_name": "LayoutView",
            "align_content": null,
            "align_items": null,
            "align_self": null,
            "border": null,
            "bottom": null,
            "display": null,
            "flex": null,
            "flex_flow": null,
            "grid_area": null,
            "grid_auto_columns": null,
            "grid_auto_flow": null,
            "grid_auto_rows": null,
            "grid_column": null,
            "grid_gap": null,
            "grid_row": null,
            "grid_template_areas": null,
            "grid_template_columns": null,
            "grid_template_rows": null,
            "height": null,
            "justify_content": null,
            "justify_items": null,
            "left": null,
            "margin": null,
            "max_height": null,
            "max_width": null,
            "min_height": null,
            "min_width": null,
            "object_fit": null,
            "object_position": null,
            "order": null,
            "overflow": null,
            "overflow_x": null,
            "overflow_y": null,
            "padding": null,
            "right": null,
            "top": null,
            "visibility": null,
            "width": null
          }
        },
        "1db5bb4f3ebb4e66b4598e770c62d4fc": {
          "model_module": "@jupyter-widgets/controls",
          "model_module_version": "1.5.0",
          "model_name": "DescriptionStyleModel",
          "state": {
            "_model_module": "@jupyter-widgets/controls",
            "_model_module_version": "1.5.0",
            "_model_name": "DescriptionStyleModel",
            "_view_count": null,
            "_view_module": "@jupyter-widgets/base",
            "_view_module_version": "1.2.0",
            "_view_name": "StyleView",
            "description_width": ""
          }
        },
        "1dfdad44b9c5483d8842ccbfd9bb108c": {
          "model_module": "@jupyter-widgets/base",
          "model_module_version": "1.2.0",
          "model_name": "LayoutModel",
          "state": {
            "_model_module": "@jupyter-widgets/base",
            "_model_module_version": "1.2.0",
            "_model_name": "LayoutModel",
            "_view_count": null,
            "_view_module": "@jupyter-widgets/base",
            "_view_module_version": "1.2.0",
            "_view_name": "LayoutView",
            "align_content": null,
            "align_items": null,
            "align_self": null,
            "border": null,
            "bottom": null,
            "display": null,
            "flex": null,
            "flex_flow": null,
            "grid_area": null,
            "grid_auto_columns": null,
            "grid_auto_flow": null,
            "grid_auto_rows": null,
            "grid_column": null,
            "grid_gap": null,
            "grid_row": null,
            "grid_template_areas": null,
            "grid_template_columns": null,
            "grid_template_rows": null,
            "height": null,
            "justify_content": null,
            "justify_items": null,
            "left": null,
            "margin": null,
            "max_height": null,
            "max_width": null,
            "min_height": null,
            "min_width": null,
            "object_fit": null,
            "object_position": null,
            "order": null,
            "overflow": null,
            "overflow_x": null,
            "overflow_y": null,
            "padding": null,
            "right": null,
            "top": null,
            "visibility": null,
            "width": null
          }
        },
        "1f468237d13e4f35acb0d57cffc078e6": {
          "model_module": "@jupyter-widgets/controls",
          "model_module_version": "1.5.0",
          "model_name": "DescriptionStyleModel",
          "state": {
            "_model_module": "@jupyter-widgets/controls",
            "_model_module_version": "1.5.0",
            "_model_name": "DescriptionStyleModel",
            "_view_count": null,
            "_view_module": "@jupyter-widgets/base",
            "_view_module_version": "1.2.0",
            "_view_name": "StyleView",
            "description_width": ""
          }
        },
        "201fc889a91a45198b0268f0da4f3e1f": {
          "model_module": "@jupyter-widgets/base",
          "model_module_version": "1.2.0",
          "model_name": "LayoutModel",
          "state": {
            "_model_module": "@jupyter-widgets/base",
            "_model_module_version": "1.2.0",
            "_model_name": "LayoutModel",
            "_view_count": null,
            "_view_module": "@jupyter-widgets/base",
            "_view_module_version": "1.2.0",
            "_view_name": "LayoutView",
            "align_content": null,
            "align_items": null,
            "align_self": null,
            "border": null,
            "bottom": null,
            "display": null,
            "flex": null,
            "flex_flow": null,
            "grid_area": null,
            "grid_auto_columns": null,
            "grid_auto_flow": null,
            "grid_auto_rows": null,
            "grid_column": null,
            "grid_gap": null,
            "grid_row": null,
            "grid_template_areas": null,
            "grid_template_columns": null,
            "grid_template_rows": null,
            "height": null,
            "justify_content": null,
            "justify_items": null,
            "left": null,
            "margin": null,
            "max_height": null,
            "max_width": null,
            "min_height": null,
            "min_width": null,
            "object_fit": null,
            "object_position": null,
            "order": null,
            "overflow": null,
            "overflow_x": null,
            "overflow_y": null,
            "padding": null,
            "right": null,
            "top": null,
            "visibility": null,
            "width": null
          }
        },
        "2118083651f143da8895b871f40d4836": {
          "model_module": "@jupyter-widgets/controls",
          "model_module_version": "1.5.0",
          "model_name": "DescriptionStyleModel",
          "state": {
            "_model_module": "@jupyter-widgets/controls",
            "_model_module_version": "1.5.0",
            "_model_name": "DescriptionStyleModel",
            "_view_count": null,
            "_view_module": "@jupyter-widgets/base",
            "_view_module_version": "1.2.0",
            "_view_name": "StyleView",
            "description_width": ""
          }
        },
        "2290c1324766465ba4a107a76f06fe9b": {
          "model_module": "@jupyter-widgets/controls",
          "model_module_version": "1.5.0",
          "model_name": "FloatProgressModel",
          "state": {
            "_dom_classes": [],
            "_model_module": "@jupyter-widgets/controls",
            "_model_module_version": "1.5.0",
            "_model_name": "FloatProgressModel",
            "_view_count": null,
            "_view_module": "@jupyter-widgets/controls",
            "_view_module_version": "1.5.0",
            "_view_name": "ProgressView",
            "bar_style": "success",
            "description": "",
            "description_tooltip": null,
            "layout": "IPY_MODEL_3fbf4cc9641b4e73bfa14f099cb3325a",
            "max": 1,
            "min": 0,
            "orientation": "horizontal",
            "style": "IPY_MODEL_ca4371b89ea848afa9803a8ed8a2923f",
            "value": 1
          }
        },
        "22fa392b531d4ae2bbfc2bc5955e3bc6": {
          "model_module": "@jupyter-widgets/controls",
          "model_module_version": "1.5.0",
          "model_name": "ProgressStyleModel",
          "state": {
            "_model_module": "@jupyter-widgets/controls",
            "_model_module_version": "1.5.0",
            "_model_name": "ProgressStyleModel",
            "_view_count": null,
            "_view_module": "@jupyter-widgets/base",
            "_view_module_version": "1.2.0",
            "_view_name": "StyleView",
            "bar_color": null,
            "description_width": ""
          }
        },
        "299012e640774e60a0155e58435bd365": {
          "model_module": "@jupyter-widgets/base",
          "model_module_version": "1.2.0",
          "model_name": "LayoutModel",
          "state": {
            "_model_module": "@jupyter-widgets/base",
            "_model_module_version": "1.2.0",
            "_model_name": "LayoutModel",
            "_view_count": null,
            "_view_module": "@jupyter-widgets/base",
            "_view_module_version": "1.2.0",
            "_view_name": "LayoutView",
            "align_content": null,
            "align_items": null,
            "align_self": null,
            "border": null,
            "bottom": null,
            "display": null,
            "flex": null,
            "flex_flow": null,
            "grid_area": null,
            "grid_auto_columns": null,
            "grid_auto_flow": null,
            "grid_auto_rows": null,
            "grid_column": null,
            "grid_gap": null,
            "grid_row": null,
            "grid_template_areas": null,
            "grid_template_columns": null,
            "grid_template_rows": null,
            "height": null,
            "justify_content": null,
            "justify_items": null,
            "left": null,
            "margin": null,
            "max_height": null,
            "max_width": null,
            "min_height": null,
            "min_width": null,
            "object_fit": null,
            "object_position": null,
            "order": null,
            "overflow": null,
            "overflow_x": null,
            "overflow_y": null,
            "padding": null,
            "right": null,
            "top": null,
            "visibility": null,
            "width": null
          }
        },
        "2cc07a25d5524daa85e28ea9ec794aca": {
          "model_module": "@jupyter-widgets/base",
          "model_module_version": "1.2.0",
          "model_name": "LayoutModel",
          "state": {
            "_model_module": "@jupyter-widgets/base",
            "_model_module_version": "1.2.0",
            "_model_name": "LayoutModel",
            "_view_count": null,
            "_view_module": "@jupyter-widgets/base",
            "_view_module_version": "1.2.0",
            "_view_name": "LayoutView",
            "align_content": null,
            "align_items": null,
            "align_self": null,
            "border": null,
            "bottom": null,
            "display": null,
            "flex": null,
            "flex_flow": null,
            "grid_area": null,
            "grid_auto_columns": null,
            "grid_auto_flow": null,
            "grid_auto_rows": null,
            "grid_column": null,
            "grid_gap": null,
            "grid_row": null,
            "grid_template_areas": null,
            "grid_template_columns": null,
            "grid_template_rows": null,
            "height": null,
            "justify_content": null,
            "justify_items": null,
            "left": null,
            "margin": null,
            "max_height": null,
            "max_width": null,
            "min_height": null,
            "min_width": null,
            "object_fit": null,
            "object_position": null,
            "order": null,
            "overflow": null,
            "overflow_x": null,
            "overflow_y": null,
            "padding": null,
            "right": null,
            "top": null,
            "visibility": null,
            "width": "20px"
          }
        },
        "2fa32f9534204258a68790c1cca59fb9": {
          "model_module": "@jupyter-widgets/base",
          "model_module_version": "1.2.0",
          "model_name": "LayoutModel",
          "state": {
            "_model_module": "@jupyter-widgets/base",
            "_model_module_version": "1.2.0",
            "_model_name": "LayoutModel",
            "_view_count": null,
            "_view_module": "@jupyter-widgets/base",
            "_view_module_version": "1.2.0",
            "_view_name": "LayoutView",
            "align_content": null,
            "align_items": null,
            "align_self": null,
            "border": null,
            "bottom": null,
            "display": null,
            "flex": null,
            "flex_flow": null,
            "grid_area": null,
            "grid_auto_columns": null,
            "grid_auto_flow": null,
            "grid_auto_rows": null,
            "grid_column": null,
            "grid_gap": null,
            "grid_row": null,
            "grid_template_areas": null,
            "grid_template_columns": null,
            "grid_template_rows": null,
            "height": null,
            "justify_content": null,
            "justify_items": null,
            "left": null,
            "margin": null,
            "max_height": null,
            "max_width": null,
            "min_height": null,
            "min_width": null,
            "object_fit": null,
            "object_position": null,
            "order": null,
            "overflow": null,
            "overflow_x": null,
            "overflow_y": null,
            "padding": null,
            "right": null,
            "top": null,
            "visibility": null,
            "width": null
          }
        },
        "31297c5ed702415d9b969da0d9e33538": {
          "model_module": "@jupyter-widgets/base",
          "model_module_version": "1.2.0",
          "model_name": "LayoutModel",
          "state": {
            "_model_module": "@jupyter-widgets/base",
            "_model_module_version": "1.2.0",
            "_model_name": "LayoutModel",
            "_view_count": null,
            "_view_module": "@jupyter-widgets/base",
            "_view_module_version": "1.2.0",
            "_view_name": "LayoutView",
            "align_content": null,
            "align_items": null,
            "align_self": null,
            "border": null,
            "bottom": null,
            "display": null,
            "flex": null,
            "flex_flow": null,
            "grid_area": null,
            "grid_auto_columns": null,
            "grid_auto_flow": null,
            "grid_auto_rows": null,
            "grid_column": null,
            "grid_gap": null,
            "grid_row": null,
            "grid_template_areas": null,
            "grid_template_columns": null,
            "grid_template_rows": null,
            "height": null,
            "justify_content": null,
            "justify_items": null,
            "left": null,
            "margin": null,
            "max_height": null,
            "max_width": null,
            "min_height": null,
            "min_width": null,
            "object_fit": null,
            "object_position": null,
            "order": null,
            "overflow": null,
            "overflow_x": null,
            "overflow_y": null,
            "padding": null,
            "right": null,
            "top": null,
            "visibility": null,
            "width": "20px"
          }
        },
        "32351bf045ed4c35ba133f5f31193d17": {
          "model_module": "@jupyter-widgets/controls",
          "model_module_version": "1.5.0",
          "model_name": "HTMLModel",
          "state": {
            "_dom_classes": [],
            "_model_module": "@jupyter-widgets/controls",
            "_model_module_version": "1.5.0",
            "_model_name": "HTMLModel",
            "_view_count": null,
            "_view_module": "@jupyter-widgets/controls",
            "_view_module_version": "1.5.0",
            "_view_name": "HTMLView",
            "description": "",
            "description_tooltip": null,
            "layout": "IPY_MODEL_dc0f4c3ed51d44c891439ceb48f0c98a",
            "placeholder": "​",
            "style": "IPY_MODEL_40a2b23f590b44a09834f0678459c24a",
            "value": " 4.48k/? [00:00&lt;00:00, 184kB/s]"
          }
        },
        "33624fb243714cf5ae01cbc50e27346c": {
          "model_module": "@jupyter-widgets/controls",
          "model_module_version": "1.5.0",
          "model_name": "HBoxModel",
          "state": {
            "_dom_classes": [],
            "_model_module": "@jupyter-widgets/controls",
            "_model_module_version": "1.5.0",
            "_model_name": "HBoxModel",
            "_view_count": null,
            "_view_module": "@jupyter-widgets/controls",
            "_view_module_version": "1.5.0",
            "_view_name": "HBoxView",
            "box_style": "",
            "children": [
              "IPY_MODEL_f8d7b55784e34142bb842d3b1de8b0bd",
              "IPY_MODEL_2290c1324766465ba4a107a76f06fe9b",
              "IPY_MODEL_1945701923cb4f7f85c5388cbb2a889f"
            ],
            "layout": "IPY_MODEL_fe676765ed434b52ac2e9bf75993c9bf"
          }
        },
        "3415e867ca5f49a78c01030c08bad148": {
          "model_module": "@jupyter-widgets/controls",
          "model_module_version": "1.5.0",
          "model_name": "DescriptionStyleModel",
          "state": {
            "_model_module": "@jupyter-widgets/controls",
            "_model_module_version": "1.5.0",
            "_model_name": "DescriptionStyleModel",
            "_view_count": null,
            "_view_module": "@jupyter-widgets/base",
            "_view_module_version": "1.2.0",
            "_view_name": "StyleView",
            "description_width": ""
          }
        },
        "37bdf345b44a4ad09322bb1218a63d45": {
          "model_module": "@jupyter-widgets/controls",
          "model_module_version": "1.5.0",
          "model_name": "HTMLModel",
          "state": {
            "_dom_classes": [],
            "_model_module": "@jupyter-widgets/controls",
            "_model_module_version": "1.5.0",
            "_model_name": "HTMLModel",
            "_view_count": null,
            "_view_module": "@jupyter-widgets/controls",
            "_view_module_version": "1.5.0",
            "_view_name": "HTMLView",
            "description": "",
            "description_tooltip": null,
            "layout": "IPY_MODEL_13d8fbf209fb4a039422e6072ca186ae",
            "placeholder": "​",
            "style": "IPY_MODEL_56ecdcfc797846de95a4e247f47dd4f3",
            "value": ""
          }
        },
        "3ab8c1f4389a404997148f991d1693ba": {
          "model_module": "@jupyter-widgets/base",
          "model_module_version": "1.2.0",
          "model_name": "LayoutModel",
          "state": {
            "_model_module": "@jupyter-widgets/base",
            "_model_module_version": "1.2.0",
            "_model_name": "LayoutModel",
            "_view_count": null,
            "_view_module": "@jupyter-widgets/base",
            "_view_module_version": "1.2.0",
            "_view_name": "LayoutView",
            "align_content": null,
            "align_items": null,
            "align_self": null,
            "border": null,
            "bottom": null,
            "display": null,
            "flex": null,
            "flex_flow": null,
            "grid_area": null,
            "grid_auto_columns": null,
            "grid_auto_flow": null,
            "grid_auto_rows": null,
            "grid_column": null,
            "grid_gap": null,
            "grid_row": null,
            "grid_template_areas": null,
            "grid_template_columns": null,
            "grid_template_rows": null,
            "height": null,
            "justify_content": null,
            "justify_items": null,
            "left": null,
            "margin": null,
            "max_height": null,
            "max_width": null,
            "min_height": null,
            "min_width": null,
            "object_fit": null,
            "object_position": null,
            "order": null,
            "overflow": null,
            "overflow_x": null,
            "overflow_y": null,
            "padding": null,
            "right": null,
            "top": null,
            "visibility": null,
            "width": null
          }
        },
        "3cdabb7eba01438db62c217731cc1e47": {
          "model_module": "@jupyter-widgets/base",
          "model_module_version": "1.2.0",
          "model_name": "LayoutModel",
          "state": {
            "_model_module": "@jupyter-widgets/base",
            "_model_module_version": "1.2.0",
            "_model_name": "LayoutModel",
            "_view_count": null,
            "_view_module": "@jupyter-widgets/base",
            "_view_module_version": "1.2.0",
            "_view_name": "LayoutView",
            "align_content": null,
            "align_items": null,
            "align_self": null,
            "border": null,
            "bottom": null,
            "display": null,
            "flex": null,
            "flex_flow": null,
            "grid_area": null,
            "grid_auto_columns": null,
            "grid_auto_flow": null,
            "grid_auto_rows": null,
            "grid_column": null,
            "grid_gap": null,
            "grid_row": null,
            "grid_template_areas": null,
            "grid_template_columns": null,
            "grid_template_rows": null,
            "height": null,
            "justify_content": null,
            "justify_items": null,
            "left": null,
            "margin": null,
            "max_height": null,
            "max_width": null,
            "min_height": null,
            "min_width": null,
            "object_fit": null,
            "object_position": null,
            "order": null,
            "overflow": null,
            "overflow_x": null,
            "overflow_y": null,
            "padding": null,
            "right": null,
            "top": null,
            "visibility": null,
            "width": null
          }
        },
        "3ef71c3e8f4649a780ee7253fc35d5c5": {
          "model_module": "@jupyter-widgets/controls",
          "model_module_version": "1.5.0",
          "model_name": "FloatProgressModel",
          "state": {
            "_dom_classes": [],
            "_model_module": "@jupyter-widgets/controls",
            "_model_module_version": "1.5.0",
            "_model_name": "FloatProgressModel",
            "_view_count": null,
            "_view_module": "@jupyter-widgets/controls",
            "_view_module_version": "1.5.0",
            "_view_name": "ProgressView",
            "bar_style": "info",
            "description": "",
            "description_tooltip": null,
            "layout": "IPY_MODEL_2cc07a25d5524daa85e28ea9ec794aca",
            "max": 1,
            "min": 0,
            "orientation": "horizontal",
            "style": "IPY_MODEL_e1b0b67a9aa64a7487599d07d4335d51",
            "value": 1
          }
        },
        "3fbf4cc9641b4e73bfa14f099cb3325a": {
          "model_module": "@jupyter-widgets/base",
          "model_module_version": "1.2.0",
          "model_name": "LayoutModel",
          "state": {
            "_model_module": "@jupyter-widgets/base",
            "_model_module_version": "1.2.0",
            "_model_name": "LayoutModel",
            "_view_count": null,
            "_view_module": "@jupyter-widgets/base",
            "_view_module_version": "1.2.0",
            "_view_name": "LayoutView",
            "align_content": null,
            "align_items": null,
            "align_self": null,
            "border": null,
            "bottom": null,
            "display": null,
            "flex": null,
            "flex_flow": null,
            "grid_area": null,
            "grid_auto_columns": null,
            "grid_auto_flow": null,
            "grid_auto_rows": null,
            "grid_column": null,
            "grid_gap": null,
            "grid_row": null,
            "grid_template_areas": null,
            "grid_template_columns": null,
            "grid_template_rows": null,
            "height": null,
            "justify_content": null,
            "justify_items": null,
            "left": null,
            "margin": null,
            "max_height": null,
            "max_width": null,
            "min_height": null,
            "min_width": null,
            "object_fit": null,
            "object_position": null,
            "order": null,
            "overflow": null,
            "overflow_x": null,
            "overflow_y": null,
            "padding": null,
            "right": null,
            "top": null,
            "visibility": null,
            "width": null
          }
        },
        "3ffab2b968034af782390ba7098a50e3": {
          "model_module": "@jupyter-widgets/controls",
          "model_module_version": "1.5.0",
          "model_name": "ProgressStyleModel",
          "state": {
            "_model_module": "@jupyter-widgets/controls",
            "_model_module_version": "1.5.0",
            "_model_name": "ProgressStyleModel",
            "_view_count": null,
            "_view_module": "@jupyter-widgets/base",
            "_view_module_version": "1.2.0",
            "_view_name": "StyleView",
            "bar_color": null,
            "description_width": ""
          }
        },
        "40a2b23f590b44a09834f0678459c24a": {
          "model_module": "@jupyter-widgets/controls",
          "model_module_version": "1.5.0",
          "model_name": "DescriptionStyleModel",
          "state": {
            "_model_module": "@jupyter-widgets/controls",
            "_model_module_version": "1.5.0",
            "_model_name": "DescriptionStyleModel",
            "_view_count": null,
            "_view_module": "@jupyter-widgets/base",
            "_view_module_version": "1.2.0",
            "_view_name": "StyleView",
            "description_width": ""
          }
        },
        "428ee5487c404de08a710ade9f3a3f22": {
          "model_module": "@jupyter-widgets/base",
          "model_module_version": "1.2.0",
          "model_name": "LayoutModel",
          "state": {
            "_model_module": "@jupyter-widgets/base",
            "_model_module_version": "1.2.0",
            "_model_name": "LayoutModel",
            "_view_count": null,
            "_view_module": "@jupyter-widgets/base",
            "_view_module_version": "1.2.0",
            "_view_name": "LayoutView",
            "align_content": null,
            "align_items": null,
            "align_self": null,
            "border": null,
            "bottom": null,
            "display": null,
            "flex": null,
            "flex_flow": null,
            "grid_area": null,
            "grid_auto_columns": null,
            "grid_auto_flow": null,
            "grid_auto_rows": null,
            "grid_column": null,
            "grid_gap": null,
            "grid_row": null,
            "grid_template_areas": null,
            "grid_template_columns": null,
            "grid_template_rows": null,
            "height": null,
            "justify_content": null,
            "justify_items": null,
            "left": null,
            "margin": null,
            "max_height": null,
            "max_width": null,
            "min_height": null,
            "min_width": null,
            "object_fit": null,
            "object_position": null,
            "order": null,
            "overflow": null,
            "overflow_x": null,
            "overflow_y": null,
            "padding": null,
            "right": null,
            "top": null,
            "visibility": null,
            "width": null
          }
        },
        "455235e864834a1da39e397af45a6789": {
          "model_module": "@jupyter-widgets/base",
          "model_module_version": "1.2.0",
          "model_name": "LayoutModel",
          "state": {
            "_model_module": "@jupyter-widgets/base",
            "_model_module_version": "1.2.0",
            "_model_name": "LayoutModel",
            "_view_count": null,
            "_view_module": "@jupyter-widgets/base",
            "_view_module_version": "1.2.0",
            "_view_name": "LayoutView",
            "align_content": null,
            "align_items": null,
            "align_self": null,
            "border": null,
            "bottom": null,
            "display": null,
            "flex": null,
            "flex_flow": null,
            "grid_area": null,
            "grid_auto_columns": null,
            "grid_auto_flow": null,
            "grid_auto_rows": null,
            "grid_column": null,
            "grid_gap": null,
            "grid_row": null,
            "grid_template_areas": null,
            "grid_template_columns": null,
            "grid_template_rows": null,
            "height": null,
            "justify_content": null,
            "justify_items": null,
            "left": null,
            "margin": null,
            "max_height": null,
            "max_width": null,
            "min_height": null,
            "min_width": null,
            "object_fit": null,
            "object_position": null,
            "order": null,
            "overflow": null,
            "overflow_x": null,
            "overflow_y": null,
            "padding": null,
            "right": null,
            "top": null,
            "visibility": null,
            "width": null
          }
        },
        "47102d4f7c894c2ea1e167449a1d702a": {
          "model_module": "@jupyter-widgets/controls",
          "model_module_version": "1.5.0",
          "model_name": "FloatProgressModel",
          "state": {
            "_dom_classes": [],
            "_model_module": "@jupyter-widgets/controls",
            "_model_module_version": "1.5.0",
            "_model_name": "FloatProgressModel",
            "_view_count": null,
            "_view_module": "@jupyter-widgets/controls",
            "_view_module_version": "1.5.0",
            "_view_name": "ProgressView",
            "bar_style": "success",
            "description": "",
            "description_tooltip": null,
            "layout": "IPY_MODEL_00e6878981b6423cb40622a1da6d04a2",
            "max": 5,
            "min": 0,
            "orientation": "horizontal",
            "style": "IPY_MODEL_22fa392b531d4ae2bbfc2bc5955e3bc6",
            "value": 5
          }
        },
        "472f903d35f143c99e72a65d84422e5b": {
          "model_module": "@jupyter-widgets/controls",
          "model_module_version": "1.5.0",
          "model_name": "HTMLModel",
          "state": {
            "_dom_classes": [],
            "_model_module": "@jupyter-widgets/controls",
            "_model_module_version": "1.5.0",
            "_model_name": "HTMLModel",
            "_view_count": null,
            "_view_module": "@jupyter-widgets/controls",
            "_view_module_version": "1.5.0",
            "_view_name": "HTMLView",
            "description": "",
            "description_tooltip": null,
            "layout": "IPY_MODEL_299012e640774e60a0155e58435bd365",
            "placeholder": "​",
            "style": "IPY_MODEL_ad0047a5034a4dfa9e6e8df374e31693",
            "value": " 1/1 [00:00&lt;00:00, 24.77ba/s]"
          }
        },
        "48578f6bccbc4eff991630478bedddc5": {
          "model_module": "@jupyter-widgets/controls",
          "model_module_version": "1.5.0",
          "model_name": "HTMLModel",
          "state": {
            "_dom_classes": [],
            "_model_module": "@jupyter-widgets/controls",
            "_model_module_version": "1.5.0",
            "_model_name": "HTMLModel",
            "_view_count": null,
            "_view_module": "@jupyter-widgets/controls",
            "_view_module_version": "1.5.0",
            "_view_name": "HTMLView",
            "description": "",
            "description_tooltip": null,
            "layout": "IPY_MODEL_d4db2218d8ed4ea1b6de4a4ee3bf7397",
            "placeholder": "​",
            "style": "IPY_MODEL_0548c6a531e44b43b2ddb92d0dd284b8",
            "value": ""
          }
        },
        "49214d801dc944ed919027ef68f2c617": {
          "model_module": "@jupyter-widgets/base",
          "model_module_version": "1.2.0",
          "model_name": "LayoutModel",
          "state": {
            "_model_module": "@jupyter-widgets/base",
            "_model_module_version": "1.2.0",
            "_model_name": "LayoutModel",
            "_view_count": null,
            "_view_module": "@jupyter-widgets/base",
            "_view_module_version": "1.2.0",
            "_view_name": "LayoutView",
            "align_content": null,
            "align_items": null,
            "align_self": null,
            "border": null,
            "bottom": null,
            "display": null,
            "flex": null,
            "flex_flow": null,
            "grid_area": null,
            "grid_auto_columns": null,
            "grid_auto_flow": null,
            "grid_auto_rows": null,
            "grid_column": null,
            "grid_gap": null,
            "grid_row": null,
            "grid_template_areas": null,
            "grid_template_columns": null,
            "grid_template_rows": null,
            "height": null,
            "justify_content": null,
            "justify_items": null,
            "left": null,
            "margin": null,
            "max_height": null,
            "max_width": null,
            "min_height": null,
            "min_width": null,
            "object_fit": null,
            "object_position": null,
            "order": null,
            "overflow": null,
            "overflow_x": null,
            "overflow_y": null,
            "padding": null,
            "right": null,
            "top": null,
            "visibility": null,
            "width": null
          }
        },
        "4afe8632fc544090a2954e782e3b5949": {
          "model_module": "@jupyter-widgets/base",
          "model_module_version": "1.2.0",
          "model_name": "LayoutModel",
          "state": {
            "_model_module": "@jupyter-widgets/base",
            "_model_module_version": "1.2.0",
            "_model_name": "LayoutModel",
            "_view_count": null,
            "_view_module": "@jupyter-widgets/base",
            "_view_module_version": "1.2.0",
            "_view_name": "LayoutView",
            "align_content": null,
            "align_items": null,
            "align_self": null,
            "border": null,
            "bottom": null,
            "display": null,
            "flex": null,
            "flex_flow": null,
            "grid_area": null,
            "grid_auto_columns": null,
            "grid_auto_flow": null,
            "grid_auto_rows": null,
            "grid_column": null,
            "grid_gap": null,
            "grid_row": null,
            "grid_template_areas": null,
            "grid_template_columns": null,
            "grid_template_rows": null,
            "height": null,
            "justify_content": null,
            "justify_items": null,
            "left": null,
            "margin": null,
            "max_height": null,
            "max_width": null,
            "min_height": null,
            "min_width": null,
            "object_fit": null,
            "object_position": null,
            "order": null,
            "overflow": null,
            "overflow_x": null,
            "overflow_y": null,
            "padding": null,
            "right": null,
            "top": null,
            "visibility": null,
            "width": null
          }
        },
        "4e47cd837e074c4983c758bc60568479": {
          "model_module": "@jupyter-widgets/controls",
          "model_module_version": "1.5.0",
          "model_name": "DescriptionStyleModel",
          "state": {
            "_model_module": "@jupyter-widgets/controls",
            "_model_module_version": "1.5.0",
            "_model_name": "DescriptionStyleModel",
            "_view_count": null,
            "_view_module": "@jupyter-widgets/base",
            "_view_module_version": "1.2.0",
            "_view_name": "StyleView",
            "description_width": ""
          }
        },
        "50d9d2852f124f09b5fa2eb3fc4ef2a0": {
          "model_module": "@jupyter-widgets/base",
          "model_module_version": "1.2.0",
          "model_name": "LayoutModel",
          "state": {
            "_model_module": "@jupyter-widgets/base",
            "_model_module_version": "1.2.0",
            "_model_name": "LayoutModel",
            "_view_count": null,
            "_view_module": "@jupyter-widgets/base",
            "_view_module_version": "1.2.0",
            "_view_name": "LayoutView",
            "align_content": null,
            "align_items": null,
            "align_self": null,
            "border": null,
            "bottom": null,
            "display": null,
            "flex": null,
            "flex_flow": null,
            "grid_area": null,
            "grid_auto_columns": null,
            "grid_auto_flow": null,
            "grid_auto_rows": null,
            "grid_column": null,
            "grid_gap": null,
            "grid_row": null,
            "grid_template_areas": null,
            "grid_template_columns": null,
            "grid_template_rows": null,
            "height": null,
            "justify_content": null,
            "justify_items": null,
            "left": null,
            "margin": null,
            "max_height": null,
            "max_width": null,
            "min_height": null,
            "min_width": null,
            "object_fit": null,
            "object_position": null,
            "order": null,
            "overflow": null,
            "overflow_x": null,
            "overflow_y": null,
            "padding": null,
            "right": null,
            "top": null,
            "visibility": null,
            "width": null
          }
        },
        "56ecdcfc797846de95a4e247f47dd4f3": {
          "model_module": "@jupyter-widgets/controls",
          "model_module_version": "1.5.0",
          "model_name": "DescriptionStyleModel",
          "state": {
            "_model_module": "@jupyter-widgets/controls",
            "_model_module_version": "1.5.0",
            "_model_name": "DescriptionStyleModel",
            "_view_count": null,
            "_view_module": "@jupyter-widgets/base",
            "_view_module_version": "1.2.0",
            "_view_name": "StyleView",
            "description_width": ""
          }
        },
        "5793abfacd2345288d4800baa708e960": {
          "model_module": "@jupyter-widgets/controls",
          "model_module_version": "1.5.0",
          "model_name": "DescriptionStyleModel",
          "state": {
            "_model_module": "@jupyter-widgets/controls",
            "_model_module_version": "1.5.0",
            "_model_name": "DescriptionStyleModel",
            "_view_count": null,
            "_view_module": "@jupyter-widgets/base",
            "_view_module_version": "1.2.0",
            "_view_name": "StyleView",
            "description_width": ""
          }
        },
        "579d41d99fbe4b20a35258e8ea0f940a": {
          "model_module": "@jupyter-widgets/controls",
          "model_module_version": "1.5.0",
          "model_name": "FloatProgressModel",
          "state": {
            "_dom_classes": [],
            "_model_module": "@jupyter-widgets/controls",
            "_model_module_version": "1.5.0",
            "_model_name": "FloatProgressModel",
            "_view_count": null,
            "_view_module": "@jupyter-widgets/controls",
            "_view_module_version": "1.5.0",
            "_view_name": "ProgressView",
            "bar_style": "success",
            "description": "",
            "description_tooltip": null,
            "layout": "IPY_MODEL_b2192e6792824923b1f67e3fa7fd7019",
            "max": 1,
            "min": 0,
            "orientation": "horizontal",
            "style": "IPY_MODEL_3ffab2b968034af782390ba7098a50e3",
            "value": 1
          }
        },
        "5bfbc70ce26b4fe381457eea072c9109": {
          "model_module": "@jupyter-widgets/controls",
          "model_module_version": "1.5.0",
          "model_name": "ProgressStyleModel",
          "state": {
            "_model_module": "@jupyter-widgets/controls",
            "_model_module_version": "1.5.0",
            "_model_name": "ProgressStyleModel",
            "_view_count": null,
            "_view_module": "@jupyter-widgets/base",
            "_view_module_version": "1.2.0",
            "_view_name": "StyleView",
            "bar_color": null,
            "description_width": ""
          }
        },
        "5cfa9628ded9411d8dc9a1c13698649b": {
          "model_module": "@jupyter-widgets/base",
          "model_module_version": "1.2.0",
          "model_name": "LayoutModel",
          "state": {
            "_model_module": "@jupyter-widgets/base",
            "_model_module_version": "1.2.0",
            "_model_name": "LayoutModel",
            "_view_count": null,
            "_view_module": "@jupyter-widgets/base",
            "_view_module_version": "1.2.0",
            "_view_name": "LayoutView",
            "align_content": null,
            "align_items": null,
            "align_self": null,
            "border": null,
            "bottom": null,
            "display": null,
            "flex": null,
            "flex_flow": null,
            "grid_area": null,
            "grid_auto_columns": null,
            "grid_auto_flow": null,
            "grid_auto_rows": null,
            "grid_column": null,
            "grid_gap": null,
            "grid_row": null,
            "grid_template_areas": null,
            "grid_template_columns": null,
            "grid_template_rows": null,
            "height": null,
            "justify_content": null,
            "justify_items": null,
            "left": null,
            "margin": null,
            "max_height": null,
            "max_width": null,
            "min_height": null,
            "min_width": null,
            "object_fit": null,
            "object_position": null,
            "order": null,
            "overflow": null,
            "overflow_x": null,
            "overflow_y": null,
            "padding": null,
            "right": null,
            "top": null,
            "visibility": null,
            "width": null
          }
        },
        "64445549a7c24b7e966afabf561b2580": {
          "model_module": "@jupyter-widgets/base",
          "model_module_version": "1.2.0",
          "model_name": "LayoutModel",
          "state": {
            "_model_module": "@jupyter-widgets/base",
            "_model_module_version": "1.2.0",
            "_model_name": "LayoutModel",
            "_view_count": null,
            "_view_module": "@jupyter-widgets/base",
            "_view_module_version": "1.2.0",
            "_view_name": "LayoutView",
            "align_content": null,
            "align_items": null,
            "align_self": null,
            "border": null,
            "bottom": null,
            "display": null,
            "flex": null,
            "flex_flow": null,
            "grid_area": null,
            "grid_auto_columns": null,
            "grid_auto_flow": null,
            "grid_auto_rows": null,
            "grid_column": null,
            "grid_gap": null,
            "grid_row": null,
            "grid_template_areas": null,
            "grid_template_columns": null,
            "grid_template_rows": null,
            "height": null,
            "justify_content": null,
            "justify_items": null,
            "left": null,
            "margin": null,
            "max_height": null,
            "max_width": null,
            "min_height": null,
            "min_width": null,
            "object_fit": null,
            "object_position": null,
            "order": null,
            "overflow": null,
            "overflow_x": null,
            "overflow_y": null,
            "padding": null,
            "right": null,
            "top": null,
            "visibility": null,
            "width": null
          }
        },
        "657ada001c3a424090e52adf71f76407": {
          "model_module": "@jupyter-widgets/controls",
          "model_module_version": "1.5.0",
          "model_name": "FloatProgressModel",
          "state": {
            "_dom_classes": [],
            "_model_module": "@jupyter-widgets/controls",
            "_model_module_version": "1.5.0",
            "_model_name": "FloatProgressModel",
            "_view_count": null,
            "_view_module": "@jupyter-widgets/controls",
            "_view_module_version": "1.5.0",
            "_view_name": "ProgressView",
            "bar_style": "success",
            "description": "",
            "description_tooltip": null,
            "layout": "IPY_MODEL_939bf772ba124312a26b795e29874d7d",
            "max": 1596,
            "min": 0,
            "orientation": "horizontal",
            "style": "IPY_MODEL_e47e43f3da3445c680289fd9949de9ec",
            "value": 1596
          }
        },
        "65c3767f147a4f0189d8268d7b4acb0a": {
          "model_module": "@jupyter-widgets/controls",
          "model_module_version": "1.5.0",
          "model_name": "ProgressStyleModel",
          "state": {
            "_model_module": "@jupyter-widgets/controls",
            "_model_module_version": "1.5.0",
            "_model_name": "ProgressStyleModel",
            "_view_count": null,
            "_view_module": "@jupyter-widgets/base",
            "_view_module_version": "1.2.0",
            "_view_name": "StyleView",
            "bar_color": null,
            "description_width": ""
          }
        },
        "67465c0e949b4853ba0bce3fa79f8156": {
          "model_module": "@jupyter-widgets/controls",
          "model_module_version": "1.5.0",
          "model_name": "HTMLModel",
          "state": {
            "_dom_classes": [],
            "_model_module": "@jupyter-widgets/controls",
            "_model_module_version": "1.5.0",
            "_model_name": "HTMLModel",
            "_view_count": null,
            "_view_module": "@jupyter-widgets/controls",
            "_view_module_version": "1.5.0",
            "_view_name": "HTMLView",
            "description": "",
            "description_tooltip": null,
            "layout": "IPY_MODEL_201fc889a91a45198b0268f0da4f3e1f",
            "placeholder": "​",
            "style": "IPY_MODEL_2118083651f143da8895b871f40d4836",
            "value": "Downloading: 100%"
          }
        },
        "6839ab0bb19648778119dece48bccd92": {
          "model_module": "@jupyter-widgets/controls",
          "model_module_version": "1.5.0",
          "model_name": "HTMLModel",
          "state": {
            "_dom_classes": [],
            "_model_module": "@jupyter-widgets/controls",
            "_model_module_version": "1.5.0",
            "_model_name": "HTMLModel",
            "_view_count": null,
            "_view_module": "@jupyter-widgets/controls",
            "_view_module_version": "1.5.0",
            "_view_name": "HTMLView",
            "description": "",
            "description_tooltip": null,
            "layout": "IPY_MODEL_a7b42f4af86c49f88e69d0ad4201a031",
            "placeholder": "​",
            "style": "IPY_MODEL_945d4e5c413f40809ff7c6df0d1914e3",
            "value": ""
          }
        },
        "6b0b3729f3914157b6b245aed074fb6c": {
          "model_module": "@jupyter-widgets/controls",
          "model_module_version": "1.5.0",
          "model_name": "HBoxModel",
          "state": {
            "_dom_classes": [],
            "_model_module": "@jupyter-widgets/controls",
            "_model_module_version": "1.5.0",
            "_model_name": "HBoxModel",
            "_view_count": null,
            "_view_module": "@jupyter-widgets/controls",
            "_view_module_version": "1.5.0",
            "_view_name": "HBoxView",
            "box_style": "",
            "children": [
              "IPY_MODEL_6839ab0bb19648778119dece48bccd92",
              "IPY_MODEL_3ef71c3e8f4649a780ee7253fc35d5c5",
              "IPY_MODEL_c30d1fb8eb5f44d19e8fa7ac86b0040f"
            ],
            "layout": "IPY_MODEL_64445549a7c24b7e966afabf561b2580"
          }
        },
        "6b79423c18ea49aeae61013c75cd9cd5": {
          "model_module": "@jupyter-widgets/controls",
          "model_module_version": "1.5.0",
          "model_name": "HTMLModel",
          "state": {
            "_dom_classes": [],
            "_model_module": "@jupyter-widgets/controls",
            "_model_module_version": "1.5.0",
            "_model_name": "HTMLModel",
            "_view_count": null,
            "_view_module": "@jupyter-widgets/controls",
            "_view_module_version": "1.5.0",
            "_view_name": "HTMLView",
            "description": "",
            "description_tooltip": null,
            "layout": "IPY_MODEL_05bb6a8273394a7dbc42532e6578e806",
            "placeholder": "​",
            "style": "IPY_MODEL_e86b64f6ce93448c84fb7adf1bad781f",
            "value": " 7.06k/? [00:00&lt;00:00, 282kB/s]"
          }
        },
        "6c9bb5a52d794f74a8310e269dfc4221": {
          "model_module": "@jupyter-widgets/base",
          "model_module_version": "1.2.0",
          "model_name": "LayoutModel",
          "state": {
            "_model_module": "@jupyter-widgets/base",
            "_model_module_version": "1.2.0",
            "_model_name": "LayoutModel",
            "_view_count": null,
            "_view_module": "@jupyter-widgets/base",
            "_view_module_version": "1.2.0",
            "_view_name": "LayoutView",
            "align_content": null,
            "align_items": null,
            "align_self": null,
            "border": null,
            "bottom": null,
            "display": null,
            "flex": null,
            "flex_flow": null,
            "grid_area": null,
            "grid_auto_columns": null,
            "grid_auto_flow": null,
            "grid_auto_rows": null,
            "grid_column": null,
            "grid_gap": null,
            "grid_row": null,
            "grid_template_areas": null,
            "grid_template_columns": null,
            "grid_template_rows": null,
            "height": null,
            "justify_content": null,
            "justify_items": null,
            "left": null,
            "margin": null,
            "max_height": null,
            "max_width": null,
            "min_height": null,
            "min_width": null,
            "object_fit": null,
            "object_position": null,
            "order": null,
            "overflow": null,
            "overflow_x": null,
            "overflow_y": null,
            "padding": null,
            "right": null,
            "top": null,
            "visibility": null,
            "width": null
          }
        },
        "70586f0c818c435aa22c6acab870a4c1": {
          "model_module": "@jupyter-widgets/base",
          "model_module_version": "1.2.0",
          "model_name": "LayoutModel",
          "state": {
            "_model_module": "@jupyter-widgets/base",
            "_model_module_version": "1.2.0",
            "_model_name": "LayoutModel",
            "_view_count": null,
            "_view_module": "@jupyter-widgets/base",
            "_view_module_version": "1.2.0",
            "_view_name": "LayoutView",
            "align_content": null,
            "align_items": null,
            "align_self": null,
            "border": null,
            "bottom": null,
            "display": null,
            "flex": null,
            "flex_flow": null,
            "grid_area": null,
            "grid_auto_columns": null,
            "grid_auto_flow": null,
            "grid_auto_rows": null,
            "grid_column": null,
            "grid_gap": null,
            "grid_row": null,
            "grid_template_areas": null,
            "grid_template_columns": null,
            "grid_template_rows": null,
            "height": null,
            "justify_content": null,
            "justify_items": null,
            "left": null,
            "margin": null,
            "max_height": null,
            "max_width": null,
            "min_height": null,
            "min_width": null,
            "object_fit": null,
            "object_position": null,
            "order": null,
            "overflow": null,
            "overflow_x": null,
            "overflow_y": null,
            "padding": null,
            "right": null,
            "top": null,
            "visibility": null,
            "width": null
          }
        },
        "70619e1dc37e4bd7a8c0dc40a58242ff": {
          "model_module": "@jupyter-widgets/base",
          "model_module_version": "1.2.0",
          "model_name": "LayoutModel",
          "state": {
            "_model_module": "@jupyter-widgets/base",
            "_model_module_version": "1.2.0",
            "_model_name": "LayoutModel",
            "_view_count": null,
            "_view_module": "@jupyter-widgets/base",
            "_view_module_version": "1.2.0",
            "_view_name": "LayoutView",
            "align_content": null,
            "align_items": null,
            "align_self": null,
            "border": null,
            "bottom": null,
            "display": null,
            "flex": null,
            "flex_flow": null,
            "grid_area": null,
            "grid_auto_columns": null,
            "grid_auto_flow": null,
            "grid_auto_rows": null,
            "grid_column": null,
            "grid_gap": null,
            "grid_row": null,
            "grid_template_areas": null,
            "grid_template_columns": null,
            "grid_template_rows": null,
            "height": null,
            "justify_content": null,
            "justify_items": null,
            "left": null,
            "margin": null,
            "max_height": null,
            "max_width": null,
            "min_height": null,
            "min_width": null,
            "object_fit": null,
            "object_position": null,
            "order": null,
            "overflow": null,
            "overflow_x": null,
            "overflow_y": null,
            "padding": null,
            "right": null,
            "top": null,
            "visibility": null,
            "width": null
          }
        },
        "777aa1c88f06493789b66ba8c07fd446": {
          "model_module": "@jupyter-widgets/controls",
          "model_module_version": "1.5.0",
          "model_name": "HBoxModel",
          "state": {
            "_dom_classes": [],
            "_model_module": "@jupyter-widgets/controls",
            "_model_module_version": "1.5.0",
            "_model_name": "HBoxModel",
            "_view_count": null,
            "_view_module": "@jupyter-widgets/controls",
            "_view_module_version": "1.5.0",
            "_view_name": "HBoxView",
            "box_style": "",
            "children": [
              "IPY_MODEL_37bdf345b44a4ad09322bb1218a63d45",
              "IPY_MODEL_8e933253401844ed81281df83d5241bd",
              "IPY_MODEL_931c80f43bac48bbaf91387156f3240a"
            ],
            "layout": "IPY_MODEL_2fa32f9534204258a68790c1cca59fb9"
          }
        },
        "7875a66d4849441e91ee3ebd56e00671": {
          "model_module": "@jupyter-widgets/controls",
          "model_module_version": "1.5.0",
          "model_name": "FloatProgressModel",
          "state": {
            "_dom_classes": [],
            "_model_module": "@jupyter-widgets/controls",
            "_model_module_version": "1.5.0",
            "_model_name": "FloatProgressModel",
            "_view_count": null,
            "_view_module": "@jupyter-widgets/controls",
            "_view_module_version": "1.5.0",
            "_view_name": "ProgressView",
            "bar_style": "success",
            "description": "",
            "description_tooltip": null,
            "layout": "IPY_MODEL_31297c5ed702415d9b969da0d9e33538",
            "max": 1,
            "min": 0,
            "orientation": "horizontal",
            "style": "IPY_MODEL_a997425f41b84cb580f04a11d447db3e",
            "value": 1
          }
        },
        "7aabae231bb241f887693324510ea361": {
          "model_module": "@jupyter-widgets/controls",
          "model_module_version": "1.5.0",
          "model_name": "HTMLModel",
          "state": {
            "_dom_classes": [],
            "_model_module": "@jupyter-widgets/controls",
            "_model_module_version": "1.5.0",
            "_model_name": "HTMLModel",
            "_view_count": null,
            "_view_module": "@jupyter-widgets/controls",
            "_view_module_version": "1.5.0",
            "_view_name": "HTMLView",
            "description": "",
            "description_tooltip": null,
            "layout": "IPY_MODEL_ec6f504186ea46ba84fc9582a70e6fd1",
            "placeholder": "​",
            "style": "IPY_MODEL_cd3109243d564bf58ccd64a77aa992d8",
            "value": "Downloading: "
          }
        },
        "7b50a98fd541491d8a248176eedeaf17": {
          "model_module": "@jupyter-widgets/base",
          "model_module_version": "1.2.0",
          "model_name": "LayoutModel",
          "state": {
            "_model_module": "@jupyter-widgets/base",
            "_model_module_version": "1.2.0",
            "_model_name": "LayoutModel",
            "_view_count": null,
            "_view_module": "@jupyter-widgets/base",
            "_view_module_version": "1.2.0",
            "_view_name": "LayoutView",
            "align_content": null,
            "align_items": null,
            "align_self": null,
            "border": null,
            "bottom": null,
            "display": null,
            "flex": null,
            "flex_flow": null,
            "grid_area": null,
            "grid_auto_columns": null,
            "grid_auto_flow": null,
            "grid_auto_rows": null,
            "grid_column": null,
            "grid_gap": null,
            "grid_row": null,
            "grid_template_areas": null,
            "grid_template_columns": null,
            "grid_template_rows": null,
            "height": null,
            "justify_content": null,
            "justify_items": null,
            "left": null,
            "margin": null,
            "max_height": null,
            "max_width": null,
            "min_height": null,
            "min_width": null,
            "object_fit": null,
            "object_position": null,
            "order": null,
            "overflow": null,
            "overflow_x": null,
            "overflow_y": null,
            "padding": null,
            "right": null,
            "top": null,
            "visibility": null,
            "width": null
          }
        },
        "7bb8fd0ab9914b0d8c10b8013e4e8bf3": {
          "model_module": "@jupyter-widgets/base",
          "model_module_version": "1.2.0",
          "model_name": "LayoutModel",
          "state": {
            "_model_module": "@jupyter-widgets/base",
            "_model_module_version": "1.2.0",
            "_model_name": "LayoutModel",
            "_view_count": null,
            "_view_module": "@jupyter-widgets/base",
            "_view_module_version": "1.2.0",
            "_view_name": "LayoutView",
            "align_content": null,
            "align_items": null,
            "align_self": null,
            "border": null,
            "bottom": null,
            "display": null,
            "flex": null,
            "flex_flow": null,
            "grid_area": null,
            "grid_auto_columns": null,
            "grid_auto_flow": null,
            "grid_auto_rows": null,
            "grid_column": null,
            "grid_gap": null,
            "grid_row": null,
            "grid_template_areas": null,
            "grid_template_columns": null,
            "grid_template_rows": null,
            "height": null,
            "justify_content": null,
            "justify_items": null,
            "left": null,
            "margin": null,
            "max_height": null,
            "max_width": null,
            "min_height": null,
            "min_width": null,
            "object_fit": null,
            "object_position": null,
            "order": null,
            "overflow": null,
            "overflow_x": null,
            "overflow_y": null,
            "padding": null,
            "right": null,
            "top": null,
            "visibility": null,
            "width": "20px"
          }
        },
        "7f1b2b6749f74593bb0670617544dee8": {
          "model_module": "@jupyter-widgets/controls",
          "model_module_version": "1.5.0",
          "model_name": "HBoxModel",
          "state": {
            "_dom_classes": [],
            "_model_module": "@jupyter-widgets/controls",
            "_model_module_version": "1.5.0",
            "_model_name": "HBoxModel",
            "_view_count": null,
            "_view_module": "@jupyter-widgets/controls",
            "_view_module_version": "1.5.0",
            "_view_name": "HBoxView",
            "box_style": "",
            "children": [
              "IPY_MODEL_e4c1934f7dff426bbd81afcb27882d66",
              "IPY_MODEL_579d41d99fbe4b20a35258e8ea0f940a",
              "IPY_MODEL_472f903d35f143c99e72a65d84422e5b"
            ],
            "layout": "IPY_MODEL_50d9d2852f124f09b5fa2eb3fc4ef2a0"
          }
        },
        "8289705f3fc24e6694774a73c5534da9": {
          "model_module": "@jupyter-widgets/controls",
          "model_module_version": "1.5.0",
          "model_name": "HBoxModel",
          "state": {
            "_dom_classes": [],
            "_model_module": "@jupyter-widgets/controls",
            "_model_module_version": "1.5.0",
            "_model_name": "HBoxModel",
            "_view_count": null,
            "_view_module": "@jupyter-widgets/controls",
            "_view_module_version": "1.5.0",
            "_view_name": "HBoxView",
            "box_style": "",
            "children": [
              "IPY_MODEL_48578f6bccbc4eff991630478bedddc5",
              "IPY_MODEL_7875a66d4849441e91ee3ebd56e00671",
              "IPY_MODEL_e7c3d9147cc14d27a97426812eaa750e"
            ],
            "layout": "IPY_MODEL_aa19e352695b45c09349db2a2f1b3c34"
          }
        },
        "8e933253401844ed81281df83d5241bd": {
          "model_module": "@jupyter-widgets/controls",
          "model_module_version": "1.5.0",
          "model_name": "FloatProgressModel",
          "state": {
            "_dom_classes": [],
            "_model_module": "@jupyter-widgets/controls",
            "_model_module_version": "1.5.0",
            "_model_name": "FloatProgressModel",
            "_view_count": null,
            "_view_module": "@jupyter-widgets/controls",
            "_view_module_version": "1.5.0",
            "_view_name": "ProgressView",
            "bar_style": "info",
            "description": "",
            "description_tooltip": null,
            "layout": "IPY_MODEL_98c0aee9209e49889734013b7bdde230",
            "max": 1,
            "min": 0,
            "orientation": "horizontal",
            "style": "IPY_MODEL_eeb7defcf34e4c4cab6e864c92b153f4",
            "value": 1
          }
        },
        "9134cf6b3c214dbbba4ad0ece0d425e2": {
          "model_module": "@jupyter-widgets/controls",
          "model_module_version": "1.5.0",
          "model_name": "DescriptionStyleModel",
          "state": {
            "_model_module": "@jupyter-widgets/controls",
            "_model_module_version": "1.5.0",
            "_model_name": "DescriptionStyleModel",
            "_view_count": null,
            "_view_module": "@jupyter-widgets/base",
            "_view_module_version": "1.2.0",
            "_view_name": "StyleView",
            "description_width": ""
          }
        },
        "931c80f43bac48bbaf91387156f3240a": {
          "model_module": "@jupyter-widgets/controls",
          "model_module_version": "1.5.0",
          "model_name": "HTMLModel",
          "state": {
            "_dom_classes": [],
            "_model_module": "@jupyter-widgets/controls",
            "_model_module_version": "1.5.0",
            "_model_name": "HTMLModel",
            "_view_count": null,
            "_view_module": "@jupyter-widgets/controls",
            "_view_module_version": "1.5.0",
            "_view_name": "HTMLView",
            "description": "",
            "description_tooltip": null,
            "layout": "IPY_MODEL_5cfa9628ded9411d8dc9a1c13698649b",
            "placeholder": "​",
            "style": "IPY_MODEL_3415e867ca5f49a78c01030c08bad148",
            "value": " 4550/0 [00:03&lt;00:00, 1164.41 examples/s]"
          }
        },
        "93392ee5467a43ff937dc34785528472": {
          "model_module": "@jupyter-widgets/controls",
          "model_module_version": "1.5.0",
          "model_name": "HTMLModel",
          "state": {
            "_dom_classes": [],
            "_model_module": "@jupyter-widgets/controls",
            "_model_module_version": "1.5.0",
            "_model_name": "HTMLModel",
            "_view_count": null,
            "_view_module": "@jupyter-widgets/controls",
            "_view_module_version": "1.5.0",
            "_view_name": "HTMLView",
            "description": "",
            "description_tooltip": null,
            "layout": "IPY_MODEL_3ab8c1f4389a404997148f991d1693ba",
            "placeholder": "​",
            "style": "IPY_MODEL_a4c6ed8fd59947ad874427db20add89d",
            "value": ""
          }
        },
        "939bf772ba124312a26b795e29874d7d": {
          "model_module": "@jupyter-widgets/base",
          "model_module_version": "1.2.0",
          "model_name": "LayoutModel",
          "state": {
            "_model_module": "@jupyter-widgets/base",
            "_model_module_version": "1.2.0",
            "_model_name": "LayoutModel",
            "_view_count": null,
            "_view_module": "@jupyter-widgets/base",
            "_view_module_version": "1.2.0",
            "_view_name": "LayoutView",
            "align_content": null,
            "align_items": null,
            "align_self": null,
            "border": null,
            "bottom": null,
            "display": null,
            "flex": null,
            "flex_flow": null,
            "grid_area": null,
            "grid_auto_columns": null,
            "grid_auto_flow": null,
            "grid_auto_rows": null,
            "grid_column": null,
            "grid_gap": null,
            "grid_row": null,
            "grid_template_areas": null,
            "grid_template_columns": null,
            "grid_template_rows": null,
            "height": null,
            "justify_content": null,
            "justify_items": null,
            "left": null,
            "margin": null,
            "max_height": null,
            "max_width": null,
            "min_height": null,
            "min_width": null,
            "object_fit": null,
            "object_position": null,
            "order": null,
            "overflow": null,
            "overflow_x": null,
            "overflow_y": null,
            "padding": null,
            "right": null,
            "top": null,
            "visibility": null,
            "width": null
          }
        },
        "945d4e5c413f40809ff7c6df0d1914e3": {
          "model_module": "@jupyter-widgets/controls",
          "model_module_version": "1.5.0",
          "model_name": "DescriptionStyleModel",
          "state": {
            "_model_module": "@jupyter-widgets/controls",
            "_model_module_version": "1.5.0",
            "_model_name": "DescriptionStyleModel",
            "_view_count": null,
            "_view_module": "@jupyter-widgets/base",
            "_view_module_version": "1.2.0",
            "_view_name": "StyleView",
            "description_width": ""
          }
        },
        "95224971c21d472782b558d16b97fe62": {
          "model_module": "@jupyter-widgets/base",
          "model_module_version": "1.2.0",
          "model_name": "LayoutModel",
          "state": {
            "_model_module": "@jupyter-widgets/base",
            "_model_module_version": "1.2.0",
            "_model_name": "LayoutModel",
            "_view_count": null,
            "_view_module": "@jupyter-widgets/base",
            "_view_module_version": "1.2.0",
            "_view_name": "LayoutView",
            "align_content": null,
            "align_items": null,
            "align_self": null,
            "border": null,
            "bottom": null,
            "display": null,
            "flex": null,
            "flex_flow": null,
            "grid_area": null,
            "grid_auto_columns": null,
            "grid_auto_flow": null,
            "grid_auto_rows": null,
            "grid_column": null,
            "grid_gap": null,
            "grid_row": null,
            "grid_template_areas": null,
            "grid_template_columns": null,
            "grid_template_rows": null,
            "height": null,
            "justify_content": null,
            "justify_items": null,
            "left": null,
            "margin": null,
            "max_height": null,
            "max_width": null,
            "min_height": null,
            "min_width": null,
            "object_fit": null,
            "object_position": null,
            "order": null,
            "overflow": null,
            "overflow_x": null,
            "overflow_y": null,
            "padding": null,
            "right": null,
            "top": null,
            "visibility": null,
            "width": null
          }
        },
        "968b1921ae2a42bc826c709d737bdefb": {
          "model_module": "@jupyter-widgets/controls",
          "model_module_version": "1.5.0",
          "model_name": "DescriptionStyleModel",
          "state": {
            "_model_module": "@jupyter-widgets/controls",
            "_model_module_version": "1.5.0",
            "_model_name": "DescriptionStyleModel",
            "_view_count": null,
            "_view_module": "@jupyter-widgets/base",
            "_view_module_version": "1.2.0",
            "_view_name": "StyleView",
            "description_width": ""
          }
        },
        "9699ae10688f442791552475f666e4b6": {
          "model_module": "@jupyter-widgets/base",
          "model_module_version": "1.2.0",
          "model_name": "LayoutModel",
          "state": {
            "_model_module": "@jupyter-widgets/base",
            "_model_module_version": "1.2.0",
            "_model_name": "LayoutModel",
            "_view_count": null,
            "_view_module": "@jupyter-widgets/base",
            "_view_module_version": "1.2.0",
            "_view_name": "LayoutView",
            "align_content": null,
            "align_items": null,
            "align_self": null,
            "border": null,
            "bottom": null,
            "display": null,
            "flex": null,
            "flex_flow": null,
            "grid_area": null,
            "grid_auto_columns": null,
            "grid_auto_flow": null,
            "grid_auto_rows": null,
            "grid_column": null,
            "grid_gap": null,
            "grid_row": null,
            "grid_template_areas": null,
            "grid_template_columns": null,
            "grid_template_rows": null,
            "height": null,
            "justify_content": null,
            "justify_items": null,
            "left": null,
            "margin": null,
            "max_height": null,
            "max_width": null,
            "min_height": null,
            "min_width": null,
            "object_fit": null,
            "object_position": null,
            "order": null,
            "overflow": null,
            "overflow_x": null,
            "overflow_y": null,
            "padding": null,
            "right": null,
            "top": null,
            "visibility": null,
            "width": null
          }
        },
        "97c0aa533c614b5b8c4cc7b800fcfb23": {
          "model_module": "@jupyter-widgets/base",
          "model_module_version": "1.2.0",
          "model_name": "LayoutModel",
          "state": {
            "_model_module": "@jupyter-widgets/base",
            "_model_module_version": "1.2.0",
            "_model_name": "LayoutModel",
            "_view_count": null,
            "_view_module": "@jupyter-widgets/base",
            "_view_module_version": "1.2.0",
            "_view_name": "LayoutView",
            "align_content": null,
            "align_items": null,
            "align_self": null,
            "border": null,
            "bottom": null,
            "display": null,
            "flex": null,
            "flex_flow": null,
            "grid_area": null,
            "grid_auto_columns": null,
            "grid_auto_flow": null,
            "grid_auto_rows": null,
            "grid_column": null,
            "grid_gap": null,
            "grid_row": null,
            "grid_template_areas": null,
            "grid_template_columns": null,
            "grid_template_rows": null,
            "height": null,
            "justify_content": null,
            "justify_items": null,
            "left": null,
            "margin": null,
            "max_height": null,
            "max_width": null,
            "min_height": null,
            "min_width": null,
            "object_fit": null,
            "object_position": null,
            "order": null,
            "overflow": null,
            "overflow_x": null,
            "overflow_y": null,
            "padding": null,
            "right": null,
            "top": null,
            "visibility": null,
            "width": null
          }
        },
        "98c0aee9209e49889734013b7bdde230": {
          "model_module": "@jupyter-widgets/base",
          "model_module_version": "1.2.0",
          "model_name": "LayoutModel",
          "state": {
            "_model_module": "@jupyter-widgets/base",
            "_model_module_version": "1.2.0",
            "_model_name": "LayoutModel",
            "_view_count": null,
            "_view_module": "@jupyter-widgets/base",
            "_view_module_version": "1.2.0",
            "_view_name": "LayoutView",
            "align_content": null,
            "align_items": null,
            "align_self": null,
            "border": null,
            "bottom": null,
            "display": null,
            "flex": null,
            "flex_flow": null,
            "grid_area": null,
            "grid_auto_columns": null,
            "grid_auto_flow": null,
            "grid_auto_rows": null,
            "grid_column": null,
            "grid_gap": null,
            "grid_row": null,
            "grid_template_areas": null,
            "grid_template_columns": null,
            "grid_template_rows": null,
            "height": null,
            "justify_content": null,
            "justify_items": null,
            "left": null,
            "margin": null,
            "max_height": null,
            "max_width": null,
            "min_height": null,
            "min_width": null,
            "object_fit": null,
            "object_position": null,
            "order": null,
            "overflow": null,
            "overflow_x": null,
            "overflow_y": null,
            "padding": null,
            "right": null,
            "top": null,
            "visibility": null,
            "width": "20px"
          }
        },
        "9a7070142057491890f8e95dbe89ee09": {
          "model_module": "@jupyter-widgets/base",
          "model_module_version": "1.2.0",
          "model_name": "LayoutModel",
          "state": {
            "_model_module": "@jupyter-widgets/base",
            "_model_module_version": "1.2.0",
            "_model_name": "LayoutModel",
            "_view_count": null,
            "_view_module": "@jupyter-widgets/base",
            "_view_module_version": "1.2.0",
            "_view_name": "LayoutView",
            "align_content": null,
            "align_items": null,
            "align_self": null,
            "border": null,
            "bottom": null,
            "display": null,
            "flex": null,
            "flex_flow": null,
            "grid_area": null,
            "grid_auto_columns": null,
            "grid_auto_flow": null,
            "grid_auto_rows": null,
            "grid_column": null,
            "grid_gap": null,
            "grid_row": null,
            "grid_template_areas": null,
            "grid_template_columns": null,
            "grid_template_rows": null,
            "height": null,
            "justify_content": null,
            "justify_items": null,
            "left": null,
            "margin": null,
            "max_height": null,
            "max_width": null,
            "min_height": null,
            "min_width": null,
            "object_fit": null,
            "object_position": null,
            "order": null,
            "overflow": null,
            "overflow_x": null,
            "overflow_y": null,
            "padding": null,
            "right": null,
            "top": null,
            "visibility": null,
            "width": null
          }
        },
        "9a8b97fe319946d081825eff285b27ea": {
          "model_module": "@jupyter-widgets/controls",
          "model_module_version": "1.5.0",
          "model_name": "HTMLModel",
          "state": {
            "_dom_classes": [],
            "_model_module": "@jupyter-widgets/controls",
            "_model_module_version": "1.5.0",
            "_model_name": "HTMLModel",
            "_view_count": null,
            "_view_module": "@jupyter-widgets/controls",
            "_view_module_version": "1.5.0",
            "_view_name": "HTMLView",
            "description": "",
            "description_tooltip": null,
            "layout": "IPY_MODEL_c300e43d5adc4f9490760172099de244",
            "placeholder": "​",
            "style": "IPY_MODEL_c656561418894fb683e255bd5ab8f945",
            "value": "Downloading: 100%"
          }
        },
        "9d3d3bb1eb3743cf8f9bb53dd680657f": {
          "model_module": "@jupyter-widgets/controls",
          "model_module_version": "1.5.0",
          "model_name": "HTMLModel",
          "state": {
            "_dom_classes": [],
            "_model_module": "@jupyter-widgets/controls",
            "_model_module_version": "1.5.0",
            "_model_name": "HTMLModel",
            "_view_count": null,
            "_view_module": "@jupyter-widgets/controls",
            "_view_module_version": "1.5.0",
            "_view_name": "HTMLView",
            "description": "",
            "description_tooltip": null,
            "layout": "IPY_MODEL_eed024cb548b492896b2229371300de5",
            "placeholder": "​",
            "style": "IPY_MODEL_1a0d6110d3d342c9bd6a02f615e56eaf",
            "value": "100%"
          }
        },
        "a044c1a46fc04657a8737a330eca034c": {
          "model_module": "@jupyter-widgets/controls",
          "model_module_version": "1.5.0",
          "model_name": "ProgressStyleModel",
          "state": {
            "_model_module": "@jupyter-widgets/controls",
            "_model_module_version": "1.5.0",
            "_model_name": "ProgressStyleModel",
            "_view_count": null,
            "_view_module": "@jupyter-widgets/base",
            "_view_module_version": "1.2.0",
            "_view_name": "StyleView",
            "bar_color": null,
            "description_width": ""
          }
        },
        "a0803d936e854ff89ba4bd9f72ef4d5e": {
          "model_module": "@jupyter-widgets/controls",
          "model_module_version": "1.5.0",
          "model_name": "DescriptionStyleModel",
          "state": {
            "_model_module": "@jupyter-widgets/controls",
            "_model_module_version": "1.5.0",
            "_model_name": "DescriptionStyleModel",
            "_view_count": null,
            "_view_module": "@jupyter-widgets/base",
            "_view_module_version": "1.2.0",
            "_view_name": "StyleView",
            "description_width": ""
          }
        },
        "a0b34eff703c48608f5068443fe0ddcc": {
          "model_module": "@jupyter-widgets/controls",
          "model_module_version": "1.5.0",
          "model_name": "FloatProgressModel",
          "state": {
            "_dom_classes": [],
            "_model_module": "@jupyter-widgets/controls",
            "_model_module_version": "1.5.0",
            "_model_name": "FloatProgressModel",
            "_view_count": null,
            "_view_module": "@jupyter-widgets/controls",
            "_view_module_version": "1.5.0",
            "_view_name": "ProgressView",
            "bar_style": "success",
            "description": "",
            "description_tooltip": null,
            "layout": "IPY_MODEL_1dfdad44b9c5483d8842ccbfd9bb108c",
            "max": 2,
            "min": 0,
            "orientation": "horizontal",
            "style": "IPY_MODEL_e5b8e13bcf7d40e0ad3c4187de8b198e",
            "value": 2
          }
        },
        "a4c6ed8fd59947ad874427db20add89d": {
          "model_module": "@jupyter-widgets/controls",
          "model_module_version": "1.5.0",
          "model_name": "DescriptionStyleModel",
          "state": {
            "_model_module": "@jupyter-widgets/controls",
            "_model_module_version": "1.5.0",
            "_model_name": "DescriptionStyleModel",
            "_view_count": null,
            "_view_module": "@jupyter-widgets/base",
            "_view_module_version": "1.2.0",
            "_view_name": "StyleView",
            "description_width": ""
          }
        },
        "a4ec4702be574891b7d1aac30af60f2b": {
          "model_module": "@jupyter-widgets/controls",
          "model_module_version": "1.5.0",
          "model_name": "HTMLModel",
          "state": {
            "_dom_classes": [],
            "_model_module": "@jupyter-widgets/controls",
            "_model_module_version": "1.5.0",
            "_model_name": "HTMLModel",
            "_view_count": null,
            "_view_module": "@jupyter-widgets/controls",
            "_view_module_version": "1.5.0",
            "_view_name": "HTMLView",
            "description": "",
            "description_tooltip": null,
            "layout": "IPY_MODEL_70619e1dc37e4bd7a8c0dc40a58242ff",
            "placeholder": "​",
            "style": "IPY_MODEL_4e47cd837e074c4983c758bc60568479",
            "value": " 5/5 [00:00&lt;00:00, 144.73ba/s]"
          }
        },
        "a655071684ba499e84c4c14abcdb27e3": {
          "model_module": "@jupyter-widgets/base",
          "model_module_version": "1.2.0",
          "model_name": "LayoutModel",
          "state": {
            "_model_module": "@jupyter-widgets/base",
            "_model_module_version": "1.2.0",
            "_model_name": "LayoutModel",
            "_view_count": null,
            "_view_module": "@jupyter-widgets/base",
            "_view_module_version": "1.2.0",
            "_view_name": "LayoutView",
            "align_content": null,
            "align_items": null,
            "align_self": null,
            "border": null,
            "bottom": null,
            "display": null,
            "flex": null,
            "flex_flow": null,
            "grid_area": null,
            "grid_auto_columns": null,
            "grid_auto_flow": null,
            "grid_auto_rows": null,
            "grid_column": null,
            "grid_gap": null,
            "grid_row": null,
            "grid_template_areas": null,
            "grid_template_columns": null,
            "grid_template_rows": null,
            "height": null,
            "justify_content": null,
            "justify_items": null,
            "left": null,
            "margin": null,
            "max_height": null,
            "max_width": null,
            "min_height": null,
            "min_width": null,
            "object_fit": null,
            "object_position": null,
            "order": null,
            "overflow": null,
            "overflow_x": null,
            "overflow_y": null,
            "padding": null,
            "right": null,
            "top": null,
            "visibility": null,
            "width": null
          }
        },
        "a66c0f2c79a84962b9305f8804338b53": {
          "model_module": "@jupyter-widgets/controls",
          "model_module_version": "1.5.0",
          "model_name": "HBoxModel",
          "state": {
            "_dom_classes": [],
            "_model_module": "@jupyter-widgets/controls",
            "_model_module_version": "1.5.0",
            "_model_name": "HBoxModel",
            "_view_count": null,
            "_view_module": "@jupyter-widgets/controls",
            "_view_module_version": "1.5.0",
            "_view_name": "HBoxView",
            "box_style": "",
            "children": [
              "IPY_MODEL_9a8b97fe319946d081825eff285b27ea",
              "IPY_MODEL_057ec9fb42ee4ea3a383ad1d441e633d",
              "IPY_MODEL_046dfcc9bf644510961293d0df19f1d3"
            ],
            "layout": "IPY_MODEL_cf3e16f83b6841e3834f1713bc69313e"
          }
        },
        "a7b42f4af86c49f88e69d0ad4201a031": {
          "model_module": "@jupyter-widgets/base",
          "model_module_version": "1.2.0",
          "model_name": "LayoutModel",
          "state": {
            "_model_module": "@jupyter-widgets/base",
            "_model_module_version": "1.2.0",
            "_model_name": "LayoutModel",
            "_view_count": null,
            "_view_module": "@jupyter-widgets/base",
            "_view_module_version": "1.2.0",
            "_view_name": "LayoutView",
            "align_content": null,
            "align_items": null,
            "align_self": null,
            "border": null,
            "bottom": null,
            "display": null,
            "flex": null,
            "flex_flow": null,
            "grid_area": null,
            "grid_auto_columns": null,
            "grid_auto_flow": null,
            "grid_auto_rows": null,
            "grid_column": null,
            "grid_gap": null,
            "grid_row": null,
            "grid_template_areas": null,
            "grid_template_columns": null,
            "grid_template_rows": null,
            "height": null,
            "justify_content": null,
            "justify_items": null,
            "left": null,
            "margin": null,
            "max_height": null,
            "max_width": null,
            "min_height": null,
            "min_width": null,
            "object_fit": null,
            "object_position": null,
            "order": null,
            "overflow": null,
            "overflow_x": null,
            "overflow_y": null,
            "padding": null,
            "right": null,
            "top": null,
            "visibility": null,
            "width": null
          }
        },
        "a997425f41b84cb580f04a11d447db3e": {
          "model_module": "@jupyter-widgets/controls",
          "model_module_version": "1.5.0",
          "model_name": "ProgressStyleModel",
          "state": {
            "_model_module": "@jupyter-widgets/controls",
            "_model_module_version": "1.5.0",
            "_model_name": "ProgressStyleModel",
            "_view_count": null,
            "_view_module": "@jupyter-widgets/base",
            "_view_module_version": "1.2.0",
            "_view_name": "StyleView",
            "bar_color": null,
            "description_width": ""
          }
        },
        "aa19e352695b45c09349db2a2f1b3c34": {
          "model_module": "@jupyter-widgets/base",
          "model_module_version": "1.2.0",
          "model_name": "LayoutModel",
          "state": {
            "_model_module": "@jupyter-widgets/base",
            "_model_module_version": "1.2.0",
            "_model_name": "LayoutModel",
            "_view_count": null,
            "_view_module": "@jupyter-widgets/base",
            "_view_module_version": "1.2.0",
            "_view_name": "LayoutView",
            "align_content": null,
            "align_items": null,
            "align_self": null,
            "border": null,
            "bottom": null,
            "display": null,
            "flex": null,
            "flex_flow": null,
            "grid_area": null,
            "grid_auto_columns": null,
            "grid_auto_flow": null,
            "grid_auto_rows": null,
            "grid_column": null,
            "grid_gap": null,
            "grid_row": null,
            "grid_template_areas": null,
            "grid_template_columns": null,
            "grid_template_rows": null,
            "height": null,
            "justify_content": null,
            "justify_items": null,
            "left": null,
            "margin": null,
            "max_height": null,
            "max_width": null,
            "min_height": null,
            "min_width": null,
            "object_fit": null,
            "object_position": null,
            "order": null,
            "overflow": null,
            "overflow_x": null,
            "overflow_y": null,
            "padding": null,
            "right": null,
            "top": null,
            "visibility": null,
            "width": null
          }
        },
        "aa359bce9c75442e978b7f70605d2338": {
          "model_module": "@jupyter-widgets/controls",
          "model_module_version": "1.5.0",
          "model_name": "HTMLModel",
          "state": {
            "_dom_classes": [],
            "_model_module": "@jupyter-widgets/controls",
            "_model_module_version": "1.5.0",
            "_model_name": "HTMLModel",
            "_view_count": null,
            "_view_module": "@jupyter-widgets/controls",
            "_view_module_version": "1.5.0",
            "_view_name": "HTMLView",
            "description": "",
            "description_tooltip": null,
            "layout": "IPY_MODEL_d005a9303184495795df11fade62a79b",
            "placeholder": "​",
            "style": "IPY_MODEL_be05580d016e4990a83cf4fb4698fc24",
            "value": " 1680/? [00:00&lt;00:00, 9083.73ex/s]"
          }
        },
        "ac611db9476d44d6af77d676dc6dde2f": {
          "model_module": "@jupyter-widgets/controls",
          "model_module_version": "1.5.0",
          "model_name": "ProgressStyleModel",
          "state": {
            "_model_module": "@jupyter-widgets/controls",
            "_model_module_version": "1.5.0",
            "_model_name": "ProgressStyleModel",
            "_view_count": null,
            "_view_module": "@jupyter-widgets/base",
            "_view_module_version": "1.2.0",
            "_view_name": "StyleView",
            "bar_color": null,
            "description_width": ""
          }
        },
        "ad0047a5034a4dfa9e6e8df374e31693": {
          "model_module": "@jupyter-widgets/controls",
          "model_module_version": "1.5.0",
          "model_name": "DescriptionStyleModel",
          "state": {
            "_model_module": "@jupyter-widgets/controls",
            "_model_module_version": "1.5.0",
            "_model_name": "DescriptionStyleModel",
            "_view_count": null,
            "_view_module": "@jupyter-widgets/base",
            "_view_module_version": "1.2.0",
            "_view_name": "StyleView",
            "description_width": ""
          }
        },
        "ad958193579748859417f4d2c7c214c3": {
          "model_module": "@jupyter-widgets/controls",
          "model_module_version": "1.5.0",
          "model_name": "HBoxModel",
          "state": {
            "_dom_classes": [],
            "_model_module": "@jupyter-widgets/controls",
            "_model_module_version": "1.5.0",
            "_model_name": "HBoxModel",
            "_view_count": null,
            "_view_module": "@jupyter-widgets/controls",
            "_view_module_version": "1.5.0",
            "_view_name": "HBoxView",
            "box_style": "",
            "children": [
              "IPY_MODEL_7aabae231bb241f887693324510ea361",
              "IPY_MODEL_ea1c356a2eca4c2cba7ce08be7eb8c40",
              "IPY_MODEL_32351bf045ed4c35ba133f5f31193d17"
            ],
            "layout": "IPY_MODEL_0b81b5e619c44dcc886a447c9a2a0cb7"
          }
        },
        "b0d0ceec2814409c80839181dca59a4c": {
          "model_module": "@jupyter-widgets/controls",
          "model_module_version": "1.5.0",
          "model_name": "DescriptionStyleModel",
          "state": {
            "_model_module": "@jupyter-widgets/controls",
            "_model_module_version": "1.5.0",
            "_model_name": "DescriptionStyleModel",
            "_view_count": null,
            "_view_module": "@jupyter-widgets/base",
            "_view_module_version": "1.2.0",
            "_view_name": "StyleView",
            "description_width": ""
          }
        },
        "b1f8282f2561442fa51938ca1151b847": {
          "model_module": "@jupyter-widgets/base",
          "model_module_version": "1.2.0",
          "model_name": "LayoutModel",
          "state": {
            "_model_module": "@jupyter-widgets/base",
            "_model_module_version": "1.2.0",
            "_model_name": "LayoutModel",
            "_view_count": null,
            "_view_module": "@jupyter-widgets/base",
            "_view_module_version": "1.2.0",
            "_view_name": "LayoutView",
            "align_content": null,
            "align_items": null,
            "align_self": null,
            "border": null,
            "bottom": null,
            "display": null,
            "flex": null,
            "flex_flow": null,
            "grid_area": null,
            "grid_auto_columns": null,
            "grid_auto_flow": null,
            "grid_auto_rows": null,
            "grid_column": null,
            "grid_gap": null,
            "grid_row": null,
            "grid_template_areas": null,
            "grid_template_columns": null,
            "grid_template_rows": null,
            "height": null,
            "justify_content": null,
            "justify_items": null,
            "left": null,
            "margin": null,
            "max_height": null,
            "max_width": null,
            "min_height": null,
            "min_width": null,
            "object_fit": null,
            "object_position": null,
            "order": null,
            "overflow": null,
            "overflow_x": null,
            "overflow_y": null,
            "padding": null,
            "right": null,
            "top": null,
            "visibility": null,
            "width": null
          }
        },
        "b2192e6792824923b1f67e3fa7fd7019": {
          "model_module": "@jupyter-widgets/base",
          "model_module_version": "1.2.0",
          "model_name": "LayoutModel",
          "state": {
            "_model_module": "@jupyter-widgets/base",
            "_model_module_version": "1.2.0",
            "_model_name": "LayoutModel",
            "_view_count": null,
            "_view_module": "@jupyter-widgets/base",
            "_view_module_version": "1.2.0",
            "_view_name": "LayoutView",
            "align_content": null,
            "align_items": null,
            "align_self": null,
            "border": null,
            "bottom": null,
            "display": null,
            "flex": null,
            "flex_flow": null,
            "grid_area": null,
            "grid_auto_columns": null,
            "grid_auto_flow": null,
            "grid_auto_rows": null,
            "grid_column": null,
            "grid_gap": null,
            "grid_row": null,
            "grid_template_areas": null,
            "grid_template_columns": null,
            "grid_template_rows": null,
            "height": null,
            "justify_content": null,
            "justify_items": null,
            "left": null,
            "margin": null,
            "max_height": null,
            "max_width": null,
            "min_height": null,
            "min_width": null,
            "object_fit": null,
            "object_position": null,
            "order": null,
            "overflow": null,
            "overflow_x": null,
            "overflow_y": null,
            "padding": null,
            "right": null,
            "top": null,
            "visibility": null,
            "width": null
          }
        },
        "b657f81fa0a7479bb054adcd294a7559": {
          "model_module": "@jupyter-widgets/base",
          "model_module_version": "1.2.0",
          "model_name": "LayoutModel",
          "state": {
            "_model_module": "@jupyter-widgets/base",
            "_model_module_version": "1.2.0",
            "_model_name": "LayoutModel",
            "_view_count": null,
            "_view_module": "@jupyter-widgets/base",
            "_view_module_version": "1.2.0",
            "_view_name": "LayoutView",
            "align_content": null,
            "align_items": null,
            "align_self": null,
            "border": null,
            "bottom": null,
            "display": null,
            "flex": null,
            "flex_flow": null,
            "grid_area": null,
            "grid_auto_columns": null,
            "grid_auto_flow": null,
            "grid_auto_rows": null,
            "grid_column": null,
            "grid_gap": null,
            "grid_row": null,
            "grid_template_areas": null,
            "grid_template_columns": null,
            "grid_template_rows": null,
            "height": null,
            "justify_content": null,
            "justify_items": null,
            "left": null,
            "margin": null,
            "max_height": null,
            "max_width": null,
            "min_height": null,
            "min_width": null,
            "object_fit": null,
            "object_position": null,
            "order": null,
            "overflow": null,
            "overflow_x": null,
            "overflow_y": null,
            "padding": null,
            "right": null,
            "top": null,
            "visibility": null,
            "width": null
          }
        },
        "b90c507607824b869a926758a96d04c1": {
          "model_module": "@jupyter-widgets/base",
          "model_module_version": "1.2.0",
          "model_name": "LayoutModel",
          "state": {
            "_model_module": "@jupyter-widgets/base",
            "_model_module_version": "1.2.0",
            "_model_name": "LayoutModel",
            "_view_count": null,
            "_view_module": "@jupyter-widgets/base",
            "_view_module_version": "1.2.0",
            "_view_name": "LayoutView",
            "align_content": null,
            "align_items": null,
            "align_self": null,
            "border": null,
            "bottom": null,
            "display": null,
            "flex": null,
            "flex_flow": null,
            "grid_area": null,
            "grid_auto_columns": null,
            "grid_auto_flow": null,
            "grid_auto_rows": null,
            "grid_column": null,
            "grid_gap": null,
            "grid_row": null,
            "grid_template_areas": null,
            "grid_template_columns": null,
            "grid_template_rows": null,
            "height": null,
            "justify_content": null,
            "justify_items": null,
            "left": null,
            "margin": null,
            "max_height": null,
            "max_width": null,
            "min_height": null,
            "min_width": null,
            "object_fit": null,
            "object_position": null,
            "order": null,
            "overflow": null,
            "overflow_x": null,
            "overflow_y": null,
            "padding": null,
            "right": null,
            "top": null,
            "visibility": null,
            "width": null
          }
        },
        "b99c8030459444339250ea183c6abff2": {
          "model_module": "@jupyter-widgets/base",
          "model_module_version": "1.2.0",
          "model_name": "LayoutModel",
          "state": {
            "_model_module": "@jupyter-widgets/base",
            "_model_module_version": "1.2.0",
            "_model_name": "LayoutModel",
            "_view_count": null,
            "_view_module": "@jupyter-widgets/base",
            "_view_module_version": "1.2.0",
            "_view_name": "LayoutView",
            "align_content": null,
            "align_items": null,
            "align_self": null,
            "border": null,
            "bottom": null,
            "display": null,
            "flex": null,
            "flex_flow": null,
            "grid_area": null,
            "grid_auto_columns": null,
            "grid_auto_flow": null,
            "grid_auto_rows": null,
            "grid_column": null,
            "grid_gap": null,
            "grid_row": null,
            "grid_template_areas": null,
            "grid_template_columns": null,
            "grid_template_rows": null,
            "height": null,
            "justify_content": null,
            "justify_items": null,
            "left": null,
            "margin": null,
            "max_height": null,
            "max_width": null,
            "min_height": null,
            "min_width": null,
            "object_fit": null,
            "object_position": null,
            "order": null,
            "overflow": null,
            "overflow_x": null,
            "overflow_y": null,
            "padding": null,
            "right": null,
            "top": null,
            "visibility": null,
            "width": null
          }
        },
        "bbd6ad49bef547cba71b6a3c8fd11810": {
          "model_module": "@jupyter-widgets/controls",
          "model_module_version": "1.5.0",
          "model_name": "HBoxModel",
          "state": {
            "_dom_classes": [],
            "_model_module": "@jupyter-widgets/controls",
            "_model_module_version": "1.5.0",
            "_model_name": "HBoxModel",
            "_view_count": null,
            "_view_module": "@jupyter-widgets/controls",
            "_view_module_version": "1.5.0",
            "_view_name": "HBoxView",
            "box_style": "",
            "children": [
              "IPY_MODEL_c9fbbc38facc4debb61759a42eb2ff8b",
              "IPY_MODEL_dd240f8b59994a659abaab6ba84cc864",
              "IPY_MODEL_f3173b5418e540509fb7874f32b34339"
            ],
            "layout": "IPY_MODEL_b657f81fa0a7479bb054adcd294a7559"
          }
        },
        "bc155a38ce8d40fab0565e4264c77d26": {
          "model_module": "@jupyter-widgets/controls",
          "model_module_version": "1.5.0",
          "model_name": "HBoxModel",
          "state": {
            "_dom_classes": [],
            "_model_module": "@jupyter-widgets/controls",
            "_model_module_version": "1.5.0",
            "_model_name": "HBoxModel",
            "_view_count": null,
            "_view_module": "@jupyter-widgets/controls",
            "_view_module_version": "1.5.0",
            "_view_name": "HBoxView",
            "box_style": "",
            "children": [
              "IPY_MODEL_e51873a525fa4b96a594c7700ec95009",
              "IPY_MODEL_a0b34eff703c48608f5068443fe0ddcc",
              "IPY_MODEL_d97e0d687ed94aafa7846a6b5f355072"
            ],
            "layout": "IPY_MODEL_059094a1063b4e048684b099c253a94a"
          }
        },
        "be05580d016e4990a83cf4fb4698fc24": {
          "model_module": "@jupyter-widgets/controls",
          "model_module_version": "1.5.0",
          "model_name": "DescriptionStyleModel",
          "state": {
            "_model_module": "@jupyter-widgets/controls",
            "_model_module_version": "1.5.0",
            "_model_name": "DescriptionStyleModel",
            "_view_count": null,
            "_view_module": "@jupyter-widgets/base",
            "_view_module_version": "1.2.0",
            "_view_name": "StyleView",
            "description_width": ""
          }
        },
        "bf18eb6221b94c53982aaf6f98a7005d": {
          "model_module": "@jupyter-widgets/controls",
          "model_module_version": "1.5.0",
          "model_name": "DescriptionStyleModel",
          "state": {
            "_model_module": "@jupyter-widgets/controls",
            "_model_module_version": "1.5.0",
            "_model_name": "DescriptionStyleModel",
            "_view_count": null,
            "_view_module": "@jupyter-widgets/base",
            "_view_module_version": "1.2.0",
            "_view_name": "StyleView",
            "description_width": ""
          }
        },
        "c300e43d5adc4f9490760172099de244": {
          "model_module": "@jupyter-widgets/base",
          "model_module_version": "1.2.0",
          "model_name": "LayoutModel",
          "state": {
            "_model_module": "@jupyter-widgets/base",
            "_model_module_version": "1.2.0",
            "_model_name": "LayoutModel",
            "_view_count": null,
            "_view_module": "@jupyter-widgets/base",
            "_view_module_version": "1.2.0",
            "_view_name": "LayoutView",
            "align_content": null,
            "align_items": null,
            "align_self": null,
            "border": null,
            "bottom": null,
            "display": null,
            "flex": null,
            "flex_flow": null,
            "grid_area": null,
            "grid_auto_columns": null,
            "grid_auto_flow": null,
            "grid_auto_rows": null,
            "grid_column": null,
            "grid_gap": null,
            "grid_row": null,
            "grid_template_areas": null,
            "grid_template_columns": null,
            "grid_template_rows": null,
            "height": null,
            "justify_content": null,
            "justify_items": null,
            "left": null,
            "margin": null,
            "max_height": null,
            "max_width": null,
            "min_height": null,
            "min_width": null,
            "object_fit": null,
            "object_position": null,
            "order": null,
            "overflow": null,
            "overflow_x": null,
            "overflow_y": null,
            "padding": null,
            "right": null,
            "top": null,
            "visibility": null,
            "width": null
          }
        },
        "c30d1fb8eb5f44d19e8fa7ac86b0040f": {
          "model_module": "@jupyter-widgets/controls",
          "model_module_version": "1.5.0",
          "model_name": "HTMLModel",
          "state": {
            "_dom_classes": [],
            "_model_module": "@jupyter-widgets/controls",
            "_model_module_version": "1.5.0",
            "_model_name": "HTMLModel",
            "_view_count": null,
            "_view_module": "@jupyter-widgets/controls",
            "_view_module_version": "1.5.0",
            "_view_name": "HTMLView",
            "description": "",
            "description_tooltip": null,
            "layout": "IPY_MODEL_9699ae10688f442791552475f666e4b6",
            "placeholder": "​",
            "style": "IPY_MODEL_a0803d936e854ff89ba4bd9f72ef4d5e",
            "value": " 1673/0 [00:01&lt;00:00, 1256.67 examples/s]"
          }
        },
        "c3acec27d4994feeb92501f7f4be3fd5": {
          "model_module": "@jupyter-widgets/controls",
          "model_module_version": "1.5.0",
          "model_name": "HBoxModel",
          "state": {
            "_dom_classes": [],
            "_model_module": "@jupyter-widgets/controls",
            "_model_module_version": "1.5.0",
            "_model_name": "HBoxModel",
            "_view_count": null,
            "_view_module": "@jupyter-widgets/controls",
            "_view_module_version": "1.5.0",
            "_view_name": "HBoxView",
            "box_style": "",
            "children": [
              "IPY_MODEL_f01282c4cc5b459e925bd7d64e36e4d4",
              "IPY_MODEL_f44d6bfb7a1845a4a2baff0751e47aed",
              "IPY_MODEL_6b79423c18ea49aeae61013c75cd9cd5"
            ],
            "layout": "IPY_MODEL_95224971c21d472782b558d16b97fe62"
          }
        },
        "c656561418894fb683e255bd5ab8f945": {
          "model_module": "@jupyter-widgets/controls",
          "model_module_version": "1.5.0",
          "model_name": "DescriptionStyleModel",
          "state": {
            "_model_module": "@jupyter-widgets/controls",
            "_model_module_version": "1.5.0",
            "_model_name": "DescriptionStyleModel",
            "_view_count": null,
            "_view_module": "@jupyter-widgets/base",
            "_view_module_version": "1.2.0",
            "_view_name": "StyleView",
            "description_width": ""
          }
        },
        "c750ec6d6b1149cf8cedc06597c98b58": {
          "model_module": "@jupyter-widgets/controls",
          "model_module_version": "1.5.0",
          "model_name": "DescriptionStyleModel",
          "state": {
            "_model_module": "@jupyter-widgets/controls",
            "_model_module_version": "1.5.0",
            "_model_name": "DescriptionStyleModel",
            "_view_count": null,
            "_view_module": "@jupyter-widgets/base",
            "_view_module_version": "1.2.0",
            "_view_name": "StyleView",
            "description_width": ""
          }
        },
        "c79ab1e74ade4f1fbedb47722535fa2f": {
          "model_module": "@jupyter-widgets/controls",
          "model_module_version": "1.5.0",
          "model_name": "DescriptionStyleModel",
          "state": {
            "_model_module": "@jupyter-widgets/controls",
            "_model_module_version": "1.5.0",
            "_model_name": "DescriptionStyleModel",
            "_view_count": null,
            "_view_module": "@jupyter-widgets/base",
            "_view_module_version": "1.2.0",
            "_view_name": "StyleView",
            "description_width": ""
          }
        },
        "c835c239973e437c91a304420fc9f186": {
          "model_module": "@jupyter-widgets/controls",
          "model_module_version": "1.5.0",
          "model_name": "HBoxModel",
          "state": {
            "_dom_classes": [],
            "_model_module": "@jupyter-widgets/controls",
            "_model_module_version": "1.5.0",
            "_model_name": "HBoxModel",
            "_view_count": null,
            "_view_module": "@jupyter-widgets/controls",
            "_view_module_version": "1.5.0",
            "_view_name": "HBoxView",
            "box_style": "",
            "children": [
              "IPY_MODEL_9d3d3bb1eb3743cf8f9bb53dd680657f",
              "IPY_MODEL_47102d4f7c894c2ea1e167449a1d702a",
              "IPY_MODEL_a4ec4702be574891b7d1aac30af60f2b"
            ],
            "layout": "IPY_MODEL_0f57ea32e2f243ef80daaf2fb7e360d8"
          }
        },
        "c9fbbc38facc4debb61759a42eb2ff8b": {
          "model_module": "@jupyter-widgets/controls",
          "model_module_version": "1.5.0",
          "model_name": "HTMLModel",
          "state": {
            "_dom_classes": [],
            "_model_module": "@jupyter-widgets/controls",
            "_model_module_version": "1.5.0",
            "_model_name": "HTMLModel",
            "_view_count": null,
            "_view_module": "@jupyter-widgets/controls",
            "_view_module_version": "1.5.0",
            "_view_name": "HTMLView",
            "description": "",
            "description_tooltip": null,
            "layout": "IPY_MODEL_97c0aa533c614b5b8c4cc7b800fcfb23",
            "placeholder": "​",
            "style": "IPY_MODEL_e84d5dc0215443149fd2d818fe50b822",
            "value": "Downloading: "
          }
        },
        "ca4371b89ea848afa9803a8ed8a2923f": {
          "model_module": "@jupyter-widgets/controls",
          "model_module_version": "1.5.0",
          "model_name": "ProgressStyleModel",
          "state": {
            "_model_module": "@jupyter-widgets/controls",
            "_model_module_version": "1.5.0",
            "_model_name": "ProgressStyleModel",
            "_view_count": null,
            "_view_module": "@jupyter-widgets/base",
            "_view_module_version": "1.2.0",
            "_view_name": "StyleView",
            "bar_color": null,
            "description_width": ""
          }
        },
        "cd0cc19b98bf4eeeb079d2673f4456a7": {
          "model_module": "@jupyter-widgets/controls",
          "model_module_version": "1.5.0",
          "model_name": "FloatProgressModel",
          "state": {
            "_dom_classes": [],
            "_model_module": "@jupyter-widgets/controls",
            "_model_module_version": "1.5.0",
            "_model_name": "FloatProgressModel",
            "_view_count": null,
            "_view_module": "@jupyter-widgets/controls",
            "_view_module_version": "1.5.0",
            "_view_name": "ProgressView",
            "bar_style": "success",
            "description": "",
            "description_tooltip": null,
            "layout": "IPY_MODEL_7bb8fd0ab9914b0d8c10b8013e4e8bf3",
            "max": 1,
            "min": 0,
            "orientation": "horizontal",
            "style": "IPY_MODEL_65c3767f147a4f0189d8268d7b4acb0a",
            "value": 1
          }
        },
        "cd3109243d564bf58ccd64a77aa992d8": {
          "model_module": "@jupyter-widgets/controls",
          "model_module_version": "1.5.0",
          "model_name": "DescriptionStyleModel",
          "state": {
            "_model_module": "@jupyter-widgets/controls",
            "_model_module_version": "1.5.0",
            "_model_name": "DescriptionStyleModel",
            "_view_count": null,
            "_view_module": "@jupyter-widgets/base",
            "_view_module_version": "1.2.0",
            "_view_name": "StyleView",
            "description_width": ""
          }
        },
        "cdda5930ad0640959cec41141fff27c1": {
          "model_module": "@jupyter-widgets/base",
          "model_module_version": "1.2.0",
          "model_name": "LayoutModel",
          "state": {
            "_model_module": "@jupyter-widgets/base",
            "_model_module_version": "1.2.0",
            "_model_name": "LayoutModel",
            "_view_count": null,
            "_view_module": "@jupyter-widgets/base",
            "_view_module_version": "1.2.0",
            "_view_name": "LayoutView",
            "align_content": null,
            "align_items": null,
            "align_self": null,
            "border": null,
            "bottom": null,
            "display": null,
            "flex": null,
            "flex_flow": null,
            "grid_area": null,
            "grid_auto_columns": null,
            "grid_auto_flow": null,
            "grid_auto_rows": null,
            "grid_column": null,
            "grid_gap": null,
            "grid_row": null,
            "grid_template_areas": null,
            "grid_template_columns": null,
            "grid_template_rows": null,
            "height": null,
            "justify_content": null,
            "justify_items": null,
            "left": null,
            "margin": null,
            "max_height": null,
            "max_width": null,
            "min_height": null,
            "min_width": null,
            "object_fit": null,
            "object_position": null,
            "order": null,
            "overflow": null,
            "overflow_x": null,
            "overflow_y": null,
            "padding": null,
            "right": null,
            "top": null,
            "visibility": null,
            "width": null
          }
        },
        "cf3e16f83b6841e3834f1713bc69313e": {
          "model_module": "@jupyter-widgets/base",
          "model_module_version": "1.2.0",
          "model_name": "LayoutModel",
          "state": {
            "_model_module": "@jupyter-widgets/base",
            "_model_module_version": "1.2.0",
            "_model_name": "LayoutModel",
            "_view_count": null,
            "_view_module": "@jupyter-widgets/base",
            "_view_module_version": "1.2.0",
            "_view_name": "LayoutView",
            "align_content": null,
            "align_items": null,
            "align_self": null,
            "border": null,
            "bottom": null,
            "display": null,
            "flex": null,
            "flex_flow": null,
            "grid_area": null,
            "grid_auto_columns": null,
            "grid_auto_flow": null,
            "grid_auto_rows": null,
            "grid_column": null,
            "grid_gap": null,
            "grid_row": null,
            "grid_template_areas": null,
            "grid_template_columns": null,
            "grid_template_rows": null,
            "height": null,
            "justify_content": null,
            "justify_items": null,
            "left": null,
            "margin": null,
            "max_height": null,
            "max_width": null,
            "min_height": null,
            "min_width": null,
            "object_fit": null,
            "object_position": null,
            "order": null,
            "overflow": null,
            "overflow_x": null,
            "overflow_y": null,
            "padding": null,
            "right": null,
            "top": null,
            "visibility": null,
            "width": null
          }
        },
        "d005a9303184495795df11fade62a79b": {
          "model_module": "@jupyter-widgets/base",
          "model_module_version": "1.2.0",
          "model_name": "LayoutModel",
          "state": {
            "_model_module": "@jupyter-widgets/base",
            "_model_module_version": "1.2.0",
            "_model_name": "LayoutModel",
            "_view_count": null,
            "_view_module": "@jupyter-widgets/base",
            "_view_module_version": "1.2.0",
            "_view_name": "LayoutView",
            "align_content": null,
            "align_items": null,
            "align_self": null,
            "border": null,
            "bottom": null,
            "display": null,
            "flex": null,
            "flex_flow": null,
            "grid_area": null,
            "grid_auto_columns": null,
            "grid_auto_flow": null,
            "grid_auto_rows": null,
            "grid_column": null,
            "grid_gap": null,
            "grid_row": null,
            "grid_template_areas": null,
            "grid_template_columns": null,
            "grid_template_rows": null,
            "height": null,
            "justify_content": null,
            "justify_items": null,
            "left": null,
            "margin": null,
            "max_height": null,
            "max_width": null,
            "min_height": null,
            "min_width": null,
            "object_fit": null,
            "object_position": null,
            "order": null,
            "overflow": null,
            "overflow_x": null,
            "overflow_y": null,
            "padding": null,
            "right": null,
            "top": null,
            "visibility": null,
            "width": null
          }
        },
        "d23866864d8f4d3398d0a157a864ea27": {
          "model_module": "@jupyter-widgets/controls",
          "model_module_version": "1.5.0",
          "model_name": "DescriptionStyleModel",
          "state": {
            "_model_module": "@jupyter-widgets/controls",
            "_model_module_version": "1.5.0",
            "_model_name": "DescriptionStyleModel",
            "_view_count": null,
            "_view_module": "@jupyter-widgets/base",
            "_view_module_version": "1.2.0",
            "_view_name": "StyleView",
            "description_width": ""
          }
        },
        "d4db2218d8ed4ea1b6de4a4ee3bf7397": {
          "model_module": "@jupyter-widgets/base",
          "model_module_version": "1.2.0",
          "model_name": "LayoutModel",
          "state": {
            "_model_module": "@jupyter-widgets/base",
            "_model_module_version": "1.2.0",
            "_model_name": "LayoutModel",
            "_view_count": null,
            "_view_module": "@jupyter-widgets/base",
            "_view_module_version": "1.2.0",
            "_view_name": "LayoutView",
            "align_content": null,
            "align_items": null,
            "align_self": null,
            "border": null,
            "bottom": null,
            "display": null,
            "flex": null,
            "flex_flow": null,
            "grid_area": null,
            "grid_auto_columns": null,
            "grid_auto_flow": null,
            "grid_auto_rows": null,
            "grid_column": null,
            "grid_gap": null,
            "grid_row": null,
            "grid_template_areas": null,
            "grid_template_columns": null,
            "grid_template_rows": null,
            "height": null,
            "justify_content": null,
            "justify_items": null,
            "left": null,
            "margin": null,
            "max_height": null,
            "max_width": null,
            "min_height": null,
            "min_width": null,
            "object_fit": null,
            "object_position": null,
            "order": null,
            "overflow": null,
            "overflow_x": null,
            "overflow_y": null,
            "padding": null,
            "right": null,
            "top": null,
            "visibility": null,
            "width": null
          }
        },
        "d5dbf9e46de04880bb803d8194ec4008": {
          "model_module": "@jupyter-widgets/controls",
          "model_module_version": "1.5.0",
          "model_name": "DescriptionStyleModel",
          "state": {
            "_model_module": "@jupyter-widgets/controls",
            "_model_module_version": "1.5.0",
            "_model_name": "DescriptionStyleModel",
            "_view_count": null,
            "_view_module": "@jupyter-widgets/base",
            "_view_module_version": "1.2.0",
            "_view_name": "StyleView",
            "description_width": ""
          }
        },
        "d97e0d687ed94aafa7846a6b5f355072": {
          "model_module": "@jupyter-widgets/controls",
          "model_module_version": "1.5.0",
          "model_name": "HTMLModel",
          "state": {
            "_dom_classes": [],
            "_model_module": "@jupyter-widgets/controls",
            "_model_module_version": "1.5.0",
            "_model_name": "HTMLModel",
            "_view_count": null,
            "_view_module": "@jupyter-widgets/controls",
            "_view_module_version": "1.5.0",
            "_view_name": "HTMLView",
            "description": "",
            "description_tooltip": null,
            "layout": "IPY_MODEL_15cb36a1e4b04c68b4a669133b075428",
            "placeholder": "​",
            "style": "IPY_MODEL_b0d0ceec2814409c80839181dca59a4c",
            "value": " 2/2 [00:00&lt;00:00, 69.42it/s]"
          }
        },
        "dc0f4c3ed51d44c891439ceb48f0c98a": {
          "model_module": "@jupyter-widgets/base",
          "model_module_version": "1.2.0",
          "model_name": "LayoutModel",
          "state": {
            "_model_module": "@jupyter-widgets/base",
            "_model_module_version": "1.2.0",
            "_model_name": "LayoutModel",
            "_view_count": null,
            "_view_module": "@jupyter-widgets/base",
            "_view_module_version": "1.2.0",
            "_view_name": "LayoutView",
            "align_content": null,
            "align_items": null,
            "align_self": null,
            "border": null,
            "bottom": null,
            "display": null,
            "flex": null,
            "flex_flow": null,
            "grid_area": null,
            "grid_auto_columns": null,
            "grid_auto_flow": null,
            "grid_auto_rows": null,
            "grid_column": null,
            "grid_gap": null,
            "grid_row": null,
            "grid_template_areas": null,
            "grid_template_columns": null,
            "grid_template_rows": null,
            "height": null,
            "justify_content": null,
            "justify_items": null,
            "left": null,
            "margin": null,
            "max_height": null,
            "max_width": null,
            "min_height": null,
            "min_width": null,
            "object_fit": null,
            "object_position": null,
            "order": null,
            "overflow": null,
            "overflow_x": null,
            "overflow_y": null,
            "padding": null,
            "right": null,
            "top": null,
            "visibility": null,
            "width": null
          }
        },
        "dd240f8b59994a659abaab6ba84cc864": {
          "model_module": "@jupyter-widgets/controls",
          "model_module_version": "1.5.0",
          "model_name": "FloatProgressModel",
          "state": {
            "_dom_classes": [],
            "_model_module": "@jupyter-widgets/controls",
            "_model_module_version": "1.5.0",
            "_model_name": "FloatProgressModel",
            "_view_count": null,
            "_view_module": "@jupyter-widgets/controls",
            "_view_module_version": "1.5.0",
            "_view_name": "ProgressView",
            "bar_style": "success",
            "description": "",
            "description_tooltip": null,
            "layout": "IPY_MODEL_6c9bb5a52d794f74a8310e269dfc4221",
            "max": 1060,
            "min": 0,
            "orientation": "horizontal",
            "style": "IPY_MODEL_5bfbc70ce26b4fe381457eea072c9109",
            "value": 1060
          }
        },
        "e18dc9d631ab4d3fa9d6e0764ae21d9d": {
          "model_module": "@jupyter-widgets/controls",
          "model_module_version": "1.5.0",
          "model_name": "FloatProgressModel",
          "state": {
            "_dom_classes": [],
            "_model_module": "@jupyter-widgets/controls",
            "_model_module_version": "1.5.0",
            "_model_name": "FloatProgressModel",
            "_view_count": null,
            "_view_module": "@jupyter-widgets/controls",
            "_view_module_version": "1.5.0",
            "_view_name": "ProgressView",
            "bar_style": "success",
            "description": "",
            "description_tooltip": null,
            "layout": "IPY_MODEL_428ee5487c404de08a710ade9f3a3f22",
            "max": 377667514,
            "min": 0,
            "orientation": "horizontal",
            "style": "IPY_MODEL_ac611db9476d44d6af77d676dc6dde2f",
            "value": 377667514
          }
        },
        "e1b0b67a9aa64a7487599d07d4335d51": {
          "model_module": "@jupyter-widgets/controls",
          "model_module_version": "1.5.0",
          "model_name": "ProgressStyleModel",
          "state": {
            "_model_module": "@jupyter-widgets/controls",
            "_model_module_version": "1.5.0",
            "_model_name": "ProgressStyleModel",
            "_view_count": null,
            "_view_module": "@jupyter-widgets/base",
            "_view_module_version": "1.2.0",
            "_view_name": "StyleView",
            "bar_color": null,
            "description_width": ""
          }
        },
        "e47e43f3da3445c680289fd9949de9ec": {
          "model_module": "@jupyter-widgets/controls",
          "model_module_version": "1.5.0",
          "model_name": "ProgressStyleModel",
          "state": {
            "_model_module": "@jupyter-widgets/controls",
            "_model_module_version": "1.5.0",
            "_model_name": "ProgressStyleModel",
            "_view_count": null,
            "_view_module": "@jupyter-widgets/base",
            "_view_module_version": "1.2.0",
            "_view_name": "StyleView",
            "bar_color": null,
            "description_width": ""
          }
        },
        "e4c1934f7dff426bbd81afcb27882d66": {
          "model_module": "@jupyter-widgets/controls",
          "model_module_version": "1.5.0",
          "model_name": "HTMLModel",
          "state": {
            "_dom_classes": [],
            "_model_module": "@jupyter-widgets/controls",
            "_model_module_version": "1.5.0",
            "_model_name": "HTMLModel",
            "_view_count": null,
            "_view_module": "@jupyter-widgets/controls",
            "_view_module_version": "1.5.0",
            "_view_name": "HTMLView",
            "description": "",
            "description_tooltip": null,
            "layout": "IPY_MODEL_ec429d69aa0d4251b381c1e03f574900",
            "placeholder": "​",
            "style": "IPY_MODEL_f9a36ecb7131471c962eca0ede0bad58",
            "value": "100%"
          }
        },
        "e4f70dfb2e6347c1bb9fc44caa9a67fb": {
          "model_module": "@jupyter-widgets/base",
          "model_module_version": "1.2.0",
          "model_name": "LayoutModel",
          "state": {
            "_model_module": "@jupyter-widgets/base",
            "_model_module_version": "1.2.0",
            "_model_name": "LayoutModel",
            "_view_count": null,
            "_view_module": "@jupyter-widgets/base",
            "_view_module_version": "1.2.0",
            "_view_name": "LayoutView",
            "align_content": null,
            "align_items": null,
            "align_self": null,
            "border": null,
            "bottom": null,
            "display": null,
            "flex": null,
            "flex_flow": null,
            "grid_area": null,
            "grid_auto_columns": null,
            "grid_auto_flow": null,
            "grid_auto_rows": null,
            "grid_column": null,
            "grid_gap": null,
            "grid_row": null,
            "grid_template_areas": null,
            "grid_template_columns": null,
            "grid_template_rows": null,
            "height": null,
            "justify_content": null,
            "justify_items": null,
            "left": null,
            "margin": null,
            "max_height": null,
            "max_width": null,
            "min_height": null,
            "min_width": null,
            "object_fit": null,
            "object_position": null,
            "order": null,
            "overflow": null,
            "overflow_x": null,
            "overflow_y": null,
            "padding": null,
            "right": null,
            "top": null,
            "visibility": null,
            "width": null
          }
        },
        "e51873a525fa4b96a594c7700ec95009": {
          "model_module": "@jupyter-widgets/controls",
          "model_module_version": "1.5.0",
          "model_name": "HTMLModel",
          "state": {
            "_dom_classes": [],
            "_model_module": "@jupyter-widgets/controls",
            "_model_module_version": "1.5.0",
            "_model_name": "HTMLModel",
            "_view_count": null,
            "_view_module": "@jupyter-widgets/controls",
            "_view_module_version": "1.5.0",
            "_view_name": "HTMLView",
            "description": "",
            "description_tooltip": null,
            "layout": "IPY_MODEL_1bbf0962c1424e2cb1c89034a96a21c0",
            "placeholder": "​",
            "style": "IPY_MODEL_5793abfacd2345288d4800baa708e960",
            "value": "100%"
          }
        },
        "e5b8e13bcf7d40e0ad3c4187de8b198e": {
          "model_module": "@jupyter-widgets/controls",
          "model_module_version": "1.5.0",
          "model_name": "ProgressStyleModel",
          "state": {
            "_model_module": "@jupyter-widgets/controls",
            "_model_module_version": "1.5.0",
            "_model_name": "ProgressStyleModel",
            "_view_count": null,
            "_view_module": "@jupyter-widgets/base",
            "_view_module_version": "1.2.0",
            "_view_name": "StyleView",
            "bar_color": null,
            "description_width": ""
          }
        },
        "e5d93441c3d1443d87121424efe13220": {
          "model_module": "@jupyter-widgets/base",
          "model_module_version": "1.2.0",
          "model_name": "LayoutModel",
          "state": {
            "_model_module": "@jupyter-widgets/base",
            "_model_module_version": "1.2.0",
            "_model_name": "LayoutModel",
            "_view_count": null,
            "_view_module": "@jupyter-widgets/base",
            "_view_module_version": "1.2.0",
            "_view_name": "LayoutView",
            "align_content": null,
            "align_items": null,
            "align_self": null,
            "border": null,
            "bottom": null,
            "display": null,
            "flex": null,
            "flex_flow": null,
            "grid_area": null,
            "grid_auto_columns": null,
            "grid_auto_flow": null,
            "grid_auto_rows": null,
            "grid_column": null,
            "grid_gap": null,
            "grid_row": null,
            "grid_template_areas": null,
            "grid_template_columns": null,
            "grid_template_rows": null,
            "height": null,
            "justify_content": null,
            "justify_items": null,
            "left": null,
            "margin": null,
            "max_height": null,
            "max_width": null,
            "min_height": null,
            "min_width": null,
            "object_fit": null,
            "object_position": null,
            "order": null,
            "overflow": null,
            "overflow_x": null,
            "overflow_y": null,
            "padding": null,
            "right": null,
            "top": null,
            "visibility": null,
            "width": null
          }
        },
        "e750abf0833a4e8d936538821a23ebc9": {
          "model_module": "@jupyter-widgets/controls",
          "model_module_version": "1.5.0",
          "model_name": "HTMLModel",
          "state": {
            "_dom_classes": [],
            "_model_module": "@jupyter-widgets/controls",
            "_model_module_version": "1.5.0",
            "_model_name": "HTMLModel",
            "_view_count": null,
            "_view_module": "@jupyter-widgets/controls",
            "_view_module_version": "1.5.0",
            "_view_name": "HTMLView",
            "description": "",
            "description_tooltip": null,
            "layout": "IPY_MODEL_cdda5930ad0640959cec41141fff27c1",
            "placeholder": "​",
            "style": "IPY_MODEL_d23866864d8f4d3398d0a157a864ea27",
            "value": "Downloading: 100%"
          }
        },
        "e7c3d9147cc14d27a97426812eaa750e": {
          "model_module": "@jupyter-widgets/controls",
          "model_module_version": "1.5.0",
          "model_name": "HTMLModel",
          "state": {
            "_dom_classes": [],
            "_model_module": "@jupyter-widgets/controls",
            "_model_module_version": "1.5.0",
            "_model_name": "HTMLModel",
            "_view_count": null,
            "_view_module": "@jupyter-widgets/controls",
            "_view_module_version": "1.5.0",
            "_view_name": "HTMLView",
            "description": "",
            "description_tooltip": null,
            "layout": "IPY_MODEL_3cdabb7eba01438db62c217731cc1e47",
            "placeholder": "​",
            "style": "IPY_MODEL_968b1921ae2a42bc826c709d737bdefb",
            "value": " 4620/? [00:00&lt;00:00, 12077.24ex/s]"
          }
        },
        "e84d5dc0215443149fd2d818fe50b822": {
          "model_module": "@jupyter-widgets/controls",
          "model_module_version": "1.5.0",
          "model_name": "DescriptionStyleModel",
          "state": {
            "_model_module": "@jupyter-widgets/controls",
            "_model_module_version": "1.5.0",
            "_model_name": "DescriptionStyleModel",
            "_view_count": null,
            "_view_module": "@jupyter-widgets/base",
            "_view_module_version": "1.2.0",
            "_view_name": "StyleView",
            "description_width": ""
          }
        },
        "e86b64f6ce93448c84fb7adf1bad781f": {
          "model_module": "@jupyter-widgets/controls",
          "model_module_version": "1.5.0",
          "model_name": "DescriptionStyleModel",
          "state": {
            "_model_module": "@jupyter-widgets/controls",
            "_model_module_version": "1.5.0",
            "_model_name": "DescriptionStyleModel",
            "_view_count": null,
            "_view_module": "@jupyter-widgets/base",
            "_view_module_version": "1.2.0",
            "_view_name": "StyleView",
            "description_width": ""
          }
        },
        "ea1c356a2eca4c2cba7ce08be7eb8c40": {
          "model_module": "@jupyter-widgets/controls",
          "model_module_version": "1.5.0",
          "model_name": "FloatProgressModel",
          "state": {
            "_dom_classes": [],
            "_model_module": "@jupyter-widgets/controls",
            "_model_module_version": "1.5.0",
            "_model_name": "FloatProgressModel",
            "_view_count": null,
            "_view_module": "@jupyter-widgets/controls",
            "_view_module_version": "1.5.0",
            "_view_name": "ProgressView",
            "bar_style": "success",
            "description": "",
            "description_tooltip": null,
            "layout": "IPY_MODEL_e5d93441c3d1443d87121424efe13220",
            "max": 1901,
            "min": 0,
            "orientation": "horizontal",
            "style": "IPY_MODEL_0c205b2015a04b1baebb0b507c28c1cf",
            "value": 1901
          }
        },
        "ec429d69aa0d4251b381c1e03f574900": {
          "model_module": "@jupyter-widgets/base",
          "model_module_version": "1.2.0",
          "model_name": "LayoutModel",
          "state": {
            "_model_module": "@jupyter-widgets/base",
            "_model_module_version": "1.2.0",
            "_model_name": "LayoutModel",
            "_view_count": null,
            "_view_module": "@jupyter-widgets/base",
            "_view_module_version": "1.2.0",
            "_view_name": "LayoutView",
            "align_content": null,
            "align_items": null,
            "align_self": null,
            "border": null,
            "bottom": null,
            "display": null,
            "flex": null,
            "flex_flow": null,
            "grid_area": null,
            "grid_auto_columns": null,
            "grid_auto_flow": null,
            "grid_auto_rows": null,
            "grid_column": null,
            "grid_gap": null,
            "grid_row": null,
            "grid_template_areas": null,
            "grid_template_columns": null,
            "grid_template_rows": null,
            "height": null,
            "justify_content": null,
            "justify_items": null,
            "left": null,
            "margin": null,
            "max_height": null,
            "max_width": null,
            "min_height": null,
            "min_width": null,
            "object_fit": null,
            "object_position": null,
            "order": null,
            "overflow": null,
            "overflow_x": null,
            "overflow_y": null,
            "padding": null,
            "right": null,
            "top": null,
            "visibility": null,
            "width": null
          }
        },
        "ec6f504186ea46ba84fc9582a70e6fd1": {
          "model_module": "@jupyter-widgets/base",
          "model_module_version": "1.2.0",
          "model_name": "LayoutModel",
          "state": {
            "_model_module": "@jupyter-widgets/base",
            "_model_module_version": "1.2.0",
            "_model_name": "LayoutModel",
            "_view_count": null,
            "_view_module": "@jupyter-widgets/base",
            "_view_module_version": "1.2.0",
            "_view_name": "LayoutView",
            "align_content": null,
            "align_items": null,
            "align_self": null,
            "border": null,
            "bottom": null,
            "display": null,
            "flex": null,
            "flex_flow": null,
            "grid_area": null,
            "grid_auto_columns": null,
            "grid_auto_flow": null,
            "grid_auto_rows": null,
            "grid_column": null,
            "grid_gap": null,
            "grid_row": null,
            "grid_template_areas": null,
            "grid_template_columns": null,
            "grid_template_rows": null,
            "height": null,
            "justify_content": null,
            "justify_items": null,
            "left": null,
            "margin": null,
            "max_height": null,
            "max_width": null,
            "min_height": null,
            "min_width": null,
            "object_fit": null,
            "object_position": null,
            "order": null,
            "overflow": null,
            "overflow_x": null,
            "overflow_y": null,
            "padding": null,
            "right": null,
            "top": null,
            "visibility": null,
            "width": null
          }
        },
        "ed0bcf9e79024d7081c9791355ff02a9": {
          "model_module": "@jupyter-widgets/controls",
          "model_module_version": "1.5.0",
          "model_name": "HBoxModel",
          "state": {
            "_dom_classes": [],
            "_model_module": "@jupyter-widgets/controls",
            "_model_module_version": "1.5.0",
            "_model_name": "HBoxModel",
            "_view_count": null,
            "_view_module": "@jupyter-widgets/controls",
            "_view_module_version": "1.5.0",
            "_view_name": "HBoxView",
            "box_style": "",
            "children": [
              "IPY_MODEL_e750abf0833a4e8d936538821a23ebc9",
              "IPY_MODEL_657ada001c3a424090e52adf71f76407",
              "IPY_MODEL_06c04fab14ad49ab8aec5849100658cc"
            ],
            "layout": "IPY_MODEL_455235e864834a1da39e397af45a6789"
          }
        },
        "eeb7defcf34e4c4cab6e864c92b153f4": {
          "model_module": "@jupyter-widgets/controls",
          "model_module_version": "1.5.0",
          "model_name": "ProgressStyleModel",
          "state": {
            "_model_module": "@jupyter-widgets/controls",
            "_model_module_version": "1.5.0",
            "_model_name": "ProgressStyleModel",
            "_view_count": null,
            "_view_module": "@jupyter-widgets/base",
            "_view_module_version": "1.2.0",
            "_view_name": "StyleView",
            "bar_color": null,
            "description_width": ""
          }
        },
        "eed024cb548b492896b2229371300de5": {
          "model_module": "@jupyter-widgets/base",
          "model_module_version": "1.2.0",
          "model_name": "LayoutModel",
          "state": {
            "_model_module": "@jupyter-widgets/base",
            "_model_module_version": "1.2.0",
            "_model_name": "LayoutModel",
            "_view_count": null,
            "_view_module": "@jupyter-widgets/base",
            "_view_module_version": "1.2.0",
            "_view_name": "LayoutView",
            "align_content": null,
            "align_items": null,
            "align_self": null,
            "border": null,
            "bottom": null,
            "display": null,
            "flex": null,
            "flex_flow": null,
            "grid_area": null,
            "grid_auto_columns": null,
            "grid_auto_flow": null,
            "grid_auto_rows": null,
            "grid_column": null,
            "grid_gap": null,
            "grid_row": null,
            "grid_template_areas": null,
            "grid_template_columns": null,
            "grid_template_rows": null,
            "height": null,
            "justify_content": null,
            "justify_items": null,
            "left": null,
            "margin": null,
            "max_height": null,
            "max_width": null,
            "min_height": null,
            "min_width": null,
            "object_fit": null,
            "object_position": null,
            "order": null,
            "overflow": null,
            "overflow_x": null,
            "overflow_y": null,
            "padding": null,
            "right": null,
            "top": null,
            "visibility": null,
            "width": null
          }
        },
        "f01282c4cc5b459e925bd7d64e36e4d4": {
          "model_module": "@jupyter-widgets/controls",
          "model_module_version": "1.5.0",
          "model_name": "HTMLModel",
          "state": {
            "_dom_classes": [],
            "_model_module": "@jupyter-widgets/controls",
            "_model_module_version": "1.5.0",
            "_model_name": "HTMLModel",
            "_view_count": null,
            "_view_module": "@jupyter-widgets/controls",
            "_view_module_version": "1.5.0",
            "_view_name": "HTMLView",
            "description": "",
            "description_tooltip": null,
            "layout": "IPY_MODEL_b1f8282f2561442fa51938ca1151b847",
            "placeholder": "​",
            "style": "IPY_MODEL_1db5bb4f3ebb4e66b4598e770c62d4fc",
            "value": "Downloading: "
          }
        },
        "f0c29c8412f340b3ba1ca5f6d1b0d74a": {
          "model_module": "@jupyter-widgets/controls",
          "model_module_version": "1.5.0",
          "model_name": "ProgressStyleModel",
          "state": {
            "_model_module": "@jupyter-widgets/controls",
            "_model_module_version": "1.5.0",
            "_model_name": "ProgressStyleModel",
            "_view_count": null,
            "_view_module": "@jupyter-widgets/base",
            "_view_module_version": "1.2.0",
            "_view_name": "StyleView",
            "bar_color": null,
            "description_width": ""
          }
        },
        "f3173b5418e540509fb7874f32b34339": {
          "model_module": "@jupyter-widgets/controls",
          "model_module_version": "1.5.0",
          "model_name": "HTMLModel",
          "state": {
            "_dom_classes": [],
            "_model_module": "@jupyter-widgets/controls",
            "_model_module_version": "1.5.0",
            "_model_name": "HTMLModel",
            "_view_count": null,
            "_view_module": "@jupyter-widgets/controls",
            "_view_module_version": "1.5.0",
            "_view_name": "HTMLView",
            "description": "",
            "description_tooltip": null,
            "layout": "IPY_MODEL_b99c8030459444339250ea183c6abff2",
            "placeholder": "​",
            "style": "IPY_MODEL_d5dbf9e46de04880bb803d8194ec4008",
            "value": " 2.64k/? [00:00&lt;00:00, 113kB/s]"
          }
        },
        "f44d6bfb7a1845a4a2baff0751e47aed": {
          "model_module": "@jupyter-widgets/controls",
          "model_module_version": "1.5.0",
          "model_name": "FloatProgressModel",
          "state": {
            "_dom_classes": [],
            "_model_module": "@jupyter-widgets/controls",
            "_model_module_version": "1.5.0",
            "_model_name": "FloatProgressModel",
            "_view_count": null,
            "_view_module": "@jupyter-widgets/controls",
            "_view_module_version": "1.5.0",
            "_view_name": "ProgressView",
            "bar_style": "success",
            "description": "",
            "description_tooltip": null,
            "layout": "IPY_MODEL_e4f70dfb2e6347c1bb9fc44caa9a67fb",
            "max": 2403,
            "min": 0,
            "orientation": "horizontal",
            "style": "IPY_MODEL_a044c1a46fc04657a8737a330eca034c",
            "value": 2403
          }
        },
        "f8d7b55784e34142bb842d3b1de8b0bd": {
          "model_module": "@jupyter-widgets/controls",
          "model_module_version": "1.5.0",
          "model_name": "HTMLModel",
          "state": {
            "_dom_classes": [],
            "_model_module": "@jupyter-widgets/controls",
            "_model_module_version": "1.5.0",
            "_model_name": "HTMLModel",
            "_view_count": null,
            "_view_module": "@jupyter-widgets/controls",
            "_view_module_version": "1.5.0",
            "_view_name": "HTMLView",
            "description": "",
            "description_tooltip": null,
            "layout": "IPY_MODEL_4afe8632fc544090a2954e782e3b5949",
            "placeholder": "​",
            "style": "IPY_MODEL_9134cf6b3c214dbbba4ad0ece0d425e2",
            "value": "100%"
          }
        },
        "f9a36ecb7131471c962eca0ede0bad58": {
          "model_module": "@jupyter-widgets/controls",
          "model_module_version": "1.5.0",
          "model_name": "DescriptionStyleModel",
          "state": {
            "_model_module": "@jupyter-widgets/controls",
            "_model_module_version": "1.5.0",
            "_model_name": "DescriptionStyleModel",
            "_view_count": null,
            "_view_module": "@jupyter-widgets/base",
            "_view_module_version": "1.2.0",
            "_view_name": "StyleView",
            "description_width": ""
          }
        },
        "fcd3db1683414efd9fec86d3b65c0606": {
          "model_module": "@jupyter-widgets/controls",
          "model_module_version": "1.5.0",
          "model_name": "HBoxModel",
          "state": {
            "_dom_classes": [],
            "_model_module": "@jupyter-widgets/controls",
            "_model_module_version": "1.5.0",
            "_model_name": "HBoxModel",
            "_view_count": null,
            "_view_module": "@jupyter-widgets/controls",
            "_view_module_version": "1.5.0",
            "_view_name": "HBoxView",
            "box_style": "",
            "children": [
              "IPY_MODEL_93392ee5467a43ff937dc34785528472",
              "IPY_MODEL_cd0cc19b98bf4eeeb079d2673f4456a7",
              "IPY_MODEL_aa359bce9c75442e978b7f70605d2338"
            ],
            "layout": "IPY_MODEL_49214d801dc944ed919027ef68f2c617"
          }
        },
        "fe676765ed434b52ac2e9bf75993c9bf": {
          "model_module": "@jupyter-widgets/base",
          "model_module_version": "1.2.0",
          "model_name": "LayoutModel",
          "state": {
            "_model_module": "@jupyter-widgets/base",
            "_model_module_version": "1.2.0",
            "_model_name": "LayoutModel",
            "_view_count": null,
            "_view_module": "@jupyter-widgets/base",
            "_view_module_version": "1.2.0",
            "_view_name": "LayoutView",
            "align_content": null,
            "align_items": null,
            "align_self": null,
            "border": null,
            "bottom": null,
            "display": null,
            "flex": null,
            "flex_flow": null,
            "grid_area": null,
            "grid_auto_columns": null,
            "grid_auto_flow": null,
            "grid_auto_rows": null,
            "grid_column": null,
            "grid_gap": null,
            "grid_row": null,
            "grid_template_areas": null,
            "grid_template_columns": null,
            "grid_template_rows": null,
            "height": null,
            "justify_content": null,
            "justify_items": null,
            "left": null,
            "margin": null,
            "max_height": null,
            "max_width": null,
            "min_height": null,
            "min_width": null,
            "object_fit": null,
            "object_position": null,
            "order": null,
            "overflow": null,
            "overflow_x": null,
            "overflow_y": null,
            "padding": null,
            "right": null,
            "top": null,
            "visibility": null,
            "width": null
          }
        }
      }
    }
  },
  "nbformat": 4,
  "nbformat_minor": 0
}