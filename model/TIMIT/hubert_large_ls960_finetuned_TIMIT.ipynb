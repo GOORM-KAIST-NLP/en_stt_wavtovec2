{
  "nbformat": 4,
  "nbformat_minor": 0,
  "metadata": {
    "colab": {
      "name": "hubert-large-ls960-finetuned-TIMIT",
      "provenance": [],
      "collapsed_sections": [],
      "machine_shape": "hm"
    },
    "kernelspec": {
      "name": "python3",
      "display_name": "Python 3"
    },
    "accelerator": "GPU",
    "widgets": {
      "application/vnd.jupyter.widget-state+json": {
        "407e73df9bb44129a92373486b8411bb": {
          "model_module": "@jupyter-widgets/controls",
          "model_name": "VBoxModel",
          "model_module_version": "1.5.0",
          "state": {
            "_dom_classes": [],
            "_model_module": "@jupyter-widgets/controls",
            "_model_module_version": "1.5.0",
            "_model_name": "VBoxModel",
            "_view_count": null,
            "_view_module": "@jupyter-widgets/controls",
            "_view_module_version": "1.5.0",
            "_view_name": "VBoxView",
            "box_style": "",
            "children": [
              "IPY_MODEL_97501ef17ff6405d8d9d38528b8d6277",
              "IPY_MODEL_b53045d60d8e4f30bf17fc39db8fd9b2",
              "IPY_MODEL_9600a59d6ce048b5b157b89e394e72f4",
              "IPY_MODEL_581d7d37da4a480bbe368c477eeb8e1f",
              "IPY_MODEL_8adb2ccf0982452ea99fd94fe1ab23a0"
            ],
            "layout": "IPY_MODEL_859338a2690d4f88bb2303c9b170b4d8"
          }
        },
        "97501ef17ff6405d8d9d38528b8d6277": {
          "model_module": "@jupyter-widgets/controls",
          "model_name": "HTMLModel",
          "model_module_version": "1.5.0",
          "state": {
            "_dom_classes": [],
            "_model_module": "@jupyter-widgets/controls",
            "_model_module_version": "1.5.0",
            "_model_name": "HTMLModel",
            "_view_count": null,
            "_view_module": "@jupyter-widgets/controls",
            "_view_module_version": "1.5.0",
            "_view_name": "HTMLView",
            "description": "",
            "description_tooltip": null,
            "layout": "IPY_MODEL_e8d307ca0c0d4499b408d7a199b76565",
            "placeholder": "​",
            "style": "IPY_MODEL_92683e40ee4840ef88679f784a99dab9",
            "value": "<center> <img\nsrc=https://huggingface.co/front/assets/huggingface_logo-noborder.svg\nalt='Hugging Face'> <br> Copy a token from <a\nhref=\"https://huggingface.co/settings/tokens\" target=\"_blank\">your Hugging Face\ntokens page</a> and paste it below. <br> Immediately click login after copying\nyour token or it might be stored in plain text in this notebook file. </center>"
          }
        },
        "b53045d60d8e4f30bf17fc39db8fd9b2": {
          "model_module": "@jupyter-widgets/controls",
          "model_name": "PasswordModel",
          "model_module_version": "1.5.0",
          "state": {
            "_dom_classes": [],
            "_model_module": "@jupyter-widgets/controls",
            "_model_module_version": "1.5.0",
            "_model_name": "PasswordModel",
            "_view_count": null,
            "_view_module": "@jupyter-widgets/controls",
            "_view_module_version": "1.5.0",
            "_view_name": "PasswordView",
            "continuous_update": true,
            "description": "Token:",
            "description_tooltip": null,
            "disabled": false,
            "layout": "IPY_MODEL_5949a670d7c44bce862438cfe04530e9",
            "placeholder": "​",
            "style": "IPY_MODEL_27f1b95f8caf42c7bf4fa08d8e090d35",
            "value": ""
          }
        },
        "9600a59d6ce048b5b157b89e394e72f4": {
          "model_module": "@jupyter-widgets/controls",
          "model_name": "ButtonModel",
          "model_module_version": "1.5.0",
          "state": {
            "_dom_classes": [],
            "_model_module": "@jupyter-widgets/controls",
            "_model_module_version": "1.5.0",
            "_model_name": "ButtonModel",
            "_view_count": null,
            "_view_module": "@jupyter-widgets/controls",
            "_view_module_version": "1.5.0",
            "_view_name": "ButtonView",
            "button_style": "",
            "description": "Login",
            "disabled": false,
            "icon": "",
            "layout": "IPY_MODEL_a3682d738b1848599b02df1f9f233d83",
            "style": "IPY_MODEL_81b1622e253649509507173ade6c3f42",
            "tooltip": ""
          }
        },
        "581d7d37da4a480bbe368c477eeb8e1f": {
          "model_module": "@jupyter-widgets/controls",
          "model_name": "HTMLModel",
          "model_module_version": "1.5.0",
          "state": {
            "_dom_classes": [],
            "_model_module": "@jupyter-widgets/controls",
            "_model_module_version": "1.5.0",
            "_model_name": "HTMLModel",
            "_view_count": null,
            "_view_module": "@jupyter-widgets/controls",
            "_view_module_version": "1.5.0",
            "_view_name": "HTMLView",
            "description": "",
            "description_tooltip": null,
            "layout": "IPY_MODEL_eb607ea090b24465bcb4af8d62043587",
            "placeholder": "​",
            "style": "IPY_MODEL_1cd3a31921f044deaddc5f948ac69be8",
            "value": "\n<b>Pro Tip:</b> If you don't already have one, you can create a dedicated\n'notebooks' token with 'write' access, that you can then easily reuse for all\nnotebooks. <br> <i>Logging in with your username and password is deprecated and\nwon't be possible anymore in the near future. You can still use them for now by\nclicking below.</i> </center>"
          }
        },
        "8adb2ccf0982452ea99fd94fe1ab23a0": {
          "model_module": "@jupyter-widgets/controls",
          "model_name": "ButtonModel",
          "model_module_version": "1.5.0",
          "state": {
            "_dom_classes": [],
            "_model_module": "@jupyter-widgets/controls",
            "_model_module_version": "1.5.0",
            "_model_name": "ButtonModel",
            "_view_count": null,
            "_view_module": "@jupyter-widgets/controls",
            "_view_module_version": "1.5.0",
            "_view_name": "ButtonView",
            "button_style": "",
            "description": "Use password",
            "disabled": false,
            "icon": "",
            "layout": "IPY_MODEL_60ada0efc621404eaec58dd5acf4126d",
            "style": "IPY_MODEL_e3c936d2c9c642a58b74fc9ce5195a09",
            "tooltip": ""
          }
        },
        "859338a2690d4f88bb2303c9b170b4d8": {
          "model_module": "@jupyter-widgets/base",
          "model_name": "LayoutModel",
          "model_module_version": "1.2.0",
          "state": {
            "_model_module": "@jupyter-widgets/base",
            "_model_module_version": "1.2.0",
            "_model_name": "LayoutModel",
            "_view_count": null,
            "_view_module": "@jupyter-widgets/base",
            "_view_module_version": "1.2.0",
            "_view_name": "LayoutView",
            "align_content": null,
            "align_items": "center",
            "align_self": null,
            "border": null,
            "bottom": null,
            "display": "flex",
            "flex": null,
            "flex_flow": "column",
            "grid_area": null,
            "grid_auto_columns": null,
            "grid_auto_flow": null,
            "grid_auto_rows": null,
            "grid_column": null,
            "grid_gap": null,
            "grid_row": null,
            "grid_template_areas": null,
            "grid_template_columns": null,
            "grid_template_rows": null,
            "height": null,
            "justify_content": null,
            "justify_items": null,
            "left": null,
            "margin": null,
            "max_height": null,
            "max_width": null,
            "min_height": null,
            "min_width": null,
            "object_fit": null,
            "object_position": null,
            "order": null,
            "overflow": null,
            "overflow_x": null,
            "overflow_y": null,
            "padding": null,
            "right": null,
            "top": null,
            "visibility": null,
            "width": "50%"
          }
        },
        "e8d307ca0c0d4499b408d7a199b76565": {
          "model_module": "@jupyter-widgets/base",
          "model_name": "LayoutModel",
          "model_module_version": "1.2.0",
          "state": {
            "_model_module": "@jupyter-widgets/base",
            "_model_module_version": "1.2.0",
            "_model_name": "LayoutModel",
            "_view_count": null,
            "_view_module": "@jupyter-widgets/base",
            "_view_module_version": "1.2.0",
            "_view_name": "LayoutView",
            "align_content": null,
            "align_items": null,
            "align_self": null,
            "border": null,
            "bottom": null,
            "display": null,
            "flex": null,
            "flex_flow": null,
            "grid_area": null,
            "grid_auto_columns": null,
            "grid_auto_flow": null,
            "grid_auto_rows": null,
            "grid_column": null,
            "grid_gap": null,
            "grid_row": null,
            "grid_template_areas": null,
            "grid_template_columns": null,
            "grid_template_rows": null,
            "height": null,
            "justify_content": null,
            "justify_items": null,
            "left": null,
            "margin": null,
            "max_height": null,
            "max_width": null,
            "min_height": null,
            "min_width": null,
            "object_fit": null,
            "object_position": null,
            "order": null,
            "overflow": null,
            "overflow_x": null,
            "overflow_y": null,
            "padding": null,
            "right": null,
            "top": null,
            "visibility": null,
            "width": null
          }
        },
        "92683e40ee4840ef88679f784a99dab9": {
          "model_module": "@jupyter-widgets/controls",
          "model_name": "DescriptionStyleModel",
          "model_module_version": "1.5.0",
          "state": {
            "_model_module": "@jupyter-widgets/controls",
            "_model_module_version": "1.5.0",
            "_model_name": "DescriptionStyleModel",
            "_view_count": null,
            "_view_module": "@jupyter-widgets/base",
            "_view_module_version": "1.2.0",
            "_view_name": "StyleView",
            "description_width": ""
          }
        },
        "5949a670d7c44bce862438cfe04530e9": {
          "model_module": "@jupyter-widgets/base",
          "model_name": "LayoutModel",
          "model_module_version": "1.2.0",
          "state": {
            "_model_module": "@jupyter-widgets/base",
            "_model_module_version": "1.2.0",
            "_model_name": "LayoutModel",
            "_view_count": null,
            "_view_module": "@jupyter-widgets/base",
            "_view_module_version": "1.2.0",
            "_view_name": "LayoutView",
            "align_content": null,
            "align_items": null,
            "align_self": null,
            "border": null,
            "bottom": null,
            "display": null,
            "flex": null,
            "flex_flow": null,
            "grid_area": null,
            "grid_auto_columns": null,
            "grid_auto_flow": null,
            "grid_auto_rows": null,
            "grid_column": null,
            "grid_gap": null,
            "grid_row": null,
            "grid_template_areas": null,
            "grid_template_columns": null,
            "grid_template_rows": null,
            "height": null,
            "justify_content": null,
            "justify_items": null,
            "left": null,
            "margin": null,
            "max_height": null,
            "max_width": null,
            "min_height": null,
            "min_width": null,
            "object_fit": null,
            "object_position": null,
            "order": null,
            "overflow": null,
            "overflow_x": null,
            "overflow_y": null,
            "padding": null,
            "right": null,
            "top": null,
            "visibility": null,
            "width": null
          }
        },
        "27f1b95f8caf42c7bf4fa08d8e090d35": {
          "model_module": "@jupyter-widgets/controls",
          "model_name": "DescriptionStyleModel",
          "model_module_version": "1.5.0",
          "state": {
            "_model_module": "@jupyter-widgets/controls",
            "_model_module_version": "1.5.0",
            "_model_name": "DescriptionStyleModel",
            "_view_count": null,
            "_view_module": "@jupyter-widgets/base",
            "_view_module_version": "1.2.0",
            "_view_name": "StyleView",
            "description_width": ""
          }
        },
        "a3682d738b1848599b02df1f9f233d83": {
          "model_module": "@jupyter-widgets/base",
          "model_name": "LayoutModel",
          "model_module_version": "1.2.0",
          "state": {
            "_model_module": "@jupyter-widgets/base",
            "_model_module_version": "1.2.0",
            "_model_name": "LayoutModel",
            "_view_count": null,
            "_view_module": "@jupyter-widgets/base",
            "_view_module_version": "1.2.0",
            "_view_name": "LayoutView",
            "align_content": null,
            "align_items": null,
            "align_self": null,
            "border": null,
            "bottom": null,
            "display": null,
            "flex": null,
            "flex_flow": null,
            "grid_area": null,
            "grid_auto_columns": null,
            "grid_auto_flow": null,
            "grid_auto_rows": null,
            "grid_column": null,
            "grid_gap": null,
            "grid_row": null,
            "grid_template_areas": null,
            "grid_template_columns": null,
            "grid_template_rows": null,
            "height": null,
            "justify_content": null,
            "justify_items": null,
            "left": null,
            "margin": null,
            "max_height": null,
            "max_width": null,
            "min_height": null,
            "min_width": null,
            "object_fit": null,
            "object_position": null,
            "order": null,
            "overflow": null,
            "overflow_x": null,
            "overflow_y": null,
            "padding": null,
            "right": null,
            "top": null,
            "visibility": null,
            "width": null
          }
        },
        "81b1622e253649509507173ade6c3f42": {
          "model_module": "@jupyter-widgets/controls",
          "model_name": "ButtonStyleModel",
          "model_module_version": "1.5.0",
          "state": {
            "_model_module": "@jupyter-widgets/controls",
            "_model_module_version": "1.5.0",
            "_model_name": "ButtonStyleModel",
            "_view_count": null,
            "_view_module": "@jupyter-widgets/base",
            "_view_module_version": "1.2.0",
            "_view_name": "StyleView",
            "button_color": null,
            "font_weight": ""
          }
        },
        "eb607ea090b24465bcb4af8d62043587": {
          "model_module": "@jupyter-widgets/base",
          "model_name": "LayoutModel",
          "model_module_version": "1.2.0",
          "state": {
            "_model_module": "@jupyter-widgets/base",
            "_model_module_version": "1.2.0",
            "_model_name": "LayoutModel",
            "_view_count": null,
            "_view_module": "@jupyter-widgets/base",
            "_view_module_version": "1.2.0",
            "_view_name": "LayoutView",
            "align_content": null,
            "align_items": null,
            "align_self": null,
            "border": null,
            "bottom": null,
            "display": null,
            "flex": null,
            "flex_flow": null,
            "grid_area": null,
            "grid_auto_columns": null,
            "grid_auto_flow": null,
            "grid_auto_rows": null,
            "grid_column": null,
            "grid_gap": null,
            "grid_row": null,
            "grid_template_areas": null,
            "grid_template_columns": null,
            "grid_template_rows": null,
            "height": null,
            "justify_content": null,
            "justify_items": null,
            "left": null,
            "margin": null,
            "max_height": null,
            "max_width": null,
            "min_height": null,
            "min_width": null,
            "object_fit": null,
            "object_position": null,
            "order": null,
            "overflow": null,
            "overflow_x": null,
            "overflow_y": null,
            "padding": null,
            "right": null,
            "top": null,
            "visibility": null,
            "width": null
          }
        },
        "1cd3a31921f044deaddc5f948ac69be8": {
          "model_module": "@jupyter-widgets/controls",
          "model_name": "DescriptionStyleModel",
          "model_module_version": "1.5.0",
          "state": {
            "_model_module": "@jupyter-widgets/controls",
            "_model_module_version": "1.5.0",
            "_model_name": "DescriptionStyleModel",
            "_view_count": null,
            "_view_module": "@jupyter-widgets/base",
            "_view_module_version": "1.2.0",
            "_view_name": "StyleView",
            "description_width": ""
          }
        },
        "60ada0efc621404eaec58dd5acf4126d": {
          "model_module": "@jupyter-widgets/base",
          "model_name": "LayoutModel",
          "model_module_version": "1.2.0",
          "state": {
            "_model_module": "@jupyter-widgets/base",
            "_model_module_version": "1.2.0",
            "_model_name": "LayoutModel",
            "_view_count": null,
            "_view_module": "@jupyter-widgets/base",
            "_view_module_version": "1.2.0",
            "_view_name": "LayoutView",
            "align_content": null,
            "align_items": null,
            "align_self": null,
            "border": null,
            "bottom": null,
            "display": null,
            "flex": null,
            "flex_flow": null,
            "grid_area": null,
            "grid_auto_columns": null,
            "grid_auto_flow": null,
            "grid_auto_rows": null,
            "grid_column": null,
            "grid_gap": null,
            "grid_row": null,
            "grid_template_areas": null,
            "grid_template_columns": null,
            "grid_template_rows": null,
            "height": null,
            "justify_content": null,
            "justify_items": null,
            "left": null,
            "margin": null,
            "max_height": null,
            "max_width": null,
            "min_height": null,
            "min_width": null,
            "object_fit": null,
            "object_position": null,
            "order": null,
            "overflow": null,
            "overflow_x": null,
            "overflow_y": null,
            "padding": null,
            "right": null,
            "top": null,
            "visibility": null,
            "width": null
          }
        },
        "e3c936d2c9c642a58b74fc9ce5195a09": {
          "model_module": "@jupyter-widgets/controls",
          "model_name": "ButtonStyleModel",
          "model_module_version": "1.5.0",
          "state": {
            "_model_module": "@jupyter-widgets/controls",
            "_model_module_version": "1.5.0",
            "_model_name": "ButtonStyleModel",
            "_view_count": null,
            "_view_module": "@jupyter-widgets/base",
            "_view_module_version": "1.2.0",
            "_view_name": "StyleView",
            "button_color": null,
            "font_weight": ""
          }
        },
        "a799dadfa9c14cfead97cbdbb7bc4772": {
          "model_module": "@jupyter-widgets/controls",
          "model_name": "HBoxModel",
          "model_module_version": "1.5.0",
          "state": {
            "_dom_classes": [],
            "_model_module": "@jupyter-widgets/controls",
            "_model_module_version": "1.5.0",
            "_model_name": "HBoxModel",
            "_view_count": null,
            "_view_module": "@jupyter-widgets/controls",
            "_view_module_version": "1.5.0",
            "_view_name": "HBoxView",
            "box_style": "",
            "children": [
              "IPY_MODEL_88474c9917444a51b74f6dd7cee5e1ca",
              "IPY_MODEL_7c9d194c8f454ce9af2195b49e2d0e55",
              "IPY_MODEL_f270956907364de08c47a974d3237406"
            ],
            "layout": "IPY_MODEL_843d5781809349abba176e04dbd1d51b"
          }
        },
        "88474c9917444a51b74f6dd7cee5e1ca": {
          "model_module": "@jupyter-widgets/controls",
          "model_name": "HTMLModel",
          "model_module_version": "1.5.0",
          "state": {
            "_dom_classes": [],
            "_model_module": "@jupyter-widgets/controls",
            "_model_module_version": "1.5.0",
            "_model_name": "HTMLModel",
            "_view_count": null,
            "_view_module": "@jupyter-widgets/controls",
            "_view_module_version": "1.5.0",
            "_view_name": "HTMLView",
            "description": "",
            "description_tooltip": null,
            "layout": "IPY_MODEL_83d9be1d1e77441c8dbcf938f2d342b2",
            "placeholder": "​",
            "style": "IPY_MODEL_478afbe07bb54ad785fa8691d904e63c",
            "value": "Downloading: "
          }
        },
        "7c9d194c8f454ce9af2195b49e2d0e55": {
          "model_module": "@jupyter-widgets/controls",
          "model_name": "FloatProgressModel",
          "model_module_version": "1.5.0",
          "state": {
            "_dom_classes": [],
            "_model_module": "@jupyter-widgets/controls",
            "_model_module_version": "1.5.0",
            "_model_name": "FloatProgressModel",
            "_view_count": null,
            "_view_module": "@jupyter-widgets/controls",
            "_view_module_version": "1.5.0",
            "_view_name": "ProgressView",
            "bar_style": "success",
            "description": "",
            "description_tooltip": null,
            "layout": "IPY_MODEL_522c6acf1b674c27808f43b3e7278e87",
            "max": 2403,
            "min": 0,
            "orientation": "horizontal",
            "style": "IPY_MODEL_e43a2db9a33d4149a6331bf41ceba932",
            "value": 2403
          }
        },
        "f270956907364de08c47a974d3237406": {
          "model_module": "@jupyter-widgets/controls",
          "model_name": "HTMLModel",
          "model_module_version": "1.5.0",
          "state": {
            "_dom_classes": [],
            "_model_module": "@jupyter-widgets/controls",
            "_model_module_version": "1.5.0",
            "_model_name": "HTMLModel",
            "_view_count": null,
            "_view_module": "@jupyter-widgets/controls",
            "_view_module_version": "1.5.0",
            "_view_name": "HTMLView",
            "description": "",
            "description_tooltip": null,
            "layout": "IPY_MODEL_d1d1e39e43fe4827ba7eeeb9da31a4d8",
            "placeholder": "​",
            "style": "IPY_MODEL_4deb6fd1504245e980297b98be562e24",
            "value": " 7.06k/? [00:00&lt;00:00, 222kB/s]"
          }
        },
        "843d5781809349abba176e04dbd1d51b": {
          "model_module": "@jupyter-widgets/base",
          "model_name": "LayoutModel",
          "model_module_version": "1.2.0",
          "state": {
            "_model_module": "@jupyter-widgets/base",
            "_model_module_version": "1.2.0",
            "_model_name": "LayoutModel",
            "_view_count": null,
            "_view_module": "@jupyter-widgets/base",
            "_view_module_version": "1.2.0",
            "_view_name": "LayoutView",
            "align_content": null,
            "align_items": null,
            "align_self": null,
            "border": null,
            "bottom": null,
            "display": null,
            "flex": null,
            "flex_flow": null,
            "grid_area": null,
            "grid_auto_columns": null,
            "grid_auto_flow": null,
            "grid_auto_rows": null,
            "grid_column": null,
            "grid_gap": null,
            "grid_row": null,
            "grid_template_areas": null,
            "grid_template_columns": null,
            "grid_template_rows": null,
            "height": null,
            "justify_content": null,
            "justify_items": null,
            "left": null,
            "margin": null,
            "max_height": null,
            "max_width": null,
            "min_height": null,
            "min_width": null,
            "object_fit": null,
            "object_position": null,
            "order": null,
            "overflow": null,
            "overflow_x": null,
            "overflow_y": null,
            "padding": null,
            "right": null,
            "top": null,
            "visibility": null,
            "width": null
          }
        },
        "83d9be1d1e77441c8dbcf938f2d342b2": {
          "model_module": "@jupyter-widgets/base",
          "model_name": "LayoutModel",
          "model_module_version": "1.2.0",
          "state": {
            "_model_module": "@jupyter-widgets/base",
            "_model_module_version": "1.2.0",
            "_model_name": "LayoutModel",
            "_view_count": null,
            "_view_module": "@jupyter-widgets/base",
            "_view_module_version": "1.2.0",
            "_view_name": "LayoutView",
            "align_content": null,
            "align_items": null,
            "align_self": null,
            "border": null,
            "bottom": null,
            "display": null,
            "flex": null,
            "flex_flow": null,
            "grid_area": null,
            "grid_auto_columns": null,
            "grid_auto_flow": null,
            "grid_auto_rows": null,
            "grid_column": null,
            "grid_gap": null,
            "grid_row": null,
            "grid_template_areas": null,
            "grid_template_columns": null,
            "grid_template_rows": null,
            "height": null,
            "justify_content": null,
            "justify_items": null,
            "left": null,
            "margin": null,
            "max_height": null,
            "max_width": null,
            "min_height": null,
            "min_width": null,
            "object_fit": null,
            "object_position": null,
            "order": null,
            "overflow": null,
            "overflow_x": null,
            "overflow_y": null,
            "padding": null,
            "right": null,
            "top": null,
            "visibility": null,
            "width": null
          }
        },
        "478afbe07bb54ad785fa8691d904e63c": {
          "model_module": "@jupyter-widgets/controls",
          "model_name": "DescriptionStyleModel",
          "model_module_version": "1.5.0",
          "state": {
            "_model_module": "@jupyter-widgets/controls",
            "_model_module_version": "1.5.0",
            "_model_name": "DescriptionStyleModel",
            "_view_count": null,
            "_view_module": "@jupyter-widgets/base",
            "_view_module_version": "1.2.0",
            "_view_name": "StyleView",
            "description_width": ""
          }
        },
        "522c6acf1b674c27808f43b3e7278e87": {
          "model_module": "@jupyter-widgets/base",
          "model_name": "LayoutModel",
          "model_module_version": "1.2.0",
          "state": {
            "_model_module": "@jupyter-widgets/base",
            "_model_module_version": "1.2.0",
            "_model_name": "LayoutModel",
            "_view_count": null,
            "_view_module": "@jupyter-widgets/base",
            "_view_module_version": "1.2.0",
            "_view_name": "LayoutView",
            "align_content": null,
            "align_items": null,
            "align_self": null,
            "border": null,
            "bottom": null,
            "display": null,
            "flex": null,
            "flex_flow": null,
            "grid_area": null,
            "grid_auto_columns": null,
            "grid_auto_flow": null,
            "grid_auto_rows": null,
            "grid_column": null,
            "grid_gap": null,
            "grid_row": null,
            "grid_template_areas": null,
            "grid_template_columns": null,
            "grid_template_rows": null,
            "height": null,
            "justify_content": null,
            "justify_items": null,
            "left": null,
            "margin": null,
            "max_height": null,
            "max_width": null,
            "min_height": null,
            "min_width": null,
            "object_fit": null,
            "object_position": null,
            "order": null,
            "overflow": null,
            "overflow_x": null,
            "overflow_y": null,
            "padding": null,
            "right": null,
            "top": null,
            "visibility": null,
            "width": null
          }
        },
        "e43a2db9a33d4149a6331bf41ceba932": {
          "model_module": "@jupyter-widgets/controls",
          "model_name": "ProgressStyleModel",
          "model_module_version": "1.5.0",
          "state": {
            "_model_module": "@jupyter-widgets/controls",
            "_model_module_version": "1.5.0",
            "_model_name": "ProgressStyleModel",
            "_view_count": null,
            "_view_module": "@jupyter-widgets/base",
            "_view_module_version": "1.2.0",
            "_view_name": "StyleView",
            "bar_color": null,
            "description_width": ""
          }
        },
        "d1d1e39e43fe4827ba7eeeb9da31a4d8": {
          "model_module": "@jupyter-widgets/base",
          "model_name": "LayoutModel",
          "model_module_version": "1.2.0",
          "state": {
            "_model_module": "@jupyter-widgets/base",
            "_model_module_version": "1.2.0",
            "_model_name": "LayoutModel",
            "_view_count": null,
            "_view_module": "@jupyter-widgets/base",
            "_view_module_version": "1.2.0",
            "_view_name": "LayoutView",
            "align_content": null,
            "align_items": null,
            "align_self": null,
            "border": null,
            "bottom": null,
            "display": null,
            "flex": null,
            "flex_flow": null,
            "grid_area": null,
            "grid_auto_columns": null,
            "grid_auto_flow": null,
            "grid_auto_rows": null,
            "grid_column": null,
            "grid_gap": null,
            "grid_row": null,
            "grid_template_areas": null,
            "grid_template_columns": null,
            "grid_template_rows": null,
            "height": null,
            "justify_content": null,
            "justify_items": null,
            "left": null,
            "margin": null,
            "max_height": null,
            "max_width": null,
            "min_height": null,
            "min_width": null,
            "object_fit": null,
            "object_position": null,
            "order": null,
            "overflow": null,
            "overflow_x": null,
            "overflow_y": null,
            "padding": null,
            "right": null,
            "top": null,
            "visibility": null,
            "width": null
          }
        },
        "4deb6fd1504245e980297b98be562e24": {
          "model_module": "@jupyter-widgets/controls",
          "model_name": "DescriptionStyleModel",
          "model_module_version": "1.5.0",
          "state": {
            "_model_module": "@jupyter-widgets/controls",
            "_model_module_version": "1.5.0",
            "_model_name": "DescriptionStyleModel",
            "_view_count": null,
            "_view_module": "@jupyter-widgets/base",
            "_view_module_version": "1.2.0",
            "_view_name": "StyleView",
            "description_width": ""
          }
        },
        "58891fb9494b4fa3a11330e663f4ac51": {
          "model_module": "@jupyter-widgets/controls",
          "model_name": "HBoxModel",
          "model_module_version": "1.5.0",
          "state": {
            "_dom_classes": [],
            "_model_module": "@jupyter-widgets/controls",
            "_model_module_version": "1.5.0",
            "_model_name": "HBoxModel",
            "_view_count": null,
            "_view_module": "@jupyter-widgets/controls",
            "_view_module_version": "1.5.0",
            "_view_name": "HBoxView",
            "box_style": "",
            "children": [
              "IPY_MODEL_ae734c118a6c4d1381048e9d420e24af",
              "IPY_MODEL_54e2ac67a8c7494bb356df425a663e06",
              "IPY_MODEL_8fc8f2f53b5d44f397d6c1f08480baf5"
            ],
            "layout": "IPY_MODEL_428b919a63a54a13bf975f73f2edc570"
          }
        },
        "ae734c118a6c4d1381048e9d420e24af": {
          "model_module": "@jupyter-widgets/controls",
          "model_name": "HTMLModel",
          "model_module_version": "1.5.0",
          "state": {
            "_dom_classes": [],
            "_model_module": "@jupyter-widgets/controls",
            "_model_module_version": "1.5.0",
            "_model_name": "HTMLModel",
            "_view_count": null,
            "_view_module": "@jupyter-widgets/controls",
            "_view_module_version": "1.5.0",
            "_view_name": "HTMLView",
            "description": "",
            "description_tooltip": null,
            "layout": "IPY_MODEL_88f591650f75472290f072552cc677b0",
            "placeholder": "​",
            "style": "IPY_MODEL_e14e42ac85c947958d5f9d1821202520",
            "value": "Downloading: "
          }
        },
        "54e2ac67a8c7494bb356df425a663e06": {
          "model_module": "@jupyter-widgets/controls",
          "model_name": "FloatProgressModel",
          "model_module_version": "1.5.0",
          "state": {
            "_dom_classes": [],
            "_model_module": "@jupyter-widgets/controls",
            "_model_module_version": "1.5.0",
            "_model_name": "FloatProgressModel",
            "_view_count": null,
            "_view_module": "@jupyter-widgets/controls",
            "_view_module_version": "1.5.0",
            "_view_name": "ProgressView",
            "bar_style": "success",
            "description": "",
            "description_tooltip": null,
            "layout": "IPY_MODEL_ebc0bace41cd4a65acca35b4848a94d0",
            "max": 1060,
            "min": 0,
            "orientation": "horizontal",
            "style": "IPY_MODEL_d7028f6cbc604335bfb39ef8d66aa392",
            "value": 1060
          }
        },
        "8fc8f2f53b5d44f397d6c1f08480baf5": {
          "model_module": "@jupyter-widgets/controls",
          "model_name": "HTMLModel",
          "model_module_version": "1.5.0",
          "state": {
            "_dom_classes": [],
            "_model_module": "@jupyter-widgets/controls",
            "_model_module_version": "1.5.0",
            "_model_name": "HTMLModel",
            "_view_count": null,
            "_view_module": "@jupyter-widgets/controls",
            "_view_module_version": "1.5.0",
            "_view_name": "HTMLView",
            "description": "",
            "description_tooltip": null,
            "layout": "IPY_MODEL_955c7b66a2434a6789f87fbb4365761f",
            "placeholder": "​",
            "style": "IPY_MODEL_5c96bcbaeb8845c8aa2569b9ae52e89b",
            "value": " 2.64k/? [00:00&lt;00:00, 87.8kB/s]"
          }
        },
        "428b919a63a54a13bf975f73f2edc570": {
          "model_module": "@jupyter-widgets/base",
          "model_name": "LayoutModel",
          "model_module_version": "1.2.0",
          "state": {
            "_model_module": "@jupyter-widgets/base",
            "_model_module_version": "1.2.0",
            "_model_name": "LayoutModel",
            "_view_count": null,
            "_view_module": "@jupyter-widgets/base",
            "_view_module_version": "1.2.0",
            "_view_name": "LayoutView",
            "align_content": null,
            "align_items": null,
            "align_self": null,
            "border": null,
            "bottom": null,
            "display": null,
            "flex": null,
            "flex_flow": null,
            "grid_area": null,
            "grid_auto_columns": null,
            "grid_auto_flow": null,
            "grid_auto_rows": null,
            "grid_column": null,
            "grid_gap": null,
            "grid_row": null,
            "grid_template_areas": null,
            "grid_template_columns": null,
            "grid_template_rows": null,
            "height": null,
            "justify_content": null,
            "justify_items": null,
            "left": null,
            "margin": null,
            "max_height": null,
            "max_width": null,
            "min_height": null,
            "min_width": null,
            "object_fit": null,
            "object_position": null,
            "order": null,
            "overflow": null,
            "overflow_x": null,
            "overflow_y": null,
            "padding": null,
            "right": null,
            "top": null,
            "visibility": null,
            "width": null
          }
        },
        "88f591650f75472290f072552cc677b0": {
          "model_module": "@jupyter-widgets/base",
          "model_name": "LayoutModel",
          "model_module_version": "1.2.0",
          "state": {
            "_model_module": "@jupyter-widgets/base",
            "_model_module_version": "1.2.0",
            "_model_name": "LayoutModel",
            "_view_count": null,
            "_view_module": "@jupyter-widgets/base",
            "_view_module_version": "1.2.0",
            "_view_name": "LayoutView",
            "align_content": null,
            "align_items": null,
            "align_self": null,
            "border": null,
            "bottom": null,
            "display": null,
            "flex": null,
            "flex_flow": null,
            "grid_area": null,
            "grid_auto_columns": null,
            "grid_auto_flow": null,
            "grid_auto_rows": null,
            "grid_column": null,
            "grid_gap": null,
            "grid_row": null,
            "grid_template_areas": null,
            "grid_template_columns": null,
            "grid_template_rows": null,
            "height": null,
            "justify_content": null,
            "justify_items": null,
            "left": null,
            "margin": null,
            "max_height": null,
            "max_width": null,
            "min_height": null,
            "min_width": null,
            "object_fit": null,
            "object_position": null,
            "order": null,
            "overflow": null,
            "overflow_x": null,
            "overflow_y": null,
            "padding": null,
            "right": null,
            "top": null,
            "visibility": null,
            "width": null
          }
        },
        "e14e42ac85c947958d5f9d1821202520": {
          "model_module": "@jupyter-widgets/controls",
          "model_name": "DescriptionStyleModel",
          "model_module_version": "1.5.0",
          "state": {
            "_model_module": "@jupyter-widgets/controls",
            "_model_module_version": "1.5.0",
            "_model_name": "DescriptionStyleModel",
            "_view_count": null,
            "_view_module": "@jupyter-widgets/base",
            "_view_module_version": "1.2.0",
            "_view_name": "StyleView",
            "description_width": ""
          }
        },
        "ebc0bace41cd4a65acca35b4848a94d0": {
          "model_module": "@jupyter-widgets/base",
          "model_name": "LayoutModel",
          "model_module_version": "1.2.0",
          "state": {
            "_model_module": "@jupyter-widgets/base",
            "_model_module_version": "1.2.0",
            "_model_name": "LayoutModel",
            "_view_count": null,
            "_view_module": "@jupyter-widgets/base",
            "_view_module_version": "1.2.0",
            "_view_name": "LayoutView",
            "align_content": null,
            "align_items": null,
            "align_self": null,
            "border": null,
            "bottom": null,
            "display": null,
            "flex": null,
            "flex_flow": null,
            "grid_area": null,
            "grid_auto_columns": null,
            "grid_auto_flow": null,
            "grid_auto_rows": null,
            "grid_column": null,
            "grid_gap": null,
            "grid_row": null,
            "grid_template_areas": null,
            "grid_template_columns": null,
            "grid_template_rows": null,
            "height": null,
            "justify_content": null,
            "justify_items": null,
            "left": null,
            "margin": null,
            "max_height": null,
            "max_width": null,
            "min_height": null,
            "min_width": null,
            "object_fit": null,
            "object_position": null,
            "order": null,
            "overflow": null,
            "overflow_x": null,
            "overflow_y": null,
            "padding": null,
            "right": null,
            "top": null,
            "visibility": null,
            "width": null
          }
        },
        "d7028f6cbc604335bfb39ef8d66aa392": {
          "model_module": "@jupyter-widgets/controls",
          "model_name": "ProgressStyleModel",
          "model_module_version": "1.5.0",
          "state": {
            "_model_module": "@jupyter-widgets/controls",
            "_model_module_version": "1.5.0",
            "_model_name": "ProgressStyleModel",
            "_view_count": null,
            "_view_module": "@jupyter-widgets/base",
            "_view_module_version": "1.2.0",
            "_view_name": "StyleView",
            "bar_color": null,
            "description_width": ""
          }
        },
        "955c7b66a2434a6789f87fbb4365761f": {
          "model_module": "@jupyter-widgets/base",
          "model_name": "LayoutModel",
          "model_module_version": "1.2.0",
          "state": {
            "_model_module": "@jupyter-widgets/base",
            "_model_module_version": "1.2.0",
            "_model_name": "LayoutModel",
            "_view_count": null,
            "_view_module": "@jupyter-widgets/base",
            "_view_module_version": "1.2.0",
            "_view_name": "LayoutView",
            "align_content": null,
            "align_items": null,
            "align_self": null,
            "border": null,
            "bottom": null,
            "display": null,
            "flex": null,
            "flex_flow": null,
            "grid_area": null,
            "grid_auto_columns": null,
            "grid_auto_flow": null,
            "grid_auto_rows": null,
            "grid_column": null,
            "grid_gap": null,
            "grid_row": null,
            "grid_template_areas": null,
            "grid_template_columns": null,
            "grid_template_rows": null,
            "height": null,
            "justify_content": null,
            "justify_items": null,
            "left": null,
            "margin": null,
            "max_height": null,
            "max_width": null,
            "min_height": null,
            "min_width": null,
            "object_fit": null,
            "object_position": null,
            "order": null,
            "overflow": null,
            "overflow_x": null,
            "overflow_y": null,
            "padding": null,
            "right": null,
            "top": null,
            "visibility": null,
            "width": null
          }
        },
        "5c96bcbaeb8845c8aa2569b9ae52e89b": {
          "model_module": "@jupyter-widgets/controls",
          "model_name": "DescriptionStyleModel",
          "model_module_version": "1.5.0",
          "state": {
            "_model_module": "@jupyter-widgets/controls",
            "_model_module_version": "1.5.0",
            "_model_name": "DescriptionStyleModel",
            "_view_count": null,
            "_view_module": "@jupyter-widgets/base",
            "_view_module_version": "1.2.0",
            "_view_name": "StyleView",
            "description_width": ""
          }
        },
        "6a47f2981cef4f828b955792caf895d4": {
          "model_module": "@jupyter-widgets/controls",
          "model_name": "HBoxModel",
          "model_module_version": "1.5.0",
          "state": {
            "_dom_classes": [],
            "_model_module": "@jupyter-widgets/controls",
            "_model_module_version": "1.5.0",
            "_model_name": "HBoxModel",
            "_view_count": null,
            "_view_module": "@jupyter-widgets/controls",
            "_view_module_version": "1.5.0",
            "_view_name": "HBoxView",
            "box_style": "",
            "children": [
              "IPY_MODEL_6b893aef701440b58df3d83ac9fae7d5",
              "IPY_MODEL_8ebb200dd6134c6da8546a95aba6ec4a",
              "IPY_MODEL_912f05b0eb4440e5ba9ccd6d8a99da31"
            ],
            "layout": "IPY_MODEL_9cdfdd907c5745c1b13e2e49282d2426"
          }
        },
        "6b893aef701440b58df3d83ac9fae7d5": {
          "model_module": "@jupyter-widgets/controls",
          "model_name": "HTMLModel",
          "model_module_version": "1.5.0",
          "state": {
            "_dom_classes": [],
            "_model_module": "@jupyter-widgets/controls",
            "_model_module_version": "1.5.0",
            "_model_name": "HTMLModel",
            "_view_count": null,
            "_view_module": "@jupyter-widgets/controls",
            "_view_module_version": "1.5.0",
            "_view_name": "HTMLView",
            "description": "",
            "description_tooltip": null,
            "layout": "IPY_MODEL_64542b0df70f439a8b6c299f629c7ee1",
            "placeholder": "​",
            "style": "IPY_MODEL_8b1db673ade041e09f2f3765df7f7c91",
            "value": "Downloading: 100%"
          }
        },
        "8ebb200dd6134c6da8546a95aba6ec4a": {
          "model_module": "@jupyter-widgets/controls",
          "model_name": "FloatProgressModel",
          "model_module_version": "1.5.0",
          "state": {
            "_dom_classes": [],
            "_model_module": "@jupyter-widgets/controls",
            "_model_module_version": "1.5.0",
            "_model_name": "FloatProgressModel",
            "_view_count": null,
            "_view_module": "@jupyter-widgets/controls",
            "_view_module_version": "1.5.0",
            "_view_name": "ProgressView",
            "bar_style": "success",
            "description": "",
            "description_tooltip": null,
            "layout": "IPY_MODEL_f64501df7ba1457a8616954942189fa8",
            "max": 869007403,
            "min": 0,
            "orientation": "horizontal",
            "style": "IPY_MODEL_82257773366a4c009e36407aebd2b0cf",
            "value": 869007403
          }
        },
        "912f05b0eb4440e5ba9ccd6d8a99da31": {
          "model_module": "@jupyter-widgets/controls",
          "model_name": "HTMLModel",
          "model_module_version": "1.5.0",
          "state": {
            "_dom_classes": [],
            "_model_module": "@jupyter-widgets/controls",
            "_model_module_version": "1.5.0",
            "_model_name": "HTMLModel",
            "_view_count": null,
            "_view_module": "@jupyter-widgets/controls",
            "_view_module_version": "1.5.0",
            "_view_name": "HTMLView",
            "description": "",
            "description_tooltip": null,
            "layout": "IPY_MODEL_553ac05ffcad441190a879285840227d",
            "placeholder": "​",
            "style": "IPY_MODEL_eb1a177c9ad940baae2ae13983d39f36",
            "value": " 869M/869M [00:24&lt;00:00, 35.3MB/s]"
          }
        },
        "9cdfdd907c5745c1b13e2e49282d2426": {
          "model_module": "@jupyter-widgets/base",
          "model_name": "LayoutModel",
          "model_module_version": "1.2.0",
          "state": {
            "_model_module": "@jupyter-widgets/base",
            "_model_module_version": "1.2.0",
            "_model_name": "LayoutModel",
            "_view_count": null,
            "_view_module": "@jupyter-widgets/base",
            "_view_module_version": "1.2.0",
            "_view_name": "LayoutView",
            "align_content": null,
            "align_items": null,
            "align_self": null,
            "border": null,
            "bottom": null,
            "display": null,
            "flex": null,
            "flex_flow": null,
            "grid_area": null,
            "grid_auto_columns": null,
            "grid_auto_flow": null,
            "grid_auto_rows": null,
            "grid_column": null,
            "grid_gap": null,
            "grid_row": null,
            "grid_template_areas": null,
            "grid_template_columns": null,
            "grid_template_rows": null,
            "height": null,
            "justify_content": null,
            "justify_items": null,
            "left": null,
            "margin": null,
            "max_height": null,
            "max_width": null,
            "min_height": null,
            "min_width": null,
            "object_fit": null,
            "object_position": null,
            "order": null,
            "overflow": null,
            "overflow_x": null,
            "overflow_y": null,
            "padding": null,
            "right": null,
            "top": null,
            "visibility": null,
            "width": null
          }
        },
        "64542b0df70f439a8b6c299f629c7ee1": {
          "model_module": "@jupyter-widgets/base",
          "model_name": "LayoutModel",
          "model_module_version": "1.2.0",
          "state": {
            "_model_module": "@jupyter-widgets/base",
            "_model_module_version": "1.2.0",
            "_model_name": "LayoutModel",
            "_view_count": null,
            "_view_module": "@jupyter-widgets/base",
            "_view_module_version": "1.2.0",
            "_view_name": "LayoutView",
            "align_content": null,
            "align_items": null,
            "align_self": null,
            "border": null,
            "bottom": null,
            "display": null,
            "flex": null,
            "flex_flow": null,
            "grid_area": null,
            "grid_auto_columns": null,
            "grid_auto_flow": null,
            "grid_auto_rows": null,
            "grid_column": null,
            "grid_gap": null,
            "grid_row": null,
            "grid_template_areas": null,
            "grid_template_columns": null,
            "grid_template_rows": null,
            "height": null,
            "justify_content": null,
            "justify_items": null,
            "left": null,
            "margin": null,
            "max_height": null,
            "max_width": null,
            "min_height": null,
            "min_width": null,
            "object_fit": null,
            "object_position": null,
            "order": null,
            "overflow": null,
            "overflow_x": null,
            "overflow_y": null,
            "padding": null,
            "right": null,
            "top": null,
            "visibility": null,
            "width": null
          }
        },
        "8b1db673ade041e09f2f3765df7f7c91": {
          "model_module": "@jupyter-widgets/controls",
          "model_name": "DescriptionStyleModel",
          "model_module_version": "1.5.0",
          "state": {
            "_model_module": "@jupyter-widgets/controls",
            "_model_module_version": "1.5.0",
            "_model_name": "DescriptionStyleModel",
            "_view_count": null,
            "_view_module": "@jupyter-widgets/base",
            "_view_module_version": "1.2.0",
            "_view_name": "StyleView",
            "description_width": ""
          }
        },
        "f64501df7ba1457a8616954942189fa8": {
          "model_module": "@jupyter-widgets/base",
          "model_name": "LayoutModel",
          "model_module_version": "1.2.0",
          "state": {
            "_model_module": "@jupyter-widgets/base",
            "_model_module_version": "1.2.0",
            "_model_name": "LayoutModel",
            "_view_count": null,
            "_view_module": "@jupyter-widgets/base",
            "_view_module_version": "1.2.0",
            "_view_name": "LayoutView",
            "align_content": null,
            "align_items": null,
            "align_self": null,
            "border": null,
            "bottom": null,
            "display": null,
            "flex": null,
            "flex_flow": null,
            "grid_area": null,
            "grid_auto_columns": null,
            "grid_auto_flow": null,
            "grid_auto_rows": null,
            "grid_column": null,
            "grid_gap": null,
            "grid_row": null,
            "grid_template_areas": null,
            "grid_template_columns": null,
            "grid_template_rows": null,
            "height": null,
            "justify_content": null,
            "justify_items": null,
            "left": null,
            "margin": null,
            "max_height": null,
            "max_width": null,
            "min_height": null,
            "min_width": null,
            "object_fit": null,
            "object_position": null,
            "order": null,
            "overflow": null,
            "overflow_x": null,
            "overflow_y": null,
            "padding": null,
            "right": null,
            "top": null,
            "visibility": null,
            "width": null
          }
        },
        "82257773366a4c009e36407aebd2b0cf": {
          "model_module": "@jupyter-widgets/controls",
          "model_name": "ProgressStyleModel",
          "model_module_version": "1.5.0",
          "state": {
            "_model_module": "@jupyter-widgets/controls",
            "_model_module_version": "1.5.0",
            "_model_name": "ProgressStyleModel",
            "_view_count": null,
            "_view_module": "@jupyter-widgets/base",
            "_view_module_version": "1.2.0",
            "_view_name": "StyleView",
            "bar_color": null,
            "description_width": ""
          }
        },
        "553ac05ffcad441190a879285840227d": {
          "model_module": "@jupyter-widgets/base",
          "model_name": "LayoutModel",
          "model_module_version": "1.2.0",
          "state": {
            "_model_module": "@jupyter-widgets/base",
            "_model_module_version": "1.2.0",
            "_model_name": "LayoutModel",
            "_view_count": null,
            "_view_module": "@jupyter-widgets/base",
            "_view_module_version": "1.2.0",
            "_view_name": "LayoutView",
            "align_content": null,
            "align_items": null,
            "align_self": null,
            "border": null,
            "bottom": null,
            "display": null,
            "flex": null,
            "flex_flow": null,
            "grid_area": null,
            "grid_auto_columns": null,
            "grid_auto_flow": null,
            "grid_auto_rows": null,
            "grid_column": null,
            "grid_gap": null,
            "grid_row": null,
            "grid_template_areas": null,
            "grid_template_columns": null,
            "grid_template_rows": null,
            "height": null,
            "justify_content": null,
            "justify_items": null,
            "left": null,
            "margin": null,
            "max_height": null,
            "max_width": null,
            "min_height": null,
            "min_width": null,
            "object_fit": null,
            "object_position": null,
            "order": null,
            "overflow": null,
            "overflow_x": null,
            "overflow_y": null,
            "padding": null,
            "right": null,
            "top": null,
            "visibility": null,
            "width": null
          }
        },
        "eb1a177c9ad940baae2ae13983d39f36": {
          "model_module": "@jupyter-widgets/controls",
          "model_name": "DescriptionStyleModel",
          "model_module_version": "1.5.0",
          "state": {
            "_model_module": "@jupyter-widgets/controls",
            "_model_module_version": "1.5.0",
            "_model_name": "DescriptionStyleModel",
            "_view_count": null,
            "_view_module": "@jupyter-widgets/base",
            "_view_module_version": "1.2.0",
            "_view_name": "StyleView",
            "description_width": ""
          }
        },
        "c362bdfd2a944fd9898bc77a6ad0f36a": {
          "model_module": "@jupyter-widgets/controls",
          "model_name": "HBoxModel",
          "model_module_version": "1.5.0",
          "state": {
            "_dom_classes": [],
            "_model_module": "@jupyter-widgets/controls",
            "_model_module_version": "1.5.0",
            "_model_name": "HBoxModel",
            "_view_count": null,
            "_view_module": "@jupyter-widgets/controls",
            "_view_module_version": "1.5.0",
            "_view_name": "HBoxView",
            "box_style": "",
            "children": [
              "IPY_MODEL_a17bff2c1a114b17a15d91172a7a9003",
              "IPY_MODEL_9c343c238d99438880bdc03cde8ea99b",
              "IPY_MODEL_a086794c68174b99a776fb643c5a3db0"
            ],
            "layout": "IPY_MODEL_fe5203ca621a4f36b4ddc95a29c9bd70"
          }
        },
        "a17bff2c1a114b17a15d91172a7a9003": {
          "model_module": "@jupyter-widgets/controls",
          "model_name": "HTMLModel",
          "model_module_version": "1.5.0",
          "state": {
            "_dom_classes": [],
            "_model_module": "@jupyter-widgets/controls",
            "_model_module_version": "1.5.0",
            "_model_name": "HTMLModel",
            "_view_count": null,
            "_view_module": "@jupyter-widgets/controls",
            "_view_module_version": "1.5.0",
            "_view_name": "HTMLView",
            "description": "",
            "description_tooltip": null,
            "layout": "IPY_MODEL_8c7f235cd08340b8bd864d506052799a",
            "placeholder": "​",
            "style": "IPY_MODEL_fbfd8da7808c416b9cab24b65c1cac4e",
            "value": ""
          }
        },
        "9c343c238d99438880bdc03cde8ea99b": {
          "model_module": "@jupyter-widgets/controls",
          "model_name": "FloatProgressModel",
          "model_module_version": "1.5.0",
          "state": {
            "_dom_classes": [],
            "_model_module": "@jupyter-widgets/controls",
            "_model_module_version": "1.5.0",
            "_model_name": "FloatProgressModel",
            "_view_count": null,
            "_view_module": "@jupyter-widgets/controls",
            "_view_module_version": "1.5.0",
            "_view_name": "ProgressView",
            "bar_style": "info",
            "description": "",
            "description_tooltip": null,
            "layout": "IPY_MODEL_e9f86e8bc3ce4e8da4d108d41ad547cf",
            "max": 1,
            "min": 0,
            "orientation": "horizontal",
            "style": "IPY_MODEL_b4a9e53c509d4abf8f90dd342f16e315",
            "value": 1
          }
        },
        "a086794c68174b99a776fb643c5a3db0": {
          "model_module": "@jupyter-widgets/controls",
          "model_name": "HTMLModel",
          "model_module_version": "1.5.0",
          "state": {
            "_dom_classes": [],
            "_model_module": "@jupyter-widgets/controls",
            "_model_module_version": "1.5.0",
            "_model_name": "HTMLModel",
            "_view_count": null,
            "_view_module": "@jupyter-widgets/controls",
            "_view_module_version": "1.5.0",
            "_view_name": "HTMLView",
            "description": "",
            "description_tooltip": null,
            "layout": "IPY_MODEL_2e3bcdc28a0a4e85b179d536c613a480",
            "placeholder": "​",
            "style": "IPY_MODEL_9cb847f00183468fb46ab2d4067f1e53",
            "value": " 4565/0 [00:05&lt;00:00, 944.17 examples/s]"
          }
        },
        "fe5203ca621a4f36b4ddc95a29c9bd70": {
          "model_module": "@jupyter-widgets/base",
          "model_name": "LayoutModel",
          "model_module_version": "1.2.0",
          "state": {
            "_model_module": "@jupyter-widgets/base",
            "_model_module_version": "1.2.0",
            "_model_name": "LayoutModel",
            "_view_count": null,
            "_view_module": "@jupyter-widgets/base",
            "_view_module_version": "1.2.0",
            "_view_name": "LayoutView",
            "align_content": null,
            "align_items": null,
            "align_self": null,
            "border": null,
            "bottom": null,
            "display": null,
            "flex": null,
            "flex_flow": null,
            "grid_area": null,
            "grid_auto_columns": null,
            "grid_auto_flow": null,
            "grid_auto_rows": null,
            "grid_column": null,
            "grid_gap": null,
            "grid_row": null,
            "grid_template_areas": null,
            "grid_template_columns": null,
            "grid_template_rows": null,
            "height": null,
            "justify_content": null,
            "justify_items": null,
            "left": null,
            "margin": null,
            "max_height": null,
            "max_width": null,
            "min_height": null,
            "min_width": null,
            "object_fit": null,
            "object_position": null,
            "order": null,
            "overflow": null,
            "overflow_x": null,
            "overflow_y": null,
            "padding": null,
            "right": null,
            "top": null,
            "visibility": null,
            "width": null
          }
        },
        "8c7f235cd08340b8bd864d506052799a": {
          "model_module": "@jupyter-widgets/base",
          "model_name": "LayoutModel",
          "model_module_version": "1.2.0",
          "state": {
            "_model_module": "@jupyter-widgets/base",
            "_model_module_version": "1.2.0",
            "_model_name": "LayoutModel",
            "_view_count": null,
            "_view_module": "@jupyter-widgets/base",
            "_view_module_version": "1.2.0",
            "_view_name": "LayoutView",
            "align_content": null,
            "align_items": null,
            "align_self": null,
            "border": null,
            "bottom": null,
            "display": null,
            "flex": null,
            "flex_flow": null,
            "grid_area": null,
            "grid_auto_columns": null,
            "grid_auto_flow": null,
            "grid_auto_rows": null,
            "grid_column": null,
            "grid_gap": null,
            "grid_row": null,
            "grid_template_areas": null,
            "grid_template_columns": null,
            "grid_template_rows": null,
            "height": null,
            "justify_content": null,
            "justify_items": null,
            "left": null,
            "margin": null,
            "max_height": null,
            "max_width": null,
            "min_height": null,
            "min_width": null,
            "object_fit": null,
            "object_position": null,
            "order": null,
            "overflow": null,
            "overflow_x": null,
            "overflow_y": null,
            "padding": null,
            "right": null,
            "top": null,
            "visibility": null,
            "width": null
          }
        },
        "fbfd8da7808c416b9cab24b65c1cac4e": {
          "model_module": "@jupyter-widgets/controls",
          "model_name": "DescriptionStyleModel",
          "model_module_version": "1.5.0",
          "state": {
            "_model_module": "@jupyter-widgets/controls",
            "_model_module_version": "1.5.0",
            "_model_name": "DescriptionStyleModel",
            "_view_count": null,
            "_view_module": "@jupyter-widgets/base",
            "_view_module_version": "1.2.0",
            "_view_name": "StyleView",
            "description_width": ""
          }
        },
        "e9f86e8bc3ce4e8da4d108d41ad547cf": {
          "model_module": "@jupyter-widgets/base",
          "model_name": "LayoutModel",
          "model_module_version": "1.2.0",
          "state": {
            "_model_module": "@jupyter-widgets/base",
            "_model_module_version": "1.2.0",
            "_model_name": "LayoutModel",
            "_view_count": null,
            "_view_module": "@jupyter-widgets/base",
            "_view_module_version": "1.2.0",
            "_view_name": "LayoutView",
            "align_content": null,
            "align_items": null,
            "align_self": null,
            "border": null,
            "bottom": null,
            "display": null,
            "flex": null,
            "flex_flow": null,
            "grid_area": null,
            "grid_auto_columns": null,
            "grid_auto_flow": null,
            "grid_auto_rows": null,
            "grid_column": null,
            "grid_gap": null,
            "grid_row": null,
            "grid_template_areas": null,
            "grid_template_columns": null,
            "grid_template_rows": null,
            "height": null,
            "justify_content": null,
            "justify_items": null,
            "left": null,
            "margin": null,
            "max_height": null,
            "max_width": null,
            "min_height": null,
            "min_width": null,
            "object_fit": null,
            "object_position": null,
            "order": null,
            "overflow": null,
            "overflow_x": null,
            "overflow_y": null,
            "padding": null,
            "right": null,
            "top": null,
            "visibility": null,
            "width": "20px"
          }
        },
        "b4a9e53c509d4abf8f90dd342f16e315": {
          "model_module": "@jupyter-widgets/controls",
          "model_name": "ProgressStyleModel",
          "model_module_version": "1.5.0",
          "state": {
            "_model_module": "@jupyter-widgets/controls",
            "_model_module_version": "1.5.0",
            "_model_name": "ProgressStyleModel",
            "_view_count": null,
            "_view_module": "@jupyter-widgets/base",
            "_view_module_version": "1.2.0",
            "_view_name": "StyleView",
            "bar_color": null,
            "description_width": ""
          }
        },
        "2e3bcdc28a0a4e85b179d536c613a480": {
          "model_module": "@jupyter-widgets/base",
          "model_name": "LayoutModel",
          "model_module_version": "1.2.0",
          "state": {
            "_model_module": "@jupyter-widgets/base",
            "_model_module_version": "1.2.0",
            "_model_name": "LayoutModel",
            "_view_count": null,
            "_view_module": "@jupyter-widgets/base",
            "_view_module_version": "1.2.0",
            "_view_name": "LayoutView",
            "align_content": null,
            "align_items": null,
            "align_self": null,
            "border": null,
            "bottom": null,
            "display": null,
            "flex": null,
            "flex_flow": null,
            "grid_area": null,
            "grid_auto_columns": null,
            "grid_auto_flow": null,
            "grid_auto_rows": null,
            "grid_column": null,
            "grid_gap": null,
            "grid_row": null,
            "grid_template_areas": null,
            "grid_template_columns": null,
            "grid_template_rows": null,
            "height": null,
            "justify_content": null,
            "justify_items": null,
            "left": null,
            "margin": null,
            "max_height": null,
            "max_width": null,
            "min_height": null,
            "min_width": null,
            "object_fit": null,
            "object_position": null,
            "order": null,
            "overflow": null,
            "overflow_x": null,
            "overflow_y": null,
            "padding": null,
            "right": null,
            "top": null,
            "visibility": null,
            "width": null
          }
        },
        "9cb847f00183468fb46ab2d4067f1e53": {
          "model_module": "@jupyter-widgets/controls",
          "model_name": "DescriptionStyleModel",
          "model_module_version": "1.5.0",
          "state": {
            "_model_module": "@jupyter-widgets/controls",
            "_model_module_version": "1.5.0",
            "_model_name": "DescriptionStyleModel",
            "_view_count": null,
            "_view_module": "@jupyter-widgets/base",
            "_view_module_version": "1.2.0",
            "_view_name": "StyleView",
            "description_width": ""
          }
        },
        "3bf7b0d2b97b47389f0f2103731707fd": {
          "model_module": "@jupyter-widgets/controls",
          "model_name": "HBoxModel",
          "model_module_version": "1.5.0",
          "state": {
            "_dom_classes": [],
            "_model_module": "@jupyter-widgets/controls",
            "_model_module_version": "1.5.0",
            "_model_name": "HBoxModel",
            "_view_count": null,
            "_view_module": "@jupyter-widgets/controls",
            "_view_module_version": "1.5.0",
            "_view_name": "HBoxView",
            "box_style": "",
            "children": [
              "IPY_MODEL_ac783e9f916b4425bfd5e9883d145eda",
              "IPY_MODEL_43d732a655cb48549872e960a86cdddd",
              "IPY_MODEL_fc1eda0f4fb04358a586b40885296da7"
            ],
            "layout": "IPY_MODEL_961794f606964cc0b888d0db4cbc5aa8"
          }
        },
        "ac783e9f916b4425bfd5e9883d145eda": {
          "model_module": "@jupyter-widgets/controls",
          "model_name": "HTMLModel",
          "model_module_version": "1.5.0",
          "state": {
            "_dom_classes": [],
            "_model_module": "@jupyter-widgets/controls",
            "_model_module_version": "1.5.0",
            "_model_name": "HTMLModel",
            "_view_count": null,
            "_view_module": "@jupyter-widgets/controls",
            "_view_module_version": "1.5.0",
            "_view_name": "HTMLView",
            "description": "",
            "description_tooltip": null,
            "layout": "IPY_MODEL_f81be2156cf74a34b757b588986ed0d4",
            "placeholder": "​",
            "style": "IPY_MODEL_9a5a976d58f64817980d8eefcd5c2124",
            "value": ""
          }
        },
        "43d732a655cb48549872e960a86cdddd": {
          "model_module": "@jupyter-widgets/controls",
          "model_name": "FloatProgressModel",
          "model_module_version": "1.5.0",
          "state": {
            "_dom_classes": [],
            "_model_module": "@jupyter-widgets/controls",
            "_model_module_version": "1.5.0",
            "_model_name": "FloatProgressModel",
            "_view_count": null,
            "_view_module": "@jupyter-widgets/controls",
            "_view_module_version": "1.5.0",
            "_view_name": "ProgressView",
            "bar_style": "info",
            "description": "",
            "description_tooltip": null,
            "layout": "IPY_MODEL_771187eac69143a0a8bb1cd0c8338a04",
            "max": 1,
            "min": 0,
            "orientation": "horizontal",
            "style": "IPY_MODEL_c30b4131ca38464080d5ebfadbd9451c",
            "value": 1
          }
        },
        "fc1eda0f4fb04358a586b40885296da7": {
          "model_module": "@jupyter-widgets/controls",
          "model_name": "HTMLModel",
          "model_module_version": "1.5.0",
          "state": {
            "_dom_classes": [],
            "_model_module": "@jupyter-widgets/controls",
            "_model_module_version": "1.5.0",
            "_model_name": "HTMLModel",
            "_view_count": null,
            "_view_module": "@jupyter-widgets/controls",
            "_view_module_version": "1.5.0",
            "_view_name": "HTMLView",
            "description": "",
            "description_tooltip": null,
            "layout": "IPY_MODEL_b5af402e1d0447ddba30cea8ce59b15d",
            "placeholder": "​",
            "style": "IPY_MODEL_d020bf0371b441d6abca787d41e5a9b4",
            "value": " 1646/0 [00:01&lt;00:00, 946.35 examples/s]"
          }
        },
        "961794f606964cc0b888d0db4cbc5aa8": {
          "model_module": "@jupyter-widgets/base",
          "model_name": "LayoutModel",
          "model_module_version": "1.2.0",
          "state": {
            "_model_module": "@jupyter-widgets/base",
            "_model_module_version": "1.2.0",
            "_model_name": "LayoutModel",
            "_view_count": null,
            "_view_module": "@jupyter-widgets/base",
            "_view_module_version": "1.2.0",
            "_view_name": "LayoutView",
            "align_content": null,
            "align_items": null,
            "align_self": null,
            "border": null,
            "bottom": null,
            "display": null,
            "flex": null,
            "flex_flow": null,
            "grid_area": null,
            "grid_auto_columns": null,
            "grid_auto_flow": null,
            "grid_auto_rows": null,
            "grid_column": null,
            "grid_gap": null,
            "grid_row": null,
            "grid_template_areas": null,
            "grid_template_columns": null,
            "grid_template_rows": null,
            "height": null,
            "justify_content": null,
            "justify_items": null,
            "left": null,
            "margin": null,
            "max_height": null,
            "max_width": null,
            "min_height": null,
            "min_width": null,
            "object_fit": null,
            "object_position": null,
            "order": null,
            "overflow": null,
            "overflow_x": null,
            "overflow_y": null,
            "padding": null,
            "right": null,
            "top": null,
            "visibility": null,
            "width": null
          }
        },
        "f81be2156cf74a34b757b588986ed0d4": {
          "model_module": "@jupyter-widgets/base",
          "model_name": "LayoutModel",
          "model_module_version": "1.2.0",
          "state": {
            "_model_module": "@jupyter-widgets/base",
            "_model_module_version": "1.2.0",
            "_model_name": "LayoutModel",
            "_view_count": null,
            "_view_module": "@jupyter-widgets/base",
            "_view_module_version": "1.2.0",
            "_view_name": "LayoutView",
            "align_content": null,
            "align_items": null,
            "align_self": null,
            "border": null,
            "bottom": null,
            "display": null,
            "flex": null,
            "flex_flow": null,
            "grid_area": null,
            "grid_auto_columns": null,
            "grid_auto_flow": null,
            "grid_auto_rows": null,
            "grid_column": null,
            "grid_gap": null,
            "grid_row": null,
            "grid_template_areas": null,
            "grid_template_columns": null,
            "grid_template_rows": null,
            "height": null,
            "justify_content": null,
            "justify_items": null,
            "left": null,
            "margin": null,
            "max_height": null,
            "max_width": null,
            "min_height": null,
            "min_width": null,
            "object_fit": null,
            "object_position": null,
            "order": null,
            "overflow": null,
            "overflow_x": null,
            "overflow_y": null,
            "padding": null,
            "right": null,
            "top": null,
            "visibility": null,
            "width": null
          }
        },
        "9a5a976d58f64817980d8eefcd5c2124": {
          "model_module": "@jupyter-widgets/controls",
          "model_name": "DescriptionStyleModel",
          "model_module_version": "1.5.0",
          "state": {
            "_model_module": "@jupyter-widgets/controls",
            "_model_module_version": "1.5.0",
            "_model_name": "DescriptionStyleModel",
            "_view_count": null,
            "_view_module": "@jupyter-widgets/base",
            "_view_module_version": "1.2.0",
            "_view_name": "StyleView",
            "description_width": ""
          }
        },
        "771187eac69143a0a8bb1cd0c8338a04": {
          "model_module": "@jupyter-widgets/base",
          "model_name": "LayoutModel",
          "model_module_version": "1.2.0",
          "state": {
            "_model_module": "@jupyter-widgets/base",
            "_model_module_version": "1.2.0",
            "_model_name": "LayoutModel",
            "_view_count": null,
            "_view_module": "@jupyter-widgets/base",
            "_view_module_version": "1.2.0",
            "_view_name": "LayoutView",
            "align_content": null,
            "align_items": null,
            "align_self": null,
            "border": null,
            "bottom": null,
            "display": null,
            "flex": null,
            "flex_flow": null,
            "grid_area": null,
            "grid_auto_columns": null,
            "grid_auto_flow": null,
            "grid_auto_rows": null,
            "grid_column": null,
            "grid_gap": null,
            "grid_row": null,
            "grid_template_areas": null,
            "grid_template_columns": null,
            "grid_template_rows": null,
            "height": null,
            "justify_content": null,
            "justify_items": null,
            "left": null,
            "margin": null,
            "max_height": null,
            "max_width": null,
            "min_height": null,
            "min_width": null,
            "object_fit": null,
            "object_position": null,
            "order": null,
            "overflow": null,
            "overflow_x": null,
            "overflow_y": null,
            "padding": null,
            "right": null,
            "top": null,
            "visibility": null,
            "width": "20px"
          }
        },
        "c30b4131ca38464080d5ebfadbd9451c": {
          "model_module": "@jupyter-widgets/controls",
          "model_name": "ProgressStyleModel",
          "model_module_version": "1.5.0",
          "state": {
            "_model_module": "@jupyter-widgets/controls",
            "_model_module_version": "1.5.0",
            "_model_name": "ProgressStyleModel",
            "_view_count": null,
            "_view_module": "@jupyter-widgets/base",
            "_view_module_version": "1.2.0",
            "_view_name": "StyleView",
            "bar_color": null,
            "description_width": ""
          }
        },
        "b5af402e1d0447ddba30cea8ce59b15d": {
          "model_module": "@jupyter-widgets/base",
          "model_name": "LayoutModel",
          "model_module_version": "1.2.0",
          "state": {
            "_model_module": "@jupyter-widgets/base",
            "_model_module_version": "1.2.0",
            "_model_name": "LayoutModel",
            "_view_count": null,
            "_view_module": "@jupyter-widgets/base",
            "_view_module_version": "1.2.0",
            "_view_name": "LayoutView",
            "align_content": null,
            "align_items": null,
            "align_self": null,
            "border": null,
            "bottom": null,
            "display": null,
            "flex": null,
            "flex_flow": null,
            "grid_area": null,
            "grid_auto_columns": null,
            "grid_auto_flow": null,
            "grid_auto_rows": null,
            "grid_column": null,
            "grid_gap": null,
            "grid_row": null,
            "grid_template_areas": null,
            "grid_template_columns": null,
            "grid_template_rows": null,
            "height": null,
            "justify_content": null,
            "justify_items": null,
            "left": null,
            "margin": null,
            "max_height": null,
            "max_width": null,
            "min_height": null,
            "min_width": null,
            "object_fit": null,
            "object_position": null,
            "order": null,
            "overflow": null,
            "overflow_x": null,
            "overflow_y": null,
            "padding": null,
            "right": null,
            "top": null,
            "visibility": null,
            "width": null
          }
        },
        "d020bf0371b441d6abca787d41e5a9b4": {
          "model_module": "@jupyter-widgets/controls",
          "model_name": "DescriptionStyleModel",
          "model_module_version": "1.5.0",
          "state": {
            "_model_module": "@jupyter-widgets/controls",
            "_model_module_version": "1.5.0",
            "_model_name": "DescriptionStyleModel",
            "_view_count": null,
            "_view_module": "@jupyter-widgets/base",
            "_view_module_version": "1.2.0",
            "_view_name": "StyleView",
            "description_width": ""
          }
        },
        "6f6b0196e9d04d98b56a432e2783fc89": {
          "model_module": "@jupyter-widgets/controls",
          "model_name": "HBoxModel",
          "model_module_version": "1.5.0",
          "state": {
            "_dom_classes": [],
            "_model_module": "@jupyter-widgets/controls",
            "_model_module_version": "1.5.0",
            "_model_name": "HBoxModel",
            "_view_count": null,
            "_view_module": "@jupyter-widgets/controls",
            "_view_module_version": "1.5.0",
            "_view_name": "HBoxView",
            "box_style": "",
            "children": [
              "IPY_MODEL_1df66d96211948ebbc1f80850b1214c1",
              "IPY_MODEL_9f16524e4df9493081fd78928ca4056a",
              "IPY_MODEL_d6f8f1d0b32146f7ad3c2a1ac0057df3"
            ],
            "layout": "IPY_MODEL_32bacb959360492f90a8409a94a24e4c"
          }
        },
        "1df66d96211948ebbc1f80850b1214c1": {
          "model_module": "@jupyter-widgets/controls",
          "model_name": "HTMLModel",
          "model_module_version": "1.5.0",
          "state": {
            "_dom_classes": [],
            "_model_module": "@jupyter-widgets/controls",
            "_model_module_version": "1.5.0",
            "_model_name": "HTMLModel",
            "_view_count": null,
            "_view_module": "@jupyter-widgets/controls",
            "_view_module_version": "1.5.0",
            "_view_name": "HTMLView",
            "description": "",
            "description_tooltip": null,
            "layout": "IPY_MODEL_308f2273234c4db4b1145699355082e0",
            "placeholder": "​",
            "style": "IPY_MODEL_481fec8a0e764e65abe7e72e1f7fa343",
            "value": "100%"
          }
        },
        "9f16524e4df9493081fd78928ca4056a": {
          "model_module": "@jupyter-widgets/controls",
          "model_name": "FloatProgressModel",
          "model_module_version": "1.5.0",
          "state": {
            "_dom_classes": [],
            "_model_module": "@jupyter-widgets/controls",
            "_model_module_version": "1.5.0",
            "_model_name": "FloatProgressModel",
            "_view_count": null,
            "_view_module": "@jupyter-widgets/controls",
            "_view_module_version": "1.5.0",
            "_view_name": "ProgressView",
            "bar_style": "success",
            "description": "",
            "description_tooltip": null,
            "layout": "IPY_MODEL_655835bb7d184cdb99e61f60438577ad",
            "max": 2,
            "min": 0,
            "orientation": "horizontal",
            "style": "IPY_MODEL_bd2b95dda8d14c92b11b6f57f460876b",
            "value": 2
          }
        },
        "d6f8f1d0b32146f7ad3c2a1ac0057df3": {
          "model_module": "@jupyter-widgets/controls",
          "model_name": "HTMLModel",
          "model_module_version": "1.5.0",
          "state": {
            "_dom_classes": [],
            "_model_module": "@jupyter-widgets/controls",
            "_model_module_version": "1.5.0",
            "_model_name": "HTMLModel",
            "_view_count": null,
            "_view_module": "@jupyter-widgets/controls",
            "_view_module_version": "1.5.0",
            "_view_name": "HTMLView",
            "description": "",
            "description_tooltip": null,
            "layout": "IPY_MODEL_a9dea6f5c392491e9e25a7c95fd07c52",
            "placeholder": "​",
            "style": "IPY_MODEL_674089e478604357b316e691a02f940d",
            "value": " 2/2 [00:00&lt;00:00, 51.89it/s]"
          }
        },
        "32bacb959360492f90a8409a94a24e4c": {
          "model_module": "@jupyter-widgets/base",
          "model_name": "LayoutModel",
          "model_module_version": "1.2.0",
          "state": {
            "_model_module": "@jupyter-widgets/base",
            "_model_module_version": "1.2.0",
            "_model_name": "LayoutModel",
            "_view_count": null,
            "_view_module": "@jupyter-widgets/base",
            "_view_module_version": "1.2.0",
            "_view_name": "LayoutView",
            "align_content": null,
            "align_items": null,
            "align_self": null,
            "border": null,
            "bottom": null,
            "display": null,
            "flex": null,
            "flex_flow": null,
            "grid_area": null,
            "grid_auto_columns": null,
            "grid_auto_flow": null,
            "grid_auto_rows": null,
            "grid_column": null,
            "grid_gap": null,
            "grid_row": null,
            "grid_template_areas": null,
            "grid_template_columns": null,
            "grid_template_rows": null,
            "height": null,
            "justify_content": null,
            "justify_items": null,
            "left": null,
            "margin": null,
            "max_height": null,
            "max_width": null,
            "min_height": null,
            "min_width": null,
            "object_fit": null,
            "object_position": null,
            "order": null,
            "overflow": null,
            "overflow_x": null,
            "overflow_y": null,
            "padding": null,
            "right": null,
            "top": null,
            "visibility": null,
            "width": null
          }
        },
        "308f2273234c4db4b1145699355082e0": {
          "model_module": "@jupyter-widgets/base",
          "model_name": "LayoutModel",
          "model_module_version": "1.2.0",
          "state": {
            "_model_module": "@jupyter-widgets/base",
            "_model_module_version": "1.2.0",
            "_model_name": "LayoutModel",
            "_view_count": null,
            "_view_module": "@jupyter-widgets/base",
            "_view_module_version": "1.2.0",
            "_view_name": "LayoutView",
            "align_content": null,
            "align_items": null,
            "align_self": null,
            "border": null,
            "bottom": null,
            "display": null,
            "flex": null,
            "flex_flow": null,
            "grid_area": null,
            "grid_auto_columns": null,
            "grid_auto_flow": null,
            "grid_auto_rows": null,
            "grid_column": null,
            "grid_gap": null,
            "grid_row": null,
            "grid_template_areas": null,
            "grid_template_columns": null,
            "grid_template_rows": null,
            "height": null,
            "justify_content": null,
            "justify_items": null,
            "left": null,
            "margin": null,
            "max_height": null,
            "max_width": null,
            "min_height": null,
            "min_width": null,
            "object_fit": null,
            "object_position": null,
            "order": null,
            "overflow": null,
            "overflow_x": null,
            "overflow_y": null,
            "padding": null,
            "right": null,
            "top": null,
            "visibility": null,
            "width": null
          }
        },
        "481fec8a0e764e65abe7e72e1f7fa343": {
          "model_module": "@jupyter-widgets/controls",
          "model_name": "DescriptionStyleModel",
          "model_module_version": "1.5.0",
          "state": {
            "_model_module": "@jupyter-widgets/controls",
            "_model_module_version": "1.5.0",
            "_model_name": "DescriptionStyleModel",
            "_view_count": null,
            "_view_module": "@jupyter-widgets/base",
            "_view_module_version": "1.2.0",
            "_view_name": "StyleView",
            "description_width": ""
          }
        },
        "655835bb7d184cdb99e61f60438577ad": {
          "model_module": "@jupyter-widgets/base",
          "model_name": "LayoutModel",
          "model_module_version": "1.2.0",
          "state": {
            "_model_module": "@jupyter-widgets/base",
            "_model_module_version": "1.2.0",
            "_model_name": "LayoutModel",
            "_view_count": null,
            "_view_module": "@jupyter-widgets/base",
            "_view_module_version": "1.2.0",
            "_view_name": "LayoutView",
            "align_content": null,
            "align_items": null,
            "align_self": null,
            "border": null,
            "bottom": null,
            "display": null,
            "flex": null,
            "flex_flow": null,
            "grid_area": null,
            "grid_auto_columns": null,
            "grid_auto_flow": null,
            "grid_auto_rows": null,
            "grid_column": null,
            "grid_gap": null,
            "grid_row": null,
            "grid_template_areas": null,
            "grid_template_columns": null,
            "grid_template_rows": null,
            "height": null,
            "justify_content": null,
            "justify_items": null,
            "left": null,
            "margin": null,
            "max_height": null,
            "max_width": null,
            "min_height": null,
            "min_width": null,
            "object_fit": null,
            "object_position": null,
            "order": null,
            "overflow": null,
            "overflow_x": null,
            "overflow_y": null,
            "padding": null,
            "right": null,
            "top": null,
            "visibility": null,
            "width": null
          }
        },
        "bd2b95dda8d14c92b11b6f57f460876b": {
          "model_module": "@jupyter-widgets/controls",
          "model_name": "ProgressStyleModel",
          "model_module_version": "1.5.0",
          "state": {
            "_model_module": "@jupyter-widgets/controls",
            "_model_module_version": "1.5.0",
            "_model_name": "ProgressStyleModel",
            "_view_count": null,
            "_view_module": "@jupyter-widgets/base",
            "_view_module_version": "1.2.0",
            "_view_name": "StyleView",
            "bar_color": null,
            "description_width": ""
          }
        },
        "a9dea6f5c392491e9e25a7c95fd07c52": {
          "model_module": "@jupyter-widgets/base",
          "model_name": "LayoutModel",
          "model_module_version": "1.2.0",
          "state": {
            "_model_module": "@jupyter-widgets/base",
            "_model_module_version": "1.2.0",
            "_model_name": "LayoutModel",
            "_view_count": null,
            "_view_module": "@jupyter-widgets/base",
            "_view_module_version": "1.2.0",
            "_view_name": "LayoutView",
            "align_content": null,
            "align_items": null,
            "align_self": null,
            "border": null,
            "bottom": null,
            "display": null,
            "flex": null,
            "flex_flow": null,
            "grid_area": null,
            "grid_auto_columns": null,
            "grid_auto_flow": null,
            "grid_auto_rows": null,
            "grid_column": null,
            "grid_gap": null,
            "grid_row": null,
            "grid_template_areas": null,
            "grid_template_columns": null,
            "grid_template_rows": null,
            "height": null,
            "justify_content": null,
            "justify_items": null,
            "left": null,
            "margin": null,
            "max_height": null,
            "max_width": null,
            "min_height": null,
            "min_width": null,
            "object_fit": null,
            "object_position": null,
            "order": null,
            "overflow": null,
            "overflow_x": null,
            "overflow_y": null,
            "padding": null,
            "right": null,
            "top": null,
            "visibility": null,
            "width": null
          }
        },
        "674089e478604357b316e691a02f940d": {
          "model_module": "@jupyter-widgets/controls",
          "model_name": "DescriptionStyleModel",
          "model_module_version": "1.5.0",
          "state": {
            "_model_module": "@jupyter-widgets/controls",
            "_model_module_version": "1.5.0",
            "_model_name": "DescriptionStyleModel",
            "_view_count": null,
            "_view_module": "@jupyter-widgets/base",
            "_view_module_version": "1.2.0",
            "_view_name": "StyleView",
            "description_width": ""
          }
        },
        "89a60910daf248ec8433cd69438fc867": {
          "model_module": "@jupyter-widgets/controls",
          "model_name": "HBoxModel",
          "model_module_version": "1.5.0",
          "state": {
            "_dom_classes": [],
            "_model_module": "@jupyter-widgets/controls",
            "_model_module_version": "1.5.0",
            "_model_name": "HBoxModel",
            "_view_count": null,
            "_view_module": "@jupyter-widgets/controls",
            "_view_module_version": "1.5.0",
            "_view_name": "HBoxView",
            "box_style": "",
            "children": [
              "IPY_MODEL_92adffc7e2ea4bb4bda2ea05818fa1ba",
              "IPY_MODEL_733f3abb1fa04143a0d48889627ff68a",
              "IPY_MODEL_a7c2b6eff33347aea4e22172f8226910"
            ],
            "layout": "IPY_MODEL_61abdacb85214a5f813e3ebdd2b8a698"
          }
        },
        "92adffc7e2ea4bb4bda2ea05818fa1ba": {
          "model_module": "@jupyter-widgets/controls",
          "model_name": "HTMLModel",
          "model_module_version": "1.5.0",
          "state": {
            "_dom_classes": [],
            "_model_module": "@jupyter-widgets/controls",
            "_model_module_version": "1.5.0",
            "_model_name": "HTMLModel",
            "_view_count": null,
            "_view_module": "@jupyter-widgets/controls",
            "_view_module_version": "1.5.0",
            "_view_name": "HTMLView",
            "description": "",
            "description_tooltip": null,
            "layout": "IPY_MODEL_a5daf2fe378b4f4d98f1768fbdd0851c",
            "placeholder": "​",
            "style": "IPY_MODEL_4123902b7513450fa147a549df49ee02",
            "value": ""
          }
        },
        "733f3abb1fa04143a0d48889627ff68a": {
          "model_module": "@jupyter-widgets/controls",
          "model_name": "FloatProgressModel",
          "model_module_version": "1.5.0",
          "state": {
            "_dom_classes": [],
            "_model_module": "@jupyter-widgets/controls",
            "_model_module_version": "1.5.0",
            "_model_name": "FloatProgressModel",
            "_view_count": null,
            "_view_module": "@jupyter-widgets/controls",
            "_view_module_version": "1.5.0",
            "_view_name": "ProgressView",
            "bar_style": "success",
            "description": "",
            "description_tooltip": null,
            "layout": "IPY_MODEL_8f71c9310f42472787aae94dd0fa6f04",
            "max": 1,
            "min": 0,
            "orientation": "horizontal",
            "style": "IPY_MODEL_014c184beac3493c948baa3b0f0b5ebd",
            "value": 1
          }
        },
        "a7c2b6eff33347aea4e22172f8226910": {
          "model_module": "@jupyter-widgets/controls",
          "model_name": "HTMLModel",
          "model_module_version": "1.5.0",
          "state": {
            "_dom_classes": [],
            "_model_module": "@jupyter-widgets/controls",
            "_model_module_version": "1.5.0",
            "_model_name": "HTMLModel",
            "_view_count": null,
            "_view_module": "@jupyter-widgets/controls",
            "_view_module_version": "1.5.0",
            "_view_name": "HTMLView",
            "description": "",
            "description_tooltip": null,
            "layout": "IPY_MODEL_d30f6e89ef42400485a1deaf613fd60f",
            "placeholder": "​",
            "style": "IPY_MODEL_bf1857564dba4d4c9fdbafd151279a37",
            "value": " 4620/? [00:00&lt;00:00, 7068.23ex/s]"
          }
        },
        "61abdacb85214a5f813e3ebdd2b8a698": {
          "model_module": "@jupyter-widgets/base",
          "model_name": "LayoutModel",
          "model_module_version": "1.2.0",
          "state": {
            "_model_module": "@jupyter-widgets/base",
            "_model_module_version": "1.2.0",
            "_model_name": "LayoutModel",
            "_view_count": null,
            "_view_module": "@jupyter-widgets/base",
            "_view_module_version": "1.2.0",
            "_view_name": "LayoutView",
            "align_content": null,
            "align_items": null,
            "align_self": null,
            "border": null,
            "bottom": null,
            "display": null,
            "flex": null,
            "flex_flow": null,
            "grid_area": null,
            "grid_auto_columns": null,
            "grid_auto_flow": null,
            "grid_auto_rows": null,
            "grid_column": null,
            "grid_gap": null,
            "grid_row": null,
            "grid_template_areas": null,
            "grid_template_columns": null,
            "grid_template_rows": null,
            "height": null,
            "justify_content": null,
            "justify_items": null,
            "left": null,
            "margin": null,
            "max_height": null,
            "max_width": null,
            "min_height": null,
            "min_width": null,
            "object_fit": null,
            "object_position": null,
            "order": null,
            "overflow": null,
            "overflow_x": null,
            "overflow_y": null,
            "padding": null,
            "right": null,
            "top": null,
            "visibility": null,
            "width": null
          }
        },
        "a5daf2fe378b4f4d98f1768fbdd0851c": {
          "model_module": "@jupyter-widgets/base",
          "model_name": "LayoutModel",
          "model_module_version": "1.2.0",
          "state": {
            "_model_module": "@jupyter-widgets/base",
            "_model_module_version": "1.2.0",
            "_model_name": "LayoutModel",
            "_view_count": null,
            "_view_module": "@jupyter-widgets/base",
            "_view_module_version": "1.2.0",
            "_view_name": "LayoutView",
            "align_content": null,
            "align_items": null,
            "align_self": null,
            "border": null,
            "bottom": null,
            "display": null,
            "flex": null,
            "flex_flow": null,
            "grid_area": null,
            "grid_auto_columns": null,
            "grid_auto_flow": null,
            "grid_auto_rows": null,
            "grid_column": null,
            "grid_gap": null,
            "grid_row": null,
            "grid_template_areas": null,
            "grid_template_columns": null,
            "grid_template_rows": null,
            "height": null,
            "justify_content": null,
            "justify_items": null,
            "left": null,
            "margin": null,
            "max_height": null,
            "max_width": null,
            "min_height": null,
            "min_width": null,
            "object_fit": null,
            "object_position": null,
            "order": null,
            "overflow": null,
            "overflow_x": null,
            "overflow_y": null,
            "padding": null,
            "right": null,
            "top": null,
            "visibility": null,
            "width": null
          }
        },
        "4123902b7513450fa147a549df49ee02": {
          "model_module": "@jupyter-widgets/controls",
          "model_name": "DescriptionStyleModel",
          "model_module_version": "1.5.0",
          "state": {
            "_model_module": "@jupyter-widgets/controls",
            "_model_module_version": "1.5.0",
            "_model_name": "DescriptionStyleModel",
            "_view_count": null,
            "_view_module": "@jupyter-widgets/base",
            "_view_module_version": "1.2.0",
            "_view_name": "StyleView",
            "description_width": ""
          }
        },
        "8f71c9310f42472787aae94dd0fa6f04": {
          "model_module": "@jupyter-widgets/base",
          "model_name": "LayoutModel",
          "model_module_version": "1.2.0",
          "state": {
            "_model_module": "@jupyter-widgets/base",
            "_model_module_version": "1.2.0",
            "_model_name": "LayoutModel",
            "_view_count": null,
            "_view_module": "@jupyter-widgets/base",
            "_view_module_version": "1.2.0",
            "_view_name": "LayoutView",
            "align_content": null,
            "align_items": null,
            "align_self": null,
            "border": null,
            "bottom": null,
            "display": null,
            "flex": null,
            "flex_flow": null,
            "grid_area": null,
            "grid_auto_columns": null,
            "grid_auto_flow": null,
            "grid_auto_rows": null,
            "grid_column": null,
            "grid_gap": null,
            "grid_row": null,
            "grid_template_areas": null,
            "grid_template_columns": null,
            "grid_template_rows": null,
            "height": null,
            "justify_content": null,
            "justify_items": null,
            "left": null,
            "margin": null,
            "max_height": null,
            "max_width": null,
            "min_height": null,
            "min_width": null,
            "object_fit": null,
            "object_position": null,
            "order": null,
            "overflow": null,
            "overflow_x": null,
            "overflow_y": null,
            "padding": null,
            "right": null,
            "top": null,
            "visibility": null,
            "width": "20px"
          }
        },
        "014c184beac3493c948baa3b0f0b5ebd": {
          "model_module": "@jupyter-widgets/controls",
          "model_name": "ProgressStyleModel",
          "model_module_version": "1.5.0",
          "state": {
            "_model_module": "@jupyter-widgets/controls",
            "_model_module_version": "1.5.0",
            "_model_name": "ProgressStyleModel",
            "_view_count": null,
            "_view_module": "@jupyter-widgets/base",
            "_view_module_version": "1.2.0",
            "_view_name": "StyleView",
            "bar_color": null,
            "description_width": ""
          }
        },
        "d30f6e89ef42400485a1deaf613fd60f": {
          "model_module": "@jupyter-widgets/base",
          "model_name": "LayoutModel",
          "model_module_version": "1.2.0",
          "state": {
            "_model_module": "@jupyter-widgets/base",
            "_model_module_version": "1.2.0",
            "_model_name": "LayoutModel",
            "_view_count": null,
            "_view_module": "@jupyter-widgets/base",
            "_view_module_version": "1.2.0",
            "_view_name": "LayoutView",
            "align_content": null,
            "align_items": null,
            "align_self": null,
            "border": null,
            "bottom": null,
            "display": null,
            "flex": null,
            "flex_flow": null,
            "grid_area": null,
            "grid_auto_columns": null,
            "grid_auto_flow": null,
            "grid_auto_rows": null,
            "grid_column": null,
            "grid_gap": null,
            "grid_row": null,
            "grid_template_areas": null,
            "grid_template_columns": null,
            "grid_template_rows": null,
            "height": null,
            "justify_content": null,
            "justify_items": null,
            "left": null,
            "margin": null,
            "max_height": null,
            "max_width": null,
            "min_height": null,
            "min_width": null,
            "object_fit": null,
            "object_position": null,
            "order": null,
            "overflow": null,
            "overflow_x": null,
            "overflow_y": null,
            "padding": null,
            "right": null,
            "top": null,
            "visibility": null,
            "width": null
          }
        },
        "bf1857564dba4d4c9fdbafd151279a37": {
          "model_module": "@jupyter-widgets/controls",
          "model_name": "DescriptionStyleModel",
          "model_module_version": "1.5.0",
          "state": {
            "_model_module": "@jupyter-widgets/controls",
            "_model_module_version": "1.5.0",
            "_model_name": "DescriptionStyleModel",
            "_view_count": null,
            "_view_module": "@jupyter-widgets/base",
            "_view_module_version": "1.2.0",
            "_view_name": "StyleView",
            "description_width": ""
          }
        },
        "b2b023f7abd54d7ba9590052a32e94b8": {
          "model_module": "@jupyter-widgets/controls",
          "model_name": "HBoxModel",
          "model_module_version": "1.5.0",
          "state": {
            "_dom_classes": [],
            "_model_module": "@jupyter-widgets/controls",
            "_model_module_version": "1.5.0",
            "_model_name": "HBoxModel",
            "_view_count": null,
            "_view_module": "@jupyter-widgets/controls",
            "_view_module_version": "1.5.0",
            "_view_name": "HBoxView",
            "box_style": "",
            "children": [
              "IPY_MODEL_0cc6f898e17945cc929f387c9ce82b2a",
              "IPY_MODEL_03d04cd3d73740178fab882c87d10b6c",
              "IPY_MODEL_8aa180e0be0247a6a0b9e0346a0a0f0c"
            ],
            "layout": "IPY_MODEL_31e82aebce0248f184c605e01bf26cd2"
          }
        },
        "0cc6f898e17945cc929f387c9ce82b2a": {
          "model_module": "@jupyter-widgets/controls",
          "model_name": "HTMLModel",
          "model_module_version": "1.5.0",
          "state": {
            "_dom_classes": [],
            "_model_module": "@jupyter-widgets/controls",
            "_model_module_version": "1.5.0",
            "_model_name": "HTMLModel",
            "_view_count": null,
            "_view_module": "@jupyter-widgets/controls",
            "_view_module_version": "1.5.0",
            "_view_name": "HTMLView",
            "description": "",
            "description_tooltip": null,
            "layout": "IPY_MODEL_ebcdb0257706438bbfb5118f3fd4d33e",
            "placeholder": "​",
            "style": "IPY_MODEL_29797664ff7c43a38cd2c1b0ffbd6276",
            "value": ""
          }
        },
        "03d04cd3d73740178fab882c87d10b6c": {
          "model_module": "@jupyter-widgets/controls",
          "model_name": "FloatProgressModel",
          "model_module_version": "1.5.0",
          "state": {
            "_dom_classes": [],
            "_model_module": "@jupyter-widgets/controls",
            "_model_module_version": "1.5.0",
            "_model_name": "FloatProgressModel",
            "_view_count": null,
            "_view_module": "@jupyter-widgets/controls",
            "_view_module_version": "1.5.0",
            "_view_name": "ProgressView",
            "bar_style": "success",
            "description": "",
            "description_tooltip": null,
            "layout": "IPY_MODEL_238a36af573d465d8ccc33a05bc0a663",
            "max": 1,
            "min": 0,
            "orientation": "horizontal",
            "style": "IPY_MODEL_1807be633f9944fb86695feece10a3e4",
            "value": 1
          }
        },
        "8aa180e0be0247a6a0b9e0346a0a0f0c": {
          "model_module": "@jupyter-widgets/controls",
          "model_name": "HTMLModel",
          "model_module_version": "1.5.0",
          "state": {
            "_dom_classes": [],
            "_model_module": "@jupyter-widgets/controls",
            "_model_module_version": "1.5.0",
            "_model_name": "HTMLModel",
            "_view_count": null,
            "_view_module": "@jupyter-widgets/controls",
            "_view_module_version": "1.5.0",
            "_view_name": "HTMLView",
            "description": "",
            "description_tooltip": null,
            "layout": "IPY_MODEL_7f16f952a376437780c4b202e8ad649f",
            "placeholder": "​",
            "style": "IPY_MODEL_1d720d683da34824bd2dc47179aae4ef",
            "value": " 1680/? [00:00&lt;00:00, 5210.72ex/s]"
          }
        },
        "31e82aebce0248f184c605e01bf26cd2": {
          "model_module": "@jupyter-widgets/base",
          "model_name": "LayoutModel",
          "model_module_version": "1.2.0",
          "state": {
            "_model_module": "@jupyter-widgets/base",
            "_model_module_version": "1.2.0",
            "_model_name": "LayoutModel",
            "_view_count": null,
            "_view_module": "@jupyter-widgets/base",
            "_view_module_version": "1.2.0",
            "_view_name": "LayoutView",
            "align_content": null,
            "align_items": null,
            "align_self": null,
            "border": null,
            "bottom": null,
            "display": null,
            "flex": null,
            "flex_flow": null,
            "grid_area": null,
            "grid_auto_columns": null,
            "grid_auto_flow": null,
            "grid_auto_rows": null,
            "grid_column": null,
            "grid_gap": null,
            "grid_row": null,
            "grid_template_areas": null,
            "grid_template_columns": null,
            "grid_template_rows": null,
            "height": null,
            "justify_content": null,
            "justify_items": null,
            "left": null,
            "margin": null,
            "max_height": null,
            "max_width": null,
            "min_height": null,
            "min_width": null,
            "object_fit": null,
            "object_position": null,
            "order": null,
            "overflow": null,
            "overflow_x": null,
            "overflow_y": null,
            "padding": null,
            "right": null,
            "top": null,
            "visibility": null,
            "width": null
          }
        },
        "ebcdb0257706438bbfb5118f3fd4d33e": {
          "model_module": "@jupyter-widgets/base",
          "model_name": "LayoutModel",
          "model_module_version": "1.2.0",
          "state": {
            "_model_module": "@jupyter-widgets/base",
            "_model_module_version": "1.2.0",
            "_model_name": "LayoutModel",
            "_view_count": null,
            "_view_module": "@jupyter-widgets/base",
            "_view_module_version": "1.2.0",
            "_view_name": "LayoutView",
            "align_content": null,
            "align_items": null,
            "align_self": null,
            "border": null,
            "bottom": null,
            "display": null,
            "flex": null,
            "flex_flow": null,
            "grid_area": null,
            "grid_auto_columns": null,
            "grid_auto_flow": null,
            "grid_auto_rows": null,
            "grid_column": null,
            "grid_gap": null,
            "grid_row": null,
            "grid_template_areas": null,
            "grid_template_columns": null,
            "grid_template_rows": null,
            "height": null,
            "justify_content": null,
            "justify_items": null,
            "left": null,
            "margin": null,
            "max_height": null,
            "max_width": null,
            "min_height": null,
            "min_width": null,
            "object_fit": null,
            "object_position": null,
            "order": null,
            "overflow": null,
            "overflow_x": null,
            "overflow_y": null,
            "padding": null,
            "right": null,
            "top": null,
            "visibility": null,
            "width": null
          }
        },
        "29797664ff7c43a38cd2c1b0ffbd6276": {
          "model_module": "@jupyter-widgets/controls",
          "model_name": "DescriptionStyleModel",
          "model_module_version": "1.5.0",
          "state": {
            "_model_module": "@jupyter-widgets/controls",
            "_model_module_version": "1.5.0",
            "_model_name": "DescriptionStyleModel",
            "_view_count": null,
            "_view_module": "@jupyter-widgets/base",
            "_view_module_version": "1.2.0",
            "_view_name": "StyleView",
            "description_width": ""
          }
        },
        "238a36af573d465d8ccc33a05bc0a663": {
          "model_module": "@jupyter-widgets/base",
          "model_name": "LayoutModel",
          "model_module_version": "1.2.0",
          "state": {
            "_model_module": "@jupyter-widgets/base",
            "_model_module_version": "1.2.0",
            "_model_name": "LayoutModel",
            "_view_count": null,
            "_view_module": "@jupyter-widgets/base",
            "_view_module_version": "1.2.0",
            "_view_name": "LayoutView",
            "align_content": null,
            "align_items": null,
            "align_self": null,
            "border": null,
            "bottom": null,
            "display": null,
            "flex": null,
            "flex_flow": null,
            "grid_area": null,
            "grid_auto_columns": null,
            "grid_auto_flow": null,
            "grid_auto_rows": null,
            "grid_column": null,
            "grid_gap": null,
            "grid_row": null,
            "grid_template_areas": null,
            "grid_template_columns": null,
            "grid_template_rows": null,
            "height": null,
            "justify_content": null,
            "justify_items": null,
            "left": null,
            "margin": null,
            "max_height": null,
            "max_width": null,
            "min_height": null,
            "min_width": null,
            "object_fit": null,
            "object_position": null,
            "order": null,
            "overflow": null,
            "overflow_x": null,
            "overflow_y": null,
            "padding": null,
            "right": null,
            "top": null,
            "visibility": null,
            "width": "20px"
          }
        },
        "1807be633f9944fb86695feece10a3e4": {
          "model_module": "@jupyter-widgets/controls",
          "model_name": "ProgressStyleModel",
          "model_module_version": "1.5.0",
          "state": {
            "_model_module": "@jupyter-widgets/controls",
            "_model_module_version": "1.5.0",
            "_model_name": "ProgressStyleModel",
            "_view_count": null,
            "_view_module": "@jupyter-widgets/base",
            "_view_module_version": "1.2.0",
            "_view_name": "StyleView",
            "bar_color": null,
            "description_width": ""
          }
        },
        "7f16f952a376437780c4b202e8ad649f": {
          "model_module": "@jupyter-widgets/base",
          "model_name": "LayoutModel",
          "model_module_version": "1.2.0",
          "state": {
            "_model_module": "@jupyter-widgets/base",
            "_model_module_version": "1.2.0",
            "_model_name": "LayoutModel",
            "_view_count": null,
            "_view_module": "@jupyter-widgets/base",
            "_view_module_version": "1.2.0",
            "_view_name": "LayoutView",
            "align_content": null,
            "align_items": null,
            "align_self": null,
            "border": null,
            "bottom": null,
            "display": null,
            "flex": null,
            "flex_flow": null,
            "grid_area": null,
            "grid_auto_columns": null,
            "grid_auto_flow": null,
            "grid_auto_rows": null,
            "grid_column": null,
            "grid_gap": null,
            "grid_row": null,
            "grid_template_areas": null,
            "grid_template_columns": null,
            "grid_template_rows": null,
            "height": null,
            "justify_content": null,
            "justify_items": null,
            "left": null,
            "margin": null,
            "max_height": null,
            "max_width": null,
            "min_height": null,
            "min_width": null,
            "object_fit": null,
            "object_position": null,
            "order": null,
            "overflow": null,
            "overflow_x": null,
            "overflow_y": null,
            "padding": null,
            "right": null,
            "top": null,
            "visibility": null,
            "width": null
          }
        },
        "1d720d683da34824bd2dc47179aae4ef": {
          "model_module": "@jupyter-widgets/controls",
          "model_name": "DescriptionStyleModel",
          "model_module_version": "1.5.0",
          "state": {
            "_model_module": "@jupyter-widgets/controls",
            "_model_module_version": "1.5.0",
            "_model_name": "DescriptionStyleModel",
            "_view_count": null,
            "_view_module": "@jupyter-widgets/base",
            "_view_module_version": "1.2.0",
            "_view_name": "StyleView",
            "description_width": ""
          }
        },
        "86874bf5fe244a449c4fab1ac2d250ec": {
          "model_module": "@jupyter-widgets/controls",
          "model_name": "HBoxModel",
          "model_module_version": "1.5.0",
          "state": {
            "_dom_classes": [],
            "_model_module": "@jupyter-widgets/controls",
            "_model_module_version": "1.5.0",
            "_model_name": "HBoxModel",
            "_view_count": null,
            "_view_module": "@jupyter-widgets/controls",
            "_view_module_version": "1.5.0",
            "_view_name": "HBoxView",
            "box_style": "",
            "children": [
              "IPY_MODEL_bf4d81bdaef141ca8c4a4d0f615245d8",
              "IPY_MODEL_109195bc48bf42fb9117e300a0b357ef",
              "IPY_MODEL_245b95741f114fc2ac0c3f696e6afbc0"
            ],
            "layout": "IPY_MODEL_bef510171ed642a99d9659297abd69cf"
          }
        },
        "bf4d81bdaef141ca8c4a4d0f615245d8": {
          "model_module": "@jupyter-widgets/controls",
          "model_name": "HTMLModel",
          "model_module_version": "1.5.0",
          "state": {
            "_dom_classes": [],
            "_model_module": "@jupyter-widgets/controls",
            "_model_module_version": "1.5.0",
            "_model_name": "HTMLModel",
            "_view_count": null,
            "_view_module": "@jupyter-widgets/controls",
            "_view_module_version": "1.5.0",
            "_view_name": "HTMLView",
            "description": "",
            "description_tooltip": null,
            "layout": "IPY_MODEL_174679f0ba1248389f13941b52799a68",
            "placeholder": "​",
            "style": "IPY_MODEL_d6c0ba58f7f54f15a306bf5b852b6c59",
            "value": "100%"
          }
        },
        "109195bc48bf42fb9117e300a0b357ef": {
          "model_module": "@jupyter-widgets/controls",
          "model_name": "FloatProgressModel",
          "model_module_version": "1.5.0",
          "state": {
            "_dom_classes": [],
            "_model_module": "@jupyter-widgets/controls",
            "_model_module_version": "1.5.0",
            "_model_name": "FloatProgressModel",
            "_view_count": null,
            "_view_module": "@jupyter-widgets/controls",
            "_view_module_version": "1.5.0",
            "_view_name": "ProgressView",
            "bar_style": "success",
            "description": "",
            "description_tooltip": null,
            "layout": "IPY_MODEL_ba516e383f394583bf1a627de23fe04c",
            "max": 1,
            "min": 0,
            "orientation": "horizontal",
            "style": "IPY_MODEL_04b191f8846343b383d4294045d51545",
            "value": 1
          }
        },
        "245b95741f114fc2ac0c3f696e6afbc0": {
          "model_module": "@jupyter-widgets/controls",
          "model_name": "HTMLModel",
          "model_module_version": "1.5.0",
          "state": {
            "_dom_classes": [],
            "_model_module": "@jupyter-widgets/controls",
            "_model_module_version": "1.5.0",
            "_model_name": "HTMLModel",
            "_view_count": null,
            "_view_module": "@jupyter-widgets/controls",
            "_view_module_version": "1.5.0",
            "_view_name": "HTMLView",
            "description": "",
            "description_tooltip": null,
            "layout": "IPY_MODEL_4543a3f34b314f158dee0a163df9b187",
            "placeholder": "​",
            "style": "IPY_MODEL_71030b8cba144ecbbfc074381da8be67",
            "value": " 1/1 [00:00&lt;00:00, 13.20ba/s]"
          }
        },
        "bef510171ed642a99d9659297abd69cf": {
          "model_module": "@jupyter-widgets/base",
          "model_name": "LayoutModel",
          "model_module_version": "1.2.0",
          "state": {
            "_model_module": "@jupyter-widgets/base",
            "_model_module_version": "1.2.0",
            "_model_name": "LayoutModel",
            "_view_count": null,
            "_view_module": "@jupyter-widgets/base",
            "_view_module_version": "1.2.0",
            "_view_name": "LayoutView",
            "align_content": null,
            "align_items": null,
            "align_self": null,
            "border": null,
            "bottom": null,
            "display": null,
            "flex": null,
            "flex_flow": null,
            "grid_area": null,
            "grid_auto_columns": null,
            "grid_auto_flow": null,
            "grid_auto_rows": null,
            "grid_column": null,
            "grid_gap": null,
            "grid_row": null,
            "grid_template_areas": null,
            "grid_template_columns": null,
            "grid_template_rows": null,
            "height": null,
            "justify_content": null,
            "justify_items": null,
            "left": null,
            "margin": null,
            "max_height": null,
            "max_width": null,
            "min_height": null,
            "min_width": null,
            "object_fit": null,
            "object_position": null,
            "order": null,
            "overflow": null,
            "overflow_x": null,
            "overflow_y": null,
            "padding": null,
            "right": null,
            "top": null,
            "visibility": null,
            "width": null
          }
        },
        "174679f0ba1248389f13941b52799a68": {
          "model_module": "@jupyter-widgets/base",
          "model_name": "LayoutModel",
          "model_module_version": "1.2.0",
          "state": {
            "_model_module": "@jupyter-widgets/base",
            "_model_module_version": "1.2.0",
            "_model_name": "LayoutModel",
            "_view_count": null,
            "_view_module": "@jupyter-widgets/base",
            "_view_module_version": "1.2.0",
            "_view_name": "LayoutView",
            "align_content": null,
            "align_items": null,
            "align_self": null,
            "border": null,
            "bottom": null,
            "display": null,
            "flex": null,
            "flex_flow": null,
            "grid_area": null,
            "grid_auto_columns": null,
            "grid_auto_flow": null,
            "grid_auto_rows": null,
            "grid_column": null,
            "grid_gap": null,
            "grid_row": null,
            "grid_template_areas": null,
            "grid_template_columns": null,
            "grid_template_rows": null,
            "height": null,
            "justify_content": null,
            "justify_items": null,
            "left": null,
            "margin": null,
            "max_height": null,
            "max_width": null,
            "min_height": null,
            "min_width": null,
            "object_fit": null,
            "object_position": null,
            "order": null,
            "overflow": null,
            "overflow_x": null,
            "overflow_y": null,
            "padding": null,
            "right": null,
            "top": null,
            "visibility": null,
            "width": null
          }
        },
        "d6c0ba58f7f54f15a306bf5b852b6c59": {
          "model_module": "@jupyter-widgets/controls",
          "model_name": "DescriptionStyleModel",
          "model_module_version": "1.5.0",
          "state": {
            "_model_module": "@jupyter-widgets/controls",
            "_model_module_version": "1.5.0",
            "_model_name": "DescriptionStyleModel",
            "_view_count": null,
            "_view_module": "@jupyter-widgets/base",
            "_view_module_version": "1.2.0",
            "_view_name": "StyleView",
            "description_width": ""
          }
        },
        "ba516e383f394583bf1a627de23fe04c": {
          "model_module": "@jupyter-widgets/base",
          "model_name": "LayoutModel",
          "model_module_version": "1.2.0",
          "state": {
            "_model_module": "@jupyter-widgets/base",
            "_model_module_version": "1.2.0",
            "_model_name": "LayoutModel",
            "_view_count": null,
            "_view_module": "@jupyter-widgets/base",
            "_view_module_version": "1.2.0",
            "_view_name": "LayoutView",
            "align_content": null,
            "align_items": null,
            "align_self": null,
            "border": null,
            "bottom": null,
            "display": null,
            "flex": null,
            "flex_flow": null,
            "grid_area": null,
            "grid_auto_columns": null,
            "grid_auto_flow": null,
            "grid_auto_rows": null,
            "grid_column": null,
            "grid_gap": null,
            "grid_row": null,
            "grid_template_areas": null,
            "grid_template_columns": null,
            "grid_template_rows": null,
            "height": null,
            "justify_content": null,
            "justify_items": null,
            "left": null,
            "margin": null,
            "max_height": null,
            "max_width": null,
            "min_height": null,
            "min_width": null,
            "object_fit": null,
            "object_position": null,
            "order": null,
            "overflow": null,
            "overflow_x": null,
            "overflow_y": null,
            "padding": null,
            "right": null,
            "top": null,
            "visibility": null,
            "width": null
          }
        },
        "04b191f8846343b383d4294045d51545": {
          "model_module": "@jupyter-widgets/controls",
          "model_name": "ProgressStyleModel",
          "model_module_version": "1.5.0",
          "state": {
            "_model_module": "@jupyter-widgets/controls",
            "_model_module_version": "1.5.0",
            "_model_name": "ProgressStyleModel",
            "_view_count": null,
            "_view_module": "@jupyter-widgets/base",
            "_view_module_version": "1.2.0",
            "_view_name": "StyleView",
            "bar_color": null,
            "description_width": ""
          }
        },
        "4543a3f34b314f158dee0a163df9b187": {
          "model_module": "@jupyter-widgets/base",
          "model_name": "LayoutModel",
          "model_module_version": "1.2.0",
          "state": {
            "_model_module": "@jupyter-widgets/base",
            "_model_module_version": "1.2.0",
            "_model_name": "LayoutModel",
            "_view_count": null,
            "_view_module": "@jupyter-widgets/base",
            "_view_module_version": "1.2.0",
            "_view_name": "LayoutView",
            "align_content": null,
            "align_items": null,
            "align_self": null,
            "border": null,
            "bottom": null,
            "display": null,
            "flex": null,
            "flex_flow": null,
            "grid_area": null,
            "grid_auto_columns": null,
            "grid_auto_flow": null,
            "grid_auto_rows": null,
            "grid_column": null,
            "grid_gap": null,
            "grid_row": null,
            "grid_template_areas": null,
            "grid_template_columns": null,
            "grid_template_rows": null,
            "height": null,
            "justify_content": null,
            "justify_items": null,
            "left": null,
            "margin": null,
            "max_height": null,
            "max_width": null,
            "min_height": null,
            "min_width": null,
            "object_fit": null,
            "object_position": null,
            "order": null,
            "overflow": null,
            "overflow_x": null,
            "overflow_y": null,
            "padding": null,
            "right": null,
            "top": null,
            "visibility": null,
            "width": null
          }
        },
        "71030b8cba144ecbbfc074381da8be67": {
          "model_module": "@jupyter-widgets/controls",
          "model_name": "DescriptionStyleModel",
          "model_module_version": "1.5.0",
          "state": {
            "_model_module": "@jupyter-widgets/controls",
            "_model_module_version": "1.5.0",
            "_model_name": "DescriptionStyleModel",
            "_view_count": null,
            "_view_module": "@jupyter-widgets/base",
            "_view_module_version": "1.2.0",
            "_view_name": "StyleView",
            "description_width": ""
          }
        },
        "60c335e6ecba460fa8160082387b6c72": {
          "model_module": "@jupyter-widgets/controls",
          "model_name": "HBoxModel",
          "model_module_version": "1.5.0",
          "state": {
            "_dom_classes": [],
            "_model_module": "@jupyter-widgets/controls",
            "_model_module_version": "1.5.0",
            "_model_name": "HBoxModel",
            "_view_count": null,
            "_view_module": "@jupyter-widgets/controls",
            "_view_module_version": "1.5.0",
            "_view_name": "HBoxView",
            "box_style": "",
            "children": [
              "IPY_MODEL_fa505dc695ea407988a8b73bdcd20135",
              "IPY_MODEL_9a76310676794f6fa8879a09c3a77119",
              "IPY_MODEL_004ad686f1b445fca82d3fd6ac52afdf"
            ],
            "layout": "IPY_MODEL_5545097228e14d13802c48731c7ad18f"
          }
        },
        "fa505dc695ea407988a8b73bdcd20135": {
          "model_module": "@jupyter-widgets/controls",
          "model_name": "HTMLModel",
          "model_module_version": "1.5.0",
          "state": {
            "_dom_classes": [],
            "_model_module": "@jupyter-widgets/controls",
            "_model_module_version": "1.5.0",
            "_model_name": "HTMLModel",
            "_view_count": null,
            "_view_module": "@jupyter-widgets/controls",
            "_view_module_version": "1.5.0",
            "_view_name": "HTMLView",
            "description": "",
            "description_tooltip": null,
            "layout": "IPY_MODEL_4004195116a64db59f25599e04767d51",
            "placeholder": "​",
            "style": "IPY_MODEL_be42182d122a4e92a9c3bce930974607",
            "value": "100%"
          }
        },
        "9a76310676794f6fa8879a09c3a77119": {
          "model_module": "@jupyter-widgets/controls",
          "model_name": "FloatProgressModel",
          "model_module_version": "1.5.0",
          "state": {
            "_dom_classes": [],
            "_model_module": "@jupyter-widgets/controls",
            "_model_module_version": "1.5.0",
            "_model_name": "FloatProgressModel",
            "_view_count": null,
            "_view_module": "@jupyter-widgets/controls",
            "_view_module_version": "1.5.0",
            "_view_name": "ProgressView",
            "bar_style": "success",
            "description": "",
            "description_tooltip": null,
            "layout": "IPY_MODEL_af9b8d35e3cd41dd9ea08efeaa0cb8da",
            "max": 1,
            "min": 0,
            "orientation": "horizontal",
            "style": "IPY_MODEL_3554cc1ef8e546a1a33efdc13ea67283",
            "value": 1
          }
        },
        "004ad686f1b445fca82d3fd6ac52afdf": {
          "model_module": "@jupyter-widgets/controls",
          "model_name": "HTMLModel",
          "model_module_version": "1.5.0",
          "state": {
            "_dom_classes": [],
            "_model_module": "@jupyter-widgets/controls",
            "_model_module_version": "1.5.0",
            "_model_name": "HTMLModel",
            "_view_count": null,
            "_view_module": "@jupyter-widgets/controls",
            "_view_module_version": "1.5.0",
            "_view_name": "HTMLView",
            "description": "",
            "description_tooltip": null,
            "layout": "IPY_MODEL_25f3b9dd10fa4632923fee061b9c7867",
            "placeholder": "​",
            "style": "IPY_MODEL_85c048e8038c40f3988ca8c1645732aa",
            "value": " 1/1 [00:00&lt;00:00, 19.92ba/s]"
          }
        },
        "5545097228e14d13802c48731c7ad18f": {
          "model_module": "@jupyter-widgets/base",
          "model_name": "LayoutModel",
          "model_module_version": "1.2.0",
          "state": {
            "_model_module": "@jupyter-widgets/base",
            "_model_module_version": "1.2.0",
            "_model_name": "LayoutModel",
            "_view_count": null,
            "_view_module": "@jupyter-widgets/base",
            "_view_module_version": "1.2.0",
            "_view_name": "LayoutView",
            "align_content": null,
            "align_items": null,
            "align_self": null,
            "border": null,
            "bottom": null,
            "display": null,
            "flex": null,
            "flex_flow": null,
            "grid_area": null,
            "grid_auto_columns": null,
            "grid_auto_flow": null,
            "grid_auto_rows": null,
            "grid_column": null,
            "grid_gap": null,
            "grid_row": null,
            "grid_template_areas": null,
            "grid_template_columns": null,
            "grid_template_rows": null,
            "height": null,
            "justify_content": null,
            "justify_items": null,
            "left": null,
            "margin": null,
            "max_height": null,
            "max_width": null,
            "min_height": null,
            "min_width": null,
            "object_fit": null,
            "object_position": null,
            "order": null,
            "overflow": null,
            "overflow_x": null,
            "overflow_y": null,
            "padding": null,
            "right": null,
            "top": null,
            "visibility": null,
            "width": null
          }
        },
        "4004195116a64db59f25599e04767d51": {
          "model_module": "@jupyter-widgets/base",
          "model_name": "LayoutModel",
          "model_module_version": "1.2.0",
          "state": {
            "_model_module": "@jupyter-widgets/base",
            "_model_module_version": "1.2.0",
            "_model_name": "LayoutModel",
            "_view_count": null,
            "_view_module": "@jupyter-widgets/base",
            "_view_module_version": "1.2.0",
            "_view_name": "LayoutView",
            "align_content": null,
            "align_items": null,
            "align_self": null,
            "border": null,
            "bottom": null,
            "display": null,
            "flex": null,
            "flex_flow": null,
            "grid_area": null,
            "grid_auto_columns": null,
            "grid_auto_flow": null,
            "grid_auto_rows": null,
            "grid_column": null,
            "grid_gap": null,
            "grid_row": null,
            "grid_template_areas": null,
            "grid_template_columns": null,
            "grid_template_rows": null,
            "height": null,
            "justify_content": null,
            "justify_items": null,
            "left": null,
            "margin": null,
            "max_height": null,
            "max_width": null,
            "min_height": null,
            "min_width": null,
            "object_fit": null,
            "object_position": null,
            "order": null,
            "overflow": null,
            "overflow_x": null,
            "overflow_y": null,
            "padding": null,
            "right": null,
            "top": null,
            "visibility": null,
            "width": null
          }
        },
        "be42182d122a4e92a9c3bce930974607": {
          "model_module": "@jupyter-widgets/controls",
          "model_name": "DescriptionStyleModel",
          "model_module_version": "1.5.0",
          "state": {
            "_model_module": "@jupyter-widgets/controls",
            "_model_module_version": "1.5.0",
            "_model_name": "DescriptionStyleModel",
            "_view_count": null,
            "_view_module": "@jupyter-widgets/base",
            "_view_module_version": "1.2.0",
            "_view_name": "StyleView",
            "description_width": ""
          }
        },
        "af9b8d35e3cd41dd9ea08efeaa0cb8da": {
          "model_module": "@jupyter-widgets/base",
          "model_name": "LayoutModel",
          "model_module_version": "1.2.0",
          "state": {
            "_model_module": "@jupyter-widgets/base",
            "_model_module_version": "1.2.0",
            "_model_name": "LayoutModel",
            "_view_count": null,
            "_view_module": "@jupyter-widgets/base",
            "_view_module_version": "1.2.0",
            "_view_name": "LayoutView",
            "align_content": null,
            "align_items": null,
            "align_self": null,
            "border": null,
            "bottom": null,
            "display": null,
            "flex": null,
            "flex_flow": null,
            "grid_area": null,
            "grid_auto_columns": null,
            "grid_auto_flow": null,
            "grid_auto_rows": null,
            "grid_column": null,
            "grid_gap": null,
            "grid_row": null,
            "grid_template_areas": null,
            "grid_template_columns": null,
            "grid_template_rows": null,
            "height": null,
            "justify_content": null,
            "justify_items": null,
            "left": null,
            "margin": null,
            "max_height": null,
            "max_width": null,
            "min_height": null,
            "min_width": null,
            "object_fit": null,
            "object_position": null,
            "order": null,
            "overflow": null,
            "overflow_x": null,
            "overflow_y": null,
            "padding": null,
            "right": null,
            "top": null,
            "visibility": null,
            "width": null
          }
        },
        "3554cc1ef8e546a1a33efdc13ea67283": {
          "model_module": "@jupyter-widgets/controls",
          "model_name": "ProgressStyleModel",
          "model_module_version": "1.5.0",
          "state": {
            "_model_module": "@jupyter-widgets/controls",
            "_model_module_version": "1.5.0",
            "_model_name": "ProgressStyleModel",
            "_view_count": null,
            "_view_module": "@jupyter-widgets/base",
            "_view_module_version": "1.2.0",
            "_view_name": "StyleView",
            "bar_color": null,
            "description_width": ""
          }
        },
        "25f3b9dd10fa4632923fee061b9c7867": {
          "model_module": "@jupyter-widgets/base",
          "model_name": "LayoutModel",
          "model_module_version": "1.2.0",
          "state": {
            "_model_module": "@jupyter-widgets/base",
            "_model_module_version": "1.2.0",
            "_model_name": "LayoutModel",
            "_view_count": null,
            "_view_module": "@jupyter-widgets/base",
            "_view_module_version": "1.2.0",
            "_view_name": "LayoutView",
            "align_content": null,
            "align_items": null,
            "align_self": null,
            "border": null,
            "bottom": null,
            "display": null,
            "flex": null,
            "flex_flow": null,
            "grid_area": null,
            "grid_auto_columns": null,
            "grid_auto_flow": null,
            "grid_auto_rows": null,
            "grid_column": null,
            "grid_gap": null,
            "grid_row": null,
            "grid_template_areas": null,
            "grid_template_columns": null,
            "grid_template_rows": null,
            "height": null,
            "justify_content": null,
            "justify_items": null,
            "left": null,
            "margin": null,
            "max_height": null,
            "max_width": null,
            "min_height": null,
            "min_width": null,
            "object_fit": null,
            "object_position": null,
            "order": null,
            "overflow": null,
            "overflow_x": null,
            "overflow_y": null,
            "padding": null,
            "right": null,
            "top": null,
            "visibility": null,
            "width": null
          }
        },
        "85c048e8038c40f3988ca8c1645732aa": {
          "model_module": "@jupyter-widgets/controls",
          "model_name": "DescriptionStyleModel",
          "model_module_version": "1.5.0",
          "state": {
            "_model_module": "@jupyter-widgets/controls",
            "_model_module_version": "1.5.0",
            "_model_name": "DescriptionStyleModel",
            "_view_count": null,
            "_view_module": "@jupyter-widgets/base",
            "_view_module_version": "1.2.0",
            "_view_name": "StyleView",
            "description_width": ""
          }
        },
        "0f99bd48b3a34e028c7501ea9bb51f45": {
          "model_module": "@jupyter-widgets/controls",
          "model_name": "HBoxModel",
          "model_module_version": "1.5.0",
          "state": {
            "_dom_classes": [],
            "_model_module": "@jupyter-widgets/controls",
            "_model_module_version": "1.5.0",
            "_model_name": "HBoxModel",
            "_view_count": null,
            "_view_module": "@jupyter-widgets/controls",
            "_view_module_version": "1.5.0",
            "_view_name": "HBoxView",
            "box_style": "",
            "children": [
              "IPY_MODEL_f10a8c1d691041ffb0d2c294ca916ca8",
              "IPY_MODEL_5f1535fa2505491d9064004e4db649ba",
              "IPY_MODEL_0b01a3a15e164f22a8801fc3a9da257b"
            ],
            "layout": "IPY_MODEL_12895ff8a30249a8929da573053c234e"
          }
        },
        "f10a8c1d691041ffb0d2c294ca916ca8": {
          "model_module": "@jupyter-widgets/controls",
          "model_name": "HTMLModel",
          "model_module_version": "1.5.0",
          "state": {
            "_dom_classes": [],
            "_model_module": "@jupyter-widgets/controls",
            "_model_module_version": "1.5.0",
            "_model_name": "HTMLModel",
            "_view_count": null,
            "_view_module": "@jupyter-widgets/controls",
            "_view_module_version": "1.5.0",
            "_view_name": "HTMLView",
            "description": "",
            "description_tooltip": null,
            "layout": "IPY_MODEL_a87a1f6c9f1a4b1c8635190c07a966b0",
            "placeholder": "​",
            "style": "IPY_MODEL_39fa96570ab64f95b8a96bc670f75256",
            "value": "100%"
          }
        },
        "5f1535fa2505491d9064004e4db649ba": {
          "model_module": "@jupyter-widgets/controls",
          "model_name": "FloatProgressModel",
          "model_module_version": "1.5.0",
          "state": {
            "_dom_classes": [],
            "_model_module": "@jupyter-widgets/controls",
            "_model_module_version": "1.5.0",
            "_model_name": "FloatProgressModel",
            "_view_count": null,
            "_view_module": "@jupyter-widgets/controls",
            "_view_module_version": "1.5.0",
            "_view_name": "ProgressView",
            "bar_style": "success",
            "description": "",
            "description_tooltip": null,
            "layout": "IPY_MODEL_6dff09fd59a74792bf56732c8f65926a",
            "max": 5,
            "min": 0,
            "orientation": "horizontal",
            "style": "IPY_MODEL_1df66b939b3543d29446d66c2c0c09bd",
            "value": 5
          }
        },
        "0b01a3a15e164f22a8801fc3a9da257b": {
          "model_module": "@jupyter-widgets/controls",
          "model_name": "HTMLModel",
          "model_module_version": "1.5.0",
          "state": {
            "_dom_classes": [],
            "_model_module": "@jupyter-widgets/controls",
            "_model_module_version": "1.5.0",
            "_model_name": "HTMLModel",
            "_view_count": null,
            "_view_module": "@jupyter-widgets/controls",
            "_view_module_version": "1.5.0",
            "_view_name": "HTMLView",
            "description": "",
            "description_tooltip": null,
            "layout": "IPY_MODEL_5b7005dbdb954763a761b88779e1ad00",
            "placeholder": "​",
            "style": "IPY_MODEL_b0e4ee963b7e48d5bc3fb12c4085ad07",
            "value": " 5/5 [00:00&lt;00:00, 92.26ba/s]"
          }
        },
        "12895ff8a30249a8929da573053c234e": {
          "model_module": "@jupyter-widgets/base",
          "model_name": "LayoutModel",
          "model_module_version": "1.2.0",
          "state": {
            "_model_module": "@jupyter-widgets/base",
            "_model_module_version": "1.2.0",
            "_model_name": "LayoutModel",
            "_view_count": null,
            "_view_module": "@jupyter-widgets/base",
            "_view_module_version": "1.2.0",
            "_view_name": "LayoutView",
            "align_content": null,
            "align_items": null,
            "align_self": null,
            "border": null,
            "bottom": null,
            "display": null,
            "flex": null,
            "flex_flow": null,
            "grid_area": null,
            "grid_auto_columns": null,
            "grid_auto_flow": null,
            "grid_auto_rows": null,
            "grid_column": null,
            "grid_gap": null,
            "grid_row": null,
            "grid_template_areas": null,
            "grid_template_columns": null,
            "grid_template_rows": null,
            "height": null,
            "justify_content": null,
            "justify_items": null,
            "left": null,
            "margin": null,
            "max_height": null,
            "max_width": null,
            "min_height": null,
            "min_width": null,
            "object_fit": null,
            "object_position": null,
            "order": null,
            "overflow": null,
            "overflow_x": null,
            "overflow_y": null,
            "padding": null,
            "right": null,
            "top": null,
            "visibility": null,
            "width": null
          }
        },
        "a87a1f6c9f1a4b1c8635190c07a966b0": {
          "model_module": "@jupyter-widgets/base",
          "model_name": "LayoutModel",
          "model_module_version": "1.2.0",
          "state": {
            "_model_module": "@jupyter-widgets/base",
            "_model_module_version": "1.2.0",
            "_model_name": "LayoutModel",
            "_view_count": null,
            "_view_module": "@jupyter-widgets/base",
            "_view_module_version": "1.2.0",
            "_view_name": "LayoutView",
            "align_content": null,
            "align_items": null,
            "align_self": null,
            "border": null,
            "bottom": null,
            "display": null,
            "flex": null,
            "flex_flow": null,
            "grid_area": null,
            "grid_auto_columns": null,
            "grid_auto_flow": null,
            "grid_auto_rows": null,
            "grid_column": null,
            "grid_gap": null,
            "grid_row": null,
            "grid_template_areas": null,
            "grid_template_columns": null,
            "grid_template_rows": null,
            "height": null,
            "justify_content": null,
            "justify_items": null,
            "left": null,
            "margin": null,
            "max_height": null,
            "max_width": null,
            "min_height": null,
            "min_width": null,
            "object_fit": null,
            "object_position": null,
            "order": null,
            "overflow": null,
            "overflow_x": null,
            "overflow_y": null,
            "padding": null,
            "right": null,
            "top": null,
            "visibility": null,
            "width": null
          }
        },
        "39fa96570ab64f95b8a96bc670f75256": {
          "model_module": "@jupyter-widgets/controls",
          "model_name": "DescriptionStyleModel",
          "model_module_version": "1.5.0",
          "state": {
            "_model_module": "@jupyter-widgets/controls",
            "_model_module_version": "1.5.0",
            "_model_name": "DescriptionStyleModel",
            "_view_count": null,
            "_view_module": "@jupyter-widgets/base",
            "_view_module_version": "1.2.0",
            "_view_name": "StyleView",
            "description_width": ""
          }
        },
        "6dff09fd59a74792bf56732c8f65926a": {
          "model_module": "@jupyter-widgets/base",
          "model_name": "LayoutModel",
          "model_module_version": "1.2.0",
          "state": {
            "_model_module": "@jupyter-widgets/base",
            "_model_module_version": "1.2.0",
            "_model_name": "LayoutModel",
            "_view_count": null,
            "_view_module": "@jupyter-widgets/base",
            "_view_module_version": "1.2.0",
            "_view_name": "LayoutView",
            "align_content": null,
            "align_items": null,
            "align_self": null,
            "border": null,
            "bottom": null,
            "display": null,
            "flex": null,
            "flex_flow": null,
            "grid_area": null,
            "grid_auto_columns": null,
            "grid_auto_flow": null,
            "grid_auto_rows": null,
            "grid_column": null,
            "grid_gap": null,
            "grid_row": null,
            "grid_template_areas": null,
            "grid_template_columns": null,
            "grid_template_rows": null,
            "height": null,
            "justify_content": null,
            "justify_items": null,
            "left": null,
            "margin": null,
            "max_height": null,
            "max_width": null,
            "min_height": null,
            "min_width": null,
            "object_fit": null,
            "object_position": null,
            "order": null,
            "overflow": null,
            "overflow_x": null,
            "overflow_y": null,
            "padding": null,
            "right": null,
            "top": null,
            "visibility": null,
            "width": null
          }
        },
        "1df66b939b3543d29446d66c2c0c09bd": {
          "model_module": "@jupyter-widgets/controls",
          "model_name": "ProgressStyleModel",
          "model_module_version": "1.5.0",
          "state": {
            "_model_module": "@jupyter-widgets/controls",
            "_model_module_version": "1.5.0",
            "_model_name": "ProgressStyleModel",
            "_view_count": null,
            "_view_module": "@jupyter-widgets/base",
            "_view_module_version": "1.2.0",
            "_view_name": "StyleView",
            "bar_color": null,
            "description_width": ""
          }
        },
        "5b7005dbdb954763a761b88779e1ad00": {
          "model_module": "@jupyter-widgets/base",
          "model_name": "LayoutModel",
          "model_module_version": "1.2.0",
          "state": {
            "_model_module": "@jupyter-widgets/base",
            "_model_module_version": "1.2.0",
            "_model_name": "LayoutModel",
            "_view_count": null,
            "_view_module": "@jupyter-widgets/base",
            "_view_module_version": "1.2.0",
            "_view_name": "LayoutView",
            "align_content": null,
            "align_items": null,
            "align_self": null,
            "border": null,
            "bottom": null,
            "display": null,
            "flex": null,
            "flex_flow": null,
            "grid_area": null,
            "grid_auto_columns": null,
            "grid_auto_flow": null,
            "grid_auto_rows": null,
            "grid_column": null,
            "grid_gap": null,
            "grid_row": null,
            "grid_template_areas": null,
            "grid_template_columns": null,
            "grid_template_rows": null,
            "height": null,
            "justify_content": null,
            "justify_items": null,
            "left": null,
            "margin": null,
            "max_height": null,
            "max_width": null,
            "min_height": null,
            "min_width": null,
            "object_fit": null,
            "object_position": null,
            "order": null,
            "overflow": null,
            "overflow_x": null,
            "overflow_y": null,
            "padding": null,
            "right": null,
            "top": null,
            "visibility": null,
            "width": null
          }
        },
        "b0e4ee963b7e48d5bc3fb12c4085ad07": {
          "model_module": "@jupyter-widgets/controls",
          "model_name": "DescriptionStyleModel",
          "model_module_version": "1.5.0",
          "state": {
            "_model_module": "@jupyter-widgets/controls",
            "_model_module_version": "1.5.0",
            "_model_name": "DescriptionStyleModel",
            "_view_count": null,
            "_view_module": "@jupyter-widgets/base",
            "_view_module_version": "1.2.0",
            "_view_name": "StyleView",
            "description_width": ""
          }
        },
        "e063bb01959f418ebfa744349598e879": {
          "model_module": "@jupyter-widgets/controls",
          "model_name": "HBoxModel",
          "model_module_version": "1.5.0",
          "state": {
            "_dom_classes": [],
            "_model_module": "@jupyter-widgets/controls",
            "_model_module_version": "1.5.0",
            "_model_name": "HBoxModel",
            "_view_count": null,
            "_view_module": "@jupyter-widgets/controls",
            "_view_module_version": "1.5.0",
            "_view_name": "HBoxView",
            "box_style": "",
            "children": [
              "IPY_MODEL_d328906379e0498cb1efc691702ad80e",
              "IPY_MODEL_ba93fc60608f41d0bc3fb4b4ec3f2896",
              "IPY_MODEL_0a238f2776784076a17bdb2abba211a1"
            ],
            "layout": "IPY_MODEL_1fea96a2db2e48dea15e97fd85c9dfeb"
          }
        },
        "d328906379e0498cb1efc691702ad80e": {
          "model_module": "@jupyter-widgets/controls",
          "model_name": "HTMLModel",
          "model_module_version": "1.5.0",
          "state": {
            "_dom_classes": [],
            "_model_module": "@jupyter-widgets/controls",
            "_model_module_version": "1.5.0",
            "_model_name": "HTMLModel",
            "_view_count": null,
            "_view_module": "@jupyter-widgets/controls",
            "_view_module_version": "1.5.0",
            "_view_name": "HTMLView",
            "description": "",
            "description_tooltip": null,
            "layout": "IPY_MODEL_0d00c153c1e14d08a6b10a12ce1d16d2",
            "placeholder": "​",
            "style": "IPY_MODEL_c54f8ba49e7c46579a6f87c72086e4c9",
            "value": "Downloading: "
          }
        },
        "ba93fc60608f41d0bc3fb4b4ec3f2896": {
          "model_module": "@jupyter-widgets/controls",
          "model_name": "FloatProgressModel",
          "model_module_version": "1.5.0",
          "state": {
            "_dom_classes": [],
            "_model_module": "@jupyter-widgets/controls",
            "_model_module_version": "1.5.0",
            "_model_name": "FloatProgressModel",
            "_view_count": null,
            "_view_module": "@jupyter-widgets/controls",
            "_view_module_version": "1.5.0",
            "_view_name": "ProgressView",
            "bar_style": "success",
            "description": "",
            "description_tooltip": null,
            "layout": "IPY_MODEL_a292eedad99d46d7a6e9781218358027",
            "max": 1901,
            "min": 0,
            "orientation": "horizontal",
            "style": "IPY_MODEL_ba2988336de94ccb89f1f4a8e0fda704",
            "value": 1901
          }
        },
        "0a238f2776784076a17bdb2abba211a1": {
          "model_module": "@jupyter-widgets/controls",
          "model_name": "HTMLModel",
          "model_module_version": "1.5.0",
          "state": {
            "_dom_classes": [],
            "_model_module": "@jupyter-widgets/controls",
            "_model_module_version": "1.5.0",
            "_model_name": "HTMLModel",
            "_view_count": null,
            "_view_module": "@jupyter-widgets/controls",
            "_view_module_version": "1.5.0",
            "_view_name": "HTMLView",
            "description": "",
            "description_tooltip": null,
            "layout": "IPY_MODEL_db77694cbcf841fc8636e5f0324de74f",
            "placeholder": "​",
            "style": "IPY_MODEL_19f1a34ddea045bf89266db7b37d156d",
            "value": " 4.48k/? [00:00&lt;00:00, 147kB/s]"
          }
        },
        "1fea96a2db2e48dea15e97fd85c9dfeb": {
          "model_module": "@jupyter-widgets/base",
          "model_name": "LayoutModel",
          "model_module_version": "1.2.0",
          "state": {
            "_model_module": "@jupyter-widgets/base",
            "_model_module_version": "1.2.0",
            "_model_name": "LayoutModel",
            "_view_count": null,
            "_view_module": "@jupyter-widgets/base",
            "_view_module_version": "1.2.0",
            "_view_name": "LayoutView",
            "align_content": null,
            "align_items": null,
            "align_self": null,
            "border": null,
            "bottom": null,
            "display": null,
            "flex": null,
            "flex_flow": null,
            "grid_area": null,
            "grid_auto_columns": null,
            "grid_auto_flow": null,
            "grid_auto_rows": null,
            "grid_column": null,
            "grid_gap": null,
            "grid_row": null,
            "grid_template_areas": null,
            "grid_template_columns": null,
            "grid_template_rows": null,
            "height": null,
            "justify_content": null,
            "justify_items": null,
            "left": null,
            "margin": null,
            "max_height": null,
            "max_width": null,
            "min_height": null,
            "min_width": null,
            "object_fit": null,
            "object_position": null,
            "order": null,
            "overflow": null,
            "overflow_x": null,
            "overflow_y": null,
            "padding": null,
            "right": null,
            "top": null,
            "visibility": null,
            "width": null
          }
        },
        "0d00c153c1e14d08a6b10a12ce1d16d2": {
          "model_module": "@jupyter-widgets/base",
          "model_name": "LayoutModel",
          "model_module_version": "1.2.0",
          "state": {
            "_model_module": "@jupyter-widgets/base",
            "_model_module_version": "1.2.0",
            "_model_name": "LayoutModel",
            "_view_count": null,
            "_view_module": "@jupyter-widgets/base",
            "_view_module_version": "1.2.0",
            "_view_name": "LayoutView",
            "align_content": null,
            "align_items": null,
            "align_self": null,
            "border": null,
            "bottom": null,
            "display": null,
            "flex": null,
            "flex_flow": null,
            "grid_area": null,
            "grid_auto_columns": null,
            "grid_auto_flow": null,
            "grid_auto_rows": null,
            "grid_column": null,
            "grid_gap": null,
            "grid_row": null,
            "grid_template_areas": null,
            "grid_template_columns": null,
            "grid_template_rows": null,
            "height": null,
            "justify_content": null,
            "justify_items": null,
            "left": null,
            "margin": null,
            "max_height": null,
            "max_width": null,
            "min_height": null,
            "min_width": null,
            "object_fit": null,
            "object_position": null,
            "order": null,
            "overflow": null,
            "overflow_x": null,
            "overflow_y": null,
            "padding": null,
            "right": null,
            "top": null,
            "visibility": null,
            "width": null
          }
        },
        "c54f8ba49e7c46579a6f87c72086e4c9": {
          "model_module": "@jupyter-widgets/controls",
          "model_name": "DescriptionStyleModel",
          "model_module_version": "1.5.0",
          "state": {
            "_model_module": "@jupyter-widgets/controls",
            "_model_module_version": "1.5.0",
            "_model_name": "DescriptionStyleModel",
            "_view_count": null,
            "_view_module": "@jupyter-widgets/base",
            "_view_module_version": "1.2.0",
            "_view_name": "StyleView",
            "description_width": ""
          }
        },
        "a292eedad99d46d7a6e9781218358027": {
          "model_module": "@jupyter-widgets/base",
          "model_name": "LayoutModel",
          "model_module_version": "1.2.0",
          "state": {
            "_model_module": "@jupyter-widgets/base",
            "_model_module_version": "1.2.0",
            "_model_name": "LayoutModel",
            "_view_count": null,
            "_view_module": "@jupyter-widgets/base",
            "_view_module_version": "1.2.0",
            "_view_name": "LayoutView",
            "align_content": null,
            "align_items": null,
            "align_self": null,
            "border": null,
            "bottom": null,
            "display": null,
            "flex": null,
            "flex_flow": null,
            "grid_area": null,
            "grid_auto_columns": null,
            "grid_auto_flow": null,
            "grid_auto_rows": null,
            "grid_column": null,
            "grid_gap": null,
            "grid_row": null,
            "grid_template_areas": null,
            "grid_template_columns": null,
            "grid_template_rows": null,
            "height": null,
            "justify_content": null,
            "justify_items": null,
            "left": null,
            "margin": null,
            "max_height": null,
            "max_width": null,
            "min_height": null,
            "min_width": null,
            "object_fit": null,
            "object_position": null,
            "order": null,
            "overflow": null,
            "overflow_x": null,
            "overflow_y": null,
            "padding": null,
            "right": null,
            "top": null,
            "visibility": null,
            "width": null
          }
        },
        "ba2988336de94ccb89f1f4a8e0fda704": {
          "model_module": "@jupyter-widgets/controls",
          "model_name": "ProgressStyleModel",
          "model_module_version": "1.5.0",
          "state": {
            "_model_module": "@jupyter-widgets/controls",
            "_model_module_version": "1.5.0",
            "_model_name": "ProgressStyleModel",
            "_view_count": null,
            "_view_module": "@jupyter-widgets/base",
            "_view_module_version": "1.2.0",
            "_view_name": "StyleView",
            "bar_color": null,
            "description_width": ""
          }
        },
        "db77694cbcf841fc8636e5f0324de74f": {
          "model_module": "@jupyter-widgets/base",
          "model_name": "LayoutModel",
          "model_module_version": "1.2.0",
          "state": {
            "_model_module": "@jupyter-widgets/base",
            "_model_module_version": "1.2.0",
            "_model_name": "LayoutModel",
            "_view_count": null,
            "_view_module": "@jupyter-widgets/base",
            "_view_module_version": "1.2.0",
            "_view_name": "LayoutView",
            "align_content": null,
            "align_items": null,
            "align_self": null,
            "border": null,
            "bottom": null,
            "display": null,
            "flex": null,
            "flex_flow": null,
            "grid_area": null,
            "grid_auto_columns": null,
            "grid_auto_flow": null,
            "grid_auto_rows": null,
            "grid_column": null,
            "grid_gap": null,
            "grid_row": null,
            "grid_template_areas": null,
            "grid_template_columns": null,
            "grid_template_rows": null,
            "height": null,
            "justify_content": null,
            "justify_items": null,
            "left": null,
            "margin": null,
            "max_height": null,
            "max_width": null,
            "min_height": null,
            "min_width": null,
            "object_fit": null,
            "object_position": null,
            "order": null,
            "overflow": null,
            "overflow_x": null,
            "overflow_y": null,
            "padding": null,
            "right": null,
            "top": null,
            "visibility": null,
            "width": null
          }
        },
        "19f1a34ddea045bf89266db7b37d156d": {
          "model_module": "@jupyter-widgets/controls",
          "model_name": "DescriptionStyleModel",
          "model_module_version": "1.5.0",
          "state": {
            "_model_module": "@jupyter-widgets/controls",
            "_model_module_version": "1.5.0",
            "_model_name": "DescriptionStyleModel",
            "_view_count": null,
            "_view_module": "@jupyter-widgets/base",
            "_view_module_version": "1.2.0",
            "_view_name": "StyleView",
            "description_width": ""
          }
        },
        "ceabd6546b6d485ab1fc092cc81feadb": {
          "model_module": "@jupyter-widgets/controls",
          "model_name": "HBoxModel",
          "model_module_version": "1.5.0",
          "state": {
            "_dom_classes": [],
            "_model_module": "@jupyter-widgets/controls",
            "_model_module_version": "1.5.0",
            "_model_name": "HBoxModel",
            "_view_count": null,
            "_view_module": "@jupyter-widgets/controls",
            "_view_module_version": "1.5.0",
            "_view_name": "HBoxView",
            "box_style": "",
            "children": [
              "IPY_MODEL_264c018c62994d45bc900698706c3d86",
              "IPY_MODEL_3dc81d9c0a064d088e9ae41f0f84320a",
              "IPY_MODEL_386effa88f3147349c3d7f9710fa8e84"
            ],
            "layout": "IPY_MODEL_65e7c31ab26b4a9c8cc0a0de212533aa"
          }
        },
        "264c018c62994d45bc900698706c3d86": {
          "model_module": "@jupyter-widgets/controls",
          "model_name": "HTMLModel",
          "model_module_version": "1.5.0",
          "state": {
            "_dom_classes": [],
            "_model_module": "@jupyter-widgets/controls",
            "_model_module_version": "1.5.0",
            "_model_name": "HTMLModel",
            "_view_count": null,
            "_view_module": "@jupyter-widgets/controls",
            "_view_module_version": "1.5.0",
            "_view_name": "HTMLView",
            "description": "",
            "description_tooltip": null,
            "layout": "IPY_MODEL_294c2a90c188477fb6ec9b755e534839",
            "placeholder": "​",
            "style": "IPY_MODEL_f08b576c87e245c8b47f8667af141fc9",
            "value": "Upload file pytorch_model.bin: 100%"
          }
        },
        "3dc81d9c0a064d088e9ae41f0f84320a": {
          "model_module": "@jupyter-widgets/controls",
          "model_name": "FloatProgressModel",
          "model_module_version": "1.5.0",
          "state": {
            "_dom_classes": [],
            "_model_module": "@jupyter-widgets/controls",
            "_model_module_version": "1.5.0",
            "_model_name": "FloatProgressModel",
            "_view_count": null,
            "_view_module": "@jupyter-widgets/controls",
            "_view_module_version": "1.5.0",
            "_view_name": "ProgressView",
            "bar_style": "success",
            "description": "",
            "description_tooltip": null,
            "layout": "IPY_MODEL_0d84a295725e41baad9001a95dd3d771",
            "max": 1262053361,
            "min": 0,
            "orientation": "horizontal",
            "style": "IPY_MODEL_666bd924c16246c2bfae5caeef8ebc2f",
            "value": 1262053361
          }
        },
        "386effa88f3147349c3d7f9710fa8e84": {
          "model_module": "@jupyter-widgets/controls",
          "model_name": "HTMLModel",
          "model_module_version": "1.5.0",
          "state": {
            "_dom_classes": [],
            "_model_module": "@jupyter-widgets/controls",
            "_model_module_version": "1.5.0",
            "_model_name": "HTMLModel",
            "_view_count": null,
            "_view_module": "@jupyter-widgets/controls",
            "_view_module_version": "1.5.0",
            "_view_name": "HTMLView",
            "description": "",
            "description_tooltip": null,
            "layout": "IPY_MODEL_f121793cc7fd403c810997ce07a43c89",
            "placeholder": "​",
            "style": "IPY_MODEL_7cf5bcbaac354239b00d6ebc3cc762b6",
            "value": " 1.18G/1.18G [20:32&lt;00:00, 691kB/s]"
          }
        },
        "65e7c31ab26b4a9c8cc0a0de212533aa": {
          "model_module": "@jupyter-widgets/base",
          "model_name": "LayoutModel",
          "model_module_version": "1.2.0",
          "state": {
            "_model_module": "@jupyter-widgets/base",
            "_model_module_version": "1.2.0",
            "_model_name": "LayoutModel",
            "_view_count": null,
            "_view_module": "@jupyter-widgets/base",
            "_view_module_version": "1.2.0",
            "_view_name": "LayoutView",
            "align_content": null,
            "align_items": null,
            "align_self": null,
            "border": null,
            "bottom": null,
            "display": null,
            "flex": null,
            "flex_flow": null,
            "grid_area": null,
            "grid_auto_columns": null,
            "grid_auto_flow": null,
            "grid_auto_rows": null,
            "grid_column": null,
            "grid_gap": null,
            "grid_row": null,
            "grid_template_areas": null,
            "grid_template_columns": null,
            "grid_template_rows": null,
            "height": null,
            "justify_content": null,
            "justify_items": null,
            "left": null,
            "margin": null,
            "max_height": null,
            "max_width": null,
            "min_height": null,
            "min_width": null,
            "object_fit": null,
            "object_position": null,
            "order": null,
            "overflow": null,
            "overflow_x": null,
            "overflow_y": null,
            "padding": null,
            "right": null,
            "top": null,
            "visibility": null,
            "width": null
          }
        },
        "294c2a90c188477fb6ec9b755e534839": {
          "model_module": "@jupyter-widgets/base",
          "model_name": "LayoutModel",
          "model_module_version": "1.2.0",
          "state": {
            "_model_module": "@jupyter-widgets/base",
            "_model_module_version": "1.2.0",
            "_model_name": "LayoutModel",
            "_view_count": null,
            "_view_module": "@jupyter-widgets/base",
            "_view_module_version": "1.2.0",
            "_view_name": "LayoutView",
            "align_content": null,
            "align_items": null,
            "align_self": null,
            "border": null,
            "bottom": null,
            "display": null,
            "flex": null,
            "flex_flow": null,
            "grid_area": null,
            "grid_auto_columns": null,
            "grid_auto_flow": null,
            "grid_auto_rows": null,
            "grid_column": null,
            "grid_gap": null,
            "grid_row": null,
            "grid_template_areas": null,
            "grid_template_columns": null,
            "grid_template_rows": null,
            "height": null,
            "justify_content": null,
            "justify_items": null,
            "left": null,
            "margin": null,
            "max_height": null,
            "max_width": null,
            "min_height": null,
            "min_width": null,
            "object_fit": null,
            "object_position": null,
            "order": null,
            "overflow": null,
            "overflow_x": null,
            "overflow_y": null,
            "padding": null,
            "right": null,
            "top": null,
            "visibility": null,
            "width": null
          }
        },
        "f08b576c87e245c8b47f8667af141fc9": {
          "model_module": "@jupyter-widgets/controls",
          "model_name": "DescriptionStyleModel",
          "model_module_version": "1.5.0",
          "state": {
            "_model_module": "@jupyter-widgets/controls",
            "_model_module_version": "1.5.0",
            "_model_name": "DescriptionStyleModel",
            "_view_count": null,
            "_view_module": "@jupyter-widgets/base",
            "_view_module_version": "1.2.0",
            "_view_name": "StyleView",
            "description_width": ""
          }
        },
        "0d84a295725e41baad9001a95dd3d771": {
          "model_module": "@jupyter-widgets/base",
          "model_name": "LayoutModel",
          "model_module_version": "1.2.0",
          "state": {
            "_model_module": "@jupyter-widgets/base",
            "_model_module_version": "1.2.0",
            "_model_name": "LayoutModel",
            "_view_count": null,
            "_view_module": "@jupyter-widgets/base",
            "_view_module_version": "1.2.0",
            "_view_name": "LayoutView",
            "align_content": null,
            "align_items": null,
            "align_self": null,
            "border": null,
            "bottom": null,
            "display": null,
            "flex": null,
            "flex_flow": null,
            "grid_area": null,
            "grid_auto_columns": null,
            "grid_auto_flow": null,
            "grid_auto_rows": null,
            "grid_column": null,
            "grid_gap": null,
            "grid_row": null,
            "grid_template_areas": null,
            "grid_template_columns": null,
            "grid_template_rows": null,
            "height": null,
            "justify_content": null,
            "justify_items": null,
            "left": null,
            "margin": null,
            "max_height": null,
            "max_width": null,
            "min_height": null,
            "min_width": null,
            "object_fit": null,
            "object_position": null,
            "order": null,
            "overflow": null,
            "overflow_x": null,
            "overflow_y": null,
            "padding": null,
            "right": null,
            "top": null,
            "visibility": null,
            "width": null
          }
        },
        "666bd924c16246c2bfae5caeef8ebc2f": {
          "model_module": "@jupyter-widgets/controls",
          "model_name": "ProgressStyleModel",
          "model_module_version": "1.5.0",
          "state": {
            "_model_module": "@jupyter-widgets/controls",
            "_model_module_version": "1.5.0",
            "_model_name": "ProgressStyleModel",
            "_view_count": null,
            "_view_module": "@jupyter-widgets/base",
            "_view_module_version": "1.2.0",
            "_view_name": "StyleView",
            "bar_color": null,
            "description_width": ""
          }
        },
        "f121793cc7fd403c810997ce07a43c89": {
          "model_module": "@jupyter-widgets/base",
          "model_name": "LayoutModel",
          "model_module_version": "1.2.0",
          "state": {
            "_model_module": "@jupyter-widgets/base",
            "_model_module_version": "1.2.0",
            "_model_name": "LayoutModel",
            "_view_count": null,
            "_view_module": "@jupyter-widgets/base",
            "_view_module_version": "1.2.0",
            "_view_name": "LayoutView",
            "align_content": null,
            "align_items": null,
            "align_self": null,
            "border": null,
            "bottom": null,
            "display": null,
            "flex": null,
            "flex_flow": null,
            "grid_area": null,
            "grid_auto_columns": null,
            "grid_auto_flow": null,
            "grid_auto_rows": null,
            "grid_column": null,
            "grid_gap": null,
            "grid_row": null,
            "grid_template_areas": null,
            "grid_template_columns": null,
            "grid_template_rows": null,
            "height": null,
            "justify_content": null,
            "justify_items": null,
            "left": null,
            "margin": null,
            "max_height": null,
            "max_width": null,
            "min_height": null,
            "min_width": null,
            "object_fit": null,
            "object_position": null,
            "order": null,
            "overflow": null,
            "overflow_x": null,
            "overflow_y": null,
            "padding": null,
            "right": null,
            "top": null,
            "visibility": null,
            "width": null
          }
        },
        "7cf5bcbaac354239b00d6ebc3cc762b6": {
          "model_module": "@jupyter-widgets/controls",
          "model_name": "DescriptionStyleModel",
          "model_module_version": "1.5.0",
          "state": {
            "_model_module": "@jupyter-widgets/controls",
            "_model_module_version": "1.5.0",
            "_model_name": "DescriptionStyleModel",
            "_view_count": null,
            "_view_module": "@jupyter-widgets/base",
            "_view_module_version": "1.2.0",
            "_view_name": "StyleView",
            "description_width": ""
          }
        },
        "63505084e9e24ce7bd2fe66f11d4dec9": {
          "model_module": "@jupyter-widgets/controls",
          "model_name": "HBoxModel",
          "model_module_version": "1.5.0",
          "state": {
            "_dom_classes": [],
            "_model_module": "@jupyter-widgets/controls",
            "_model_module_version": "1.5.0",
            "_model_name": "HBoxModel",
            "_view_count": null,
            "_view_module": "@jupyter-widgets/controls",
            "_view_module_version": "1.5.0",
            "_view_name": "HBoxView",
            "box_style": "",
            "children": [
              "IPY_MODEL_b2d471054e1c48ecb1fc0360579b7ef0",
              "IPY_MODEL_a30392c98f024ca3b403dde02da59566",
              "IPY_MODEL_39146db1f1a448ba8290db21a349a374"
            ],
            "layout": "IPY_MODEL_2af737edf259444286e5d3d99357799e"
          }
        },
        "b2d471054e1c48ecb1fc0360579b7ef0": {
          "model_module": "@jupyter-widgets/controls",
          "model_name": "HTMLModel",
          "model_module_version": "1.5.0",
          "state": {
            "_dom_classes": [],
            "_model_module": "@jupyter-widgets/controls",
            "_model_module_version": "1.5.0",
            "_model_name": "HTMLModel",
            "_view_count": null,
            "_view_module": "@jupyter-widgets/controls",
            "_view_module_version": "1.5.0",
            "_view_name": "HTMLView",
            "description": "",
            "description_tooltip": null,
            "layout": "IPY_MODEL_87daa22c48184b38933728e2d5fac24b",
            "placeholder": "​",
            "style": "IPY_MODEL_bc74cd1802324c4eb894bf7365927887",
            "value": "Upload file runs/Apr22_04-54-38_e573a465c5a3/events.out.tfevents.1650603505.e573a465c5a3.96.0: 100%"
          }
        },
        "a30392c98f024ca3b403dde02da59566": {
          "model_module": "@jupyter-widgets/controls",
          "model_name": "FloatProgressModel",
          "model_module_version": "1.5.0",
          "state": {
            "_dom_classes": [],
            "_model_module": "@jupyter-widgets/controls",
            "_model_module_version": "1.5.0",
            "_model_name": "FloatProgressModel",
            "_view_count": null,
            "_view_module": "@jupyter-widgets/controls",
            "_view_module_version": "1.5.0",
            "_view_name": "ProgressView",
            "bar_style": "success",
            "description": "",
            "description_tooltip": null,
            "layout": "IPY_MODEL_0728c333c5ed4859a56f32e247298ba9",
            "max": 7656,
            "min": 0,
            "orientation": "horizontal",
            "style": "IPY_MODEL_e2efea5ae0ee4da38555d05631bf9a16",
            "value": 7656
          }
        },
        "39146db1f1a448ba8290db21a349a374": {
          "model_module": "@jupyter-widgets/controls",
          "model_name": "HTMLModel",
          "model_module_version": "1.5.0",
          "state": {
            "_dom_classes": [],
            "_model_module": "@jupyter-widgets/controls",
            "_model_module_version": "1.5.0",
            "_model_name": "HTMLModel",
            "_view_count": null,
            "_view_module": "@jupyter-widgets/controls",
            "_view_module_version": "1.5.0",
            "_view_name": "HTMLView",
            "description": "",
            "description_tooltip": null,
            "layout": "IPY_MODEL_d1f13aaf90564543a4e1edf2753e6d39",
            "placeholder": "​",
            "style": "IPY_MODEL_8cda6edb9527440d9fae1c2a9caba1a7",
            "value": " 7.48k/7.48k [20:32&lt;00:00, 3.43B/s]"
          }
        },
        "2af737edf259444286e5d3d99357799e": {
          "model_module": "@jupyter-widgets/base",
          "model_name": "LayoutModel",
          "model_module_version": "1.2.0",
          "state": {
            "_model_module": "@jupyter-widgets/base",
            "_model_module_version": "1.2.0",
            "_model_name": "LayoutModel",
            "_view_count": null,
            "_view_module": "@jupyter-widgets/base",
            "_view_module_version": "1.2.0",
            "_view_name": "LayoutView",
            "align_content": null,
            "align_items": null,
            "align_self": null,
            "border": null,
            "bottom": null,
            "display": null,
            "flex": null,
            "flex_flow": null,
            "grid_area": null,
            "grid_auto_columns": null,
            "grid_auto_flow": null,
            "grid_auto_rows": null,
            "grid_column": null,
            "grid_gap": null,
            "grid_row": null,
            "grid_template_areas": null,
            "grid_template_columns": null,
            "grid_template_rows": null,
            "height": null,
            "justify_content": null,
            "justify_items": null,
            "left": null,
            "margin": null,
            "max_height": null,
            "max_width": null,
            "min_height": null,
            "min_width": null,
            "object_fit": null,
            "object_position": null,
            "order": null,
            "overflow": null,
            "overflow_x": null,
            "overflow_y": null,
            "padding": null,
            "right": null,
            "top": null,
            "visibility": null,
            "width": null
          }
        },
        "87daa22c48184b38933728e2d5fac24b": {
          "model_module": "@jupyter-widgets/base",
          "model_name": "LayoutModel",
          "model_module_version": "1.2.0",
          "state": {
            "_model_module": "@jupyter-widgets/base",
            "_model_module_version": "1.2.0",
            "_model_name": "LayoutModel",
            "_view_count": null,
            "_view_module": "@jupyter-widgets/base",
            "_view_module_version": "1.2.0",
            "_view_name": "LayoutView",
            "align_content": null,
            "align_items": null,
            "align_self": null,
            "border": null,
            "bottom": null,
            "display": null,
            "flex": null,
            "flex_flow": null,
            "grid_area": null,
            "grid_auto_columns": null,
            "grid_auto_flow": null,
            "grid_auto_rows": null,
            "grid_column": null,
            "grid_gap": null,
            "grid_row": null,
            "grid_template_areas": null,
            "grid_template_columns": null,
            "grid_template_rows": null,
            "height": null,
            "justify_content": null,
            "justify_items": null,
            "left": null,
            "margin": null,
            "max_height": null,
            "max_width": null,
            "min_height": null,
            "min_width": null,
            "object_fit": null,
            "object_position": null,
            "order": null,
            "overflow": null,
            "overflow_x": null,
            "overflow_y": null,
            "padding": null,
            "right": null,
            "top": null,
            "visibility": null,
            "width": null
          }
        },
        "bc74cd1802324c4eb894bf7365927887": {
          "model_module": "@jupyter-widgets/controls",
          "model_name": "DescriptionStyleModel",
          "model_module_version": "1.5.0",
          "state": {
            "_model_module": "@jupyter-widgets/controls",
            "_model_module_version": "1.5.0",
            "_model_name": "DescriptionStyleModel",
            "_view_count": null,
            "_view_module": "@jupyter-widgets/base",
            "_view_module_version": "1.2.0",
            "_view_name": "StyleView",
            "description_width": ""
          }
        },
        "0728c333c5ed4859a56f32e247298ba9": {
          "model_module": "@jupyter-widgets/base",
          "model_name": "LayoutModel",
          "model_module_version": "1.2.0",
          "state": {
            "_model_module": "@jupyter-widgets/base",
            "_model_module_version": "1.2.0",
            "_model_name": "LayoutModel",
            "_view_count": null,
            "_view_module": "@jupyter-widgets/base",
            "_view_module_version": "1.2.0",
            "_view_name": "LayoutView",
            "align_content": null,
            "align_items": null,
            "align_self": null,
            "border": null,
            "bottom": null,
            "display": null,
            "flex": null,
            "flex_flow": null,
            "grid_area": null,
            "grid_auto_columns": null,
            "grid_auto_flow": null,
            "grid_auto_rows": null,
            "grid_column": null,
            "grid_gap": null,
            "grid_row": null,
            "grid_template_areas": null,
            "grid_template_columns": null,
            "grid_template_rows": null,
            "height": null,
            "justify_content": null,
            "justify_items": null,
            "left": null,
            "margin": null,
            "max_height": null,
            "max_width": null,
            "min_height": null,
            "min_width": null,
            "object_fit": null,
            "object_position": null,
            "order": null,
            "overflow": null,
            "overflow_x": null,
            "overflow_y": null,
            "padding": null,
            "right": null,
            "top": null,
            "visibility": null,
            "width": null
          }
        },
        "e2efea5ae0ee4da38555d05631bf9a16": {
          "model_module": "@jupyter-widgets/controls",
          "model_name": "ProgressStyleModel",
          "model_module_version": "1.5.0",
          "state": {
            "_model_module": "@jupyter-widgets/controls",
            "_model_module_version": "1.5.0",
            "_model_name": "ProgressStyleModel",
            "_view_count": null,
            "_view_module": "@jupyter-widgets/base",
            "_view_module_version": "1.2.0",
            "_view_name": "StyleView",
            "bar_color": null,
            "description_width": ""
          }
        },
        "d1f13aaf90564543a4e1edf2753e6d39": {
          "model_module": "@jupyter-widgets/base",
          "model_name": "LayoutModel",
          "model_module_version": "1.2.0",
          "state": {
            "_model_module": "@jupyter-widgets/base",
            "_model_module_version": "1.2.0",
            "_model_name": "LayoutModel",
            "_view_count": null,
            "_view_module": "@jupyter-widgets/base",
            "_view_module_version": "1.2.0",
            "_view_name": "LayoutView",
            "align_content": null,
            "align_items": null,
            "align_self": null,
            "border": null,
            "bottom": null,
            "display": null,
            "flex": null,
            "flex_flow": null,
            "grid_area": null,
            "grid_auto_columns": null,
            "grid_auto_flow": null,
            "grid_auto_rows": null,
            "grid_column": null,
            "grid_gap": null,
            "grid_row": null,
            "grid_template_areas": null,
            "grid_template_columns": null,
            "grid_template_rows": null,
            "height": null,
            "justify_content": null,
            "justify_items": null,
            "left": null,
            "margin": null,
            "max_height": null,
            "max_width": null,
            "min_height": null,
            "min_width": null,
            "object_fit": null,
            "object_position": null,
            "order": null,
            "overflow": null,
            "overflow_x": null,
            "overflow_y": null,
            "padding": null,
            "right": null,
            "top": null,
            "visibility": null,
            "width": null
          }
        },
        "8cda6edb9527440d9fae1c2a9caba1a7": {
          "model_module": "@jupyter-widgets/controls",
          "model_name": "DescriptionStyleModel",
          "model_module_version": "1.5.0",
          "state": {
            "_model_module": "@jupyter-widgets/controls",
            "_model_module_version": "1.5.0",
            "_model_name": "DescriptionStyleModel",
            "_view_count": null,
            "_view_module": "@jupyter-widgets/base",
            "_view_module_version": "1.2.0",
            "_view_name": "StyleView",
            "description_width": ""
          }
        },
        "cf86962417574aee95388d45c0d42423": {
          "model_module": "@jupyter-widgets/controls",
          "model_name": "HBoxModel",
          "model_module_version": "1.5.0",
          "state": {
            "_dom_classes": [],
            "_model_module": "@jupyter-widgets/controls",
            "_model_module_version": "1.5.0",
            "_model_name": "HBoxModel",
            "_view_count": null,
            "_view_module": "@jupyter-widgets/controls",
            "_view_module_version": "1.5.0",
            "_view_name": "HBoxView",
            "box_style": "",
            "children": [
              "IPY_MODEL_4b9eab51f24a4fb49d5b68a005cfb61c",
              "IPY_MODEL_1d7ce9d30f604c62937edf7d6816f667",
              "IPY_MODEL_9d8933219812481f9804395be606d4b1"
            ],
            "layout": "IPY_MODEL_e38e135f02fb41a2b50a3c65ec60c8ae"
          }
        },
        "4b9eab51f24a4fb49d5b68a005cfb61c": {
          "model_module": "@jupyter-widgets/controls",
          "model_name": "HTMLModel",
          "model_module_version": "1.5.0",
          "state": {
            "_dom_classes": [],
            "_model_module": "@jupyter-widgets/controls",
            "_model_module_version": "1.5.0",
            "_model_name": "HTMLModel",
            "_view_count": null,
            "_view_module": "@jupyter-widgets/controls",
            "_view_module_version": "1.5.0",
            "_view_name": "HTMLView",
            "description": "",
            "description_tooltip": null,
            "layout": "IPY_MODEL_a8bc6fbb01c146c097ecb0933b443df7",
            "placeholder": "​",
            "style": "IPY_MODEL_ee551aaa4c1846e39807a5bbdd94c73c",
            "value": "Downloading: 100%"
          }
        },
        "1d7ce9d30f604c62937edf7d6816f667": {
          "model_module": "@jupyter-widgets/controls",
          "model_name": "FloatProgressModel",
          "model_module_version": "1.5.0",
          "state": {
            "_dom_classes": [],
            "_model_module": "@jupyter-widgets/controls",
            "_model_module_version": "1.5.0",
            "_model_name": "FloatProgressModel",
            "_view_count": null,
            "_view_module": "@jupyter-widgets/controls",
            "_view_module_version": "1.5.0",
            "_view_name": "ProgressView",
            "bar_style": "success",
            "description": "",
            "description_tooltip": null,
            "layout": "IPY_MODEL_dcafad4fae9945e68a18bfd234ab2aa3",
            "max": 215,
            "min": 0,
            "orientation": "horizontal",
            "style": "IPY_MODEL_55f020629d64492d91308d3bd1e9fd09",
            "value": 215
          }
        },
        "9d8933219812481f9804395be606d4b1": {
          "model_module": "@jupyter-widgets/controls",
          "model_name": "HTMLModel",
          "model_module_version": "1.5.0",
          "state": {
            "_dom_classes": [],
            "_model_module": "@jupyter-widgets/controls",
            "_model_module_version": "1.5.0",
            "_model_name": "HTMLModel",
            "_view_count": null,
            "_view_module": "@jupyter-widgets/controls",
            "_view_module_version": "1.5.0",
            "_view_name": "HTMLView",
            "description": "",
            "description_tooltip": null,
            "layout": "IPY_MODEL_b8a6474007584ba5bc425bfae23d8fd6",
            "placeholder": "​",
            "style": "IPY_MODEL_9a9fdfeca2884aa383562c53eabf81a9",
            "value": " 215/215 [00:00&lt;00:00, 6.88kB/s]"
          }
        },
        "e38e135f02fb41a2b50a3c65ec60c8ae": {
          "model_module": "@jupyter-widgets/base",
          "model_name": "LayoutModel",
          "model_module_version": "1.2.0",
          "state": {
            "_model_module": "@jupyter-widgets/base",
            "_model_module_version": "1.2.0",
            "_model_name": "LayoutModel",
            "_view_count": null,
            "_view_module": "@jupyter-widgets/base",
            "_view_module_version": "1.2.0",
            "_view_name": "LayoutView",
            "align_content": null,
            "align_items": null,
            "align_self": null,
            "border": null,
            "bottom": null,
            "display": null,
            "flex": null,
            "flex_flow": null,
            "grid_area": null,
            "grid_auto_columns": null,
            "grid_auto_flow": null,
            "grid_auto_rows": null,
            "grid_column": null,
            "grid_gap": null,
            "grid_row": null,
            "grid_template_areas": null,
            "grid_template_columns": null,
            "grid_template_rows": null,
            "height": null,
            "justify_content": null,
            "justify_items": null,
            "left": null,
            "margin": null,
            "max_height": null,
            "max_width": null,
            "min_height": null,
            "min_width": null,
            "object_fit": null,
            "object_position": null,
            "order": null,
            "overflow": null,
            "overflow_x": null,
            "overflow_y": null,
            "padding": null,
            "right": null,
            "top": null,
            "visibility": null,
            "width": null
          }
        },
        "a8bc6fbb01c146c097ecb0933b443df7": {
          "model_module": "@jupyter-widgets/base",
          "model_name": "LayoutModel",
          "model_module_version": "1.2.0",
          "state": {
            "_model_module": "@jupyter-widgets/base",
            "_model_module_version": "1.2.0",
            "_model_name": "LayoutModel",
            "_view_count": null,
            "_view_module": "@jupyter-widgets/base",
            "_view_module_version": "1.2.0",
            "_view_name": "LayoutView",
            "align_content": null,
            "align_items": null,
            "align_self": null,
            "border": null,
            "bottom": null,
            "display": null,
            "flex": null,
            "flex_flow": null,
            "grid_area": null,
            "grid_auto_columns": null,
            "grid_auto_flow": null,
            "grid_auto_rows": null,
            "grid_column": null,
            "grid_gap": null,
            "grid_row": null,
            "grid_template_areas": null,
            "grid_template_columns": null,
            "grid_template_rows": null,
            "height": null,
            "justify_content": null,
            "justify_items": null,
            "left": null,
            "margin": null,
            "max_height": null,
            "max_width": null,
            "min_height": null,
            "min_width": null,
            "object_fit": null,
            "object_position": null,
            "order": null,
            "overflow": null,
            "overflow_x": null,
            "overflow_y": null,
            "padding": null,
            "right": null,
            "top": null,
            "visibility": null,
            "width": null
          }
        },
        "ee551aaa4c1846e39807a5bbdd94c73c": {
          "model_module": "@jupyter-widgets/controls",
          "model_name": "DescriptionStyleModel",
          "model_module_version": "1.5.0",
          "state": {
            "_model_module": "@jupyter-widgets/controls",
            "_model_module_version": "1.5.0",
            "_model_name": "DescriptionStyleModel",
            "_view_count": null,
            "_view_module": "@jupyter-widgets/base",
            "_view_module_version": "1.2.0",
            "_view_name": "StyleView",
            "description_width": ""
          }
        },
        "dcafad4fae9945e68a18bfd234ab2aa3": {
          "model_module": "@jupyter-widgets/base",
          "model_name": "LayoutModel",
          "model_module_version": "1.2.0",
          "state": {
            "_model_module": "@jupyter-widgets/base",
            "_model_module_version": "1.2.0",
            "_model_name": "LayoutModel",
            "_view_count": null,
            "_view_module": "@jupyter-widgets/base",
            "_view_module_version": "1.2.0",
            "_view_name": "LayoutView",
            "align_content": null,
            "align_items": null,
            "align_self": null,
            "border": null,
            "bottom": null,
            "display": null,
            "flex": null,
            "flex_flow": null,
            "grid_area": null,
            "grid_auto_columns": null,
            "grid_auto_flow": null,
            "grid_auto_rows": null,
            "grid_column": null,
            "grid_gap": null,
            "grid_row": null,
            "grid_template_areas": null,
            "grid_template_columns": null,
            "grid_template_rows": null,
            "height": null,
            "justify_content": null,
            "justify_items": null,
            "left": null,
            "margin": null,
            "max_height": null,
            "max_width": null,
            "min_height": null,
            "min_width": null,
            "object_fit": null,
            "object_position": null,
            "order": null,
            "overflow": null,
            "overflow_x": null,
            "overflow_y": null,
            "padding": null,
            "right": null,
            "top": null,
            "visibility": null,
            "width": null
          }
        },
        "55f020629d64492d91308d3bd1e9fd09": {
          "model_module": "@jupyter-widgets/controls",
          "model_name": "ProgressStyleModel",
          "model_module_version": "1.5.0",
          "state": {
            "_model_module": "@jupyter-widgets/controls",
            "_model_module_version": "1.5.0",
            "_model_name": "ProgressStyleModel",
            "_view_count": null,
            "_view_module": "@jupyter-widgets/base",
            "_view_module_version": "1.2.0",
            "_view_name": "StyleView",
            "bar_color": null,
            "description_width": ""
          }
        },
        "b8a6474007584ba5bc425bfae23d8fd6": {
          "model_module": "@jupyter-widgets/base",
          "model_name": "LayoutModel",
          "model_module_version": "1.2.0",
          "state": {
            "_model_module": "@jupyter-widgets/base",
            "_model_module_version": "1.2.0",
            "_model_name": "LayoutModel",
            "_view_count": null,
            "_view_module": "@jupyter-widgets/base",
            "_view_module_version": "1.2.0",
            "_view_name": "LayoutView",
            "align_content": null,
            "align_items": null,
            "align_self": null,
            "border": null,
            "bottom": null,
            "display": null,
            "flex": null,
            "flex_flow": null,
            "grid_area": null,
            "grid_auto_columns": null,
            "grid_auto_flow": null,
            "grid_auto_rows": null,
            "grid_column": null,
            "grid_gap": null,
            "grid_row": null,
            "grid_template_areas": null,
            "grid_template_columns": null,
            "grid_template_rows": null,
            "height": null,
            "justify_content": null,
            "justify_items": null,
            "left": null,
            "margin": null,
            "max_height": null,
            "max_width": null,
            "min_height": null,
            "min_width": null,
            "object_fit": null,
            "object_position": null,
            "order": null,
            "overflow": null,
            "overflow_x": null,
            "overflow_y": null,
            "padding": null,
            "right": null,
            "top": null,
            "visibility": null,
            "width": null
          }
        },
        "9a9fdfeca2884aa383562c53eabf81a9": {
          "model_module": "@jupyter-widgets/controls",
          "model_name": "DescriptionStyleModel",
          "model_module_version": "1.5.0",
          "state": {
            "_model_module": "@jupyter-widgets/controls",
            "_model_module_version": "1.5.0",
            "_model_name": "DescriptionStyleModel",
            "_view_count": null,
            "_view_module": "@jupyter-widgets/base",
            "_view_module_version": "1.2.0",
            "_view_name": "StyleView",
            "description_width": ""
          }
        },
        "7da6f4286b9449a7ba208bdf74936313": {
          "model_module": "@jupyter-widgets/controls",
          "model_name": "HBoxModel",
          "model_module_version": "1.5.0",
          "state": {
            "_dom_classes": [],
            "_model_module": "@jupyter-widgets/controls",
            "_model_module_version": "1.5.0",
            "_model_name": "HBoxModel",
            "_view_count": null,
            "_view_module": "@jupyter-widgets/controls",
            "_view_module_version": "1.5.0",
            "_view_name": "HBoxView",
            "box_style": "",
            "children": [
              "IPY_MODEL_c667ea805ce8414f9163d2fc6d4001e9",
              "IPY_MODEL_f483daa085f846d3b8ed934143ecda31",
              "IPY_MODEL_6ac134f60eaa4756bc10b5762ba29130"
            ],
            "layout": "IPY_MODEL_33f99dbf165247b0b3e02e104636ea96"
          }
        },
        "c667ea805ce8414f9163d2fc6d4001e9": {
          "model_module": "@jupyter-widgets/controls",
          "model_name": "HTMLModel",
          "model_module_version": "1.5.0",
          "state": {
            "_dom_classes": [],
            "_model_module": "@jupyter-widgets/controls",
            "_model_module_version": "1.5.0",
            "_model_name": "HTMLModel",
            "_view_count": null,
            "_view_module": "@jupyter-widgets/controls",
            "_view_module_version": "1.5.0",
            "_view_name": "HTMLView",
            "description": "",
            "description_tooltip": null,
            "layout": "IPY_MODEL_4d9f8525401f44b382be1724253ea3c1",
            "placeholder": "​",
            "style": "IPY_MODEL_1e4110ff33e944edaed5b1ca0a5d1c40",
            "value": "Downloading: 100%"
          }
        },
        "f483daa085f846d3b8ed934143ecda31": {
          "model_module": "@jupyter-widgets/controls",
          "model_name": "FloatProgressModel",
          "model_module_version": "1.5.0",
          "state": {
            "_dom_classes": [],
            "_model_module": "@jupyter-widgets/controls",
            "_model_module_version": "1.5.0",
            "_model_name": "FloatProgressModel",
            "_view_count": null,
            "_view_module": "@jupyter-widgets/controls",
            "_view_module_version": "1.5.0",
            "_view_name": "ProgressView",
            "bar_style": "success",
            "description": "",
            "description_tooltip": null,
            "layout": "IPY_MODEL_13cfea8f37244b5392b3a46422dcce6e",
            "max": 268,
            "min": 0,
            "orientation": "horizontal",
            "style": "IPY_MODEL_5624a5740d194c188535cdc007bfb860",
            "value": 268
          }
        },
        "6ac134f60eaa4756bc10b5762ba29130": {
          "model_module": "@jupyter-widgets/controls",
          "model_name": "HTMLModel",
          "model_module_version": "1.5.0",
          "state": {
            "_dom_classes": [],
            "_model_module": "@jupyter-widgets/controls",
            "_model_module_version": "1.5.0",
            "_model_name": "HTMLModel",
            "_view_count": null,
            "_view_module": "@jupyter-widgets/controls",
            "_view_module_version": "1.5.0",
            "_view_name": "HTMLView",
            "description": "",
            "description_tooltip": null,
            "layout": "IPY_MODEL_462435bee7064e29b2d4a795a5660640",
            "placeholder": "​",
            "style": "IPY_MODEL_2370121329c44056b3847209b2fc31cc",
            "value": " 268/268 [00:00&lt;00:00, 7.95kB/s]"
          }
        },
        "33f99dbf165247b0b3e02e104636ea96": {
          "model_module": "@jupyter-widgets/base",
          "model_name": "LayoutModel",
          "model_module_version": "1.2.0",
          "state": {
            "_model_module": "@jupyter-widgets/base",
            "_model_module_version": "1.2.0",
            "_model_name": "LayoutModel",
            "_view_count": null,
            "_view_module": "@jupyter-widgets/base",
            "_view_module_version": "1.2.0",
            "_view_name": "LayoutView",
            "align_content": null,
            "align_items": null,
            "align_self": null,
            "border": null,
            "bottom": null,
            "display": null,
            "flex": null,
            "flex_flow": null,
            "grid_area": null,
            "grid_auto_columns": null,
            "grid_auto_flow": null,
            "grid_auto_rows": null,
            "grid_column": null,
            "grid_gap": null,
            "grid_row": null,
            "grid_template_areas": null,
            "grid_template_columns": null,
            "grid_template_rows": null,
            "height": null,
            "justify_content": null,
            "justify_items": null,
            "left": null,
            "margin": null,
            "max_height": null,
            "max_width": null,
            "min_height": null,
            "min_width": null,
            "object_fit": null,
            "object_position": null,
            "order": null,
            "overflow": null,
            "overflow_x": null,
            "overflow_y": null,
            "padding": null,
            "right": null,
            "top": null,
            "visibility": null,
            "width": null
          }
        },
        "4d9f8525401f44b382be1724253ea3c1": {
          "model_module": "@jupyter-widgets/base",
          "model_name": "LayoutModel",
          "model_module_version": "1.2.0",
          "state": {
            "_model_module": "@jupyter-widgets/base",
            "_model_module_version": "1.2.0",
            "_model_name": "LayoutModel",
            "_view_count": null,
            "_view_module": "@jupyter-widgets/base",
            "_view_module_version": "1.2.0",
            "_view_name": "LayoutView",
            "align_content": null,
            "align_items": null,
            "align_self": null,
            "border": null,
            "bottom": null,
            "display": null,
            "flex": null,
            "flex_flow": null,
            "grid_area": null,
            "grid_auto_columns": null,
            "grid_auto_flow": null,
            "grid_auto_rows": null,
            "grid_column": null,
            "grid_gap": null,
            "grid_row": null,
            "grid_template_areas": null,
            "grid_template_columns": null,
            "grid_template_rows": null,
            "height": null,
            "justify_content": null,
            "justify_items": null,
            "left": null,
            "margin": null,
            "max_height": null,
            "max_width": null,
            "min_height": null,
            "min_width": null,
            "object_fit": null,
            "object_position": null,
            "order": null,
            "overflow": null,
            "overflow_x": null,
            "overflow_y": null,
            "padding": null,
            "right": null,
            "top": null,
            "visibility": null,
            "width": null
          }
        },
        "1e4110ff33e944edaed5b1ca0a5d1c40": {
          "model_module": "@jupyter-widgets/controls",
          "model_name": "DescriptionStyleModel",
          "model_module_version": "1.5.0",
          "state": {
            "_model_module": "@jupyter-widgets/controls",
            "_model_module_version": "1.5.0",
            "_model_name": "DescriptionStyleModel",
            "_view_count": null,
            "_view_module": "@jupyter-widgets/base",
            "_view_module_version": "1.2.0",
            "_view_name": "StyleView",
            "description_width": ""
          }
        },
        "13cfea8f37244b5392b3a46422dcce6e": {
          "model_module": "@jupyter-widgets/base",
          "model_name": "LayoutModel",
          "model_module_version": "1.2.0",
          "state": {
            "_model_module": "@jupyter-widgets/base",
            "_model_module_version": "1.2.0",
            "_model_name": "LayoutModel",
            "_view_count": null,
            "_view_module": "@jupyter-widgets/base",
            "_view_module_version": "1.2.0",
            "_view_name": "LayoutView",
            "align_content": null,
            "align_items": null,
            "align_self": null,
            "border": null,
            "bottom": null,
            "display": null,
            "flex": null,
            "flex_flow": null,
            "grid_area": null,
            "grid_auto_columns": null,
            "grid_auto_flow": null,
            "grid_auto_rows": null,
            "grid_column": null,
            "grid_gap": null,
            "grid_row": null,
            "grid_template_areas": null,
            "grid_template_columns": null,
            "grid_template_rows": null,
            "height": null,
            "justify_content": null,
            "justify_items": null,
            "left": null,
            "margin": null,
            "max_height": null,
            "max_width": null,
            "min_height": null,
            "min_width": null,
            "object_fit": null,
            "object_position": null,
            "order": null,
            "overflow": null,
            "overflow_x": null,
            "overflow_y": null,
            "padding": null,
            "right": null,
            "top": null,
            "visibility": null,
            "width": null
          }
        },
        "5624a5740d194c188535cdc007bfb860": {
          "model_module": "@jupyter-widgets/controls",
          "model_name": "ProgressStyleModel",
          "model_module_version": "1.5.0",
          "state": {
            "_model_module": "@jupyter-widgets/controls",
            "_model_module_version": "1.5.0",
            "_model_name": "ProgressStyleModel",
            "_view_count": null,
            "_view_module": "@jupyter-widgets/base",
            "_view_module_version": "1.2.0",
            "_view_name": "StyleView",
            "bar_color": null,
            "description_width": ""
          }
        },
        "462435bee7064e29b2d4a795a5660640": {
          "model_module": "@jupyter-widgets/base",
          "model_name": "LayoutModel",
          "model_module_version": "1.2.0",
          "state": {
            "_model_module": "@jupyter-widgets/base",
            "_model_module_version": "1.2.0",
            "_model_name": "LayoutModel",
            "_view_count": null,
            "_view_module": "@jupyter-widgets/base",
            "_view_module_version": "1.2.0",
            "_view_name": "LayoutView",
            "align_content": null,
            "align_items": null,
            "align_self": null,
            "border": null,
            "bottom": null,
            "display": null,
            "flex": null,
            "flex_flow": null,
            "grid_area": null,
            "grid_auto_columns": null,
            "grid_auto_flow": null,
            "grid_auto_rows": null,
            "grid_column": null,
            "grid_gap": null,
            "grid_row": null,
            "grid_template_areas": null,
            "grid_template_columns": null,
            "grid_template_rows": null,
            "height": null,
            "justify_content": null,
            "justify_items": null,
            "left": null,
            "margin": null,
            "max_height": null,
            "max_width": null,
            "min_height": null,
            "min_width": null,
            "object_fit": null,
            "object_position": null,
            "order": null,
            "overflow": null,
            "overflow_x": null,
            "overflow_y": null,
            "padding": null,
            "right": null,
            "top": null,
            "visibility": null,
            "width": null
          }
        },
        "2370121329c44056b3847209b2fc31cc": {
          "model_module": "@jupyter-widgets/controls",
          "model_name": "DescriptionStyleModel",
          "model_module_version": "1.5.0",
          "state": {
            "_model_module": "@jupyter-widgets/controls",
            "_model_module_version": "1.5.0",
            "_model_name": "DescriptionStyleModel",
            "_view_count": null,
            "_view_module": "@jupyter-widgets/base",
            "_view_module_version": "1.2.0",
            "_view_name": "StyleView",
            "description_width": ""
          }
        },
        "9d66e043c4224b5ea6eaee44f45f8abc": {
          "model_module": "@jupyter-widgets/controls",
          "model_name": "HBoxModel",
          "model_module_version": "1.5.0",
          "state": {
            "_dom_classes": [],
            "_model_module": "@jupyter-widgets/controls",
            "_model_module_version": "1.5.0",
            "_model_name": "HBoxModel",
            "_view_count": null,
            "_view_module": "@jupyter-widgets/controls",
            "_view_module_version": "1.5.0",
            "_view_name": "HBoxView",
            "box_style": "",
            "children": [
              "IPY_MODEL_e3cedf8b720a49d5842803a60adccab6",
              "IPY_MODEL_b9f21156bf5e45679fef2578c40055e1",
              "IPY_MODEL_5e9d42c6e662429fb20d50585544aca9"
            ],
            "layout": "IPY_MODEL_9a994aa521ef4e0fac8dbd9a6d534d48"
          }
        },
        "e3cedf8b720a49d5842803a60adccab6": {
          "model_module": "@jupyter-widgets/controls",
          "model_name": "HTMLModel",
          "model_module_version": "1.5.0",
          "state": {
            "_dom_classes": [],
            "_model_module": "@jupyter-widgets/controls",
            "_model_module_version": "1.5.0",
            "_model_name": "HTMLModel",
            "_view_count": null,
            "_view_module": "@jupyter-widgets/controls",
            "_view_module_version": "1.5.0",
            "_view_name": "HTMLView",
            "description": "",
            "description_tooltip": null,
            "layout": "IPY_MODEL_1800d2555aa1418cb71425300bd75d50",
            "placeholder": "​",
            "style": "IPY_MODEL_bfeb958fcfa04f8ebc6056ec722fbd5f",
            "value": "Downloading: 100%"
          }
        },
        "b9f21156bf5e45679fef2578c40055e1": {
          "model_module": "@jupyter-widgets/controls",
          "model_name": "FloatProgressModel",
          "model_module_version": "1.5.0",
          "state": {
            "_dom_classes": [],
            "_model_module": "@jupyter-widgets/controls",
            "_model_module_version": "1.5.0",
            "_model_name": "FloatProgressModel",
            "_view_count": null,
            "_view_module": "@jupyter-widgets/controls",
            "_view_module_version": "1.5.0",
            "_view_name": "ProgressView",
            "bar_style": "success",
            "description": "",
            "description_tooltip": null,
            "layout": "IPY_MODEL_efea2a3095b145eba97483cf8ab86b28",
            "max": 181,
            "min": 0,
            "orientation": "horizontal",
            "style": "IPY_MODEL_ef17d3258a5a4532b964df0266276779",
            "value": 181
          }
        },
        "5e9d42c6e662429fb20d50585544aca9": {
          "model_module": "@jupyter-widgets/controls",
          "model_name": "HTMLModel",
          "model_module_version": "1.5.0",
          "state": {
            "_dom_classes": [],
            "_model_module": "@jupyter-widgets/controls",
            "_model_module_version": "1.5.0",
            "_model_name": "HTMLModel",
            "_view_count": null,
            "_view_module": "@jupyter-widgets/controls",
            "_view_module_version": "1.5.0",
            "_view_name": "HTMLView",
            "description": "",
            "description_tooltip": null,
            "layout": "IPY_MODEL_e44ab6082b4f4287bfc1c4c75909bd8d",
            "placeholder": "​",
            "style": "IPY_MODEL_5ee69fcee64f455fa9d69a7a45a15d57",
            "value": " 181/181 [00:00&lt;00:00, 5.99kB/s]"
          }
        },
        "9a994aa521ef4e0fac8dbd9a6d534d48": {
          "model_module": "@jupyter-widgets/base",
          "model_name": "LayoutModel",
          "model_module_version": "1.2.0",
          "state": {
            "_model_module": "@jupyter-widgets/base",
            "_model_module_version": "1.2.0",
            "_model_name": "LayoutModel",
            "_view_count": null,
            "_view_module": "@jupyter-widgets/base",
            "_view_module_version": "1.2.0",
            "_view_name": "LayoutView",
            "align_content": null,
            "align_items": null,
            "align_self": null,
            "border": null,
            "bottom": null,
            "display": null,
            "flex": null,
            "flex_flow": null,
            "grid_area": null,
            "grid_auto_columns": null,
            "grid_auto_flow": null,
            "grid_auto_rows": null,
            "grid_column": null,
            "grid_gap": null,
            "grid_row": null,
            "grid_template_areas": null,
            "grid_template_columns": null,
            "grid_template_rows": null,
            "height": null,
            "justify_content": null,
            "justify_items": null,
            "left": null,
            "margin": null,
            "max_height": null,
            "max_width": null,
            "min_height": null,
            "min_width": null,
            "object_fit": null,
            "object_position": null,
            "order": null,
            "overflow": null,
            "overflow_x": null,
            "overflow_y": null,
            "padding": null,
            "right": null,
            "top": null,
            "visibility": null,
            "width": null
          }
        },
        "1800d2555aa1418cb71425300bd75d50": {
          "model_module": "@jupyter-widgets/base",
          "model_name": "LayoutModel",
          "model_module_version": "1.2.0",
          "state": {
            "_model_module": "@jupyter-widgets/base",
            "_model_module_version": "1.2.0",
            "_model_name": "LayoutModel",
            "_view_count": null,
            "_view_module": "@jupyter-widgets/base",
            "_view_module_version": "1.2.0",
            "_view_name": "LayoutView",
            "align_content": null,
            "align_items": null,
            "align_self": null,
            "border": null,
            "bottom": null,
            "display": null,
            "flex": null,
            "flex_flow": null,
            "grid_area": null,
            "grid_auto_columns": null,
            "grid_auto_flow": null,
            "grid_auto_rows": null,
            "grid_column": null,
            "grid_gap": null,
            "grid_row": null,
            "grid_template_areas": null,
            "grid_template_columns": null,
            "grid_template_rows": null,
            "height": null,
            "justify_content": null,
            "justify_items": null,
            "left": null,
            "margin": null,
            "max_height": null,
            "max_width": null,
            "min_height": null,
            "min_width": null,
            "object_fit": null,
            "object_position": null,
            "order": null,
            "overflow": null,
            "overflow_x": null,
            "overflow_y": null,
            "padding": null,
            "right": null,
            "top": null,
            "visibility": null,
            "width": null
          }
        },
        "bfeb958fcfa04f8ebc6056ec722fbd5f": {
          "model_module": "@jupyter-widgets/controls",
          "model_name": "DescriptionStyleModel",
          "model_module_version": "1.5.0",
          "state": {
            "_model_module": "@jupyter-widgets/controls",
            "_model_module_version": "1.5.0",
            "_model_name": "DescriptionStyleModel",
            "_view_count": null,
            "_view_module": "@jupyter-widgets/base",
            "_view_module_version": "1.2.0",
            "_view_name": "StyleView",
            "description_width": ""
          }
        },
        "efea2a3095b145eba97483cf8ab86b28": {
          "model_module": "@jupyter-widgets/base",
          "model_name": "LayoutModel",
          "model_module_version": "1.2.0",
          "state": {
            "_model_module": "@jupyter-widgets/base",
            "_model_module_version": "1.2.0",
            "_model_name": "LayoutModel",
            "_view_count": null,
            "_view_module": "@jupyter-widgets/base",
            "_view_module_version": "1.2.0",
            "_view_name": "LayoutView",
            "align_content": null,
            "align_items": null,
            "align_self": null,
            "border": null,
            "bottom": null,
            "display": null,
            "flex": null,
            "flex_flow": null,
            "grid_area": null,
            "grid_auto_columns": null,
            "grid_auto_flow": null,
            "grid_auto_rows": null,
            "grid_column": null,
            "grid_gap": null,
            "grid_row": null,
            "grid_template_areas": null,
            "grid_template_columns": null,
            "grid_template_rows": null,
            "height": null,
            "justify_content": null,
            "justify_items": null,
            "left": null,
            "margin": null,
            "max_height": null,
            "max_width": null,
            "min_height": null,
            "min_width": null,
            "object_fit": null,
            "object_position": null,
            "order": null,
            "overflow": null,
            "overflow_x": null,
            "overflow_y": null,
            "padding": null,
            "right": null,
            "top": null,
            "visibility": null,
            "width": null
          }
        },
        "ef17d3258a5a4532b964df0266276779": {
          "model_module": "@jupyter-widgets/controls",
          "model_name": "ProgressStyleModel",
          "model_module_version": "1.5.0",
          "state": {
            "_model_module": "@jupyter-widgets/controls",
            "_model_module_version": "1.5.0",
            "_model_name": "ProgressStyleModel",
            "_view_count": null,
            "_view_module": "@jupyter-widgets/base",
            "_view_module_version": "1.2.0",
            "_view_name": "StyleView",
            "bar_color": null,
            "description_width": ""
          }
        },
        "e44ab6082b4f4287bfc1c4c75909bd8d": {
          "model_module": "@jupyter-widgets/base",
          "model_name": "LayoutModel",
          "model_module_version": "1.2.0",
          "state": {
            "_model_module": "@jupyter-widgets/base",
            "_model_module_version": "1.2.0",
            "_model_name": "LayoutModel",
            "_view_count": null,
            "_view_module": "@jupyter-widgets/base",
            "_view_module_version": "1.2.0",
            "_view_name": "LayoutView",
            "align_content": null,
            "align_items": null,
            "align_self": null,
            "border": null,
            "bottom": null,
            "display": null,
            "flex": null,
            "flex_flow": null,
            "grid_area": null,
            "grid_auto_columns": null,
            "grid_auto_flow": null,
            "grid_auto_rows": null,
            "grid_column": null,
            "grid_gap": null,
            "grid_row": null,
            "grid_template_areas": null,
            "grid_template_columns": null,
            "grid_template_rows": null,
            "height": null,
            "justify_content": null,
            "justify_items": null,
            "left": null,
            "margin": null,
            "max_height": null,
            "max_width": null,
            "min_height": null,
            "min_width": null,
            "object_fit": null,
            "object_position": null,
            "order": null,
            "overflow": null,
            "overflow_x": null,
            "overflow_y": null,
            "padding": null,
            "right": null,
            "top": null,
            "visibility": null,
            "width": null
          }
        },
        "5ee69fcee64f455fa9d69a7a45a15d57": {
          "model_module": "@jupyter-widgets/controls",
          "model_name": "DescriptionStyleModel",
          "model_module_version": "1.5.0",
          "state": {
            "_model_module": "@jupyter-widgets/controls",
            "_model_module_version": "1.5.0",
            "_model_name": "DescriptionStyleModel",
            "_view_count": null,
            "_view_module": "@jupyter-widgets/base",
            "_view_module_version": "1.2.0",
            "_view_name": "StyleView",
            "description_width": ""
          }
        },
        "ec2355dc03764b7fa1035e3c007a40fc": {
          "model_module": "@jupyter-widgets/controls",
          "model_name": "HBoxModel",
          "model_module_version": "1.5.0",
          "state": {
            "_dom_classes": [],
            "_model_module": "@jupyter-widgets/controls",
            "_model_module_version": "1.5.0",
            "_model_name": "HBoxModel",
            "_view_count": null,
            "_view_module": "@jupyter-widgets/controls",
            "_view_module_version": "1.5.0",
            "_view_name": "HBoxView",
            "box_style": "",
            "children": [
              "IPY_MODEL_a34ab14a2f7846fda13b55caed8e5308",
              "IPY_MODEL_b136156b1de7455db82be7df88758e10",
              "IPY_MODEL_3973bdebcd4d4142a996ff82a7166fff"
            ],
            "layout": "IPY_MODEL_0ea6f7b0dae947f482c546d740c2c3ce"
          }
        },
        "a34ab14a2f7846fda13b55caed8e5308": {
          "model_module": "@jupyter-widgets/controls",
          "model_name": "HTMLModel",
          "model_module_version": "1.5.0",
          "state": {
            "_dom_classes": [],
            "_model_module": "@jupyter-widgets/controls",
            "_model_module_version": "1.5.0",
            "_model_name": "HTMLModel",
            "_view_count": null,
            "_view_module": "@jupyter-widgets/controls",
            "_view_module_version": "1.5.0",
            "_view_name": "HTMLView",
            "description": "",
            "description_tooltip": null,
            "layout": "IPY_MODEL_b55f6c7c37284858a3a638f3bbfaf8b4",
            "placeholder": "​",
            "style": "IPY_MODEL_6a5aadf767894b3eb1915bb6aa354eb1",
            "value": "Downloading: 100%"
          }
        },
        "b136156b1de7455db82be7df88758e10": {
          "model_module": "@jupyter-widgets/controls",
          "model_name": "FloatProgressModel",
          "model_module_version": "1.5.0",
          "state": {
            "_dom_classes": [],
            "_model_module": "@jupyter-widgets/controls",
            "_model_module_version": "1.5.0",
            "_model_name": "FloatProgressModel",
            "_view_count": null,
            "_view_module": "@jupyter-widgets/controls",
            "_view_module_version": "1.5.0",
            "_view_name": "ProgressView",
            "bar_style": "success",
            "description": "",
            "description_tooltip": null,
            "layout": "IPY_MODEL_69a69b27b3f84a41a76f8e78c8c5bfa3",
            "max": 85,
            "min": 0,
            "orientation": "horizontal",
            "style": "IPY_MODEL_48e44a8fd6c14b7b8b92598e1f350d24",
            "value": 85
          }
        },
        "3973bdebcd4d4142a996ff82a7166fff": {
          "model_module": "@jupyter-widgets/controls",
          "model_name": "HTMLModel",
          "model_module_version": "1.5.0",
          "state": {
            "_dom_classes": [],
            "_model_module": "@jupyter-widgets/controls",
            "_model_module_version": "1.5.0",
            "_model_name": "HTMLModel",
            "_view_count": null,
            "_view_module": "@jupyter-widgets/controls",
            "_view_module_version": "1.5.0",
            "_view_name": "HTMLView",
            "description": "",
            "description_tooltip": null,
            "layout": "IPY_MODEL_f1660371cd514dc7a8a4d2ee884b15e3",
            "placeholder": "​",
            "style": "IPY_MODEL_7ab23a52c68241bc99f5dc8d17d33219",
            "value": " 85.0/85.0 [00:00&lt;00:00, 2.81kB/s]"
          }
        },
        "0ea6f7b0dae947f482c546d740c2c3ce": {
          "model_module": "@jupyter-widgets/base",
          "model_name": "LayoutModel",
          "model_module_version": "1.2.0",
          "state": {
            "_model_module": "@jupyter-widgets/base",
            "_model_module_version": "1.2.0",
            "_model_name": "LayoutModel",
            "_view_count": null,
            "_view_module": "@jupyter-widgets/base",
            "_view_module_version": "1.2.0",
            "_view_name": "LayoutView",
            "align_content": null,
            "align_items": null,
            "align_self": null,
            "border": null,
            "bottom": null,
            "display": null,
            "flex": null,
            "flex_flow": null,
            "grid_area": null,
            "grid_auto_columns": null,
            "grid_auto_flow": null,
            "grid_auto_rows": null,
            "grid_column": null,
            "grid_gap": null,
            "grid_row": null,
            "grid_template_areas": null,
            "grid_template_columns": null,
            "grid_template_rows": null,
            "height": null,
            "justify_content": null,
            "justify_items": null,
            "left": null,
            "margin": null,
            "max_height": null,
            "max_width": null,
            "min_height": null,
            "min_width": null,
            "object_fit": null,
            "object_position": null,
            "order": null,
            "overflow": null,
            "overflow_x": null,
            "overflow_y": null,
            "padding": null,
            "right": null,
            "top": null,
            "visibility": null,
            "width": null
          }
        },
        "b55f6c7c37284858a3a638f3bbfaf8b4": {
          "model_module": "@jupyter-widgets/base",
          "model_name": "LayoutModel",
          "model_module_version": "1.2.0",
          "state": {
            "_model_module": "@jupyter-widgets/base",
            "_model_module_version": "1.2.0",
            "_model_name": "LayoutModel",
            "_view_count": null,
            "_view_module": "@jupyter-widgets/base",
            "_view_module_version": "1.2.0",
            "_view_name": "LayoutView",
            "align_content": null,
            "align_items": null,
            "align_self": null,
            "border": null,
            "bottom": null,
            "display": null,
            "flex": null,
            "flex_flow": null,
            "grid_area": null,
            "grid_auto_columns": null,
            "grid_auto_flow": null,
            "grid_auto_rows": null,
            "grid_column": null,
            "grid_gap": null,
            "grid_row": null,
            "grid_template_areas": null,
            "grid_template_columns": null,
            "grid_template_rows": null,
            "height": null,
            "justify_content": null,
            "justify_items": null,
            "left": null,
            "margin": null,
            "max_height": null,
            "max_width": null,
            "min_height": null,
            "min_width": null,
            "object_fit": null,
            "object_position": null,
            "order": null,
            "overflow": null,
            "overflow_x": null,
            "overflow_y": null,
            "padding": null,
            "right": null,
            "top": null,
            "visibility": null,
            "width": null
          }
        },
        "6a5aadf767894b3eb1915bb6aa354eb1": {
          "model_module": "@jupyter-widgets/controls",
          "model_name": "DescriptionStyleModel",
          "model_module_version": "1.5.0",
          "state": {
            "_model_module": "@jupyter-widgets/controls",
            "_model_module_version": "1.5.0",
            "_model_name": "DescriptionStyleModel",
            "_view_count": null,
            "_view_module": "@jupyter-widgets/base",
            "_view_module_version": "1.2.0",
            "_view_name": "StyleView",
            "description_width": ""
          }
        },
        "69a69b27b3f84a41a76f8e78c8c5bfa3": {
          "model_module": "@jupyter-widgets/base",
          "model_name": "LayoutModel",
          "model_module_version": "1.2.0",
          "state": {
            "_model_module": "@jupyter-widgets/base",
            "_model_module_version": "1.2.0",
            "_model_name": "LayoutModel",
            "_view_count": null,
            "_view_module": "@jupyter-widgets/base",
            "_view_module_version": "1.2.0",
            "_view_name": "LayoutView",
            "align_content": null,
            "align_items": null,
            "align_self": null,
            "border": null,
            "bottom": null,
            "display": null,
            "flex": null,
            "flex_flow": null,
            "grid_area": null,
            "grid_auto_columns": null,
            "grid_auto_flow": null,
            "grid_auto_rows": null,
            "grid_column": null,
            "grid_gap": null,
            "grid_row": null,
            "grid_template_areas": null,
            "grid_template_columns": null,
            "grid_template_rows": null,
            "height": null,
            "justify_content": null,
            "justify_items": null,
            "left": null,
            "margin": null,
            "max_height": null,
            "max_width": null,
            "min_height": null,
            "min_width": null,
            "object_fit": null,
            "object_position": null,
            "order": null,
            "overflow": null,
            "overflow_x": null,
            "overflow_y": null,
            "padding": null,
            "right": null,
            "top": null,
            "visibility": null,
            "width": null
          }
        },
        "48e44a8fd6c14b7b8b92598e1f350d24": {
          "model_module": "@jupyter-widgets/controls",
          "model_name": "ProgressStyleModel",
          "model_module_version": "1.5.0",
          "state": {
            "_model_module": "@jupyter-widgets/controls",
            "_model_module_version": "1.5.0",
            "_model_name": "ProgressStyleModel",
            "_view_count": null,
            "_view_module": "@jupyter-widgets/base",
            "_view_module_version": "1.2.0",
            "_view_name": "StyleView",
            "bar_color": null,
            "description_width": ""
          }
        },
        "f1660371cd514dc7a8a4d2ee884b15e3": {
          "model_module": "@jupyter-widgets/base",
          "model_name": "LayoutModel",
          "model_module_version": "1.2.0",
          "state": {
            "_model_module": "@jupyter-widgets/base",
            "_model_module_version": "1.2.0",
            "_model_name": "LayoutModel",
            "_view_count": null,
            "_view_module": "@jupyter-widgets/base",
            "_view_module_version": "1.2.0",
            "_view_name": "LayoutView",
            "align_content": null,
            "align_items": null,
            "align_self": null,
            "border": null,
            "bottom": null,
            "display": null,
            "flex": null,
            "flex_flow": null,
            "grid_area": null,
            "grid_auto_columns": null,
            "grid_auto_flow": null,
            "grid_auto_rows": null,
            "grid_column": null,
            "grid_gap": null,
            "grid_row": null,
            "grid_template_areas": null,
            "grid_template_columns": null,
            "grid_template_rows": null,
            "height": null,
            "justify_content": null,
            "justify_items": null,
            "left": null,
            "margin": null,
            "max_height": null,
            "max_width": null,
            "min_height": null,
            "min_width": null,
            "object_fit": null,
            "object_position": null,
            "order": null,
            "overflow": null,
            "overflow_x": null,
            "overflow_y": null,
            "padding": null,
            "right": null,
            "top": null,
            "visibility": null,
            "width": null
          }
        },
        "7ab23a52c68241bc99f5dc8d17d33219": {
          "model_module": "@jupyter-widgets/controls",
          "model_name": "DescriptionStyleModel",
          "model_module_version": "1.5.0",
          "state": {
            "_model_module": "@jupyter-widgets/controls",
            "_model_module_version": "1.5.0",
            "_model_name": "DescriptionStyleModel",
            "_view_count": null,
            "_view_module": "@jupyter-widgets/base",
            "_view_module_version": "1.2.0",
            "_view_name": "StyleView",
            "description_width": ""
          }
        },
        "8603c07763254e50b0460f72c330615b": {
          "model_module": "@jupyter-widgets/controls",
          "model_name": "HBoxModel",
          "model_module_version": "1.5.0",
          "state": {
            "_dom_classes": [],
            "_model_module": "@jupyter-widgets/controls",
            "_model_module_version": "1.5.0",
            "_model_name": "HBoxModel",
            "_view_count": null,
            "_view_module": "@jupyter-widgets/controls",
            "_view_module_version": "1.5.0",
            "_view_name": "HBoxView",
            "box_style": "",
            "children": [
              "IPY_MODEL_46c8d42ca57e48d8bc31a0887fa0133e",
              "IPY_MODEL_1ae0ed0b124049d39eb77831a8109fce",
              "IPY_MODEL_1dbee3b2c32e448ea62085a487b38273"
            ],
            "layout": "IPY_MODEL_882e136f88c1455dae771da6ce75b6c7"
          }
        },
        "46c8d42ca57e48d8bc31a0887fa0133e": {
          "model_module": "@jupyter-widgets/controls",
          "model_name": "HTMLModel",
          "model_module_version": "1.5.0",
          "state": {
            "_dom_classes": [],
            "_model_module": "@jupyter-widgets/controls",
            "_model_module_version": "1.5.0",
            "_model_name": "HTMLModel",
            "_view_count": null,
            "_view_module": "@jupyter-widgets/controls",
            "_view_module_version": "1.5.0",
            "_view_name": "HTMLView",
            "description": "",
            "description_tooltip": null,
            "layout": "IPY_MODEL_92c148b01a8248cc97d90f245e3ac3c6",
            "placeholder": "​",
            "style": "IPY_MODEL_0ab486fff7804456b56d352234247afc",
            "value": "Downloading: 100%"
          }
        },
        "1ae0ed0b124049d39eb77831a8109fce": {
          "model_module": "@jupyter-widgets/controls",
          "model_name": "FloatProgressModel",
          "model_module_version": "1.5.0",
          "state": {
            "_dom_classes": [],
            "_model_module": "@jupyter-widgets/controls",
            "_model_module_version": "1.5.0",
            "_model_name": "FloatProgressModel",
            "_view_count": null,
            "_view_module": "@jupyter-widgets/controls",
            "_view_module_version": "1.5.0",
            "_view_name": "ProgressView",
            "bar_style": "success",
            "description": "",
            "description_tooltip": null,
            "layout": "IPY_MODEL_8f8476f9906144f0a3f88e91b960c49f",
            "max": 1467,
            "min": 0,
            "orientation": "horizontal",
            "style": "IPY_MODEL_81ef65ad45e04d9c8feff7a22a0bd934",
            "value": 1467
          }
        },
        "1dbee3b2c32e448ea62085a487b38273": {
          "model_module": "@jupyter-widgets/controls",
          "model_name": "HTMLModel",
          "model_module_version": "1.5.0",
          "state": {
            "_dom_classes": [],
            "_model_module": "@jupyter-widgets/controls",
            "_model_module_version": "1.5.0",
            "_model_name": "HTMLModel",
            "_view_count": null,
            "_view_module": "@jupyter-widgets/controls",
            "_view_module_version": "1.5.0",
            "_view_name": "HTMLView",
            "description": "",
            "description_tooltip": null,
            "layout": "IPY_MODEL_d9fc0e4d1a8246849f5bf3182d2ee6df",
            "placeholder": "​",
            "style": "IPY_MODEL_bb73b47ae4d5439387f1900b52e015e8",
            "value": " 1.43k/1.43k [00:00&lt;00:00, 48.3kB/s]"
          }
        },
        "882e136f88c1455dae771da6ce75b6c7": {
          "model_module": "@jupyter-widgets/base",
          "model_name": "LayoutModel",
          "model_module_version": "1.2.0",
          "state": {
            "_model_module": "@jupyter-widgets/base",
            "_model_module_version": "1.2.0",
            "_model_name": "LayoutModel",
            "_view_count": null,
            "_view_module": "@jupyter-widgets/base",
            "_view_module_version": "1.2.0",
            "_view_name": "LayoutView",
            "align_content": null,
            "align_items": null,
            "align_self": null,
            "border": null,
            "bottom": null,
            "display": null,
            "flex": null,
            "flex_flow": null,
            "grid_area": null,
            "grid_auto_columns": null,
            "grid_auto_flow": null,
            "grid_auto_rows": null,
            "grid_column": null,
            "grid_gap": null,
            "grid_row": null,
            "grid_template_areas": null,
            "grid_template_columns": null,
            "grid_template_rows": null,
            "height": null,
            "justify_content": null,
            "justify_items": null,
            "left": null,
            "margin": null,
            "max_height": null,
            "max_width": null,
            "min_height": null,
            "min_width": null,
            "object_fit": null,
            "object_position": null,
            "order": null,
            "overflow": null,
            "overflow_x": null,
            "overflow_y": null,
            "padding": null,
            "right": null,
            "top": null,
            "visibility": null,
            "width": null
          }
        },
        "92c148b01a8248cc97d90f245e3ac3c6": {
          "model_module": "@jupyter-widgets/base",
          "model_name": "LayoutModel",
          "model_module_version": "1.2.0",
          "state": {
            "_model_module": "@jupyter-widgets/base",
            "_model_module_version": "1.2.0",
            "_model_name": "LayoutModel",
            "_view_count": null,
            "_view_module": "@jupyter-widgets/base",
            "_view_module_version": "1.2.0",
            "_view_name": "LayoutView",
            "align_content": null,
            "align_items": null,
            "align_self": null,
            "border": null,
            "bottom": null,
            "display": null,
            "flex": null,
            "flex_flow": null,
            "grid_area": null,
            "grid_auto_columns": null,
            "grid_auto_flow": null,
            "grid_auto_rows": null,
            "grid_column": null,
            "grid_gap": null,
            "grid_row": null,
            "grid_template_areas": null,
            "grid_template_columns": null,
            "grid_template_rows": null,
            "height": null,
            "justify_content": null,
            "justify_items": null,
            "left": null,
            "margin": null,
            "max_height": null,
            "max_width": null,
            "min_height": null,
            "min_width": null,
            "object_fit": null,
            "object_position": null,
            "order": null,
            "overflow": null,
            "overflow_x": null,
            "overflow_y": null,
            "padding": null,
            "right": null,
            "top": null,
            "visibility": null,
            "width": null
          }
        },
        "0ab486fff7804456b56d352234247afc": {
          "model_module": "@jupyter-widgets/controls",
          "model_name": "DescriptionStyleModel",
          "model_module_version": "1.5.0",
          "state": {
            "_model_module": "@jupyter-widgets/controls",
            "_model_module_version": "1.5.0",
            "_model_name": "DescriptionStyleModel",
            "_view_count": null,
            "_view_module": "@jupyter-widgets/base",
            "_view_module_version": "1.2.0",
            "_view_name": "StyleView",
            "description_width": ""
          }
        },
        "8f8476f9906144f0a3f88e91b960c49f": {
          "model_module": "@jupyter-widgets/base",
          "model_name": "LayoutModel",
          "model_module_version": "1.2.0",
          "state": {
            "_model_module": "@jupyter-widgets/base",
            "_model_module_version": "1.2.0",
            "_model_name": "LayoutModel",
            "_view_count": null,
            "_view_module": "@jupyter-widgets/base",
            "_view_module_version": "1.2.0",
            "_view_name": "LayoutView",
            "align_content": null,
            "align_items": null,
            "align_self": null,
            "border": null,
            "bottom": null,
            "display": null,
            "flex": null,
            "flex_flow": null,
            "grid_area": null,
            "grid_auto_columns": null,
            "grid_auto_flow": null,
            "grid_auto_rows": null,
            "grid_column": null,
            "grid_gap": null,
            "grid_row": null,
            "grid_template_areas": null,
            "grid_template_columns": null,
            "grid_template_rows": null,
            "height": null,
            "justify_content": null,
            "justify_items": null,
            "left": null,
            "margin": null,
            "max_height": null,
            "max_width": null,
            "min_height": null,
            "min_width": null,
            "object_fit": null,
            "object_position": null,
            "order": null,
            "overflow": null,
            "overflow_x": null,
            "overflow_y": null,
            "padding": null,
            "right": null,
            "top": null,
            "visibility": null,
            "width": null
          }
        },
        "81ef65ad45e04d9c8feff7a22a0bd934": {
          "model_module": "@jupyter-widgets/controls",
          "model_name": "ProgressStyleModel",
          "model_module_version": "1.5.0",
          "state": {
            "_model_module": "@jupyter-widgets/controls",
            "_model_module_version": "1.5.0",
            "_model_name": "ProgressStyleModel",
            "_view_count": null,
            "_view_module": "@jupyter-widgets/base",
            "_view_module_version": "1.2.0",
            "_view_name": "StyleView",
            "bar_color": null,
            "description_width": ""
          }
        },
        "d9fc0e4d1a8246849f5bf3182d2ee6df": {
          "model_module": "@jupyter-widgets/base",
          "model_name": "LayoutModel",
          "model_module_version": "1.2.0",
          "state": {
            "_model_module": "@jupyter-widgets/base",
            "_model_module_version": "1.2.0",
            "_model_name": "LayoutModel",
            "_view_count": null,
            "_view_module": "@jupyter-widgets/base",
            "_view_module_version": "1.2.0",
            "_view_name": "LayoutView",
            "align_content": null,
            "align_items": null,
            "align_self": null,
            "border": null,
            "bottom": null,
            "display": null,
            "flex": null,
            "flex_flow": null,
            "grid_area": null,
            "grid_auto_columns": null,
            "grid_auto_flow": null,
            "grid_auto_rows": null,
            "grid_column": null,
            "grid_gap": null,
            "grid_row": null,
            "grid_template_areas": null,
            "grid_template_columns": null,
            "grid_template_rows": null,
            "height": null,
            "justify_content": null,
            "justify_items": null,
            "left": null,
            "margin": null,
            "max_height": null,
            "max_width": null,
            "min_height": null,
            "min_width": null,
            "object_fit": null,
            "object_position": null,
            "order": null,
            "overflow": null,
            "overflow_x": null,
            "overflow_y": null,
            "padding": null,
            "right": null,
            "top": null,
            "visibility": null,
            "width": null
          }
        },
        "bb73b47ae4d5439387f1900b52e015e8": {
          "model_module": "@jupyter-widgets/controls",
          "model_name": "DescriptionStyleModel",
          "model_module_version": "1.5.0",
          "state": {
            "_model_module": "@jupyter-widgets/controls",
            "_model_module_version": "1.5.0",
            "_model_name": "DescriptionStyleModel",
            "_view_count": null,
            "_view_module": "@jupyter-widgets/base",
            "_view_module_version": "1.2.0",
            "_view_name": "StyleView",
            "description_width": ""
          }
        },
        "ad72a6c47c5c4958b77cde42319236d7": {
          "model_module": "@jupyter-widgets/controls",
          "model_name": "HBoxModel",
          "model_module_version": "1.5.0",
          "state": {
            "_dom_classes": [],
            "_model_module": "@jupyter-widgets/controls",
            "_model_module_version": "1.5.0",
            "_model_name": "HBoxModel",
            "_view_count": null,
            "_view_module": "@jupyter-widgets/controls",
            "_view_module_version": "1.5.0",
            "_view_name": "HBoxView",
            "box_style": "",
            "children": [
              "IPY_MODEL_3ee1b7f18b8443dc93cb7d404956631b",
              "IPY_MODEL_fd802016d6354e3ca53e153a06a29cdb",
              "IPY_MODEL_63c0204b914f49f2bf2570dabaa4fff8"
            ],
            "layout": "IPY_MODEL_b71575f23be44091ad72323b1a8e5989"
          }
        },
        "3ee1b7f18b8443dc93cb7d404956631b": {
          "model_module": "@jupyter-widgets/controls",
          "model_name": "HTMLModel",
          "model_module_version": "1.5.0",
          "state": {
            "_dom_classes": [],
            "_model_module": "@jupyter-widgets/controls",
            "_model_module_version": "1.5.0",
            "_model_name": "HTMLModel",
            "_view_count": null,
            "_view_module": "@jupyter-widgets/controls",
            "_view_module_version": "1.5.0",
            "_view_name": "HTMLView",
            "description": "",
            "description_tooltip": null,
            "layout": "IPY_MODEL_77a3607aa3974b5bae5a5fb45f17e4c5",
            "placeholder": "​",
            "style": "IPY_MODEL_4aae8d61689e495f8cb7be8a6c94e33b",
            "value": "Downloading: 100%"
          }
        },
        "fd802016d6354e3ca53e153a06a29cdb": {
          "model_module": "@jupyter-widgets/controls",
          "model_name": "FloatProgressModel",
          "model_module_version": "1.5.0",
          "state": {
            "_dom_classes": [],
            "_model_module": "@jupyter-widgets/controls",
            "_model_module_version": "1.5.0",
            "_model_name": "FloatProgressModel",
            "_view_count": null,
            "_view_module": "@jupyter-widgets/controls",
            "_view_module_version": "1.5.0",
            "_view_name": "ProgressView",
            "bar_style": "success",
            "description": "",
            "description_tooltip": null,
            "layout": "IPY_MODEL_4a68c60eab3e4a028945e9d86c5c0c65",
            "max": 1262053361,
            "min": 0,
            "orientation": "horizontal",
            "style": "IPY_MODEL_5d564ee9a9544a6fb5582e02bbb9d6e1",
            "value": 1262053361
          }
        },
        "63c0204b914f49f2bf2570dabaa4fff8": {
          "model_module": "@jupyter-widgets/controls",
          "model_name": "HTMLModel",
          "model_module_version": "1.5.0",
          "state": {
            "_dom_classes": [],
            "_model_module": "@jupyter-widgets/controls",
            "_model_module_version": "1.5.0",
            "_model_name": "HTMLModel",
            "_view_count": null,
            "_view_module": "@jupyter-widgets/controls",
            "_view_module_version": "1.5.0",
            "_view_name": "HTMLView",
            "description": "",
            "description_tooltip": null,
            "layout": "IPY_MODEL_a1467e2ea59f4b9da3b305047bbced5e",
            "placeholder": "​",
            "style": "IPY_MODEL_18ce94e738094cd7b1d9b798c61ba30d",
            "value": " 1.18G/1.18G [00:40&lt;00:00, 43.2MB/s]"
          }
        },
        "b71575f23be44091ad72323b1a8e5989": {
          "model_module": "@jupyter-widgets/base",
          "model_name": "LayoutModel",
          "model_module_version": "1.2.0",
          "state": {
            "_model_module": "@jupyter-widgets/base",
            "_model_module_version": "1.2.0",
            "_model_name": "LayoutModel",
            "_view_count": null,
            "_view_module": "@jupyter-widgets/base",
            "_view_module_version": "1.2.0",
            "_view_name": "LayoutView",
            "align_content": null,
            "align_items": null,
            "align_self": null,
            "border": null,
            "bottom": null,
            "display": null,
            "flex": null,
            "flex_flow": null,
            "grid_area": null,
            "grid_auto_columns": null,
            "grid_auto_flow": null,
            "grid_auto_rows": null,
            "grid_column": null,
            "grid_gap": null,
            "grid_row": null,
            "grid_template_areas": null,
            "grid_template_columns": null,
            "grid_template_rows": null,
            "height": null,
            "justify_content": null,
            "justify_items": null,
            "left": null,
            "margin": null,
            "max_height": null,
            "max_width": null,
            "min_height": null,
            "min_width": null,
            "object_fit": null,
            "object_position": null,
            "order": null,
            "overflow": null,
            "overflow_x": null,
            "overflow_y": null,
            "padding": null,
            "right": null,
            "top": null,
            "visibility": null,
            "width": null
          }
        },
        "77a3607aa3974b5bae5a5fb45f17e4c5": {
          "model_module": "@jupyter-widgets/base",
          "model_name": "LayoutModel",
          "model_module_version": "1.2.0",
          "state": {
            "_model_module": "@jupyter-widgets/base",
            "_model_module_version": "1.2.0",
            "_model_name": "LayoutModel",
            "_view_count": null,
            "_view_module": "@jupyter-widgets/base",
            "_view_module_version": "1.2.0",
            "_view_name": "LayoutView",
            "align_content": null,
            "align_items": null,
            "align_self": null,
            "border": null,
            "bottom": null,
            "display": null,
            "flex": null,
            "flex_flow": null,
            "grid_area": null,
            "grid_auto_columns": null,
            "grid_auto_flow": null,
            "grid_auto_rows": null,
            "grid_column": null,
            "grid_gap": null,
            "grid_row": null,
            "grid_template_areas": null,
            "grid_template_columns": null,
            "grid_template_rows": null,
            "height": null,
            "justify_content": null,
            "justify_items": null,
            "left": null,
            "margin": null,
            "max_height": null,
            "max_width": null,
            "min_height": null,
            "min_width": null,
            "object_fit": null,
            "object_position": null,
            "order": null,
            "overflow": null,
            "overflow_x": null,
            "overflow_y": null,
            "padding": null,
            "right": null,
            "top": null,
            "visibility": null,
            "width": null
          }
        },
        "4aae8d61689e495f8cb7be8a6c94e33b": {
          "model_module": "@jupyter-widgets/controls",
          "model_name": "DescriptionStyleModel",
          "model_module_version": "1.5.0",
          "state": {
            "_model_module": "@jupyter-widgets/controls",
            "_model_module_version": "1.5.0",
            "_model_name": "DescriptionStyleModel",
            "_view_count": null,
            "_view_module": "@jupyter-widgets/base",
            "_view_module_version": "1.2.0",
            "_view_name": "StyleView",
            "description_width": ""
          }
        },
        "4a68c60eab3e4a028945e9d86c5c0c65": {
          "model_module": "@jupyter-widgets/base",
          "model_name": "LayoutModel",
          "model_module_version": "1.2.0",
          "state": {
            "_model_module": "@jupyter-widgets/base",
            "_model_module_version": "1.2.0",
            "_model_name": "LayoutModel",
            "_view_count": null,
            "_view_module": "@jupyter-widgets/base",
            "_view_module_version": "1.2.0",
            "_view_name": "LayoutView",
            "align_content": null,
            "align_items": null,
            "align_self": null,
            "border": null,
            "bottom": null,
            "display": null,
            "flex": null,
            "flex_flow": null,
            "grid_area": null,
            "grid_auto_columns": null,
            "grid_auto_flow": null,
            "grid_auto_rows": null,
            "grid_column": null,
            "grid_gap": null,
            "grid_row": null,
            "grid_template_areas": null,
            "grid_template_columns": null,
            "grid_template_rows": null,
            "height": null,
            "justify_content": null,
            "justify_items": null,
            "left": null,
            "margin": null,
            "max_height": null,
            "max_width": null,
            "min_height": null,
            "min_width": null,
            "object_fit": null,
            "object_position": null,
            "order": null,
            "overflow": null,
            "overflow_x": null,
            "overflow_y": null,
            "padding": null,
            "right": null,
            "top": null,
            "visibility": null,
            "width": null
          }
        },
        "5d564ee9a9544a6fb5582e02bbb9d6e1": {
          "model_module": "@jupyter-widgets/controls",
          "model_name": "ProgressStyleModel",
          "model_module_version": "1.5.0",
          "state": {
            "_model_module": "@jupyter-widgets/controls",
            "_model_module_version": "1.5.0",
            "_model_name": "ProgressStyleModel",
            "_view_count": null,
            "_view_module": "@jupyter-widgets/base",
            "_view_module_version": "1.2.0",
            "_view_name": "StyleView",
            "bar_color": null,
            "description_width": ""
          }
        },
        "a1467e2ea59f4b9da3b305047bbced5e": {
          "model_module": "@jupyter-widgets/base",
          "model_name": "LayoutModel",
          "model_module_version": "1.2.0",
          "state": {
            "_model_module": "@jupyter-widgets/base",
            "_model_module_version": "1.2.0",
            "_model_name": "LayoutModel",
            "_view_count": null,
            "_view_module": "@jupyter-widgets/base",
            "_view_module_version": "1.2.0",
            "_view_name": "LayoutView",
            "align_content": null,
            "align_items": null,
            "align_self": null,
            "border": null,
            "bottom": null,
            "display": null,
            "flex": null,
            "flex_flow": null,
            "grid_area": null,
            "grid_auto_columns": null,
            "grid_auto_flow": null,
            "grid_auto_rows": null,
            "grid_column": null,
            "grid_gap": null,
            "grid_row": null,
            "grid_template_areas": null,
            "grid_template_columns": null,
            "grid_template_rows": null,
            "height": null,
            "justify_content": null,
            "justify_items": null,
            "left": null,
            "margin": null,
            "max_height": null,
            "max_width": null,
            "min_height": null,
            "min_width": null,
            "object_fit": null,
            "object_position": null,
            "order": null,
            "overflow": null,
            "overflow_x": null,
            "overflow_y": null,
            "padding": null,
            "right": null,
            "top": null,
            "visibility": null,
            "width": null
          }
        },
        "18ce94e738094cd7b1d9b798c61ba30d": {
          "model_module": "@jupyter-widgets/controls",
          "model_name": "DescriptionStyleModel",
          "model_module_version": "1.5.0",
          "state": {
            "_model_module": "@jupyter-widgets/controls",
            "_model_module_version": "1.5.0",
            "_model_name": "DescriptionStyleModel",
            "_view_count": null,
            "_view_module": "@jupyter-widgets/base",
            "_view_module_version": "1.2.0",
            "_view_name": "StyleView",
            "description_width": ""
          }
        },
        "b4ea31b0fdb648d082ede1b94bc18272": {
          "model_module": "@jupyter-widgets/controls",
          "model_name": "HBoxModel",
          "model_module_version": "1.5.0",
          "state": {
            "_dom_classes": [],
            "_model_module": "@jupyter-widgets/controls",
            "_model_module_version": "1.5.0",
            "_model_name": "HBoxModel",
            "_view_count": null,
            "_view_module": "@jupyter-widgets/controls",
            "_view_module_version": "1.5.0",
            "_view_name": "HBoxView",
            "box_style": "",
            "children": [
              "IPY_MODEL_d2dd372acd8b4fc6b553e6e326a7faad",
              "IPY_MODEL_d7e8f870f78345fcb90db10710d582b6",
              "IPY_MODEL_296808b09428483587dea50a755678d9"
            ],
            "layout": "IPY_MODEL_e1e4aab0319b439da7a4f616604de4ac"
          }
        },
        "d2dd372acd8b4fc6b553e6e326a7faad": {
          "model_module": "@jupyter-widgets/controls",
          "model_name": "HTMLModel",
          "model_module_version": "1.5.0",
          "state": {
            "_dom_classes": [],
            "_model_module": "@jupyter-widgets/controls",
            "_model_module_version": "1.5.0",
            "_model_name": "HTMLModel",
            "_view_count": null,
            "_view_module": "@jupyter-widgets/controls",
            "_view_module_version": "1.5.0",
            "_view_name": "HTMLView",
            "description": "",
            "description_tooltip": null,
            "layout": "IPY_MODEL_e385efc9b9e340e8a09b520c4419f995",
            "placeholder": "​",
            "style": "IPY_MODEL_b7493121ee924fec8756f31909614377",
            "value": ""
          }
        },
        "d7e8f870f78345fcb90db10710d582b6": {
          "model_module": "@jupyter-widgets/controls",
          "model_name": "FloatProgressModel",
          "model_module_version": "1.5.0",
          "state": {
            "_dom_classes": [],
            "_model_module": "@jupyter-widgets/controls",
            "_model_module_version": "1.5.0",
            "_model_name": "FloatProgressModel",
            "_view_count": null,
            "_view_module": "@jupyter-widgets/controls",
            "_view_module_version": "1.5.0",
            "_view_name": "ProgressView",
            "bar_style": "success",
            "description": "",
            "description_tooltip": null,
            "layout": "IPY_MODEL_b9492462cae24b9e9f02f6a1072ced02",
            "max": 1,
            "min": 0,
            "orientation": "horizontal",
            "style": "IPY_MODEL_0e9e6a3a5e03400ba70b9f46ad3f954b",
            "value": 1
          }
        },
        "296808b09428483587dea50a755678d9": {
          "model_module": "@jupyter-widgets/controls",
          "model_name": "HTMLModel",
          "model_module_version": "1.5.0",
          "state": {
            "_dom_classes": [],
            "_model_module": "@jupyter-widgets/controls",
            "_model_module_version": "1.5.0",
            "_model_name": "HTMLModel",
            "_view_count": null,
            "_view_module": "@jupyter-widgets/controls",
            "_view_module_version": "1.5.0",
            "_view_name": "HTMLView",
            "description": "",
            "description_tooltip": null,
            "layout": "IPY_MODEL_d7253b650a334990be6738db023e780f",
            "placeholder": "​",
            "style": "IPY_MODEL_197bd56ca0f6425d99ff0316d8e14ad3",
            "value": " 1680/? [21:44&lt;00:00,  1.39ex/s]"
          }
        },
        "e1e4aab0319b439da7a4f616604de4ac": {
          "model_module": "@jupyter-widgets/base",
          "model_name": "LayoutModel",
          "model_module_version": "1.2.0",
          "state": {
            "_model_module": "@jupyter-widgets/base",
            "_model_module_version": "1.2.0",
            "_model_name": "LayoutModel",
            "_view_count": null,
            "_view_module": "@jupyter-widgets/base",
            "_view_module_version": "1.2.0",
            "_view_name": "LayoutView",
            "align_content": null,
            "align_items": null,
            "align_self": null,
            "border": null,
            "bottom": null,
            "display": null,
            "flex": null,
            "flex_flow": null,
            "grid_area": null,
            "grid_auto_columns": null,
            "grid_auto_flow": null,
            "grid_auto_rows": null,
            "grid_column": null,
            "grid_gap": null,
            "grid_row": null,
            "grid_template_areas": null,
            "grid_template_columns": null,
            "grid_template_rows": null,
            "height": null,
            "justify_content": null,
            "justify_items": null,
            "left": null,
            "margin": null,
            "max_height": null,
            "max_width": null,
            "min_height": null,
            "min_width": null,
            "object_fit": null,
            "object_position": null,
            "order": null,
            "overflow": null,
            "overflow_x": null,
            "overflow_y": null,
            "padding": null,
            "right": null,
            "top": null,
            "visibility": null,
            "width": null
          }
        },
        "e385efc9b9e340e8a09b520c4419f995": {
          "model_module": "@jupyter-widgets/base",
          "model_name": "LayoutModel",
          "model_module_version": "1.2.0",
          "state": {
            "_model_module": "@jupyter-widgets/base",
            "_model_module_version": "1.2.0",
            "_model_name": "LayoutModel",
            "_view_count": null,
            "_view_module": "@jupyter-widgets/base",
            "_view_module_version": "1.2.0",
            "_view_name": "LayoutView",
            "align_content": null,
            "align_items": null,
            "align_self": null,
            "border": null,
            "bottom": null,
            "display": null,
            "flex": null,
            "flex_flow": null,
            "grid_area": null,
            "grid_auto_columns": null,
            "grid_auto_flow": null,
            "grid_auto_rows": null,
            "grid_column": null,
            "grid_gap": null,
            "grid_row": null,
            "grid_template_areas": null,
            "grid_template_columns": null,
            "grid_template_rows": null,
            "height": null,
            "justify_content": null,
            "justify_items": null,
            "left": null,
            "margin": null,
            "max_height": null,
            "max_width": null,
            "min_height": null,
            "min_width": null,
            "object_fit": null,
            "object_position": null,
            "order": null,
            "overflow": null,
            "overflow_x": null,
            "overflow_y": null,
            "padding": null,
            "right": null,
            "top": null,
            "visibility": null,
            "width": null
          }
        },
        "b7493121ee924fec8756f31909614377": {
          "model_module": "@jupyter-widgets/controls",
          "model_name": "DescriptionStyleModel",
          "model_module_version": "1.5.0",
          "state": {
            "_model_module": "@jupyter-widgets/controls",
            "_model_module_version": "1.5.0",
            "_model_name": "DescriptionStyleModel",
            "_view_count": null,
            "_view_module": "@jupyter-widgets/base",
            "_view_module_version": "1.2.0",
            "_view_name": "StyleView",
            "description_width": ""
          }
        },
        "b9492462cae24b9e9f02f6a1072ced02": {
          "model_module": "@jupyter-widgets/base",
          "model_name": "LayoutModel",
          "model_module_version": "1.2.0",
          "state": {
            "_model_module": "@jupyter-widgets/base",
            "_model_module_version": "1.2.0",
            "_model_name": "LayoutModel",
            "_view_count": null,
            "_view_module": "@jupyter-widgets/base",
            "_view_module_version": "1.2.0",
            "_view_name": "LayoutView",
            "align_content": null,
            "align_items": null,
            "align_self": null,
            "border": null,
            "bottom": null,
            "display": null,
            "flex": null,
            "flex_flow": null,
            "grid_area": null,
            "grid_auto_columns": null,
            "grid_auto_flow": null,
            "grid_auto_rows": null,
            "grid_column": null,
            "grid_gap": null,
            "grid_row": null,
            "grid_template_areas": null,
            "grid_template_columns": null,
            "grid_template_rows": null,
            "height": null,
            "justify_content": null,
            "justify_items": null,
            "left": null,
            "margin": null,
            "max_height": null,
            "max_width": null,
            "min_height": null,
            "min_width": null,
            "object_fit": null,
            "object_position": null,
            "order": null,
            "overflow": null,
            "overflow_x": null,
            "overflow_y": null,
            "padding": null,
            "right": null,
            "top": null,
            "visibility": null,
            "width": "20px"
          }
        },
        "0e9e6a3a5e03400ba70b9f46ad3f954b": {
          "model_module": "@jupyter-widgets/controls",
          "model_name": "ProgressStyleModel",
          "model_module_version": "1.5.0",
          "state": {
            "_model_module": "@jupyter-widgets/controls",
            "_model_module_version": "1.5.0",
            "_model_name": "ProgressStyleModel",
            "_view_count": null,
            "_view_module": "@jupyter-widgets/base",
            "_view_module_version": "1.2.0",
            "_view_name": "StyleView",
            "bar_color": null,
            "description_width": ""
          }
        },
        "d7253b650a334990be6738db023e780f": {
          "model_module": "@jupyter-widgets/base",
          "model_name": "LayoutModel",
          "model_module_version": "1.2.0",
          "state": {
            "_model_module": "@jupyter-widgets/base",
            "_model_module_version": "1.2.0",
            "_model_name": "LayoutModel",
            "_view_count": null,
            "_view_module": "@jupyter-widgets/base",
            "_view_module_version": "1.2.0",
            "_view_name": "LayoutView",
            "align_content": null,
            "align_items": null,
            "align_self": null,
            "border": null,
            "bottom": null,
            "display": null,
            "flex": null,
            "flex_flow": null,
            "grid_area": null,
            "grid_auto_columns": null,
            "grid_auto_flow": null,
            "grid_auto_rows": null,
            "grid_column": null,
            "grid_gap": null,
            "grid_row": null,
            "grid_template_areas": null,
            "grid_template_columns": null,
            "grid_template_rows": null,
            "height": null,
            "justify_content": null,
            "justify_items": null,
            "left": null,
            "margin": null,
            "max_height": null,
            "max_width": null,
            "min_height": null,
            "min_width": null,
            "object_fit": null,
            "object_position": null,
            "order": null,
            "overflow": null,
            "overflow_x": null,
            "overflow_y": null,
            "padding": null,
            "right": null,
            "top": null,
            "visibility": null,
            "width": null
          }
        },
        "197bd56ca0f6425d99ff0316d8e14ad3": {
          "model_module": "@jupyter-widgets/controls",
          "model_name": "DescriptionStyleModel",
          "model_module_version": "1.5.0",
          "state": {
            "_model_module": "@jupyter-widgets/controls",
            "_model_module_version": "1.5.0",
            "_model_name": "DescriptionStyleModel",
            "_view_count": null,
            "_view_module": "@jupyter-widgets/base",
            "_view_module_version": "1.2.0",
            "_view_name": "StyleView",
            "description_width": ""
          }
        }
      }
    }
  },
  "cells": [
    {
      "cell_type": "markdown",
      "metadata": {
        "id": "LBSYoWbi-45k"
      },
      "source": [
        "# **Fine-tuning Wav2Vec2 for English ASR with 🤗 Transformers**"
      ]
    },
    {
      "cell_type": "markdown",
      "metadata": {
        "id": "V7YOT2mnUiea"
      },
      "source": [
        "\n",
        "[Fine-tuning Wav2Vec2 for English ASR with Transformers](https://colab.research.google.com/github/patrickvonplaten/notebooks/blob/master/Fine_tuning_Wav2Vec2_for_English_ASR.ipynb) 를 한국어로 번역하고 공부한 notebook 입니다.\n",
        "\n",
        "\n",
        "Wav2Vec2는 자동 음성 인식(ASR)을 위해 사전 훈련된 모델입니다.\n",
        "\n",
        "[September 2020](https://ai.facebook.com/blog/wav2vec-20-learning-the-structure-of-speech-from-raw-audio/) 에 Alexei Baevski, Michael Auli, and Alex Conneau  이 공개했습니다.\n",
        "\n",
        "Wav2Vec2는 Using a novel contrastive pretraining objective를 사용하여 레이블이 없는 50,000 시간 이상의 음성에서 강력한 음성 표현을 학습합니다\n",
        "\n",
        " [BERT's masked language modeling](http://jalammar.github.io/illustrated-bert/) 과 유사하게 이 모델은 feature vector를 transformer network에 전달하기 전에 무작위로 마스킹하여 상황에 맞는 speech representation을 학습합니다.\n",
        "\n",
        "![wav2vec2_structure](https://raw.githubusercontent.com/patrickvonplaten/scientific_images/master/wav2vec2.png)\n",
        "\n",
        "처음으로 사전 훈련 후 매우 적은 레이블이 지정된 음성 데이터에 대한 미세 조정이 최첨단 ASR 시스템의 state-of-the-art 달성하는 것으로 나타났습니다.\n",
        "\n",
        "레이블이 지정된 10분 정도의 데이터를  사용하여 Wav2Vec2 는 LibriSpeech 의 clean test set 에서 5% 미만의 단어 오류율(WER)을 산출합니다. \n",
        "\n",
        "[LibriSpeech](https://huggingface.co/datasets/librispeech_asr) - *cf.* with Table 9 of the [paper](https://arxiv.org/pdf/2006.11477.pdf)."
      ]
    },
    {
      "cell_type": "markdown",
      "metadata": {
        "id": "nT_QrfWtsxIz"
      },
      "source": [
        "이 notebook에서는 Wav2Vec2의 사전 훈련된 체크포인트가 모든 영어 ASR 데이터 세트에서 미세 조정되는 방법에 대해 자세히 설명합니다. \n",
        "\n",
        "이 노트북에서는 언어 모델을 사용하지 않고 Wav2Vec2를 미세 조정할 것입니다.\n",
        "\n",
        "종단 간 ASR 시스템으로 언어 모델 없이 Wav2Vec2를 사용하는 것이 훨씬 간단하며 독립형 Wav2Vec2 음향 모델이 인상적인 결과를 달성하는 것으로 나타났습니다. 데모 목적으로 5h의 훈련 데이터를 포함 하는 다소 작은 [Timit](https://huggingface.co/datasets/timit_asr)  데이터 세트 에서 \"base\" 크기의 [pretrained checkpoint](https://huggingface.co/facebook/wav2vec2-base) 를 미세 조정합니다 .\n",
        "\n"
      ]
    },
    {
      "cell_type": "markdown",
      "metadata": {
        "id": "Gx9OdDYrCtQ1"
      },
      "source": [
        "Wav2Vec2 은 Connectionist Temporal Classification (CTC)를 사용하여 fine tuned 됩니다.\n",
        "CTC는  sequence-to-sequence 문제와 주로Automatic Speech Recognition 및 handwriting recognition 에 대해 신경망을 훈련하는 데 사용되는 알고리즘입니다.\n",
        "\n",
        "CTC 설명이 잘되어 있는 blog post :  [Sequence Modeling with CTC (2017)](https://distill.pub/2017/ctc/) "
      ]
    },
    {
      "cell_type": "markdown",
      "metadata": {
        "id": "qW3J3rBizeds"
      },
      "source": [
        "colab에서 GPU 엑세스 하기 \n",
        "\n",
        "Google Colab Pro를 사용하면 V100 또는 P100 GPU  사용 가능 "
      ]
    },
    {
      "cell_type": "code",
      "metadata": {
        "id": "SLAufgh_xxj7",
        "colab": {
          "base_uri": "https://localhost:8080/"
        },
        "outputId": "af195435-f32e-43ec-aea1-51d9fd848d46"
      },
      "source": [
        "gpu_info = !nvidia-smi\n",
        "gpu_info = '\\n'.join(gpu_info)\n",
        "if gpu_info.find('failed') >= 0:\n",
        "  print('Not connected to a GPU')\n",
        "else:\n",
        "  print(gpu_info)"
      ],
      "execution_count": null,
      "outputs": [
        {
          "output_type": "stream",
          "name": "stdout",
          "text": [
            "Fri Apr 22 03:57:01 2022       \n",
            "+-----------------------------------------------------------------------------+\n",
            "| NVIDIA-SMI 460.32.03    Driver Version: 460.32.03    CUDA Version: 11.2     |\n",
            "|-------------------------------+----------------------+----------------------+\n",
            "| GPU  Name        Persistence-M| Bus-Id        Disp.A | Volatile Uncorr. ECC |\n",
            "| Fan  Temp  Perf  Pwr:Usage/Cap|         Memory-Usage | GPU-Util  Compute M. |\n",
            "|                               |                      |               MIG M. |\n",
            "|===============================+======================+======================|\n",
            "|   0  Tesla P100-PCIE...  Off  | 00000000:00:04.0 Off |                    0 |\n",
            "| N/A   41C    P0    27W / 250W |      0MiB / 16280MiB |      0%      Default |\n",
            "|                               |                      |                  N/A |\n",
            "+-------------------------------+----------------------+----------------------+\n",
            "                                                                               \n",
            "+-----------------------------------------------------------------------------+\n",
            "| Processes:                                                                  |\n",
            "|  GPU   GI   CI        PID   Type   Process name                  GPU Memory |\n",
            "|        ID   ID                                                   Usage      |\n",
            "|=============================================================================|\n",
            "|  No running processes found                                                 |\n",
            "+-----------------------------------------------------------------------------+\n"
          ]
        }
      ]
    },
    {
      "cell_type": "markdown",
      "metadata": {
        "id": "e335hPmdtASZ"
      },
      "source": [
        "패키지 설치하기\n",
        "\n",
        "`datasets` \n",
        "\n",
        "`transformers`\n",
        "\n",
        "`librosa` : audio files load\n",
        "\n",
        "`jiwer` : fine-tuned 된 모델을 [word error rate (WER)](https://huggingface.co/metrics/wer) 로 평가"
      ]
    },
    {
      "cell_type": "code",
      "metadata": {
        "id": "c8eh87Hoee5d"
      },
      "source": [
        "%%capture\n",
        "!pip install datasets==1.18.3\n",
        "!pip install transformers==4.11.3\n",
        "!pip install librosa\n",
        "!pip install jiwer"
      ],
      "execution_count": null,
      "outputs": []
    },
    {
      "cell_type": "markdown",
      "metadata": {
        "id": "8_6kYmDMH9lR"
      },
      "source": [
        "훈련 중에 훈련 체크포인트를 Hugging Face [🤗 Hub](https://huggingface.co/) 에 직접 업로드하는 것이 좋음\n",
        "\n",
        "Hub에는 버전 제어가 통합되어 있으므로 학습 중에 모델 체크포인트가 손실되지 않도록 할 수 있음\n",
        "\n",
        "이를 위해 Hugging Face 웹사이트에서 인증 토큰을 저장\n",
        "\n",
        "아직 없다면  sign up [here](https://huggingface.co/join) \n"
      ]
    },
    {
      "cell_type": "code",
      "metadata": {
        "colab": {
          "base_uri": "https://localhost:8080/",
          "height": 415,
          "referenced_widgets": [
            "407e73df9bb44129a92373486b8411bb",
            "97501ef17ff6405d8d9d38528b8d6277",
            "b53045d60d8e4f30bf17fc39db8fd9b2",
            "9600a59d6ce048b5b157b89e394e72f4",
            "581d7d37da4a480bbe368c477eeb8e1f",
            "8adb2ccf0982452ea99fd94fe1ab23a0",
            "859338a2690d4f88bb2303c9b170b4d8",
            "e8d307ca0c0d4499b408d7a199b76565",
            "92683e40ee4840ef88679f784a99dab9",
            "5949a670d7c44bce862438cfe04530e9",
            "27f1b95f8caf42c7bf4fa08d8e090d35",
            "a3682d738b1848599b02df1f9f233d83",
            "81b1622e253649509507173ade6c3f42",
            "eb607ea090b24465bcb4af8d62043587",
            "1cd3a31921f044deaddc5f948ac69be8",
            "60ada0efc621404eaec58dd5acf4126d",
            "e3c936d2c9c642a58b74fc9ce5195a09"
          ]
        },
        "id": "zFLBDyzQIA3R",
        "outputId": "6f3073d0-ba44-4e4d-9edc-f617f91a8f56"
      },
      "source": [
        "from huggingface_hub import notebook_login\n",
        "\n",
        "notebook_login()"
      ],
      "execution_count": null,
      "outputs": [
        {
          "output_type": "stream",
          "name": "stdout",
          "text": [
            "Login successful\n",
            "Your token has been saved to /root/.huggingface/token\n",
            "\u001b[1m\u001b[31mAuthenticated through git-credential store but this isn't the helper defined on your machine.\n",
            "You might have to re-authenticate when pushing to the Hugging Face Hub. Run the following command in your terminal in case you want to set this credential helper as the default\n",
            "\n",
            "git config --global credential.helper store\u001b[0m\n"
          ]
        }
      ]
    },
    {
      "cell_type": "markdown",
      "metadata": {
        "id": "zCyw5D23IQ1F"
      },
      "source": [
        "Git-LFS 설치 :  model checkpoints 업로드"
      ]
    },
    {
      "cell_type": "code",
      "metadata": {
        "id": "Q9BnQDhOITBC"
      },
      "source": [
        "%%capture\n",
        "!apt install git-lfs"
      ],
      "execution_count": null,
      "outputs": []
    },
    {
      "cell_type": "markdown",
      "metadata": {
        "id": "Mn9swf6EQ9Vd"
      },
      "source": [
        "Timit는 일반적으로 PER(phoneme error rate 음소 오류율)을 사용하여 평가\n",
        "\n",
        "but ASR에서 가장 일반적인 측정 기준은 WER(word error rate 단어 오류율)\n",
        "\n",
        " 일반적으로 WER을 많이 사용하기 때문에 여기서는 WER을 사용하여 모델을 평가\n",
        "\n"
      ]
    },
    {
      "cell_type": "markdown",
      "metadata": {
        "id": "0mW-C1Nt-j7k"
      },
      "source": [
        "## Prepare Data, Tokenizer, Feature Extractor"
      ]
    },
    {
      "cell_type": "markdown",
      "metadata": {
        "id": "BeBosnY9BH3e"
      },
      "source": [
        "ASR 모델은 음성을 텍스트로 변환하기 때문에  feature extractor, tokenizer 둘 다 필요\n",
        "\n",
        "\n",
        "feature extractor는 speech signal를 모델의 입력 형식( 예: feature vector)으로 처리하는데 필요하고\n",
        "\n",
        " tokenizer는 모델의 출력 형식을 텍스트로 처리하는데 필요함\n",
        "\n",
        "\n",
        "\n",
        "🤗 Transformers에서  Wav2Vec2 model은 tokenizer와 feature extractor를 제공\n",
        "\n",
        " Tokenizer-[Wav2Vec2CTCTokenizer](https://huggingface.co/transformers/master/model_doc/wav2vec2.html#wav2vec2ctctokenizer)\n",
        "\n",
        " Feature extractor - [Wav2Vec2FeatureExtractor](https://huggingface.co/transformers/master/model_doc/wav2vec2.html#wav2vec2featureextractor).\n",
        "\n",
        "\n",
        "먼저 모델의 예측 디코딩을 담당하는 토크나이저 Wav2Vec2CTCTokenizer 생성 "
      ]
    },
    {
      "cell_type": "markdown",
      "metadata": {
        "id": "sEXEWEJGQPqD"
      },
      "source": [
        "### Create Wav2Vec2CTCTokenizer"
      ]
    },
    {
      "cell_type": "markdown",
      "metadata": {
        "id": "tWmMikuNEKl_"
      },
      "source": [
        "[pretrained Wav2Vec2 checkpoint]( ) 는 speech signal을  sequence of context representations에 매핑합니다.(위의 Fig)\n",
        "\n",
        "fine-tuned Wav2Vec2 checkpoint는 이 sequence of context representations 와 대응하는 *transcription가 매핑되고 선형 레이어가 transformer block (노란색으로 표시) 위에 추가 되어야합니다.\n",
        "\n",
        "( *transcription(전사)란? 구어(spoken language)와 관련된 연구에서 녹음된 음성 데이터를 문자로 표현하는 작업)\n",
        "\n",
        "\n",
        "\n",
        "\n",
        " 이 선형 계층은 각 context representations 을  token class로 분류하는 데 사용됩니다. \n",
        " \n",
        "이는 사전 훈련 후 선형 계층이 추가 분류를 위해 BERT의 임베딩 위에 추가되는 방식과 유사합니다. \n",
        " \n",
        " 참조 . [blog post](https://huggingface.co/blog/warm-starting-encoder-decoder). 의 \"BERT\" 섹션.\n",
        "\n",
        "이 레이어의 출력 크기는 Wav2Vec2의 사전 훈련 작업에 의존 하지 않고 미세 조정에 사용되는 레이블이 지정된 데이터 세트에만 의존하는 어휘의 토큰 수에 해당합니다.\n",
        "\n",
        "따라서 첫 번째 단계에서 Timit를 살펴보고 데이터 세트의 전사를 기반으로 어휘를 정의합니다.\n",
        "\n",
        "먼저 데이터세트를 로드하고 구조를 살펴보겠습니다.\n"
      ]
    },
    {
      "cell_type": "markdown",
      "metadata": {
        "id": "bee4g9rpLxll"
      },
      "source": [
        "데이터세트를 로드하고 구조를 살펴보기"
      ]
    },
    {
      "cell_type": "code",
      "metadata": {
        "id": "2MMXcWFFgCXU",
        "colab": {
          "base_uri": "https://localhost:8080/",
          "height": 202,
          "referenced_widgets": [
            "a799dadfa9c14cfead97cbdbb7bc4772",
            "88474c9917444a51b74f6dd7cee5e1ca",
            "7c9d194c8f454ce9af2195b49e2d0e55",
            "f270956907364de08c47a974d3237406",
            "843d5781809349abba176e04dbd1d51b",
            "83d9be1d1e77441c8dbcf938f2d342b2",
            "478afbe07bb54ad785fa8691d904e63c",
            "522c6acf1b674c27808f43b3e7278e87",
            "e43a2db9a33d4149a6331bf41ceba932",
            "d1d1e39e43fe4827ba7eeeb9da31a4d8",
            "4deb6fd1504245e980297b98be562e24",
            "58891fb9494b4fa3a11330e663f4ac51",
            "ae734c118a6c4d1381048e9d420e24af",
            "54e2ac67a8c7494bb356df425a663e06",
            "8fc8f2f53b5d44f397d6c1f08480baf5",
            "428b919a63a54a13bf975f73f2edc570",
            "88f591650f75472290f072552cc677b0",
            "e14e42ac85c947958d5f9d1821202520",
            "ebc0bace41cd4a65acca35b4848a94d0",
            "d7028f6cbc604335bfb39ef8d66aa392",
            "955c7b66a2434a6789f87fbb4365761f",
            "5c96bcbaeb8845c8aa2569b9ae52e89b",
            "6a47f2981cef4f828b955792caf895d4",
            "6b893aef701440b58df3d83ac9fae7d5",
            "8ebb200dd6134c6da8546a95aba6ec4a",
            "912f05b0eb4440e5ba9ccd6d8a99da31",
            "9cdfdd907c5745c1b13e2e49282d2426",
            "64542b0df70f439a8b6c299f629c7ee1",
            "8b1db673ade041e09f2f3765df7f7c91",
            "f64501df7ba1457a8616954942189fa8",
            "82257773366a4c009e36407aebd2b0cf",
            "553ac05ffcad441190a879285840227d",
            "eb1a177c9ad940baae2ae13983d39f36",
            "c362bdfd2a944fd9898bc77a6ad0f36a",
            "a17bff2c1a114b17a15d91172a7a9003",
            "9c343c238d99438880bdc03cde8ea99b",
            "a086794c68174b99a776fb643c5a3db0",
            "fe5203ca621a4f36b4ddc95a29c9bd70",
            "8c7f235cd08340b8bd864d506052799a",
            "fbfd8da7808c416b9cab24b65c1cac4e",
            "e9f86e8bc3ce4e8da4d108d41ad547cf",
            "b4a9e53c509d4abf8f90dd342f16e315",
            "2e3bcdc28a0a4e85b179d536c613a480",
            "9cb847f00183468fb46ab2d4067f1e53",
            "3bf7b0d2b97b47389f0f2103731707fd",
            "ac783e9f916b4425bfd5e9883d145eda",
            "43d732a655cb48549872e960a86cdddd",
            "fc1eda0f4fb04358a586b40885296da7",
            "961794f606964cc0b888d0db4cbc5aa8",
            "f81be2156cf74a34b757b588986ed0d4",
            "9a5a976d58f64817980d8eefcd5c2124",
            "771187eac69143a0a8bb1cd0c8338a04",
            "c30b4131ca38464080d5ebfadbd9451c",
            "b5af402e1d0447ddba30cea8ce59b15d",
            "d020bf0371b441d6abca787d41e5a9b4",
            "6f6b0196e9d04d98b56a432e2783fc89",
            "1df66d96211948ebbc1f80850b1214c1",
            "9f16524e4df9493081fd78928ca4056a",
            "d6f8f1d0b32146f7ad3c2a1ac0057df3",
            "32bacb959360492f90a8409a94a24e4c",
            "308f2273234c4db4b1145699355082e0",
            "481fec8a0e764e65abe7e72e1f7fa343",
            "655835bb7d184cdb99e61f60438577ad",
            "bd2b95dda8d14c92b11b6f57f460876b",
            "a9dea6f5c392491e9e25a7c95fd07c52",
            "674089e478604357b316e691a02f940d"
          ]
        },
        "outputId": "b6b7e871-da6d-4dbf-8a41-65b57467504c"
      },
      "source": [
        "from datasets import load_dataset, load_metric\n",
        "\n",
        "timit = load_dataset(\"timit_asr\")"
      ],
      "execution_count": null,
      "outputs": [
        {
          "output_type": "display_data",
          "data": {
            "text/plain": [
              "Downloading:   0%|          | 0.00/2.40k [00:00<?, ?B/s]"
            ],
            "application/vnd.jupyter.widget-view+json": {
              "version_major": 2,
              "version_minor": 0,
              "model_id": "a799dadfa9c14cfead97cbdbb7bc4772"
            }
          },
          "metadata": {}
        },
        {
          "output_type": "display_data",
          "data": {
            "text/plain": [
              "Downloading:   0%|          | 0.00/1.06k [00:00<?, ?B/s]"
            ],
            "application/vnd.jupyter.widget-view+json": {
              "version_major": 2,
              "version_minor": 0,
              "model_id": "58891fb9494b4fa3a11330e663f4ac51"
            }
          },
          "metadata": {}
        },
        {
          "output_type": "stream",
          "name": "stdout",
          "text": [
            "Downloading and preparing dataset timit_asr/clean (download: 828.75 MiB, generated: 7.90 MiB, post-processed: Unknown size, total: 836.65 MiB) to /root/.cache/huggingface/datasets/timit_asr/clean/2.0.1/b11b576ddcccbcefa7c9f0c4e6c2a43756f3033adffe0fb686aa61043d0450ad...\n"
          ]
        },
        {
          "output_type": "display_data",
          "data": {
            "text/plain": [
              "Downloading:   0%|          | 0.00/869M [00:00<?, ?B/s]"
            ],
            "application/vnd.jupyter.widget-view+json": {
              "version_major": 2,
              "version_minor": 0,
              "model_id": "6a47f2981cef4f828b955792caf895d4"
            }
          },
          "metadata": {}
        },
        {
          "output_type": "display_data",
          "data": {
            "text/plain": [
              "0 examples [00:00, ? examples/s]"
            ],
            "application/vnd.jupyter.widget-view+json": {
              "version_major": 2,
              "version_minor": 0,
              "model_id": "c362bdfd2a944fd9898bc77a6ad0f36a"
            }
          },
          "metadata": {}
        },
        {
          "output_type": "display_data",
          "data": {
            "text/plain": [
              "0 examples [00:00, ? examples/s]"
            ],
            "application/vnd.jupyter.widget-view+json": {
              "version_major": 2,
              "version_minor": 0,
              "model_id": "3bf7b0d2b97b47389f0f2103731707fd"
            }
          },
          "metadata": {}
        },
        {
          "output_type": "stream",
          "name": "stdout",
          "text": [
            "Dataset timit_asr downloaded and prepared to /root/.cache/huggingface/datasets/timit_asr/clean/2.0.1/b11b576ddcccbcefa7c9f0c4e6c2a43756f3033adffe0fb686aa61043d0450ad. Subsequent calls will reuse this data.\n"
          ]
        },
        {
          "output_type": "display_data",
          "data": {
            "text/plain": [
              "  0%|          | 0/2 [00:00<?, ?it/s]"
            ],
            "application/vnd.jupyter.widget-view+json": {
              "version_major": 2,
              "version_minor": 0,
              "model_id": "6f6b0196e9d04d98b56a432e2783fc89"
            }
          },
          "metadata": {}
        }
      ]
    },
    {
      "cell_type": "code",
      "metadata": {
        "colab": {
          "base_uri": "https://localhost:8080/"
        },
        "id": "QbIM-L0xdvf4",
        "outputId": "3284cfaa-d190-4789-9bce-520e8c97cbf4"
      },
      "source": [
        "timit"
      ],
      "execution_count": null,
      "outputs": [
        {
          "output_type": "execute_result",
          "data": {
            "text/plain": [
              "DatasetDict({\n",
              "    train: Dataset({\n",
              "        features: ['file', 'audio', 'text', 'phonetic_detail', 'word_detail', 'dialect_region', 'sentence_type', 'speaker_id', 'id'],\n",
              "        num_rows: 4620\n",
              "    })\n",
              "    test: Dataset({\n",
              "        features: ['file', 'audio', 'text', 'phonetic_detail', 'word_detail', 'dialect_region', 'sentence_type', 'speaker_id', 'id'],\n",
              "        num_rows: 1680\n",
              "    })\n",
              "})"
            ]
          },
          "metadata": {},
          "execution_count": 6
        }
      ]
    },
    {
      "cell_type": "markdown",
      "metadata": {
        "id": "ri5y5N_HMANq"
      },
      "source": [
        "많은 ASR 데이터 세트 는 각 오디오 파일에 대해 대상 텍스트만 제공\n",
        "\n",
        "Timit은 'phonetic_detail' 등과 같은 각 오디오 파일에 대해 훨씬 더 많은 정보를 제공\n",
        "\n",
        "여기서는 전사된 텍스트 데이터만 미세 조정을 위해 사용 "
      ]
    },
    {
      "cell_type": "code",
      "metadata": {
        "id": "kbyq6lDgQc2a"
      },
      "source": [
        "#file', 'audio', 'text'를 제외하고 제거\n",
        "timit = timit.remove_columns([\"phonetic_detail\", \"word_detail\", \"dialect_region\", \"id\", \"sentence_type\", \"speaker_id\"])"
      ],
      "execution_count": null,
      "outputs": []
    },
    {
      "cell_type": "markdown",
      "metadata": {
        "id": "Go9Hq4e4NDT9"
      },
      "source": [
        "데이터 세트의 일부 랜덤 샘플을 출력하는 함수\n",
        "\n",
        "전사가 어떤 문장인지 확인"
      ]
    },
    {
      "cell_type": "code",
      "metadata": {
        "id": "72737oog2F6U"
      },
      "source": [
        "from datasets import ClassLabel\n",
        "import random\n",
        "import pandas as pd\n",
        "from IPython.display import display, HTML\n",
        "\n",
        "def show_random_elements(dataset, num_examples=10):\n",
        "    assert num_examples <= len(dataset), \"Can't pick more elements than there are in the dataset.\"\n",
        "    picks = []\n",
        "    for _ in range(num_examples):\n",
        "        pick = random.randint(0, len(dataset)-1)\n",
        "        while pick in picks:\n",
        "            pick = random.randint(0, len(dataset)-1)\n",
        "        picks.append(pick)\n",
        "    \n",
        "    df = pd.DataFrame(dataset[picks])\n",
        "    display(HTML(df.to_html()))"
      ],
      "execution_count": null,
      "outputs": []
    },
    {
      "cell_type": "code",
      "metadata": {
        "colab": {
          "base_uri": "https://localhost:8080/",
          "height": 363
        },
        "id": "K_JUmf3G3b9S",
        "outputId": "71017006-aa21-4b9d-88fd-8a8339f7b044"
      },
      "source": [
        "show_random_elements(timit[\"train\"].remove_columns([\"audio\", \"file\"]), num_examples=10)"
      ],
      "execution_count": null,
      "outputs": [
        {
          "output_type": "display_data",
          "data": {
            "text/plain": [
              "<IPython.core.display.HTML object>"
            ],
            "text/html": [
              "<table border=\"1\" class=\"dataframe\">\n",
              "  <thead>\n",
              "    <tr style=\"text-align: right;\">\n",
              "      <th></th>\n",
              "      <th>text</th>\n",
              "    </tr>\n",
              "  </thead>\n",
              "  <tbody>\n",
              "    <tr>\n",
              "      <th>0</th>\n",
              "      <td>It gave her a lewd, winking effect.</td>\n",
              "    </tr>\n",
              "    <tr>\n",
              "      <th>1</th>\n",
              "      <td>They were pursuing him.</td>\n",
              "    </tr>\n",
              "    <tr>\n",
              "      <th>2</th>\n",
              "      <td>The sermon emphasized the need for affirmative action.</td>\n",
              "    </tr>\n",
              "    <tr>\n",
              "      <th>3</th>\n",
              "      <td>Shipbuilding is a most fascinating process.</td>\n",
              "    </tr>\n",
              "    <tr>\n",
              "      <th>4</th>\n",
              "      <td>Don't look for group valuables in a bank vault.</td>\n",
              "    </tr>\n",
              "    <tr>\n",
              "      <th>5</th>\n",
              "      <td>Did you eat yet?</td>\n",
              "    </tr>\n",
              "    <tr>\n",
              "      <th>6</th>\n",
              "      <td>The dimensions of these waves dwarf all our usual standards of measurement.</td>\n",
              "    </tr>\n",
              "    <tr>\n",
              "      <th>7</th>\n",
              "      <td>She had your dark suit in greasy wash water all year.</td>\n",
              "    </tr>\n",
              "    <tr>\n",
              "      <th>8</th>\n",
              "      <td>A huge tapestry hung in her hallway.</td>\n",
              "    </tr>\n",
              "    <tr>\n",
              "      <th>9</th>\n",
              "      <td>But that heritage is shrinking even faster.</td>\n",
              "    </tr>\n",
              "  </tbody>\n",
              "</table>"
            ]
          },
          "metadata": {}
        }
      ]
    },
    {
      "cell_type": "markdown",
      "metadata": {
        "id": "fowcOllGNNju"
      },
      "source": [
        "전사는 깨끗해 보임\n",
        "\n",
        "내용이 대화보다는 서면 텍스트처럼 보이는데 [Timit](https://huggingface.co/datasets/timit_asr) 이 read speech corpus이기 때문 \n",
        "\n",
        "\n",
        "전사에 ,.?!;:. 와 같은 특수 문자가 포함되어 있음\n",
        "\n",
        "언어 모델이 없으면 음성 청크를 이러한 특수 문자로 분류하는 것이 더 어려움.\n",
        "\n",
        "왜냐하면 특수 문자들은 특징적인 사운드 단위에 실제로 해당하지 않기 때문\n",
        "\n",
        "ex) 문자 \"s\"는 다소 명확한 소리가 나는 반면 특수 문자 \".\"는 그렇지 않음\n",
        "\n",
        "또한 음성 신호의 의미를 이해하기 위해 일반적으로 전사에 특수 문자를 포함할 필요가 없음.\n",
        "\n",
        "--> 따라서 텍스트 특수문자를 제거하고 소문자로 정규화"
      ]
    },
    {
      "cell_type": "code",
      "metadata": {
        "id": "svKzVJ_hQGK6"
      },
      "source": [
        "import re\n",
        "chars_to_ignore_regex = '[\\,\\?\\.\\!\\-\\;\\:\\\"]'\n",
        "#전사를 특수문자를 제거하고 소문자로 제거하는 함수\n",
        "def remove_special_characters(batch):\n",
        "    batch[\"text\"] = re.sub(chars_to_ignore_regex, '', batch[\"text\"]).lower() + \" \"\n",
        "    return batch"
      ],
      "execution_count": null,
      "outputs": []
    },
    {
      "cell_type": "code",
      "metadata": {
        "colab": {
          "base_uri": "https://localhost:8080/",
          "height": 81,
          "referenced_widgets": [
            "89a60910daf248ec8433cd69438fc867",
            "92adffc7e2ea4bb4bda2ea05818fa1ba",
            "733f3abb1fa04143a0d48889627ff68a",
            "a7c2b6eff33347aea4e22172f8226910",
            "61abdacb85214a5f813e3ebdd2b8a698",
            "a5daf2fe378b4f4d98f1768fbdd0851c",
            "4123902b7513450fa147a549df49ee02",
            "8f71c9310f42472787aae94dd0fa6f04",
            "014c184beac3493c948baa3b0f0b5ebd",
            "d30f6e89ef42400485a1deaf613fd60f",
            "bf1857564dba4d4c9fdbafd151279a37",
            "b2b023f7abd54d7ba9590052a32e94b8",
            "0cc6f898e17945cc929f387c9ce82b2a",
            "03d04cd3d73740178fab882c87d10b6c",
            "8aa180e0be0247a6a0b9e0346a0a0f0c",
            "31e82aebce0248f184c605e01bf26cd2",
            "ebcdb0257706438bbfb5118f3fd4d33e",
            "29797664ff7c43a38cd2c1b0ffbd6276",
            "238a36af573d465d8ccc33a05bc0a663",
            "1807be633f9944fb86695feece10a3e4",
            "7f16f952a376437780c4b202e8ad649f",
            "1d720d683da34824bd2dc47179aae4ef"
          ]
        },
        "id": "XIHocAuTQbBR",
        "outputId": "27e6b596-4773-4b69-f03d-5023e91d2dc5"
      },
      "source": [
        "timit = timit.map(remove_special_characters)"
      ],
      "execution_count": null,
      "outputs": [
        {
          "output_type": "display_data",
          "data": {
            "text/plain": [
              "0ex [00:00, ?ex/s]"
            ],
            "application/vnd.jupyter.widget-view+json": {
              "version_major": 2,
              "version_minor": 0,
              "model_id": "89a60910daf248ec8433cd69438fc867"
            }
          },
          "metadata": {}
        },
        {
          "output_type": "display_data",
          "data": {
            "text/plain": [
              "0ex [00:00, ?ex/s]"
            ],
            "application/vnd.jupyter.widget-view+json": {
              "version_major": 2,
              "version_minor": 0,
              "model_id": "b2b023f7abd54d7ba9590052a32e94b8"
            }
          },
          "metadata": {}
        }
      ]
    },
    {
      "cell_type": "code",
      "metadata": {
        "colab": {
          "base_uri": "https://localhost:8080/",
          "height": 363
        },
        "id": "RBDRAAYxRE6n",
        "outputId": "1d525827-bd1c-4615-cba4-f09d9a66e161"
      },
      "source": [
        "#전처리된 전사 살펴보기\n",
        "show_random_elements(timit[\"train\"].remove_columns([\"audio\", \"file\"]))"
      ],
      "execution_count": null,
      "outputs": [
        {
          "output_type": "display_data",
          "data": {
            "text/plain": [
              "<IPython.core.display.HTML object>"
            ],
            "text/html": [
              "<table border=\"1\" class=\"dataframe\">\n",
              "  <thead>\n",
              "    <tr style=\"text-align: right;\">\n",
              "      <th></th>\n",
              "      <th>text</th>\n",
              "    </tr>\n",
              "  </thead>\n",
              "  <tbody>\n",
              "    <tr>\n",
              "      <th>0</th>\n",
              "      <td>a third shot doused the light</td>\n",
              "    </tr>\n",
              "    <tr>\n",
              "      <th>1</th>\n",
              "      <td>fine day after tomorrow she added</td>\n",
              "    </tr>\n",
              "    <tr>\n",
              "      <th>2</th>\n",
              "      <td>most precincts had a third of the votes counted</td>\n",
              "    </tr>\n",
              "    <tr>\n",
              "      <th>3</th>\n",
              "      <td>puree some fruit before preparing the skewers</td>\n",
              "    </tr>\n",
              "    <tr>\n",
              "      <th>4</th>\n",
              "      <td>the water contained too much chlorine and stung his eyes</td>\n",
              "    </tr>\n",
              "    <tr>\n",
              "      <th>5</th>\n",
              "      <td>don't ask me to carry an oily rag like that</td>\n",
              "    </tr>\n",
              "    <tr>\n",
              "      <th>6</th>\n",
              "      <td>valley lodge yearly celebrates the first calf born</td>\n",
              "    </tr>\n",
              "    <tr>\n",
              "      <th>7</th>\n",
              "      <td>she had your dark suit in greasy wash water all year</td>\n",
              "    </tr>\n",
              "    <tr>\n",
              "      <th>8</th>\n",
              "      <td>don't ask me to carry an oily rag like that</td>\n",
              "    </tr>\n",
              "    <tr>\n",
              "      <th>9</th>\n",
              "      <td>diane may splurge and buy a turquoise necklace</td>\n",
              "    </tr>\n",
              "  </tbody>\n",
              "</table>"
            ]
          },
          "metadata": {}
        }
      ]
    },
    {
      "cell_type": "markdown",
      "metadata": {
        "id": "jwfaptH5RJwA"
      },
      "source": [
        "CTC에서는 speech chunks를 문자로 분류하는 것이 일반적이므로 여기에서도 동일한 작업을 수행\n",
        "\n",
        "훈련 및 테스트 데이터의 모든 고유한 문자를 추출하고 이 문자 집합에서 vocabulary 를 구축\n",
        "\n",
        "모든 전사를 하나의 긴 전사로 연결한 다음 문자열을 문자 집합으로 변환하는 매핑 함수를 사용\n",
        "\n",
        "매핑 함수가 모든 전사에 한 번에 액세스할 수 있도록 map(...)함수에 인수 batched=True를 전달"
      ]
    },
    {
      "cell_type": "code",
      "metadata": {
        "id": "LwCshNbbeRZR"
      },
      "source": [
        "def extract_all_chars(batch):\n",
        "  all_text = \" \".join(batch[\"text\"])\n",
        "  vocab = list(set(all_text))\n",
        "  return {\"vocab\": [vocab], \"all_text\": [all_text]}"
      ],
      "execution_count": null,
      "outputs": []
    },
    {
      "cell_type": "code",
      "metadata": {
        "colab": {
          "base_uri": "https://localhost:8080/",
          "height": 81,
          "referenced_widgets": [
            "86874bf5fe244a449c4fab1ac2d250ec",
            "bf4d81bdaef141ca8c4a4d0f615245d8",
            "109195bc48bf42fb9117e300a0b357ef",
            "245b95741f114fc2ac0c3f696e6afbc0",
            "bef510171ed642a99d9659297abd69cf",
            "174679f0ba1248389f13941b52799a68",
            "d6c0ba58f7f54f15a306bf5b852b6c59",
            "ba516e383f394583bf1a627de23fe04c",
            "04b191f8846343b383d4294045d51545",
            "4543a3f34b314f158dee0a163df9b187",
            "71030b8cba144ecbbfc074381da8be67",
            "60c335e6ecba460fa8160082387b6c72",
            "fa505dc695ea407988a8b73bdcd20135",
            "9a76310676794f6fa8879a09c3a77119",
            "004ad686f1b445fca82d3fd6ac52afdf",
            "5545097228e14d13802c48731c7ad18f",
            "4004195116a64db59f25599e04767d51",
            "be42182d122a4e92a9c3bce930974607",
            "af9b8d35e3cd41dd9ea08efeaa0cb8da",
            "3554cc1ef8e546a1a33efdc13ea67283",
            "25f3b9dd10fa4632923fee061b9c7867",
            "85c048e8038c40f3988ca8c1645732aa"
          ]
        },
        "id": "_m6uUjjcfbjH",
        "outputId": "ae97e998-9aab-4b59-bb4c-6286bcbe8031"
      },
      "source": [
        "vocabs = timit.map(extract_all_chars, batched=True, batch_size=-1, keep_in_memory=True, remove_columns=timit.column_names[\"train\"])"
      ],
      "execution_count": null,
      "outputs": [
        {
          "output_type": "display_data",
          "data": {
            "text/plain": [
              "  0%|          | 0/1 [00:00<?, ?ba/s]"
            ],
            "application/vnd.jupyter.widget-view+json": {
              "version_major": 2,
              "version_minor": 0,
              "model_id": "86874bf5fe244a449c4fab1ac2d250ec"
            }
          },
          "metadata": {}
        },
        {
          "output_type": "display_data",
          "data": {
            "text/plain": [
              "  0%|          | 0/1 [00:00<?, ?ba/s]"
            ],
            "application/vnd.jupyter.widget-view+json": {
              "version_major": 2,
              "version_minor": 0,
              "model_id": "60c335e6ecba460fa8160082387b6c72"
            }
          },
          "metadata": {}
        }
      ]
    },
    {
      "cell_type": "markdown",
      "metadata": {
        "id": "7oVgE8RZSJNP"
      },
      "source": [
        "이제 훈련 데이터 세트와 테스트 데이터 세트에 있는 모든 고유한 문자의 합집합으로 만듦 \n",
        "\n",
        "결과 리스트를 열거된 사전으로 변환"
      ]
    },
    {
      "cell_type": "code",
      "metadata": {
        "id": "aQfneNsmlJI0"
      },
      "source": [
        "vocab_list = list(set(vocabs[\"train\"][\"vocab\"][0]) | set(vocabs[\"test\"][\"vocab\"][0]))"
      ],
      "execution_count": null,
      "outputs": []
    },
    {
      "cell_type": "code",
      "metadata": {
        "colab": {
          "base_uri": "https://localhost:8080/"
        },
        "id": "_0kRndSvqaKk",
        "outputId": "29d221c1-243f-41ff-f890-890215381cc9"
      },
      "source": [
        "vocab_dict = {v: k for k, v in enumerate(vocab_list)}\n",
        "vocab_dict"
      ],
      "execution_count": null,
      "outputs": [
        {
          "output_type": "execute_result",
          "data": {
            "text/plain": [
              "{' ': 10,\n",
              " \"'\": 24,\n",
              " 'a': 5,\n",
              " 'b': 14,\n",
              " 'c': 12,\n",
              " 'd': 21,\n",
              " 'e': 19,\n",
              " 'f': 9,\n",
              " 'g': 15,\n",
              " 'h': 0,\n",
              " 'i': 27,\n",
              " 'j': 17,\n",
              " 'k': 25,\n",
              " 'l': 2,\n",
              " 'm': 7,\n",
              " 'n': 11,\n",
              " 'o': 3,\n",
              " 'p': 16,\n",
              " 'q': 23,\n",
              " 'r': 6,\n",
              " 's': 13,\n",
              " 't': 8,\n",
              " 'u': 26,\n",
              " 'v': 4,\n",
              " 'w': 18,\n",
              " 'x': 1,\n",
              " 'y': 22,\n",
              " 'z': 20}"
            ]
          },
          "metadata": {},
          "execution_count": 16
        }
      ]
    },
    {
      "cell_type": "markdown",
      "metadata": {
        "id": "JOSzbvs9SXT1"
      },
      "source": [
        "알파벳의 모든 문자가 데이터 세트에서 발생한다는 것을 알수 있음\n",
        "\n",
        "그리고 \" \"(띄어쓰기) 와 특수 문자  와 '도 추출 됨\n",
        "\n",
        "두 가지 이유로 이 특수문자는 제외하지 않음\n",
        "\n",
        "-  모델은 단어가 끝나는 시점을 예측하는 방법을 학습해야함. 그렇지 않으면 모델 예측은 항상 하나의 시퀀스 문자가 되어 단어를 서로 분리 하는 것이 불가능\n",
        "- 영어에서는 ' 와 같이 매우 다른 의미를 가진 단어를 구별하기 위해 문자 를 유지해야 합니다.ex ) \"it's\"\"its\"\n",
        "\n",
        "\n",
        "띄어쓰기 \" \"자체 토큰 클래스가 있음을 더 명확하게 하기 위해 더 눈에 띄는 문자인 \"|\" 로 치환 합니다.\n",
        "\n",
        "또한 모델이 나중에 Timit의 훈련 세트에서 만나지 못한 문자를 처리할 수 있도록 \"unknown\" 토큰도 추가합니다\n",
        "\n",
        "\n",
        "---\n",
        "마지막으로 CTC의 *blank token*\" 에 해당하는 패딩 토큰도 추가합니다 . \n",
        "\n",
        "blank token 은 CTC 알고리즘의 핵심 구성 요소입니다. \n",
        "\n",
        "자세한 내용 \"Alignment\" section [here](https://distill.pub/2017/ctc/). .\n",
        "\n"
      ]
    },
    {
      "cell_type": "code",
      "metadata": {
        "id": "npbIbBoLgaFX"
      },
      "source": [
        "vocab_dict[\"|\"] = vocab_dict[\" \"]\n",
        "del vocab_dict[\" \"]"
      ],
      "execution_count": null,
      "outputs": []
    },
    {
      "cell_type": "code",
      "metadata": {
        "id": "znF0bNunsjbl",
        "colab": {
          "base_uri": "https://localhost:8080/"
        },
        "outputId": "bb0adef5-ecfa-4afb-b677-904ec4683f8b"
      },
      "source": [
        "vocab_dict[\"[UNK]\"] = len(vocab_dict)\n",
        "vocab_dict[\"[PAD]\"] = len(vocab_dict)\n",
        "len(vocab_dict)"
      ],
      "execution_count": null,
      "outputs": [
        {
          "output_type": "execute_result",
          "data": {
            "text/plain": [
              "30"
            ]
          },
          "metadata": {},
          "execution_count": 18
        }
      ]
    },
    {
      "cell_type": "markdown",
      "metadata": {
        "id": "SFPGfet8U5sL"
      },
      "source": [
        "\n",
        "이 vacabulary는 30개의 토큰으로 구성됩니다. \n",
        "\n",
        "즉, 사전 훈련된 Wav2Vec2 체크포인트 위에 추가할 선형 레이어의 출력 차원은 30입니다.\n"
      ]
    },
    {
      "cell_type": "markdown",
      "metadata": {
        "id": "1CujRgBNVRaD"
      },
      "source": [
        "vacabulary를 json 파일로 저장"
      ]
    },
    {
      "cell_type": "code",
      "metadata": {
        "id": "ehyUoh9vk191"
      },
      "source": [
        "import json\n",
        "with open('vocab.json', 'w') as vocab_file:\n",
        "    json.dump(vocab_dict, vocab_file)"
      ],
      "execution_count": null,
      "outputs": []
    },
    {
      "cell_type": "markdown",
      "metadata": {
        "id": "SHJDaKlIVVim"
      },
      "source": [
        "json 파일을 사용하여 Wav2Vec2CTCTokenizer클래스의 개체를 인스턴스화"
      ]
    },
    {
      "cell_type": "code",
      "metadata": {
        "id": "xriFGEWQkO4M"
      },
      "source": [
        "from transformers import Wav2Vec2CTCTokenizer\n",
        "\n",
        "tokenizer = Wav2Vec2CTCTokenizer(\"./vocab.json\", unk_token=\"[UNK]\", pad_token=\"[PAD]\", word_delimiter_token=\"|\")"
      ],
      "execution_count": null,
      "outputs": []
    },
    {
      "cell_type": "markdown",
      "metadata": {
        "id": "P6L2EVWwIazG"
      },
      "source": [
        "만든 토크나이저를 이 notebook의 미세 조정된 모델로 다시 사용하려면 tokenizer[🤗 Hub](https://huggingface.co/) 에 업로드하는 것이 좋습니다. \n",
        "\n",
        "파일을 업로드할 저장소를 호출하기 ex) \"wav2vec2-large-xlsr-turkish-demo-colab\"."
      ]
    },
    {
      "cell_type": "code",
      "metadata": {
        "id": "1mbffBdxIl0M"
      },
      "source": [
        "repo_name = \"hubert-large-ls960-ft-timit\""
      ],
      "execution_count": null,
      "outputs": []
    },
    {
      "cell_type": "markdown",
      "metadata": {
        "id": "pmpG2ftFIu3B"
      },
      "source": [
        "tokenizer를  [🤗 Hub](https://huggingface.co/)에 업로드"
      ]
    },
    {
      "cell_type": "code",
      "metadata": {
        "colab": {
          "base_uri": "https://localhost:8080/",
          "height": 202
        },
        "id": "ScBMUz8jIxJi",
        "outputId": "0d14961c-5add-4dc5-feae-4b95e588fdc8"
      },
      "source": [
        "tokenizer.push_to_hub(repo_name)"
      ],
      "execution_count": null,
      "outputs": [
        {
          "output_type": "stream",
          "name": "stderr",
          "text": [
            "/usr/local/lib/python3.7/dist-packages/huggingface_hub/utils/_deprecation.py:43: FutureWarning: Pass token='hubert-large-ls960-ft-timit' as keyword args. From version 0.7 passing these as positional arguments will result in an error\n",
            "  FutureWarning,\n",
            "/usr/local/lib/python3.7/dist-packages/huggingface_hub/hf_api.py:599: FutureWarning: `create_repo` now takes `token` as an optional positional argument. Be sure to adapt your code!\n",
            "  FutureWarning,\n",
            "Cloning https://huggingface.co/obokkkk/hubert-large-ls960-ft-timit into local empty directory.\n",
            "To https://huggingface.co/obokkkk/hubert-large-ls960-ft-timit\n",
            "   bb85f53..c991a53  main -> main\n",
            "\n"
          ]
        },
        {
          "output_type": "execute_result",
          "data": {
            "text/plain": [
              "'https://huggingface.co/obokkkk/hubert-large-ls960-ft-timit/commit/c991a53a065956bbc3c029be8aeef8efff7a15f3'"
            ],
            "application/vnd.google.colaboratory.intrinsic+json": {
              "type": "string"
            }
          },
          "metadata": {},
          "execution_count": 22
        }
      ]
    },
    {
      "cell_type": "markdown",
      "metadata": {
        "id": "KvL12DrNV4cx"
      },
      "source": [
        "아래에서 방금 생성한 레포지토리를 볼 수 있음\n",
        "\n",
        " `https://huggingface.co/<your-username>/wav2vec2-base-timit-demo-colab`"
      ]
    },
    {
      "cell_type": "markdown",
      "metadata": {
        "id": "mYcIiR2FQ96i"
      },
      "source": [
        "### Create Wav2Vec2 Feature Extractor"
      ]
    },
    {
      "cell_type": "markdown",
      "metadata": {
        "id": "Y6mDEyW719rx"
      },
      "source": [
        "음성은 연속적인 신호이며 컴퓨터에서 처리하려면 먼저 이산화되어야 하며 일반적으로 **sampling**. 이라고 합니다. \n",
        "\n",
        "sampling rate는 초당 측정되는 음성 신호의 데이터 포인트 수를 정의한다는 점에서 중요한 역할을 합니다. \n",
        "\n",
        "따라서 더 높은 sampling rate로 샘플링하면 실제 음성 신호에 대한 근사치가 향상되지만 초당 더 많은 값이 필요합니다.\n",
        "\n",
        "사전 훈련된 체크포인트는 입력 데이터가 훈련된 데이터와 동일한 분포에서 어느 정도 sampling될 것으로 예상합니다. \n",
        "\n",
        "\n",
        "2개의 상이한 rate로 sampling된 동일한 음성 신호는 매우 상이한 분포를 가집니다\n",
        "예를 들어 sampling rate를 2배로 하면 데이터 포인트의 길이가 2배가 됩니다.\n",
        "\n",
        "따라서 ASR 모델의 사전 학습된 체크포인트를 미세 조정하기 전에 \n",
        "\n",
        "모델을 사전 학습하는데 사용된 데이터의 샘플링 속도가 모델을 미세 조정하는데 사용되는 데이터 세트의 샘플링 속도와 일치하는지 확인하는 것이 중요합니다.\n",
        "\n",
        "\n",
        "Wav2Vec2는 16kHz로 샘플링된  [LibriSpeech](https://huggingface.co/datasets/librispeech_asr) 및 LibriVox의 오디오 데이터에 대해 사전 학습되었습니다. '\n",
        "\n",
        "미세 조정 데이터 세트인  [Timit](https://huggingface.co/datasets/timit_asr) 도 운 좋게도 16kHz로 샘플링되었습니다\n",
        "\n",
        "미세 조정 데이터 세트가 16kHz보다 낮거나 높은 속도로 샘플링된 경우 먼저 사전 훈련에 사용된 데이터의 샘플링 속도와 일치하도록 음성 신호를 업 또는 다운샘플링해야 했습니다. \n",
        "\n"
      ]
    },
    {
      "cell_type": "markdown",
      "metadata": {
        "id": "KuUbPW7oV-B5"
      },
      "source": [
        "Wav2Vec2 feature extractor 개체를 인스턴스화하려면 다음 매개변수가 필요합니다.\n",
        "\n",
        "- `feature_size`: 음성 모델은 일련의  feature vectors를 입력으로 사용합니다. 이 시퀀스의 길이는 분명히 다양하지만  feature vectors 크기는 그렇지 않아야 합니다. Wav2Vec2의 경우 모델이 raw speech signal에 대해 학습되었기 때문에  feature 크기는 1 입니다.\n",
        "\n",
        "- `sampling_rate`: 모델이 학습되는 샘플링 속도\n",
        "- `padding_value`: batched inference에서 더 짧은 입력은 특정 값으로 채워야함 \n",
        "- `do_normalize`: input이 *zero-mean-unit-variance*  정규화 되어야하지 여부 \n",
        "일반적으로 speech model은 입력을 정규화할때 더 잘 수행됨\n",
        "- `return_attention_mask`: 모델이 일괄 추론을 사용해야 하는지 여부 . 일반적으로 모델은 패딩된 토큰을 마스크 하는 데 항상 사용해야 합니다 . 그러나 '기본' 체크포인트의 attention_mask매우 구체적인 설계 선택으로 인해 no 를 사용할 때 더 나은 결과를 얻을 수 있습니다. 다른 음성 모델에는 권장 하지 않습니다 . 자세한 내용은 이 문제를 참조하세요. 중요 이 노트북을 사용하여 large-lv60 을 미세 조정하려면 이 매개변수를 로 설정해야 합니다 .Wav2Vec2attention_maskTrue\n",
        "- `return_attention_mask`: 모델이 batched inference 할 때 `attention_mask`를 사용할지 여부. 일반적으로 모델은 패딩된 토큰을 마스크하기 위해 항상 Attention_mask를 사용해야 합니다. 그러나 Wav2Vec2의 \"base\" 체크포인트의 매우 구체적인 디자인 선택으로 인해 Attention_mask를 사용하지 않을 때 더 나은 결과를 얻을 수 있습니다. 다른 음성 모델에는 **권장하지 않습니다** . 자세한 내용은 이 문제를 참조하세요. 중요 이 노트북을 사용하여 [large-lv60](https://huggingface.co/facebook/wav2vec2-large-lv60) 을 미세 조정하려면 이 매개변수를 True로 설정해야 합니다."
      ]
    },
    {
      "cell_type": "code",
      "metadata": {
        "id": "kAR0-2KLkopp"
      },
      "source": [
        "from transformers import Wav2Vec2FeatureExtractor\n",
        "\n",
        "feature_extractor = Wav2Vec2FeatureExtractor(feature_size=1, sampling_rate=16000, padding_value=0.0, do_normalize=True, return_attention_mask=False)"
      ],
      "execution_count": null,
      "outputs": []
    },
    {
      "cell_type": "markdown",
      "metadata": {
        "id": "qUETetgqYC3W"
      },
      "source": [
        "Wav2Vec2의  Wav2Vec2's feature extraction pipeline 정의 완료\n",
        "\n",
        "Wav2Vec2를 최대한 사용자 친화적으로 사용하기 위해 feature extractor and tokenizer 는 하나의 Wav2Vec2Processor 클래스로 래핑되어 `model` 과 `processor` 객체만 필요합니다."
      ]
    },
    {
      "cell_type": "code",
      "metadata": {
        "id": "KYZtoW-tlZgl"
      },
      "source": [
        "from transformers import Wav2Vec2Processor\n",
        "\n",
        "processor = Wav2Vec2Processor(feature_extractor=feature_extractor, tokenizer=tokenizer)"
      ],
      "execution_count": null,
      "outputs": []
    },
    {
      "cell_type": "markdown",
      "metadata": {
        "id": "YFmShnl7RE35"
      },
      "source": [
        "### Preprocess Data\n",
        "\n",
        "데이터셋 준비하기 \n",
        "지금까지 우리는 음성 신호의 실제 값을 보지 않고 전사만 보았습니다.\n",
        "\n",
        "`'text'` 외에도 데이터 세트에는 두 개의 열 `'file'`과`'audio'`가 더 포함됩니다. \n",
        "`'file'` 는 오디오 파일의 절대 경로를 나타냅니다."
      ]
    },
    {
      "cell_type": "code",
      "metadata": {
        "colab": {
          "base_uri": "https://localhost:8080/",
          "height": 53
        },
        "id": "TTCS7W6XJ9BG",
        "outputId": "94c55e6a-4027-4a30-a5d6-e7d7906e2536"
      },
      "source": [
        "timit[\"train\"][0][\"file\"]"
      ],
      "execution_count": null,
      "outputs": [
        {
          "output_type": "execute_result",
          "data": {
            "text/plain": [
              "'/root/.cache/huggingface/datasets/downloads/extracted/404950a46da14eac65eb4e2a8317b1372fb3971d980d91d5d5b221275b1fd7e0/data/TRAIN/DR4/MMDM0/SI681.WAV'"
            ],
            "application/vnd.google.colaboratory.intrinsic+json": {
              "type": "string"
            }
          },
          "metadata": {},
          "execution_count": 25
        }
      ]
    },
    {
      "cell_type": "markdown",
      "metadata": {
        "id": "BwxprOw4Nzrl"
      },
      "source": [
        "`Wav2Vec2`은 16kHz의 1차원 배열 형식의 입력을 예상합니다. \n",
        "\n",
        "즉, 오디오 파일을 로드하고 다시 샘플링해야 합니다.\n",
        "\n",
        "`datasets` 다른 열`audio` 를 호출하여 이를 자동으로 수행합니다.\n",
        "\n"
      ]
    },
    {
      "cell_type": "code",
      "metadata": {
        "colab": {
          "base_uri": "https://localhost:8080/"
        },
        "id": "mk9QHuSsN7lf",
        "outputId": "040357ed-5cfe-4581-b67f-1dbf36ec0e3a"
      },
      "source": [
        "timit[\"train\"][0][\"audio\"]"
      ],
      "execution_count": null,
      "outputs": [
        {
          "output_type": "execute_result",
          "data": {
            "text/plain": [
              "{'array': array([-2.1362305e-04,  6.1035156e-05,  3.0517578e-05, ...,\n",
              "        -3.0517578e-05, -9.1552734e-05, -6.1035156e-05], dtype=float32),\n",
              " 'path': '/root/.cache/huggingface/datasets/downloads/extracted/404950a46da14eac65eb4e2a8317b1372fb3971d980d91d5d5b221275b1fd7e0/data/TRAIN/DR4/MMDM0/SI681.WAV',\n",
              " 'sampling_rate': 16000}"
            ]
          },
          "metadata": {},
          "execution_count": 26
        }
      ]
    },
    {
      "cell_type": "markdown",
      "metadata": {
        "id": "wSBIGEiaKHMn"
      },
      "source": [
        "오디오 파일이 자동으로 로드되었음을 알 수 있습니다.\n",
        "이 기능은 호출 시 즉석에서 오디오 파일을 로드하고 리샘플링합니다.\n",
        "\n",
        "샘플링 속도는 Wav2Vec2입력으로 예상되는 16kHz로 설정됩니다.\n",
        "\n",
        "데이터 세트를 더 잘 이해하고 오디오가 올바르게 로드되었는지 확인하기 위해 몇 가지 오디오 파일을 들어보겠습니다.\n",
        "\n"
      ]
    },
    {
      "cell_type": "code",
      "metadata": {
        "colab": {
          "base_uri": "https://localhost:8080/",
          "height": 92
        },
        "id": "dueM6U7Ev0OA",
        "outputId": "a4d5239e-3c4b-4931-a9df-c79c0f78db49"
      },
      "source": [
        "import IPython.display as ipd\n",
        "import numpy as np\n",
        "import random\n",
        "\n",
        "rand_int = random.randint(0, len(timit[\"train\"]))\n",
        "\n",
        "print(timit[\"train\"][rand_int][\"text\"])\n",
        "ipd.Audio(data=np.asarray(timit[\"train\"][rand_int][\"audio\"][\"array\"]), autoplay=True, rate=16000)"
      ],
      "execution_count": null,
      "outputs": [
        {
          "output_type": "stream",
          "name": "stdout",
          "text": [
            "don't ask me to carry an oily rag like that \n"
          ]
        },
        {
          "output_type": "execute_result",
          "data": {
            "text/plain": [
              "<IPython.lib.display.Audio object>"
            ],
            "text/html": [
              "\n",
              "                <audio controls=\"controls\" autoplay=\"autoplay\">\n",
              "                    <source src=\"data:audio/wav;base64,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\" type=\"audio/wav\" />\n",
              "                    Your browser does not support the audio element.\n",
              "                </audio>\n",
              "              "
            ]
          },
          "metadata": {},
          "execution_count": 27
        }
      ]
    },
    {
      "cell_type": "markdown",
      "metadata": {
        "id": "1MaL9J2dNVtG"
      },
      "source": [
        "화자가 말하는 속도, 억양 등이 다른 것을 들을 수 있습니다. \n",
        "\n",
        "전반적으로 녹음은 비교적 명확하게 들립니다. 이는 읽기 말뭉치에서 기대할 수 있는 것입니다.\n",
        "\n",
        "음성 입력의 모양, 전사 및 해당 샘플링 속도를 인쇄하여 데이터가 올바르게 준비되었는지 최종 확인합시다.\n"
      ]
    },
    {
      "cell_type": "code",
      "metadata": {
        "colab": {
          "base_uri": "https://localhost:8080/"
        },
        "id": "1Po2g7YPuRTx",
        "outputId": "c2505aa6-6c9b-459d-a77a-1793c6f49068"
      },
      "source": [
        "rand_int = random.randint(0, len(timit[\"train\"]))\n",
        "\n",
        "print(\"Target text:\", timit[\"train\"][rand_int][\"text\"])\n",
        "print(\"Input array shape:\", np.asarray(timit[\"train\"][rand_int][\"audio\"][\"array\"]).shape)\n",
        "print(\"Sampling rate:\", timit[\"train\"][rand_int][\"audio\"][\"sampling_rate\"])"
      ],
      "execution_count": null,
      "outputs": [
        {
          "output_type": "stream",
          "name": "stdout",
          "text": [
            "Target text: she had your dark suit in greasy wash water all year \n",
            "Input array shape: (48743,)\n",
            "Sampling rate: 16000\n"
          ]
        }
      ]
    },
    {
      "cell_type": "markdown",
      "metadata": {
        "id": "M9teZcSwOBJ4"
      },
      "source": [
        "데이터는 1차원 배열이고 샘플링 속도는 항상 16kHz에 해당하며 대상 텍스트는 정규화됩니다."
      ]
    },
    {
      "cell_type": "markdown",
      "metadata": {
        "id": "k3Pbn5WvOYZF"
      },
      "source": [
        "마지막으로 훈련을 위해 모델이 예상하는 형식으로 데이터 세트를 처리할 수 있습니다. \n",
        "위의 코드과 우리는 map(...)기능을 사용할 것입니다.\n",
        "\n",
        "\n",
        "\n",
        "1.   `batch[\"audio\"]`를 호출하여 오디오 데이터를 로드하고 resample \n",
        "2.   로드된 오디오 파일에서 `input_values` 추출. 여기서 `Wav2Vec2Processor`는 정규화를 하지만 다른 음성 모델의 경우 이 단계에서  Log-Mel 특징 추출 과 같은 더 복잡한 특징 추출이 포함될 수 있음\n",
        "3. label ids 을 지정하기 위해 전사를 인코딩\n",
        "\n",
        "(공부 필요)\n",
        "**Note**: 이 mapping function는 `Wav2Vec2Processor`클래스를 사용하는 방법의 좋은 예입니다. \"normal\" 컨텍스트에서`processor(...)` 호출 은 의 호출 메서드 Wav2Vec2FeatureExtractor` 로 리디렉션됩니다 .\n",
        "그러나 프로세서를  `as_target_processor` contex로 래핑할 때 동일한 메서드가 Wav2Vec2CTCTokenizer`의 호출 메서드로 리디렉션됩니다. 자세한 내용은 문서 를 확인하십시오 \n",
        "\n",
        "자세한 내용 :[docs](https://huggingface.co/transformers/master/model_doc/wav2vec2.html#transformers.Wav2Vec2Processor.__call__).\n"
      ]
    },
    {
      "cell_type": "code",
      "metadata": {
        "id": "eJY7I0XAwe9p"
      },
      "source": [
        "def prepare_dataset(batch):\n",
        "    audio = batch[\"audio\"]\n",
        "\n",
        "    # batched output is \"un-batched\" to ensure mapping is correct\n",
        "    batch[\"input_values\"] = processor(audio[\"array\"], sampling_rate=audio[\"sampling_rate\"]).input_values[0]\n",
        "    batch[\"input_length\"] = len(batch[\"input_values\"])\n",
        "    \n",
        "    with processor.as_target_processor():\n",
        "        batch[\"labels\"] = processor(batch[\"text\"]).input_ids\n",
        "    return batch"
      ],
      "execution_count": null,
      "outputs": []
    },
    {
      "cell_type": "markdown",
      "metadata": {
        "id": "hVMZhH4-nP8-"
      },
      "source": [
        "모든 데이터 sample에 데이터셋 준비 함수 적용"
      ]
    },
    {
      "cell_type": "code",
      "metadata": {
        "id": "-np9xYK-wl8q"
      },
      "source": [
        "timit = timit.map(prepare_dataset, remove_columns=timit.column_names[\"train\"], num_proc=4)"
      ],
      "execution_count": null,
      "outputs": []
    },
    {
      "cell_type": "markdown",
      "metadata": {
        "id": "p_MuJSH8nTuQ"
      },
      "source": [
        "**Note**: 현재 `데이터 세트`는 [`torchaudio`](https://pytorch.org/audio/stable/index.html) 및 [`librosa`](https://librosa.org/ doc/latest/index.html) 오디오 로딩 및 리샘플링. 사용자 고유의 맞춤 데이터 로드/샘플링을 구현하려면 `\"path\"` 열을 대신 사용하고 `\"audio\"` 열은 무시해도 됩니다."
      ]
    },
    {
      "cell_type": "markdown",
      "metadata": {
        "id": "M4J0bU1WsvAg"
      },
      "source": [
        "긴 입력 시퀀스에는 많은 메모리가 필요합니다. 'Wav2Vec2'는 `self-attention`를 기반으로 하기 때문에 긴 입력 시퀀스에 대한 입력 길이에 따라 메모리 요구 사항이 2차적으로 확장됩니다*cf.* with [this](https://www.reddit.com/r/MachineLearning/comments/genjvb/d_why_is_the_maximum_input_sequence_length_of/)  \n",
        "\n",
        "이 데모에서는 훈련 데이터 세트에서 4초보다 긴 모든 시퀀스를 필터링해 보겠습니다."
      ]
    },
    {
      "cell_type": "code",
      "metadata": {
        "colab": {
          "base_uri": "https://localhost:8080/",
          "height": 49,
          "referenced_widgets": [
            "0f99bd48b3a34e028c7501ea9bb51f45",
            "f10a8c1d691041ffb0d2c294ca916ca8",
            "5f1535fa2505491d9064004e4db649ba",
            "0b01a3a15e164f22a8801fc3a9da257b",
            "12895ff8a30249a8929da573053c234e",
            "a87a1f6c9f1a4b1c8635190c07a966b0",
            "39fa96570ab64f95b8a96bc670f75256",
            "6dff09fd59a74792bf56732c8f65926a",
            "1df66b939b3543d29446d66c2c0c09bd",
            "5b7005dbdb954763a761b88779e1ad00",
            "b0e4ee963b7e48d5bc3fb12c4085ad07"
          ]
        },
        "id": "nqGobEPUvG3v",
        "outputId": "325c33f8-2c70-4a90-ebe4-055a017439bf"
      },
      "source": [
        "max_input_length_in_sec = 4.0\n",
        "timit[\"train\"] = timit[\"train\"].filter(lambda x: x < max_input_length_in_sec * processor.feature_extractor.sampling_rate, input_columns=[\"input_length\"])"
      ],
      "execution_count": null,
      "outputs": [
        {
          "output_type": "display_data",
          "data": {
            "text/plain": [
              "  0%|          | 0/5 [00:00<?, ?ba/s]"
            ],
            "application/vnd.jupyter.widget-view+json": {
              "version_major": 2,
              "version_minor": 0,
              "model_id": "0f99bd48b3a34e028c7501ea9bb51f45"
            }
          },
          "metadata": {}
        }
      ]
    },
    {
      "cell_type": "markdown",
      "metadata": {
        "id": "25Genil2v_Br"
      },
      "source": [
        "학습할 준비 끝"
      ]
    },
    {
      "cell_type": "markdown",
      "metadata": {
        "id": "gYlQkKVoRUos"
      },
      "source": [
        "## Training & Evaluation\n",
        "데이터가 처리 되었고 훈련 파이프라인 setting 합니다. \n",
        " 🤗의 [Trainer](https://huggingface.co/transformers/master/main_classes/trainer.html?highlight=trainer)를 사용할 것입니다.\n",
        "\n",
        "- Data collator를 정의합니다. 대부분의 NLP 모델과 달리 Wav2Vec2는 출력 길이보다 입력 길이가 훨씬 더 큽니다. *예:* 입력 길이가 50000인 샘플의 출력 길이는 100 이하입니다. 큰 입력 크기가 주어지면 훈련 배치를 동적으로 채우는 것이 훨씬 더 효율적입니다. 즉, 모든 훈련 샘플은 전체 가장 긴 샘플이 아니라 배치에서 가장 긴 샘플에만 채워져야 합니다.  따라서 Wav2Vec2를 미세 조정하려면 아래에서 정의할 특별한  padding data collator가 필요합니다.\n",
        "\n",
        "- Evaluation metric 정의. 훈련하는 동안 모델은 단어 오류율로 평가되어야 합니다. 그에 따라 `compute_metrics` 함수를 정의해야 합니다.\n",
        "\n",
        "- 사전 훈련된 체크포인트를 로드합니다. 사전 훈련된 체크포인트를 로드하고 훈련을 위해 올바르게 구성해야 합니다.\n",
        "\n",
        "- training configuration을 정의합니다.\n",
        "\n",
        "모델을 미세 조정한 후 테스트 데이터에서 모델을 올바르게 평가하고 실제로 음성을 올바르게 전사하는 방법을 학습했는지 확인합니다.\n"
      ]
    },
    {
      "cell_type": "markdown",
      "metadata": {
        "id": "Slk403unUS91"
      },
      "source": [
        "### Set-up Trainer\n",
        "data collator를 정의하는 것부터 시작하겠습니다. \n",
        "\n",
        "data collator의 코드는[this example](https://github.com/huggingface/transformers/blob/9a06b6b11bdfc42eea08fa91d0c737d1863c99e3/examples/research_projects/wav2vec2/run_asr.py#L81)에서 복사\n",
        "\n",
        "너무 많은 세부 사항에 들어가지 않고 일반적인 데이터 수집기와 달리 이 데이터 수집기는 `input_values`와 `labels`를 다르게 처리하므로 별도의 패딩 기능에 적용됩니다(다시 Wav2Vec2의context manager 사용). 이것은 음성에서 입력과 출력이 동일한 패딩 기능으로 처리되어서는 안 되는 서로 다른 양식이기 때문에 필요합니다.\n",
        "일반적인 데이터 수집기와 유사하게 레이블의 패딩 토큰은 '-100'이므로 손실을 계산할 때 해당 토큰이 고려되지 **않습니다**."
      ]
    },
    {
      "cell_type": "code",
      "metadata": {
        "id": "tborvC9hx88e"
      },
      "source": [
        "import torch\n",
        "\n",
        "from dataclasses import dataclass, field\n",
        "from typing import Any, Dict, List, Optional, Union\n",
        "\n",
        "@dataclass\n",
        "class DataCollatorCTCWithPadding:\n",
        "    \"\"\"\n",
        "    Data collator that will dynamically pad the inputs received.\n",
        "    Args:\n",
        "        processor (:class:`~transformers.Wav2Vec2Processor`)\n",
        "            The processor used for proccessing the data.\n",
        "        padding (:obj:`bool`, :obj:`str` or :class:`~transformers.tokenization_utils_base.PaddingStrategy`, `optional`, defaults to :obj:`True`):\n",
        "            Select a strategy to pad the returned sequences (according to the model's padding side and padding index)\n",
        "            among:\n",
        "            * :obj:`True` or :obj:`'longest'`: Pad to the longest sequence in the batch (or no padding if only a single\n",
        "              sequence if provided).\n",
        "            * :obj:`'max_length'`: Pad to a maximum length specified with the argument :obj:`max_length` or to the\n",
        "              maximum acceptable input length for the model if that argument is not provided.\n",
        "            * :obj:`False` or :obj:`'do_not_pad'` (default): No padding (i.e., can output a batch with sequences of\n",
        "              different lengths).\n",
        "        max_length (:obj:`int`, `optional`):\n",
        "            Maximum length of the ``input_values`` of the returned list and optionally padding length (see above).\n",
        "        max_length_labels (:obj:`int`, `optional`):\n",
        "            Maximum length of the ``labels`` returned list and optionally padding length (see above).\n",
        "        pad_to_multiple_of (:obj:`int`, `optional`):\n",
        "            If set will pad the sequence to a multiple of the provided value.\n",
        "            This is especially useful to enable the use of Tensor Cores on NVIDIA hardware with compute capability >=\n",
        "            7.5 (Volta).\n",
        "    \"\"\"\n",
        "\n",
        "    processor: Wav2Vec2Processor\n",
        "    padding: Union[bool, str] = True\n",
        "    max_length: Optional[int] = None\n",
        "    max_length_labels: Optional[int] = None\n",
        "    pad_to_multiple_of: Optional[int] = None\n",
        "    pad_to_multiple_of_labels: Optional[int] = None\n",
        "\n",
        "    def __call__(self, features: List[Dict[str, Union[List[int], torch.Tensor]]]) -> Dict[str, torch.Tensor]:\n",
        "        # split inputs and labels since they have to be of different lenghts and need\n",
        "        # different padding methods\n",
        "        input_features = [{\"input_values\": feature[\"input_values\"]} for feature in features]\n",
        "        label_features = [{\"input_ids\": feature[\"labels\"]} for feature in features]\n",
        "\n",
        "        batch = self.processor.pad(\n",
        "            input_features,\n",
        "            padding=self.padding,\n",
        "            max_length=self.max_length,\n",
        "            pad_to_multiple_of=self.pad_to_multiple_of,\n",
        "            return_tensors=\"pt\",\n",
        "        )\n",
        "        with self.processor.as_target_processor():\n",
        "            labels_batch = self.processor.pad(\n",
        "                label_features,\n",
        "                padding=self.padding,\n",
        "                max_length=self.max_length_labels,\n",
        "                pad_to_multiple_of=self.pad_to_multiple_of_labels,\n",
        "                return_tensors=\"pt\",\n",
        "            )\n",
        "\n",
        "        # replace padding with -100 to ignore loss correctly\n",
        "        labels = labels_batch[\"input_ids\"].masked_fill(labels_batch.attention_mask.ne(1), -100)\n",
        "\n",
        "        batch[\"labels\"] = labels\n",
        "\n",
        "        return batch"
      ],
      "execution_count": null,
      "outputs": []
    },
    {
      "cell_type": "code",
      "metadata": {
        "id": "lbQf5GuZyQ4_"
      },
      "source": [
        "data_collator = DataCollatorCTCWithPadding(processor=processor, padding=True)"
      ],
      "execution_count": null,
      "outputs": []
    },
    {
      "cell_type": "markdown",
      "metadata": {
        "id": "xO-Zdj-5cxXp"
      },
      "source": [
        "다음으로 평가 메트릭이 정의됩니다. 앞서 언급했듯이,\n",
        "ASR에서 가장 많이 사용되는 메트릭은 WER(오류율)이라는 단어이므로 이 노트북에서도 사용할 것입니다."
      ]
    },
    {
      "cell_type": "code",
      "metadata": {
        "id": "9Xsux2gmyXso",
        "colab": {
          "base_uri": "https://localhost:8080/",
          "height": 49,
          "referenced_widgets": [
            "e063bb01959f418ebfa744349598e879",
            "d328906379e0498cb1efc691702ad80e",
            "ba93fc60608f41d0bc3fb4b4ec3f2896",
            "0a238f2776784076a17bdb2abba211a1",
            "1fea96a2db2e48dea15e97fd85c9dfeb",
            "0d00c153c1e14d08a6b10a12ce1d16d2",
            "c54f8ba49e7c46579a6f87c72086e4c9",
            "a292eedad99d46d7a6e9781218358027",
            "ba2988336de94ccb89f1f4a8e0fda704",
            "db77694cbcf841fc8636e5f0324de74f",
            "19f1a34ddea045bf89266db7b37d156d"
          ]
        },
        "outputId": "e9286333-b9ba-4843-fb76-cce4f079e511"
      },
      "source": [
        "wer_metric = load_metric(\"wer\")"
      ],
      "execution_count": null,
      "outputs": [
        {
          "output_type": "display_data",
          "data": {
            "text/plain": [
              "Downloading:   0%|          | 0.00/1.90k [00:00<?, ?B/s]"
            ],
            "application/vnd.jupyter.widget-view+json": {
              "version_major": 2,
              "version_minor": 0,
              "model_id": "e063bb01959f418ebfa744349598e879"
            }
          },
          "metadata": {}
        }
      ]
    },
    {
      "cell_type": "markdown",
      "metadata": {
        "id": "E1qZU5p-deqB"
      },
      "source": [
        "모델은 sequence of logit vectors를 반환 합니다:\n",
        "\n",
        "$\\mathbf{y}_1, \\ldots, \\mathbf{y}_m$ with $\\mathbf{y}_1 = f_{\\theta}(x_1, \\ldots, x_n)[0]$ and $n >> m$.\n",
        "\n",
        "logit vector $\\mathbf{y}_1$ 는   앞서 정의한 어휘의 각 단어에 대한 로그 확률을 포함하므로 $\\text{len}(\\mathbf{y}_i) =$ `config.vocab_size`입니다.\n",
        "\n",
        "\n",
        "우리는 모델의 가장 가능성 있는 예측에 관심이 있으므로 로짓의 `argmax(...)`를 취합니다. 또한 `-100` 을 `pad_token_id`로 바꾸고 ID를 디코딩하여 인코딩된 레이블을 원래 문자열로 다시 변환하는 동시에 연속적인 토큰이 CTC 스타일에서 동일한 토큰으로 그룹화되지 않도록 합니다.\n",
        "\n"
      ]
    },
    {
      "cell_type": "code",
      "metadata": {
        "id": "1XZ-kjweyTy_"
      },
      "source": [
        "def compute_metrics(pred):\n",
        "    pred_logits = pred.predictions\n",
        "    pred_ids = np.argmax(pred_logits, axis=-1)\n",
        "\n",
        "    pred.label_ids[pred.label_ids == -100] = processor.tokenizer.pad_token_id\n",
        "\n",
        "    pred_str = processor.batch_decode(pred_ids)\n",
        "    # we do not want to group tokens when computing the metrics\n",
        "    label_str = processor.batch_decode(pred.label_ids, group_tokens=False)\n",
        "\n",
        "    wer = wer_metric.compute(predictions=pred_str, references=label_str)\n",
        "\n",
        "    return {\"wer\": wer}"
      ],
      "execution_count": null,
      "outputs": []
    },
    {
      "cell_type": "markdown",
      "metadata": {
        "id": "Xmgrx4bRwLIH"
      },
      "source": [
        "이제 사전 훈련된 `Wav2Vec2` 체크포인트를 로드할 수 있습니다. \n",
        "\n",
        "토크나이저의 `pad_token_id`는 모델의 `pad_token_id` 를 정의하거나 Wav2Vec2ForCTC의 경우 CTC의 *blank token*  도 정의해야 합니다.\n",
        "\n",
        " GPU 메모리를 절약하기 위해 PyTorch의  [gradient checkpointing](https://pytorch.org/docs/stable/checkpoint.html)를 활성화하고 손실 감소를 \"*mean*\"으로 설정합니다.\n"
      ]
    },
    {
      "cell_type": "code",
      "metadata": {
        "id": "e7cqAWIayn6w"
      },
      "source": [
        "from transformers import HubertForCTC\n",
        "\n",
        "model = HubertForCTC.from_pretrained(\n",
        "    \"facebook/hubert-large-ls960-ft\", \n",
        "    ctc_loss_reduction=\"mean\", \n",
        "    pad_token_id=processor.tokenizer.pad_token_id,\n",
        ")"
      ],
      "execution_count": null,
      "outputs": []
    },
    {
      "cell_type": "markdown",
      "metadata": {
        "id": "1DwR3XLSzGDD"
      },
      "source": [
        "\n",
        "Wav2Vec2의 첫 번째 구성 요소는 원시 음성 신호에서 음향적으로 의미 있지만 맥락적으로는 독립적인 특징을 추출하는 데 사용되는 CNN 레이어 스택으로 구성됩니다. 모델의 이 부분은 사전 훈련 중에 이미 충분히 훈련되었으며 [paper](https://arxiv.org/abs/2006.11477)에 명시된 바와 같이 더 이상 미세 조정할 필요가 없습니다.\n",
        "따라서 *feature 추출* 부분의 모든 매개변수에 대해 `requires_grad`를 `False`로 설정할 수 있습니다."
      ]
    },
    {
      "cell_type": "markdown",
      "metadata": {
        "id": "lD4aGhQM0K-D"
      },
      "source": [
        "마지막 단계에서 훈련과 관련된 모든 매개변수를 정의합니다.\n",
        "일부 매개변수에 대한 자세한 설명은 다음과 같습니다.\n",
        "- `group_by_length`는 입력 길이가 유사한 훈련 샘플을 하나의 배치로 그룹화하여 훈련을 보다 효율적으로 만듭니다. 이것은 모델을 통해 전달되는 쓸모없는 패딩 토큰의 전체 수를 크게 줄여 학습 시간을 크게 단축할 수 있습니다.\n",
        "- `learning_rate` 및 `weight_decay`는 미세 조정이 안정될 때까지 경험적으로 조정되었습니다. 이러한 매개변수는 Timit 데이터 세트에 크게 의존하며 다른 음성 데이터 세트에는 차선책일 수 있습니다.\n",
        "\n",
        "다른 매개변수에 대한 자세한 설명은 [문서](https://huggingface.co/transformers/master/main_classes/trainer.html?highlight=trainer#trainingarguments)를 참조하세요.\n",
        "\n",
        "훈련 중에 체크포인트는 400개의 훈련 단계마다 허브에 비동기식으로 업로드됩니다. 모델이 아직 훈련 중인 동안에도 데모 위젯을 가지고 놀 수 있습니다.\n",
        "\n",
        "**참고**: 모델 체크포인트를 허브에 업로드하지 않으려면 `push_to_hub=False`로 설정하기만 하면 됩니다."
      ]
    },
    {
      "cell_type": "code",
      "metadata": {
        "id": "KbeKSV7uzGPP"
      },
      "source": [
        "from transformers import TrainingArguments\n",
        "\n",
        "training_args = TrainingArguments(\n",
        "  output_dir=repo_name,\n",
        "  group_by_length=True,\n",
        "  per_device_train_batch_size=32,\n",
        "  evaluation_strategy=\"steps\",\n",
        "  num_train_epochs=30,\n",
        "  fp16=True,\n",
        "  gradient_checkpointing=True,\n",
        "  save_steps=500,\n",
        "  eval_steps=500,\n",
        "  logging_steps=500,\n",
        "  learning_rate=1e-4,\n",
        "  weight_decay=0.005,\n",
        "  warmup_steps=1000,\n",
        "  save_total_limit=2,\n",
        "  push_to_hub=True,\n",
        ")"
      ],
      "execution_count": null,
      "outputs": []
    },
    {
      "cell_type": "markdown",
      "metadata": {
        "id": "OsW-WZcL1ZtN"
      },
      "source": [
        "이제 모든 인스턴스를 Trainer로 전달할 수 있으며 학습을 시작할 준비가 되었습니다!"
      ]
    },
    {
      "cell_type": "code",
      "metadata": {
        "id": "rY7vBmFCPFgC",
        "colab": {
          "base_uri": "https://localhost:8080/"
        },
        "outputId": "99e1f3f1-17cb-4c48-cea8-30bb54c5a795"
      },
      "source": [
        "from transformers import Trainer\n",
        "\n",
        "trainer = Trainer(\n",
        "    model=model,\n",
        "    data_collator=data_collator,\n",
        "    args=training_args,\n",
        "    compute_metrics=compute_metrics,\n",
        "    train_dataset=timit[\"train\"],\n",
        "    eval_dataset=timit[\"test\"],\n",
        "    tokenizer=processor.feature_extractor,\n",
        ")"
      ],
      "execution_count": null,
      "outputs": [
        {
          "output_type": "stream",
          "name": "stderr",
          "text": [
            "/content/hubert-large-ls960-ft-timit is already a clone of https://huggingface.co/obokkkk/hubert-large-ls960-ft-timit. Make sure you pull the latest changes with `repo.git_pull()`.\n",
            "Using amp fp16 backend\n"
          ]
        }
      ]
    },
    {
      "cell_type": "markdown",
      "metadata": {
        "id": "UoXBx1JAA0DX"
      },
      "source": [
        "\n",
        "모델이 스피커 비율과 독립적이 되도록 하기 위해 CTC에서는 동일한 연속 토큰을 단일 토큰으로 그룹화합니다. 그러나 인코딩된 레이블은 모델의 예측 토큰과 일치하지 않으므로 디코딩할 때 그룹화하지 않아야 합니다. 이것이 group_tokens=False 매개변수를 전달해야 하는 이유입니다. 이 매개변수를 전달하지 않으면 \"hello\"와 같은 단어가 잘못 인코딩되고 \"helo\"로 디코딩됩니다.\n",
        "\n",
        "blank token 사용하면 모델이 두 개의 l 사이에 빈 토큰을 삽입하도록 강제하여 `\"hello\"`와 같은 단어를 예측할 수 있습니다. 우리 모델의 `\"hello\"`에 대한 CTC 준수 예측은 `[PAD] [PAD] \"h\" \"e\" \"e\" \"l\" \"l\" [PAD] \"l\" \"o\" \"o\" [PAD]`."
      ]
    },
    {
      "cell_type": "markdown",
      "metadata": {
        "id": "rpvZHM1xReIW"
      },
      "source": [
        "\n",
        "### Training"
      ]
    },
    {
      "cell_type": "markdown",
      "metadata": {
        "id": "j-3oKSzZ1hGq"
      },
      "source": [
        "교육은 이 노트북에 할당된 GPU에 따라 90~270분 정도 소요됩니다. \n",
        "\n",
        "훈련된 모델은 *Timit*의 테스트 데이터에서 만족스러운 결과를 산출하지만 최적으로 미세 조정된 모델은 결코 아닙니다. 이 노트북의 목적은 Wav2Vec2 [base](https://huggingface.co/facebook/wav2vec2-base),  [large](https://huggingface.co/facebook/wav2vec2-large), [large-lv60](https://huggingface.co/facebook/wav2vec2-large-lv60)에서  체크포인트를 미세 조정할 수 있는 방법을 보여주는 것입니다.\n",
        "\n",
        "\n",
        "이 google colab을 사용하여 모델을 미세 조정하려는 경우 비활성으로 인해 학습이 중지되지 않는지 확인해야 합니다. 이를 방지하기 위한 간단한 해킹은 이 탭의 콘솔에 다음 코드를 붙여넣는 것입니다(*right mouse click -> inspect -> Console tab and insert code*)"
      ]
    },
    {
      "cell_type": "markdown",
      "metadata": {
        "id": "VYYAvgkW4P0m"
      },
      "source": [
        "```javascript\n",
        "function ConnectButton(){\n",
        "    console.log(\"Connect pushed\"); \n",
        "    document.querySelector(\"#top-toolbar > colab-connect-button\").shadowRoot.querySelector(\"#connect\").click() \n",
        "}\n",
        "setInterval(ConnectButton,60000);\n",
        "```"
      ]
    },
    {
      "cell_type": "markdown",
      "metadata": {
        "id": "PmY6yqd1zvzU"
      },
      "source": [
        "Google colab에 할당된 GPU에 따라 여기에서 `\"메모리 부족\"` 오류가 표시될 수 있습니다. 이 경우 `per_device_train_batch_size`를 16 이하로 줄이고 결국 [`gradient_accumulation`](https://huggingface.co/transformers/master/main_classes/trainer.html#trainingarguments)을 사용하는 것이 가장 좋습니다."
      ]
    },
    {
      "cell_type": "code",
      "metadata": {
        "colab": {
          "base_uri": "https://localhost:8080/",
          "height": 1000
        },
        "id": "_UEjJqGsQw24",
        "outputId": "f0ede322-7366-4745-d437-8d86fa122aed"
      },
      "source": [
        "trainer.train()"
      ],
      "execution_count": null,
      "outputs": [
        {
          "metadata": {
            "tags": null
          },
          "name": "stderr",
          "output_type": "stream",
          "text": [
            "The following columns in the training set  don't have a corresponding argument in `HubertForCTC.forward` and have been ignored: input_length.\n",
            "***** Running training *****\n",
            "  Num examples = 3978\n",
            "  Num Epochs = 30\n",
            "  Instantaneous batch size per device = 32\n",
            "  Total train batch size (w. parallel, distributed & accumulation) = 32\n",
            "  Gradient Accumulation steps = 1\n",
            "  Total optimization steps = 3750\n",
            "/usr/local/lib/python3.7/dist-packages/transformers/feature_extraction_utils.py:158: UserWarning: Creating a tensor from a list of numpy.ndarrays is extremely slow. Please consider converting the list to a single numpy.ndarray with numpy.array() before converting to a tensor. (Triggered internally at  ../torch/csrc/utils/tensor_new.cpp:201.)\n",
            "  tensor = as_tensor(value)\n",
            "/usr/local/lib/python3.7/dist-packages/transformers/models/hubert/modeling_hubert.py:743: UserWarning: __floordiv__ is deprecated, and its behavior will change in a future version of pytorch. It currently rounds toward 0 (like the 'trunc' function NOT 'floor'). This results in incorrect rounding for negative values. To keep the current behavior, use torch.div(a, b, rounding_mode='trunc'), or for actual floor division, use torch.div(a, b, rounding_mode='floor').\n",
            "  return (input_length - kernel_size) // stride + 1\n"
          ]
        },
        {
          "data": {
            "text/html": [
              "\n",
              "    <div>\n",
              "      \n",
              "      <progress value='2001' max='3750' style='width:300px; height:20px; vertical-align: middle;'></progress>\n",
              "      [2001/3750 1:47:50 < 1:34:20, 0.31 it/s, Epoch 16/30]\n",
              "    </div>\n",
              "    <table border=\"1\" class=\"dataframe\">\n",
              "  <thead>\n",
              "    <tr style=\"text-align: left;\">\n",
              "      <th>Step</th>\n",
              "      <th>Training Loss</th>\n",
              "      <th>Validation Loss</th>\n",
              "      <th>Wer</th>\n",
              "    </tr>\n",
              "  </thead>\n",
              "  <tbody>\n",
              "    <tr>\n",
              "      <td>500</td>\n",
              "      <td>6.227800</td>\n",
              "      <td>2.628244</td>\n",
              "      <td>0.999931</td>\n",
              "    </tr>\n",
              "    <tr>\n",
              "      <td>1000</td>\n",
              "      <td>0.938900</td>\n",
              "      <td>0.115380</td>\n",
              "      <td>0.209565</td>\n",
              "    </tr>\n",
              "    <tr>\n",
              "      <td>1500</td>\n",
              "      <td>0.200500</td>\n",
              "      <td>0.095106</td>\n",
              "      <td>0.173248</td>\n",
              "    </tr>\n",
              "  </tbody>\n",
              "</table><p>\n",
              "    <div>\n",
              "      \n",
              "      <progress value='191' max='210' style='width:300px; height:20px; vertical-align: middle;'></progress>\n",
              "      [191/210 01:41 < 00:10, 1.87 it/s]\n",
              "    </div>\n",
              "    "
            ],
            "text/plain": [
              "<IPython.core.display.HTML object>"
            ]
          },
          "metadata": {},
          "output_type": "display_data"
        },
        {
          "metadata": {
            "tags": null
          },
          "name": "stderr",
          "output_type": "stream",
          "text": [
            "The following columns in the evaluation set  don't have a corresponding argument in `HubertForCTC.forward` and have been ignored: input_length.\n",
            "***** Running Evaluation *****\n",
            "  Num examples = 1680\n",
            "  Batch size = 8\n",
            "Saving model checkpoint to hubert-large-ls960-ft-timit/checkpoint-500\n",
            "Configuration saved in hubert-large-ls960-ft-timit/checkpoint-500/config.json\n",
            "Model weights saved in hubert-large-ls960-ft-timit/checkpoint-500/pytorch_model.bin\n",
            "Configuration saved in hubert-large-ls960-ft-timit/checkpoint-500/preprocessor_config.json\n",
            "Configuration saved in hubert-large-ls960-ft-timit/preprocessor_config.json\n",
            "/usr/local/lib/python3.7/dist-packages/transformers/models/hubert/modeling_hubert.py:743: UserWarning: __floordiv__ is deprecated, and its behavior will change in a future version of pytorch. It currently rounds toward 0 (like the 'trunc' function NOT 'floor'). This results in incorrect rounding for negative values. To keep the current behavior, use torch.div(a, b, rounding_mode='trunc'), or for actual floor division, use torch.div(a, b, rounding_mode='floor').\n",
            "  return (input_length - kernel_size) // stride + 1\n",
            "The following columns in the evaluation set  don't have a corresponding argument in `HubertForCTC.forward` and have been ignored: input_length.\n",
            "***** Running Evaluation *****\n",
            "  Num examples = 1680\n",
            "  Batch size = 8\n",
            "Saving model checkpoint to hubert-large-ls960-ft-timit/checkpoint-1000\n",
            "Configuration saved in hubert-large-ls960-ft-timit/checkpoint-1000/config.json\n",
            "Model weights saved in hubert-large-ls960-ft-timit/checkpoint-1000/pytorch_model.bin\n",
            "Configuration saved in hubert-large-ls960-ft-timit/checkpoint-1000/preprocessor_config.json\n",
            "/usr/local/lib/python3.7/dist-packages/transformers/models/hubert/modeling_hubert.py:743: UserWarning: __floordiv__ is deprecated, and its behavior will change in a future version of pytorch. It currently rounds toward 0 (like the 'trunc' function NOT 'floor'). This results in incorrect rounding for negative values. To keep the current behavior, use torch.div(a, b, rounding_mode='trunc'), or for actual floor division, use torch.div(a, b, rounding_mode='floor').\n",
            "  return (input_length - kernel_size) // stride + 1\n",
            "The following columns in the evaluation set  don't have a corresponding argument in `HubertForCTC.forward` and have been ignored: input_length.\n",
            "***** Running Evaluation *****\n",
            "  Num examples = 1680\n",
            "  Batch size = 8\n",
            "Saving model checkpoint to hubert-large-ls960-ft-timit/checkpoint-1500\n",
            "Configuration saved in hubert-large-ls960-ft-timit/checkpoint-1500/config.json\n",
            "Model weights saved in hubert-large-ls960-ft-timit/checkpoint-1500/pytorch_model.bin\n",
            "Configuration saved in hubert-large-ls960-ft-timit/checkpoint-1500/preprocessor_config.json\n",
            "Deleting older checkpoint [hubert-large-ls960-ft-timit/checkpoint-500] due to args.save_total_limit\n",
            "/usr/local/lib/python3.7/dist-packages/transformers/models/hubert/modeling_hubert.py:743: UserWarning: __floordiv__ is deprecated, and its behavior will change in a future version of pytorch. It currently rounds toward 0 (like the 'trunc' function NOT 'floor'). This results in incorrect rounding for negative values. To keep the current behavior, use torch.div(a, b, rounding_mode='trunc'), or for actual floor division, use torch.div(a, b, rounding_mode='floor').\n",
            "  return (input_length - kernel_size) // stride + 1\n",
            "The following columns in the evaluation set  don't have a corresponding argument in `HubertForCTC.forward` and have been ignored: input_length.\n",
            "***** Running Evaluation *****\n",
            "  Num examples = 1680\n",
            "  Batch size = 8\n"
          ]
        },
        {
          "output_type": "display_data",
          "data": {
            "text/plain": [
              "<IPython.core.display.HTML object>"
            ],
            "text/html": [
              "\n",
              "    <div>\n",
              "      \n",
              "      <progress value='3750' max='3750' style='width:300px; height:20px; vertical-align: middle;'></progress>\n",
              "      [3750/3750 3:24:33, Epoch 30/30]\n",
              "    </div>\n",
              "    <table border=\"1\" class=\"dataframe\">\n",
              "  <thead>\n",
              "    <tr style=\"text-align: left;\">\n",
              "      <th>Step</th>\n",
              "      <th>Training Loss</th>\n",
              "      <th>Validation Loss</th>\n",
              "      <th>Wer</th>\n",
              "    </tr>\n",
              "  </thead>\n",
              "  <tbody>\n",
              "    <tr>\n",
              "      <td>500</td>\n",
              "      <td>6.227800</td>\n",
              "      <td>2.628244</td>\n",
              "      <td>0.999931</td>\n",
              "    </tr>\n",
              "    <tr>\n",
              "      <td>1000</td>\n",
              "      <td>0.938900</td>\n",
              "      <td>0.115380</td>\n",
              "      <td>0.209565</td>\n",
              "    </tr>\n",
              "    <tr>\n",
              "      <td>1500</td>\n",
              "      <td>0.200500</td>\n",
              "      <td>0.095106</td>\n",
              "      <td>0.173248</td>\n",
              "    </tr>\n",
              "    <tr>\n",
              "      <td>2000</td>\n",
              "      <td>0.198500</td>\n",
              "      <td>0.097361</td>\n",
              "      <td>0.175867</td>\n",
              "    </tr>\n",
              "    <tr>\n",
              "      <td>2500</td>\n",
              "      <td>0.124000</td>\n",
              "      <td>0.095116</td>\n",
              "      <td>0.172834</td>\n",
              "    </tr>\n",
              "    <tr>\n",
              "      <td>3000</td>\n",
              "      <td>0.079700</td>\n",
              "      <td>0.106444</td>\n",
              "      <td>0.171318</td>\n",
              "    </tr>\n",
              "    <tr>\n",
              "      <td>3500</td>\n",
              "      <td>0.104700</td>\n",
              "      <td>0.107409</td>\n",
              "      <td>0.170836</td>\n",
              "    </tr>\n",
              "  </tbody>\n",
              "</table><p>"
            ]
          },
          "metadata": {}
        },
        {
          "output_type": "stream",
          "name": "stderr",
          "text": [
            "Saving model checkpoint to hubert-large-ls960-ft-timit/checkpoint-2000\n",
            "Configuration saved in hubert-large-ls960-ft-timit/checkpoint-2000/config.json\n",
            "Model weights saved in hubert-large-ls960-ft-timit/checkpoint-2000/pytorch_model.bin\n",
            "Configuration saved in hubert-large-ls960-ft-timit/checkpoint-2000/preprocessor_config.json\n",
            "Deleting older checkpoint [hubert-large-ls960-ft-timit/checkpoint-1000] due to args.save_total_limit\n",
            "/usr/local/lib/python3.7/dist-packages/transformers/models/hubert/modeling_hubert.py:743: UserWarning: __floordiv__ is deprecated, and its behavior will change in a future version of pytorch. It currently rounds toward 0 (like the 'trunc' function NOT 'floor'). This results in incorrect rounding for negative values. To keep the current behavior, use torch.div(a, b, rounding_mode='trunc'), or for actual floor division, use torch.div(a, b, rounding_mode='floor').\n",
            "  return (input_length - kernel_size) // stride + 1\n",
            "The following columns in the evaluation set  don't have a corresponding argument in `HubertForCTC.forward` and have been ignored: input_length.\n",
            "***** Running Evaluation *****\n",
            "  Num examples = 1680\n",
            "  Batch size = 8\n",
            "Saving model checkpoint to hubert-large-ls960-ft-timit/checkpoint-2500\n",
            "Configuration saved in hubert-large-ls960-ft-timit/checkpoint-2500/config.json\n",
            "Model weights saved in hubert-large-ls960-ft-timit/checkpoint-2500/pytorch_model.bin\n",
            "Configuration saved in hubert-large-ls960-ft-timit/checkpoint-2500/preprocessor_config.json\n",
            "Deleting older checkpoint [hubert-large-ls960-ft-timit/checkpoint-1500] due to args.save_total_limit\n",
            "/usr/local/lib/python3.7/dist-packages/transformers/models/hubert/modeling_hubert.py:743: UserWarning: __floordiv__ is deprecated, and its behavior will change in a future version of pytorch. It currently rounds toward 0 (like the 'trunc' function NOT 'floor'). This results in incorrect rounding for negative values. To keep the current behavior, use torch.div(a, b, rounding_mode='trunc'), or for actual floor division, use torch.div(a, b, rounding_mode='floor').\n",
            "  return (input_length - kernel_size) // stride + 1\n",
            "The following columns in the evaluation set  don't have a corresponding argument in `HubertForCTC.forward` and have been ignored: input_length.\n",
            "***** Running Evaluation *****\n",
            "  Num examples = 1680\n",
            "  Batch size = 8\n",
            "Saving model checkpoint to hubert-large-ls960-ft-timit/checkpoint-3000\n",
            "Configuration saved in hubert-large-ls960-ft-timit/checkpoint-3000/config.json\n",
            "Model weights saved in hubert-large-ls960-ft-timit/checkpoint-3000/pytorch_model.bin\n",
            "Configuration saved in hubert-large-ls960-ft-timit/checkpoint-3000/preprocessor_config.json\n",
            "Deleting older checkpoint [hubert-large-ls960-ft-timit/checkpoint-2000] due to args.save_total_limit\n",
            "/usr/local/lib/python3.7/dist-packages/transformers/models/hubert/modeling_hubert.py:743: UserWarning: __floordiv__ is deprecated, and its behavior will change in a future version of pytorch. It currently rounds toward 0 (like the 'trunc' function NOT 'floor'). This results in incorrect rounding for negative values. To keep the current behavior, use torch.div(a, b, rounding_mode='trunc'), or for actual floor division, use torch.div(a, b, rounding_mode='floor').\n",
            "  return (input_length - kernel_size) // stride + 1\n",
            "The following columns in the evaluation set  don't have a corresponding argument in `HubertForCTC.forward` and have been ignored: input_length.\n",
            "***** Running Evaluation *****\n",
            "  Num examples = 1680\n",
            "  Batch size = 8\n",
            "Saving model checkpoint to hubert-large-ls960-ft-timit/checkpoint-3500\n",
            "Configuration saved in hubert-large-ls960-ft-timit/checkpoint-3500/config.json\n",
            "Model weights saved in hubert-large-ls960-ft-timit/checkpoint-3500/pytorch_model.bin\n",
            "Configuration saved in hubert-large-ls960-ft-timit/checkpoint-3500/preprocessor_config.json\n",
            "Deleting older checkpoint [hubert-large-ls960-ft-timit/checkpoint-2500] due to args.save_total_limit\n",
            "/usr/local/lib/python3.7/dist-packages/transformers/models/hubert/modeling_hubert.py:743: UserWarning: __floordiv__ is deprecated, and its behavior will change in a future version of pytorch. It currently rounds toward 0 (like the 'trunc' function NOT 'floor'). This results in incorrect rounding for negative values. To keep the current behavior, use torch.div(a, b, rounding_mode='trunc'), or for actual floor division, use torch.div(a, b, rounding_mode='floor').\n",
            "  return (input_length - kernel_size) // stride + 1\n",
            "\n",
            "\n",
            "Training completed. Do not forget to share your model on huggingface.co/models =)\n",
            "\n",
            "\n"
          ]
        },
        {
          "output_type": "execute_result",
          "data": {
            "text/plain": [
              "TrainOutput(global_step=3750, training_loss=1.055693473815918, metrics={'train_runtime': 12278.6853, 'train_samples_per_second': 9.719, 'train_steps_per_second': 0.305, 'total_flos': 1.0355962976654655e+19, 'train_loss': 1.055693473815918, 'epoch': 30.0})"
            ]
          },
          "metadata": {},
          "execution_count": 40
        }
      ]
    },
    {
      "cell_type": "markdown",
      "metadata": {
        "id": "UCyp-v3n4Zlt"
      },
      "source": [
        "최종 WER은 약 0.3이어야 하며, 이는 최첨단 음소 오류율(PER)이 0.1 미만이라는 점을 감안할 때 합리적입니다([leaderboard](https://paperswithcode.com/sota/speech-recognition-on). -timit) WER은 일반적으로 PER보다 나쁩니다.\n",
        "\n",
        "이제 교육 결과를 Hub에 업로드할 수 있습니다. 다음 명령을 실행하기만 하면 됩니다."
      ]
    },
    {
      "cell_type": "code",
      "metadata": {
        "id": "JYGQYBhHNsvj",
        "colab": {
          "base_uri": "https://localhost:8080/",
          "height": 383,
          "referenced_widgets": [
            "ceabd6546b6d485ab1fc092cc81feadb",
            "264c018c62994d45bc900698706c3d86",
            "3dc81d9c0a064d088e9ae41f0f84320a",
            "386effa88f3147349c3d7f9710fa8e84",
            "65e7c31ab26b4a9c8cc0a0de212533aa",
            "294c2a90c188477fb6ec9b755e534839",
            "f08b576c87e245c8b47f8667af141fc9",
            "0d84a295725e41baad9001a95dd3d771",
            "666bd924c16246c2bfae5caeef8ebc2f",
            "f121793cc7fd403c810997ce07a43c89",
            "7cf5bcbaac354239b00d6ebc3cc762b6",
            "63505084e9e24ce7bd2fe66f11d4dec9",
            "b2d471054e1c48ecb1fc0360579b7ef0",
            "a30392c98f024ca3b403dde02da59566",
            "39146db1f1a448ba8290db21a349a374",
            "2af737edf259444286e5d3d99357799e",
            "87daa22c48184b38933728e2d5fac24b",
            "bc74cd1802324c4eb894bf7365927887",
            "0728c333c5ed4859a56f32e247298ba9",
            "e2efea5ae0ee4da38555d05631bf9a16",
            "d1f13aaf90564543a4e1edf2753e6d39",
            "8cda6edb9527440d9fae1c2a9caba1a7"
          ]
        },
        "outputId": "6f1c6480-a0a4-41e9-f3b4-df203fc000df"
      },
      "source": [
        "trainer.push_to_hub()"
      ],
      "execution_count": null,
      "outputs": [
        {
          "output_type": "stream",
          "name": "stderr",
          "text": [
            "Saving model checkpoint to hubert-large-ls960-ft-timit\n",
            "Configuration saved in hubert-large-ls960-ft-timit/config.json\n",
            "Model weights saved in hubert-large-ls960-ft-timit/pytorch_model.bin\n",
            "Configuration saved in hubert-large-ls960-ft-timit/preprocessor_config.json\n",
            "Several commits (2) will be pushed upstream.\n",
            "The progress bars may be unreliable.\n"
          ]
        },
        {
          "output_type": "display_data",
          "data": {
            "text/plain": [
              "Upload file pytorch_model.bin:   0%|          | 3.33k/1.18G [00:00<?, ?B/s]"
            ],
            "application/vnd.jupyter.widget-view+json": {
              "version_major": 2,
              "version_minor": 0,
              "model_id": "ceabd6546b6d485ab1fc092cc81feadb"
            }
          },
          "metadata": {}
        },
        {
          "output_type": "display_data",
          "data": {
            "text/plain": [
              "Upload file runs/Apr22_04-54-38_e573a465c5a3/events.out.tfevents.1650603505.e573a465c5a3.96.0:  45%|####4     …"
            ],
            "application/vnd.jupyter.widget-view+json": {
              "version_major": 2,
              "version_minor": 0,
              "model_id": "63505084e9e24ce7bd2fe66f11d4dec9"
            }
          },
          "metadata": {}
        },
        {
          "output_type": "stream",
          "name": "stderr",
          "text": [
            "To https://huggingface.co/obokkkk/hubert-large-ls960-ft-timit\n",
            "   c991a53..b9ef190  main -> main\n",
            "\n",
            "Dropping the following result as it does not have all the necessary field:\n",
            "{}\n",
            "To https://huggingface.co/obokkkk/hubert-large-ls960-ft-timit\n",
            "   b9ef190..b0ee8ea  main -> main\n",
            "\n"
          ]
        },
        {
          "output_type": "execute_result",
          "data": {
            "text/plain": [
              "'https://huggingface.co/obokkkk/hubert-large-ls960-ft-timit/commit/b9ef190016d7c9fbe04d357735ca9bfde0fa7dae'"
            ],
            "application/vnd.google.colaboratory.intrinsic+json": {
              "type": "string"
            }
          },
          "metadata": {},
          "execution_count": 41
        }
      ]
    },
    {
      "cell_type": "markdown",
      "metadata": {
        "id": "djzwS5WeNu16"
      },
      "source": [
        "이제 이 모델을 모든 친구, 가족, 좋아하는 애완동물과 공유할 수 있습니다. 그들은 모두 \"your-username/the-name-you-picked\" 식별자로 로드할 수 있습니다. 예를 들면 다음과 같습니다."
      ]
    },
    {
      "cell_type": "markdown",
      "metadata": {
        "id": "Adm0LngNNxq7"
      },
      "source": [
        "```python\n",
        "from transformers import AutoModelForCTC, Wav2Vec2Processor\n",
        "\n",
        "model = AutoModelForCTC.from_pretrained(\"patrickvonplaten/wav2vec2-base-timit-demo-colab\")\n",
        "processor = Wav2Vec2Processor.from_pretrained(\"patrickvonplaten/wav2vec2-base-timit-demo-colab\")\n",
        "```"
      ]
    },
    {
      "cell_type": "markdown",
      "source": [
        "### Plot Learning Cureve"
      ],
      "metadata": {
        "id": "eWiUwz_BI0MG"
      }
    },
    {
      "cell_type": "code",
      "source": [
        "#https://github.com/gmihaila/ml_things/blob/master/src/ml_things/plot_functions.py\n",
        "import matplotlib.pyplot as plt\n",
        "def plot_dict(dict_arrays, start_step=0, step_size=1, use_title=None, points_values=False, points_round=3,\n",
        "              use_xlabel=None, use_xticks=True, use_rotation_xticks=0, xticks_labels=None, use_ylabel=None,\n",
        "              style_sheet='ggplot', use_grid=True,  font_size=None, width=3, height=2,  magnify=1.2,\n",
        "              use_dpi=50, path=None, show_plot=True):\n",
        "    # Check if `dict_arrays` is the correct format.\n",
        "    if not isinstance(dict_arrays, dict):\n",
        "        # Raise value error.\n",
        "        raise ValueError(\"`dict_arrays` needs to be a dictionary of values!\")\n",
        "\n",
        "    # Check each label\n",
        "    for label, array in dict_arrays.items():\n",
        "        # Check if format is correct.\n",
        "        if not isinstance(label, str):\n",
        "            # Raise value error.\n",
        "            raise ValueError(\"`dict_arrays` needs string keys!\")\n",
        "        if not isinstance(array, list) or isinstance(array, np.ndarray):\n",
        "            # Raise value error.\n",
        "            raise ValueError(\"`dict_arrays` needs lists values!\")\n",
        "\n",
        "    # Make sure style sheet is correct.\n",
        "    if style_sheet in plt.style.available:\n",
        "        # Set style of plot\n",
        "        plt.style.use(style_sheet)\n",
        "    else:\n",
        "        # Style is not correct.\n",
        "        raise ValueError(\"`style_sheet=%s` is not in the supported styles: %s\" % (str(style_sheet),\n",
        "                                                                                  str(plt.style.available)))\n",
        "\n",
        "\n",
        "\n",
        "    # all linestyles.\n",
        "    linestyles = ['-', '--', '-.', ':']\n",
        "\n",
        "    # Make sure `font_size` is set right.\n",
        "    if (font_size is not None) and (font_size <= 0):\n",
        "        # Raise value error -  is not correct.\n",
        "        raise ValueError(f'`font_size` needs to be positive number! Invalid value {font_size}')\n",
        "\n",
        "\n",
        "\n",
        "    # Font variables dictionary. Keep it in this format for future updates.\n",
        "    font_dict = dict(\n",
        "        family='DejaVu Sans',\n",
        "        color='black',\n",
        "        weight='normal',\n",
        "        size=font_size,\n",
        "    )\n",
        "\n",
        "\n",
        "\n",
        "    # Single plot figure.\n",
        "    plt.subplot(1, 2, 1)\n",
        "\n",
        "    # Use maximum length of steps. In case each arrya has different lengths.\n",
        "    max_steps = []\n",
        "\n",
        "    # Plot each array.\n",
        "    for index, (use_label, array) in enumerate(dict_arrays.items()):\n",
        "        # Set steps plotted on x-axis - we can use step if 1 unit has different value.\n",
        "        if start_step > 0:\n",
        "            # Offset all steps by start_step.\n",
        "            steps = np.array(range(0, len(array))) * step_size + start_step\n",
        "            max_steps = steps if len(max_steps) < len(steps) else max_steps\n",
        "        else:\n",
        "            steps = np.array(range(1, len(array) + 1)) * step_size\n",
        "            max_steps = steps if len(max_steps) < len(steps) else max_steps\n",
        "  \n",
        "\n",
        "        # Plot array as a single line.\n",
        "        plt.plot(steps, array,  label=use_label)\n",
        "\n",
        "\n",
        "\n",
        "    # Set horizontal axis name.\n",
        "    plt.xlabel(use_xlabel, fontdict=font_dict)\n",
        "\n",
        "    # Use x ticks with steps or labels.\n",
        "    plt.xticks(max_steps, xticks_labels, rotation=use_rotation_xticks) if use_xticks else None\n",
        "\n",
        "    # Set vertical axis name.\n",
        "    plt.ylabel(use_ylabel, fontdict=font_dict)\n",
        "\n",
        "    # Adjust both axis labels font size at same time.\n",
        "    plt.tick_params(labelsize=font_dict['size'])\n",
        "\n",
        "    # Place legend best position.\n",
        "    plt.legend(loc='best', fontsize=font_dict['size'])\n",
        "\n",
        "\n",
        "    # Set title of figure.\n",
        "    plt.title(use_title, fontdict=font_dict)\n",
        "\n",
        "\n",
        "    # Display grid depending on `use_grid`.\n",
        "    plt.grid(use_grid)\n",
        "\n",
        "    # Make figure nice.\n",
        "    plt.tight_layout()\n",
        "\n",
        "    # Get figure object from plot.\n",
        "    fig = plt.gcf()\n",
        "\n",
        "    # Get size of figure.\n",
        "    figsize = fig.get_size_inches()\n",
        "\n",
        "    # Change size depending on height and width variables.\n",
        "    figsize = [figsize[0] * width * magnify, figsize[1] * height * magnify]\n",
        "\n",
        "\n",
        "    # Set the new figure size with magnify.\n",
        "    fig.set_size_inches(figsize)\n",
        "\n",
        "\n",
        "\n",
        "    # Show plot.\n",
        "    plt.show() if show_plot is True else None\n",
        "\n",
        "    return"
      ],
      "metadata": {
        "id": "A6G-h8MwIuVf"
      },
      "execution_count": null,
      "outputs": []
    },
    {
      "cell_type": "code",
      "source": [
        "#https://www.topbots.com/pretrain-transformers-models-in-pytorch/\n",
        "import math\n",
        "import numpy as np\n",
        "import warnings\n",
        "# Keep track of train and evaluate loss.\n",
        "loss_history = {'train_loss':[], 'eval_loss':[]}\n",
        "\n",
        "# Loop through each log history.\n",
        "for log_history in trainer.state.log_history:\n",
        " \n",
        "  if 'loss' in log_history.keys():\n",
        "    # Deal with trianing loss.\n",
        "    loss_history['train_loss'].append(log_history['loss'])\n",
        "\n",
        "     \n",
        "  elif 'eval_loss' in log_history.keys():\n",
        "    # Deal with eval loss.\n",
        "    loss_history['eval_loss'].append(log_history['eval_loss'])\n",
        " \n",
        " \n",
        "# Plot Losses.\n",
        "plot_dict(loss_history, start_step=1, \n",
        "          step_size=1, use_title='Loss', \n",
        "          use_xlabel='Train Steps', use_ylabel='Values')"
      ],
      "metadata": {
        "id": "QMoqrhC3I4u5",
        "colab": {
          "base_uri": "https://localhost:8080/",
          "height": 607
        },
        "outputId": "7dd3fd11-1bff-49b2-c588-5286c8c6471d"
      },
      "execution_count": null,
      "outputs": [
        {
          "output_type": "display_data",
          "data": {
            "text/plain": [
              "<Figure size 1555.2x691.2 with 1 Axes>"
            ],
            "image/png": "[encoded data removed]"
          },
          "metadata": {}
        }
      ]
    },
    {
      "cell_type": "markdown",
      "metadata": {
        "id": "nD4XP5IHncsY"
      },
      "source": [
        "### Evaluate\n",
        "\n",
        "마지막 부분에서는 모델이 얼마나 잘 작동하는지 확인하기 위해 일부  validation data에 대해 모델을 실행합니다.\n",
        "\n",
        "`processor` 와 `model`을 로드해 보겠습니다.\n"
      ]
    },
    {
      "cell_type": "code",
      "metadata": {
        "id": "-rg0USDCnbo6",
        "colab": {
          "base_uri": "https://localhost:8080/",
          "height": 731,
          "referenced_widgets": [
            "cf86962417574aee95388d45c0d42423",
            "4b9eab51f24a4fb49d5b68a005cfb61c",
            "1d7ce9d30f604c62937edf7d6816f667",
            "9d8933219812481f9804395be606d4b1",
            "e38e135f02fb41a2b50a3c65ec60c8ae",
            "a8bc6fbb01c146c097ecb0933b443df7",
            "ee551aaa4c1846e39807a5bbdd94c73c",
            "dcafad4fae9945e68a18bfd234ab2aa3",
            "55f020629d64492d91308d3bd1e9fd09",
            "b8a6474007584ba5bc425bfae23d8fd6",
            "9a9fdfeca2884aa383562c53eabf81a9",
            "7da6f4286b9449a7ba208bdf74936313",
            "c667ea805ce8414f9163d2fc6d4001e9",
            "f483daa085f846d3b8ed934143ecda31",
            "6ac134f60eaa4756bc10b5762ba29130",
            "33f99dbf165247b0b3e02e104636ea96",
            "4d9f8525401f44b382be1724253ea3c1",
            "1e4110ff33e944edaed5b1ca0a5d1c40",
            "13cfea8f37244b5392b3a46422dcce6e",
            "5624a5740d194c188535cdc007bfb860",
            "462435bee7064e29b2d4a795a5660640",
            "2370121329c44056b3847209b2fc31cc",
            "9d66e043c4224b5ea6eaee44f45f8abc",
            "e3cedf8b720a49d5842803a60adccab6",
            "b9f21156bf5e45679fef2578c40055e1",
            "5e9d42c6e662429fb20d50585544aca9",
            "9a994aa521ef4e0fac8dbd9a6d534d48",
            "1800d2555aa1418cb71425300bd75d50",
            "bfeb958fcfa04f8ebc6056ec722fbd5f",
            "efea2a3095b145eba97483cf8ab86b28",
            "ef17d3258a5a4532b964df0266276779",
            "e44ab6082b4f4287bfc1c4c75909bd8d",
            "5ee69fcee64f455fa9d69a7a45a15d57",
            "ec2355dc03764b7fa1035e3c007a40fc",
            "a34ab14a2f7846fda13b55caed8e5308",
            "b136156b1de7455db82be7df88758e10",
            "3973bdebcd4d4142a996ff82a7166fff",
            "0ea6f7b0dae947f482c546d740c2c3ce",
            "b55f6c7c37284858a3a638f3bbfaf8b4",
            "6a5aadf767894b3eb1915bb6aa354eb1",
            "69a69b27b3f84a41a76f8e78c8c5bfa3",
            "48e44a8fd6c14b7b8b92598e1f350d24",
            "f1660371cd514dc7a8a4d2ee884b15e3",
            "7ab23a52c68241bc99f5dc8d17d33219"
          ]
        },
        "outputId": "3021b4cc-a300-4a8d-bdc6-90bec4a192e2"
      },
      "source": [
        "processor = Wav2Vec2Processor.from_pretrained(\"obokkkk/hubert-large-ls960-ft-timit\")"
      ],
      "execution_count": null,
      "outputs": [
        {
          "output_type": "stream",
          "name": "stderr",
          "text": [
            "https://huggingface.co/obokkkk/hubert-large-ls960-ft-timit/resolve/main/preprocessor_config.json not found in cache or force_download set to True, downloading to /root/.cache/huggingface/transformers/tmp2zditoui\n"
          ]
        },
        {
          "output_type": "display_data",
          "data": {
            "text/plain": [
              "Downloading:   0%|          | 0.00/215 [00:00<?, ?B/s]"
            ],
            "application/vnd.jupyter.widget-view+json": {
              "version_major": 2,
              "version_minor": 0,
              "model_id": "cf86962417574aee95388d45c0d42423"
            }
          },
          "metadata": {}
        },
        {
          "output_type": "stream",
          "name": "stderr",
          "text": [
            "storing https://huggingface.co/obokkkk/hubert-large-ls960-ft-timit/resolve/main/preprocessor_config.json in cache at /root/.cache/huggingface/transformers/35a3aeedc657dbf923500ecc17c457daad20132d27942a5a70489af7a74d5d8f.0e3e6656f99a6f7b9eddd943463eb7f34363640fce9e87b047ebd50d4b112b50\n",
            "creating metadata file for /root/.cache/huggingface/transformers/35a3aeedc657dbf923500ecc17c457daad20132d27942a5a70489af7a74d5d8f.0e3e6656f99a6f7b9eddd943463eb7f34363640fce9e87b047ebd50d4b112b50\n",
            "loading feature extractor configuration file https://huggingface.co/obokkkk/hubert-large-ls960-ft-timit/resolve/main/preprocessor_config.json from cache at /root/.cache/huggingface/transformers/35a3aeedc657dbf923500ecc17c457daad20132d27942a5a70489af7a74d5d8f.0e3e6656f99a6f7b9eddd943463eb7f34363640fce9e87b047ebd50d4b112b50\n",
            "Feature extractor Wav2Vec2FeatureExtractor {\n",
            "  \"do_normalize\": true,\n",
            "  \"feature_extractor_type\": \"Wav2Vec2FeatureExtractor\",\n",
            "  \"feature_size\": 1,\n",
            "  \"padding_side\": \"right\",\n",
            "  \"padding_value\": 0.0,\n",
            "  \"return_attention_mask\": false,\n",
            "  \"sampling_rate\": 16000\n",
            "}\n",
            "\n",
            "https://huggingface.co/obokkkk/hubert-large-ls960-ft-timit/resolve/main/vocab.json not found in cache or force_download set to True, downloading to /root/.cache/huggingface/transformers/tmpke6esrzy\n"
          ]
        },
        {
          "output_type": "display_data",
          "data": {
            "text/plain": [
              "Downloading:   0%|          | 0.00/268 [00:00<?, ?B/s]"
            ],
            "application/vnd.jupyter.widget-view+json": {
              "version_major": 2,
              "version_minor": 0,
              "model_id": "7da6f4286b9449a7ba208bdf74936313"
            }
          },
          "metadata": {}
        },
        {
          "output_type": "stream",
          "name": "stderr",
          "text": [
            "storing https://huggingface.co/obokkkk/hubert-large-ls960-ft-timit/resolve/main/vocab.json in cache at /root/.cache/huggingface/transformers/d596c1676f2a1137edd0bb6170034fcec84b9a01aabe7c110909bd6b62c9db7e.05f58afc697ec288b43b00e739e6c87df94c544111a0b50adc43436a8401b1ba\n",
            "creating metadata file for /root/.cache/huggingface/transformers/d596c1676f2a1137edd0bb6170034fcec84b9a01aabe7c110909bd6b62c9db7e.05f58afc697ec288b43b00e739e6c87df94c544111a0b50adc43436a8401b1ba\n",
            "https://huggingface.co/obokkkk/hubert-large-ls960-ft-timit/resolve/main/tokenizer_config.json not found in cache or force_download set to True, downloading to /root/.cache/huggingface/transformers/tmpnls6ifgr\n"
          ]
        },
        {
          "output_type": "display_data",
          "data": {
            "text/plain": [
              "Downloading:   0%|          | 0.00/181 [00:00<?, ?B/s]"
            ],
            "application/vnd.jupyter.widget-view+json": {
              "version_major": 2,
              "version_minor": 0,
              "model_id": "9d66e043c4224b5ea6eaee44f45f8abc"
            }
          },
          "metadata": {}
        },
        {
          "output_type": "stream",
          "name": "stderr",
          "text": [
            "storing https://huggingface.co/obokkkk/hubert-large-ls960-ft-timit/resolve/main/tokenizer_config.json in cache at /root/.cache/huggingface/transformers/72ffb2ff6197a7077964c4b798d8869b909bb759a19273d4ed4d86489377c06e.9a832b91e3d317e7bec01bab5134265b75f2d6b05a270d0140d8a116c51b8591\n",
            "creating metadata file for /root/.cache/huggingface/transformers/72ffb2ff6197a7077964c4b798d8869b909bb759a19273d4ed4d86489377c06e.9a832b91e3d317e7bec01bab5134265b75f2d6b05a270d0140d8a116c51b8591\n",
            "https://huggingface.co/obokkkk/hubert-large-ls960-ft-timit/resolve/main/special_tokens_map.json not found in cache or force_download set to True, downloading to /root/.cache/huggingface/transformers/tmpkt_9fjxy\n"
          ]
        },
        {
          "output_type": "display_data",
          "data": {
            "text/plain": [
              "Downloading:   0%|          | 0.00/85.0 [00:00<?, ?B/s]"
            ],
            "application/vnd.jupyter.widget-view+json": {
              "version_major": 2,
              "version_minor": 0,
              "model_id": "ec2355dc03764b7fa1035e3c007a40fc"
            }
          },
          "metadata": {}
        },
        {
          "output_type": "stream",
          "name": "stderr",
          "text": [
            "storing https://huggingface.co/obokkkk/hubert-large-ls960-ft-timit/resolve/main/special_tokens_map.json in cache at /root/.cache/huggingface/transformers/872c99d39a7514f5353e54550d6d5dcfc934b71a3f5bbfd12f3941e31461e260.a21d51735cf8667bcd610f057e88548d5d6a381401f6b4501a8bc6c1a9dc8498\n",
            "creating metadata file for /root/.cache/huggingface/transformers/872c99d39a7514f5353e54550d6d5dcfc934b71a3f5bbfd12f3941e31461e260.a21d51735cf8667bcd610f057e88548d5d6a381401f6b4501a8bc6c1a9dc8498\n",
            "loading file https://huggingface.co/obokkkk/hubert-large-ls960-ft-timit/resolve/main/vocab.json from cache at /root/.cache/huggingface/transformers/d596c1676f2a1137edd0bb6170034fcec84b9a01aabe7c110909bd6b62c9db7e.05f58afc697ec288b43b00e739e6c87df94c544111a0b50adc43436a8401b1ba\n",
            "loading file https://huggingface.co/obokkkk/hubert-large-ls960-ft-timit/resolve/main/tokenizer_config.json from cache at /root/.cache/huggingface/transformers/72ffb2ff6197a7077964c4b798d8869b909bb759a19273d4ed4d86489377c06e.9a832b91e3d317e7bec01bab5134265b75f2d6b05a270d0140d8a116c51b8591\n",
            "loading file https://huggingface.co/obokkkk/hubert-large-ls960-ft-timit/resolve/main/added_tokens.json from cache at None\n",
            "loading file https://huggingface.co/obokkkk/hubert-large-ls960-ft-timit/resolve/main/special_tokens_map.json from cache at /root/.cache/huggingface/transformers/872c99d39a7514f5353e54550d6d5dcfc934b71a3f5bbfd12f3941e31461e260.a21d51735cf8667bcd610f057e88548d5d6a381401f6b4501a8bc6c1a9dc8498\n",
            "loading file https://huggingface.co/obokkkk/hubert-large-ls960-ft-timit/resolve/main/tokenizer.json from cache at None\n",
            "Adding <s> to the vocabulary\n",
            "Adding </s> to the vocabulary\n",
            "Special tokens have been added in the vocabulary, make sure the associated word embeddings are fine-tuned or trained.\n"
          ]
        }
      ]
    },
    {
      "cell_type": "code",
      "metadata": {
        "id": "sSpFW3pDn23P",
        "colab": {
          "base_uri": "https://localhost:8080/",
          "height": 1000,
          "referenced_widgets": [
            "8603c07763254e50b0460f72c330615b",
            "46c8d42ca57e48d8bc31a0887fa0133e",
            "1ae0ed0b124049d39eb77831a8109fce",
            "1dbee3b2c32e448ea62085a487b38273",
            "882e136f88c1455dae771da6ce75b6c7",
            "92c148b01a8248cc97d90f245e3ac3c6",
            "0ab486fff7804456b56d352234247afc",
            "8f8476f9906144f0a3f88e91b960c49f",
            "81ef65ad45e04d9c8feff7a22a0bd934",
            "d9fc0e4d1a8246849f5bf3182d2ee6df",
            "bb73b47ae4d5439387f1900b52e015e8",
            "ad72a6c47c5c4958b77cde42319236d7",
            "3ee1b7f18b8443dc93cb7d404956631b",
            "fd802016d6354e3ca53e153a06a29cdb",
            "63c0204b914f49f2bf2570dabaa4fff8",
            "b71575f23be44091ad72323b1a8e5989",
            "77a3607aa3974b5bae5a5fb45f17e4c5",
            "4aae8d61689e495f8cb7be8a6c94e33b",
            "4a68c60eab3e4a028945e9d86c5c0c65",
            "5d564ee9a9544a6fb5582e02bbb9d6e1",
            "a1467e2ea59f4b9da3b305047bbced5e",
            "18ce94e738094cd7b1d9b798c61ba30d"
          ]
        },
        "outputId": "16a94e2c-57a6-4fda-8690-7ec04b8f4128"
      },
      "source": [
        "model = HubertForCTC.from_pretrained(\"obokkkk/hubert-large-ls960-ft-timit\")"
      ],
      "execution_count": null,
      "outputs": [
        {
          "output_type": "stream",
          "name": "stderr",
          "text": [
            "https://huggingface.co/obokkkk/hubert-large-ls960-ft-timit/resolve/main/config.json not found in cache or force_download set to True, downloading to /root/.cache/huggingface/transformers/tmp1knvi_gz\n"
          ]
        },
        {
          "output_type": "display_data",
          "data": {
            "text/plain": [
              "Downloading:   0%|          | 0.00/1.43k [00:00<?, ?B/s]"
            ],
            "application/vnd.jupyter.widget-view+json": {
              "version_major": 2,
              "version_minor": 0,
              "model_id": "8603c07763254e50b0460f72c330615b"
            }
          },
          "metadata": {}
        },
        {
          "output_type": "stream",
          "name": "stderr",
          "text": [
            "storing https://huggingface.co/obokkkk/hubert-large-ls960-ft-timit/resolve/main/config.json in cache at /root/.cache/huggingface/transformers/b80911a0bd759fd37c9ee0eced227ed5d2f2179f1c3b81e83dd24869cbe271ed.1fbd2c2b4be39e7d8def18784e0def4446ddbf81112847ba4661f6fc1b969c1c\n",
            "creating metadata file for /root/.cache/huggingface/transformers/b80911a0bd759fd37c9ee0eced227ed5d2f2179f1c3b81e83dd24869cbe271ed.1fbd2c2b4be39e7d8def18784e0def4446ddbf81112847ba4661f6fc1b969c1c\n",
            "loading configuration file https://huggingface.co/obokkkk/hubert-large-ls960-ft-timit/resolve/main/config.json from cache at /root/.cache/huggingface/transformers/b80911a0bd759fd37c9ee0eced227ed5d2f2179f1c3b81e83dd24869cbe271ed.1fbd2c2b4be39e7d8def18784e0def4446ddbf81112847ba4661f6fc1b969c1c\n",
            "Model config HubertConfig {\n",
            "  \"_name_or_path\": \"facebook/hubert-large-ls960-ft\",\n",
            "  \"activation_dropout\": 0.1,\n",
            "  \"apply_spec_augment\": true,\n",
            "  \"architectures\": [\n",
            "    \"HubertForCTC\"\n",
            "  ],\n",
            "  \"attention_dropout\": 0.1,\n",
            "  \"bos_token_id\": 1,\n",
            "  \"classifier_proj_size\": 256,\n",
            "  \"conv_bias\": true,\n",
            "  \"conv_dim\": [\n",
            "    512,\n",
            "    512,\n",
            "    512,\n",
            "    512,\n",
            "    512,\n",
            "    512,\n",
            "    512\n",
            "  ],\n",
            "  \"conv_kernel\": [\n",
            "    10,\n",
            "    3,\n",
            "    3,\n",
            "    3,\n",
            "    3,\n",
            "    2,\n",
            "    2\n",
            "  ],\n",
            "  \"conv_stride\": [\n",
            "    5,\n",
            "    2,\n",
            "    2,\n",
            "    2,\n",
            "    2,\n",
            "    2,\n",
            "    2\n",
            "  ],\n",
            "  \"ctc_loss_reduction\": \"mean\",\n",
            "  \"ctc_zero_infinity\": false,\n",
            "  \"diversity_loss_weight\": 0.1,\n",
            "  \"do_stable_layer_norm\": true,\n",
            "  \"eos_token_id\": 2,\n",
            "  \"feat_extract_activation\": \"gelu\",\n",
            "  \"feat_extract_dropout\": 0.0,\n",
            "  \"feat_extract_norm\": \"layer\",\n",
            "  \"feat_proj_dropout\": 0.1,\n",
            "  \"final_dropout\": 0.1,\n",
            "  \"gradient_checkpointing\": false,\n",
            "  \"hidden_act\": \"gelu\",\n",
            "  \"hidden_dropout\": 0.1,\n",
            "  \"hidden_dropout_prob\": 0.1,\n",
            "  \"hidden_size\": 1024,\n",
            "  \"initializer_range\": 0.02,\n",
            "  \"intermediate_size\": 4096,\n",
            "  \"layer_norm_eps\": 1e-05,\n",
            "  \"layerdrop\": 0.1,\n",
            "  \"mask_feature_length\": 10,\n",
            "  \"mask_feature_prob\": 0.0,\n",
            "  \"mask_time_length\": 10,\n",
            "  \"mask_time_prob\": 0.05,\n",
            "  \"model_type\": \"hubert\",\n",
            "  \"num_attention_heads\": 16,\n",
            "  \"num_conv_pos_embedding_groups\": 16,\n",
            "  \"num_conv_pos_embeddings\": 128,\n",
            "  \"num_feat_extract_layers\": 7,\n",
            "  \"num_hidden_layers\": 24,\n",
            "  \"pad_token_id\": 29,\n",
            "  \"torch_dtype\": \"float32\",\n",
            "  \"transformers_version\": \"4.11.3\",\n",
            "  \"use_weighted_layer_sum\": false,\n",
            "  \"vocab_size\": 32\n",
            "}\n",
            "\n",
            "https://huggingface.co/obokkkk/hubert-large-ls960-ft-timit/resolve/main/pytorch_model.bin not found in cache or force_download set to True, downloading to /root/.cache/huggingface/transformers/tmpj2a32jjx\n"
          ]
        },
        {
          "output_type": "display_data",
          "data": {
            "text/plain": [
              "Downloading:   0%|          | 0.00/1.18G [00:00<?, ?B/s]"
            ],
            "application/vnd.jupyter.widget-view+json": {
              "version_major": 2,
              "version_minor": 0,
              "model_id": "ad72a6c47c5c4958b77cde42319236d7"
            }
          },
          "metadata": {}
        },
        {
          "output_type": "stream",
          "name": "stderr",
          "text": [
            "storing https://huggingface.co/obokkkk/hubert-large-ls960-ft-timit/resolve/main/pytorch_model.bin in cache at /root/.cache/huggingface/transformers/a882b7908db856b49ac2ff9aa13c69c1c1c57f1ad5985ab0b569b5efb18f8d59.155dcf3d05b428e999ad5e33f9c347340a433ced6d4c3904de53dad6a1ac0b67\n",
            "creating metadata file for /root/.cache/huggingface/transformers/a882b7908db856b49ac2ff9aa13c69c1c1c57f1ad5985ab0b569b5efb18f8d59.155dcf3d05b428e999ad5e33f9c347340a433ced6d4c3904de53dad6a1ac0b67\n",
            "loading weights file https://huggingface.co/obokkkk/hubert-large-ls960-ft-timit/resolve/main/pytorch_model.bin from cache at /root/.cache/huggingface/transformers/a882b7908db856b49ac2ff9aa13c69c1c1c57f1ad5985ab0b569b5efb18f8d59.155dcf3d05b428e999ad5e33f9c347340a433ced6d4c3904de53dad6a1ac0b67\n",
            "All model checkpoint weights were used when initializing HubertForCTC.\n",
            "\n",
            "All the weights of HubertForCTC were initialized from the model checkpoint at obokkkk/hubert-large-ls960-ft-timit.\n",
            "If your task is similar to the task the model of the checkpoint was trained on, you can already use HubertForCTC for predictions without further training.\n"
          ]
        }
      ]
    },
    {
      "cell_type": "markdown",
      "metadata": {
        "id": "TUuZpB0v5jn_"
      },
      "source": [
        "이제 'map(...)' 함수를 사용하여 모든 테스트 샘플의 전사를 예측하고 데이터 세트 자체에 예측을 저장합니다. 결과 사전을 `\"results\"`라고 부를 것입니다.\n",
        "\n",
        "**참고**: 이 [issue](https://github.com/pytorch/fairseq/issues/3227)로 인해 의도적으로 `batch_size=1`로 테스트 데이터 세트를 평가합니다. 패딩된 입력은 패딩되지 않은 입력과 정확히 동일한 출력을 생성하지 않으므로 입력을 전혀 패딩하지 않음으로써 더 나은 WER을 얻을 수 있습니다.\n"
      ]
    },
    {
      "cell_type": "code",
      "metadata": {
        "id": "40naJl53n7jT"
      },
      "source": [
        "def map_to_result(batch):\n",
        "  with torch.no_grad():\n",
        "    input_values = torch.tensor(batch[\"input_values\"]).unsqueeze(0)\n",
        "    logits = model(input_values).logits\n",
        "\n",
        "  pred_ids = torch.argmax(logits, dim=-1)\n",
        "  batch[\"pred_str\"] = processor.batch_decode(pred_ids)[0]\n",
        "  batch[\"text\"] = processor.decode(batch[\"labels\"], group_tokens=False)\n",
        "  \n",
        "  return batch"
      ],
      "execution_count": null,
      "outputs": []
    },
    {
      "cell_type": "code",
      "metadata": {
        "id": "uPqH7gZqrGPi",
        "colab": {
          "base_uri": "https://localhost:8080/",
          "height": 49,
          "referenced_widgets": [
            "b4ea31b0fdb648d082ede1b94bc18272",
            "d2dd372acd8b4fc6b553e6e326a7faad",
            "d7e8f870f78345fcb90db10710d582b6",
            "296808b09428483587dea50a755678d9",
            "e1e4aab0319b439da7a4f616604de4ac",
            "e385efc9b9e340e8a09b520c4419f995",
            "b7493121ee924fec8756f31909614377",
            "b9492462cae24b9e9f02f6a1072ced02",
            "0e9e6a3a5e03400ba70b9f46ad3f954b",
            "d7253b650a334990be6738db023e780f",
            "197bd56ca0f6425d99ff0316d8e14ad3"
          ]
        },
        "outputId": "f2e95000-0ed6-4f06-fe4c-b85b8aa24358"
      },
      "source": [
        "results = timit[\"test\"].map(map_to_result, remove_columns=timit[\"test\"].column_names)"
      ],
      "execution_count": null,
      "outputs": [
        {
          "data": {
            "application/vnd.jupyter.widget-view+json": {
              "model_id": "b4ea31b0fdb648d082ede1b94bc18272",
              "version_major": 2,
              "version_minor": 0
            },
            "text/plain": [
              "0ex [00:00, ?ex/s]"
            ]
          },
          "metadata": {},
          "output_type": "display_data"
        }
      ]
    },
    {
      "cell_type": "markdown",
      "metadata": {
        "id": "-mqpdB8R6rty"
      },
      "source": [
        "Let's compute the overall WER now."
      ]
    },
    {
      "cell_type": "code",
      "metadata": {
        "id": "PmqAb4Isx8OK",
        "colab": {
          "base_uri": "https://localhost:8080/"
        },
        "outputId": "311fc94a-140d-4319-b597-74ccc223e66b"
      },
      "source": [
        "print(\"Test WER: {:.3f}\".format(wer_metric.compute(predictions=results[\"pred_str\"], references=results[\"text\"])))"
      ],
      "execution_count": null,
      "outputs": [
        {
          "output_type": "stream",
          "name": "stdout",
          "text": [
            "Test WER: 0.058\n"
          ]
        }
      ]
    },
    {
      "cell_type": "markdown",
      "metadata": {
        "id": "6Va94d8Y7Q98"
      },
      "source": [
        "22.1% WER -  우리의 데모 모델은 아마도 공식  [leaderboard](https://paperswithcode.com/sota/speech-recognition-on-timit)에 올랐을 것입니다.\n",
        "\n",
        "모델에서 어떤 오류가 발생하는지 보기 위해 몇 가지 예측을 살펴보겠습니다."
      ]
    },
    {
      "cell_type": "code",
      "metadata": {
        "id": "odNDiFVRy53w",
        "colab": {
          "base_uri": "https://localhost:8080/",
          "height": 363
        },
        "outputId": "f67b2a8d-175c-4160-ea6b-248bacfc7f58"
      },
      "source": [
        "show_random_elements(results)"
      ],
      "execution_count": null,
      "outputs": [
        {
          "output_type": "display_data",
          "data": {
            "text/plain": [
              "<IPython.core.display.HTML object>"
            ],
            "text/html": [
              "<table border=\"1\" class=\"dataframe\">\n",
              "  <thead>\n",
              "    <tr style=\"text-align: right;\">\n",
              "      <th></th>\n",
              "      <th>pred_str</th>\n",
              "      <th>text</th>\n",
              "    </tr>\n",
              "  </thead>\n",
              "  <tbody>\n",
              "    <tr>\n",
              "      <th>0</th>\n",
              "      <td>aim to balance your employee benefit package</td>\n",
              "      <td>aim to balance your employee benefit package</td>\n",
              "    </tr>\n",
              "    <tr>\n",
              "      <th>1</th>\n",
              "      <td>the fog prevented them from arriving on time</td>\n",
              "      <td>the fog prevented them from arriving on time</td>\n",
              "    </tr>\n",
              "    <tr>\n",
              "      <th>2</th>\n",
              "      <td>young children should avoid exposure to contagious diseases</td>\n",
              "      <td>young children should avoid exposure to contagious diseases</td>\n",
              "    </tr>\n",
              "    <tr>\n",
              "      <th>3</th>\n",
              "      <td>artificial intelligence is for real</td>\n",
              "      <td>artificial intelligence is for real</td>\n",
              "    </tr>\n",
              "    <tr>\n",
              "      <th>4</th>\n",
              "      <td>their props were two step ladders a chair and a paolm fan</td>\n",
              "      <td>their props were two stepladders a chair and a palm fan</td>\n",
              "    </tr>\n",
              "    <tr>\n",
              "      <th>5</th>\n",
              "      <td>if people were more generous there would be no need for welfare</td>\n",
              "      <td>if people were more generous there would be no need for welfare</td>\n",
              "    </tr>\n",
              "    <tr>\n",
              "      <th>6</th>\n",
              "      <td>the fish began to leap frantically on the surface of the small lake</td>\n",
              "      <td>the fish began to leap frantically on the surface of the small lake</td>\n",
              "    </tr>\n",
              "    <tr>\n",
              "      <th>7</th>\n",
              "      <td>her right hand aches whenever the barametric pressure changes</td>\n",
              "      <td>her right hand aches whenever the barometric pressure changes</td>\n",
              "    </tr>\n",
              "    <tr>\n",
              "      <th>8</th>\n",
              "      <td>only lawyers love millionaires</td>\n",
              "      <td>only lawyers love millionaires</td>\n",
              "    </tr>\n",
              "    <tr>\n",
              "      <th>9</th>\n",
              "      <td>the nearest cynnaguge may not be within walking distance</td>\n",
              "      <td>the nearest synagogue may not be within walking distance</td>\n",
              "    </tr>\n",
              "  </tbody>\n",
              "</table>"
            ]
          },
          "metadata": {}
        }
      ]
    },
    {
      "cell_type": "markdown",
      "metadata": {
        "id": "5HFCujhd9n4N"
      },
      "source": [
        "예측된 전사가 정답 전사와 음향적으로 매우 유사하지만 종종 철자나 문법 오류가 포함되어 있음이 분명해집니다. \n",
        "\n",
        "우리가 언어 모델을 사용하지 않고 순수하게 Wav2Vec2에 의존한다는 점을 감안할 때 적절한 결과"
      ]
    },
    {
      "cell_type": "markdown",
      "metadata": {
        "id": "a3ydKvUl9FTK"
      },
      "source": [
        "Finally, to better understand how CTC works, it is worth taking a deeper look at the exact output of the model. Let's run the first test sample through the model, take the predicted ids and convert them to their corresponding tokens."
      ]
    },
    {
      "cell_type": "code",
      "metadata": {
        "id": "AqaM45t87uM4",
        "colab": {
          "base_uri": "https://localhost:8080/",
          "height": 72
        },
        "outputId": "681571af-65e6-4b27-f7d3-f94c7556d1f7"
      },
      "source": [
        "model.to(\"cuda\")\n",
        "\n",
        "with torch.no_grad():\n",
        "  logits = model(torch.tensor(timit[\"test\"][:1][\"input_values\"], device=\"cuda\")).logits\n",
        "\n",
        "pred_ids = torch.argmax(logits, dim=-1)\n",
        "\n",
        "# convert ids to tokens\n",
        "\" \".join(processor.tokenizer.convert_ids_to_tokens(pred_ids[0].tolist()))"
      ],
      "execution_count": null,
      "outputs": [
        {
          "output_type": "execute_result",
          "data": {
            "text/plain": [
              "'[PAD] [PAD] [PAD] [PAD] [PAD] [PAD] t h h e e | | b b [PAD] [PAD] u n n n g g [PAD] a a l l l [PAD] o o [PAD] | | | w a a s s | | | [PAD] p p l l e a a [PAD] s s a a n t t t l l y y | | | [PAD] s s [PAD] [PAD] i i [PAD] t t [PAD] [PAD] u u u [PAD] [PAD] [PAD] a a [PAD] [PAD] t t e e d d | | [PAD] n n e a a r r | | t t h e e | [PAD] s s h h [PAD] [PAD] [PAD] o o r r r e e [PAD] [PAD] [PAD] [PAD] [PAD] [PAD] [PAD] [PAD] [PAD] |'"
            ],
            "application/vnd.google.colaboratory.intrinsic+json": {
              "type": "string"
            }
          },
          "metadata": {},
          "execution_count": 50
        }
      ]
    },
    {
      "cell_type": "markdown",
      "metadata": {
        "id": "tdO8E28g-n5C"
      },
      "source": [
        "출력은 CTC가 실제로 어떻게 작동하는지 좀 더 명확하게 해야 합니다. 모델은 분류할 음성 청크가 여전히 동일한 토큰에 해당하는 경우 동일한 토큰을 반복하는 방법을 배웠기 때문에 말하기 속도에 어느 정도 불변합니다. 이는 음성 파일의 전사가 길이와 거의 무관한 경우가 많기 때문에 CTC를 음성 인식을 위한 매우 강력한 알고리즘으로 만듭니다.\n",
        "\n",
        "독자들에게 CTC를 더 잘 이해하기 위해 [this](https://distill.pub/2017/ctc) 아주 멋진 블로그 게시물을 살펴보기를 다시 권합니다."
      ]
    },
    {
      "cell_type": "code",
      "source": [
        ""
      ],
      "metadata": {
        "id": "FqGgxPBpIpbS"
      },
      "execution_count": null,
      "outputs": []
    }
  ]
}