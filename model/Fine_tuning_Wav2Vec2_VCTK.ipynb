{
  "nbformat": 4,
  "nbformat_minor": 0,
  "metadata": {
    "colab": {
      "name": "Fine-tuning Wav2Vec2 for English ASR",
      "provenance": [],
      "collapsed_sections": [],
      "machine_shape": "hm",
      "background_execution": "on"
    },
    "kernelspec": {
      "name": "python3",
      "display_name": "Python 3"
    },
    "accelerator": "GPU",
    "widgets": {
      "application/vnd.jupyter.widget-state+json": {
        "9cea37fb3b054104926647bebf723700": {
          "model_module": "@jupyter-widgets/controls",
          "model_name": "VBoxModel",
          "model_module_version": "1.5.0",
          "state": {
            "_dom_classes": [],
            "_model_module": "@jupyter-widgets/controls",
            "_model_module_version": "1.5.0",
            "_model_name": "VBoxModel",
            "_view_count": null,
            "_view_module": "@jupyter-widgets/controls",
            "_view_module_version": "1.5.0",
            "_view_name": "VBoxView",
            "box_style": "",
            "children": [
              "IPY_MODEL_d7c670c23a9f4a389c025bb0c84d22c7",
              "IPY_MODEL_668e5bd926b94cf393e87029d9551a0e",
              "IPY_MODEL_bd917465293f4ebf81053613e081905a",
              "IPY_MODEL_edd3a87af18949458e544279ca659720",
              "IPY_MODEL_e174f2c154be4b1d908715bd02811385"
            ],
            "layout": "IPY_MODEL_3744e9b3975840c0806571ee34af4f70"
          }
        },
        "d7c670c23a9f4a389c025bb0c84d22c7": {
          "model_module": "@jupyter-widgets/controls",
          "model_name": "HTMLModel",
          "model_module_version": "1.5.0",
          "state": {
            "_dom_classes": [],
            "_model_module": "@jupyter-widgets/controls",
            "_model_module_version": "1.5.0",
            "_model_name": "HTMLModel",
            "_view_count": null,
            "_view_module": "@jupyter-widgets/controls",
            "_view_module_version": "1.5.0",
            "_view_name": "HTMLView",
            "description": "",
            "description_tooltip": null,
            "layout": "IPY_MODEL_9186094cfd4f467c9b057736ba1bb899",
            "placeholder": "​",
            "style": "IPY_MODEL_11d5bc3a2b924b49afaa9eb91b04a25c",
            "value": "<center> <img\nsrc=https://huggingface.co/front/assets/huggingface_logo-noborder.svg\nalt='Hugging Face'> <br> Copy a token from <a\nhref=\"https://huggingface.co/settings/tokens\" target=\"_blank\">your Hugging Face\ntokens page</a> and paste it below. <br> Immediately click login after copying\nyour token or it might be stored in plain text in this notebook file. </center>"
          }
        },
        "668e5bd926b94cf393e87029d9551a0e": {
          "model_module": "@jupyter-widgets/controls",
          "model_name": "PasswordModel",
          "model_module_version": "1.5.0",
          "state": {
            "_dom_classes": [],
            "_model_module": "@jupyter-widgets/controls",
            "_model_module_version": "1.5.0",
            "_model_name": "PasswordModel",
            "_view_count": null,
            "_view_module": "@jupyter-widgets/controls",
            "_view_module_version": "1.5.0",
            "_view_name": "PasswordView",
            "continuous_update": true,
            "description": "Token:",
            "description_tooltip": null,
            "disabled": false,
            "layout": "IPY_MODEL_005e73b569cc457d879cce1c7075dfa4",
            "placeholder": "​",
            "style": "IPY_MODEL_3e365f91324648039f67a088f8e5fd95",
            "value": ""
          }
        },
        "bd917465293f4ebf81053613e081905a": {
          "model_module": "@jupyter-widgets/controls",
          "model_name": "ButtonModel",
          "model_module_version": "1.5.0",
          "state": {
            "_dom_classes": [],
            "_model_module": "@jupyter-widgets/controls",
            "_model_module_version": "1.5.0",
            "_model_name": "ButtonModel",
            "_view_count": null,
            "_view_module": "@jupyter-widgets/controls",
            "_view_module_version": "1.5.0",
            "_view_name": "ButtonView",
            "button_style": "",
            "description": "Login",
            "disabled": false,
            "icon": "",
            "layout": "IPY_MODEL_edbf7c3c973149538db5765dd2e33431",
            "style": "IPY_MODEL_032cfa8e7463431f92535c4ed0c78bad",
            "tooltip": ""
          }
        },
        "edd3a87af18949458e544279ca659720": {
          "model_module": "@jupyter-widgets/controls",
          "model_name": "HTMLModel",
          "model_module_version": "1.5.0",
          "state": {
            "_dom_classes": [],
            "_model_module": "@jupyter-widgets/controls",
            "_model_module_version": "1.5.0",
            "_model_name": "HTMLModel",
            "_view_count": null,
            "_view_module": "@jupyter-widgets/controls",
            "_view_module_version": "1.5.0",
            "_view_name": "HTMLView",
            "description": "",
            "description_tooltip": null,
            "layout": "IPY_MODEL_27c94d6229f44f52b433e30c72577613",
            "placeholder": "​",
            "style": "IPY_MODEL_875d890d4a954d19bf2957de07df3f84",
            "value": "\n<b>Pro Tip:</b> If you don't already have one, you can create a dedicated\n'notebooks' token with 'write' access, that you can then easily reuse for all\nnotebooks. <br> <i>Logging in with your username and password is deprecated and\nwon't be possible anymore in the near future. You can still use them for now by\nclicking below.</i> </center>"
          }
        },
        "e174f2c154be4b1d908715bd02811385": {
          "model_module": "@jupyter-widgets/controls",
          "model_name": "ButtonModel",
          "model_module_version": "1.5.0",
          "state": {
            "_dom_classes": [],
            "_model_module": "@jupyter-widgets/controls",
            "_model_module_version": "1.5.0",
            "_model_name": "ButtonModel",
            "_view_count": null,
            "_view_module": "@jupyter-widgets/controls",
            "_view_module_version": "1.5.0",
            "_view_name": "ButtonView",
            "button_style": "",
            "description": "Use password",
            "disabled": false,
            "icon": "",
            "layout": "IPY_MODEL_154f5d94502c4f10b27a9b370aab7c35",
            "style": "IPY_MODEL_c07a61a461ec4091acc0b5153ebd6004",
            "tooltip": ""
          }
        },
        "3744e9b3975840c0806571ee34af4f70": {
          "model_module": "@jupyter-widgets/base",
          "model_name": "LayoutModel",
          "model_module_version": "1.2.0",
          "state": {
            "_model_module": "@jupyter-widgets/base",
            "_model_module_version": "1.2.0",
            "_model_name": "LayoutModel",
            "_view_count": null,
            "_view_module": "@jupyter-widgets/base",
            "_view_module_version": "1.2.0",
            "_view_name": "LayoutView",
            "align_content": null,
            "align_items": "center",
            "align_self": null,
            "border": null,
            "bottom": null,
            "display": "flex",
            "flex": null,
            "flex_flow": "column",
            "grid_area": null,
            "grid_auto_columns": null,
            "grid_auto_flow": null,
            "grid_auto_rows": null,
            "grid_column": null,
            "grid_gap": null,
            "grid_row": null,
            "grid_template_areas": null,
            "grid_template_columns": null,
            "grid_template_rows": null,
            "height": null,
            "justify_content": null,
            "justify_items": null,
            "left": null,
            "margin": null,
            "max_height": null,
            "max_width": null,
            "min_height": null,
            "min_width": null,
            "object_fit": null,
            "object_position": null,
            "order": null,
            "overflow": null,
            "overflow_x": null,
            "overflow_y": null,
            "padding": null,
            "right": null,
            "top": null,
            "visibility": null,
            "width": "50%"
          }
        },
        "9186094cfd4f467c9b057736ba1bb899": {
          "model_module": "@jupyter-widgets/base",
          "model_name": "LayoutModel",
          "model_module_version": "1.2.0",
          "state": {
            "_model_module": "@jupyter-widgets/base",
            "_model_module_version": "1.2.0",
            "_model_name": "LayoutModel",
            "_view_count": null,
            "_view_module": "@jupyter-widgets/base",
            "_view_module_version": "1.2.0",
            "_view_name": "LayoutView",
            "align_content": null,
            "align_items": null,
            "align_self": null,
            "border": null,
            "bottom": null,
            "display": null,
            "flex": null,
            "flex_flow": null,
            "grid_area": null,
            "grid_auto_columns": null,
            "grid_auto_flow": null,
            "grid_auto_rows": null,
            "grid_column": null,
            "grid_gap": null,
            "grid_row": null,
            "grid_template_areas": null,
            "grid_template_columns": null,
            "grid_template_rows": null,
            "height": null,
            "justify_content": null,
            "justify_items": null,
            "left": null,
            "margin": null,
            "max_height": null,
            "max_width": null,
            "min_height": null,
            "min_width": null,
            "object_fit": null,
            "object_position": null,
            "order": null,
            "overflow": null,
            "overflow_x": null,
            "overflow_y": null,
            "padding": null,
            "right": null,
            "top": null,
            "visibility": null,
            "width": null
          }
        },
        "11d5bc3a2b924b49afaa9eb91b04a25c": {
          "model_module": "@jupyter-widgets/controls",
          "model_name": "DescriptionStyleModel",
          "model_module_version": "1.5.0",
          "state": {
            "_model_module": "@jupyter-widgets/controls",
            "_model_module_version": "1.5.0",
            "_model_name": "DescriptionStyleModel",
            "_view_count": null,
            "_view_module": "@jupyter-widgets/base",
            "_view_module_version": "1.2.0",
            "_view_name": "StyleView",
            "description_width": ""
          }
        },
        "005e73b569cc457d879cce1c7075dfa4": {
          "model_module": "@jupyter-widgets/base",
          "model_name": "LayoutModel",
          "model_module_version": "1.2.0",
          "state": {
            "_model_module": "@jupyter-widgets/base",
            "_model_module_version": "1.2.0",
            "_model_name": "LayoutModel",
            "_view_count": null,
            "_view_module": "@jupyter-widgets/base",
            "_view_module_version": "1.2.0",
            "_view_name": "LayoutView",
            "align_content": null,
            "align_items": null,
            "align_self": null,
            "border": null,
            "bottom": null,
            "display": null,
            "flex": null,
            "flex_flow": null,
            "grid_area": null,
            "grid_auto_columns": null,
            "grid_auto_flow": null,
            "grid_auto_rows": null,
            "grid_column": null,
            "grid_gap": null,
            "grid_row": null,
            "grid_template_areas": null,
            "grid_template_columns": null,
            "grid_template_rows": null,
            "height": null,
            "justify_content": null,
            "justify_items": null,
            "left": null,
            "margin": null,
            "max_height": null,
            "max_width": null,
            "min_height": null,
            "min_width": null,
            "object_fit": null,
            "object_position": null,
            "order": null,
            "overflow": null,
            "overflow_x": null,
            "overflow_y": null,
            "padding": null,
            "right": null,
            "top": null,
            "visibility": null,
            "width": null
          }
        },
        "3e365f91324648039f67a088f8e5fd95": {
          "model_module": "@jupyter-widgets/controls",
          "model_name": "DescriptionStyleModel",
          "model_module_version": "1.5.0",
          "state": {
            "_model_module": "@jupyter-widgets/controls",
            "_model_module_version": "1.5.0",
            "_model_name": "DescriptionStyleModel",
            "_view_count": null,
            "_view_module": "@jupyter-widgets/base",
            "_view_module_version": "1.2.0",
            "_view_name": "StyleView",
            "description_width": ""
          }
        },
        "edbf7c3c973149538db5765dd2e33431": {
          "model_module": "@jupyter-widgets/base",
          "model_name": "LayoutModel",
          "model_module_version": "1.2.0",
          "state": {
            "_model_module": "@jupyter-widgets/base",
            "_model_module_version": "1.2.0",
            "_model_name": "LayoutModel",
            "_view_count": null,
            "_view_module": "@jupyter-widgets/base",
            "_view_module_version": "1.2.0",
            "_view_name": "LayoutView",
            "align_content": null,
            "align_items": null,
            "align_self": null,
            "border": null,
            "bottom": null,
            "display": null,
            "flex": null,
            "flex_flow": null,
            "grid_area": null,
            "grid_auto_columns": null,
            "grid_auto_flow": null,
            "grid_auto_rows": null,
            "grid_column": null,
            "grid_gap": null,
            "grid_row": null,
            "grid_template_areas": null,
            "grid_template_columns": null,
            "grid_template_rows": null,
            "height": null,
            "justify_content": null,
            "justify_items": null,
            "left": null,
            "margin": null,
            "max_height": null,
            "max_width": null,
            "min_height": null,
            "min_width": null,
            "object_fit": null,
            "object_position": null,
            "order": null,
            "overflow": null,
            "overflow_x": null,
            "overflow_y": null,
            "padding": null,
            "right": null,
            "top": null,
            "visibility": null,
            "width": null
          }
        },
        "032cfa8e7463431f92535c4ed0c78bad": {
          "model_module": "@jupyter-widgets/controls",
          "model_name": "ButtonStyleModel",
          "model_module_version": "1.5.0",
          "state": {
            "_model_module": "@jupyter-widgets/controls",
            "_model_module_version": "1.5.0",
            "_model_name": "ButtonStyleModel",
            "_view_count": null,
            "_view_module": "@jupyter-widgets/base",
            "_view_module_version": "1.2.0",
            "_view_name": "StyleView",
            "button_color": null,
            "font_weight": ""
          }
        },
        "27c94d6229f44f52b433e30c72577613": {
          "model_module": "@jupyter-widgets/base",
          "model_name": "LayoutModel",
          "model_module_version": "1.2.0",
          "state": {
            "_model_module": "@jupyter-widgets/base",
            "_model_module_version": "1.2.0",
            "_model_name": "LayoutModel",
            "_view_count": null,
            "_view_module": "@jupyter-widgets/base",
            "_view_module_version": "1.2.0",
            "_view_name": "LayoutView",
            "align_content": null,
            "align_items": null,
            "align_self": null,
            "border": null,
            "bottom": null,
            "display": null,
            "flex": null,
            "flex_flow": null,
            "grid_area": null,
            "grid_auto_columns": null,
            "grid_auto_flow": null,
            "grid_auto_rows": null,
            "grid_column": null,
            "grid_gap": null,
            "grid_row": null,
            "grid_template_areas": null,
            "grid_template_columns": null,
            "grid_template_rows": null,
            "height": null,
            "justify_content": null,
            "justify_items": null,
            "left": null,
            "margin": null,
            "max_height": null,
            "max_width": null,
            "min_height": null,
            "min_width": null,
            "object_fit": null,
            "object_position": null,
            "order": null,
            "overflow": null,
            "overflow_x": null,
            "overflow_y": null,
            "padding": null,
            "right": null,
            "top": null,
            "visibility": null,
            "width": null
          }
        },
        "875d890d4a954d19bf2957de07df3f84": {
          "model_module": "@jupyter-widgets/controls",
          "model_name": "DescriptionStyleModel",
          "model_module_version": "1.5.0",
          "state": {
            "_model_module": "@jupyter-widgets/controls",
            "_model_module_version": "1.5.0",
            "_model_name": "DescriptionStyleModel",
            "_view_count": null,
            "_view_module": "@jupyter-widgets/base",
            "_view_module_version": "1.2.0",
            "_view_name": "StyleView",
            "description_width": ""
          }
        },
        "154f5d94502c4f10b27a9b370aab7c35": {
          "model_module": "@jupyter-widgets/base",
          "model_name": "LayoutModel",
          "model_module_version": "1.2.0",
          "state": {
            "_model_module": "@jupyter-widgets/base",
            "_model_module_version": "1.2.0",
            "_model_name": "LayoutModel",
            "_view_count": null,
            "_view_module": "@jupyter-widgets/base",
            "_view_module_version": "1.2.0",
            "_view_name": "LayoutView",
            "align_content": null,
            "align_items": null,
            "align_self": null,
            "border": null,
            "bottom": null,
            "display": null,
            "flex": null,
            "flex_flow": null,
            "grid_area": null,
            "grid_auto_columns": null,
            "grid_auto_flow": null,
            "grid_auto_rows": null,
            "grid_column": null,
            "grid_gap": null,
            "grid_row": null,
            "grid_template_areas": null,
            "grid_template_columns": null,
            "grid_template_rows": null,
            "height": null,
            "justify_content": null,
            "justify_items": null,
            "left": null,
            "margin": null,
            "max_height": null,
            "max_width": null,
            "min_height": null,
            "min_width": null,
            "object_fit": null,
            "object_position": null,
            "order": null,
            "overflow": null,
            "overflow_x": null,
            "overflow_y": null,
            "padding": null,
            "right": null,
            "top": null,
            "visibility": null,
            "width": null
          }
        },
        "c07a61a461ec4091acc0b5153ebd6004": {
          "model_module": "@jupyter-widgets/controls",
          "model_name": "ButtonStyleModel",
          "model_module_version": "1.5.0",
          "state": {
            "_model_module": "@jupyter-widgets/controls",
            "_model_module_version": "1.5.0",
            "_model_name": "ButtonStyleModel",
            "_view_count": null,
            "_view_module": "@jupyter-widgets/base",
            "_view_module_version": "1.2.0",
            "_view_name": "StyleView",
            "button_color": null,
            "font_weight": ""
          }
        },
        "21f7c18c2d9d49ce8e5496c64f3a7cf9": {
          "model_module": "@jupyter-widgets/controls",
          "model_name": "HBoxModel",
          "model_module_version": "1.5.0",
          "state": {
            "_dom_classes": [],
            "_model_module": "@jupyter-widgets/controls",
            "_model_module_version": "1.5.0",
            "_model_name": "HBoxModel",
            "_view_count": null,
            "_view_module": "@jupyter-widgets/controls",
            "_view_module_version": "1.5.0",
            "_view_name": "HBoxView",
            "box_style": "",
            "children": [
              "IPY_MODEL_2c9c9fd46dd04f5d812030622ad638e7",
              "IPY_MODEL_b86606718d464eaba941d8bcc7386383",
              "IPY_MODEL_7b3cb565572c420ea1fbf911745c7b5b"
            ],
            "layout": "IPY_MODEL_2899d30f80664021ae5933f658cf8d58"
          }
        },
        "2c9c9fd46dd04f5d812030622ad638e7": {
          "model_module": "@jupyter-widgets/controls",
          "model_name": "HTMLModel",
          "model_module_version": "1.5.0",
          "state": {
            "_dom_classes": [],
            "_model_module": "@jupyter-widgets/controls",
            "_model_module_version": "1.5.0",
            "_model_name": "HTMLModel",
            "_view_count": null,
            "_view_module": "@jupyter-widgets/controls",
            "_view_module_version": "1.5.0",
            "_view_name": "HTMLView",
            "description": "",
            "description_tooltip": null,
            "layout": "IPY_MODEL_a6aae9aaece04a99983be70e12b23b80",
            "placeholder": "​",
            "style": "IPY_MODEL_743fc6ecc18643838176dd3e941d5915",
            "value": "100%"
          }
        },
        "b86606718d464eaba941d8bcc7386383": {
          "model_module": "@jupyter-widgets/controls",
          "model_name": "FloatProgressModel",
          "model_module_version": "1.5.0",
          "state": {
            "_dom_classes": [],
            "_model_module": "@jupyter-widgets/controls",
            "_model_module_version": "1.5.0",
            "_model_name": "FloatProgressModel",
            "_view_count": null,
            "_view_module": "@jupyter-widgets/controls",
            "_view_module_version": "1.5.0",
            "_view_name": "ProgressView",
            "bar_style": "success",
            "description": "",
            "description_tooltip": null,
            "layout": "IPY_MODEL_382efb22edbe4214bf144d6d22382840",
            "max": 1,
            "min": 0,
            "orientation": "horizontal",
            "style": "IPY_MODEL_b8fedfb7846f45639d84042ac619abd4",
            "value": 1
          }
        },
        "7b3cb565572c420ea1fbf911745c7b5b": {
          "model_module": "@jupyter-widgets/controls",
          "model_name": "HTMLModel",
          "model_module_version": "1.5.0",
          "state": {
            "_dom_classes": [],
            "_model_module": "@jupyter-widgets/controls",
            "_model_module_version": "1.5.0",
            "_model_name": "HTMLModel",
            "_view_count": null,
            "_view_module": "@jupyter-widgets/controls",
            "_view_module_version": "1.5.0",
            "_view_name": "HTMLView",
            "description": "",
            "description_tooltip": null,
            "layout": "IPY_MODEL_28be45b946b3414ba7591ebdbb5f7249",
            "placeholder": "​",
            "style": "IPY_MODEL_120b8048813a42119c822fcb78d8fda5",
            "value": " 1/1 [00:00&lt;00:00, 10.75it/s]"
          }
        },
        "2899d30f80664021ae5933f658cf8d58": {
          "model_module": "@jupyter-widgets/base",
          "model_name": "LayoutModel",
          "model_module_version": "1.2.0",
          "state": {
            "_model_module": "@jupyter-widgets/base",
            "_model_module_version": "1.2.0",
            "_model_name": "LayoutModel",
            "_view_count": null,
            "_view_module": "@jupyter-widgets/base",
            "_view_module_version": "1.2.0",
            "_view_name": "LayoutView",
            "align_content": null,
            "align_items": null,
            "align_self": null,
            "border": null,
            "bottom": null,
            "display": null,
            "flex": null,
            "flex_flow": null,
            "grid_area": null,
            "grid_auto_columns": null,
            "grid_auto_flow": null,
            "grid_auto_rows": null,
            "grid_column": null,
            "grid_gap": null,
            "grid_row": null,
            "grid_template_areas": null,
            "grid_template_columns": null,
            "grid_template_rows": null,
            "height": null,
            "justify_content": null,
            "justify_items": null,
            "left": null,
            "margin": null,
            "max_height": null,
            "max_width": null,
            "min_height": null,
            "min_width": null,
            "object_fit": null,
            "object_position": null,
            "order": null,
            "overflow": null,
            "overflow_x": null,
            "overflow_y": null,
            "padding": null,
            "right": null,
            "top": null,
            "visibility": null,
            "width": null
          }
        },
        "a6aae9aaece04a99983be70e12b23b80": {
          "model_module": "@jupyter-widgets/base",
          "model_name": "LayoutModel",
          "model_module_version": "1.2.0",
          "state": {
            "_model_module": "@jupyter-widgets/base",
            "_model_module_version": "1.2.0",
            "_model_name": "LayoutModel",
            "_view_count": null,
            "_view_module": "@jupyter-widgets/base",
            "_view_module_version": "1.2.0",
            "_view_name": "LayoutView",
            "align_content": null,
            "align_items": null,
            "align_self": null,
            "border": null,
            "bottom": null,
            "display": null,
            "flex": null,
            "flex_flow": null,
            "grid_area": null,
            "grid_auto_columns": null,
            "grid_auto_flow": null,
            "grid_auto_rows": null,
            "grid_column": null,
            "grid_gap": null,
            "grid_row": null,
            "grid_template_areas": null,
            "grid_template_columns": null,
            "grid_template_rows": null,
            "height": null,
            "justify_content": null,
            "justify_items": null,
            "left": null,
            "margin": null,
            "max_height": null,
            "max_width": null,
            "min_height": null,
            "min_width": null,
            "object_fit": null,
            "object_position": null,
            "order": null,
            "overflow": null,
            "overflow_x": null,
            "overflow_y": null,
            "padding": null,
            "right": null,
            "top": null,
            "visibility": null,
            "width": null
          }
        },
        "743fc6ecc18643838176dd3e941d5915": {
          "model_module": "@jupyter-widgets/controls",
          "model_name": "DescriptionStyleModel",
          "model_module_version": "1.5.0",
          "state": {
            "_model_module": "@jupyter-widgets/controls",
            "_model_module_version": "1.5.0",
            "_model_name": "DescriptionStyleModel",
            "_view_count": null,
            "_view_module": "@jupyter-widgets/base",
            "_view_module_version": "1.2.0",
            "_view_name": "StyleView",
            "description_width": ""
          }
        },
        "382efb22edbe4214bf144d6d22382840": {
          "model_module": "@jupyter-widgets/base",
          "model_name": "LayoutModel",
          "model_module_version": "1.2.0",
          "state": {
            "_model_module": "@jupyter-widgets/base",
            "_model_module_version": "1.2.0",
            "_model_name": "LayoutModel",
            "_view_count": null,
            "_view_module": "@jupyter-widgets/base",
            "_view_module_version": "1.2.0",
            "_view_name": "LayoutView",
            "align_content": null,
            "align_items": null,
            "align_self": null,
            "border": null,
            "bottom": null,
            "display": null,
            "flex": null,
            "flex_flow": null,
            "grid_area": null,
            "grid_auto_columns": null,
            "grid_auto_flow": null,
            "grid_auto_rows": null,
            "grid_column": null,
            "grid_gap": null,
            "grid_row": null,
            "grid_template_areas": null,
            "grid_template_columns": null,
            "grid_template_rows": null,
            "height": null,
            "justify_content": null,
            "justify_items": null,
            "left": null,
            "margin": null,
            "max_height": null,
            "max_width": null,
            "min_height": null,
            "min_width": null,
            "object_fit": null,
            "object_position": null,
            "order": null,
            "overflow": null,
            "overflow_x": null,
            "overflow_y": null,
            "padding": null,
            "right": null,
            "top": null,
            "visibility": null,
            "width": null
          }
        },
        "b8fedfb7846f45639d84042ac619abd4": {
          "model_module": "@jupyter-widgets/controls",
          "model_name": "ProgressStyleModel",
          "model_module_version": "1.5.0",
          "state": {
            "_model_module": "@jupyter-widgets/controls",
            "_model_module_version": "1.5.0",
            "_model_name": "ProgressStyleModel",
            "_view_count": null,
            "_view_module": "@jupyter-widgets/base",
            "_view_module_version": "1.2.0",
            "_view_name": "StyleView",
            "bar_color": null,
            "description_width": ""
          }
        },
        "28be45b946b3414ba7591ebdbb5f7249": {
          "model_module": "@jupyter-widgets/base",
          "model_name": "LayoutModel",
          "model_module_version": "1.2.0",
          "state": {
            "_model_module": "@jupyter-widgets/base",
            "_model_module_version": "1.2.0",
            "_model_name": "LayoutModel",
            "_view_count": null,
            "_view_module": "@jupyter-widgets/base",
            "_view_module_version": "1.2.0",
            "_view_name": "LayoutView",
            "align_content": null,
            "align_items": null,
            "align_self": null,
            "border": null,
            "bottom": null,
            "display": null,
            "flex": null,
            "flex_flow": null,
            "grid_area": null,
            "grid_auto_columns": null,
            "grid_auto_flow": null,
            "grid_auto_rows": null,
            "grid_column": null,
            "grid_gap": null,
            "grid_row": null,
            "grid_template_areas": null,
            "grid_template_columns": null,
            "grid_template_rows": null,
            "height": null,
            "justify_content": null,
            "justify_items": null,
            "left": null,
            "margin": null,
            "max_height": null,
            "max_width": null,
            "min_height": null,
            "min_width": null,
            "object_fit": null,
            "object_position": null,
            "order": null,
            "overflow": null,
            "overflow_x": null,
            "overflow_y": null,
            "padding": null,
            "right": null,
            "top": null,
            "visibility": null,
            "width": null
          }
        },
        "120b8048813a42119c822fcb78d8fda5": {
          "model_module": "@jupyter-widgets/controls",
          "model_name": "DescriptionStyleModel",
          "model_module_version": "1.5.0",
          "state": {
            "_model_module": "@jupyter-widgets/controls",
            "_model_module_version": "1.5.0",
            "_model_name": "DescriptionStyleModel",
            "_view_count": null,
            "_view_module": "@jupyter-widgets/base",
            "_view_module_version": "1.2.0",
            "_view_name": "StyleView",
            "description_width": ""
          }
        },
        "6c44afc7b274430f8f007bbe23befbcc": {
          "model_module": "@jupyter-widgets/controls",
          "model_name": "HBoxModel",
          "model_module_version": "1.5.0",
          "state": {
            "_dom_classes": [],
            "_model_module": "@jupyter-widgets/controls",
            "_model_module_version": "1.5.0",
            "_model_name": "HBoxModel",
            "_view_count": null,
            "_view_module": "@jupyter-widgets/controls",
            "_view_module_version": "1.5.0",
            "_view_name": "HBoxView",
            "box_style": "",
            "children": [
              "IPY_MODEL_242ec288c8bc4030a1d1cdbca7165cbc",
              "IPY_MODEL_070dbc8a18214e85b8c7a7a03427c5c0",
              "IPY_MODEL_2a8eb0fa8ef14e5c861775424eef6550"
            ],
            "layout": "IPY_MODEL_0a55634b24744c189c3bc162a524e81e"
          }
        },
        "242ec288c8bc4030a1d1cdbca7165cbc": {
          "model_module": "@jupyter-widgets/controls",
          "model_name": "HTMLModel",
          "model_module_version": "1.5.0",
          "state": {
            "_dom_classes": [],
            "_model_module": "@jupyter-widgets/controls",
            "_model_module_version": "1.5.0",
            "_model_name": "HTMLModel",
            "_view_count": null,
            "_view_module": "@jupyter-widgets/controls",
            "_view_module_version": "1.5.0",
            "_view_name": "HTMLView",
            "description": "",
            "description_tooltip": null,
            "layout": "IPY_MODEL_d25d881ac164423788530b3a9ff5de80",
            "placeholder": "​",
            "style": "IPY_MODEL_87b8ea1716e148d2b87910d273948025",
            "value": "100%"
          }
        },
        "070dbc8a18214e85b8c7a7a03427c5c0": {
          "model_module": "@jupyter-widgets/controls",
          "model_name": "FloatProgressModel",
          "model_module_version": "1.5.0",
          "state": {
            "_dom_classes": [],
            "_model_module": "@jupyter-widgets/controls",
            "_model_module_version": "1.5.0",
            "_model_name": "FloatProgressModel",
            "_view_count": null,
            "_view_module": "@jupyter-widgets/controls",
            "_view_module_version": "1.5.0",
            "_view_name": "ProgressView",
            "bar_style": "success",
            "description": "",
            "description_tooltip": null,
            "layout": "IPY_MODEL_e36f4065a96e45439c658a3fac0cb4f1",
            "max": 1,
            "min": 0,
            "orientation": "horizontal",
            "style": "IPY_MODEL_c37cea84421a4f54967b5220bd405f33",
            "value": 1
          }
        },
        "2a8eb0fa8ef14e5c861775424eef6550": {
          "model_module": "@jupyter-widgets/controls",
          "model_name": "HTMLModel",
          "model_module_version": "1.5.0",
          "state": {
            "_dom_classes": [],
            "_model_module": "@jupyter-widgets/controls",
            "_model_module_version": "1.5.0",
            "_model_name": "HTMLModel",
            "_view_count": null,
            "_view_module": "@jupyter-widgets/controls",
            "_view_module_version": "1.5.0",
            "_view_name": "HTMLView",
            "description": "",
            "description_tooltip": null,
            "layout": "IPY_MODEL_d1426f4c5edc43a78cc5771e601a79ba",
            "placeholder": "​",
            "style": "IPY_MODEL_b4accfe931824beaac744a266071a5be",
            "value": " 1/1 [00:00&lt;00:00,  1.52ba/s]"
          }
        },
        "0a55634b24744c189c3bc162a524e81e": {
          "model_module": "@jupyter-widgets/base",
          "model_name": "LayoutModel",
          "model_module_version": "1.2.0",
          "state": {
            "_model_module": "@jupyter-widgets/base",
            "_model_module_version": "1.2.0",
            "_model_name": "LayoutModel",
            "_view_count": null,
            "_view_module": "@jupyter-widgets/base",
            "_view_module_version": "1.2.0",
            "_view_name": "LayoutView",
            "align_content": null,
            "align_items": null,
            "align_self": null,
            "border": null,
            "bottom": null,
            "display": null,
            "flex": null,
            "flex_flow": null,
            "grid_area": null,
            "grid_auto_columns": null,
            "grid_auto_flow": null,
            "grid_auto_rows": null,
            "grid_column": null,
            "grid_gap": null,
            "grid_row": null,
            "grid_template_areas": null,
            "grid_template_columns": null,
            "grid_template_rows": null,
            "height": null,
            "justify_content": null,
            "justify_items": null,
            "left": null,
            "margin": null,
            "max_height": null,
            "max_width": null,
            "min_height": null,
            "min_width": null,
            "object_fit": null,
            "object_position": null,
            "order": null,
            "overflow": null,
            "overflow_x": null,
            "overflow_y": null,
            "padding": null,
            "right": null,
            "top": null,
            "visibility": null,
            "width": null
          }
        },
        "d25d881ac164423788530b3a9ff5de80": {
          "model_module": "@jupyter-widgets/base",
          "model_name": "LayoutModel",
          "model_module_version": "1.2.0",
          "state": {
            "_model_module": "@jupyter-widgets/base",
            "_model_module_version": "1.2.0",
            "_model_name": "LayoutModel",
            "_view_count": null,
            "_view_module": "@jupyter-widgets/base",
            "_view_module_version": "1.2.0",
            "_view_name": "LayoutView",
            "align_content": null,
            "align_items": null,
            "align_self": null,
            "border": null,
            "bottom": null,
            "display": null,
            "flex": null,
            "flex_flow": null,
            "grid_area": null,
            "grid_auto_columns": null,
            "grid_auto_flow": null,
            "grid_auto_rows": null,
            "grid_column": null,
            "grid_gap": null,
            "grid_row": null,
            "grid_template_areas": null,
            "grid_template_columns": null,
            "grid_template_rows": null,
            "height": null,
            "justify_content": null,
            "justify_items": null,
            "left": null,
            "margin": null,
            "max_height": null,
            "max_width": null,
            "min_height": null,
            "min_width": null,
            "object_fit": null,
            "object_position": null,
            "order": null,
            "overflow": null,
            "overflow_x": null,
            "overflow_y": null,
            "padding": null,
            "right": null,
            "top": null,
            "visibility": null,
            "width": null
          }
        },
        "87b8ea1716e148d2b87910d273948025": {
          "model_module": "@jupyter-widgets/controls",
          "model_name": "DescriptionStyleModel",
          "model_module_version": "1.5.0",
          "state": {
            "_model_module": "@jupyter-widgets/controls",
            "_model_module_version": "1.5.0",
            "_model_name": "DescriptionStyleModel",
            "_view_count": null,
            "_view_module": "@jupyter-widgets/base",
            "_view_module_version": "1.2.0",
            "_view_name": "StyleView",
            "description_width": ""
          }
        },
        "e36f4065a96e45439c658a3fac0cb4f1": {
          "model_module": "@jupyter-widgets/base",
          "model_name": "LayoutModel",
          "model_module_version": "1.2.0",
          "state": {
            "_model_module": "@jupyter-widgets/base",
            "_model_module_version": "1.2.0",
            "_model_name": "LayoutModel",
            "_view_count": null,
            "_view_module": "@jupyter-widgets/base",
            "_view_module_version": "1.2.0",
            "_view_name": "LayoutView",
            "align_content": null,
            "align_items": null,
            "align_self": null,
            "border": null,
            "bottom": null,
            "display": null,
            "flex": null,
            "flex_flow": null,
            "grid_area": null,
            "grid_auto_columns": null,
            "grid_auto_flow": null,
            "grid_auto_rows": null,
            "grid_column": null,
            "grid_gap": null,
            "grid_row": null,
            "grid_template_areas": null,
            "grid_template_columns": null,
            "grid_template_rows": null,
            "height": null,
            "justify_content": null,
            "justify_items": null,
            "left": null,
            "margin": null,
            "max_height": null,
            "max_width": null,
            "min_height": null,
            "min_width": null,
            "object_fit": null,
            "object_position": null,
            "order": null,
            "overflow": null,
            "overflow_x": null,
            "overflow_y": null,
            "padding": null,
            "right": null,
            "top": null,
            "visibility": null,
            "width": null
          }
        },
        "c37cea84421a4f54967b5220bd405f33": {
          "model_module": "@jupyter-widgets/controls",
          "model_name": "ProgressStyleModel",
          "model_module_version": "1.5.0",
          "state": {
            "_model_module": "@jupyter-widgets/controls",
            "_model_module_version": "1.5.0",
            "_model_name": "ProgressStyleModel",
            "_view_count": null,
            "_view_module": "@jupyter-widgets/base",
            "_view_module_version": "1.2.0",
            "_view_name": "StyleView",
            "bar_color": null,
            "description_width": ""
          }
        },
        "d1426f4c5edc43a78cc5771e601a79ba": {
          "model_module": "@jupyter-widgets/base",
          "model_name": "LayoutModel",
          "model_module_version": "1.2.0",
          "state": {
            "_model_module": "@jupyter-widgets/base",
            "_model_module_version": "1.2.0",
            "_model_name": "LayoutModel",
            "_view_count": null,
            "_view_module": "@jupyter-widgets/base",
            "_view_module_version": "1.2.0",
            "_view_name": "LayoutView",
            "align_content": null,
            "align_items": null,
            "align_self": null,
            "border": null,
            "bottom": null,
            "display": null,
            "flex": null,
            "flex_flow": null,
            "grid_area": null,
            "grid_auto_columns": null,
            "grid_auto_flow": null,
            "grid_auto_rows": null,
            "grid_column": null,
            "grid_gap": null,
            "grid_row": null,
            "grid_template_areas": null,
            "grid_template_columns": null,
            "grid_template_rows": null,
            "height": null,
            "justify_content": null,
            "justify_items": null,
            "left": null,
            "margin": null,
            "max_height": null,
            "max_width": null,
            "min_height": null,
            "min_width": null,
            "object_fit": null,
            "object_position": null,
            "order": null,
            "overflow": null,
            "overflow_x": null,
            "overflow_y": null,
            "padding": null,
            "right": null,
            "top": null,
            "visibility": null,
            "width": null
          }
        },
        "b4accfe931824beaac744a266071a5be": {
          "model_module": "@jupyter-widgets/controls",
          "model_name": "DescriptionStyleModel",
          "model_module_version": "1.5.0",
          "state": {
            "_model_module": "@jupyter-widgets/controls",
            "_model_module_version": "1.5.0",
            "_model_name": "DescriptionStyleModel",
            "_view_count": null,
            "_view_module": "@jupyter-widgets/base",
            "_view_module_version": "1.2.0",
            "_view_name": "StyleView",
            "description_width": ""
          }
        },
        "1bef5f4b1bf142b6a6cb7fd197f6bee7": {
          "model_module": "@jupyter-widgets/controls",
          "model_name": "HBoxModel",
          "model_module_version": "1.5.0",
          "state": {
            "_dom_classes": [],
            "_model_module": "@jupyter-widgets/controls",
            "_model_module_version": "1.5.0",
            "_model_name": "HBoxModel",
            "_view_count": null,
            "_view_module": "@jupyter-widgets/controls",
            "_view_module_version": "1.5.0",
            "_view_name": "HBoxView",
            "box_style": "",
            "children": [
              "IPY_MODEL_e505f46c72b646f180b89e57aff4af84",
              "IPY_MODEL_e25fb311ac644662a0450ddb90ae493f",
              "IPY_MODEL_c06b669bc7c042a598cb22c4b1accb80"
            ],
            "layout": "IPY_MODEL_e889da3a7a7249a48926bd56e91fc49b"
          }
        },
        "e505f46c72b646f180b89e57aff4af84": {
          "model_module": "@jupyter-widgets/controls",
          "model_name": "HTMLModel",
          "model_module_version": "1.5.0",
          "state": {
            "_dom_classes": [],
            "_model_module": "@jupyter-widgets/controls",
            "_model_module_version": "1.5.0",
            "_model_name": "HTMLModel",
            "_view_count": null,
            "_view_module": "@jupyter-widgets/controls",
            "_view_module_version": "1.5.0",
            "_view_name": "HTMLView",
            "description": "",
            "description_tooltip": null,
            "layout": "IPY_MODEL_f735eb3c264a4400884c5caee570ce7c",
            "placeholder": "​",
            "style": "IPY_MODEL_727966bc8b034c8c8e232c912f36ac43",
            "value": "Download file pytorch_model.bin: 100%"
          }
        },
        "e25fb311ac644662a0450ddb90ae493f": {
          "model_module": "@jupyter-widgets/controls",
          "model_name": "FloatProgressModel",
          "model_module_version": "1.5.0",
          "state": {
            "_dom_classes": [],
            "_model_module": "@jupyter-widgets/controls",
            "_model_module_version": "1.5.0",
            "_model_name": "FloatProgressModel",
            "_view_count": null,
            "_view_module": "@jupyter-widgets/controls",
            "_view_module_version": "1.5.0",
            "_view_name": "ProgressView",
            "bar_style": "success",
            "description": "",
            "description_tooltip": null,
            "layout": "IPY_MODEL_48e957101cd140eb8c1da3516a1ace16",
            "max": 377670039,
            "min": 0,
            "orientation": "horizontal",
            "style": "IPY_MODEL_1dd9632739f14e24a8c47b845d30b744",
            "value": 377670039
          }
        },
        "c06b669bc7c042a598cb22c4b1accb80": {
          "model_module": "@jupyter-widgets/controls",
          "model_name": "HTMLModel",
          "model_module_version": "1.5.0",
          "state": {
            "_dom_classes": [],
            "_model_module": "@jupyter-widgets/controls",
            "_model_module_version": "1.5.0",
            "_model_name": "HTMLModel",
            "_view_count": null,
            "_view_module": "@jupyter-widgets/controls",
            "_view_module_version": "1.5.0",
            "_view_name": "HTMLView",
            "description": "",
            "description_tooltip": null,
            "layout": "IPY_MODEL_5dbb5f884e8a42f79cf73e39f2df8029",
            "placeholder": "​",
            "style": "IPY_MODEL_eb888d73488d4c879833aee3959cdd69",
            "value": " 360M/360M [02:18&lt;00:00, 245kB/s]"
          }
        },
        "e889da3a7a7249a48926bd56e91fc49b": {
          "model_module": "@jupyter-widgets/base",
          "model_name": "LayoutModel",
          "model_module_version": "1.2.0",
          "state": {
            "_model_module": "@jupyter-widgets/base",
            "_model_module_version": "1.2.0",
            "_model_name": "LayoutModel",
            "_view_count": null,
            "_view_module": "@jupyter-widgets/base",
            "_view_module_version": "1.2.0",
            "_view_name": "LayoutView",
            "align_content": null,
            "align_items": null,
            "align_self": null,
            "border": null,
            "bottom": null,
            "display": null,
            "flex": null,
            "flex_flow": null,
            "grid_area": null,
            "grid_auto_columns": null,
            "grid_auto_flow": null,
            "grid_auto_rows": null,
            "grid_column": null,
            "grid_gap": null,
            "grid_row": null,
            "grid_template_areas": null,
            "grid_template_columns": null,
            "grid_template_rows": null,
            "height": null,
            "justify_content": null,
            "justify_items": null,
            "left": null,
            "margin": null,
            "max_height": null,
            "max_width": null,
            "min_height": null,
            "min_width": null,
            "object_fit": null,
            "object_position": null,
            "order": null,
            "overflow": null,
            "overflow_x": null,
            "overflow_y": null,
            "padding": null,
            "right": null,
            "top": null,
            "visibility": null,
            "width": null
          }
        },
        "f735eb3c264a4400884c5caee570ce7c": {
          "model_module": "@jupyter-widgets/base",
          "model_name": "LayoutModel",
          "model_module_version": "1.2.0",
          "state": {
            "_model_module": "@jupyter-widgets/base",
            "_model_module_version": "1.2.0",
            "_model_name": "LayoutModel",
            "_view_count": null,
            "_view_module": "@jupyter-widgets/base",
            "_view_module_version": "1.2.0",
            "_view_name": "LayoutView",
            "align_content": null,
            "align_items": null,
            "align_self": null,
            "border": null,
            "bottom": null,
            "display": null,
            "flex": null,
            "flex_flow": null,
            "grid_area": null,
            "grid_auto_columns": null,
            "grid_auto_flow": null,
            "grid_auto_rows": null,
            "grid_column": null,
            "grid_gap": null,
            "grid_row": null,
            "grid_template_areas": null,
            "grid_template_columns": null,
            "grid_template_rows": null,
            "height": null,
            "justify_content": null,
            "justify_items": null,
            "left": null,
            "margin": null,
            "max_height": null,
            "max_width": null,
            "min_height": null,
            "min_width": null,
            "object_fit": null,
            "object_position": null,
            "order": null,
            "overflow": null,
            "overflow_x": null,
            "overflow_y": null,
            "padding": null,
            "right": null,
            "top": null,
            "visibility": null,
            "width": null
          }
        },
        "727966bc8b034c8c8e232c912f36ac43": {
          "model_module": "@jupyter-widgets/controls",
          "model_name": "DescriptionStyleModel",
          "model_module_version": "1.5.0",
          "state": {
            "_model_module": "@jupyter-widgets/controls",
            "_model_module_version": "1.5.0",
            "_model_name": "DescriptionStyleModel",
            "_view_count": null,
            "_view_module": "@jupyter-widgets/base",
            "_view_module_version": "1.2.0",
            "_view_name": "StyleView",
            "description_width": ""
          }
        },
        "48e957101cd140eb8c1da3516a1ace16": {
          "model_module": "@jupyter-widgets/base",
          "model_name": "LayoutModel",
          "model_module_version": "1.2.0",
          "state": {
            "_model_module": "@jupyter-widgets/base",
            "_model_module_version": "1.2.0",
            "_model_name": "LayoutModel",
            "_view_count": null,
            "_view_module": "@jupyter-widgets/base",
            "_view_module_version": "1.2.0",
            "_view_name": "LayoutView",
            "align_content": null,
            "align_items": null,
            "align_self": null,
            "border": null,
            "bottom": null,
            "display": null,
            "flex": null,
            "flex_flow": null,
            "grid_area": null,
            "grid_auto_columns": null,
            "grid_auto_flow": null,
            "grid_auto_rows": null,
            "grid_column": null,
            "grid_gap": null,
            "grid_row": null,
            "grid_template_areas": null,
            "grid_template_columns": null,
            "grid_template_rows": null,
            "height": null,
            "justify_content": null,
            "justify_items": null,
            "left": null,
            "margin": null,
            "max_height": null,
            "max_width": null,
            "min_height": null,
            "min_width": null,
            "object_fit": null,
            "object_position": null,
            "order": null,
            "overflow": null,
            "overflow_x": null,
            "overflow_y": null,
            "padding": null,
            "right": null,
            "top": null,
            "visibility": null,
            "width": null
          }
        },
        "1dd9632739f14e24a8c47b845d30b744": {
          "model_module": "@jupyter-widgets/controls",
          "model_name": "ProgressStyleModel",
          "model_module_version": "1.5.0",
          "state": {
            "_model_module": "@jupyter-widgets/controls",
            "_model_module_version": "1.5.0",
            "_model_name": "ProgressStyleModel",
            "_view_count": null,
            "_view_module": "@jupyter-widgets/base",
            "_view_module_version": "1.2.0",
            "_view_name": "StyleView",
            "bar_color": null,
            "description_width": ""
          }
        },
        "5dbb5f884e8a42f79cf73e39f2df8029": {
          "model_module": "@jupyter-widgets/base",
          "model_name": "LayoutModel",
          "model_module_version": "1.2.0",
          "state": {
            "_model_module": "@jupyter-widgets/base",
            "_model_module_version": "1.2.0",
            "_model_name": "LayoutModel",
            "_view_count": null,
            "_view_module": "@jupyter-widgets/base",
            "_view_module_version": "1.2.0",
            "_view_name": "LayoutView",
            "align_content": null,
            "align_items": null,
            "align_self": null,
            "border": null,
            "bottom": null,
            "display": null,
            "flex": null,
            "flex_flow": null,
            "grid_area": null,
            "grid_auto_columns": null,
            "grid_auto_flow": null,
            "grid_auto_rows": null,
            "grid_column": null,
            "grid_gap": null,
            "grid_row": null,
            "grid_template_areas": null,
            "grid_template_columns": null,
            "grid_template_rows": null,
            "height": null,
            "justify_content": null,
            "justify_items": null,
            "left": null,
            "margin": null,
            "max_height": null,
            "max_width": null,
            "min_height": null,
            "min_width": null,
            "object_fit": null,
            "object_position": null,
            "order": null,
            "overflow": null,
            "overflow_x": null,
            "overflow_y": null,
            "padding": null,
            "right": null,
            "top": null,
            "visibility": null,
            "width": null
          }
        },
        "eb888d73488d4c879833aee3959cdd69": {
          "model_module": "@jupyter-widgets/controls",
          "model_name": "DescriptionStyleModel",
          "model_module_version": "1.5.0",
          "state": {
            "_model_module": "@jupyter-widgets/controls",
            "_model_module_version": "1.5.0",
            "_model_name": "DescriptionStyleModel",
            "_view_count": null,
            "_view_module": "@jupyter-widgets/base",
            "_view_module_version": "1.2.0",
            "_view_name": "StyleView",
            "description_width": ""
          }
        },
        "5b959fe78d0a466fb8d674f8160dedef": {
          "model_module": "@jupyter-widgets/controls",
          "model_name": "HBoxModel",
          "model_module_version": "1.5.0",
          "state": {
            "_dom_classes": [],
            "_model_module": "@jupyter-widgets/controls",
            "_model_module_version": "1.5.0",
            "_model_name": "HBoxModel",
            "_view_count": null,
            "_view_module": "@jupyter-widgets/controls",
            "_view_module_version": "1.5.0",
            "_view_name": "HBoxView",
            "box_style": "",
            "children": [
              "IPY_MODEL_c2fa00cfe8cf44ef848d73e727c6851a",
              "IPY_MODEL_b8c1191a0ad64ed08fb079009a07e3e9",
              "IPY_MODEL_71086c3023604aa1ae1f5ab228f2ab8c"
            ],
            "layout": "IPY_MODEL_1e3f7554a66f4a49b5f1872434bd70cf"
          }
        },
        "c2fa00cfe8cf44ef848d73e727c6851a": {
          "model_module": "@jupyter-widgets/controls",
          "model_name": "HTMLModel",
          "model_module_version": "1.5.0",
          "state": {
            "_dom_classes": [],
            "_model_module": "@jupyter-widgets/controls",
            "_model_module_version": "1.5.0",
            "_model_name": "HTMLModel",
            "_view_count": null,
            "_view_module": "@jupyter-widgets/controls",
            "_view_module_version": "1.5.0",
            "_view_name": "HTMLView",
            "description": "",
            "description_tooltip": null,
            "layout": "IPY_MODEL_570fbb23610e4f709088ba7808cff940",
            "placeholder": "​",
            "style": "IPY_MODEL_e0dbe53a8c794154823c741f84bcad09",
            "value": "Download file runs/Apr21_02-10-35_c4b671bce90a/events.out.tfevents.1650507124.c4b671bce90a.96.0: 100%"
          }
        },
        "b8c1191a0ad64ed08fb079009a07e3e9": {
          "model_module": "@jupyter-widgets/controls",
          "model_name": "FloatProgressModel",
          "model_module_version": "1.5.0",
          "state": {
            "_dom_classes": [],
            "_model_module": "@jupyter-widgets/controls",
            "_model_module_version": "1.5.0",
            "_model_name": "FloatProgressModel",
            "_view_count": null,
            "_view_module": "@jupyter-widgets/controls",
            "_view_module_version": "1.5.0",
            "_view_name": "ProgressView",
            "bar_style": "success",
            "description": "",
            "description_tooltip": null,
            "layout": "IPY_MODEL_5224a815b960419dbf135e381e01f8be",
            "max": 8143,
            "min": 0,
            "orientation": "horizontal",
            "style": "IPY_MODEL_e2737209289b40b7ab38a05c839da9a1",
            "value": 8143
          }
        },
        "71086c3023604aa1ae1f5ab228f2ab8c": {
          "model_module": "@jupyter-widgets/controls",
          "model_name": "HTMLModel",
          "model_module_version": "1.5.0",
          "state": {
            "_dom_classes": [],
            "_model_module": "@jupyter-widgets/controls",
            "_model_module_version": "1.5.0",
            "_model_name": "HTMLModel",
            "_view_count": null,
            "_view_module": "@jupyter-widgets/controls",
            "_view_module_version": "1.5.0",
            "_view_name": "HTMLView",
            "description": "",
            "description_tooltip": null,
            "layout": "IPY_MODEL_8581cc25d14c4d56addae6f3963dc0b3",
            "placeholder": "​",
            "style": "IPY_MODEL_52c17098f9fc48f6a9ab058c6e167c8f",
            "value": " 7.95k/7.95k [02:18&lt;00:00, 33.0B/s]"
          }
        },
        "1e3f7554a66f4a49b5f1872434bd70cf": {
          "model_module": "@jupyter-widgets/base",
          "model_name": "LayoutModel",
          "model_module_version": "1.2.0",
          "state": {
            "_model_module": "@jupyter-widgets/base",
            "_model_module_version": "1.2.0",
            "_model_name": "LayoutModel",
            "_view_count": null,
            "_view_module": "@jupyter-widgets/base",
            "_view_module_version": "1.2.0",
            "_view_name": "LayoutView",
            "align_content": null,
            "align_items": null,
            "align_self": null,
            "border": null,
            "bottom": null,
            "display": null,
            "flex": null,
            "flex_flow": null,
            "grid_area": null,
            "grid_auto_columns": null,
            "grid_auto_flow": null,
            "grid_auto_rows": null,
            "grid_column": null,
            "grid_gap": null,
            "grid_row": null,
            "grid_template_areas": null,
            "grid_template_columns": null,
            "grid_template_rows": null,
            "height": null,
            "justify_content": null,
            "justify_items": null,
            "left": null,
            "margin": null,
            "max_height": null,
            "max_width": null,
            "min_height": null,
            "min_width": null,
            "object_fit": null,
            "object_position": null,
            "order": null,
            "overflow": null,
            "overflow_x": null,
            "overflow_y": null,
            "padding": null,
            "right": null,
            "top": null,
            "visibility": null,
            "width": null
          }
        },
        "570fbb23610e4f709088ba7808cff940": {
          "model_module": "@jupyter-widgets/base",
          "model_name": "LayoutModel",
          "model_module_version": "1.2.0",
          "state": {
            "_model_module": "@jupyter-widgets/base",
            "_model_module_version": "1.2.0",
            "_model_name": "LayoutModel",
            "_view_count": null,
            "_view_module": "@jupyter-widgets/base",
            "_view_module_version": "1.2.0",
            "_view_name": "LayoutView",
            "align_content": null,
            "align_items": null,
            "align_self": null,
            "border": null,
            "bottom": null,
            "display": null,
            "flex": null,
            "flex_flow": null,
            "grid_area": null,
            "grid_auto_columns": null,
            "grid_auto_flow": null,
            "grid_auto_rows": null,
            "grid_column": null,
            "grid_gap": null,
            "grid_row": null,
            "grid_template_areas": null,
            "grid_template_columns": null,
            "grid_template_rows": null,
            "height": null,
            "justify_content": null,
            "justify_items": null,
            "left": null,
            "margin": null,
            "max_height": null,
            "max_width": null,
            "min_height": null,
            "min_width": null,
            "object_fit": null,
            "object_position": null,
            "order": null,
            "overflow": null,
            "overflow_x": null,
            "overflow_y": null,
            "padding": null,
            "right": null,
            "top": null,
            "visibility": null,
            "width": null
          }
        },
        "e0dbe53a8c794154823c741f84bcad09": {
          "model_module": "@jupyter-widgets/controls",
          "model_name": "DescriptionStyleModel",
          "model_module_version": "1.5.0",
          "state": {
            "_model_module": "@jupyter-widgets/controls",
            "_model_module_version": "1.5.0",
            "_model_name": "DescriptionStyleModel",
            "_view_count": null,
            "_view_module": "@jupyter-widgets/base",
            "_view_module_version": "1.2.0",
            "_view_name": "StyleView",
            "description_width": ""
          }
        },
        "5224a815b960419dbf135e381e01f8be": {
          "model_module": "@jupyter-widgets/base",
          "model_name": "LayoutModel",
          "model_module_version": "1.2.0",
          "state": {
            "_model_module": "@jupyter-widgets/base",
            "_model_module_version": "1.2.0",
            "_model_name": "LayoutModel",
            "_view_count": null,
            "_view_module": "@jupyter-widgets/base",
            "_view_module_version": "1.2.0",
            "_view_name": "LayoutView",
            "align_content": null,
            "align_items": null,
            "align_self": null,
            "border": null,
            "bottom": null,
            "display": null,
            "flex": null,
            "flex_flow": null,
            "grid_area": null,
            "grid_auto_columns": null,
            "grid_auto_flow": null,
            "grid_auto_rows": null,
            "grid_column": null,
            "grid_gap": null,
            "grid_row": null,
            "grid_template_areas": null,
            "grid_template_columns": null,
            "grid_template_rows": null,
            "height": null,
            "justify_content": null,
            "justify_items": null,
            "left": null,
            "margin": null,
            "max_height": null,
            "max_width": null,
            "min_height": null,
            "min_width": null,
            "object_fit": null,
            "object_position": null,
            "order": null,
            "overflow": null,
            "overflow_x": null,
            "overflow_y": null,
            "padding": null,
            "right": null,
            "top": null,
            "visibility": null,
            "width": null
          }
        },
        "e2737209289b40b7ab38a05c839da9a1": {
          "model_module": "@jupyter-widgets/controls",
          "model_name": "ProgressStyleModel",
          "model_module_version": "1.5.0",
          "state": {
            "_model_module": "@jupyter-widgets/controls",
            "_model_module_version": "1.5.0",
            "_model_name": "ProgressStyleModel",
            "_view_count": null,
            "_view_module": "@jupyter-widgets/base",
            "_view_module_version": "1.2.0",
            "_view_name": "StyleView",
            "bar_color": null,
            "description_width": ""
          }
        },
        "8581cc25d14c4d56addae6f3963dc0b3": {
          "model_module": "@jupyter-widgets/base",
          "model_name": "LayoutModel",
          "model_module_version": "1.2.0",
          "state": {
            "_model_module": "@jupyter-widgets/base",
            "_model_module_version": "1.2.0",
            "_model_name": "LayoutModel",
            "_view_count": null,
            "_view_module": "@jupyter-widgets/base",
            "_view_module_version": "1.2.0",
            "_view_name": "LayoutView",
            "align_content": null,
            "align_items": null,
            "align_self": null,
            "border": null,
            "bottom": null,
            "display": null,
            "flex": null,
            "flex_flow": null,
            "grid_area": null,
            "grid_auto_columns": null,
            "grid_auto_flow": null,
            "grid_auto_rows": null,
            "grid_column": null,
            "grid_gap": null,
            "grid_row": null,
            "grid_template_areas": null,
            "grid_template_columns": null,
            "grid_template_rows": null,
            "height": null,
            "justify_content": null,
            "justify_items": null,
            "left": null,
            "margin": null,
            "max_height": null,
            "max_width": null,
            "min_height": null,
            "min_width": null,
            "object_fit": null,
            "object_position": null,
            "order": null,
            "overflow": null,
            "overflow_x": null,
            "overflow_y": null,
            "padding": null,
            "right": null,
            "top": null,
            "visibility": null,
            "width": null
          }
        },
        "52c17098f9fc48f6a9ab058c6e167c8f": {
          "model_module": "@jupyter-widgets/controls",
          "model_name": "DescriptionStyleModel",
          "model_module_version": "1.5.0",
          "state": {
            "_model_module": "@jupyter-widgets/controls",
            "_model_module_version": "1.5.0",
            "_model_name": "DescriptionStyleModel",
            "_view_count": null,
            "_view_module": "@jupyter-widgets/base",
            "_view_module_version": "1.2.0",
            "_view_name": "StyleView",
            "description_width": ""
          }
        },
        "c8f3326cf3354c53bcd0ab2e783fad0b": {
          "model_module": "@jupyter-widgets/controls",
          "model_name": "HBoxModel",
          "model_module_version": "1.5.0",
          "state": {
            "_dom_classes": [],
            "_model_module": "@jupyter-widgets/controls",
            "_model_module_version": "1.5.0",
            "_model_name": "HBoxModel",
            "_view_count": null,
            "_view_module": "@jupyter-widgets/controls",
            "_view_module_version": "1.5.0",
            "_view_name": "HBoxView",
            "box_style": "",
            "children": [
              "IPY_MODEL_5f49f8350c064f8bb83bb93f0631fdbc",
              "IPY_MODEL_2e0e9c2b95ab410fbf79b74ef86ec125",
              "IPY_MODEL_c37ad0eab0464e3ea6a0f7042a1f406d"
            ],
            "layout": "IPY_MODEL_76ce7d5028434507b33d701f6ed76ada"
          }
        },
        "5f49f8350c064f8bb83bb93f0631fdbc": {
          "model_module": "@jupyter-widgets/controls",
          "model_name": "HTMLModel",
          "model_module_version": "1.5.0",
          "state": {
            "_dom_classes": [],
            "_model_module": "@jupyter-widgets/controls",
            "_model_module_version": "1.5.0",
            "_model_name": "HTMLModel",
            "_view_count": null,
            "_view_module": "@jupyter-widgets/controls",
            "_view_module_version": "1.5.0",
            "_view_name": "HTMLView",
            "description": "",
            "description_tooltip": null,
            "layout": "IPY_MODEL_0bcf050d66db4e248ab93af5f69ebaca",
            "placeholder": "​",
            "style": "IPY_MODEL_c64592e203434d568dc682c14928ad53",
            "value": "Download file training_args.bin: 100%"
          }
        },
        "2e0e9c2b95ab410fbf79b74ef86ec125": {
          "model_module": "@jupyter-widgets/controls",
          "model_name": "FloatProgressModel",
          "model_module_version": "1.5.0",
          "state": {
            "_dom_classes": [],
            "_model_module": "@jupyter-widgets/controls",
            "_model_module_version": "1.5.0",
            "_model_name": "FloatProgressModel",
            "_view_count": null,
            "_view_module": "@jupyter-widgets/controls",
            "_view_module_version": "1.5.0",
            "_view_name": "ProgressView",
            "bar_style": "success",
            "description": "",
            "description_tooltip": null,
            "layout": "IPY_MODEL_e69c11bc0e994dc0948c9411343d9650",
            "max": 2863,
            "min": 0,
            "orientation": "horizontal",
            "style": "IPY_MODEL_9562760b2edd4eb1a9b2a97cf6769b77",
            "value": 2863
          }
        },
        "c37ad0eab0464e3ea6a0f7042a1f406d": {
          "model_module": "@jupyter-widgets/controls",
          "model_name": "HTMLModel",
          "model_module_version": "1.5.0",
          "state": {
            "_dom_classes": [],
            "_model_module": "@jupyter-widgets/controls",
            "_model_module_version": "1.5.0",
            "_model_name": "HTMLModel",
            "_view_count": null,
            "_view_module": "@jupyter-widgets/controls",
            "_view_module_version": "1.5.0",
            "_view_name": "HTMLView",
            "description": "",
            "description_tooltip": null,
            "layout": "IPY_MODEL_6e5647003d124224bd26a06b21db7ff4",
            "placeholder": "​",
            "style": "IPY_MODEL_38c457ac530444d885dd1f505a2d40c0",
            "value": " 2.80k/2.80k [02:18&lt;?, ?B/s]"
          }
        },
        "76ce7d5028434507b33d701f6ed76ada": {
          "model_module": "@jupyter-widgets/base",
          "model_name": "LayoutModel",
          "model_module_version": "1.2.0",
          "state": {
            "_model_module": "@jupyter-widgets/base",
            "_model_module_version": "1.2.0",
            "_model_name": "LayoutModel",
            "_view_count": null,
            "_view_module": "@jupyter-widgets/base",
            "_view_module_version": "1.2.0",
            "_view_name": "LayoutView",
            "align_content": null,
            "align_items": null,
            "align_self": null,
            "border": null,
            "bottom": null,
            "display": null,
            "flex": null,
            "flex_flow": null,
            "grid_area": null,
            "grid_auto_columns": null,
            "grid_auto_flow": null,
            "grid_auto_rows": null,
            "grid_column": null,
            "grid_gap": null,
            "grid_row": null,
            "grid_template_areas": null,
            "grid_template_columns": null,
            "grid_template_rows": null,
            "height": null,
            "justify_content": null,
            "justify_items": null,
            "left": null,
            "margin": null,
            "max_height": null,
            "max_width": null,
            "min_height": null,
            "min_width": null,
            "object_fit": null,
            "object_position": null,
            "order": null,
            "overflow": null,
            "overflow_x": null,
            "overflow_y": null,
            "padding": null,
            "right": null,
            "top": null,
            "visibility": null,
            "width": null
          }
        },
        "0bcf050d66db4e248ab93af5f69ebaca": {
          "model_module": "@jupyter-widgets/base",
          "model_name": "LayoutModel",
          "model_module_version": "1.2.0",
          "state": {
            "_model_module": "@jupyter-widgets/base",
            "_model_module_version": "1.2.0",
            "_model_name": "LayoutModel",
            "_view_count": null,
            "_view_module": "@jupyter-widgets/base",
            "_view_module_version": "1.2.0",
            "_view_name": "LayoutView",
            "align_content": null,
            "align_items": null,
            "align_self": null,
            "border": null,
            "bottom": null,
            "display": null,
            "flex": null,
            "flex_flow": null,
            "grid_area": null,
            "grid_auto_columns": null,
            "grid_auto_flow": null,
            "grid_auto_rows": null,
            "grid_column": null,
            "grid_gap": null,
            "grid_row": null,
            "grid_template_areas": null,
            "grid_template_columns": null,
            "grid_template_rows": null,
            "height": null,
            "justify_content": null,
            "justify_items": null,
            "left": null,
            "margin": null,
            "max_height": null,
            "max_width": null,
            "min_height": null,
            "min_width": null,
            "object_fit": null,
            "object_position": null,
            "order": null,
            "overflow": null,
            "overflow_x": null,
            "overflow_y": null,
            "padding": null,
            "right": null,
            "top": null,
            "visibility": null,
            "width": null
          }
        },
        "c64592e203434d568dc682c14928ad53": {
          "model_module": "@jupyter-widgets/controls",
          "model_name": "DescriptionStyleModel",
          "model_module_version": "1.5.0",
          "state": {
            "_model_module": "@jupyter-widgets/controls",
            "_model_module_version": "1.5.0",
            "_model_name": "DescriptionStyleModel",
            "_view_count": null,
            "_view_module": "@jupyter-widgets/base",
            "_view_module_version": "1.2.0",
            "_view_name": "StyleView",
            "description_width": ""
          }
        },
        "e69c11bc0e994dc0948c9411343d9650": {
          "model_module": "@jupyter-widgets/base",
          "model_name": "LayoutModel",
          "model_module_version": "1.2.0",
          "state": {
            "_model_module": "@jupyter-widgets/base",
            "_model_module_version": "1.2.0",
            "_model_name": "LayoutModel",
            "_view_count": null,
            "_view_module": "@jupyter-widgets/base",
            "_view_module_version": "1.2.0",
            "_view_name": "LayoutView",
            "align_content": null,
            "align_items": null,
            "align_self": null,
            "border": null,
            "bottom": null,
            "display": null,
            "flex": null,
            "flex_flow": null,
            "grid_area": null,
            "grid_auto_columns": null,
            "grid_auto_flow": null,
            "grid_auto_rows": null,
            "grid_column": null,
            "grid_gap": null,
            "grid_row": null,
            "grid_template_areas": null,
            "grid_template_columns": null,
            "grid_template_rows": null,
            "height": null,
            "justify_content": null,
            "justify_items": null,
            "left": null,
            "margin": null,
            "max_height": null,
            "max_width": null,
            "min_height": null,
            "min_width": null,
            "object_fit": null,
            "object_position": null,
            "order": null,
            "overflow": null,
            "overflow_x": null,
            "overflow_y": null,
            "padding": null,
            "right": null,
            "top": null,
            "visibility": null,
            "width": null
          }
        },
        "9562760b2edd4eb1a9b2a97cf6769b77": {
          "model_module": "@jupyter-widgets/controls",
          "model_name": "ProgressStyleModel",
          "model_module_version": "1.5.0",
          "state": {
            "_model_module": "@jupyter-widgets/controls",
            "_model_module_version": "1.5.0",
            "_model_name": "ProgressStyleModel",
            "_view_count": null,
            "_view_module": "@jupyter-widgets/base",
            "_view_module_version": "1.2.0",
            "_view_name": "StyleView",
            "bar_color": null,
            "description_width": ""
          }
        },
        "6e5647003d124224bd26a06b21db7ff4": {
          "model_module": "@jupyter-widgets/base",
          "model_name": "LayoutModel",
          "model_module_version": "1.2.0",
          "state": {
            "_model_module": "@jupyter-widgets/base",
            "_model_module_version": "1.2.0",
            "_model_name": "LayoutModel",
            "_view_count": null,
            "_view_module": "@jupyter-widgets/base",
            "_view_module_version": "1.2.0",
            "_view_name": "LayoutView",
            "align_content": null,
            "align_items": null,
            "align_self": null,
            "border": null,
            "bottom": null,
            "display": null,
            "flex": null,
            "flex_flow": null,
            "grid_area": null,
            "grid_auto_columns": null,
            "grid_auto_flow": null,
            "grid_auto_rows": null,
            "grid_column": null,
            "grid_gap": null,
            "grid_row": null,
            "grid_template_areas": null,
            "grid_template_columns": null,
            "grid_template_rows": null,
            "height": null,
            "justify_content": null,
            "justify_items": null,
            "left": null,
            "margin": null,
            "max_height": null,
            "max_width": null,
            "min_height": null,
            "min_width": null,
            "object_fit": null,
            "object_position": null,
            "order": null,
            "overflow": null,
            "overflow_x": null,
            "overflow_y": null,
            "padding": null,
            "right": null,
            "top": null,
            "visibility": null,
            "width": null
          }
        },
        "38c457ac530444d885dd1f505a2d40c0": {
          "model_module": "@jupyter-widgets/controls",
          "model_name": "DescriptionStyleModel",
          "model_module_version": "1.5.0",
          "state": {
            "_model_module": "@jupyter-widgets/controls",
            "_model_module_version": "1.5.0",
            "_model_name": "DescriptionStyleModel",
            "_view_count": null,
            "_view_module": "@jupyter-widgets/base",
            "_view_module_version": "1.2.0",
            "_view_name": "StyleView",
            "description_width": ""
          }
        },
        "65c4508ec67c431ebaf8170fe3cc51d7": {
          "model_module": "@jupyter-widgets/controls",
          "model_name": "HBoxModel",
          "model_module_version": "1.5.0",
          "state": {
            "_dom_classes": [],
            "_model_module": "@jupyter-widgets/controls",
            "_model_module_version": "1.5.0",
            "_model_name": "HBoxModel",
            "_view_count": null,
            "_view_module": "@jupyter-widgets/controls",
            "_view_module_version": "1.5.0",
            "_view_name": "HBoxView",
            "box_style": "",
            "children": [
              "IPY_MODEL_212644e99e454331b541d380999227b3",
              "IPY_MODEL_befe9a1e1aa9410ea54fff1e6b933516",
              "IPY_MODEL_215fecee63104448ae69d4a9e3bf2d53"
            ],
            "layout": "IPY_MODEL_32c10b20c26645dfb422081e85ebb9e4"
          }
        },
        "212644e99e454331b541d380999227b3": {
          "model_module": "@jupyter-widgets/controls",
          "model_name": "HTMLModel",
          "model_module_version": "1.5.0",
          "state": {
            "_dom_classes": [],
            "_model_module": "@jupyter-widgets/controls",
            "_model_module_version": "1.5.0",
            "_model_name": "HTMLModel",
            "_view_count": null,
            "_view_module": "@jupyter-widgets/controls",
            "_view_module_version": "1.5.0",
            "_view_name": "HTMLView",
            "description": "",
            "description_tooltip": null,
            "layout": "IPY_MODEL_26c732cb570745769acf7cb7e0109a7d",
            "placeholder": "​",
            "style": "IPY_MODEL_51bcdcd445b94acd8eccdb301beae5b1",
            "value": "Download file runs/Apr21_02-10-35_c4b671bce90a/1650507124.543917/events.out.tfevents.1650507124.c4b671bce90a.96.1: 100%"
          }
        },
        "befe9a1e1aa9410ea54fff1e6b933516": {
          "model_module": "@jupyter-widgets/controls",
          "model_name": "FloatProgressModel",
          "model_module_version": "1.5.0",
          "state": {
            "_dom_classes": [],
            "_model_module": "@jupyter-widgets/controls",
            "_model_module_version": "1.5.0",
            "_model_name": "FloatProgressModel",
            "_view_count": null,
            "_view_module": "@jupyter-widgets/controls",
            "_view_module_version": "1.5.0",
            "_view_name": "ProgressView",
            "bar_style": "success",
            "description": "",
            "description_tooltip": null,
            "layout": "IPY_MODEL_091ffec6c56a472f9db6cb16ba2dda0d",
            "max": 4555,
            "min": 0,
            "orientation": "horizontal",
            "style": "IPY_MODEL_7805523732e64849bf05a52844b6aa78",
            "value": 4555
          }
        },
        "215fecee63104448ae69d4a9e3bf2d53": {
          "model_module": "@jupyter-widgets/controls",
          "model_name": "HTMLModel",
          "model_module_version": "1.5.0",
          "state": {
            "_dom_classes": [],
            "_model_module": "@jupyter-widgets/controls",
            "_model_module_version": "1.5.0",
            "_model_name": "HTMLModel",
            "_view_count": null,
            "_view_module": "@jupyter-widgets/controls",
            "_view_module_version": "1.5.0",
            "_view_name": "HTMLView",
            "description": "",
            "description_tooltip": null,
            "layout": "IPY_MODEL_8ec3dad118f64c3196ebac686e3de75a",
            "placeholder": "​",
            "style": "IPY_MODEL_3178b2e9434140ff85e165c900a533bd",
            "value": " 4.45k/4.45k [02:18&lt;00:00, 7.15B/s]"
          }
        },
        "32c10b20c26645dfb422081e85ebb9e4": {
          "model_module": "@jupyter-widgets/base",
          "model_name": "LayoutModel",
          "model_module_version": "1.2.0",
          "state": {
            "_model_module": "@jupyter-widgets/base",
            "_model_module_version": "1.2.0",
            "_model_name": "LayoutModel",
            "_view_count": null,
            "_view_module": "@jupyter-widgets/base",
            "_view_module_version": "1.2.0",
            "_view_name": "LayoutView",
            "align_content": null,
            "align_items": null,
            "align_self": null,
            "border": null,
            "bottom": null,
            "display": null,
            "flex": null,
            "flex_flow": null,
            "grid_area": null,
            "grid_auto_columns": null,
            "grid_auto_flow": null,
            "grid_auto_rows": null,
            "grid_column": null,
            "grid_gap": null,
            "grid_row": null,
            "grid_template_areas": null,
            "grid_template_columns": null,
            "grid_template_rows": null,
            "height": null,
            "justify_content": null,
            "justify_items": null,
            "left": null,
            "margin": null,
            "max_height": null,
            "max_width": null,
            "min_height": null,
            "min_width": null,
            "object_fit": null,
            "object_position": null,
            "order": null,
            "overflow": null,
            "overflow_x": null,
            "overflow_y": null,
            "padding": null,
            "right": null,
            "top": null,
            "visibility": null,
            "width": null
          }
        },
        "26c732cb570745769acf7cb7e0109a7d": {
          "model_module": "@jupyter-widgets/base",
          "model_name": "LayoutModel",
          "model_module_version": "1.2.0",
          "state": {
            "_model_module": "@jupyter-widgets/base",
            "_model_module_version": "1.2.0",
            "_model_name": "LayoutModel",
            "_view_count": null,
            "_view_module": "@jupyter-widgets/base",
            "_view_module_version": "1.2.0",
            "_view_name": "LayoutView",
            "align_content": null,
            "align_items": null,
            "align_self": null,
            "border": null,
            "bottom": null,
            "display": null,
            "flex": null,
            "flex_flow": null,
            "grid_area": null,
            "grid_auto_columns": null,
            "grid_auto_flow": null,
            "grid_auto_rows": null,
            "grid_column": null,
            "grid_gap": null,
            "grid_row": null,
            "grid_template_areas": null,
            "grid_template_columns": null,
            "grid_template_rows": null,
            "height": null,
            "justify_content": null,
            "justify_items": null,
            "left": null,
            "margin": null,
            "max_height": null,
            "max_width": null,
            "min_height": null,
            "min_width": null,
            "object_fit": null,
            "object_position": null,
            "order": null,
            "overflow": null,
            "overflow_x": null,
            "overflow_y": null,
            "padding": null,
            "right": null,
            "top": null,
            "visibility": null,
            "width": null
          }
        },
        "51bcdcd445b94acd8eccdb301beae5b1": {
          "model_module": "@jupyter-widgets/controls",
          "model_name": "DescriptionStyleModel",
          "model_module_version": "1.5.0",
          "state": {
            "_model_module": "@jupyter-widgets/controls",
            "_model_module_version": "1.5.0",
            "_model_name": "DescriptionStyleModel",
            "_view_count": null,
            "_view_module": "@jupyter-widgets/base",
            "_view_module_version": "1.2.0",
            "_view_name": "StyleView",
            "description_width": ""
          }
        },
        "091ffec6c56a472f9db6cb16ba2dda0d": {
          "model_module": "@jupyter-widgets/base",
          "model_name": "LayoutModel",
          "model_module_version": "1.2.0",
          "state": {
            "_model_module": "@jupyter-widgets/base",
            "_model_module_version": "1.2.0",
            "_model_name": "LayoutModel",
            "_view_count": null,
            "_view_module": "@jupyter-widgets/base",
            "_view_module_version": "1.2.0",
            "_view_name": "LayoutView",
            "align_content": null,
            "align_items": null,
            "align_self": null,
            "border": null,
            "bottom": null,
            "display": null,
            "flex": null,
            "flex_flow": null,
            "grid_area": null,
            "grid_auto_columns": null,
            "grid_auto_flow": null,
            "grid_auto_rows": null,
            "grid_column": null,
            "grid_gap": null,
            "grid_row": null,
            "grid_template_areas": null,
            "grid_template_columns": null,
            "grid_template_rows": null,
            "height": null,
            "justify_content": null,
            "justify_items": null,
            "left": null,
            "margin": null,
            "max_height": null,
            "max_width": null,
            "min_height": null,
            "min_width": null,
            "object_fit": null,
            "object_position": null,
            "order": null,
            "overflow": null,
            "overflow_x": null,
            "overflow_y": null,
            "padding": null,
            "right": null,
            "top": null,
            "visibility": null,
            "width": null
          }
        },
        "7805523732e64849bf05a52844b6aa78": {
          "model_module": "@jupyter-widgets/controls",
          "model_name": "ProgressStyleModel",
          "model_module_version": "1.5.0",
          "state": {
            "_model_module": "@jupyter-widgets/controls",
            "_model_module_version": "1.5.0",
            "_model_name": "ProgressStyleModel",
            "_view_count": null,
            "_view_module": "@jupyter-widgets/base",
            "_view_module_version": "1.2.0",
            "_view_name": "StyleView",
            "bar_color": null,
            "description_width": ""
          }
        },
        "8ec3dad118f64c3196ebac686e3de75a": {
          "model_module": "@jupyter-widgets/base",
          "model_name": "LayoutModel",
          "model_module_version": "1.2.0",
          "state": {
            "_model_module": "@jupyter-widgets/base",
            "_model_module_version": "1.2.0",
            "_model_name": "LayoutModel",
            "_view_count": null,
            "_view_module": "@jupyter-widgets/base",
            "_view_module_version": "1.2.0",
            "_view_name": "LayoutView",
            "align_content": null,
            "align_items": null,
            "align_self": null,
            "border": null,
            "bottom": null,
            "display": null,
            "flex": null,
            "flex_flow": null,
            "grid_area": null,
            "grid_auto_columns": null,
            "grid_auto_flow": null,
            "grid_auto_rows": null,
            "grid_column": null,
            "grid_gap": null,
            "grid_row": null,
            "grid_template_areas": null,
            "grid_template_columns": null,
            "grid_template_rows": null,
            "height": null,
            "justify_content": null,
            "justify_items": null,
            "left": null,
            "margin": null,
            "max_height": null,
            "max_width": null,
            "min_height": null,
            "min_width": null,
            "object_fit": null,
            "object_position": null,
            "order": null,
            "overflow": null,
            "overflow_x": null,
            "overflow_y": null,
            "padding": null,
            "right": null,
            "top": null,
            "visibility": null,
            "width": null
          }
        },
        "3178b2e9434140ff85e165c900a533bd": {
          "model_module": "@jupyter-widgets/controls",
          "model_name": "DescriptionStyleModel",
          "model_module_version": "1.5.0",
          "state": {
            "_model_module": "@jupyter-widgets/controls",
            "_model_module_version": "1.5.0",
            "_model_name": "DescriptionStyleModel",
            "_view_count": null,
            "_view_module": "@jupyter-widgets/base",
            "_view_module_version": "1.2.0",
            "_view_name": "StyleView",
            "description_width": ""
          }
        },
        "5834dc4480ea4c76af17c2b87012396e": {
          "model_module": "@jupyter-widgets/controls",
          "model_name": "HBoxModel",
          "model_module_version": "1.5.0",
          "state": {
            "_dom_classes": [],
            "_model_module": "@jupyter-widgets/controls",
            "_model_module_version": "1.5.0",
            "_model_name": "HBoxModel",
            "_view_count": null,
            "_view_module": "@jupyter-widgets/controls",
            "_view_module_version": "1.5.0",
            "_view_name": "HBoxView",
            "box_style": "",
            "children": [
              "IPY_MODEL_c7b5561d7b544c2d94cb76a2bb41411d",
              "IPY_MODEL_b111eb8646a94b3fa59076ad7c5242b6",
              "IPY_MODEL_0f06718353c3449fb4114a1da30ec023"
            ],
            "layout": "IPY_MODEL_15beea63fde545a086e1f7907bd664b3"
          }
        },
        "c7b5561d7b544c2d94cb76a2bb41411d": {
          "model_module": "@jupyter-widgets/controls",
          "model_name": "HTMLModel",
          "model_module_version": "1.5.0",
          "state": {
            "_dom_classes": [],
            "_model_module": "@jupyter-widgets/controls",
            "_model_module_version": "1.5.0",
            "_model_name": "HTMLModel",
            "_view_count": null,
            "_view_module": "@jupyter-widgets/controls",
            "_view_module_version": "1.5.0",
            "_view_name": "HTMLView",
            "description": "",
            "description_tooltip": null,
            "layout": "IPY_MODEL_598f66ec2eff408fbeeb1ee1c9564fde",
            "placeholder": "​",
            "style": "IPY_MODEL_901509d6a2da478095c26546ef0070d2",
            "value": "Clean file runs/Apr21_02-10-35_c4b671bce90a/events.out.tfevents.1650507124.c4b671bce90a.96.0: 100%"
          }
        },
        "b111eb8646a94b3fa59076ad7c5242b6": {
          "model_module": "@jupyter-widgets/controls",
          "model_name": "FloatProgressModel",
          "model_module_version": "1.5.0",
          "state": {
            "_dom_classes": [],
            "_model_module": "@jupyter-widgets/controls",
            "_model_module_version": "1.5.0",
            "_model_name": "FloatProgressModel",
            "_view_count": null,
            "_view_module": "@jupyter-widgets/controls",
            "_view_module_version": "1.5.0",
            "_view_name": "ProgressView",
            "bar_style": "success",
            "description": "",
            "description_tooltip": null,
            "layout": "IPY_MODEL_ed8a02a6113e49a6a9e93ad9ebc4253e",
            "max": 8143,
            "min": 0,
            "orientation": "horizontal",
            "style": "IPY_MODEL_6546f28972af416fab6b8156d54f6bd2",
            "value": 8143
          }
        },
        "0f06718353c3449fb4114a1da30ec023": {
          "model_module": "@jupyter-widgets/controls",
          "model_name": "HTMLModel",
          "model_module_version": "1.5.0",
          "state": {
            "_dom_classes": [],
            "_model_module": "@jupyter-widgets/controls",
            "_model_module_version": "1.5.0",
            "_model_name": "HTMLModel",
            "_view_count": null,
            "_view_module": "@jupyter-widgets/controls",
            "_view_module_version": "1.5.0",
            "_view_name": "HTMLView",
            "description": "",
            "description_tooltip": null,
            "layout": "IPY_MODEL_47cb4b970fbb456589f26db686f62200",
            "placeholder": "​",
            "style": "IPY_MODEL_4b9b79d1743e4b5ca83cfd5ca53f2f59",
            "value": " 7.95k/7.95k [02:18&lt;00:00, 51.3B/s]"
          }
        },
        "15beea63fde545a086e1f7907bd664b3": {
          "model_module": "@jupyter-widgets/base",
          "model_name": "LayoutModel",
          "model_module_version": "1.2.0",
          "state": {
            "_model_module": "@jupyter-widgets/base",
            "_model_module_version": "1.2.0",
            "_model_name": "LayoutModel",
            "_view_count": null,
            "_view_module": "@jupyter-widgets/base",
            "_view_module_version": "1.2.0",
            "_view_name": "LayoutView",
            "align_content": null,
            "align_items": null,
            "align_self": null,
            "border": null,
            "bottom": null,
            "display": null,
            "flex": null,
            "flex_flow": null,
            "grid_area": null,
            "grid_auto_columns": null,
            "grid_auto_flow": null,
            "grid_auto_rows": null,
            "grid_column": null,
            "grid_gap": null,
            "grid_row": null,
            "grid_template_areas": null,
            "grid_template_columns": null,
            "grid_template_rows": null,
            "height": null,
            "justify_content": null,
            "justify_items": null,
            "left": null,
            "margin": null,
            "max_height": null,
            "max_width": null,
            "min_height": null,
            "min_width": null,
            "object_fit": null,
            "object_position": null,
            "order": null,
            "overflow": null,
            "overflow_x": null,
            "overflow_y": null,
            "padding": null,
            "right": null,
            "top": null,
            "visibility": null,
            "width": null
          }
        },
        "598f66ec2eff408fbeeb1ee1c9564fde": {
          "model_module": "@jupyter-widgets/base",
          "model_name": "LayoutModel",
          "model_module_version": "1.2.0",
          "state": {
            "_model_module": "@jupyter-widgets/base",
            "_model_module_version": "1.2.0",
            "_model_name": "LayoutModel",
            "_view_count": null,
            "_view_module": "@jupyter-widgets/base",
            "_view_module_version": "1.2.0",
            "_view_name": "LayoutView",
            "align_content": null,
            "align_items": null,
            "align_self": null,
            "border": null,
            "bottom": null,
            "display": null,
            "flex": null,
            "flex_flow": null,
            "grid_area": null,
            "grid_auto_columns": null,
            "grid_auto_flow": null,
            "grid_auto_rows": null,
            "grid_column": null,
            "grid_gap": null,
            "grid_row": null,
            "grid_template_areas": null,
            "grid_template_columns": null,
            "grid_template_rows": null,
            "height": null,
            "justify_content": null,
            "justify_items": null,
            "left": null,
            "margin": null,
            "max_height": null,
            "max_width": null,
            "min_height": null,
            "min_width": null,
            "object_fit": null,
            "object_position": null,
            "order": null,
            "overflow": null,
            "overflow_x": null,
            "overflow_y": null,
            "padding": null,
            "right": null,
            "top": null,
            "visibility": null,
            "width": null
          }
        },
        "901509d6a2da478095c26546ef0070d2": {
          "model_module": "@jupyter-widgets/controls",
          "model_name": "DescriptionStyleModel",
          "model_module_version": "1.5.0",
          "state": {
            "_model_module": "@jupyter-widgets/controls",
            "_model_module_version": "1.5.0",
            "_model_name": "DescriptionStyleModel",
            "_view_count": null,
            "_view_module": "@jupyter-widgets/base",
            "_view_module_version": "1.2.0",
            "_view_name": "StyleView",
            "description_width": ""
          }
        },
        "ed8a02a6113e49a6a9e93ad9ebc4253e": {
          "model_module": "@jupyter-widgets/base",
          "model_name": "LayoutModel",
          "model_module_version": "1.2.0",
          "state": {
            "_model_module": "@jupyter-widgets/base",
            "_model_module_version": "1.2.0",
            "_model_name": "LayoutModel",
            "_view_count": null,
            "_view_module": "@jupyter-widgets/base",
            "_view_module_version": "1.2.0",
            "_view_name": "LayoutView",
            "align_content": null,
            "align_items": null,
            "align_self": null,
            "border": null,
            "bottom": null,
            "display": null,
            "flex": null,
            "flex_flow": null,
            "grid_area": null,
            "grid_auto_columns": null,
            "grid_auto_flow": null,
            "grid_auto_rows": null,
            "grid_column": null,
            "grid_gap": null,
            "grid_row": null,
            "grid_template_areas": null,
            "grid_template_columns": null,
            "grid_template_rows": null,
            "height": null,
            "justify_content": null,
            "justify_items": null,
            "left": null,
            "margin": null,
            "max_height": null,
            "max_width": null,
            "min_height": null,
            "min_width": null,
            "object_fit": null,
            "object_position": null,
            "order": null,
            "overflow": null,
            "overflow_x": null,
            "overflow_y": null,
            "padding": null,
            "right": null,
            "top": null,
            "visibility": null,
            "width": null
          }
        },
        "6546f28972af416fab6b8156d54f6bd2": {
          "model_module": "@jupyter-widgets/controls",
          "model_name": "ProgressStyleModel",
          "model_module_version": "1.5.0",
          "state": {
            "_model_module": "@jupyter-widgets/controls",
            "_model_module_version": "1.5.0",
            "_model_name": "ProgressStyleModel",
            "_view_count": null,
            "_view_module": "@jupyter-widgets/base",
            "_view_module_version": "1.2.0",
            "_view_name": "StyleView",
            "bar_color": null,
            "description_width": ""
          }
        },
        "47cb4b970fbb456589f26db686f62200": {
          "model_module": "@jupyter-widgets/base",
          "model_name": "LayoutModel",
          "model_module_version": "1.2.0",
          "state": {
            "_model_module": "@jupyter-widgets/base",
            "_model_module_version": "1.2.0",
            "_model_name": "LayoutModel",
            "_view_count": null,
            "_view_module": "@jupyter-widgets/base",
            "_view_module_version": "1.2.0",
            "_view_name": "LayoutView",
            "align_content": null,
            "align_items": null,
            "align_self": null,
            "border": null,
            "bottom": null,
            "display": null,
            "flex": null,
            "flex_flow": null,
            "grid_area": null,
            "grid_auto_columns": null,
            "grid_auto_flow": null,
            "grid_auto_rows": null,
            "grid_column": null,
            "grid_gap": null,
            "grid_row": null,
            "grid_template_areas": null,
            "grid_template_columns": null,
            "grid_template_rows": null,
            "height": null,
            "justify_content": null,
            "justify_items": null,
            "left": null,
            "margin": null,
            "max_height": null,
            "max_width": null,
            "min_height": null,
            "min_width": null,
            "object_fit": null,
            "object_position": null,
            "order": null,
            "overflow": null,
            "overflow_x": null,
            "overflow_y": null,
            "padding": null,
            "right": null,
            "top": null,
            "visibility": null,
            "width": null
          }
        },
        "4b9b79d1743e4b5ca83cfd5ca53f2f59": {
          "model_module": "@jupyter-widgets/controls",
          "model_name": "DescriptionStyleModel",
          "model_module_version": "1.5.0",
          "state": {
            "_model_module": "@jupyter-widgets/controls",
            "_model_module_version": "1.5.0",
            "_model_name": "DescriptionStyleModel",
            "_view_count": null,
            "_view_module": "@jupyter-widgets/base",
            "_view_module_version": "1.2.0",
            "_view_name": "StyleView",
            "description_width": ""
          }
        },
        "ce3c2091142e47a8805a2286afc64b26": {
          "model_module": "@jupyter-widgets/controls",
          "model_name": "HBoxModel",
          "model_module_version": "1.5.0",
          "state": {
            "_dom_classes": [],
            "_model_module": "@jupyter-widgets/controls",
            "_model_module_version": "1.5.0",
            "_model_name": "HBoxModel",
            "_view_count": null,
            "_view_module": "@jupyter-widgets/controls",
            "_view_module_version": "1.5.0",
            "_view_name": "HBoxView",
            "box_style": "",
            "children": [
              "IPY_MODEL_f8a5377470ee41b68419dc4bd34d9066",
              "IPY_MODEL_03ad4efe7f244d0ebb4618d1f3015b16",
              "IPY_MODEL_7ddec01c9f3b4e199cce182bdd4a5e92"
            ],
            "layout": "IPY_MODEL_08211a279f5e47d3b709ed904d8c2c2f"
          }
        },
        "f8a5377470ee41b68419dc4bd34d9066": {
          "model_module": "@jupyter-widgets/controls",
          "model_name": "HTMLModel",
          "model_module_version": "1.5.0",
          "state": {
            "_dom_classes": [],
            "_model_module": "@jupyter-widgets/controls",
            "_model_module_version": "1.5.0",
            "_model_name": "HTMLModel",
            "_view_count": null,
            "_view_module": "@jupyter-widgets/controls",
            "_view_module_version": "1.5.0",
            "_view_name": "HTMLView",
            "description": "",
            "description_tooltip": null,
            "layout": "IPY_MODEL_11089863c53843c6b176c8b212259304",
            "placeholder": "​",
            "style": "IPY_MODEL_0eef78d27fc145d3b68995fe64a77553",
            "value": "Clean file training_args.bin: 100%"
          }
        },
        "03ad4efe7f244d0ebb4618d1f3015b16": {
          "model_module": "@jupyter-widgets/controls",
          "model_name": "FloatProgressModel",
          "model_module_version": "1.5.0",
          "state": {
            "_dom_classes": [],
            "_model_module": "@jupyter-widgets/controls",
            "_model_module_version": "1.5.0",
            "_model_name": "FloatProgressModel",
            "_view_count": null,
            "_view_module": "@jupyter-widgets/controls",
            "_view_module_version": "1.5.0",
            "_view_name": "ProgressView",
            "bar_style": "success",
            "description": "",
            "description_tooltip": null,
            "layout": "IPY_MODEL_68728828478f4ebdb3a7338c0823009e",
            "max": 2863,
            "min": 0,
            "orientation": "horizontal",
            "style": "IPY_MODEL_c526db80369146499d66974bd231e915",
            "value": 2863
          }
        },
        "7ddec01c9f3b4e199cce182bdd4a5e92": {
          "model_module": "@jupyter-widgets/controls",
          "model_name": "HTMLModel",
          "model_module_version": "1.5.0",
          "state": {
            "_dom_classes": [],
            "_model_module": "@jupyter-widgets/controls",
            "_model_module_version": "1.5.0",
            "_model_name": "HTMLModel",
            "_view_count": null,
            "_view_module": "@jupyter-widgets/controls",
            "_view_module_version": "1.5.0",
            "_view_name": "HTMLView",
            "description": "",
            "description_tooltip": null,
            "layout": "IPY_MODEL_a52f9ed66d3743d8a01c92f83e302b38",
            "placeholder": "​",
            "style": "IPY_MODEL_2c9e6b1b5a4c4f3abd0d88d99d157abe",
            "value": " 2.80k/2.80k [02:18&lt;00:00, 13.3B/s]"
          }
        },
        "08211a279f5e47d3b709ed904d8c2c2f": {
          "model_module": "@jupyter-widgets/base",
          "model_name": "LayoutModel",
          "model_module_version": "1.2.0",
          "state": {
            "_model_module": "@jupyter-widgets/base",
            "_model_module_version": "1.2.0",
            "_model_name": "LayoutModel",
            "_view_count": null,
            "_view_module": "@jupyter-widgets/base",
            "_view_module_version": "1.2.0",
            "_view_name": "LayoutView",
            "align_content": null,
            "align_items": null,
            "align_self": null,
            "border": null,
            "bottom": null,
            "display": null,
            "flex": null,
            "flex_flow": null,
            "grid_area": null,
            "grid_auto_columns": null,
            "grid_auto_flow": null,
            "grid_auto_rows": null,
            "grid_column": null,
            "grid_gap": null,
            "grid_row": null,
            "grid_template_areas": null,
            "grid_template_columns": null,
            "grid_template_rows": null,
            "height": null,
            "justify_content": null,
            "justify_items": null,
            "left": null,
            "margin": null,
            "max_height": null,
            "max_width": null,
            "min_height": null,
            "min_width": null,
            "object_fit": null,
            "object_position": null,
            "order": null,
            "overflow": null,
            "overflow_x": null,
            "overflow_y": null,
            "padding": null,
            "right": null,
            "top": null,
            "visibility": null,
            "width": null
          }
        },
        "11089863c53843c6b176c8b212259304": {
          "model_module": "@jupyter-widgets/base",
          "model_name": "LayoutModel",
          "model_module_version": "1.2.0",
          "state": {
            "_model_module": "@jupyter-widgets/base",
            "_model_module_version": "1.2.0",
            "_model_name": "LayoutModel",
            "_view_count": null,
            "_view_module": "@jupyter-widgets/base",
            "_view_module_version": "1.2.0",
            "_view_name": "LayoutView",
            "align_content": null,
            "align_items": null,
            "align_self": null,
            "border": null,
            "bottom": null,
            "display": null,
            "flex": null,
            "flex_flow": null,
            "grid_area": null,
            "grid_auto_columns": null,
            "grid_auto_flow": null,
            "grid_auto_rows": null,
            "grid_column": null,
            "grid_gap": null,
            "grid_row": null,
            "grid_template_areas": null,
            "grid_template_columns": null,
            "grid_template_rows": null,
            "height": null,
            "justify_content": null,
            "justify_items": null,
            "left": null,
            "margin": null,
            "max_height": null,
            "max_width": null,
            "min_height": null,
            "min_width": null,
            "object_fit": null,
            "object_position": null,
            "order": null,
            "overflow": null,
            "overflow_x": null,
            "overflow_y": null,
            "padding": null,
            "right": null,
            "top": null,
            "visibility": null,
            "width": null
          }
        },
        "0eef78d27fc145d3b68995fe64a77553": {
          "model_module": "@jupyter-widgets/controls",
          "model_name": "DescriptionStyleModel",
          "model_module_version": "1.5.0",
          "state": {
            "_model_module": "@jupyter-widgets/controls",
            "_model_module_version": "1.5.0",
            "_model_name": "DescriptionStyleModel",
            "_view_count": null,
            "_view_module": "@jupyter-widgets/base",
            "_view_module_version": "1.2.0",
            "_view_name": "StyleView",
            "description_width": ""
          }
        },
        "68728828478f4ebdb3a7338c0823009e": {
          "model_module": "@jupyter-widgets/base",
          "model_name": "LayoutModel",
          "model_module_version": "1.2.0",
          "state": {
            "_model_module": "@jupyter-widgets/base",
            "_model_module_version": "1.2.0",
            "_model_name": "LayoutModel",
            "_view_count": null,
            "_view_module": "@jupyter-widgets/base",
            "_view_module_version": "1.2.0",
            "_view_name": "LayoutView",
            "align_content": null,
            "align_items": null,
            "align_self": null,
            "border": null,
            "bottom": null,
            "display": null,
            "flex": null,
            "flex_flow": null,
            "grid_area": null,
            "grid_auto_columns": null,
            "grid_auto_flow": null,
            "grid_auto_rows": null,
            "grid_column": null,
            "grid_gap": null,
            "grid_row": null,
            "grid_template_areas": null,
            "grid_template_columns": null,
            "grid_template_rows": null,
            "height": null,
            "justify_content": null,
            "justify_items": null,
            "left": null,
            "margin": null,
            "max_height": null,
            "max_width": null,
            "min_height": null,
            "min_width": null,
            "object_fit": null,
            "object_position": null,
            "order": null,
            "overflow": null,
            "overflow_x": null,
            "overflow_y": null,
            "padding": null,
            "right": null,
            "top": null,
            "visibility": null,
            "width": null
          }
        },
        "c526db80369146499d66974bd231e915": {
          "model_module": "@jupyter-widgets/controls",
          "model_name": "ProgressStyleModel",
          "model_module_version": "1.5.0",
          "state": {
            "_model_module": "@jupyter-widgets/controls",
            "_model_module_version": "1.5.0",
            "_model_name": "ProgressStyleModel",
            "_view_count": null,
            "_view_module": "@jupyter-widgets/base",
            "_view_module_version": "1.2.0",
            "_view_name": "StyleView",
            "bar_color": null,
            "description_width": ""
          }
        },
        "a52f9ed66d3743d8a01c92f83e302b38": {
          "model_module": "@jupyter-widgets/base",
          "model_name": "LayoutModel",
          "model_module_version": "1.2.0",
          "state": {
            "_model_module": "@jupyter-widgets/base",
            "_model_module_version": "1.2.0",
            "_model_name": "LayoutModel",
            "_view_count": null,
            "_view_module": "@jupyter-widgets/base",
            "_view_module_version": "1.2.0",
            "_view_name": "LayoutView",
            "align_content": null,
            "align_items": null,
            "align_self": null,
            "border": null,
            "bottom": null,
            "display": null,
            "flex": null,
            "flex_flow": null,
            "grid_area": null,
            "grid_auto_columns": null,
            "grid_auto_flow": null,
            "grid_auto_rows": null,
            "grid_column": null,
            "grid_gap": null,
            "grid_row": null,
            "grid_template_areas": null,
            "grid_template_columns": null,
            "grid_template_rows": null,
            "height": null,
            "justify_content": null,
            "justify_items": null,
            "left": null,
            "margin": null,
            "max_height": null,
            "max_width": null,
            "min_height": null,
            "min_width": null,
            "object_fit": null,
            "object_position": null,
            "order": null,
            "overflow": null,
            "overflow_x": null,
            "overflow_y": null,
            "padding": null,
            "right": null,
            "top": null,
            "visibility": null,
            "width": null
          }
        },
        "2c9e6b1b5a4c4f3abd0d88d99d157abe": {
          "model_module": "@jupyter-widgets/controls",
          "model_name": "DescriptionStyleModel",
          "model_module_version": "1.5.0",
          "state": {
            "_model_module": "@jupyter-widgets/controls",
            "_model_module_version": "1.5.0",
            "_model_name": "DescriptionStyleModel",
            "_view_count": null,
            "_view_module": "@jupyter-widgets/base",
            "_view_module_version": "1.2.0",
            "_view_name": "StyleView",
            "description_width": ""
          }
        },
        "3f5b6e7dbdfc4c89b5a33c33deacd501": {
          "model_module": "@jupyter-widgets/controls",
          "model_name": "HBoxModel",
          "model_module_version": "1.5.0",
          "state": {
            "_dom_classes": [],
            "_model_module": "@jupyter-widgets/controls",
            "_model_module_version": "1.5.0",
            "_model_name": "HBoxModel",
            "_view_count": null,
            "_view_module": "@jupyter-widgets/controls",
            "_view_module_version": "1.5.0",
            "_view_name": "HBoxView",
            "box_style": "",
            "children": [
              "IPY_MODEL_5174155c3cc9454e83e329c16bd87d34",
              "IPY_MODEL_e97ccdaeedae471ba4153546d125bf2b",
              "IPY_MODEL_910bbb0ecd484565be0b991d2beb0f1e"
            ],
            "layout": "IPY_MODEL_dd9fe6f46e5f471dbba3d30bd594e34c"
          }
        },
        "5174155c3cc9454e83e329c16bd87d34": {
          "model_module": "@jupyter-widgets/controls",
          "model_name": "HTMLModel",
          "model_module_version": "1.5.0",
          "state": {
            "_dom_classes": [],
            "_model_module": "@jupyter-widgets/controls",
            "_model_module_version": "1.5.0",
            "_model_name": "HTMLModel",
            "_view_count": null,
            "_view_module": "@jupyter-widgets/controls",
            "_view_module_version": "1.5.0",
            "_view_name": "HTMLView",
            "description": "",
            "description_tooltip": null,
            "layout": "IPY_MODEL_f1791224368e4801b39d696436b0910d",
            "placeholder": "​",
            "style": "IPY_MODEL_edf2809c6dd449159e990dac962db4ac",
            "value": "Clean file runs/Apr21_02-10-35_c4b671bce90a/1650507124.543917/events.out.tfevents.1650507124.c4b671bce90a.96.1: 100%"
          }
        },
        "e97ccdaeedae471ba4153546d125bf2b": {
          "model_module": "@jupyter-widgets/controls",
          "model_name": "FloatProgressModel",
          "model_module_version": "1.5.0",
          "state": {
            "_dom_classes": [],
            "_model_module": "@jupyter-widgets/controls",
            "_model_module_version": "1.5.0",
            "_model_name": "FloatProgressModel",
            "_view_count": null,
            "_view_module": "@jupyter-widgets/controls",
            "_view_module_version": "1.5.0",
            "_view_name": "ProgressView",
            "bar_style": "success",
            "description": "",
            "description_tooltip": null,
            "layout": "IPY_MODEL_cc7040227cba41a0ab34093aabbf8eaa",
            "max": 4555,
            "min": 0,
            "orientation": "horizontal",
            "style": "IPY_MODEL_6652590ea221431da01326638aefdc92",
            "value": 4555
          }
        },
        "910bbb0ecd484565be0b991d2beb0f1e": {
          "model_module": "@jupyter-widgets/controls",
          "model_name": "HTMLModel",
          "model_module_version": "1.5.0",
          "state": {
            "_dom_classes": [],
            "_model_module": "@jupyter-widgets/controls",
            "_model_module_version": "1.5.0",
            "_model_name": "HTMLModel",
            "_view_count": null,
            "_view_module": "@jupyter-widgets/controls",
            "_view_module_version": "1.5.0",
            "_view_name": "HTMLView",
            "description": "",
            "description_tooltip": null,
            "layout": "IPY_MODEL_3a49f389ebdb4ae2b56610bdf21eb2d5",
            "placeholder": "​",
            "style": "IPY_MODEL_ee3759b1f2734432bf9c61ddb2facb3a",
            "value": " 4.45k/4.45k [02:18&lt;00:00, 25.5B/s]"
          }
        },
        "dd9fe6f46e5f471dbba3d30bd594e34c": {
          "model_module": "@jupyter-widgets/base",
          "model_name": "LayoutModel",
          "model_module_version": "1.2.0",
          "state": {
            "_model_module": "@jupyter-widgets/base",
            "_model_module_version": "1.2.0",
            "_model_name": "LayoutModel",
            "_view_count": null,
            "_view_module": "@jupyter-widgets/base",
            "_view_module_version": "1.2.0",
            "_view_name": "LayoutView",
            "align_content": null,
            "align_items": null,
            "align_self": null,
            "border": null,
            "bottom": null,
            "display": null,
            "flex": null,
            "flex_flow": null,
            "grid_area": null,
            "grid_auto_columns": null,
            "grid_auto_flow": null,
            "grid_auto_rows": null,
            "grid_column": null,
            "grid_gap": null,
            "grid_row": null,
            "grid_template_areas": null,
            "grid_template_columns": null,
            "grid_template_rows": null,
            "height": null,
            "justify_content": null,
            "justify_items": null,
            "left": null,
            "margin": null,
            "max_height": null,
            "max_width": null,
            "min_height": null,
            "min_width": null,
            "object_fit": null,
            "object_position": null,
            "order": null,
            "overflow": null,
            "overflow_x": null,
            "overflow_y": null,
            "padding": null,
            "right": null,
            "top": null,
            "visibility": null,
            "width": null
          }
        },
        "f1791224368e4801b39d696436b0910d": {
          "model_module": "@jupyter-widgets/base",
          "model_name": "LayoutModel",
          "model_module_version": "1.2.0",
          "state": {
            "_model_module": "@jupyter-widgets/base",
            "_model_module_version": "1.2.0",
            "_model_name": "LayoutModel",
            "_view_count": null,
            "_view_module": "@jupyter-widgets/base",
            "_view_module_version": "1.2.0",
            "_view_name": "LayoutView",
            "align_content": null,
            "align_items": null,
            "align_self": null,
            "border": null,
            "bottom": null,
            "display": null,
            "flex": null,
            "flex_flow": null,
            "grid_area": null,
            "grid_auto_columns": null,
            "grid_auto_flow": null,
            "grid_auto_rows": null,
            "grid_column": null,
            "grid_gap": null,
            "grid_row": null,
            "grid_template_areas": null,
            "grid_template_columns": null,
            "grid_template_rows": null,
            "height": null,
            "justify_content": null,
            "justify_items": null,
            "left": null,
            "margin": null,
            "max_height": null,
            "max_width": null,
            "min_height": null,
            "min_width": null,
            "object_fit": null,
            "object_position": null,
            "order": null,
            "overflow": null,
            "overflow_x": null,
            "overflow_y": null,
            "padding": null,
            "right": null,
            "top": null,
            "visibility": null,
            "width": null
          }
        },
        "edf2809c6dd449159e990dac962db4ac": {
          "model_module": "@jupyter-widgets/controls",
          "model_name": "DescriptionStyleModel",
          "model_module_version": "1.5.0",
          "state": {
            "_model_module": "@jupyter-widgets/controls",
            "_model_module_version": "1.5.0",
            "_model_name": "DescriptionStyleModel",
            "_view_count": null,
            "_view_module": "@jupyter-widgets/base",
            "_view_module_version": "1.2.0",
            "_view_name": "StyleView",
            "description_width": ""
          }
        },
        "cc7040227cba41a0ab34093aabbf8eaa": {
          "model_module": "@jupyter-widgets/base",
          "model_name": "LayoutModel",
          "model_module_version": "1.2.0",
          "state": {
            "_model_module": "@jupyter-widgets/base",
            "_model_module_version": "1.2.0",
            "_model_name": "LayoutModel",
            "_view_count": null,
            "_view_module": "@jupyter-widgets/base",
            "_view_module_version": "1.2.0",
            "_view_name": "LayoutView",
            "align_content": null,
            "align_items": null,
            "align_self": null,
            "border": null,
            "bottom": null,
            "display": null,
            "flex": null,
            "flex_flow": null,
            "grid_area": null,
            "grid_auto_columns": null,
            "grid_auto_flow": null,
            "grid_auto_rows": null,
            "grid_column": null,
            "grid_gap": null,
            "grid_row": null,
            "grid_template_areas": null,
            "grid_template_columns": null,
            "grid_template_rows": null,
            "height": null,
            "justify_content": null,
            "justify_items": null,
            "left": null,
            "margin": null,
            "max_height": null,
            "max_width": null,
            "min_height": null,
            "min_width": null,
            "object_fit": null,
            "object_position": null,
            "order": null,
            "overflow": null,
            "overflow_x": null,
            "overflow_y": null,
            "padding": null,
            "right": null,
            "top": null,
            "visibility": null,
            "width": null
          }
        },
        "6652590ea221431da01326638aefdc92": {
          "model_module": "@jupyter-widgets/controls",
          "model_name": "ProgressStyleModel",
          "model_module_version": "1.5.0",
          "state": {
            "_model_module": "@jupyter-widgets/controls",
            "_model_module_version": "1.5.0",
            "_model_name": "ProgressStyleModel",
            "_view_count": null,
            "_view_module": "@jupyter-widgets/base",
            "_view_module_version": "1.2.0",
            "_view_name": "StyleView",
            "bar_color": null,
            "description_width": ""
          }
        },
        "3a49f389ebdb4ae2b56610bdf21eb2d5": {
          "model_module": "@jupyter-widgets/base",
          "model_name": "LayoutModel",
          "model_module_version": "1.2.0",
          "state": {
            "_model_module": "@jupyter-widgets/base",
            "_model_module_version": "1.2.0",
            "_model_name": "LayoutModel",
            "_view_count": null,
            "_view_module": "@jupyter-widgets/base",
            "_view_module_version": "1.2.0",
            "_view_name": "LayoutView",
            "align_content": null,
            "align_items": null,
            "align_self": null,
            "border": null,
            "bottom": null,
            "display": null,
            "flex": null,
            "flex_flow": null,
            "grid_area": null,
            "grid_auto_columns": null,
            "grid_auto_flow": null,
            "grid_auto_rows": null,
            "grid_column": null,
            "grid_gap": null,
            "grid_row": null,
            "grid_template_areas": null,
            "grid_template_columns": null,
            "grid_template_rows": null,
            "height": null,
            "justify_content": null,
            "justify_items": null,
            "left": null,
            "margin": null,
            "max_height": null,
            "max_width": null,
            "min_height": null,
            "min_width": null,
            "object_fit": null,
            "object_position": null,
            "order": null,
            "overflow": null,
            "overflow_x": null,
            "overflow_y": null,
            "padding": null,
            "right": null,
            "top": null,
            "visibility": null,
            "width": null
          }
        },
        "ee3759b1f2734432bf9c61ddb2facb3a": {
          "model_module": "@jupyter-widgets/controls",
          "model_name": "DescriptionStyleModel",
          "model_module_version": "1.5.0",
          "state": {
            "_model_module": "@jupyter-widgets/controls",
            "_model_module_version": "1.5.0",
            "_model_name": "DescriptionStyleModel",
            "_view_count": null,
            "_view_module": "@jupyter-widgets/base",
            "_view_module_version": "1.2.0",
            "_view_name": "StyleView",
            "description_width": ""
          }
        },
        "828110ac18284d30809feed003dd8183": {
          "model_module": "@jupyter-widgets/controls",
          "model_name": "HBoxModel",
          "model_module_version": "1.5.0",
          "state": {
            "_dom_classes": [],
            "_model_module": "@jupyter-widgets/controls",
            "_model_module_version": "1.5.0",
            "_model_name": "HBoxModel",
            "_view_count": null,
            "_view_module": "@jupyter-widgets/controls",
            "_view_module_version": "1.5.0",
            "_view_name": "HBoxView",
            "box_style": "",
            "children": [
              "IPY_MODEL_86866077e56742a09b037ffe857d7100",
              "IPY_MODEL_7780386295b244bc93132aa69064bceb",
              "IPY_MODEL_d217b66d1aed4c52b587d548c4623b6d"
            ],
            "layout": "IPY_MODEL_117f26a324664abc8c640fcd6722d4f0"
          }
        },
        "86866077e56742a09b037ffe857d7100": {
          "model_module": "@jupyter-widgets/controls",
          "model_name": "HTMLModel",
          "model_module_version": "1.5.0",
          "state": {
            "_dom_classes": [],
            "_model_module": "@jupyter-widgets/controls",
            "_model_module_version": "1.5.0",
            "_model_name": "HTMLModel",
            "_view_count": null,
            "_view_module": "@jupyter-widgets/controls",
            "_view_module_version": "1.5.0",
            "_view_name": "HTMLView",
            "description": "",
            "description_tooltip": null,
            "layout": "IPY_MODEL_97c449c62a2f48c49acb309fd4957c38",
            "placeholder": "​",
            "style": "IPY_MODEL_caafbe70d96e4e2a9e11f4a4e2da25e4",
            "value": "Clean file pytorch_model.bin: 100%"
          }
        },
        "7780386295b244bc93132aa69064bceb": {
          "model_module": "@jupyter-widgets/controls",
          "model_name": "FloatProgressModel",
          "model_module_version": "1.5.0",
          "state": {
            "_dom_classes": [],
            "_model_module": "@jupyter-widgets/controls",
            "_model_module_version": "1.5.0",
            "_model_name": "FloatProgressModel",
            "_view_count": null,
            "_view_module": "@jupyter-widgets/controls",
            "_view_module_version": "1.5.0",
            "_view_name": "ProgressView",
            "bar_style": "success",
            "description": "",
            "description_tooltip": null,
            "layout": "IPY_MODEL_b2156fdb554b4b238cea663448be3d51",
            "max": 377670039,
            "min": 0,
            "orientation": "horizontal",
            "style": "IPY_MODEL_fb9933093aed4b2dac688281a21e300e",
            "value": 377670039
          }
        },
        "d217b66d1aed4c52b587d548c4623b6d": {
          "model_module": "@jupyter-widgets/controls",
          "model_name": "HTMLModel",
          "model_module_version": "1.5.0",
          "state": {
            "_dom_classes": [],
            "_model_module": "@jupyter-widgets/controls",
            "_model_module_version": "1.5.0",
            "_model_name": "HTMLModel",
            "_view_count": null,
            "_view_module": "@jupyter-widgets/controls",
            "_view_module_version": "1.5.0",
            "_view_name": "HTMLView",
            "description": "",
            "description_tooltip": null,
            "layout": "IPY_MODEL_9cf4f3b3da994ddd9968edc185da6233",
            "placeholder": "​",
            "style": "IPY_MODEL_d33d0e5db0d04baab3310e36978e1e9f",
            "value": " 360M/360M [00:45&lt;00:00, 9.33MB/s]"
          }
        },
        "117f26a324664abc8c640fcd6722d4f0": {
          "model_module": "@jupyter-widgets/base",
          "model_name": "LayoutModel",
          "model_module_version": "1.2.0",
          "state": {
            "_model_module": "@jupyter-widgets/base",
            "_model_module_version": "1.2.0",
            "_model_name": "LayoutModel",
            "_view_count": null,
            "_view_module": "@jupyter-widgets/base",
            "_view_module_version": "1.2.0",
            "_view_name": "LayoutView",
            "align_content": null,
            "align_items": null,
            "align_self": null,
            "border": null,
            "bottom": null,
            "display": null,
            "flex": null,
            "flex_flow": null,
            "grid_area": null,
            "grid_auto_columns": null,
            "grid_auto_flow": null,
            "grid_auto_rows": null,
            "grid_column": null,
            "grid_gap": null,
            "grid_row": null,
            "grid_template_areas": null,
            "grid_template_columns": null,
            "grid_template_rows": null,
            "height": null,
            "justify_content": null,
            "justify_items": null,
            "left": null,
            "margin": null,
            "max_height": null,
            "max_width": null,
            "min_height": null,
            "min_width": null,
            "object_fit": null,
            "object_position": null,
            "order": null,
            "overflow": null,
            "overflow_x": null,
            "overflow_y": null,
            "padding": null,
            "right": null,
            "top": null,
            "visibility": null,
            "width": null
          }
        },
        "97c449c62a2f48c49acb309fd4957c38": {
          "model_module": "@jupyter-widgets/base",
          "model_name": "LayoutModel",
          "model_module_version": "1.2.0",
          "state": {
            "_model_module": "@jupyter-widgets/base",
            "_model_module_version": "1.2.0",
            "_model_name": "LayoutModel",
            "_view_count": null,
            "_view_module": "@jupyter-widgets/base",
            "_view_module_version": "1.2.0",
            "_view_name": "LayoutView",
            "align_content": null,
            "align_items": null,
            "align_self": null,
            "border": null,
            "bottom": null,
            "display": null,
            "flex": null,
            "flex_flow": null,
            "grid_area": null,
            "grid_auto_columns": null,
            "grid_auto_flow": null,
            "grid_auto_rows": null,
            "grid_column": null,
            "grid_gap": null,
            "grid_row": null,
            "grid_template_areas": null,
            "grid_template_columns": null,
            "grid_template_rows": null,
            "height": null,
            "justify_content": null,
            "justify_items": null,
            "left": null,
            "margin": null,
            "max_height": null,
            "max_width": null,
            "min_height": null,
            "min_width": null,
            "object_fit": null,
            "object_position": null,
            "order": null,
            "overflow": null,
            "overflow_x": null,
            "overflow_y": null,
            "padding": null,
            "right": null,
            "top": null,
            "visibility": null,
            "width": null
          }
        },
        "caafbe70d96e4e2a9e11f4a4e2da25e4": {
          "model_module": "@jupyter-widgets/controls",
          "model_name": "DescriptionStyleModel",
          "model_module_version": "1.5.0",
          "state": {
            "_model_module": "@jupyter-widgets/controls",
            "_model_module_version": "1.5.0",
            "_model_name": "DescriptionStyleModel",
            "_view_count": null,
            "_view_module": "@jupyter-widgets/base",
            "_view_module_version": "1.2.0",
            "_view_name": "StyleView",
            "description_width": ""
          }
        },
        "b2156fdb554b4b238cea663448be3d51": {
          "model_module": "@jupyter-widgets/base",
          "model_name": "LayoutModel",
          "model_module_version": "1.2.0",
          "state": {
            "_model_module": "@jupyter-widgets/base",
            "_model_module_version": "1.2.0",
            "_model_name": "LayoutModel",
            "_view_count": null,
            "_view_module": "@jupyter-widgets/base",
            "_view_module_version": "1.2.0",
            "_view_name": "LayoutView",
            "align_content": null,
            "align_items": null,
            "align_self": null,
            "border": null,
            "bottom": null,
            "display": null,
            "flex": null,
            "flex_flow": null,
            "grid_area": null,
            "grid_auto_columns": null,
            "grid_auto_flow": null,
            "grid_auto_rows": null,
            "grid_column": null,
            "grid_gap": null,
            "grid_row": null,
            "grid_template_areas": null,
            "grid_template_columns": null,
            "grid_template_rows": null,
            "height": null,
            "justify_content": null,
            "justify_items": null,
            "left": null,
            "margin": null,
            "max_height": null,
            "max_width": null,
            "min_height": null,
            "min_width": null,
            "object_fit": null,
            "object_position": null,
            "order": null,
            "overflow": null,
            "overflow_x": null,
            "overflow_y": null,
            "padding": null,
            "right": null,
            "top": null,
            "visibility": null,
            "width": null
          }
        },
        "fb9933093aed4b2dac688281a21e300e": {
          "model_module": "@jupyter-widgets/controls",
          "model_name": "ProgressStyleModel",
          "model_module_version": "1.5.0",
          "state": {
            "_model_module": "@jupyter-widgets/controls",
            "_model_module_version": "1.5.0",
            "_model_name": "ProgressStyleModel",
            "_view_count": null,
            "_view_module": "@jupyter-widgets/base",
            "_view_module_version": "1.2.0",
            "_view_name": "StyleView",
            "bar_color": null,
            "description_width": ""
          }
        },
        "9cf4f3b3da994ddd9968edc185da6233": {
          "model_module": "@jupyter-widgets/base",
          "model_name": "LayoutModel",
          "model_module_version": "1.2.0",
          "state": {
            "_model_module": "@jupyter-widgets/base",
            "_model_module_version": "1.2.0",
            "_model_name": "LayoutModel",
            "_view_count": null,
            "_view_module": "@jupyter-widgets/base",
            "_view_module_version": "1.2.0",
            "_view_name": "LayoutView",
            "align_content": null,
            "align_items": null,
            "align_self": null,
            "border": null,
            "bottom": null,
            "display": null,
            "flex": null,
            "flex_flow": null,
            "grid_area": null,
            "grid_auto_columns": null,
            "grid_auto_flow": null,
            "grid_auto_rows": null,
            "grid_column": null,
            "grid_gap": null,
            "grid_row": null,
            "grid_template_areas": null,
            "grid_template_columns": null,
            "grid_template_rows": null,
            "height": null,
            "justify_content": null,
            "justify_items": null,
            "left": null,
            "margin": null,
            "max_height": null,
            "max_width": null,
            "min_height": null,
            "min_width": null,
            "object_fit": null,
            "object_position": null,
            "order": null,
            "overflow": null,
            "overflow_x": null,
            "overflow_y": null,
            "padding": null,
            "right": null,
            "top": null,
            "visibility": null,
            "width": null
          }
        },
        "d33d0e5db0d04baab3310e36978e1e9f": {
          "model_module": "@jupyter-widgets/controls",
          "model_name": "DescriptionStyleModel",
          "model_module_version": "1.5.0",
          "state": {
            "_model_module": "@jupyter-widgets/controls",
            "_model_module_version": "1.5.0",
            "_model_name": "DescriptionStyleModel",
            "_view_count": null,
            "_view_module": "@jupyter-widgets/base",
            "_view_module_version": "1.2.0",
            "_view_name": "StyleView",
            "description_width": ""
          }
        },
        "c70bf6410d134cc7a3f681da8a02943e": {
          "model_module": "@jupyter-widgets/controls",
          "model_name": "HBoxModel",
          "model_module_version": "1.5.0",
          "state": {
            "_dom_classes": [],
            "_model_module": "@jupyter-widgets/controls",
            "_model_module_version": "1.5.0",
            "_model_name": "HBoxModel",
            "_view_count": null,
            "_view_module": "@jupyter-widgets/controls",
            "_view_module_version": "1.5.0",
            "_view_name": "HBoxView",
            "box_style": "",
            "children": [
              "IPY_MODEL_ba95aff7a3a646b980e4e332b69b7b46",
              "IPY_MODEL_18604991077f4ca6bed6c546fe1a6392",
              "IPY_MODEL_f1a51a3982a44cb38e613b367abd015b"
            ],
            "layout": "IPY_MODEL_2653b089deb645c69f37cca89ed2c102"
          }
        },
        "ba95aff7a3a646b980e4e332b69b7b46": {
          "model_module": "@jupyter-widgets/controls",
          "model_name": "HTMLModel",
          "model_module_version": "1.5.0",
          "state": {
            "_dom_classes": [],
            "_model_module": "@jupyter-widgets/controls",
            "_model_module_version": "1.5.0",
            "_model_name": "HTMLModel",
            "_view_count": null,
            "_view_module": "@jupyter-widgets/controls",
            "_view_module_version": "1.5.0",
            "_view_name": "HTMLView",
            "description": "",
            "description_tooltip": null,
            "layout": "IPY_MODEL_2b2235143a2d4255a69b2ddc959e5641",
            "placeholder": "​",
            "style": "IPY_MODEL_5fe0e742725a453db1e4ca9576db7896",
            "value": "100%"
          }
        },
        "18604991077f4ca6bed6c546fe1a6392": {
          "model_module": "@jupyter-widgets/controls",
          "model_name": "FloatProgressModel",
          "model_module_version": "1.5.0",
          "state": {
            "_dom_classes": [],
            "_model_module": "@jupyter-widgets/controls",
            "_model_module_version": "1.5.0",
            "_model_name": "FloatProgressModel",
            "_view_count": null,
            "_view_module": "@jupyter-widgets/controls",
            "_view_module_version": "1.5.0",
            "_view_name": "ProgressView",
            "bar_style": "success",
            "description": "",
            "description_tooltip": null,
            "layout": "IPY_MODEL_3fc53ea8d2d847769fe18926fba89322",
            "max": 89,
            "min": 0,
            "orientation": "horizontal",
            "style": "IPY_MODEL_88eb1b36b307466a89d2c191205dd3a7",
            "value": 89
          }
        },
        "f1a51a3982a44cb38e613b367abd015b": {
          "model_module": "@jupyter-widgets/controls",
          "model_name": "HTMLModel",
          "model_module_version": "1.5.0",
          "state": {
            "_dom_classes": [],
            "_model_module": "@jupyter-widgets/controls",
            "_model_module_version": "1.5.0",
            "_model_name": "HTMLModel",
            "_view_count": null,
            "_view_module": "@jupyter-widgets/controls",
            "_view_module_version": "1.5.0",
            "_view_name": "HTMLView",
            "description": "",
            "description_tooltip": null,
            "layout": "IPY_MODEL_9079ea0e46e540c1ac628c19a01fa303",
            "placeholder": "​",
            "style": "IPY_MODEL_d718e569b348411d9a9a49f091523931",
            "value": " 89/89 [00:00&lt;00:00, 262.57ba/s]"
          }
        },
        "2653b089deb645c69f37cca89ed2c102": {
          "model_module": "@jupyter-widgets/base",
          "model_name": "LayoutModel",
          "model_module_version": "1.2.0",
          "state": {
            "_model_module": "@jupyter-widgets/base",
            "_model_module_version": "1.2.0",
            "_model_name": "LayoutModel",
            "_view_count": null,
            "_view_module": "@jupyter-widgets/base",
            "_view_module_version": "1.2.0",
            "_view_name": "LayoutView",
            "align_content": null,
            "align_items": null,
            "align_self": null,
            "border": null,
            "bottom": null,
            "display": null,
            "flex": null,
            "flex_flow": null,
            "grid_area": null,
            "grid_auto_columns": null,
            "grid_auto_flow": null,
            "grid_auto_rows": null,
            "grid_column": null,
            "grid_gap": null,
            "grid_row": null,
            "grid_template_areas": null,
            "grid_template_columns": null,
            "grid_template_rows": null,
            "height": null,
            "justify_content": null,
            "justify_items": null,
            "left": null,
            "margin": null,
            "max_height": null,
            "max_width": null,
            "min_height": null,
            "min_width": null,
            "object_fit": null,
            "object_position": null,
            "order": null,
            "overflow": null,
            "overflow_x": null,
            "overflow_y": null,
            "padding": null,
            "right": null,
            "top": null,
            "visibility": null,
            "width": null
          }
        },
        "2b2235143a2d4255a69b2ddc959e5641": {
          "model_module": "@jupyter-widgets/base",
          "model_name": "LayoutModel",
          "model_module_version": "1.2.0",
          "state": {
            "_model_module": "@jupyter-widgets/base",
            "_model_module_version": "1.2.0",
            "_model_name": "LayoutModel",
            "_view_count": null,
            "_view_module": "@jupyter-widgets/base",
            "_view_module_version": "1.2.0",
            "_view_name": "LayoutView",
            "align_content": null,
            "align_items": null,
            "align_self": null,
            "border": null,
            "bottom": null,
            "display": null,
            "flex": null,
            "flex_flow": null,
            "grid_area": null,
            "grid_auto_columns": null,
            "grid_auto_flow": null,
            "grid_auto_rows": null,
            "grid_column": null,
            "grid_gap": null,
            "grid_row": null,
            "grid_template_areas": null,
            "grid_template_columns": null,
            "grid_template_rows": null,
            "height": null,
            "justify_content": null,
            "justify_items": null,
            "left": null,
            "margin": null,
            "max_height": null,
            "max_width": null,
            "min_height": null,
            "min_width": null,
            "object_fit": null,
            "object_position": null,
            "order": null,
            "overflow": null,
            "overflow_x": null,
            "overflow_y": null,
            "padding": null,
            "right": null,
            "top": null,
            "visibility": null,
            "width": null
          }
        },
        "5fe0e742725a453db1e4ca9576db7896": {
          "model_module": "@jupyter-widgets/controls",
          "model_name": "DescriptionStyleModel",
          "model_module_version": "1.5.0",
          "state": {
            "_model_module": "@jupyter-widgets/controls",
            "_model_module_version": "1.5.0",
            "_model_name": "DescriptionStyleModel",
            "_view_count": null,
            "_view_module": "@jupyter-widgets/base",
            "_view_module_version": "1.2.0",
            "_view_name": "StyleView",
            "description_width": ""
          }
        },
        "3fc53ea8d2d847769fe18926fba89322": {
          "model_module": "@jupyter-widgets/base",
          "model_name": "LayoutModel",
          "model_module_version": "1.2.0",
          "state": {
            "_model_module": "@jupyter-widgets/base",
            "_model_module_version": "1.2.0",
            "_model_name": "LayoutModel",
            "_view_count": null,
            "_view_module": "@jupyter-widgets/base",
            "_view_module_version": "1.2.0",
            "_view_name": "LayoutView",
            "align_content": null,
            "align_items": null,
            "align_self": null,
            "border": null,
            "bottom": null,
            "display": null,
            "flex": null,
            "flex_flow": null,
            "grid_area": null,
            "grid_auto_columns": null,
            "grid_auto_flow": null,
            "grid_auto_rows": null,
            "grid_column": null,
            "grid_gap": null,
            "grid_row": null,
            "grid_template_areas": null,
            "grid_template_columns": null,
            "grid_template_rows": null,
            "height": null,
            "justify_content": null,
            "justify_items": null,
            "left": null,
            "margin": null,
            "max_height": null,
            "max_width": null,
            "min_height": null,
            "min_width": null,
            "object_fit": null,
            "object_position": null,
            "order": null,
            "overflow": null,
            "overflow_x": null,
            "overflow_y": null,
            "padding": null,
            "right": null,
            "top": null,
            "visibility": null,
            "width": null
          }
        },
        "88eb1b36b307466a89d2c191205dd3a7": {
          "model_module": "@jupyter-widgets/controls",
          "model_name": "ProgressStyleModel",
          "model_module_version": "1.5.0",
          "state": {
            "_model_module": "@jupyter-widgets/controls",
            "_model_module_version": "1.5.0",
            "_model_name": "ProgressStyleModel",
            "_view_count": null,
            "_view_module": "@jupyter-widgets/base",
            "_view_module_version": "1.2.0",
            "_view_name": "StyleView",
            "bar_color": null,
            "description_width": ""
          }
        },
        "9079ea0e46e540c1ac628c19a01fa303": {
          "model_module": "@jupyter-widgets/base",
          "model_name": "LayoutModel",
          "model_module_version": "1.2.0",
          "state": {
            "_model_module": "@jupyter-widgets/base",
            "_model_module_version": "1.2.0",
            "_model_name": "LayoutModel",
            "_view_count": null,
            "_view_module": "@jupyter-widgets/base",
            "_view_module_version": "1.2.0",
            "_view_name": "LayoutView",
            "align_content": null,
            "align_items": null,
            "align_self": null,
            "border": null,
            "bottom": null,
            "display": null,
            "flex": null,
            "flex_flow": null,
            "grid_area": null,
            "grid_auto_columns": null,
            "grid_auto_flow": null,
            "grid_auto_rows": null,
            "grid_column": null,
            "grid_gap": null,
            "grid_row": null,
            "grid_template_areas": null,
            "grid_template_columns": null,
            "grid_template_rows": null,
            "height": null,
            "justify_content": null,
            "justify_items": null,
            "left": null,
            "margin": null,
            "max_height": null,
            "max_width": null,
            "min_height": null,
            "min_width": null,
            "object_fit": null,
            "object_position": null,
            "order": null,
            "overflow": null,
            "overflow_x": null,
            "overflow_y": null,
            "padding": null,
            "right": null,
            "top": null,
            "visibility": null,
            "width": null
          }
        },
        "d718e569b348411d9a9a49f091523931": {
          "model_module": "@jupyter-widgets/controls",
          "model_name": "DescriptionStyleModel",
          "model_module_version": "1.5.0",
          "state": {
            "_model_module": "@jupyter-widgets/controls",
            "_model_module_version": "1.5.0",
            "_model_name": "DescriptionStyleModel",
            "_view_count": null,
            "_view_module": "@jupyter-widgets/base",
            "_view_module_version": "1.2.0",
            "_view_name": "StyleView",
            "description_width": ""
          }
        },
        "9cf7a200e92c43c79978cb3ce0a2195a": {
          "model_module": "@jupyter-widgets/controls",
          "model_name": "HBoxModel",
          "model_module_version": "1.5.0",
          "state": {
            "_dom_classes": [],
            "_model_module": "@jupyter-widgets/controls",
            "_model_module_version": "1.5.0",
            "_model_name": "HBoxModel",
            "_view_count": null,
            "_view_module": "@jupyter-widgets/controls",
            "_view_module_version": "1.5.0",
            "_view_name": "HBoxView",
            "box_style": "",
            "children": [
              "IPY_MODEL_6630133af05247c48689620737e6a1c1",
              "IPY_MODEL_8011648450104ce6b1739e72f4c2afff",
              "IPY_MODEL_3f5e61132d50431dabcc2d3ee4070834"
            ],
            "layout": "IPY_MODEL_6e3084761f6c45bfa4db6605bd08bae3"
          }
        },
        "6630133af05247c48689620737e6a1c1": {
          "model_module": "@jupyter-widgets/controls",
          "model_name": "HTMLModel",
          "model_module_version": "1.5.0",
          "state": {
            "_dom_classes": [],
            "_model_module": "@jupyter-widgets/controls",
            "_model_module_version": "1.5.0",
            "_model_name": "HTMLModel",
            "_view_count": null,
            "_view_module": "@jupyter-widgets/controls",
            "_view_module_version": "1.5.0",
            "_view_name": "HTMLView",
            "description": "",
            "description_tooltip": null,
            "layout": "IPY_MODEL_17dc65654668440482a4b30ec7d232a1",
            "placeholder": "​",
            "style": "IPY_MODEL_d948c58d60c24974bd93b8812e987042",
            "value": "Downloading: "
          }
        },
        "8011648450104ce6b1739e72f4c2afff": {
          "model_module": "@jupyter-widgets/controls",
          "model_name": "FloatProgressModel",
          "model_module_version": "1.5.0",
          "state": {
            "_dom_classes": [],
            "_model_module": "@jupyter-widgets/controls",
            "_model_module_version": "1.5.0",
            "_model_name": "FloatProgressModel",
            "_view_count": null,
            "_view_module": "@jupyter-widgets/controls",
            "_view_module_version": "1.5.0",
            "_view_name": "ProgressView",
            "bar_style": "success",
            "description": "",
            "description_tooltip": null,
            "layout": "IPY_MODEL_6b1d64dd8b574a2fae10d685c90a4d08",
            "max": 1901,
            "min": 0,
            "orientation": "horizontal",
            "style": "IPY_MODEL_28135a8b4d7b490f9c55488697683fe4",
            "value": 1901
          }
        },
        "3f5e61132d50431dabcc2d3ee4070834": {
          "model_module": "@jupyter-widgets/controls",
          "model_name": "HTMLModel",
          "model_module_version": "1.5.0",
          "state": {
            "_dom_classes": [],
            "_model_module": "@jupyter-widgets/controls",
            "_model_module_version": "1.5.0",
            "_model_name": "HTMLModel",
            "_view_count": null,
            "_view_module": "@jupyter-widgets/controls",
            "_view_module_version": "1.5.0",
            "_view_name": "HTMLView",
            "description": "",
            "description_tooltip": null,
            "layout": "IPY_MODEL_85268c0ef7314c1d8c5e99d34098553e",
            "placeholder": "​",
            "style": "IPY_MODEL_d3c213483aa74bd695ecf099095bff9e",
            "value": " 4.48k/? [00:00&lt;00:00, 175kB/s]"
          }
        },
        "6e3084761f6c45bfa4db6605bd08bae3": {
          "model_module": "@jupyter-widgets/base",
          "model_name": "LayoutModel",
          "model_module_version": "1.2.0",
          "state": {
            "_model_module": "@jupyter-widgets/base",
            "_model_module_version": "1.2.0",
            "_model_name": "LayoutModel",
            "_view_count": null,
            "_view_module": "@jupyter-widgets/base",
            "_view_module_version": "1.2.0",
            "_view_name": "LayoutView",
            "align_content": null,
            "align_items": null,
            "align_self": null,
            "border": null,
            "bottom": null,
            "display": null,
            "flex": null,
            "flex_flow": null,
            "grid_area": null,
            "grid_auto_columns": null,
            "grid_auto_flow": null,
            "grid_auto_rows": null,
            "grid_column": null,
            "grid_gap": null,
            "grid_row": null,
            "grid_template_areas": null,
            "grid_template_columns": null,
            "grid_template_rows": null,
            "height": null,
            "justify_content": null,
            "justify_items": null,
            "left": null,
            "margin": null,
            "max_height": null,
            "max_width": null,
            "min_height": null,
            "min_width": null,
            "object_fit": null,
            "object_position": null,
            "order": null,
            "overflow": null,
            "overflow_x": null,
            "overflow_y": null,
            "padding": null,
            "right": null,
            "top": null,
            "visibility": null,
            "width": null
          }
        },
        "17dc65654668440482a4b30ec7d232a1": {
          "model_module": "@jupyter-widgets/base",
          "model_name": "LayoutModel",
          "model_module_version": "1.2.0",
          "state": {
            "_model_module": "@jupyter-widgets/base",
            "_model_module_version": "1.2.0",
            "_model_name": "LayoutModel",
            "_view_count": null,
            "_view_module": "@jupyter-widgets/base",
            "_view_module_version": "1.2.0",
            "_view_name": "LayoutView",
            "align_content": null,
            "align_items": null,
            "align_self": null,
            "border": null,
            "bottom": null,
            "display": null,
            "flex": null,
            "flex_flow": null,
            "grid_area": null,
            "grid_auto_columns": null,
            "grid_auto_flow": null,
            "grid_auto_rows": null,
            "grid_column": null,
            "grid_gap": null,
            "grid_row": null,
            "grid_template_areas": null,
            "grid_template_columns": null,
            "grid_template_rows": null,
            "height": null,
            "justify_content": null,
            "justify_items": null,
            "left": null,
            "margin": null,
            "max_height": null,
            "max_width": null,
            "min_height": null,
            "min_width": null,
            "object_fit": null,
            "object_position": null,
            "order": null,
            "overflow": null,
            "overflow_x": null,
            "overflow_y": null,
            "padding": null,
            "right": null,
            "top": null,
            "visibility": null,
            "width": null
          }
        },
        "d948c58d60c24974bd93b8812e987042": {
          "model_module": "@jupyter-widgets/controls",
          "model_name": "DescriptionStyleModel",
          "model_module_version": "1.5.0",
          "state": {
            "_model_module": "@jupyter-widgets/controls",
            "_model_module_version": "1.5.0",
            "_model_name": "DescriptionStyleModel",
            "_view_count": null,
            "_view_module": "@jupyter-widgets/base",
            "_view_module_version": "1.2.0",
            "_view_name": "StyleView",
            "description_width": ""
          }
        },
        "6b1d64dd8b574a2fae10d685c90a4d08": {
          "model_module": "@jupyter-widgets/base",
          "model_name": "LayoutModel",
          "model_module_version": "1.2.0",
          "state": {
            "_model_module": "@jupyter-widgets/base",
            "_model_module_version": "1.2.0",
            "_model_name": "LayoutModel",
            "_view_count": null,
            "_view_module": "@jupyter-widgets/base",
            "_view_module_version": "1.2.0",
            "_view_name": "LayoutView",
            "align_content": null,
            "align_items": null,
            "align_self": null,
            "border": null,
            "bottom": null,
            "display": null,
            "flex": null,
            "flex_flow": null,
            "grid_area": null,
            "grid_auto_columns": null,
            "grid_auto_flow": null,
            "grid_auto_rows": null,
            "grid_column": null,
            "grid_gap": null,
            "grid_row": null,
            "grid_template_areas": null,
            "grid_template_columns": null,
            "grid_template_rows": null,
            "height": null,
            "justify_content": null,
            "justify_items": null,
            "left": null,
            "margin": null,
            "max_height": null,
            "max_width": null,
            "min_height": null,
            "min_width": null,
            "object_fit": null,
            "object_position": null,
            "order": null,
            "overflow": null,
            "overflow_x": null,
            "overflow_y": null,
            "padding": null,
            "right": null,
            "top": null,
            "visibility": null,
            "width": null
          }
        },
        "28135a8b4d7b490f9c55488697683fe4": {
          "model_module": "@jupyter-widgets/controls",
          "model_name": "ProgressStyleModel",
          "model_module_version": "1.5.0",
          "state": {
            "_model_module": "@jupyter-widgets/controls",
            "_model_module_version": "1.5.0",
            "_model_name": "ProgressStyleModel",
            "_view_count": null,
            "_view_module": "@jupyter-widgets/base",
            "_view_module_version": "1.2.0",
            "_view_name": "StyleView",
            "bar_color": null,
            "description_width": ""
          }
        },
        "85268c0ef7314c1d8c5e99d34098553e": {
          "model_module": "@jupyter-widgets/base",
          "model_name": "LayoutModel",
          "model_module_version": "1.2.0",
          "state": {
            "_model_module": "@jupyter-widgets/base",
            "_model_module_version": "1.2.0",
            "_model_name": "LayoutModel",
            "_view_count": null,
            "_view_module": "@jupyter-widgets/base",
            "_view_module_version": "1.2.0",
            "_view_name": "LayoutView",
            "align_content": null,
            "align_items": null,
            "align_self": null,
            "border": null,
            "bottom": null,
            "display": null,
            "flex": null,
            "flex_flow": null,
            "grid_area": null,
            "grid_auto_columns": null,
            "grid_auto_flow": null,
            "grid_auto_rows": null,
            "grid_column": null,
            "grid_gap": null,
            "grid_row": null,
            "grid_template_areas": null,
            "grid_template_columns": null,
            "grid_template_rows": null,
            "height": null,
            "justify_content": null,
            "justify_items": null,
            "left": null,
            "margin": null,
            "max_height": null,
            "max_width": null,
            "min_height": null,
            "min_width": null,
            "object_fit": null,
            "object_position": null,
            "order": null,
            "overflow": null,
            "overflow_x": null,
            "overflow_y": null,
            "padding": null,
            "right": null,
            "top": null,
            "visibility": null,
            "width": null
          }
        },
        "d3c213483aa74bd695ecf099095bff9e": {
          "model_module": "@jupyter-widgets/controls",
          "model_name": "DescriptionStyleModel",
          "model_module_version": "1.5.0",
          "state": {
            "_model_module": "@jupyter-widgets/controls",
            "_model_module_version": "1.5.0",
            "_model_name": "DescriptionStyleModel",
            "_view_count": null,
            "_view_module": "@jupyter-widgets/base",
            "_view_module_version": "1.2.0",
            "_view_name": "StyleView",
            "description_width": ""
          }
        },
        "74d9eeb3d0b24b4a8a7ff0375ee475ae": {
          "model_module": "@jupyter-widgets/controls",
          "model_name": "HBoxModel",
          "model_module_version": "1.5.0",
          "state": {
            "_dom_classes": [],
            "_model_module": "@jupyter-widgets/controls",
            "_model_module_version": "1.5.0",
            "_model_name": "HBoxModel",
            "_view_count": null,
            "_view_module": "@jupyter-widgets/controls",
            "_view_module_version": "1.5.0",
            "_view_name": "HBoxView",
            "box_style": "",
            "children": [
              "IPY_MODEL_ab7273b26a3241deaa47f624ad66264d",
              "IPY_MODEL_23874f307fc945b5bf960f40e3f4bec3",
              "IPY_MODEL_d3020670d9c243e6849bb51fa0f5b521"
            ],
            "layout": "IPY_MODEL_d472c0de482447eaa81b42e12607637d"
          }
        },
        "ab7273b26a3241deaa47f624ad66264d": {
          "model_module": "@jupyter-widgets/controls",
          "model_name": "HTMLModel",
          "model_module_version": "1.5.0",
          "state": {
            "_dom_classes": [],
            "_model_module": "@jupyter-widgets/controls",
            "_model_module_version": "1.5.0",
            "_model_name": "HTMLModel",
            "_view_count": null,
            "_view_module": "@jupyter-widgets/controls",
            "_view_module_version": "1.5.0",
            "_view_name": "HTMLView",
            "description": "",
            "description_tooltip": null,
            "layout": "IPY_MODEL_063e6036aa5248df83ffb44d335c991e",
            "placeholder": "​",
            "style": "IPY_MODEL_8fb6319b465d4fc9a368db429521a41d",
            "value": "Downloading: 100%"
          }
        },
        "23874f307fc945b5bf960f40e3f4bec3": {
          "model_module": "@jupyter-widgets/controls",
          "model_name": "FloatProgressModel",
          "model_module_version": "1.5.0",
          "state": {
            "_dom_classes": [],
            "_model_module": "@jupyter-widgets/controls",
            "_model_module_version": "1.5.0",
            "_model_name": "FloatProgressModel",
            "_view_count": null,
            "_view_module": "@jupyter-widgets/controls",
            "_view_module_version": "1.5.0",
            "_view_name": "ProgressView",
            "bar_style": "success",
            "description": "",
            "description_tooltip": null,
            "layout": "IPY_MODEL_2778e3473cca4b0d94c1240f1c59914a",
            "max": 1842,
            "min": 0,
            "orientation": "horizontal",
            "style": "IPY_MODEL_a290b8f7d69040ebb99e9623e86994ff",
            "value": 1842
          }
        },
        "d3020670d9c243e6849bb51fa0f5b521": {
          "model_module": "@jupyter-widgets/controls",
          "model_name": "HTMLModel",
          "model_module_version": "1.5.0",
          "state": {
            "_dom_classes": [],
            "_model_module": "@jupyter-widgets/controls",
            "_model_module_version": "1.5.0",
            "_model_name": "HTMLModel",
            "_view_count": null,
            "_view_module": "@jupyter-widgets/controls",
            "_view_module_version": "1.5.0",
            "_view_name": "HTMLView",
            "description": "",
            "description_tooltip": null,
            "layout": "IPY_MODEL_b5f5b77b53334613b387cc7fe8a6a5b9",
            "placeholder": "​",
            "style": "IPY_MODEL_82089a7508c64ab9896de5a72c32af2c",
            "value": " 1.80k/1.80k [00:00&lt;00:00, 79.3kB/s]"
          }
        },
        "d472c0de482447eaa81b42e12607637d": {
          "model_module": "@jupyter-widgets/base",
          "model_name": "LayoutModel",
          "model_module_version": "1.2.0",
          "state": {
            "_model_module": "@jupyter-widgets/base",
            "_model_module_version": "1.2.0",
            "_model_name": "LayoutModel",
            "_view_count": null,
            "_view_module": "@jupyter-widgets/base",
            "_view_module_version": "1.2.0",
            "_view_name": "LayoutView",
            "align_content": null,
            "align_items": null,
            "align_self": null,
            "border": null,
            "bottom": null,
            "display": null,
            "flex": null,
            "flex_flow": null,
            "grid_area": null,
            "grid_auto_columns": null,
            "grid_auto_flow": null,
            "grid_auto_rows": null,
            "grid_column": null,
            "grid_gap": null,
            "grid_row": null,
            "grid_template_areas": null,
            "grid_template_columns": null,
            "grid_template_rows": null,
            "height": null,
            "justify_content": null,
            "justify_items": null,
            "left": null,
            "margin": null,
            "max_height": null,
            "max_width": null,
            "min_height": null,
            "min_width": null,
            "object_fit": null,
            "object_position": null,
            "order": null,
            "overflow": null,
            "overflow_x": null,
            "overflow_y": null,
            "padding": null,
            "right": null,
            "top": null,
            "visibility": null,
            "width": null
          }
        },
        "063e6036aa5248df83ffb44d335c991e": {
          "model_module": "@jupyter-widgets/base",
          "model_name": "LayoutModel",
          "model_module_version": "1.2.0",
          "state": {
            "_model_module": "@jupyter-widgets/base",
            "_model_module_version": "1.2.0",
            "_model_name": "LayoutModel",
            "_view_count": null,
            "_view_module": "@jupyter-widgets/base",
            "_view_module_version": "1.2.0",
            "_view_name": "LayoutView",
            "align_content": null,
            "align_items": null,
            "align_self": null,
            "border": null,
            "bottom": null,
            "display": null,
            "flex": null,
            "flex_flow": null,
            "grid_area": null,
            "grid_auto_columns": null,
            "grid_auto_flow": null,
            "grid_auto_rows": null,
            "grid_column": null,
            "grid_gap": null,
            "grid_row": null,
            "grid_template_areas": null,
            "grid_template_columns": null,
            "grid_template_rows": null,
            "height": null,
            "justify_content": null,
            "justify_items": null,
            "left": null,
            "margin": null,
            "max_height": null,
            "max_width": null,
            "min_height": null,
            "min_width": null,
            "object_fit": null,
            "object_position": null,
            "order": null,
            "overflow": null,
            "overflow_x": null,
            "overflow_y": null,
            "padding": null,
            "right": null,
            "top": null,
            "visibility": null,
            "width": null
          }
        },
        "8fb6319b465d4fc9a368db429521a41d": {
          "model_module": "@jupyter-widgets/controls",
          "model_name": "DescriptionStyleModel",
          "model_module_version": "1.5.0",
          "state": {
            "_model_module": "@jupyter-widgets/controls",
            "_model_module_version": "1.5.0",
            "_model_name": "DescriptionStyleModel",
            "_view_count": null,
            "_view_module": "@jupyter-widgets/base",
            "_view_module_version": "1.2.0",
            "_view_name": "StyleView",
            "description_width": ""
          }
        },
        "2778e3473cca4b0d94c1240f1c59914a": {
          "model_module": "@jupyter-widgets/base",
          "model_name": "LayoutModel",
          "model_module_version": "1.2.0",
          "state": {
            "_model_module": "@jupyter-widgets/base",
            "_model_module_version": "1.2.0",
            "_model_name": "LayoutModel",
            "_view_count": null,
            "_view_module": "@jupyter-widgets/base",
            "_view_module_version": "1.2.0",
            "_view_name": "LayoutView",
            "align_content": null,
            "align_items": null,
            "align_self": null,
            "border": null,
            "bottom": null,
            "display": null,
            "flex": null,
            "flex_flow": null,
            "grid_area": null,
            "grid_auto_columns": null,
            "grid_auto_flow": null,
            "grid_auto_rows": null,
            "grid_column": null,
            "grid_gap": null,
            "grid_row": null,
            "grid_template_areas": null,
            "grid_template_columns": null,
            "grid_template_rows": null,
            "height": null,
            "justify_content": null,
            "justify_items": null,
            "left": null,
            "margin": null,
            "max_height": null,
            "max_width": null,
            "min_height": null,
            "min_width": null,
            "object_fit": null,
            "object_position": null,
            "order": null,
            "overflow": null,
            "overflow_x": null,
            "overflow_y": null,
            "padding": null,
            "right": null,
            "top": null,
            "visibility": null,
            "width": null
          }
        },
        "a290b8f7d69040ebb99e9623e86994ff": {
          "model_module": "@jupyter-widgets/controls",
          "model_name": "ProgressStyleModel",
          "model_module_version": "1.5.0",
          "state": {
            "_model_module": "@jupyter-widgets/controls",
            "_model_module_version": "1.5.0",
            "_model_name": "ProgressStyleModel",
            "_view_count": null,
            "_view_module": "@jupyter-widgets/base",
            "_view_module_version": "1.2.0",
            "_view_name": "StyleView",
            "bar_color": null,
            "description_width": ""
          }
        },
        "b5f5b77b53334613b387cc7fe8a6a5b9": {
          "model_module": "@jupyter-widgets/base",
          "model_name": "LayoutModel",
          "model_module_version": "1.2.0",
          "state": {
            "_model_module": "@jupyter-widgets/base",
            "_model_module_version": "1.2.0",
            "_model_name": "LayoutModel",
            "_view_count": null,
            "_view_module": "@jupyter-widgets/base",
            "_view_module_version": "1.2.0",
            "_view_name": "LayoutView",
            "align_content": null,
            "align_items": null,
            "align_self": null,
            "border": null,
            "bottom": null,
            "display": null,
            "flex": null,
            "flex_flow": null,
            "grid_area": null,
            "grid_auto_columns": null,
            "grid_auto_flow": null,
            "grid_auto_rows": null,
            "grid_column": null,
            "grid_gap": null,
            "grid_row": null,
            "grid_template_areas": null,
            "grid_template_columns": null,
            "grid_template_rows": null,
            "height": null,
            "justify_content": null,
            "justify_items": null,
            "left": null,
            "margin": null,
            "max_height": null,
            "max_width": null,
            "min_height": null,
            "min_width": null,
            "object_fit": null,
            "object_position": null,
            "order": null,
            "overflow": null,
            "overflow_x": null,
            "overflow_y": null,
            "padding": null,
            "right": null,
            "top": null,
            "visibility": null,
            "width": null
          }
        },
        "82089a7508c64ab9896de5a72c32af2c": {
          "model_module": "@jupyter-widgets/controls",
          "model_name": "DescriptionStyleModel",
          "model_module_version": "1.5.0",
          "state": {
            "_model_module": "@jupyter-widgets/controls",
            "_model_module_version": "1.5.0",
            "_model_name": "DescriptionStyleModel",
            "_view_count": null,
            "_view_module": "@jupyter-widgets/base",
            "_view_module_version": "1.2.0",
            "_view_name": "StyleView",
            "description_width": ""
          }
        },
        "c86c1bc641a8421b8c1fbae5018057d5": {
          "model_module": "@jupyter-widgets/controls",
          "model_name": "HBoxModel",
          "model_module_version": "1.5.0",
          "state": {
            "_dom_classes": [],
            "_model_module": "@jupyter-widgets/controls",
            "_model_module_version": "1.5.0",
            "_model_name": "HBoxModel",
            "_view_count": null,
            "_view_module": "@jupyter-widgets/controls",
            "_view_module_version": "1.5.0",
            "_view_name": "HBoxView",
            "box_style": "",
            "children": [
              "IPY_MODEL_4f1cb83d9d104567860a46c77538e579",
              "IPY_MODEL_4f39c4d845604bc89795c427e6d886b4",
              "IPY_MODEL_dd52ad6728da4abd85b51f97428a0488"
            ],
            "layout": "IPY_MODEL_3209f10c2fa84f13ad38460ad5792c22"
          }
        },
        "4f1cb83d9d104567860a46c77538e579": {
          "model_module": "@jupyter-widgets/controls",
          "model_name": "HTMLModel",
          "model_module_version": "1.5.0",
          "state": {
            "_dom_classes": [],
            "_model_module": "@jupyter-widgets/controls",
            "_model_module_version": "1.5.0",
            "_model_name": "HTMLModel",
            "_view_count": null,
            "_view_module": "@jupyter-widgets/controls",
            "_view_module_version": "1.5.0",
            "_view_name": "HTMLView",
            "description": "",
            "description_tooltip": null,
            "layout": "IPY_MODEL_4495857d78334d44a221a55dc8d10c9c",
            "placeholder": "​",
            "style": "IPY_MODEL_64bb97dfcc3c494e9af2664520de1bd3",
            "value": "Downloading: 100%"
          }
        },
        "4f39c4d845604bc89795c427e6d886b4": {
          "model_module": "@jupyter-widgets/controls",
          "model_name": "FloatProgressModel",
          "model_module_version": "1.5.0",
          "state": {
            "_dom_classes": [],
            "_model_module": "@jupyter-widgets/controls",
            "_model_module_version": "1.5.0",
            "_model_name": "FloatProgressModel",
            "_view_count": null,
            "_view_module": "@jupyter-widgets/controls",
            "_view_module_version": "1.5.0",
            "_view_name": "ProgressView",
            "bar_style": "success",
            "description": "",
            "description_tooltip": null,
            "layout": "IPY_MODEL_8189f81df9a440b1abdc053a5b8851a2",
            "max": 380267417,
            "min": 0,
            "orientation": "horizontal",
            "style": "IPY_MODEL_2ed9d22dd5244e1f878f97b15edfc285",
            "value": 380267417
          }
        },
        "dd52ad6728da4abd85b51f97428a0488": {
          "model_module": "@jupyter-widgets/controls",
          "model_name": "HTMLModel",
          "model_module_version": "1.5.0",
          "state": {
            "_dom_classes": [],
            "_model_module": "@jupyter-widgets/controls",
            "_model_module_version": "1.5.0",
            "_model_name": "HTMLModel",
            "_view_count": null,
            "_view_module": "@jupyter-widgets/controls",
            "_view_module_version": "1.5.0",
            "_view_name": "HTMLView",
            "description": "",
            "description_tooltip": null,
            "layout": "IPY_MODEL_888111a2d37c4cf2862c528accf093e1",
            "placeholder": "​",
            "style": "IPY_MODEL_cd13c974191f4488b3a3966902d87bd2",
            "value": " 363M/363M [00:09&lt;00:00, 39.2MB/s]"
          }
        },
        "3209f10c2fa84f13ad38460ad5792c22": {
          "model_module": "@jupyter-widgets/base",
          "model_name": "LayoutModel",
          "model_module_version": "1.2.0",
          "state": {
            "_model_module": "@jupyter-widgets/base",
            "_model_module_version": "1.2.0",
            "_model_name": "LayoutModel",
            "_view_count": null,
            "_view_module": "@jupyter-widgets/base",
            "_view_module_version": "1.2.0",
            "_view_name": "LayoutView",
            "align_content": null,
            "align_items": null,
            "align_self": null,
            "border": null,
            "bottom": null,
            "display": null,
            "flex": null,
            "flex_flow": null,
            "grid_area": null,
            "grid_auto_columns": null,
            "grid_auto_flow": null,
            "grid_auto_rows": null,
            "grid_column": null,
            "grid_gap": null,
            "grid_row": null,
            "grid_template_areas": null,
            "grid_template_columns": null,
            "grid_template_rows": null,
            "height": null,
            "justify_content": null,
            "justify_items": null,
            "left": null,
            "margin": null,
            "max_height": null,
            "max_width": null,
            "min_height": null,
            "min_width": null,
            "object_fit": null,
            "object_position": null,
            "order": null,
            "overflow": null,
            "overflow_x": null,
            "overflow_y": null,
            "padding": null,
            "right": null,
            "top": null,
            "visibility": null,
            "width": null
          }
        },
        "4495857d78334d44a221a55dc8d10c9c": {
          "model_module": "@jupyter-widgets/base",
          "model_name": "LayoutModel",
          "model_module_version": "1.2.0",
          "state": {
            "_model_module": "@jupyter-widgets/base",
            "_model_module_version": "1.2.0",
            "_model_name": "LayoutModel",
            "_view_count": null,
            "_view_module": "@jupyter-widgets/base",
            "_view_module_version": "1.2.0",
            "_view_name": "LayoutView",
            "align_content": null,
            "align_items": null,
            "align_self": null,
            "border": null,
            "bottom": null,
            "display": null,
            "flex": null,
            "flex_flow": null,
            "grid_area": null,
            "grid_auto_columns": null,
            "grid_auto_flow": null,
            "grid_auto_rows": null,
            "grid_column": null,
            "grid_gap": null,
            "grid_row": null,
            "grid_template_areas": null,
            "grid_template_columns": null,
            "grid_template_rows": null,
            "height": null,
            "justify_content": null,
            "justify_items": null,
            "left": null,
            "margin": null,
            "max_height": null,
            "max_width": null,
            "min_height": null,
            "min_width": null,
            "object_fit": null,
            "object_position": null,
            "order": null,
            "overflow": null,
            "overflow_x": null,
            "overflow_y": null,
            "padding": null,
            "right": null,
            "top": null,
            "visibility": null,
            "width": null
          }
        },
        "64bb97dfcc3c494e9af2664520de1bd3": {
          "model_module": "@jupyter-widgets/controls",
          "model_name": "DescriptionStyleModel",
          "model_module_version": "1.5.0",
          "state": {
            "_model_module": "@jupyter-widgets/controls",
            "_model_module_version": "1.5.0",
            "_model_name": "DescriptionStyleModel",
            "_view_count": null,
            "_view_module": "@jupyter-widgets/base",
            "_view_module_version": "1.2.0",
            "_view_name": "StyleView",
            "description_width": ""
          }
        },
        "8189f81df9a440b1abdc053a5b8851a2": {
          "model_module": "@jupyter-widgets/base",
          "model_name": "LayoutModel",
          "model_module_version": "1.2.0",
          "state": {
            "_model_module": "@jupyter-widgets/base",
            "_model_module_version": "1.2.0",
            "_model_name": "LayoutModel",
            "_view_count": null,
            "_view_module": "@jupyter-widgets/base",
            "_view_module_version": "1.2.0",
            "_view_name": "LayoutView",
            "align_content": null,
            "align_items": null,
            "align_self": null,
            "border": null,
            "bottom": null,
            "display": null,
            "flex": null,
            "flex_flow": null,
            "grid_area": null,
            "grid_auto_columns": null,
            "grid_auto_flow": null,
            "grid_auto_rows": null,
            "grid_column": null,
            "grid_gap": null,
            "grid_row": null,
            "grid_template_areas": null,
            "grid_template_columns": null,
            "grid_template_rows": null,
            "height": null,
            "justify_content": null,
            "justify_items": null,
            "left": null,
            "margin": null,
            "max_height": null,
            "max_width": null,
            "min_height": null,
            "min_width": null,
            "object_fit": null,
            "object_position": null,
            "order": null,
            "overflow": null,
            "overflow_x": null,
            "overflow_y": null,
            "padding": null,
            "right": null,
            "top": null,
            "visibility": null,
            "width": null
          }
        },
        "2ed9d22dd5244e1f878f97b15edfc285": {
          "model_module": "@jupyter-widgets/controls",
          "model_name": "ProgressStyleModel",
          "model_module_version": "1.5.0",
          "state": {
            "_model_module": "@jupyter-widgets/controls",
            "_model_module_version": "1.5.0",
            "_model_name": "ProgressStyleModel",
            "_view_count": null,
            "_view_module": "@jupyter-widgets/base",
            "_view_module_version": "1.2.0",
            "_view_name": "StyleView",
            "bar_color": null,
            "description_width": ""
          }
        },
        "888111a2d37c4cf2862c528accf093e1": {
          "model_module": "@jupyter-widgets/base",
          "model_name": "LayoutModel",
          "model_module_version": "1.2.0",
          "state": {
            "_model_module": "@jupyter-widgets/base",
            "_model_module_version": "1.2.0",
            "_model_name": "LayoutModel",
            "_view_count": null,
            "_view_module": "@jupyter-widgets/base",
            "_view_module_version": "1.2.0",
            "_view_name": "LayoutView",
            "align_content": null,
            "align_items": null,
            "align_self": null,
            "border": null,
            "bottom": null,
            "display": null,
            "flex": null,
            "flex_flow": null,
            "grid_area": null,
            "grid_auto_columns": null,
            "grid_auto_flow": null,
            "grid_auto_rows": null,
            "grid_column": null,
            "grid_gap": null,
            "grid_row": null,
            "grid_template_areas": null,
            "grid_template_columns": null,
            "grid_template_rows": null,
            "height": null,
            "justify_content": null,
            "justify_items": null,
            "left": null,
            "margin": null,
            "max_height": null,
            "max_width": null,
            "min_height": null,
            "min_width": null,
            "object_fit": null,
            "object_position": null,
            "order": null,
            "overflow": null,
            "overflow_x": null,
            "overflow_y": null,
            "padding": null,
            "right": null,
            "top": null,
            "visibility": null,
            "width": null
          }
        },
        "cd13c974191f4488b3a3966902d87bd2": {
          "model_module": "@jupyter-widgets/controls",
          "model_name": "DescriptionStyleModel",
          "model_module_version": "1.5.0",
          "state": {
            "_model_module": "@jupyter-widgets/controls",
            "_model_module_version": "1.5.0",
            "_model_name": "DescriptionStyleModel",
            "_view_count": null,
            "_view_module": "@jupyter-widgets/base",
            "_view_module_version": "1.2.0",
            "_view_name": "StyleView",
            "description_width": ""
          }
        }
      }
    }
  },
  "cells": [
    {
      "cell_type": "markdown",
      "metadata": {
        "id": "LBSYoWbi-45k"
      },
      "source": [
        "# **Fine-tuning Wav2Vec2 for English ASR with 🤗 Transformers**"
      ]
    },
    {
      "cell_type": "markdown",
      "metadata": {
        "id": "V7YOT2mnUiea"
      },
      "source": [
        "Wav2Vec2 is a pretrained model for Automatic Speech Recognition (ASR) and was released in [September 2020](https://ai.facebook.com/blog/wav2vec-20-learning-the-structure-of-speech-from-raw-audio/) by Alexei Baevski, Michael Auli, and Alex Conneau.\n",
        "\n",
        "Using a novel contrastive pretraining objective, Wav2Vec2 learns powerful speech representations from more than 50.000 hours of unlabeled speech. Similar, to [BERT's masked language modeling](http://jalammar.github.io/illustrated-bert/), the model learns contextualized speech representations by randomly masking feature vectors before passing them to a transformer network.\n",
        "\n",
        "![wav2vec2_structure](https://raw.githubusercontent.com/patrickvonplaten/scientific_images/master/wav2vec2.png)\n",
        "\n",
        "For the first time, it has been shown that pretraining, followed by fine-tuning on very little labeled speech data achieves competitive results to state-of-the-art ASR systems. Using as little as 10 minutes of labeled data, Wav2Vec2 yields a word error rate (WER) of less than 5% on the clean test set of [LibriSpeech](https://huggingface.co/datasets/librispeech_asr) - *cf.* with Table 9 of the [paper](https://arxiv.org/pdf/2006.11477.pdf)."
      ]
    },
    {
      "cell_type": "markdown",
      "metadata": {
        "id": "nT_QrfWtsxIz"
      },
      "source": [
        "In this notebook, we will give an in-detail explanation of how Wav2Vec2's pretrained checkpoints can be fine-tuned on any English ASR dataset. Note that in this notebook, we will fine-tune Wav2Vec2 without making use of a language model. It is much simpler to use Wav2Vec2 without a language model as an end-to-end ASR system and it has been shown that a standalone Wav2Vec2 acoustic model achieves impressive results. For demonstration purposes, we fine-tune the \"base\"-sized [pretrained checkpoint](https://huggingface.co/facebook/wav2vec2-base) on the rather small [Timit](https://huggingface.co/datasets/timit_asr) dataset that contains just 5h of training data."
      ]
    },
    {
      "cell_type": "markdown",
      "metadata": {
        "id": "Gx9OdDYrCtQ1"
      },
      "source": [
        "Wav2Vec2 is fine-tuned using Connectionist Temporal Classification (CTC), which is an algorithm that is used to train neural networks for sequence-to-sequence problems and mainly in Automatic Speech Recognition and handwriting recognition. \n",
        "\n",
        "I highly recommend reading the blog post [Sequence Modeling with CTC (2017)](https://distill.pub/2017/ctc/) very well-written blog post by Awni Hannun."
      ]
    },
    {
      "cell_type": "markdown",
      "metadata": {
        "id": "qW3J3rBizeds"
      },
      "source": [
        "First, let's try to get a good GPU in our colab! With Google Colab's free version it's sadly becoming much harder to get access to a good GPU. With Google Colab Pro, one has a much easier time getting access to a V100 or P100 GPU however."
      ]
    },
    {
      "cell_type": "code",
      "metadata": {
        "id": "SLAufgh_xxj7",
        "colab": {
          "base_uri": "https://localhost:8080/"
        },
        "outputId": "7cd2b128-8a2e-4318-9183-d450bf17ec91"
      },
      "source": [
        "gpu_info = !nvidia-smi\n",
        "gpu_info = '\\n'.join(gpu_info)\n",
        "if gpu_info.find('failed') >= 0:\n",
        "  print('Not connected to a GPU')\n",
        "else:\n",
        "  print(gpu_info)"
      ],
      "execution_count": 1,
      "outputs": [
        {
          "output_type": "stream",
          "name": "stdout",
          "text": [
            "Wed Apr 27 07:31:52 2022       \n",
            "+-----------------------------------------------------------------------------+\n",
            "| NVIDIA-SMI 460.32.03    Driver Version: 460.32.03    CUDA Version: 11.2     |\n",
            "|-------------------------------+----------------------+----------------------+\n",
            "| GPU  Name        Persistence-M| Bus-Id        Disp.A | Volatile Uncorr. ECC |\n",
            "| Fan  Temp  Perf  Pwr:Usage/Cap|         Memory-Usage | GPU-Util  Compute M. |\n",
            "|                               |                      |               MIG M. |\n",
            "|===============================+======================+======================|\n",
            "|   0  Tesla V100-SXM2...  Off  | 00000000:00:04.0 Off |                    0 |\n",
            "| N/A   34C    P0    25W / 300W |      0MiB / 16160MiB |      0%      Default |\n",
            "|                               |                      |                  N/A |\n",
            "+-------------------------------+----------------------+----------------------+\n",
            "                                                                               \n",
            "+-----------------------------------------------------------------------------+\n",
            "| Processes:                                                                  |\n",
            "|  GPU   GI   CI        PID   Type   Process name                  GPU Memory |\n",
            "|        ID   ID                                                   Usage      |\n",
            "|=============================================================================|\n",
            "|  No running processes found                                                 |\n",
            "+-----------------------------------------------------------------------------+\n"
          ]
        }
      ]
    },
    {
      "cell_type": "markdown",
      "metadata": {
        "id": "e335hPmdtASZ"
      },
      "source": [
        "Before we start, let's install both `datasets` and `transformers` from master. Also, we need the `librosa` package to load audio files and the `jiwer` to evaluate our fine-tuned model using the [word error rate (WER)](https://huggingface.co/metrics/wer) metric ${}^1$."
      ]
    },
    {
      "cell_type": "code",
      "metadata": {
        "id": "c8eh87Hoee5d"
      },
      "source": [
        "%%capture\n",
        "!pip install datasets==1.18.3\n",
        "!pip install transformers==4.11.3\n",
        "!pip install librosa\n",
        "!pip install jiwer"
      ],
      "execution_count": 2,
      "outputs": []
    },
    {
      "cell_type": "markdown",
      "metadata": {
        "id": "8_6kYmDMH9lR"
      },
      "source": [
        "Next we strongly suggest to upload your training checkpoints directly to the [🤗 Hub](https://huggingface.co/) while training. The [🤗 Hub](https://huggingface.co/) has integrated version control so you can be sure that no model checkpoint is getting lost during training. \n",
        "\n",
        "To do so you have to store your authentication token from the Hugging Face website (sign up [here](https://huggingface.co/join) if you haven't already!)"
      ]
    },
    {
      "cell_type": "code",
      "metadata": {
        "colab": {
          "base_uri": "https://localhost:8080/",
          "height": 554,
          "referenced_widgets": [
            "9cea37fb3b054104926647bebf723700",
            "d7c670c23a9f4a389c025bb0c84d22c7",
            "668e5bd926b94cf393e87029d9551a0e",
            "bd917465293f4ebf81053613e081905a",
            "edd3a87af18949458e544279ca659720",
            "e174f2c154be4b1d908715bd02811385",
            "3744e9b3975840c0806571ee34af4f70",
            "9186094cfd4f467c9b057736ba1bb899",
            "11d5bc3a2b924b49afaa9eb91b04a25c",
            "005e73b569cc457d879cce1c7075dfa4",
            "3e365f91324648039f67a088f8e5fd95",
            "edbf7c3c973149538db5765dd2e33431",
            "032cfa8e7463431f92535c4ed0c78bad",
            "27c94d6229f44f52b433e30c72577613",
            "875d890d4a954d19bf2957de07df3f84",
            "154f5d94502c4f10b27a9b370aab7c35",
            "c07a61a461ec4091acc0b5153ebd6004"
          ]
        },
        "id": "zFLBDyzQIA3R",
        "outputId": "fdc04c65-9649-459c-91a8-652120cf0335"
      },
      "source": [
        "from huggingface_hub import notebook_login\n",
        "\n",
        "notebook_login()"
      ],
      "execution_count": 3,
      "outputs": [
        {
          "output_type": "stream",
          "name": "stdout",
          "text": [
            "Login successful\n",
            "Your token has been saved to /root/.huggingface/token\n",
            "\u001b[1m\u001b[31mAuthenticated through git-credential store but this isn't the helper defined on your machine.\n",
            "You might have to re-authenticate when pushing to the Hugging Face Hub. Run the following command in your terminal in case you want to set this credential helper as the default\n",
            "\n",
            "git config --global credential.helper store\u001b[0m\n"
          ]
        }
      ]
    },
    {
      "cell_type": "markdown",
      "metadata": {
        "id": "zCyw5D23IQ1F"
      },
      "source": [
        "\n",
        "Then you need to install Git-LFS to upload your model checkpoints:"
      ]
    },
    {
      "cell_type": "code",
      "metadata": {
        "id": "Q9BnQDhOITBC"
      },
      "source": [
        "%%capture\n",
        "!apt install git-lfs"
      ],
      "execution_count": 4,
      "outputs": []
    },
    {
      "cell_type": "code",
      "source": [
        "from google.colab import drive\n",
        "drive.mount('/content/drive')"
      ],
      "metadata": {
        "id": "9BnHfLa6rl4n",
        "outputId": "0e4f86cf-3790-4186-b7ee-c0e893799c9a",
        "colab": {
          "base_uri": "https://localhost:8080/"
        }
      },
      "execution_count": 5,
      "outputs": [
        {
          "output_type": "stream",
          "name": "stdout",
          "text": [
            "Drive already mounted at /content/drive; to attempt to forcibly remount, call drive.mount(\"/content/drive\", force_remount=True).\n"
          ]
        }
      ]
    },
    {
      "cell_type": "markdown",
      "metadata": {
        "id": "Mn9swf6EQ9Vd"
      },
      "source": [
        "\n",
        "\n",
        "\n",
        "---\n",
        "\n",
        "${}^1$ Timit is usually evaluated using the phoneme error rate (PER), but by far the most common metric in ASR is the word error rate (WER). To keep this notebook as general as possible we decided to evaluate the model using WER."
      ]
    },
    {
      "cell_type": "markdown",
      "metadata": {
        "id": "0mW-C1Nt-j7k"
      },
      "source": [
        "## Prepare Data, Tokenizer, Feature Extractor"
      ]
    },
    {
      "cell_type": "markdown",
      "metadata": {
        "id": "BeBosnY9BH3e"
      },
      "source": [
        "ASR models transcribe speech to text, which means that we both need a feature extractor that processes the speech signal to the model's input format, *e.g.* a feature vector, and a tokenizer that processes the model's output format to text. \n",
        "\n",
        "In 🤗 Transformers, the Wav2Vec2 model is thus accompanied by both a tokenizer, called [Wav2Vec2CTCTokenizer](https://huggingface.co/transformers/master/model_doc/wav2vec2.html#wav2vec2ctctokenizer), and a feature extractor, called [Wav2Vec2FeatureExtractor](https://huggingface.co/transformers/master/model_doc/wav2vec2.html#wav2vec2featureextractor).\n",
        "\n",
        "Let's start by creating the tokenizer responsible for decoding the model's predictions."
      ]
    },
    {
      "cell_type": "markdown",
      "metadata": {
        "id": "sEXEWEJGQPqD"
      },
      "source": [
        "### Create Wav2Vec2CTCTokenizer"
      ]
    },
    {
      "cell_type": "markdown",
      "metadata": {
        "id": "tWmMikuNEKl_"
      },
      "source": [
        "The [pretrained Wav2Vec2 checkpoint]( ) maps the speech signal to a sequence of context representations as illustrated in the figure above. A fine-tuned Wav2Vec2 checkpoint needs to map this sequence of context representations to its corresponding transcription so that a linear layer has to be added on top of the transformer block (shown in yellow). This linear layer is used to classifies each context representation to a token class analogous how, *e.g.*, after pretraining a linear layer is added on top of BERT's embeddings for further classification - *cf.* with *\"BERT\"* section of this [blog post](https://huggingface.co/blog/warm-starting-encoder-decoder).\n",
        "\n",
        "The output size of this layer corresponds to the number of tokens in the vocabulary, which does **not** depend on Wav2Vec2's pretraining task, but only on the labeled dataset used for fine-tuning. So in the first step, we will take a look at Timit and define a vocabulary based on the dataset's transcriptions."
      ]
    },
    {
      "cell_type": "markdown",
      "metadata": {
        "id": "bee4g9rpLxll"
      },
      "source": [
        "Let's start by loading the dataset and taking a look at its structure."
      ]
    },
    {
      "cell_type": "code",
      "metadata": {
        "id": "2MMXcWFFgCXU",
        "colab": {
          "base_uri": "https://localhost:8080/",
          "height": 87,
          "referenced_widgets": [
            "21f7c18c2d9d49ce8e5496c64f3a7cf9",
            "2c9c9fd46dd04f5d812030622ad638e7",
            "b86606718d464eaba941d8bcc7386383",
            "7b3cb565572c420ea1fbf911745c7b5b",
            "2899d30f80664021ae5933f658cf8d58",
            "a6aae9aaece04a99983be70e12b23b80",
            "743fc6ecc18643838176dd3e941d5915",
            "382efb22edbe4214bf144d6d22382840",
            "b8fedfb7846f45639d84042ac619abd4",
            "28be45b946b3414ba7591ebdbb5f7249",
            "120b8048813a42119c822fcb78d8fda5"
          ]
        },
        "outputId": "e48abd17-d087-4075-a0c4-87380d5480d5"
      },
      "source": [
        "from datasets import load_dataset, load_metric\n",
        "\n",
        "vctk = load_dataset(\"vctk\")"
      ],
      "execution_count": 6,
      "outputs": [
        {
          "output_type": "stream",
          "name": "stderr",
          "text": [
            "Reusing dataset vctk (/root/.cache/huggingface/datasets/vctk/main/0.9.2/4fdbeb75f2f024db8b0caafe3bc975193fc7dc767fb3fe81a908c19d277e7295)\n"
          ]
        },
        {
          "output_type": "display_data",
          "data": {
            "text/plain": [
              "  0%|          | 0/1 [00:00<?, ?it/s]"
            ],
            "application/vnd.jupyter.widget-view+json": {
              "version_major": 2,
              "version_minor": 0,
              "model_id": "21f7c18c2d9d49ce8e5496c64f3a7cf9"
            }
          },
          "metadata": {}
        }
      ]
    },
    {
      "cell_type": "code",
      "metadata": {
        "colab": {
          "base_uri": "https://localhost:8080/"
        },
        "id": "QbIM-L0xdvf4",
        "outputId": "9557e263-8ec4-402f-ea05-602ce002d9cc"
      },
      "source": [
        "vctk"
      ],
      "execution_count": 7,
      "outputs": [
        {
          "output_type": "execute_result",
          "data": {
            "text/plain": [
              "DatasetDict({\n",
              "    train: Dataset({\n",
              "        features: ['speaker_id', 'audio', 'file', 'text', 'text_id', 'age', 'gender', 'accent', 'region', 'comment'],\n",
              "        num_rows: 88156\n",
              "    })\n",
              "})"
            ]
          },
          "metadata": {},
          "execution_count": 7
        }
      ]
    },
    {
      "cell_type": "markdown",
      "metadata": {
        "id": "ri5y5N_HMANq"
      },
      "source": [
        "Many ASR datasets only provide the target text, `'text'` for each audio `'audio'` and file `'file'`. Timit actually provides much more information about each audio file, such as the `'phonetic_detail'`, etc., which is why many researchers choose to evaluate their models on phoneme classification instead of speech recognition when working with Timit. However, we want to keep the notebook as general as possible, so that we will only consider the transcribed text for fine-tuning.\n",
        "\n"
      ]
    },
    {
      "cell_type": "code",
      "metadata": {
        "id": "kbyq6lDgQc2a"
      },
      "source": [
        "vctk = vctk.remove_columns([\"gender\", \"region\", \"age\", \"text_id\", \"comment\", \"speaker_id\", \"accent\"])"
      ],
      "execution_count": 8,
      "outputs": []
    },
    {
      "cell_type": "markdown",
      "metadata": {
        "id": "Go9Hq4e4NDT9"
      },
      "source": [
        "Let's write a short function to display some random samples of the dataset and run it a couple of times to get a feeling for the transcriptions."
      ]
    },
    {
      "cell_type": "code",
      "metadata": {
        "id": "72737oog2F6U"
      },
      "source": [
        "from datasets import ClassLabel\n",
        "import random\n",
        "import pandas as pd\n",
        "from IPython.display import display, HTML\n",
        "\n",
        "def show_random_elements(dataset, num_examples=10):\n",
        "    assert num_examples <= len(dataset), \"Can't pick more elements than there are in the dataset.\"\n",
        "    picks = []\n",
        "    for _ in range(num_examples):\n",
        "        pick = random.randint(0, len(dataset)-1)\n",
        "        while pick in picks:\n",
        "            pick = random.randint(0, len(dataset)-1)\n",
        "        picks.append(pick)\n",
        "    \n",
        "    df = pd.DataFrame(dataset[picks])\n",
        "    display(HTML(df.to_html()))"
      ],
      "execution_count": 9,
      "outputs": []
    },
    {
      "cell_type": "code",
      "metadata": {
        "colab": {
          "base_uri": "https://localhost:8080/",
          "height": 363
        },
        "id": "K_JUmf3G3b9S",
        "outputId": "8d04c137-c2ff-4860-f58f-ce046f015dd4"
      },
      "source": [
        "show_random_elements(vctk[\"train\"].remove_columns([\"audio\", \"file\"]), num_examples=10)"
      ],
      "execution_count": 10,
      "outputs": [
        {
          "output_type": "display_data",
          "data": {
            "text/plain": [
              "<IPython.core.display.HTML object>"
            ],
            "text/html": [
              "<table border=\"1\" class=\"dataframe\">\n",
              "  <thead>\n",
              "    <tr style=\"text-align: right;\">\n",
              "      <th></th>\n",
              "      <th>text</th>\n",
              "    </tr>\n",
              "  </thead>\n",
              "  <tbody>\n",
              "    <tr>\n",
              "      <th>0</th>\n",
              "      <td>I, like many others, will consider where we go from here.</td>\n",
              "    </tr>\n",
              "    <tr>\n",
              "      <th>1</th>\n",
              "      <td>Yet he chose to do something different.</td>\n",
              "    </tr>\n",
              "    <tr>\n",
              "      <th>2</th>\n",
              "      <td>She can scoop these things into three red bags, and we will go meet her Wednesday at the train station.</td>\n",
              "    </tr>\n",
              "    <tr>\n",
              "      <th>3</th>\n",
              "      <td>Everything was up for grabs.</td>\n",
              "    </tr>\n",
              "    <tr>\n",
              "      <th>4</th>\n",
              "      <td>This is the window.</td>\n",
              "    </tr>\n",
              "    <tr>\n",
              "      <th>5</th>\n",
              "      <td>You look at them and you understand.</td>\n",
              "    </tr>\n",
              "    <tr>\n",
              "      <th>6</th>\n",
              "      <td>Meantime, his appointment has been widely welcomed.</td>\n",
              "    </tr>\n",
              "    <tr>\n",
              "      <th>7</th>\n",
              "      <td>It was turning that way all across Europe.</td>\n",
              "    </tr>\n",
              "    <tr>\n",
              "      <th>8</th>\n",
              "      <td>This is a very common type of bow, one showing mainly red and yellow, with little or no green or blue.</td>\n",
              "    </tr>\n",
              "    <tr>\n",
              "      <th>9</th>\n",
              "      <td>It's not before time.</td>\n",
              "    </tr>\n",
              "  </tbody>\n",
              "</table>"
            ]
          },
          "metadata": {}
        }
      ]
    },
    {
      "cell_type": "markdown",
      "metadata": {
        "id": "vq7OR50LN49m"
      },
      "source": [
        "We can see that the transcriptions contain some special characters, such as `,.?!;:`. Without a language model, it is much harder to classify speech chunks to such special characters because they don't really correspond to a characteristic sound unit. *E.g.*, the letter `\"s\"` has a more or less clear sound, whereas the special character `\".\"` does not.\n",
        "Also in order to understand the meaning of a speech signal, it is usually not necessary to include special characters in the transcription.\n",
        "\n",
        "In addition, we normalize the text to only have lower case letters and append a word separator token at the end."
      ]
    },
    {
      "cell_type": "code",
      "metadata": {
        "id": "svKzVJ_hQGK6"
      },
      "source": [
        "import re\n",
        "chars_to_ignore_regex = '[\\,\\?\\.\\!\\-\\;\\:\\\"]'\n",
        "\n",
        "def remove_special_characters(batch):\n",
        "    batch[\"text\"] = re.sub(chars_to_ignore_regex, '', batch[\"text\"]).lower() + \" \"\n",
        "    return batch"
      ],
      "execution_count": 11,
      "outputs": []
    },
    {
      "cell_type": "code",
      "metadata": {
        "colab": {
          "base_uri": "https://localhost:8080/"
        },
        "id": "XIHocAuTQbBR",
        "outputId": "f6c3b2ad-211a-4fb2-b8a8-cc002a3c7775"
      },
      "source": [
        "vctk = vctk.map(remove_special_characters)"
      ],
      "execution_count": 12,
      "outputs": [
        {
          "output_type": "stream",
          "name": "stderr",
          "text": [
            "Loading cached processed dataset at /root/.cache/huggingface/datasets/vctk/main/0.9.2/4fdbeb75f2f024db8b0caafe3bc975193fc7dc767fb3fe81a908c19d277e7295/cache-99ebed295c51927a.arrow\n"
          ]
        }
      ]
    },
    {
      "cell_type": "code",
      "metadata": {
        "colab": {
          "base_uri": "https://localhost:8080/",
          "height": 363
        },
        "id": "RBDRAAYxRE6n",
        "outputId": "a74fedd8-b239-4ea2-dd9e-93a41565b4c4"
      },
      "source": [
        "show_random_elements(vctk[\"train\"].remove_columns([\"audio\", \"file\"]))"
      ],
      "execution_count": 13,
      "outputs": [
        {
          "output_type": "display_data",
          "data": {
            "text/plain": [
              "<IPython.core.display.HTML object>"
            ],
            "text/html": [
              "<table border=\"1\" class=\"dataframe\">\n",
              "  <thead>\n",
              "    <tr style=\"text-align: right;\">\n",
              "      <th></th>\n",
              "      <th>text</th>\n",
              "    </tr>\n",
              "  </thead>\n",
              "  <tbody>\n",
              "    <tr>\n",
              "      <th>0</th>\n",
              "      <td>we need to chat</td>\n",
              "    </tr>\n",
              "    <tr>\n",
              "      <th>1</th>\n",
              "      <td>it's never happened before</td>\n",
              "    </tr>\n",
              "    <tr>\n",
              "      <th>2</th>\n",
              "      <td>stephen will get his first cap</td>\n",
              "    </tr>\n",
              "    <tr>\n",
              "      <th>3</th>\n",
              "      <td>sub not used mcarthur</td>\n",
              "    </tr>\n",
              "    <tr>\n",
              "      <th>4</th>\n",
              "      <td>manager bobby williamson has no injury worries</td>\n",
              "    </tr>\n",
              "    <tr>\n",
              "      <th>5</th>\n",
              "      <td>he can do everything</td>\n",
              "    </tr>\n",
              "    <tr>\n",
              "      <th>6</th>\n",
              "      <td>and now the pressure is off</td>\n",
              "    </tr>\n",
              "    <tr>\n",
              "      <th>7</th>\n",
              "      <td>he wouldn't allow that to happen</td>\n",
              "    </tr>\n",
              "    <tr>\n",
              "      <th>8</th>\n",
              "      <td>however there is an issue isn't there</td>\n",
              "    </tr>\n",
              "    <tr>\n",
              "      <th>9</th>\n",
              "      <td>the truth is he probably doesn't</td>\n",
              "    </tr>\n",
              "  </tbody>\n",
              "</table>"
            ]
          },
          "metadata": {}
        }
      ]
    },
    {
      "cell_type": "markdown",
      "source": [
        "## split test and train dataset"
      ],
      "metadata": {
        "id": "Sl9xQ7ddYgCm"
      }
    },
    {
      "cell_type": "code",
      "source": [
        "vctk"
      ],
      "metadata": {
        "id": "oGtQUL0moeNk",
        "outputId": "eb4321aa-685a-4962-ee6c-08689d01cfba",
        "colab": {
          "base_uri": "https://localhost:8080/"
        }
      },
      "execution_count": 14,
      "outputs": [
        {
          "output_type": "execute_result",
          "data": {
            "text/plain": [
              "DatasetDict({\n",
              "    train: Dataset({\n",
              "        features: ['audio', 'file', 'text'],\n",
              "        num_rows: 88156\n",
              "    })\n",
              "})"
            ]
          },
          "metadata": {},
          "execution_count": 14
        }
      ]
    },
    {
      "cell_type": "code",
      "source": [
        "vctk['train']"
      ],
      "metadata": {
        "id": "ZuxLzpUssBYD",
        "outputId": "de11152a-1b39-4acc-ddce-b217d42efc21",
        "colab": {
          "base_uri": "https://localhost:8080/"
        }
      },
      "execution_count": 15,
      "outputs": [
        {
          "output_type": "execute_result",
          "data": {
            "text/plain": [
              "Dataset({\n",
              "    features: ['audio', 'file', 'text'],\n",
              "    num_rows: 88156\n",
              "})"
            ]
          },
          "metadata": {},
          "execution_count": 15
        }
      ]
    },
    {
      "cell_type": "code",
      "source": [
        "X = vctk['train']"
      ],
      "metadata": {
        "id": "68QhU0LSLhbr"
      },
      "execution_count": 16,
      "outputs": []
    },
    {
      "cell_type": "code",
      "source": [
        "import numpy as np\n",
        "\n",
        "test_num = int(X.shape[0]* 0.2)\n",
        "train_num = X.shape[0] - test_num"
      ],
      "metadata": {
        "id": "v5sbBTuNrjhN"
      },
      "execution_count": 17,
      "outputs": []
    },
    {
      "cell_type": "code",
      "source": [
        "random.shuffle(X['text'])"
      ],
      "metadata": {
        "id": "zuDhT4Ssr6qc"
      },
      "execution_count": 18,
      "outputs": []
    },
    {
      "cell_type": "code",
      "source": [
        "X_test = X[train_num:]"
      ],
      "metadata": {
        "id": "1jVVocN8rrM0"
      },
      "execution_count": 19,
      "outputs": []
    },
    {
      "cell_type": "code",
      "source": [
        "X_train = X[:train_num]"
      ],
      "metadata": {
        "id": "vR-tt93d73xt"
      },
      "execution_count": null,
      "outputs": []
    },
    {
      "cell_type": "code",
      "source": [
        "#split test and train dataset\n",
        "def permutation_train_test_split(X, test_size=0.2, random_state=1004):\n",
        "  import numpy as np\n",
        "\n",
        "  test_num = int(X.shape[0]*test_size)\n",
        "  train_num = X.shape[0] - test_num\n",
        "\n",
        "  np.random.seed(random_state)\n",
        "  shuffled = np.random.permutation(X.shape[0])\n",
        "  X = X[shuffled,:]\n",
        "  X_train = X[:train_num]\n",
        "  X_test = X[train_num:]\n",
        "\n",
        "  return X_train, X_test\n",
        "  \n",
        "# from sklearn.model_selection import train_test_split\n",
        "# train, test = train_test_split(vctk['train'], test_size=0.2, random_state=42, shuffle=False)"
      ],
      "metadata": {
        "id": "xlYwL2-2Ydvi"
      },
      "execution_count": 20,
      "outputs": []
    },
    {
      "cell_type": "markdown",
      "metadata": {
        "id": "jwfaptH5RJwA"
      },
      "source": [
        "Good! This looks better. We have removed most special characters from transcriptions and normalized them to lower-case only.\n",
        "\n",
        "In CTC, it is common to classify speech chunks into letters, so we will do the same here. \n",
        "Let's extract all distinct letters of the training and test data and build our vocabulary from this set of letters.\n",
        "\n",
        "We write a mapping function that concatenates all transcriptions into one long transcription and then transforms the string into a set of chars. \n",
        "It is important to pass the argument `batched=True` to the `map(...)` function so that the mapping function has access to all transcriptions at once."
      ]
    },
    {
      "cell_type": "code",
      "metadata": {
        "id": "LwCshNbbeRZR"
      },
      "source": [
        "def extract_all_chars(batch):\n",
        "  all_text = \" \".join(batch[\"text\"])\n",
        "  vocab = list(set(all_text))\n",
        "  return {\"vocab\": [vocab], \"all_text\": [all_text]}"
      ],
      "execution_count": 21,
      "outputs": []
    },
    {
      "cell_type": "code",
      "metadata": {
        "colab": {
          "base_uri": "https://localhost:8080/",
          "height": 49,
          "referenced_widgets": [
            "6c44afc7b274430f8f007bbe23befbcc",
            "242ec288c8bc4030a1d1cdbca7165cbc",
            "070dbc8a18214e85b8c7a7a03427c5c0",
            "2a8eb0fa8ef14e5c861775424eef6550",
            "0a55634b24744c189c3bc162a524e81e",
            "d25d881ac164423788530b3a9ff5de80",
            "87b8ea1716e148d2b87910d273948025",
            "e36f4065a96e45439c658a3fac0cb4f1",
            "c37cea84421a4f54967b5220bd405f33",
            "d1426f4c5edc43a78cc5771e601a79ba",
            "b4accfe931824beaac744a266071a5be"
          ]
        },
        "id": "_m6uUjjcfbjH",
        "outputId": "58ea6805-323b-45ac-8973-c1997b8ff34c"
      },
      "source": [
        "vocabs = vctk.map(extract_all_chars, batched=True, batch_size=-1, keep_in_memory=True, remove_columns=vctk.column_names[\"train\"])"
      ],
      "execution_count": 22,
      "outputs": [
        {
          "output_type": "display_data",
          "data": {
            "text/plain": [
              "  0%|          | 0/1 [00:00<?, ?ba/s]"
            ],
            "application/vnd.jupyter.widget-view+json": {
              "version_major": 2,
              "version_minor": 0,
              "model_id": "6c44afc7b274430f8f007bbe23befbcc"
            }
          },
          "metadata": {}
        }
      ]
    },
    {
      "cell_type": "markdown",
      "metadata": {
        "id": "7oVgE8RZSJNP"
      },
      "source": [
        "Now, we create the union of all distinct letters in the training dataset and test dataset and convert the resulting list into an enumerated dictionary."
      ]
    },
    {
      "cell_type": "code",
      "source": [
        "vocabs"
      ],
      "metadata": {
        "id": "C24iv56dn5N_",
        "outputId": "1f6c4646-dc30-4a0d-bff1-5f8fcccf6dcc",
        "colab": {
          "base_uri": "https://localhost:8080/"
        }
      },
      "execution_count": 23,
      "outputs": [
        {
          "output_type": "execute_result",
          "data": {
            "text/plain": [
              "DatasetDict({\n",
              "    train: Dataset({\n",
              "        features: ['vocab', 'all_text'],\n",
              "        num_rows: 1\n",
              "    })\n",
              "})"
            ]
          },
          "metadata": {},
          "execution_count": 23
        }
      ]
    },
    {
      "cell_type": "code",
      "metadata": {
        "id": "aQfneNsmlJI0"
      },
      "source": [
        "vocab_list = list(set(vocabs[\"train\"][\"vocab\"][0]))"
      ],
      "execution_count": 24,
      "outputs": []
    },
    {
      "cell_type": "code",
      "metadata": {
        "colab": {
          "base_uri": "https://localhost:8080/"
        },
        "id": "_0kRndSvqaKk",
        "outputId": "7af7a039-4e67-40e9-8a55-563b831feed3"
      },
      "source": [
        "vocab_dict = {v: k for k, v in enumerate(vocab_list)}\n",
        "vocab_dict"
      ],
      "execution_count": 25,
      "outputs": [
        {
          "output_type": "execute_result",
          "data": {
            "text/plain": [
              "{'\\t': 13,\n",
              " ' ': 18,\n",
              " \"'\": 15,\n",
              " '`': 21,\n",
              " 'a': 26,\n",
              " 'b': 0,\n",
              " 'c': 28,\n",
              " 'd': 19,\n",
              " 'e': 22,\n",
              " 'f': 24,\n",
              " 'g': 29,\n",
              " 'h': 6,\n",
              " 'i': 8,\n",
              " 'j': 14,\n",
              " 'k': 2,\n",
              " 'l': 10,\n",
              " 'm': 11,\n",
              " 'n': 5,\n",
              " 'o': 16,\n",
              " 'p': 3,\n",
              " 'q': 4,\n",
              " 'r': 12,\n",
              " 's': 7,\n",
              " 't': 17,\n",
              " 'u': 23,\n",
              " 'v': 1,\n",
              " 'w': 25,\n",
              " 'x': 9,\n",
              " 'y': 20,\n",
              " 'z': 27}"
            ]
          },
          "metadata": {},
          "execution_count": 25
        }
      ]
    },
    {
      "cell_type": "markdown",
      "metadata": {
        "id": "JOSzbvs9SXT1"
      },
      "source": [
        "Cool, we see that all letters of the alphabet occur in the dataset (which is not really surprising) and we also extracted the special characters `\" \"` and `'`. Note that we did not exclude those special characters because: \n",
        "\n",
        "- The model has to learn to predict when a word finished or else the model prediction would always be a sequence of chars which would make it impossible to separate words from each other.\n",
        "- In English, we need to keep the `'` character to differentiate between words, *e.g.*, `\"it's\"` and `\"its\"` which have very different meanings."
      ]
    },
    {
      "cell_type": "markdown",
      "metadata": {
        "id": "b1fBRCn-TRaO"
      },
      "source": [
        "To make it clearer that `\" \"` has its own token class, we give it a more visible character `|`. In addition, we also add an \"unknown\" token so that the model can later deal with characters not encountered in Timit's training set. \n",
        "\n",
        "Finally, we also add a padding token that corresponds to CTC's \"*blank token*\". The \"blank token\" is a core component of the CTC algorithm. For more information, please take a look at the \"Alignment\" section [here](https://distill.pub/2017/ctc/)."
      ]
    },
    {
      "cell_type": "code",
      "metadata": {
        "id": "npbIbBoLgaFX"
      },
      "source": [
        "vocab_dict[\"|\"] = vocab_dict[\" \"]\n",
        "del vocab_dict[\" \"]"
      ],
      "execution_count": 26,
      "outputs": []
    },
    {
      "cell_type": "code",
      "metadata": {
        "id": "znF0bNunsjbl",
        "colab": {
          "base_uri": "https://localhost:8080/"
        },
        "outputId": "3cf11192-0d98-40c2-f9f9-4483f39b4e36"
      },
      "source": [
        "vocab_dict[\"[UNK]\"] = len(vocab_dict)\n",
        "vocab_dict[\"[PAD]\"] = len(vocab_dict)\n",
        "len(vocab_dict)"
      ],
      "execution_count": 27,
      "outputs": [
        {
          "output_type": "execute_result",
          "data": {
            "text/plain": [
              "32"
            ]
          },
          "metadata": {},
          "execution_count": 27
        }
      ]
    },
    {
      "cell_type": "markdown",
      "metadata": {
        "id": "SFPGfet8U5sL"
      },
      "source": [
        "Cool, now our vocabulary is complete and consists of 30 tokens, which means that the linear layer that we will add on top of the pretrained Wav2Vec2 checkpoint will have an output dimension of 30."
      ]
    },
    {
      "cell_type": "markdown",
      "metadata": {
        "id": "1CujRgBNVRaD"
      },
      "source": [
        "Let's now save the vocabulary as a json file."
      ]
    },
    {
      "cell_type": "code",
      "metadata": {
        "id": "ehyUoh9vk191"
      },
      "source": [
        "import json\n",
        "with open('vocab.json', 'w') as vocab_file:\n",
        "    json.dump(vocab_dict, vocab_file)"
      ],
      "execution_count": 28,
      "outputs": []
    },
    {
      "cell_type": "markdown",
      "metadata": {
        "id": "SHJDaKlIVVim"
      },
      "source": [
        "In a final step, we use the json file to instantiate an object of the `Wav2Vec2CTCTokenizer` class."
      ]
    },
    {
      "cell_type": "code",
      "metadata": {
        "id": "xriFGEWQkO4M"
      },
      "source": [
        "from transformers import Wav2Vec2CTCTokenizer\n",
        "\n",
        "tokenizer = Wav2Vec2CTCTokenizer(\"./vocab.json\", unk_token=\"[UNK]\", pad_token=\"[PAD]\", word_delimiter_token=\"|\")"
      ],
      "execution_count": 29,
      "outputs": []
    },
    {
      "cell_type": "markdown",
      "metadata": {
        "id": "P6L2EVWwIazG"
      },
      "source": [
        "If one wants to re-use the just created tokenizer with the fine-tuned model of this notebook, it is strongly advised to upload the `tokenizer` to the [🤗 Hub](https://huggingface.co/). Let's call the repo to which we will upload the files\n",
        "`\"wav2vec2-base-timit-demo-colab\"`:"
      ]
    },
    {
      "cell_type": "code",
      "metadata": {
        "id": "1mbffBdxIl0M"
      },
      "source": [
        "repo_name = \"wav2vec2-base-vctk-demo-colab\""
      ],
      "execution_count": 30,
      "outputs": []
    },
    {
      "cell_type": "markdown",
      "metadata": {
        "id": "pmpG2ftFIu3B"
      },
      "source": [
        "and upload the tokenizer to the [🤗 Hub](https://huggingface.co/)."
      ]
    },
    {
      "cell_type": "code",
      "metadata": {
        "colab": {
          "base_uri": "https://localhost:8080/",
          "height": 640,
          "referenced_widgets": [
            "1bef5f4b1bf142b6a6cb7fd197f6bee7",
            "e505f46c72b646f180b89e57aff4af84",
            "e25fb311ac644662a0450ddb90ae493f",
            "c06b669bc7c042a598cb22c4b1accb80",
            "e889da3a7a7249a48926bd56e91fc49b",
            "f735eb3c264a4400884c5caee570ce7c",
            "727966bc8b034c8c8e232c912f36ac43",
            "48e957101cd140eb8c1da3516a1ace16",
            "1dd9632739f14e24a8c47b845d30b744",
            "5dbb5f884e8a42f79cf73e39f2df8029",
            "eb888d73488d4c879833aee3959cdd69",
            "5b959fe78d0a466fb8d674f8160dedef",
            "c2fa00cfe8cf44ef848d73e727c6851a",
            "b8c1191a0ad64ed08fb079009a07e3e9",
            "71086c3023604aa1ae1f5ab228f2ab8c",
            "1e3f7554a66f4a49b5f1872434bd70cf",
            "570fbb23610e4f709088ba7808cff940",
            "e0dbe53a8c794154823c741f84bcad09",
            "5224a815b960419dbf135e381e01f8be",
            "e2737209289b40b7ab38a05c839da9a1",
            "8581cc25d14c4d56addae6f3963dc0b3",
            "52c17098f9fc48f6a9ab058c6e167c8f",
            "c8f3326cf3354c53bcd0ab2e783fad0b",
            "5f49f8350c064f8bb83bb93f0631fdbc",
            "2e0e9c2b95ab410fbf79b74ef86ec125",
            "c37ad0eab0464e3ea6a0f7042a1f406d",
            "76ce7d5028434507b33d701f6ed76ada",
            "0bcf050d66db4e248ab93af5f69ebaca",
            "c64592e203434d568dc682c14928ad53",
            "e69c11bc0e994dc0948c9411343d9650",
            "9562760b2edd4eb1a9b2a97cf6769b77",
            "6e5647003d124224bd26a06b21db7ff4",
            "38c457ac530444d885dd1f505a2d40c0",
            "65c4508ec67c431ebaf8170fe3cc51d7",
            "212644e99e454331b541d380999227b3",
            "befe9a1e1aa9410ea54fff1e6b933516",
            "215fecee63104448ae69d4a9e3bf2d53",
            "32c10b20c26645dfb422081e85ebb9e4",
            "26c732cb570745769acf7cb7e0109a7d",
            "51bcdcd445b94acd8eccdb301beae5b1",
            "091ffec6c56a472f9db6cb16ba2dda0d",
            "7805523732e64849bf05a52844b6aa78",
            "8ec3dad118f64c3196ebac686e3de75a",
            "3178b2e9434140ff85e165c900a533bd",
            "5834dc4480ea4c76af17c2b87012396e",
            "c7b5561d7b544c2d94cb76a2bb41411d",
            "b111eb8646a94b3fa59076ad7c5242b6",
            "0f06718353c3449fb4114a1da30ec023",
            "15beea63fde545a086e1f7907bd664b3",
            "598f66ec2eff408fbeeb1ee1c9564fde",
            "901509d6a2da478095c26546ef0070d2",
            "ed8a02a6113e49a6a9e93ad9ebc4253e",
            "6546f28972af416fab6b8156d54f6bd2",
            "47cb4b970fbb456589f26db686f62200",
            "4b9b79d1743e4b5ca83cfd5ca53f2f59",
            "ce3c2091142e47a8805a2286afc64b26",
            "f8a5377470ee41b68419dc4bd34d9066",
            "03ad4efe7f244d0ebb4618d1f3015b16",
            "7ddec01c9f3b4e199cce182bdd4a5e92",
            "08211a279f5e47d3b709ed904d8c2c2f",
            "11089863c53843c6b176c8b212259304",
            "0eef78d27fc145d3b68995fe64a77553",
            "68728828478f4ebdb3a7338c0823009e",
            "c526db80369146499d66974bd231e915",
            "a52f9ed66d3743d8a01c92f83e302b38",
            "2c9e6b1b5a4c4f3abd0d88d99d157abe",
            "3f5b6e7dbdfc4c89b5a33c33deacd501",
            "5174155c3cc9454e83e329c16bd87d34",
            "e97ccdaeedae471ba4153546d125bf2b",
            "910bbb0ecd484565be0b991d2beb0f1e",
            "dd9fe6f46e5f471dbba3d30bd594e34c",
            "f1791224368e4801b39d696436b0910d",
            "edf2809c6dd449159e990dac962db4ac",
            "cc7040227cba41a0ab34093aabbf8eaa",
            "6652590ea221431da01326638aefdc92",
            "3a49f389ebdb4ae2b56610bdf21eb2d5",
            "ee3759b1f2734432bf9c61ddb2facb3a",
            "828110ac18284d30809feed003dd8183",
            "86866077e56742a09b037ffe857d7100",
            "7780386295b244bc93132aa69064bceb",
            "d217b66d1aed4c52b587d548c4623b6d",
            "117f26a324664abc8c640fcd6722d4f0",
            "97c449c62a2f48c49acb309fd4957c38",
            "caafbe70d96e4e2a9e11f4a4e2da25e4",
            "b2156fdb554b4b238cea663448be3d51",
            "fb9933093aed4b2dac688281a21e300e",
            "9cf4f3b3da994ddd9968edc185da6233",
            "d33d0e5db0d04baab3310e36978e1e9f"
          ]
        },
        "id": "ScBMUz8jIxJi",
        "outputId": "6e60172b-16f5-4383-cf4b-c77efa0c97b6"
      },
      "source": [
        "tokenizer.push_to_hub(repo_name)"
      ],
      "execution_count": 31,
      "outputs": [
        {
          "output_type": "stream",
          "name": "stderr",
          "text": [
            "/usr/local/lib/python3.7/dist-packages/huggingface_hub/utils/_deprecation.py:43: FutureWarning: Pass token='wav2vec2-base-timit-demo-colab' as keyword args. From version 0.7 passing these as positional arguments will result in an error\n",
            "  FutureWarning,\n",
            "/usr/local/lib/python3.7/dist-packages/huggingface_hub/hf_api.py:599: FutureWarning: `create_repo` now takes `token` as an optional positional argument. Be sure to adapt your code!\n",
            "  FutureWarning,\n",
            "Cloning https://huggingface.co/ToToKr/wav2vec2-base-timit-demo-colab into local empty directory.\n"
          ]
        },
        {
          "output_type": "display_data",
          "data": {
            "text/plain": [
              "Download file pytorch_model.bin:   0%|          | 1.58k/360M [00:00<?, ?B/s]"
            ],
            "application/vnd.jupyter.widget-view+json": {
              "version_major": 2,
              "version_minor": 0,
              "model_id": "1bef5f4b1bf142b6a6cb7fd197f6bee7"
            }
          },
          "metadata": {}
        },
        {
          "output_type": "display_data",
          "data": {
            "text/plain": [
              "Download file runs/Apr21_02-10-35_c4b671bce90a/events.out.tfevents.1650507124.c4b671bce90a.96.0:  44%|####3   …"
            ],
            "application/vnd.jupyter.widget-view+json": {
              "version_major": 2,
              "version_minor": 0,
              "model_id": "5b959fe78d0a466fb8d674f8160dedef"
            }
          },
          "metadata": {}
        },
        {
          "output_type": "display_data",
          "data": {
            "text/plain": [
              "Download file training_args.bin: 100%|##########| 2.80k/2.80k [00:00<?, ?B/s]"
            ],
            "application/vnd.jupyter.widget-view+json": {
              "version_major": 2,
              "version_minor": 0,
              "model_id": "c8f3326cf3354c53bcd0ab2e783fad0b"
            }
          },
          "metadata": {}
        },
        {
          "output_type": "display_data",
          "data": {
            "text/plain": [
              "Download file runs/Apr21_02-10-35_c4b671bce90a/1650507124.543917/events.out.tfevents.1650507124.c4b671bce90a.9…"
            ],
            "application/vnd.jupyter.widget-view+json": {
              "version_major": 2,
              "version_minor": 0,
              "model_id": "65c4508ec67c431ebaf8170fe3cc51d7"
            }
          },
          "metadata": {}
        },
        {
          "output_type": "display_data",
          "data": {
            "text/plain": [
              "Clean file runs/Apr21_02-10-35_c4b671bce90a/events.out.tfevents.1650507124.c4b671bce90a.96.0:  13%|#2        |…"
            ],
            "application/vnd.jupyter.widget-view+json": {
              "version_major": 2,
              "version_minor": 0,
              "model_id": "5834dc4480ea4c76af17c2b87012396e"
            }
          },
          "metadata": {}
        },
        {
          "output_type": "display_data",
          "data": {
            "text/plain": [
              "Clean file training_args.bin:  36%|###5      | 1.00k/2.80k [00:00<?, ?B/s]"
            ],
            "application/vnd.jupyter.widget-view+json": {
              "version_major": 2,
              "version_minor": 0,
              "model_id": "ce3c2091142e47a8805a2286afc64b26"
            }
          },
          "metadata": {}
        },
        {
          "output_type": "display_data",
          "data": {
            "text/plain": [
              "Clean file runs/Apr21_02-10-35_c4b671bce90a/1650507124.543917/events.out.tfevents.1650507124.c4b671bce90a.96.1…"
            ],
            "application/vnd.jupyter.widget-view+json": {
              "version_major": 2,
              "version_minor": 0,
              "model_id": "3f5b6e7dbdfc4c89b5a33c33deacd501"
            }
          },
          "metadata": {}
        },
        {
          "output_type": "display_data",
          "data": {
            "text/plain": [
              "Clean file pytorch_model.bin:   0%|          | 1.00k/360M [00:00<?, ?B/s]"
            ],
            "application/vnd.jupyter.widget-view+json": {
              "version_major": 2,
              "version_minor": 0,
              "model_id": "828110ac18284d30809feed003dd8183"
            }
          },
          "metadata": {}
        },
        {
          "output_type": "stream",
          "name": "stderr",
          "text": [
            "To https://huggingface.co/ToToKr/wav2vec2-base-timit-demo-colab\n",
            "   8864027..447fde3  main -> main\n",
            "\n"
          ]
        },
        {
          "output_type": "execute_result",
          "data": {
            "text/plain": [
              "'https://huggingface.co/ToToKr/wav2vec2-base-timit-demo-colab/commit/447fde3d3f13e82aa47ba51c81c62255fc7945d7'"
            ],
            "application/vnd.google.colaboratory.intrinsic+json": {
              "type": "string"
            }
          },
          "metadata": {},
          "execution_count": 31
        }
      ]
    },
    {
      "cell_type": "markdown",
      "metadata": {
        "id": "KvL12DrNV4cx"
      },
      "source": [
        "Great, you can see the just created repository under `https://huggingface.co/<your-username>/wav2vec2-base-timit-demo-colab`"
      ]
    },
    {
      "cell_type": "markdown",
      "metadata": {
        "id": "mYcIiR2FQ96i"
      },
      "source": [
        "### Create Wav2Vec2 Feature Extractor"
      ]
    },
    {
      "cell_type": "markdown",
      "metadata": {
        "id": "Y6mDEyW719rx"
      },
      "source": [
        "Speech is a continuous signal and to be treated by computers, it first has to be discretized, which is usually called **sampling**. The sampling rate hereby plays an important role in that it defines how many data points of the speech signal are measured per second. Therefore, sampling with a higher sampling rate results in a better approximation of the *real* speech signal but also necessitates more values per second.\n",
        "\n",
        "A pretrained checkpoint expects its input data to have been sampled more or less from the same distribution as the data it was trained on. The same speech signals sampled at two different rates have a very different distribution, *e.g.*, doubling the sampling rate results in data points being twice as long. Thus, \n",
        "before fine-tuning a pretrained checkpoint of an ASR model, it is crucial to verify that the sampling rate of the data that was used to pretrain the model matches the sampling rate of the dataset used to fine-tune the model.\n",
        "\n",
        "Wav2Vec2 was pretrained on the audio data of [LibriSpeech](https://huggingface.co/datasets/librispeech_asr) and LibriVox which both were sampling with 16kHz. Our fine-tuning dataset, [Timit](hhtps://huggingface.co/datasets/timit_asr), was luckily also sampled with 16kHz. If the fine-tuning dataset would have been sampled with a rate lower or higher than 16kHz, we first would have had to up or downsample the speech signal to match the sampling rate of the data used for pretraining. \n",
        "\n"
      ]
    },
    {
      "cell_type": "markdown",
      "metadata": {
        "id": "KuUbPW7oV-B5"
      },
      "source": [
        "A Wav2Vec2 feature extractor object requires the following parameters to be instantiated:\n",
        "\n",
        "- `feature_size`: Speech models take a sequence of feature vectors as an input. While the length of this sequence obviously varies, the feature size should not. In the case of Wav2Vec2, the feature size is 1 because the model was trained on the raw speech signal ${}^2$.\n",
        "- `sampling_rate`: The sampling rate at which the model is trained on.\n",
        "- `padding_value`: For batched inference, shorter inputs need to be padded with a specific value\n",
        "- `do_normalize`: Whether the input should be *zero-mean-unit-variance* normalized or not. Usually, speech models perform better when normalizing the input\n",
        "- `return_attention_mask`: Whether the model should make use of an `attention_mask` for batched inference. In general, models should **always** make use of the `attention_mask` to mask padded tokens. However, due to a very specific design choice of `Wav2Vec2`'s \"base\" checkpoint, better results are achieved when using no `attention_mask`. This is **not** recommended for other speech models. For more information, one can take a look at [this](https://github.com/pytorch/fairseq/issues/3227) issue. **Important** If you want to use this notebook to fine-tune [large-lv60](https://huggingface.co/facebook/wav2vec2-large-lv60), this parameter should be set to `True`."
      ]
    },
    {
      "cell_type": "code",
      "metadata": {
        "id": "kAR0-2KLkopp"
      },
      "source": [
        "from transformers import Wav2Vec2FeatureExtractor\n",
        "\n",
        "feature_extractor = Wav2Vec2FeatureExtractor(feature_size=1, sampling_rate=16000, padding_value=0.0, do_normalize=True, return_attention_mask=False)"
      ],
      "execution_count": 32,
      "outputs": []
    },
    {
      "cell_type": "markdown",
      "metadata": {
        "id": "qUETetgqYC3W"
      },
      "source": [
        "Great, Wav2Vec2's feature extraction pipeline is thereby fully defined!\n",
        "\n",
        "To make the usage of Wav2Vec2 as user-friendly as possible, the feature extractor and tokenizer are *wrapped* into a single `Wav2Vec2Processor` class so that one only needs a `model` and `processor` object."
      ]
    },
    {
      "cell_type": "code",
      "metadata": {
        "id": "KYZtoW-tlZgl"
      },
      "source": [
        "from transformers import Wav2Vec2Processor\n",
        "\n",
        "processor = Wav2Vec2Processor(feature_extractor=feature_extractor, tokenizer=tokenizer)"
      ],
      "execution_count": 33,
      "outputs": []
    },
    {
      "cell_type": "markdown",
      "metadata": {
        "id": "DrKnYuvDIoOO"
      },
      "source": [
        "Next, we can prepare the dataset."
      ]
    },
    {
      "cell_type": "markdown",
      "metadata": {
        "id": "YFmShnl7RE35"
      },
      "source": [
        "### Preprocess Data\n",
        "\n",
        "So far, we have not looked at the actual values of the speech signal but just the transcription. In addition to `'text'`, our datasets include two more column names `'file'` and `'audio'`. `'file'` states the absolute path of the audio file. Let's take a look."
      ]
    },
    {
      "cell_type": "code",
      "metadata": {
        "colab": {
          "base_uri": "https://localhost:8080/",
          "height": 53
        },
        "id": "TTCS7W6XJ9BG",
        "outputId": "04301a97-43fd-4875-867f-55e5c7a8ff52"
      },
      "source": [
        "vctk[\"train\"][0][\"file\"]"
      ],
      "execution_count": 35,
      "outputs": [
        {
          "output_type": "execute_result",
          "data": {
            "text/plain": [
              "'/root/.cache/huggingface/datasets/downloads/extracted/11c6712f5ee425ed0d423d179eab7ae93e392fe0e12540a1aa9929325a31ac71/wav48_silence_trimmed/p225/p225_001_mic1.flac'"
            ],
            "application/vnd.google.colaboratory.intrinsic+json": {
              "type": "string"
            }
          },
          "metadata": {},
          "execution_count": 35
        }
      ]
    },
    {
      "cell_type": "markdown",
      "metadata": {
        "id": "BwxprOw4Nzrl"
      },
      "source": [
        "`Wav2Vec2` expects the input in the format of a 1-dimensional array of 16 kHz. This means that the audio file has to be loaded and resampled.\n",
        "\n",
        " Thankfully, `datasets` does this automatically when calling the column `audio`. Let try it out. "
      ]
    },
    {
      "cell_type": "code",
      "metadata": {
        "colab": {
          "base_uri": "https://localhost:8080/"
        },
        "id": "mk9QHuSsN7lf",
        "outputId": "fd12647c-0a12-44c0-a142-0dd1fe3f176a"
      },
      "source": [
        "vctk[\"train\"][0][\"audio\"]"
      ],
      "execution_count": 36,
      "outputs": [
        {
          "output_type": "execute_result",
          "data": {
            "text/plain": [
              "{'array': array([0.00485229, 0.00689697, 0.00619507, ..., 0.00811768, 0.00836182,\n",
              "        0.00854492], dtype=float32),\n",
              " 'path': '/root/.cache/huggingface/datasets/downloads/extracted/11c6712f5ee425ed0d423d179eab7ae93e392fe0e12540a1aa9929325a31ac71/wav48_silence_trimmed/p225/p225_001_mic1.flac',\n",
              " 'sampling_rate': 48000}"
            ]
          },
          "metadata": {},
          "execution_count": 36
        }
      ]
    },
    {
      "cell_type": "markdown",
      "metadata": {
        "id": "wSBIGEiaKHMn"
      },
      "source": [
        "We can see that the audio file has automatically been loaded. This is thanks to the new [`\"Audio\"` feature](https://huggingface.co/docs/datasets/package_reference/main_classes.html?highlight=audio#datasets.Audio) introduced in `datasets == 4.13.3`, which loads and resamples audio files on-the-fly upon calling.\n",
        "\n",
        "The sampling rate is set to 16kHz which is what `Wav2Vec2` expects as an input."
      ]
    },
    {
      "cell_type": "markdown",
      "metadata": {
        "id": "SOckzFd4Mbzq"
      },
      "source": [
        "Great, let's listen to a couple of audio files to better understand the dataset and verify that the audio was correctly loaded. \n",
        "\n",
        "**Note**: *You can click the following cell a couple of times to listen to different speech samples.*"
      ]
    },
    {
      "cell_type": "code",
      "metadata": {
        "colab": {
          "base_uri": "https://localhost:8080/",
          "height": 92
        },
        "id": "dueM6U7Ev0OA",
        "outputId": "2668fad2-d8ff-4e2c-d29d-9648760f6013"
      },
      "source": [
        "import IPython.display as ipd\n",
        "import numpy as np\n",
        "import random\n",
        "\n",
        "rand_int = random.randint(0, len(vctk[\"train\"]))\n",
        "\n",
        "print(vctk[\"train\"][rand_int][\"text\"])\n",
        "ipd.Audio(data=np.asarray(vctk[\"train\"][rand_int][\"audio\"][\"array\"]), autoplay=True, rate=16000)"
      ],
      "execution_count": 37,
      "outputs": [
        {
          "output_type": "stream",
          "name": "stdout",
          "text": [
            "all options are open \n"
          ]
        },
        {
          "output_type": "execute_result",
          "data": {
            "text/plain": [
              "<IPython.lib.display.Audio object>"
            ],
            "text/html": [
              "\n",
              "                <audio controls=\"controls\" autoplay=\"autoplay\">\n",
              "                    <source src=\"data:audio/wav;base64,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\" type=\"audio/wav\" />\n",
              "                    Your browser does not support the audio element.\n",
              "                </audio>\n",
              "              "
            ]
          },
          "metadata": {},
          "execution_count": 37
        }
      ]
    },
    {
      "cell_type": "markdown",
      "metadata": {
        "id": "1MaL9J2dNVtG"
      },
      "source": [
        "It can be heard, that the speakers change along with their speaking rate, accent, etc. Overall, the recordings sound relatively clear though, which is to be expected from a read speech corpus.\n",
        "\n",
        "Let's do a final check that the data is correctly prepared, by printing the shape of the speech input, its transcription, and the corresponding sampling rate.\n",
        "\n",
        "**Note**: *You can click the following cell a couple of times to verify multiple samples.*"
      ]
    },
    {
      "cell_type": "code",
      "metadata": {
        "colab": {
          "base_uri": "https://localhost:8080/"
        },
        "id": "1Po2g7YPuRTx",
        "outputId": "98b81573-ceb3-46d4-b900-81fc1dcc7842"
      },
      "source": [
        "rand_int = random.randint(0, len(vctk[\"train\"]))\n",
        "\n",
        "print(\"Target text:\", vctk[\"train\"][rand_int][\"text\"])\n",
        "print(\"Input array shape:\", np.asarray(vctk[\"train\"][rand_int][\"audio\"][\"array\"]).shape)\n",
        "print(\"Sampling rate:\", vctk[\"train\"][rand_int][\"audio\"][\"sampling_rate\"])"
      ],
      "execution_count": 38,
      "outputs": [
        {
          "output_type": "stream",
          "name": "stdout",
          "text": [
            "Target text: you are a different people \n",
            "Input array shape: (141386,)\n",
            "Sampling rate: 48000\n"
          ]
        }
      ]
    },
    {
      "cell_type": "markdown",
      "metadata": {
        "id": "M9teZcSwOBJ4"
      },
      "source": [
        "Good! Everything looks fine - the data is a 1-dimensional array, the sampling rate always corresponds to 16kHz, and the target text is normalized."
      ]
    },
    {
      "cell_type": "markdown",
      "metadata": {
        "id": "k3Pbn5WvOYZF"
      },
      "source": [
        "Finally, we can process the dataset to the format expected by the model for training. We will make use of the `map(...)` function.\n",
        "\n",
        "First, we load and resample the audio data, simply by calling `batch[\"audio\"]`.\n",
        "Second, we extract the `input_values` from the loaded audio file. In our case, the `Wav2Vec2Processor` only normalizes the data. For other speech models, however, this step can include more complex feature extraction, such as [Log-Mel feature extraction](https://en.wikipedia.org/wiki/Mel-frequency_cepstrum).\n",
        "Third, we encode the transcriptions to label ids.\n",
        "\n",
        "**Note**: This mapping function is a good example of how the `Wav2Vec2Processor` class should be used. In \"normal\" context, calling `processor(...)` is redirected to `Wav2Vec2FeatureExtractor`'s call method. When wrapping the processor into the `as_target_processor` context, however, the same method is redirected to `Wav2Vec2CTCTokenizer`'s call method.\n",
        "For more information please check the [docs](https://huggingface.co/transformers/master/model_doc/wav2vec2.html#transformers.Wav2Vec2Processor.__call__)."
      ]
    },
    {
      "cell_type": "code",
      "metadata": {
        "id": "eJY7I0XAwe9p"
      },
      "source": [
        "def prepare_dataset(batch):\n",
        "    audio = batch[\"audio\"]\n",
        "\n",
        "    # batched output is \"un-batched\" to ensure mapping is correct\n",
        "    batch[\"input_values\"] = processor(audio[\"array\"], sampling_rate=16000).input_values[0]\n",
        "    batch[\"input_length\"] = len(batch[\"input_values\"])\n",
        "    \n",
        "    with processor.as_target_processor():\n",
        "        batch[\"labels\"] = processor(batch[\"text\"]).input_ids\n",
        "    return batch"
      ],
      "execution_count": 39,
      "outputs": []
    },
    {
      "cell_type": "markdown",
      "metadata": {
        "id": "hVMZhH4-nP8-"
      },
      "source": [
        "Let's apply the data preparation function to all examples."
      ]
    },
    {
      "cell_type": "code",
      "metadata": {
        "id": "-np9xYK-wl8q"
      },
      "source": [
        "vctk = vctk.map(prepare_dataset, remove_columns=vctk.column_names[\"train\"], num_proc=4)"
      ],
      "execution_count": 40,
      "outputs": []
    },
    {
      "cell_type": "markdown",
      "metadata": {
        "id": "p_MuJSH8nTuQ"
      },
      "source": [
        "**Note**: Currently `datasets` make use of [`torchaudio`](https://pytorch.org/audio/stable/index.html) and [`librosa`](https://librosa.org/doc/latest/index.html) for audio loading and resampling. If you wish to implement your own costumized data loading/sampling, feel free to just make use of the `\"path\"` column instead and disregard the `\"audio\"` column."
      ]
    },
    {
      "cell_type": "markdown",
      "metadata": {
        "id": "M4J0bU1WsvAg"
      },
      "source": [
        "Long input sequences require a lot of memory. Since `Wav2Vec2` is based on `self-attention` the memory requirement scales quadratically with the input length for long input sequences (*cf.* with [this](https://www.reddit.com/r/MachineLearning/comments/genjvb/d_why_is_the_maximum_input_sequence_length_of/) reddit post). For this demo, let's filter all sequences that are longer than 4 seconds out of the training dataset."
      ]
    },
    {
      "cell_type": "code",
      "metadata": {
        "colab": {
          "base_uri": "https://localhost:8080/",
          "height": 49,
          "referenced_widgets": [
            "c70bf6410d134cc7a3f681da8a02943e",
            "ba95aff7a3a646b980e4e332b69b7b46",
            "18604991077f4ca6bed6c546fe1a6392",
            "f1a51a3982a44cb38e613b367abd015b",
            "2653b089deb645c69f37cca89ed2c102",
            "2b2235143a2d4255a69b2ddc959e5641",
            "5fe0e742725a453db1e4ca9576db7896",
            "3fc53ea8d2d847769fe18926fba89322",
            "88eb1b36b307466a89d2c191205dd3a7",
            "9079ea0e46e540c1ac628c19a01fa303",
            "d718e569b348411d9a9a49f091523931"
          ]
        },
        "id": "nqGobEPUvG3v",
        "outputId": "11a2f768-cad3-4fcb-fda5-5f355fadb73f"
      },
      "source": [
        "max_input_length_in_sec = 4.0\n",
        "vctk[\"train\"] = vctk[\"train\"].filter(lambda x: x < max_input_length_in_sec * processor.feature_extractor.sampling_rate, input_columns=[\"input_length\"])"
      ],
      "execution_count": 41,
      "outputs": [
        {
          "output_type": "display_data",
          "data": {
            "text/plain": [
              "  0%|          | 0/89 [00:00<?, ?ba/s]"
            ],
            "application/vnd.jupyter.widget-view+json": {
              "version_major": 2,
              "version_minor": 0,
              "model_id": "c70bf6410d134cc7a3f681da8a02943e"
            }
          },
          "metadata": {}
        }
      ]
    },
    {
      "cell_type": "markdown",
      "metadata": {
        "id": "25Genil2v_Br"
      },
      "source": [
        "Awesome, now we are ready to start training!"
      ]
    },
    {
      "cell_type": "markdown",
      "metadata": {
        "id": "gYlQkKVoRUos"
      },
      "source": [
        "## Training & Evaluation\n",
        "\n",
        "The data is processed so that we are ready to start setting up the training pipeline. We will make use of 🤗's [Trainer](https://huggingface.co/transformers/master/main_classes/trainer.html?highlight=trainer) for which we essentially need to do the following:\n",
        "\n",
        "- Define a data collator. In contrast to most NLP models, Wav2Vec2 has a much larger input length than output length. *E.g.*, a sample of input length 50000 has an output length of no more than 100. Given the large input sizes, it is much more efficient to pad the training batches dynamically meaning that all training samples should only be padded to the longest sample in their batch and not the overall longest sample. Therefore, fine-tuning Wav2Vec2 requires a special padding data collator, which we will define below\n",
        "\n",
        "- Evaluation metric. During training, the model should be evaluated on the word error rate. We should define a `compute_metrics` function accordingly\n",
        "\n",
        "- Load a pretrained checkpoint. We need to load a pretrained checkpoint and configure it correctly for training.\n",
        "\n",
        "- Define the training configuration.\n",
        "\n",
        "After having fine-tuned the model, we will correctly evaluate it on the test data and verify that it has indeed learned to correctly transcribe speech."
      ]
    },
    {
      "cell_type": "markdown",
      "metadata": {
        "id": "Slk403unUS91"
      },
      "source": [
        "### Set-up Trainer\n",
        "\n",
        "Let's start by defining the data collator. The code for the data collator was copied from [this example](https://github.com/huggingface/transformers/blob/9a06b6b11bdfc42eea08fa91d0c737d1863c99e3/examples/research_projects/wav2vec2/run_asr.py#L81).\n",
        "\n",
        "Without going into too many details, in contrast to the common data collators, this data collator treats the `input_values` and `labels` differently and thus applies to separate padding functions on them (again making use of Wav2Vec2's context manager). This is necessary because in speech input and output are of different modalities meaning that they should not be treated by the same padding function.\n",
        "Analogous to the common data collators, the padding tokens in the labels with `-100` so that those tokens are **not** taken into account when computing the loss."
      ]
    },
    {
      "cell_type": "code",
      "metadata": {
        "id": "tborvC9hx88e"
      },
      "source": [
        "import torch\n",
        "\n",
        "from dataclasses import dataclass, field\n",
        "from typing import Any, Dict, List, Optional, Union\n",
        "\n",
        "@dataclass\n",
        "class DataCollatorCTCWithPadding:\n",
        "    \"\"\"\n",
        "    Data collator that will dynamically pad the inputs received.\n",
        "    Args:\n",
        "        processor (:class:`~transformers.Wav2Vec2Processor`)\n",
        "            The processor used for proccessing the data.\n",
        "        padding (:obj:`bool`, :obj:`str` or :class:`~transformers.tokenization_utils_base.PaddingStrategy`, `optional`, defaults to :obj:`True`):\n",
        "            Select a strategy to pad the returned sequences (according to the model's padding side and padding index)\n",
        "            among:\n",
        "            * :obj:`True` or :obj:`'longest'`: Pad to the longest sequence in the batch (or no padding if only a single\n",
        "              sequence if provided).\n",
        "            * :obj:`'max_length'`: Pad to a maximum length specified with the argument :obj:`max_length` or to the\n",
        "              maximum acceptable input length for the model if that argument is not provided.\n",
        "            * :obj:`False` or :obj:`'do_not_pad'` (default): No padding (i.e., can output a batch with sequences of\n",
        "              different lengths).\n",
        "        max_length (:obj:`int`, `optional`):\n",
        "            Maximum length of the ``input_values`` of the returned list and optionally padding length (see above).\n",
        "        max_length_labels (:obj:`int`, `optional`):\n",
        "            Maximum length of the ``labels`` returned list and optionally padding length (see above).\n",
        "        pad_to_multiple_of (:obj:`int`, `optional`):\n",
        "            If set will pad the sequence to a multiple of the provided value.\n",
        "            This is especially useful to enable the use of Tensor Cores on NVIDIA hardware with compute capability >=\n",
        "            7.5 (Volta).\n",
        "    \"\"\"\n",
        "\n",
        "    processor: Wav2Vec2Processor\n",
        "    padding: Union[bool, str] = True\n",
        "    max_length: Optional[int] = None\n",
        "    max_length_labels: Optional[int] = None\n",
        "    pad_to_multiple_of: Optional[int] = None\n",
        "    pad_to_multiple_of_labels: Optional[int] = None\n",
        "\n",
        "    def __call__(self, features: List[Dict[str, Union[List[int], torch.Tensor]]]) -> Dict[str, torch.Tensor]:\n",
        "        # split inputs and labels since they have to be of different lenghts and need\n",
        "        # different padding methods\n",
        "        input_features = [{\"input_values\": feature[\"input_values\"]} for feature in features]\n",
        "        label_features = [{\"input_ids\": feature[\"labels\"]} for feature in features]\n",
        "\n",
        "        batch = self.processor.pad(\n",
        "            input_features,\n",
        "            padding=self.padding,\n",
        "            max_length=self.max_length,\n",
        "            pad_to_multiple_of=self.pad_to_multiple_of,\n",
        "            return_tensors=\"pt\",\n",
        "        )\n",
        "        with self.processor.as_target_processor():\n",
        "            labels_batch = self.processor.pad(\n",
        "                label_features,\n",
        "                padding=self.padding,\n",
        "                max_length=self.max_length_labels,\n",
        "                pad_to_multiple_of=self.pad_to_multiple_of_labels,\n",
        "                return_tensors=\"pt\",\n",
        "            )\n",
        "\n",
        "        # replace padding with -100 to ignore loss correctly\n",
        "        labels = labels_batch[\"input_ids\"].masked_fill(labels_batch.attention_mask.ne(1), -100)\n",
        "\n",
        "        batch[\"labels\"] = labels\n",
        "\n",
        "        return batch"
      ],
      "execution_count": 42,
      "outputs": []
    },
    {
      "cell_type": "code",
      "metadata": {
        "id": "lbQf5GuZyQ4_"
      },
      "source": [
        "data_collator = DataCollatorCTCWithPadding(processor=processor, padding=True)"
      ],
      "execution_count": 43,
      "outputs": []
    },
    {
      "cell_type": "markdown",
      "metadata": {
        "id": "xO-Zdj-5cxXp"
      },
      "source": [
        "Next, the evaluation metric is defined. As mentioned earlier, the \n",
        "predominant metric in ASR is the word error rate (WER), hence we will use it in this notebook as well."
      ]
    },
    {
      "cell_type": "code",
      "metadata": {
        "id": "9Xsux2gmyXso",
        "colab": {
          "base_uri": "https://localhost:8080/",
          "height": 49,
          "referenced_widgets": [
            "9cf7a200e92c43c79978cb3ce0a2195a",
            "6630133af05247c48689620737e6a1c1",
            "8011648450104ce6b1739e72f4c2afff",
            "3f5e61132d50431dabcc2d3ee4070834",
            "6e3084761f6c45bfa4db6605bd08bae3",
            "17dc65654668440482a4b30ec7d232a1",
            "d948c58d60c24974bd93b8812e987042",
            "6b1d64dd8b574a2fae10d685c90a4d08",
            "28135a8b4d7b490f9c55488697683fe4",
            "85268c0ef7314c1d8c5e99d34098553e",
            "d3c213483aa74bd695ecf099095bff9e"
          ]
        },
        "outputId": "bc5781d7-097c-4bc0-f0f8-bd2870483a88"
      },
      "source": [
        "wer_metric = load_metric(\"wer\")"
      ],
      "execution_count": 44,
      "outputs": [
        {
          "output_type": "display_data",
          "data": {
            "text/plain": [
              "Downloading:   0%|          | 0.00/1.90k [00:00<?, ?B/s]"
            ],
            "application/vnd.jupyter.widget-view+json": {
              "version_major": 2,
              "version_minor": 0,
              "model_id": "9cf7a200e92c43c79978cb3ce0a2195a"
            }
          },
          "metadata": {}
        }
      ]
    },
    {
      "cell_type": "markdown",
      "metadata": {
        "id": "E1qZU5p-deqB"
      },
      "source": [
        "The model will return a sequence of logit vectors:\n",
        "$\\mathbf{y}_1, \\ldots, \\mathbf{y}_m$ with $\\mathbf{y}_1 = f_{\\theta}(x_1, \\ldots, x_n)[0]$ and $n >> m$.\n",
        "\n",
        "A logit vector $\\mathbf{y}_1$ contains the log-odds for each word in the vocabulary we defined earlier, thus $\\text{len}(\\mathbf{y}_i) =$ `config.vocab_size`. We are interested in the most likely prediction of the model and thus take the `argmax(...)` of the logits. Also, we transform the encoded labels back to the original string by replacing `-100` with the `pad_token_id` and decoding the ids while making sure that consecutive tokens are **not** grouped to the same token in CTC style ${}^1$."
      ]
    },
    {
      "cell_type": "code",
      "metadata": {
        "id": "1XZ-kjweyTy_"
      },
      "source": [
        "def compute_metrics(pred):\n",
        "    pred_logits = pred.predictions\n",
        "    pred_ids = np.argmax(pred_logits, axis=-1)\n",
        "\n",
        "    pred.label_ids[pred.label_ids == -100] = processor.tokenizer.pad_token_id\n",
        "\n",
        "    pred_str = processor.batch_decode(pred_ids)\n",
        "    # we do not want to group tokens when computing the metrics\n",
        "    label_str = processor.batch_decode(pred.label_ids, group_tokens=False)\n",
        "\n",
        "    wer = wer_metric.compute(predictions=pred_str, references=label_str)\n",
        "\n",
        "    return {\"wer\": wer}"
      ],
      "execution_count": 45,
      "outputs": []
    },
    {
      "cell_type": "markdown",
      "metadata": {
        "id": "Xmgrx4bRwLIH"
      },
      "source": [
        "Now, we can load the pretrained `Wav2Vec2` checkpoint. The tokenizer's `pad_token_id` must be to define the model's `pad_token_id` or in the case of `Wav2Vec2ForCTC` also CTC's *blank token* ${}^2$. To save GPU memory, we enable PyTorch's [gradient checkpointing](https://pytorch.org/docs/stable/checkpoint.html) and also set the loss reduction to \"*mean*\"."
      ]
    },
    {
      "cell_type": "code",
      "metadata": {
        "colab": {
          "base_uri": "https://localhost:8080/",
          "height": 226,
          "referenced_widgets": [
            "74d9eeb3d0b24b4a8a7ff0375ee475ae",
            "ab7273b26a3241deaa47f624ad66264d",
            "23874f307fc945b5bf960f40e3f4bec3",
            "d3020670d9c243e6849bb51fa0f5b521",
            "d472c0de482447eaa81b42e12607637d",
            "063e6036aa5248df83ffb44d335c991e",
            "8fb6319b465d4fc9a368db429521a41d",
            "2778e3473cca4b0d94c1240f1c59914a",
            "a290b8f7d69040ebb99e9623e86994ff",
            "b5f5b77b53334613b387cc7fe8a6a5b9",
            "82089a7508c64ab9896de5a72c32af2c",
            "c86c1bc641a8421b8c1fbae5018057d5",
            "4f1cb83d9d104567860a46c77538e579",
            "4f39c4d845604bc89795c427e6d886b4",
            "dd52ad6728da4abd85b51f97428a0488",
            "3209f10c2fa84f13ad38460ad5792c22",
            "4495857d78334d44a221a55dc8d10c9c",
            "64bb97dfcc3c494e9af2664520de1bd3",
            "8189f81df9a440b1abdc053a5b8851a2",
            "2ed9d22dd5244e1f878f97b15edfc285",
            "888111a2d37c4cf2862c528accf093e1",
            "cd13c974191f4488b3a3966902d87bd2"
          ]
        },
        "id": "e7cqAWIayn6w",
        "outputId": "e6626b51-094e-4b7c-87a5-e42d126f049f"
      },
      "source": [
        "from transformers import Wav2Vec2ForCTC\n",
        " \n",
        "model = Wav2Vec2ForCTC.from_pretrained(\n",
        "    \"facebook/wav2vec2-base\", \n",
        "    ctc_loss_reduction=\"mean\", \n",
        "    pad_token_id=processor.tokenizer.pad_token_id,\n",
        ")"
      ],
      "execution_count": 46,
      "outputs": [
        {
          "output_type": "display_data",
          "data": {
            "text/plain": [
              "Downloading:   0%|          | 0.00/1.80k [00:00<?, ?B/s]"
            ],
            "application/vnd.jupyter.widget-view+json": {
              "version_major": 2,
              "version_minor": 0,
              "model_id": "74d9eeb3d0b24b4a8a7ff0375ee475ae"
            }
          },
          "metadata": {}
        },
        {
          "output_type": "stream",
          "name": "stderr",
          "text": [
            "/usr/local/lib/python3.7/dist-packages/transformers/configuration_utils.py:337: UserWarning: Passing `gradient_checkpointing` to a config initialization is deprecated and will be removed in v5 Transformers. Using `model.gradient_checkpointing_enable()` instead, or if you are using the `Trainer` API, pass `gradient_checkpointing=True` in your `TrainingArguments`.\n",
            "  \"Passing `gradient_checkpointing` to a config initialization is deprecated and will be removed in v5 \"\n"
          ]
        },
        {
          "output_type": "display_data",
          "data": {
            "text/plain": [
              "Downloading:   0%|          | 0.00/363M [00:00<?, ?B/s]"
            ],
            "application/vnd.jupyter.widget-view+json": {
              "version_major": 2,
              "version_minor": 0,
              "model_id": "c86c1bc641a8421b8c1fbae5018057d5"
            }
          },
          "metadata": {}
        },
        {
          "output_type": "stream",
          "name": "stderr",
          "text": [
            "Some weights of the model checkpoint at facebook/wav2vec2-base were not used when initializing Wav2Vec2ForCTC: ['quantizer.weight_proj.bias', 'project_hid.weight', 'project_hid.bias', 'quantizer.codevectors', 'quantizer.weight_proj.weight', 'project_q.weight', 'project_q.bias']\n",
            "- This IS expected if you are initializing Wav2Vec2ForCTC from the checkpoint of a model trained on another task or with another architecture (e.g. initializing a BertForSequenceClassification model from a BertForPreTraining model).\n",
            "- This IS NOT expected if you are initializing Wav2Vec2ForCTC from the checkpoint of a model that you expect to be exactly identical (initializing a BertForSequenceClassification model from a BertForSequenceClassification model).\n",
            "Some weights of Wav2Vec2ForCTC were not initialized from the model checkpoint at facebook/wav2vec2-base and are newly initialized: ['lm_head.bias', 'lm_head.weight']\n",
            "You should probably TRAIN this model on a down-stream task to be able to use it for predictions and inference.\n"
          ]
        }
      ]
    },
    {
      "cell_type": "markdown",
      "metadata": {
        "id": "1DwR3XLSzGDD"
      },
      "source": [
        "The first component of Wav2Vec2 consists of a stack of CNN layers that are used to extract acoustically meaningful - but contextually independent - features from the raw speech signal. This part of the model has already been sufficiently trained during pretrainind and as stated in the [paper](https://arxiv.org/abs/2006.11477) does not need to be fine-tuned anymore. \n",
        "Thus, we can set the `requires_grad` to `False` for all parameters of the *feature extraction* part."
      ]
    },
    {
      "cell_type": "markdown",
      "metadata": {
        "id": "lD4aGhQM0K-D"
      },
      "source": [
        "In a final step, we define all parameters related to training. \n",
        "To give more explanation on some of the parameters:\n",
        "- `group_by_length` makes training more efficient by grouping training samples of similar input length into one batch. This can significantly speed up training time by heavily reducing the overall number of useless padding tokens that are passed through the model\n",
        "- `learning_rate` and `weight_decay` were heuristically tuned until fine-tuning has become stable. Note that those parameters strongly depend on the Timit dataset and might be suboptimal for other speech datasets.\n",
        "\n",
        "For more explanations on other parameters, one can take a look at the [docs](https://huggingface.co/transformers/master/main_classes/trainer.html?highlight=trainer#trainingarguments).\n",
        "\n",
        "During training, a checkpoint will be uploaded asynchronously to the hub every 400 training steps. It allows you to also play around with the demo widget even while your model is still training.\n",
        "\n",
        "**Note**: If one does not want to upload the model checkpoints to the hub, simply set `push_to_hub=False`."
      ]
    },
    {
      "cell_type": "code",
      "metadata": {
        "id": "KbeKSV7uzGPP",
        "colab": {
          "base_uri": "https://localhost:8080/"
        },
        "outputId": "292e99d6-916f-43e7-f2d7-d7d8db7a98c4"
      },
      "source": [
        "from transformers import TrainingArguments\n",
        "\n",
        "training_args = TrainingArguments(\n",
        "  output_dir=repo_name,\n",
        "  group_by_length=True,\n",
        "  per_device_train_batch_size=32,\n",
        "  evaluation_strategy=\"steps\",\n",
        "  num_train_epochs=30,\n",
        "  fp16=True,\n",
        "  gradient_checkpointing=True,\n",
        "  save_steps=500,\n",
        "  eval_steps=500,\n",
        "  logging_steps=500,\n",
        "  learning_rate=1e-4,\n",
        "  weight_decay=0.005,\n",
        "  warmup_steps=1000,\n",
        "  save_total_limit=2,\n",
        "  push_to_hub=True,\n",
        ")"
      ],
      "execution_count": 53,
      "outputs": [
        {
          "output_type": "stream",
          "name": "stderr",
          "text": [
            "PyTorch: setting up devices\n",
            "The default value for the training argument `--report_to` will change in v5 (from all installed integrations to none). In v5, you will need to use `--report_to all` to get the same behavior as now. You should start updating your code and make this info disappear :-).\n"
          ]
        }
      ]
    },
    {
      "cell_type": "markdown",
      "metadata": {
        "id": "OsW-WZcL1ZtN"
      },
      "source": [
        "Now, all instances can be passed to Trainer and we are ready to start training!"
      ]
    },
    {
      "cell_type": "code",
      "source": [
        "device = torch.device(\"cuda:0\" if torch.cuda.is_available() else \"cpu\")\n",
        "model.cuda()"
      ],
      "metadata": {
        "id": "D94akgEtC5aI",
        "outputId": "d0b54670-a2e8-41d5-fc4a-a04a7937bc8d",
        "colab": {
          "base_uri": "https://localhost:8080/",
          "height": 204
        }
      },
      "execution_count": 65,
      "outputs": [
        {
          "output_type": "error",
          "ename": "AttributeError",
          "evalue": "ignored",
          "traceback": [
            "\u001b[0;31m---------------------------------------------------------------------------\u001b[0m",
            "\u001b[0;31mAttributeError\u001b[0m                            Traceback (most recent call last)",
            "\u001b[0;32m<ipython-input-65-db5215c78d11>\u001b[0m in \u001b[0;36m<module>\u001b[0;34m()\u001b[0m\n\u001b[1;32m      1\u001b[0m \u001b[0mdevice\u001b[0m \u001b[0;34m=\u001b[0m \u001b[0mtorch\u001b[0m\u001b[0;34m.\u001b[0m\u001b[0mdevice\u001b[0m\u001b[0;34m(\u001b[0m\u001b[0;34m\"cuda:0\"\u001b[0m \u001b[0;32mif\u001b[0m \u001b[0mtorch\u001b[0m\u001b[0;34m.\u001b[0m\u001b[0mcuda\u001b[0m\u001b[0;34m.\u001b[0m\u001b[0mis_available\u001b[0m\u001b[0;34m(\u001b[0m\u001b[0;34m)\u001b[0m \u001b[0;32melse\u001b[0m \u001b[0;34m\"cpu\"\u001b[0m\u001b[0;34m)\u001b[0m\u001b[0;34m\u001b[0m\u001b[0;34m\u001b[0m\u001b[0m\n\u001b[1;32m      2\u001b[0m \u001b[0mmodel\u001b[0m\u001b[0;34m.\u001b[0m\u001b[0mcuda\u001b[0m\u001b[0;34m(\u001b[0m\u001b[0;34m)\u001b[0m\u001b[0;34m\u001b[0m\u001b[0;34m\u001b[0m\u001b[0m\n\u001b[0;32m----> 3\u001b[0;31m \u001b[0mtraining_args\u001b[0m\u001b[0;34m.\u001b[0m\u001b[0mcuda\u001b[0m\u001b[0;34m(\u001b[0m\u001b[0;34m)\u001b[0m\u001b[0;34m\u001b[0m\u001b[0;34m\u001b[0m\u001b[0m\n\u001b[0m",
            "\u001b[0;31mAttributeError\u001b[0m: 'TrainingArguments' object has no attribute 'cuda'"
          ]
        }
      ]
    },
    {
      "cell_type": "code",
      "metadata": {
        "id": "rY7vBmFCPFgC",
        "colab": {
          "base_uri": "https://localhost:8080/"
        },
        "outputId": "493c6abc-853b-4f9b-e622-4bbcb98c24f4"
      },
      "source": [
        "from transformers import Trainer\n",
        "\n",
        "trainer = Trainer(\n",
        "    model=model,\n",
        "    data_collator=data_collator,\n",
        "    args=training_args,\n",
        "    compute_metrics=compute_metrics,\n",
        "    train_dataset=vctk[\"train\"],\n",
        "    eval_dataset=X_test,\n",
        "    tokenizer=processor.feature_extractor,\n",
        ")"
      ],
      "execution_count": 63,
      "outputs": [
        {
          "output_type": "stream",
          "name": "stderr",
          "text": [
            "/content/wav2vec2-base-timit-demo-colab is already a clone of https://huggingface.co/ToToKr/wav2vec2-base-timit-demo-colab. Make sure you pull the latest changes with `repo.git_pull()`.\n",
            "Using amp fp16 backend\n"
          ]
        }
      ]
    },
    {
      "cell_type": "markdown",
      "metadata": {
        "id": "UoXBx1JAA0DX"
      },
      "source": [
        "\n",
        "\n",
        "---\n",
        "\n",
        "${}^1$ To allow models to become independent of the speaker rate, in CTC, consecutive tokens that are identical are simply grouped as a single token. However, the encoded labels should not be grouped when decoding since they don't correspond to the predicted tokens of the model, which is why the `group_tokens=False` parameter has to be passed. If we wouldn't pass this parameter a word like `\"hello\"` would incorrectly be encoded, and decoded as `\"helo\"`.\n",
        "\n",
        "${}^2$ The blank token allows the model to predict a word, such as `\"hello\"` by forcing it to insert the blank token between the two l's. A CTC-conform prediction of `\"hello\"` of our model would be `[PAD] [PAD] \"h\" \"e\" \"e\" \"l\" \"l\" [PAD] \"l\" \"o\" \"o\" [PAD]`."
      ]
    },
    {
      "cell_type": "markdown",
      "metadata": {
        "id": "rpvZHM1xReIW"
      },
      "source": [
        "### Training"
      ]
    },
    {
      "cell_type": "markdown",
      "metadata": {
        "id": "j-3oKSzZ1hGq"
      },
      "source": [
        "Training will take between 90 and 270 minutes depending on the GPU allocated to this notebook. While the trained model yields satisfying results on *Timit*'s test data, it is by no means an optimally fine-tuned model. The purpose of this notebook is to demonstrate how Wav2Vec2's [base](https://huggingface.co/facebook/wav2vec2-base), [large](https://huggingface.co/facebook/wav2vec2-large), and [large-lv60](https://huggingface.co/facebook/wav2vec2-large-lv60) checkpoints can be fine-tuned on any English dataset.\n",
        "\n",
        "In case you want to use this google colab to fine-tune your model, you should make sure that your training doesn't stop due to inactivity. A simple hack to prevent this is to paste the following code into the console of this tab (*right mouse click -> inspect -> Console tab and insert code*)."
      ]
    },
    {
      "cell_type": "markdown",
      "metadata": {
        "id": "VYYAvgkW4P0m"
      },
      "source": [
        "```javascript\n",
        "function ConnectButton(){\n",
        "    console.log(\"Connect pushed\"); \n",
        "    document.querySelector(\"#top-toolbar > colab-connect-button\").shadowRoot.querySelector(\"#connect\").click() \n",
        "}\n",
        "setInterval(ConnectButton,60000);\n",
        "```"
      ]
    },
    {
      "cell_type": "markdown",
      "metadata": {
        "id": "PmY6yqd1zvzU"
      },
      "source": [
        "Depending on what GPU was allocated to your google colab it might be possible that you are seeing an `\"out-of-memory\"` error here. In this case, it's probably best to reduce `per_device_train_batch_size` to 16 or even less and eventually make use of [`gradient_accumulation`](https://huggingface.co/transformers/master/main_classes/trainer.html#trainingarguments)."
      ]
    },
    {
      "cell_type": "code",
      "metadata": {
        "colab": {
          "base_uri": "https://localhost:8080/",
          "height": 516
        },
        "id": "_UEjJqGsQw24",
        "outputId": "85912e8b-6185-4714-8f9c-6b517879ee7a"
      },
      "source": [
        "trainer.train()"
      ],
      "execution_count": 64,
      "outputs": [
        {
          "output_type": "stream",
          "name": "stderr",
          "text": [
            "The following columns in the training set  don't have a corresponding argument in `Wav2Vec2ForCTC.forward` and have been ignored: input_length.\n",
            "***** Running training *****\n",
            "  Num examples = 14\n",
            "  Num Epochs = 30\n",
            "  Instantaneous batch size per device = 32\n",
            "  Total train batch size (w. parallel, distributed & accumulation) = 32\n",
            "  Gradient Accumulation steps = 1\n",
            "  Total optimization steps = 30\n"
          ]
        },
        {
          "output_type": "error",
          "ename": "RuntimeError",
          "evalue": "ignored",
          "traceback": [
            "\u001b[0;31m---------------------------------------------------------------------------\u001b[0m",
            "\u001b[0;31mRuntimeError\u001b[0m                              Traceback (most recent call last)",
            "\u001b[0;32m<ipython-input-64-3435b262f1ae>\u001b[0m in \u001b[0;36m<module>\u001b[0;34m()\u001b[0m\n\u001b[0;32m----> 1\u001b[0;31m \u001b[0mtrainer\u001b[0m\u001b[0;34m.\u001b[0m\u001b[0mtrain\u001b[0m\u001b[0;34m(\u001b[0m\u001b[0;34m)\u001b[0m\u001b[0;34m\u001b[0m\u001b[0;34m\u001b[0m\u001b[0m\n\u001b[0m",
            "\u001b[0;32m/usr/local/lib/python3.7/dist-packages/transformers/trainer.py\u001b[0m in \u001b[0;36mtrain\u001b[0;34m(self, resume_from_checkpoint, trial, ignore_keys_for_eval, **kwargs)\u001b[0m\n\u001b[1;32m   1314\u001b[0m                         \u001b[0mtr_loss_step\u001b[0m \u001b[0;34m=\u001b[0m \u001b[0mself\u001b[0m\u001b[0;34m.\u001b[0m\u001b[0mtraining_step\u001b[0m\u001b[0;34m(\u001b[0m\u001b[0mmodel\u001b[0m\u001b[0;34m,\u001b[0m \u001b[0minputs\u001b[0m\u001b[0;34m)\u001b[0m\u001b[0;34m\u001b[0m\u001b[0;34m\u001b[0m\u001b[0m\n\u001b[1;32m   1315\u001b[0m                 \u001b[0;32melse\u001b[0m\u001b[0;34m:\u001b[0m\u001b[0;34m\u001b[0m\u001b[0;34m\u001b[0m\u001b[0m\n\u001b[0;32m-> 1316\u001b[0;31m                     \u001b[0mtr_loss_step\u001b[0m \u001b[0;34m=\u001b[0m \u001b[0mself\u001b[0m\u001b[0;34m.\u001b[0m\u001b[0mtraining_step\u001b[0m\u001b[0;34m(\u001b[0m\u001b[0mmodel\u001b[0m\u001b[0;34m,\u001b[0m \u001b[0minputs\u001b[0m\u001b[0;34m)\u001b[0m\u001b[0;34m\u001b[0m\u001b[0;34m\u001b[0m\u001b[0m\n\u001b[0m\u001b[1;32m   1317\u001b[0m \u001b[0;34m\u001b[0m\u001b[0m\n\u001b[1;32m   1318\u001b[0m                 if (\n",
            "\u001b[0;32m/usr/local/lib/python3.7/dist-packages/transformers/trainer.py\u001b[0m in \u001b[0;36mtraining_step\u001b[0;34m(self, model, inputs)\u001b[0m\n\u001b[1;32m   1845\u001b[0m         \u001b[0;32mif\u001b[0m \u001b[0mself\u001b[0m\u001b[0;34m.\u001b[0m\u001b[0muse_amp\u001b[0m\u001b[0;34m:\u001b[0m\u001b[0;34m\u001b[0m\u001b[0;34m\u001b[0m\u001b[0m\n\u001b[1;32m   1846\u001b[0m             \u001b[0;32mwith\u001b[0m \u001b[0mautocast\u001b[0m\u001b[0;34m(\u001b[0m\u001b[0;34m)\u001b[0m\u001b[0;34m:\u001b[0m\u001b[0;34m\u001b[0m\u001b[0;34m\u001b[0m\u001b[0m\n\u001b[0;32m-> 1847\u001b[0;31m                 \u001b[0mloss\u001b[0m \u001b[0;34m=\u001b[0m \u001b[0mself\u001b[0m\u001b[0;34m.\u001b[0m\u001b[0mcompute_loss\u001b[0m\u001b[0;34m(\u001b[0m\u001b[0mmodel\u001b[0m\u001b[0;34m,\u001b[0m \u001b[0minputs\u001b[0m\u001b[0;34m)\u001b[0m\u001b[0;34m\u001b[0m\u001b[0;34m\u001b[0m\u001b[0m\n\u001b[0m\u001b[1;32m   1848\u001b[0m         \u001b[0;32melse\u001b[0m\u001b[0;34m:\u001b[0m\u001b[0;34m\u001b[0m\u001b[0;34m\u001b[0m\u001b[0m\n\u001b[1;32m   1849\u001b[0m             \u001b[0mloss\u001b[0m \u001b[0;34m=\u001b[0m \u001b[0mself\u001b[0m\u001b[0;34m.\u001b[0m\u001b[0mcompute_loss\u001b[0m\u001b[0;34m(\u001b[0m\u001b[0mmodel\u001b[0m\u001b[0;34m,\u001b[0m \u001b[0minputs\u001b[0m\u001b[0;34m)\u001b[0m\u001b[0;34m\u001b[0m\u001b[0;34m\u001b[0m\u001b[0m\n",
            "\u001b[0;32m/usr/local/lib/python3.7/dist-packages/transformers/trainer.py\u001b[0m in \u001b[0;36mcompute_loss\u001b[0;34m(self, model, inputs, return_outputs)\u001b[0m\n\u001b[1;32m   1879\u001b[0m         \u001b[0;32melse\u001b[0m\u001b[0;34m:\u001b[0m\u001b[0;34m\u001b[0m\u001b[0;34m\u001b[0m\u001b[0m\n\u001b[1;32m   1880\u001b[0m             \u001b[0mlabels\u001b[0m \u001b[0;34m=\u001b[0m \u001b[0;32mNone\u001b[0m\u001b[0;34m\u001b[0m\u001b[0;34m\u001b[0m\u001b[0m\n\u001b[0;32m-> 1881\u001b[0;31m         \u001b[0moutputs\u001b[0m \u001b[0;34m=\u001b[0m \u001b[0mmodel\u001b[0m\u001b[0;34m(\u001b[0m\u001b[0;34m**\u001b[0m\u001b[0minputs\u001b[0m\u001b[0;34m)\u001b[0m\u001b[0;34m\u001b[0m\u001b[0;34m\u001b[0m\u001b[0m\n\u001b[0m\u001b[1;32m   1882\u001b[0m         \u001b[0;31m# Save past state if it exists\u001b[0m\u001b[0;34m\u001b[0m\u001b[0;34m\u001b[0m\u001b[0;34m\u001b[0m\u001b[0m\n\u001b[1;32m   1883\u001b[0m         \u001b[0;31m# TODO: this needs to be fixed and made cleaner later.\u001b[0m\u001b[0;34m\u001b[0m\u001b[0;34m\u001b[0m\u001b[0;34m\u001b[0m\u001b[0m\n",
            "\u001b[0;32m/usr/local/lib/python3.7/dist-packages/torch/nn/modules/module.py\u001b[0m in \u001b[0;36m_call_impl\u001b[0;34m(self, *input, **kwargs)\u001b[0m\n\u001b[1;32m   1108\u001b[0m         if not (self._backward_hooks or self._forward_hooks or self._forward_pre_hooks or _global_backward_hooks\n\u001b[1;32m   1109\u001b[0m                 or _global_forward_hooks or _global_forward_pre_hooks):\n\u001b[0;32m-> 1110\u001b[0;31m             \u001b[0;32mreturn\u001b[0m \u001b[0mforward_call\u001b[0m\u001b[0;34m(\u001b[0m\u001b[0;34m*\u001b[0m\u001b[0minput\u001b[0m\u001b[0;34m,\u001b[0m \u001b[0;34m**\u001b[0m\u001b[0mkwargs\u001b[0m\u001b[0;34m)\u001b[0m\u001b[0;34m\u001b[0m\u001b[0;34m\u001b[0m\u001b[0m\n\u001b[0m\u001b[1;32m   1111\u001b[0m         \u001b[0;31m# Do not call functions when jit is used\u001b[0m\u001b[0;34m\u001b[0m\u001b[0;34m\u001b[0m\u001b[0;34m\u001b[0m\u001b[0m\n\u001b[1;32m   1112\u001b[0m         \u001b[0mfull_backward_hooks\u001b[0m\u001b[0;34m,\u001b[0m \u001b[0mnon_full_backward_hooks\u001b[0m \u001b[0;34m=\u001b[0m \u001b[0;34m[\u001b[0m\u001b[0;34m]\u001b[0m\u001b[0;34m,\u001b[0m \u001b[0;34m[\u001b[0m\u001b[0;34m]\u001b[0m\u001b[0;34m\u001b[0m\u001b[0;34m\u001b[0m\u001b[0m\n",
            "\u001b[0;32m/usr/local/lib/python3.7/dist-packages/transformers/models/wav2vec2/modeling_wav2vec2.py\u001b[0m in \u001b[0;36mforward\u001b[0;34m(self, input_values, attention_mask, output_attentions, output_hidden_states, return_dict, labels)\u001b[0m\n\u001b[1;32m   1497\u001b[0m             \u001b[0moutput_attentions\u001b[0m\u001b[0;34m=\u001b[0m\u001b[0moutput_attentions\u001b[0m\u001b[0;34m,\u001b[0m\u001b[0;34m\u001b[0m\u001b[0;34m\u001b[0m\u001b[0m\n\u001b[1;32m   1498\u001b[0m             \u001b[0moutput_hidden_states\u001b[0m\u001b[0;34m=\u001b[0m\u001b[0moutput_hidden_states\u001b[0m\u001b[0;34m,\u001b[0m\u001b[0;34m\u001b[0m\u001b[0;34m\u001b[0m\u001b[0m\n\u001b[0;32m-> 1499\u001b[0;31m             \u001b[0mreturn_dict\u001b[0m\u001b[0;34m=\u001b[0m\u001b[0mreturn_dict\u001b[0m\u001b[0;34m,\u001b[0m\u001b[0;34m\u001b[0m\u001b[0;34m\u001b[0m\u001b[0m\n\u001b[0m\u001b[1;32m   1500\u001b[0m         )\n\u001b[1;32m   1501\u001b[0m \u001b[0;34m\u001b[0m\u001b[0m\n",
            "\u001b[0;32m/usr/local/lib/python3.7/dist-packages/torch/nn/modules/module.py\u001b[0m in \u001b[0;36m_call_impl\u001b[0;34m(self, *input, **kwargs)\u001b[0m\n\u001b[1;32m   1108\u001b[0m         if not (self._backward_hooks or self._forward_hooks or self._forward_pre_hooks or _global_backward_hooks\n\u001b[1;32m   1109\u001b[0m                 or _global_forward_hooks or _global_forward_pre_hooks):\n\u001b[0;32m-> 1110\u001b[0;31m             \u001b[0;32mreturn\u001b[0m \u001b[0mforward_call\u001b[0m\u001b[0;34m(\u001b[0m\u001b[0;34m*\u001b[0m\u001b[0minput\u001b[0m\u001b[0;34m,\u001b[0m \u001b[0;34m**\u001b[0m\u001b[0mkwargs\u001b[0m\u001b[0;34m)\u001b[0m\u001b[0;34m\u001b[0m\u001b[0;34m\u001b[0m\u001b[0m\n\u001b[0m\u001b[1;32m   1111\u001b[0m         \u001b[0;31m# Do not call functions when jit is used\u001b[0m\u001b[0;34m\u001b[0m\u001b[0;34m\u001b[0m\u001b[0;34m\u001b[0m\u001b[0m\n\u001b[1;32m   1112\u001b[0m         \u001b[0mfull_backward_hooks\u001b[0m\u001b[0;34m,\u001b[0m \u001b[0mnon_full_backward_hooks\u001b[0m \u001b[0;34m=\u001b[0m \u001b[0;34m[\u001b[0m\u001b[0;34m]\u001b[0m\u001b[0;34m,\u001b[0m \u001b[0;34m[\u001b[0m\u001b[0;34m]\u001b[0m\u001b[0;34m\u001b[0m\u001b[0;34m\u001b[0m\u001b[0m\n",
            "\u001b[0;32m/usr/local/lib/python3.7/dist-packages/transformers/models/wav2vec2/modeling_wav2vec2.py\u001b[0m in \u001b[0;36mforward\u001b[0;34m(self, input_values, attention_mask, mask_time_indices, output_attentions, output_hidden_states, return_dict)\u001b[0m\n\u001b[1;32m   1062\u001b[0m         \u001b[0mreturn_dict\u001b[0m \u001b[0;34m=\u001b[0m \u001b[0mreturn_dict\u001b[0m \u001b[0;32mif\u001b[0m \u001b[0mreturn_dict\u001b[0m \u001b[0;32mis\u001b[0m \u001b[0;32mnot\u001b[0m \u001b[0;32mNone\u001b[0m \u001b[0;32melse\u001b[0m \u001b[0mself\u001b[0m\u001b[0;34m.\u001b[0m\u001b[0mconfig\u001b[0m\u001b[0;34m.\u001b[0m\u001b[0muse_return_dict\u001b[0m\u001b[0;34m\u001b[0m\u001b[0;34m\u001b[0m\u001b[0m\n\u001b[1;32m   1063\u001b[0m \u001b[0;34m\u001b[0m\u001b[0m\n\u001b[0;32m-> 1064\u001b[0;31m         \u001b[0mextract_features\u001b[0m \u001b[0;34m=\u001b[0m \u001b[0mself\u001b[0m\u001b[0;34m.\u001b[0m\u001b[0mfeature_extractor\u001b[0m\u001b[0;34m(\u001b[0m\u001b[0minput_values\u001b[0m\u001b[0;34m)\u001b[0m\u001b[0;34m\u001b[0m\u001b[0;34m\u001b[0m\u001b[0m\n\u001b[0m\u001b[1;32m   1065\u001b[0m         \u001b[0mextract_features\u001b[0m \u001b[0;34m=\u001b[0m \u001b[0mextract_features\u001b[0m\u001b[0;34m.\u001b[0m\u001b[0mtranspose\u001b[0m\u001b[0;34m(\u001b[0m\u001b[0;36m1\u001b[0m\u001b[0;34m,\u001b[0m \u001b[0;36m2\u001b[0m\u001b[0;34m)\u001b[0m\u001b[0;34m\u001b[0m\u001b[0;34m\u001b[0m\u001b[0m\n\u001b[1;32m   1066\u001b[0m \u001b[0;34m\u001b[0m\u001b[0m\n",
            "\u001b[0;32m/usr/local/lib/python3.7/dist-packages/torch/nn/modules/module.py\u001b[0m in \u001b[0;36m_call_impl\u001b[0;34m(self, *input, **kwargs)\u001b[0m\n\u001b[1;32m   1108\u001b[0m         if not (self._backward_hooks or self._forward_hooks or self._forward_pre_hooks or _global_backward_hooks\n\u001b[1;32m   1109\u001b[0m                 or _global_forward_hooks or _global_forward_pre_hooks):\n\u001b[0;32m-> 1110\u001b[0;31m             \u001b[0;32mreturn\u001b[0m \u001b[0mforward_call\u001b[0m\u001b[0;34m(\u001b[0m\u001b[0;34m*\u001b[0m\u001b[0minput\u001b[0m\u001b[0;34m,\u001b[0m \u001b[0;34m**\u001b[0m\u001b[0mkwargs\u001b[0m\u001b[0;34m)\u001b[0m\u001b[0;34m\u001b[0m\u001b[0;34m\u001b[0m\u001b[0m\n\u001b[0m\u001b[1;32m   1111\u001b[0m         \u001b[0;31m# Do not call functions when jit is used\u001b[0m\u001b[0;34m\u001b[0m\u001b[0;34m\u001b[0m\u001b[0;34m\u001b[0m\u001b[0m\n\u001b[1;32m   1112\u001b[0m         \u001b[0mfull_backward_hooks\u001b[0m\u001b[0;34m,\u001b[0m \u001b[0mnon_full_backward_hooks\u001b[0m \u001b[0;34m=\u001b[0m \u001b[0;34m[\u001b[0m\u001b[0;34m]\u001b[0m\u001b[0;34m,\u001b[0m \u001b[0;34m[\u001b[0m\u001b[0;34m]\u001b[0m\u001b[0;34m\u001b[0m\u001b[0;34m\u001b[0m\u001b[0m\n",
            "\u001b[0;32m/usr/local/lib/python3.7/dist-packages/transformers/models/wav2vec2/modeling_wav2vec2.py\u001b[0m in \u001b[0;36mforward\u001b[0;34m(self, input_values)\u001b[0m\n\u001b[1;32m    335\u001b[0m         \u001b[0mhidden_states\u001b[0m \u001b[0;34m=\u001b[0m \u001b[0minput_values\u001b[0m\u001b[0;34m[\u001b[0m\u001b[0;34m:\u001b[0m\u001b[0;34m,\u001b[0m \u001b[0;32mNone\u001b[0m\u001b[0;34m]\u001b[0m\u001b[0;34m\u001b[0m\u001b[0;34m\u001b[0m\u001b[0m\n\u001b[1;32m    336\u001b[0m         \u001b[0;32mfor\u001b[0m \u001b[0mconv_layer\u001b[0m \u001b[0;32min\u001b[0m \u001b[0mself\u001b[0m\u001b[0;34m.\u001b[0m\u001b[0mconv_layers\u001b[0m\u001b[0;34m:\u001b[0m\u001b[0;34m\u001b[0m\u001b[0;34m\u001b[0m\u001b[0m\n\u001b[0;32m--> 337\u001b[0;31m             \u001b[0mhidden_states\u001b[0m \u001b[0;34m=\u001b[0m \u001b[0mconv_layer\u001b[0m\u001b[0;34m(\u001b[0m\u001b[0mhidden_states\u001b[0m\u001b[0;34m)\u001b[0m\u001b[0;34m\u001b[0m\u001b[0;34m\u001b[0m\u001b[0m\n\u001b[0m\u001b[1;32m    338\u001b[0m \u001b[0;34m\u001b[0m\u001b[0m\n\u001b[1;32m    339\u001b[0m         \u001b[0;32mreturn\u001b[0m \u001b[0mhidden_states\u001b[0m\u001b[0;34m\u001b[0m\u001b[0;34m\u001b[0m\u001b[0m\n",
            "\u001b[0;32m/usr/local/lib/python3.7/dist-packages/torch/nn/modules/module.py\u001b[0m in \u001b[0;36m_call_impl\u001b[0;34m(self, *input, **kwargs)\u001b[0m\n\u001b[1;32m   1108\u001b[0m         if not (self._backward_hooks or self._forward_hooks or self._forward_pre_hooks or _global_backward_hooks\n\u001b[1;32m   1109\u001b[0m                 or _global_forward_hooks or _global_forward_pre_hooks):\n\u001b[0;32m-> 1110\u001b[0;31m             \u001b[0;32mreturn\u001b[0m \u001b[0mforward_call\u001b[0m\u001b[0;34m(\u001b[0m\u001b[0;34m*\u001b[0m\u001b[0minput\u001b[0m\u001b[0;34m,\u001b[0m \u001b[0;34m**\u001b[0m\u001b[0mkwargs\u001b[0m\u001b[0;34m)\u001b[0m\u001b[0;34m\u001b[0m\u001b[0;34m\u001b[0m\u001b[0m\n\u001b[0m\u001b[1;32m   1111\u001b[0m         \u001b[0;31m# Do not call functions when jit is used\u001b[0m\u001b[0;34m\u001b[0m\u001b[0;34m\u001b[0m\u001b[0;34m\u001b[0m\u001b[0m\n\u001b[1;32m   1112\u001b[0m         \u001b[0mfull_backward_hooks\u001b[0m\u001b[0;34m,\u001b[0m \u001b[0mnon_full_backward_hooks\u001b[0m \u001b[0;34m=\u001b[0m \u001b[0;34m[\u001b[0m\u001b[0;34m]\u001b[0m\u001b[0;34m,\u001b[0m \u001b[0;34m[\u001b[0m\u001b[0;34m]\u001b[0m\u001b[0;34m\u001b[0m\u001b[0;34m\u001b[0m\u001b[0m\n",
            "\u001b[0;32m/usr/local/lib/python3.7/dist-packages/transformers/models/wav2vec2/modeling_wav2vec2.py\u001b[0m in \u001b[0;36mforward\u001b[0;34m(self, hidden_states)\u001b[0m\n\u001b[1;32m    256\u001b[0m \u001b[0;34m\u001b[0m\u001b[0m\n\u001b[1;32m    257\u001b[0m     \u001b[0;32mdef\u001b[0m \u001b[0mforward\u001b[0m\u001b[0;34m(\u001b[0m\u001b[0mself\u001b[0m\u001b[0;34m,\u001b[0m \u001b[0mhidden_states\u001b[0m\u001b[0;34m)\u001b[0m\u001b[0;34m:\u001b[0m\u001b[0;34m\u001b[0m\u001b[0;34m\u001b[0m\u001b[0m\n\u001b[0;32m--> 258\u001b[0;31m         \u001b[0mhidden_states\u001b[0m \u001b[0;34m=\u001b[0m \u001b[0mself\u001b[0m\u001b[0;34m.\u001b[0m\u001b[0mconv\u001b[0m\u001b[0;34m(\u001b[0m\u001b[0mhidden_states\u001b[0m\u001b[0;34m)\u001b[0m\u001b[0;34m\u001b[0m\u001b[0;34m\u001b[0m\u001b[0m\n\u001b[0m\u001b[1;32m    259\u001b[0m         \u001b[0mhidden_states\u001b[0m \u001b[0;34m=\u001b[0m \u001b[0mself\u001b[0m\u001b[0;34m.\u001b[0m\u001b[0mlayer_norm\u001b[0m\u001b[0;34m(\u001b[0m\u001b[0mhidden_states\u001b[0m\u001b[0;34m)\u001b[0m\u001b[0;34m\u001b[0m\u001b[0;34m\u001b[0m\u001b[0m\n\u001b[1;32m    260\u001b[0m         \u001b[0mhidden_states\u001b[0m \u001b[0;34m=\u001b[0m \u001b[0mself\u001b[0m\u001b[0;34m.\u001b[0m\u001b[0mactivation\u001b[0m\u001b[0;34m(\u001b[0m\u001b[0mhidden_states\u001b[0m\u001b[0;34m)\u001b[0m\u001b[0;34m\u001b[0m\u001b[0;34m\u001b[0m\u001b[0m\n",
            "\u001b[0;32m/usr/local/lib/python3.7/dist-packages/torch/nn/modules/module.py\u001b[0m in \u001b[0;36m_call_impl\u001b[0;34m(self, *input, **kwargs)\u001b[0m\n\u001b[1;32m   1108\u001b[0m         if not (self._backward_hooks or self._forward_hooks or self._forward_pre_hooks or _global_backward_hooks\n\u001b[1;32m   1109\u001b[0m                 or _global_forward_hooks or _global_forward_pre_hooks):\n\u001b[0;32m-> 1110\u001b[0;31m             \u001b[0;32mreturn\u001b[0m \u001b[0mforward_call\u001b[0m\u001b[0;34m(\u001b[0m\u001b[0;34m*\u001b[0m\u001b[0minput\u001b[0m\u001b[0;34m,\u001b[0m \u001b[0;34m**\u001b[0m\u001b[0mkwargs\u001b[0m\u001b[0;34m)\u001b[0m\u001b[0;34m\u001b[0m\u001b[0;34m\u001b[0m\u001b[0m\n\u001b[0m\u001b[1;32m   1111\u001b[0m         \u001b[0;31m# Do not call functions when jit is used\u001b[0m\u001b[0;34m\u001b[0m\u001b[0;34m\u001b[0m\u001b[0;34m\u001b[0m\u001b[0m\n\u001b[1;32m   1112\u001b[0m         \u001b[0mfull_backward_hooks\u001b[0m\u001b[0;34m,\u001b[0m \u001b[0mnon_full_backward_hooks\u001b[0m \u001b[0;34m=\u001b[0m \u001b[0;34m[\u001b[0m\u001b[0;34m]\u001b[0m\u001b[0;34m,\u001b[0m \u001b[0;34m[\u001b[0m\u001b[0;34m]\u001b[0m\u001b[0;34m\u001b[0m\u001b[0;34m\u001b[0m\u001b[0m\n",
            "\u001b[0;32m/usr/local/lib/python3.7/dist-packages/torch/nn/modules/conv.py\u001b[0m in \u001b[0;36mforward\u001b[0;34m(self, input)\u001b[0m\n\u001b[1;32m    300\u001b[0m \u001b[0;34m\u001b[0m\u001b[0m\n\u001b[1;32m    301\u001b[0m     \u001b[0;32mdef\u001b[0m \u001b[0mforward\u001b[0m\u001b[0;34m(\u001b[0m\u001b[0mself\u001b[0m\u001b[0;34m,\u001b[0m \u001b[0minput\u001b[0m\u001b[0;34m:\u001b[0m \u001b[0mTensor\u001b[0m\u001b[0;34m)\u001b[0m \u001b[0;34m->\u001b[0m \u001b[0mTensor\u001b[0m\u001b[0;34m:\u001b[0m\u001b[0;34m\u001b[0m\u001b[0;34m\u001b[0m\u001b[0m\n\u001b[0;32m--> 302\u001b[0;31m         \u001b[0;32mreturn\u001b[0m \u001b[0mself\u001b[0m\u001b[0;34m.\u001b[0m\u001b[0m_conv_forward\u001b[0m\u001b[0;34m(\u001b[0m\u001b[0minput\u001b[0m\u001b[0;34m,\u001b[0m \u001b[0mself\u001b[0m\u001b[0;34m.\u001b[0m\u001b[0mweight\u001b[0m\u001b[0;34m,\u001b[0m \u001b[0mself\u001b[0m\u001b[0;34m.\u001b[0m\u001b[0mbias\u001b[0m\u001b[0;34m)\u001b[0m\u001b[0;34m\u001b[0m\u001b[0;34m\u001b[0m\u001b[0m\n\u001b[0m\u001b[1;32m    303\u001b[0m \u001b[0;34m\u001b[0m\u001b[0m\n\u001b[1;32m    304\u001b[0m \u001b[0;34m\u001b[0m\u001b[0m\n",
            "\u001b[0;32m/usr/local/lib/python3.7/dist-packages/torch/nn/modules/conv.py\u001b[0m in \u001b[0;36m_conv_forward\u001b[0;34m(self, input, weight, bias)\u001b[0m\n\u001b[1;32m    297\u001b[0m                             _single(0), self.dilation, self.groups)\n\u001b[1;32m    298\u001b[0m         return F.conv1d(input, weight, bias, self.stride,\n\u001b[0;32m--> 299\u001b[0;31m                         self.padding, self.dilation, self.groups)\n\u001b[0m\u001b[1;32m    300\u001b[0m \u001b[0;34m\u001b[0m\u001b[0m\n\u001b[1;32m    301\u001b[0m     \u001b[0;32mdef\u001b[0m \u001b[0mforward\u001b[0m\u001b[0;34m(\u001b[0m\u001b[0mself\u001b[0m\u001b[0;34m,\u001b[0m \u001b[0minput\u001b[0m\u001b[0;34m:\u001b[0m \u001b[0mTensor\u001b[0m\u001b[0;34m)\u001b[0m \u001b[0;34m->\u001b[0m \u001b[0mTensor\u001b[0m\u001b[0;34m:\u001b[0m\u001b[0;34m\u001b[0m\u001b[0;34m\u001b[0m\u001b[0m\n",
            "\u001b[0;31mRuntimeError\u001b[0m: Input type (torch.FloatTensor) and weight type (torch.cuda.HalfTensor) should be the same or input should be a MKLDNN tensor and weight is a dense tensor"
          ]
        }
      ]
    },
    {
      "cell_type": "markdown",
      "metadata": {
        "id": "UCyp-v3n4Zlt"
      },
      "source": [
        "The final WER should be around 0.3 which is reasonable given that state-of-the-art phoneme error rates (PER) are just below 0.1 (see [leaderboard](https://paperswithcode.com/sota/speech-recognition-on-timit)) and that WER is usually worse than PER.\n",
        "\n",
        "You can now upload the result of the training to the Hub, just execute this instruction:"
      ]
    },
    {
      "cell_type": "code",
      "metadata": {
        "id": "JYGQYBhHNsvj"
      },
      "source": [
        "trainer.push_to_hub()"
      ],
      "execution_count": null,
      "outputs": []
    },
    {
      "cell_type": "markdown",
      "metadata": {
        "id": "djzwS5WeNu16"
      },
      "source": [
        "You can now share this model with all your friends, family, favorite pets: they can all load it with the identifier \"your-username/the-name-you-picked\" so for instance:"
      ]
    },
    {
      "cell_type": "markdown",
      "metadata": {
        "id": "Adm0LngNNxq7"
      },
      "source": [
        "```python\n",
        "from transformers import AutoModelForCTC, Wav2Vec2Processor\n",
        "\n",
        "model = AutoModelForCTC.from_pretrained(\"patrickvonplaten/wav2vec2-base-timit-demo-colab\")\n",
        "processor = Wav2Vec2Processor.from_pretrained(\"patrickvonplaten/wav2vec2-base-timit-demo-colab\")\n",
        "```"
      ]
    },
    {
      "cell_type": "markdown",
      "metadata": {
        "id": "nD4XP5IHncsY"
      },
      "source": [
        "### Evaluate\n",
        "\n",
        "In the final part, we run our model on some of the validation data to get a feeling for how well it works.\n",
        "\n",
        "Let's load the `processor` and `model`."
      ]
    },
    {
      "cell_type": "code",
      "metadata": {
        "id": "-rg0USDCnbo6"
      },
      "source": [
        "processor = Wav2Vec2Processor.from_pretrained(\"patrickvonplaten/wav2vec2-base-timit-demo-colab\")"
      ],
      "execution_count": null,
      "outputs": []
    },
    {
      "cell_type": "code",
      "metadata": {
        "id": "sSpFW3pDn23P"
      },
      "source": [
        "model = Wav2Vec2ForCTC.from_pretrained(\"patrickvonplaten/wav2vec2-base-timit-demo-colab\")"
      ],
      "execution_count": null,
      "outputs": []
    },
    {
      "cell_type": "markdown",
      "metadata": {
        "id": "TUuZpB0v5jn_"
      },
      "source": [
        "Now, we will make use of the `map(...)` function to predict the transcription of every test sample and to save the prediction in the dataset itself. We will call the resulting dictionary `\"results\"`. \n",
        "\n",
        "**Note**: we evaluate the test data set with `batch_size=1` on purpose due to this [issue](https://github.com/pytorch/fairseq/issues/3227). Since padded inputs don't yield the exact same output as non-padded inputs, a better WER can be achieved by not padding the input at all."
      ]
    },
    {
      "cell_type": "code",
      "metadata": {
        "id": "40naJl53n7jT"
      },
      "source": [
        "def map_to_result(batch):\n",
        "  with torch.no_grad():\n",
        "    input_values = torch.tensor(batch[\"input_values\"], device=\"cuda\").unsqueeze(0)\n",
        "    logits = model(input_values).logits\n",
        "\n",
        "  pred_ids = torch.argmax(logits, dim=-1)\n",
        "  batch[\"pred_str\"] = processor.batch_decode(pred_ids)[0]\n",
        "  batch[\"text\"] = processor.decode(batch[\"labels\"], group_tokens=False)\n",
        "  \n",
        "  return batch"
      ],
      "execution_count": null,
      "outputs": []
    },
    {
      "cell_type": "code",
      "metadata": {
        "id": "uPqH7gZqrGPi"
      },
      "source": [
        "results = timit[\"test\"].map(map_to_result, remove_columns=timit[\"test\"].column_names)"
      ],
      "execution_count": null,
      "outputs": []
    },
    {
      "cell_type": "markdown",
      "metadata": {
        "id": "-mqpdB8R6rty"
      },
      "source": [
        "Let's compute the overall WER now."
      ]
    },
    {
      "cell_type": "code",
      "metadata": {
        "id": "PmqAb4Isx8OK"
      },
      "source": [
        "print(\"Test WER: {:.3f}\".format(wer_metric.compute(predictions=results[\"pred_str\"], references=results[\"text\"])))"
      ],
      "execution_count": null,
      "outputs": []
    },
    {
      "cell_type": "markdown",
      "metadata": {
        "id": "6Va94d8Y7Q98"
      },
      "source": [
        "22.1% WER - not bad! Our demo model would have probably made it on the official [leaderboard](https://paperswithcode.com/sota/speech-recognition-on-timit).\n",
        "\n",
        "Let's take a look at some predictions to see what errors are made by the model."
      ]
    },
    {
      "cell_type": "code",
      "metadata": {
        "id": "odNDiFVRy53w"
      },
      "source": [
        "show_random_elements(results)"
      ],
      "execution_count": null,
      "outputs": []
    },
    {
      "cell_type": "markdown",
      "metadata": {
        "id": "5HFCujhd9n4N"
      },
      "source": [
        "It becomes clear that the predicted transcriptions are acoustically very similar to the target transcriptions, but often contain spelling or grammatical errors. This shouldn't be very surprising though given that we purely rely on Wav2Vec2 without making use of a language model."
      ]
    },
    {
      "cell_type": "markdown",
      "metadata": {
        "id": "a3ydKvUl9FTK"
      },
      "source": [
        "Finally, to better understand how CTC works, it is worth taking a deeper look at the exact output of the model. Let's run the first test sample through the model, take the predicted ids and convert them to their corresponding tokens."
      ]
    },
    {
      "cell_type": "code",
      "metadata": {
        "id": "AqaM45t87uM4"
      },
      "source": [
        "model.to(\"cuda\")\n",
        "\n",
        "with torch.no_grad():\n",
        "  logits = model(torch.tensor(timit[\"test\"][:1][\"input_values\"], device=\"cuda\")).logits\n",
        "\n",
        "pred_ids = torch.argmax(logits, dim=-1)\n",
        "\n",
        "# convert ids to tokens\n",
        "\" \".join(processor.tokenizer.convert_ids_to_tokens(pred_ids[0].tolist()))"
      ],
      "execution_count": null,
      "outputs": []
    },
    {
      "cell_type": "markdown",
      "metadata": {
        "id": "tdO8E28g-n5C"
      },
      "source": [
        "The output should make it a bit clearer how CTC works in practice. The model is to some extent invariant to speaking rate since it has learned to either just repeat the same token in case the speech chunk to be classified still corresponds to the same token. This makes CTC a very powerful algorithm for speech recognition since the speech file's transcription is often very much independent of its length.\n",
        "\n",
        "I again advise the reader to take a look at [this](https://distill.pub/2017/ctc) very nice blog post to better understand CTC."
      ]
    }
  ]
}